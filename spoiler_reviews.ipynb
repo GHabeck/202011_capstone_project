{
 "cells": [
  {
   "cell_type": "markdown",
   "metadata": {},
   "source": [
    "# Spoiler reviews-Capstone"
   ]
  },
  {
   "cell_type": "markdown",
   "metadata": {},
   "source": [
    "authors: gregor Habeck and Julia Schaefer"
   ]
  },
  {
   "cell_type": "code",
   "execution_count": 3,
   "metadata": {},
   "outputs": [
    {
     "name": "stdout",
     "output_type": "stream",
     "text": [
      "Requirement already up-to-date: spacy in /opt/anaconda3/envs/nf/lib/python3.6/site-packages (2.3.2)\n",
      "Requirement already satisfied, skipping upgrade: blis<0.5.0,>=0.4.0 in /opt/anaconda3/envs/nf/lib/python3.6/site-packages (from spacy) (0.4.1)\n",
      "Requirement already satisfied, skipping upgrade: numpy>=1.15.0 in /opt/anaconda3/envs/nf/lib/python3.6/site-packages (from spacy) (1.16.6)\n",
      "Requirement already satisfied, skipping upgrade: requests<3.0.0,>=2.13.0 in /opt/anaconda3/envs/nf/lib/python3.6/site-packages (from spacy) (2.24.0)\n",
      "Requirement already satisfied, skipping upgrade: murmurhash<1.1.0,>=0.28.0 in /opt/anaconda3/envs/nf/lib/python3.6/site-packages (from spacy) (1.0.2)\n",
      "Requirement already satisfied, skipping upgrade: catalogue<1.1.0,>=0.0.7 in /opt/anaconda3/envs/nf/lib/python3.6/site-packages (from spacy) (1.0.0)\n",
      "Requirement already satisfied, skipping upgrade: wasabi<1.1.0,>=0.4.0 in /opt/anaconda3/envs/nf/lib/python3.6/site-packages (from spacy) (0.8.0)\n",
      "Requirement already satisfied, skipping upgrade: setuptools in /opt/anaconda3/envs/nf/lib/python3.6/site-packages (from spacy) (49.6.0.post20200814)\n",
      "Requirement already satisfied, skipping upgrade: preshed<3.1.0,>=3.0.2 in /opt/anaconda3/envs/nf/lib/python3.6/site-packages (from spacy) (3.0.2)\n",
      "Requirement already satisfied, skipping upgrade: tqdm<5.0.0,>=4.38.0 in /opt/anaconda3/envs/nf/lib/python3.6/site-packages (from spacy) (4.48.2)\n",
      "Requirement already satisfied, skipping upgrade: srsly<1.1.0,>=1.0.2 in /opt/anaconda3/envs/nf/lib/python3.6/site-packages (from spacy) (1.0.2)\n",
      "Requirement already satisfied, skipping upgrade: thinc==7.4.1 in /opt/anaconda3/envs/nf/lib/python3.6/site-packages (from spacy) (7.4.1)\n",
      "Requirement already satisfied, skipping upgrade: plac<1.2.0,>=0.9.6 in /opt/anaconda3/envs/nf/lib/python3.6/site-packages (from spacy) (1.1.3)\n",
      "Requirement already satisfied, skipping upgrade: cymem<2.1.0,>=2.0.2 in /opt/anaconda3/envs/nf/lib/python3.6/site-packages (from spacy) (2.0.3)\n",
      "Requirement already satisfied, skipping upgrade: chardet<4,>=3.0.2 in /opt/anaconda3/envs/nf/lib/python3.6/site-packages (from requests<3.0.0,>=2.13.0->spacy) (3.0.4)\n",
      "Requirement already satisfied, skipping upgrade: idna<3,>=2.5 in /opt/anaconda3/envs/nf/lib/python3.6/site-packages (from requests<3.0.0,>=2.13.0->spacy) (2.10)\n",
      "Requirement already satisfied, skipping upgrade: urllib3!=1.25.0,!=1.25.1,<1.26,>=1.21.1 in /opt/anaconda3/envs/nf/lib/python3.6/site-packages (from requests<3.0.0,>=2.13.0->spacy) (1.25.10)\n",
      "Requirement already satisfied, skipping upgrade: certifi>=2017.4.17 in /opt/anaconda3/envs/nf/lib/python3.6/site-packages (from requests<3.0.0,>=2.13.0->spacy) (2020.6.20)\n",
      "Requirement already satisfied, skipping upgrade: importlib-metadata>=0.20; python_version < \"3.8\" in /opt/anaconda3/envs/nf/lib/python3.6/site-packages (from catalogue<1.1.0,>=0.0.7->spacy) (1.7.0)\n",
      "Requirement already satisfied, skipping upgrade: zipp>=0.5 in /opt/anaconda3/envs/nf/lib/python3.6/site-packages (from importlib-metadata>=0.20; python_version < \"3.8\"->catalogue<1.1.0,>=0.0.7->spacy) (3.1.0)\n",
      "\u001b[31mERROR: Could not find a version that satisfies the requirement spacy-lokups-data (from versions: none)\u001b[0m\n",
      "\u001b[31mERROR: No matching distribution found for spacy-lokups-data\u001b[0m\n"
     ]
    }
   ],
   "source": [
    "#install modules\n",
    "#!pip install -U nltk\n",
    "#!pip install -U Unidecode\n",
    "#!pip install wordcloud\n",
    "!pip install -U spacy\n",
    "!pip install -U spacy-lokups-data\n",
    "#!python -m spacy download en_core_web_sm\n",
    "#!pip install tqdm\n",
    "#download spacy language model\n"
   ]
  },
  {
   "cell_type": "code",
   "execution_count": null,
   "metadata": {},
   "outputs": [],
   "source": []
  },
  {
   "cell_type": "code",
   "execution_count": 166,
   "metadata": {},
   "outputs": [],
   "source": [
    "# import modules for data import and editing\n",
    "import json\n",
    "import pandas as pd\n",
    "import gzip\n",
    "import numpy as np\n",
    "from collections import defaultdict, Counter\n",
    "from tqdm import tqdm\n",
    "import time\n",
    "import operator\n",
    "\n",
    "# import modules for plotting\n",
    "import matplotlib.pyplot as plt\n",
    "import seaborn as sns\n",
    "\n",
    "#import modules for text analysis\n",
    "import pkg_resources\n",
    "import re\n",
    "import spacy\n",
    "import string\n",
    "import nltk\n",
    "from unidecode import unidecode\n",
    "from wordcloud import WordCloud, STOPWORDS, ImageColorGenerator\n",
    "\n",
    "pd.set_option(\"display.max_columns\", None)"
   ]
  },
  {
   "cell_type": "code",
   "execution_count": 12,
   "metadata": {},
   "outputs": [],
   "source": [
    "def import_json_gz(file,limit = 1000000):\n",
    "    '''\n",
    "    Function opens and loads a gziped json file and returns a selected number of rows from that file in tabular form.\n",
    "    Max number of entries: 1 million\n",
    "    Returns: Pandas Dataframe\n",
    "    '''\n",
    "    if limit > 1000000:\n",
    "        return 'Sorry, your limit is to high. Please choose a number <= 1000000'\n",
    "    data = []\n",
    "    count = 0\n",
    "    with gzip.open(file) as f:\n",
    "        for l in tqdm(f):\n",
    "            data_dict = json.loads(l.strip())\n",
    "            data.append(data_dict)\n",
    "            count += 1\n",
    "            if count == limit:\n",
    "                break\n",
    "    return pd.DataFrame(data)"
   ]
  },
  {
   "cell_type": "code",
   "execution_count": 13,
   "metadata": {},
   "outputs": [],
   "source": [
    "# to load the entire dataframe\n",
    "def import_json_gz2(file):\n",
    "    '''\n",
    "    Function opens and loads a gziped json file. Use only for files smaller than 1 GB.\n",
    "    Max number of entries: 1 million\n",
    "    Returns: Pandas Dataframe\n",
    "    '''\n",
    "    data = []\n",
    "    with gzip.open(file) as f:\n",
    "        for l in tqdm(f):\n",
    "            data_dict = json.loads(l.strip())\n",
    "            data.append(data_dict)\n",
    "    return pd.DataFrame(data)"
   ]
  },
  {
   "cell_type": "code",
   "execution_count": 14,
   "metadata": {},
   "outputs": [],
   "source": [
    "# files that will be used\n",
    "# file_meta contains meta data for books\n",
    "file_meta = 'goodreads_books_meta.json.gz'\n",
    "# file_review contains review texts and additional information\n",
    "file_reviews = 'goodreads_reviews_spoiler.json.gz'\n",
    "# file_genre contains genre of books\n",
    "file_genre = 'goodreads_book_genres_initial.json.gz'"
   ]
  },
  {
   "cell_type": "code",
   "execution_count": 15,
   "metadata": {},
   "outputs": [
    {
     "name": "stderr",
     "output_type": "stream",
     "text": [
      "9999it [00:01, 5822.26it/s]\n"
     ]
    }
   ],
   "source": [
    "#load a subset of the books meta data to get an idea of what features to extract\n",
    "df_meta = import_json_gz(file_meta, 10000)"
   ]
  },
  {
   "cell_type": "code",
   "execution_count": 16,
   "metadata": {},
   "outputs": [
    {
     "data": {
      "text/html": [
       "<div>\n",
       "<style scoped>\n",
       "    .dataframe tbody tr th:only-of-type {\n",
       "        vertical-align: middle;\n",
       "    }\n",
       "\n",
       "    .dataframe tbody tr th {\n",
       "        vertical-align: top;\n",
       "    }\n",
       "\n",
       "    .dataframe thead th {\n",
       "        text-align: right;\n",
       "    }\n",
       "</style>\n",
       "<table border=\"1\" class=\"dataframe\">\n",
       "  <thead>\n",
       "    <tr style=\"text-align: right;\">\n",
       "      <th></th>\n",
       "      <th>asin</th>\n",
       "      <th>authors</th>\n",
       "      <th>average_rating</th>\n",
       "      <th>book_id</th>\n",
       "      <th>country_code</th>\n",
       "      <th>description</th>\n",
       "      <th>edition_information</th>\n",
       "      <th>format</th>\n",
       "      <th>image_url</th>\n",
       "      <th>is_ebook</th>\n",
       "      <th>isbn</th>\n",
       "      <th>isbn13</th>\n",
       "      <th>kindle_asin</th>\n",
       "      <th>language_code</th>\n",
       "      <th>link</th>\n",
       "      <th>num_pages</th>\n",
       "      <th>popular_shelves</th>\n",
       "      <th>publication_day</th>\n",
       "      <th>publication_month</th>\n",
       "      <th>publication_year</th>\n",
       "      <th>publisher</th>\n",
       "      <th>ratings_count</th>\n",
       "      <th>series</th>\n",
       "      <th>similar_books</th>\n",
       "      <th>text_reviews_count</th>\n",
       "      <th>title</th>\n",
       "      <th>title_without_series</th>\n",
       "      <th>url</th>\n",
       "      <th>work_id</th>\n",
       "    </tr>\n",
       "  </thead>\n",
       "  <tbody>\n",
       "    <tr>\n",
       "      <th>0</th>\n",
       "      <td></td>\n",
       "      <td>[{'author_id': '604031', 'role': ''}]</td>\n",
       "      <td>4.00</td>\n",
       "      <td>5333265</td>\n",
       "      <td>US</td>\n",
       "      <td></td>\n",
       "      <td></td>\n",
       "      <td>Paperback</td>\n",
       "      <td>https://images.gr-assets.com/books/1310220028m...</td>\n",
       "      <td>false</td>\n",
       "      <td>0312853122</td>\n",
       "      <td>9780312853129</td>\n",
       "      <td></td>\n",
       "      <td></td>\n",
       "      <td>https://www.goodreads.com/book/show/5333265-w-...</td>\n",
       "      <td>256</td>\n",
       "      <td>[{'count': '3', 'name': 'to-read'}, {'count': ...</td>\n",
       "      <td>1</td>\n",
       "      <td>9</td>\n",
       "      <td>1984</td>\n",
       "      <td>St. Martin's Press</td>\n",
       "      <td>3</td>\n",
       "      <td>[]</td>\n",
       "      <td>[]</td>\n",
       "      <td>1</td>\n",
       "      <td>W.C. Fields: A Life on Film</td>\n",
       "      <td>W.C. Fields: A Life on Film</td>\n",
       "      <td>https://www.goodreads.com/book/show/5333265-w-...</td>\n",
       "      <td>5400751</td>\n",
       "    </tr>\n",
       "    <tr>\n",
       "      <th>1</th>\n",
       "      <td></td>\n",
       "      <td>[{'author_id': '626222', 'role': ''}]</td>\n",
       "      <td>3.23</td>\n",
       "      <td>1333909</td>\n",
       "      <td>US</td>\n",
       "      <td>Anita Diamant's international bestseller \"The ...</td>\n",
       "      <td>Abridged</td>\n",
       "      <td>Audio CD</td>\n",
       "      <td>https://s.gr-assets.com/assets/nophoto/book/11...</td>\n",
       "      <td>false</td>\n",
       "      <td>0743509986</td>\n",
       "      <td>9780743509985</td>\n",
       "      <td>B000FC0PBC</td>\n",
       "      <td></td>\n",
       "      <td>https://www.goodreads.com/book/show/1333909.Go...</td>\n",
       "      <td></td>\n",
       "      <td>[{'count': '2634', 'name': 'to-read'}, {'count...</td>\n",
       "      <td>1</td>\n",
       "      <td>10</td>\n",
       "      <td>2001</td>\n",
       "      <td>Simon &amp; Schuster Audio</td>\n",
       "      <td>10</td>\n",
       "      <td>[]</td>\n",
       "      <td>[8709549, 17074050, 28937, 158816, 228563, 112...</td>\n",
       "      <td>6</td>\n",
       "      <td>Good Harbor</td>\n",
       "      <td>Good Harbor</td>\n",
       "      <td>https://www.goodreads.com/book/show/1333909.Go...</td>\n",
       "      <td>1323437</td>\n",
       "    </tr>\n",
       "    <tr>\n",
       "      <th>2</th>\n",
       "      <td>B00071IKUY</td>\n",
       "      <td>[{'author_id': '10333', 'role': ''}]</td>\n",
       "      <td>4.03</td>\n",
       "      <td>7327624</td>\n",
       "      <td>US</td>\n",
       "      <td>Omnibus book club edition containing the Ladie...</td>\n",
       "      <td>Book Club Edition</td>\n",
       "      <td>Hardcover</td>\n",
       "      <td>https://images.gr-assets.com/books/1304100136m...</td>\n",
       "      <td>false</td>\n",
       "      <td></td>\n",
       "      <td></td>\n",
       "      <td></td>\n",
       "      <td>eng</td>\n",
       "      <td>https://www.goodreads.com/book/show/7327624-th...</td>\n",
       "      <td>600</td>\n",
       "      <td>[{'count': '58', 'name': 'to-read'}, {'count':...</td>\n",
       "      <td></td>\n",
       "      <td></td>\n",
       "      <td>1987</td>\n",
       "      <td>Nelson Doubleday, Inc.</td>\n",
       "      <td>140</td>\n",
       "      <td>[189911]</td>\n",
       "      <td>[19997, 828466, 1569323, 425389, 1176674, 2627...</td>\n",
       "      <td>7</td>\n",
       "      <td>The Unschooled Wizard (Sun Wolf and Starhawk, ...</td>\n",
       "      <td>The Unschooled Wizard (Sun Wolf and Starhawk, ...</td>\n",
       "      <td>https://www.goodreads.com/book/show/7327624-th...</td>\n",
       "      <td>8948723</td>\n",
       "    </tr>\n",
       "    <tr>\n",
       "      <th>3</th>\n",
       "      <td></td>\n",
       "      <td>[{'author_id': '9212', 'role': ''}]</td>\n",
       "      <td>3.49</td>\n",
       "      <td>6066819</td>\n",
       "      <td>US</td>\n",
       "      <td>Addie Downs and Valerie Adler were eight when ...</td>\n",
       "      <td></td>\n",
       "      <td>Hardcover</td>\n",
       "      <td>https://s.gr-assets.com/assets/nophoto/book/11...</td>\n",
       "      <td>false</td>\n",
       "      <td>0743294297</td>\n",
       "      <td>9780743294294</td>\n",
       "      <td>B002ENBLOK</td>\n",
       "      <td>eng</td>\n",
       "      <td>https://www.goodreads.com/book/show/6066819-be...</td>\n",
       "      <td>368</td>\n",
       "      <td>[{'count': '7615', 'name': 'to-read'}, {'count...</td>\n",
       "      <td>14</td>\n",
       "      <td>7</td>\n",
       "      <td>2009</td>\n",
       "      <td>Atria Books</td>\n",
       "      <td>51184</td>\n",
       "      <td>[]</td>\n",
       "      <td>[6604176, 6054190, 2285777, 82641, 7569453, 70...</td>\n",
       "      <td>3282</td>\n",
       "      <td>Best Friends Forever</td>\n",
       "      <td>Best Friends Forever</td>\n",
       "      <td>https://www.goodreads.com/book/show/6066819-be...</td>\n",
       "      <td>6243154</td>\n",
       "    </tr>\n",
       "    <tr>\n",
       "      <th>4</th>\n",
       "      <td></td>\n",
       "      <td>[{'author_id': '149918', 'role': ''}]</td>\n",
       "      <td>3.40</td>\n",
       "      <td>287140</td>\n",
       "      <td>US</td>\n",
       "      <td></td>\n",
       "      <td></td>\n",
       "      <td></td>\n",
       "      <td>https://images.gr-assets.com/books/1413219371m...</td>\n",
       "      <td>false</td>\n",
       "      <td>0850308712</td>\n",
       "      <td>9780850308716</td>\n",
       "      <td></td>\n",
       "      <td></td>\n",
       "      <td>https://www.goodreads.com/book/show/287140.Run...</td>\n",
       "      <td></td>\n",
       "      <td>[{'count': '32', 'name': 'to-read'}, {'count':...</td>\n",
       "      <td></td>\n",
       "      <td></td>\n",
       "      <td></td>\n",
       "      <td></td>\n",
       "      <td>15</td>\n",
       "      <td>[]</td>\n",
       "      <td>[]</td>\n",
       "      <td>5</td>\n",
       "      <td>Runic Astrology: Starcraft and Timekeeping in ...</td>\n",
       "      <td>Runic Astrology: Starcraft and Timekeeping in ...</td>\n",
       "      <td>https://www.goodreads.com/book/show/287140.Run...</td>\n",
       "      <td>278577</td>\n",
       "    </tr>\n",
       "  </tbody>\n",
       "</table>\n",
       "</div>"
      ],
      "text/plain": [
       "         asin                                authors average_rating  book_id  \\\n",
       "0              [{'author_id': '604031', 'role': ''}]           4.00  5333265   \n",
       "1              [{'author_id': '626222', 'role': ''}]           3.23  1333909   \n",
       "2  B00071IKUY   [{'author_id': '10333', 'role': ''}]           4.03  7327624   \n",
       "3                [{'author_id': '9212', 'role': ''}]           3.49  6066819   \n",
       "4              [{'author_id': '149918', 'role': ''}]           3.40   287140   \n",
       "\n",
       "  country_code                                        description  \\\n",
       "0           US                                                      \n",
       "1           US  Anita Diamant's international bestseller \"The ...   \n",
       "2           US  Omnibus book club edition containing the Ladie...   \n",
       "3           US  Addie Downs and Valerie Adler were eight when ...   \n",
       "4           US                                                      \n",
       "\n",
       "  edition_information     format  \\\n",
       "0                      Paperback   \n",
       "1            Abridged   Audio CD   \n",
       "2   Book Club Edition  Hardcover   \n",
       "3                      Hardcover   \n",
       "4                                  \n",
       "\n",
       "                                           image_url is_ebook        isbn  \\\n",
       "0  https://images.gr-assets.com/books/1310220028m...    false  0312853122   \n",
       "1  https://s.gr-assets.com/assets/nophoto/book/11...    false  0743509986   \n",
       "2  https://images.gr-assets.com/books/1304100136m...    false               \n",
       "3  https://s.gr-assets.com/assets/nophoto/book/11...    false  0743294297   \n",
       "4  https://images.gr-assets.com/books/1413219371m...    false  0850308712   \n",
       "\n",
       "          isbn13 kindle_asin language_code  \\\n",
       "0  9780312853129                             \n",
       "1  9780743509985  B000FC0PBC                 \n",
       "2                                      eng   \n",
       "3  9780743294294  B002ENBLOK           eng   \n",
       "4  9780850308716                             \n",
       "\n",
       "                                                link num_pages  \\\n",
       "0  https://www.goodreads.com/book/show/5333265-w-...       256   \n",
       "1  https://www.goodreads.com/book/show/1333909.Go...             \n",
       "2  https://www.goodreads.com/book/show/7327624-th...       600   \n",
       "3  https://www.goodreads.com/book/show/6066819-be...       368   \n",
       "4  https://www.goodreads.com/book/show/287140.Run...             \n",
       "\n",
       "                                     popular_shelves publication_day  \\\n",
       "0  [{'count': '3', 'name': 'to-read'}, {'count': ...               1   \n",
       "1  [{'count': '2634', 'name': 'to-read'}, {'count...               1   \n",
       "2  [{'count': '58', 'name': 'to-read'}, {'count':...                   \n",
       "3  [{'count': '7615', 'name': 'to-read'}, {'count...              14   \n",
       "4  [{'count': '32', 'name': 'to-read'}, {'count':...                   \n",
       "\n",
       "  publication_month publication_year               publisher ratings_count  \\\n",
       "0                 9             1984      St. Martin's Press             3   \n",
       "1                10             2001  Simon & Schuster Audio            10   \n",
       "2                               1987  Nelson Doubleday, Inc.           140   \n",
       "3                 7             2009             Atria Books         51184   \n",
       "4                                                                       15   \n",
       "\n",
       "     series                                      similar_books  \\\n",
       "0        []                                                 []   \n",
       "1        []  [8709549, 17074050, 28937, 158816, 228563, 112...   \n",
       "2  [189911]  [19997, 828466, 1569323, 425389, 1176674, 2627...   \n",
       "3        []  [6604176, 6054190, 2285777, 82641, 7569453, 70...   \n",
       "4        []                                                 []   \n",
       "\n",
       "  text_reviews_count                                              title  \\\n",
       "0                  1                        W.C. Fields: A Life on Film   \n",
       "1                  6                                        Good Harbor   \n",
       "2                  7  The Unschooled Wizard (Sun Wolf and Starhawk, ...   \n",
       "3               3282                               Best Friends Forever   \n",
       "4                  5  Runic Astrology: Starcraft and Timekeeping in ...   \n",
       "\n",
       "                                title_without_series  \\\n",
       "0                        W.C. Fields: A Life on Film   \n",
       "1                                        Good Harbor   \n",
       "2  The Unschooled Wizard (Sun Wolf and Starhawk, ...   \n",
       "3                               Best Friends Forever   \n",
       "4  Runic Astrology: Starcraft and Timekeeping in ...   \n",
       "\n",
       "                                                 url  work_id  \n",
       "0  https://www.goodreads.com/book/show/5333265-w-...  5400751  \n",
       "1  https://www.goodreads.com/book/show/1333909.Go...  1323437  \n",
       "2  https://www.goodreads.com/book/show/7327624-th...  8948723  \n",
       "3  https://www.goodreads.com/book/show/6066819-be...  6243154  \n",
       "4  https://www.goodreads.com/book/show/287140.Run...   278577  "
      ]
     },
     "execution_count": 16,
     "metadata": {},
     "output_type": "execute_result"
    }
   ],
   "source": [
    "df_meta.head()"
   ]
  },
  {
   "cell_type": "markdown",
   "metadata": {},
   "source": [
    "We consider the following features as usful for EDA and feature engineering:  \n",
    "    * book_id  \n",
    "    * title  \n",
    "    * description  \n",
    "    * publication_year, publication_month, publication_day  \n",
    "    * average_rating  \n",
    "    * ratings_count  \n",
    "    * num_pages  "
   ]
  },
  {
   "cell_type": "code",
   "execution_count": 17,
   "metadata": {},
   "outputs": [],
   "source": [
    "def check_features(features, dataset):\n",
    "    '''\n",
    "    simple way to check if selected features are in a dataset\n",
    "    '''\n",
    "    for f in features:\n",
    "        if f not in dataset.columns:\n",
    "            return f'{f} is not a valid column name'\n",
    "    return 'Good to go!'"
   ]
  },
  {
   "cell_type": "code",
   "execution_count": 18,
   "metadata": {},
   "outputs": [],
   "source": [
    "#generator to open json.gzip files\n",
    "# yields single lines\n",
    "def get_book(file):\n",
    "    '''\n",
    "    Generator will yield lines of the passed file\n",
    "    '''\n",
    "    with gzip.open(file, 'r') as f:\n",
    "        for l in f:\n",
    "            yield l\n",
    "\n",
    "# fetch features\n",
    "def fetch_features(file, features, book_list):\n",
    "    '''\n",
    "    Provide a list of features you want to extract in a single run.\n",
    "    Returns a dictionary.\n",
    "    \n",
    "    File: json.gzip file you want to scan\n",
    "    \n",
    "    Features: features to extract\n",
    "    \n",
    "    book_list: set of book_ids\n",
    "    '''\n",
    "    \n",
    "    feature_dict = defaultdict(list)    \n",
    "    books = get_book(file)\n",
    "    \n",
    "    for book in tqdm(books):\n",
    "        book_dict = json.loads(book)\n",
    "        book_id = book_dict.get('book_id')\n",
    "        \n",
    "        try:\n",
    "            if book_id in book_list:\n",
    "                for f in features:\n",
    "                    feature_dict[f].append(book_dict.get(f))\n",
    "        except: \n",
    "            pass\n",
    "        \n",
    "    return feature_dict"
   ]
  },
  {
   "cell_type": "code",
   "execution_count": 19,
   "metadata": {},
   "outputs": [],
   "source": [
    "def fetch_one_feature(file, f):\n",
    "    '''\n",
    "    Provide a list of features you want to extract in a single run.\n",
    "    Returns a list.\n",
    "    '''\n",
    "    \n",
    "    feature = []\n",
    "    books = get_book(file)\n",
    "    \n",
    "    for book in tqdm(books):\n",
    "        book_dict = json.loads(book)\n",
    "        feature.append(book_dict.get(f))\n",
    "    \n",
    "    return feature"
   ]
  },
  {
   "cell_type": "code",
   "execution_count": 20,
   "metadata": {},
   "outputs": [
    {
     "name": "stderr",
     "output_type": "stream",
     "text": [
      "1378033it [00:40, 33908.06it/s]\n"
     ]
    },
    {
     "name": "stdout",
     "output_type": "stream",
     "text": [
      "Number of reviews: 1378033\n",
      "The dataset contains reviews for 25475 books.\n"
     ]
    }
   ],
   "source": [
    "book_ids =fetch_one_feature(file_reviews, 'book_id')\n",
    "book_ids_unique = book_ids\n",
    "print(f'Number of reviews: {len(book_ids)}')\n",
    "book_ids=set(book_ids)\n",
    "print(f'The dataset contains reviews for {len(book_ids)} books.')"
   ]
  },
  {
   "cell_type": "code",
   "execution_count": 21,
   "metadata": {},
   "outputs": [
    {
     "data": {
      "text/plain": [
       "'Good to go!'"
      ]
     },
     "execution_count": 21,
     "metadata": {},
     "output_type": "execute_result"
    }
   ],
   "source": [
    "# get book ids from review file\n",
    "# features: list containing features we want to extract from the book-meta data file\n",
    "features = ['book_id', 'title', 'description', 'publication_year', 'publication_month', \n",
    "            'publication_day', 'average_rating', 'ratings_count', 'num_pages']\n",
    "check_features(features, df_meta)"
   ]
  },
  {
   "cell_type": "code",
   "execution_count": 22,
   "metadata": {},
   "outputs": [
    {
     "name": "stderr",
     "output_type": "stream",
     "text": [
      "2360655it [03:29, 11247.11it/s]\n"
     ]
    }
   ],
   "source": [
    "book_meta_features = pd.DataFrame.from_dict(fetch_features(file_meta, features, book_ids))"
   ]
  },
  {
   "cell_type": "code",
   "execution_count": 23,
   "metadata": {},
   "outputs": [
    {
     "data": {
      "text/html": [
       "<div>\n",
       "<style scoped>\n",
       "    .dataframe tbody tr th:only-of-type {\n",
       "        vertical-align: middle;\n",
       "    }\n",
       "\n",
       "    .dataframe tbody tr th {\n",
       "        vertical-align: top;\n",
       "    }\n",
       "\n",
       "    .dataframe thead th {\n",
       "        text-align: right;\n",
       "    }\n",
       "</style>\n",
       "<table border=\"1\" class=\"dataframe\">\n",
       "  <thead>\n",
       "    <tr style=\"text-align: right;\">\n",
       "      <th></th>\n",
       "      <th>book_id</th>\n",
       "      <th>title</th>\n",
       "      <th>description</th>\n",
       "      <th>publication_year</th>\n",
       "      <th>publication_month</th>\n",
       "      <th>publication_day</th>\n",
       "      <th>average_rating</th>\n",
       "      <th>ratings_count</th>\n",
       "      <th>num_pages</th>\n",
       "    </tr>\n",
       "  </thead>\n",
       "  <tbody>\n",
       "    <tr>\n",
       "      <th>0</th>\n",
       "      <td>22642971</td>\n",
       "      <td>The Body Electric</td>\n",
       "      <td>The future world is at peace.\\nElla Shepherd h...</td>\n",
       "      <td>2014</td>\n",
       "      <td>10</td>\n",
       "      <td>6</td>\n",
       "      <td>3.71</td>\n",
       "      <td>1525</td>\n",
       "      <td>351</td>\n",
       "    </tr>\n",
       "    <tr>\n",
       "      <th>1</th>\n",
       "      <td>32336119</td>\n",
       "      <td>Worth the Wait (Guthrie Brothers #2)</td>\n",
       "      <td>Ready or not...love will find a way \\nSingle d...</td>\n",
       "      <td>2017</td>\n",
       "      <td>7</td>\n",
       "      <td>25</td>\n",
       "      <td>4.19</td>\n",
       "      <td>693</td>\n",
       "      <td>384</td>\n",
       "    </tr>\n",
       "    <tr>\n",
       "      <th>2</th>\n",
       "      <td>2741853</td>\n",
       "      <td>Slow Hands</td>\n",
       "      <td>This is Maddy Turner's lucky day. The civilize...</td>\n",
       "      <td>2008</td>\n",
       "      <td>6</td>\n",
       "      <td>1</td>\n",
       "      <td>3.41</td>\n",
       "      <td>3852</td>\n",
       "      <td>210</td>\n",
       "    </tr>\n",
       "    <tr>\n",
       "      <th>3</th>\n",
       "      <td>12077902</td>\n",
       "      <td>Solaris: The Definitive Edition</td>\n",
       "      <td>A classic work of science fiction by renowned ...</td>\n",
       "      <td>2011</td>\n",
       "      <td>6</td>\n",
       "      <td>7</td>\n",
       "      <td>3.98</td>\n",
       "      <td>252</td>\n",
       "      <td>8</td>\n",
       "    </tr>\n",
       "    <tr>\n",
       "      <th>4</th>\n",
       "      <td>7843586</td>\n",
       "      <td>More (More, #1)</td>\n",
       "      <td>After a series of explosive encounters with tw...</td>\n",
       "      <td>2010</td>\n",
       "      <td>3</td>\n",
       "      <td>23</td>\n",
       "      <td>3.88</td>\n",
       "      <td>1675</td>\n",
       "      <td>245</td>\n",
       "    </tr>\n",
       "    <tr>\n",
       "      <th>5</th>\n",
       "      <td>18663972</td>\n",
       "      <td>Fortune's Pawn (Paradox, #1)</td>\n",
       "      <td>When professional mercenary Deviana Morris too...</td>\n",
       "      <td></td>\n",
       "      <td></td>\n",
       "      <td></td>\n",
       "      <td>3.96</td>\n",
       "      <td>1023</td>\n",
       "      <td>340</td>\n",
       "    </tr>\n",
       "    <tr>\n",
       "      <th>6</th>\n",
       "      <td>25501128</td>\n",
       "      <td>Kept from You (Tear Asunder, #4)</td>\n",
       "      <td>A sexy second-chance romance from New York Tim...</td>\n",
       "      <td>2017</td>\n",
       "      <td>3</td>\n",
       "      <td>5</td>\n",
       "      <td>4.36</td>\n",
       "      <td>1759</td>\n",
       "      <td></td>\n",
       "    </tr>\n",
       "    <tr>\n",
       "      <th>7</th>\n",
       "      <td>10806009</td>\n",
       "      <td>The Storyteller</td>\n",
       "      <td>A good girl.\\nA bad boy.\\nA fairy tale that's ...</td>\n",
       "      <td>2012</td>\n",
       "      <td>1</td>\n",
       "      <td>1</td>\n",
       "      <td>4.10</td>\n",
       "      <td>289</td>\n",
       "      <td>402</td>\n",
       "    </tr>\n",
       "    <tr>\n",
       "      <th>8</th>\n",
       "      <td>10806008</td>\n",
       "      <td>Peter Nimble and His Fantastic Eyes (Peter Nim...</td>\n",
       "      <td>Peter Nimble and His Fantastic Eyesis the utte...</td>\n",
       "      <td>2011</td>\n",
       "      <td>8</td>\n",
       "      <td>1</td>\n",
       "      <td>4.04</td>\n",
       "      <td>6049</td>\n",
       "      <td>400</td>\n",
       "    </tr>\n",
       "    <tr>\n",
       "      <th>9</th>\n",
       "      <td>9469517</td>\n",
       "      <td>Mercy</td>\n",
       "      <td></td>\n",
       "      <td>2009</td>\n",
       "      <td>2</td>\n",
       "      <td>1</td>\n",
       "      <td>3.64</td>\n",
       "      <td>3559</td>\n",
       "      <td>226</td>\n",
       "    </tr>\n",
       "  </tbody>\n",
       "</table>\n",
       "</div>"
      ],
      "text/plain": [
       "    book_id                                              title  \\\n",
       "0  22642971                                  The Body Electric   \n",
       "1  32336119               Worth the Wait (Guthrie Brothers #2)   \n",
       "2   2741853                                         Slow Hands   \n",
       "3  12077902                    Solaris: The Definitive Edition   \n",
       "4   7843586                                    More (More, #1)   \n",
       "5  18663972                       Fortune's Pawn (Paradox, #1)   \n",
       "6  25501128                   Kept from You (Tear Asunder, #4)   \n",
       "7  10806009                                    The Storyteller   \n",
       "8  10806008  Peter Nimble and His Fantastic Eyes (Peter Nim...   \n",
       "9   9469517                                              Mercy   \n",
       "\n",
       "                                         description publication_year  \\\n",
       "0  The future world is at peace.\\nElla Shepherd h...             2014   \n",
       "1  Ready or not...love will find a way \\nSingle d...             2017   \n",
       "2  This is Maddy Turner's lucky day. The civilize...             2008   \n",
       "3  A classic work of science fiction by renowned ...             2011   \n",
       "4  After a series of explosive encounters with tw...             2010   \n",
       "5  When professional mercenary Deviana Morris too...                    \n",
       "6  A sexy second-chance romance from New York Tim...             2017   \n",
       "7  A good girl.\\nA bad boy.\\nA fairy tale that's ...             2012   \n",
       "8  Peter Nimble and His Fantastic Eyesis the utte...             2011   \n",
       "9                                                                2009   \n",
       "\n",
       "  publication_month publication_day average_rating ratings_count num_pages  \n",
       "0                10               6           3.71          1525       351  \n",
       "1                 7              25           4.19           693       384  \n",
       "2                 6               1           3.41          3852       210  \n",
       "3                 6               7           3.98           252         8  \n",
       "4                 3              23           3.88          1675       245  \n",
       "5                                             3.96          1023       340  \n",
       "6                 3               5           4.36          1759            \n",
       "7                 1               1           4.10           289       402  \n",
       "8                 8               1           4.04          6049       400  \n",
       "9                 2               1           3.64          3559       226  "
      ]
     },
     "execution_count": 23,
     "metadata": {},
     "output_type": "execute_result"
    }
   ],
   "source": [
    "book_meta_features.head(10)"
   ]
  },
  {
   "cell_type": "code",
   "execution_count": 24,
   "metadata": {},
   "outputs": [
    {
     "data": {
      "text/plain": [
       "(25475, 9)"
      ]
     },
     "execution_count": 24,
     "metadata": {},
     "output_type": "execute_result"
    }
   ],
   "source": [
    "book_meta_features.shape"
   ]
  },
  {
   "cell_type": "code",
   "execution_count": 25,
   "metadata": {},
   "outputs": [
    {
     "data": {
      "text/plain": [
       "book_id              0\n",
       "title                0\n",
       "description          0\n",
       "publication_year     0\n",
       "publication_month    0\n",
       "publication_day      0\n",
       "average_rating       0\n",
       "ratings_count        0\n",
       "num_pages            0\n",
       "dtype: int64"
      ]
     },
     "execution_count": 25,
     "metadata": {},
     "output_type": "execute_result"
    }
   ],
   "source": [
    "book_meta_features.isna().sum()"
   ]
  },
  {
   "cell_type": "markdown",
   "metadata": {},
   "source": [
    "Going back to data source, we figured out that missing values are empty strings (''). We will use the replace function to replace missing values with np.nan."
   ]
  },
  {
   "cell_type": "code",
   "execution_count": 26,
   "metadata": {},
   "outputs": [
    {
     "data": {
      "text/html": [
       "<div>\n",
       "<style scoped>\n",
       "    .dataframe tbody tr th:only-of-type {\n",
       "        vertical-align: middle;\n",
       "    }\n",
       "\n",
       "    .dataframe tbody tr th {\n",
       "        vertical-align: top;\n",
       "    }\n",
       "\n",
       "    .dataframe thead th {\n",
       "        text-align: right;\n",
       "    }\n",
       "</style>\n",
       "<table border=\"1\" class=\"dataframe\">\n",
       "  <thead>\n",
       "    <tr style=\"text-align: right;\">\n",
       "      <th></th>\n",
       "      <th>book_id</th>\n",
       "      <th>title</th>\n",
       "      <th>description</th>\n",
       "      <th>publication_year</th>\n",
       "      <th>publication_month</th>\n",
       "      <th>publication_day</th>\n",
       "      <th>average_rating</th>\n",
       "      <th>ratings_count</th>\n",
       "      <th>num_pages</th>\n",
       "    </tr>\n",
       "  </thead>\n",
       "  <tbody>\n",
       "    <tr>\n",
       "      <th>0</th>\n",
       "      <td>22642971</td>\n",
       "      <td>The Body Electric</td>\n",
       "      <td>The future world is at peace.\\nElla Shepherd h...</td>\n",
       "      <td>2014</td>\n",
       "      <td>10</td>\n",
       "      <td>6</td>\n",
       "      <td>3.71</td>\n",
       "      <td>1525</td>\n",
       "      <td>351</td>\n",
       "    </tr>\n",
       "    <tr>\n",
       "      <th>1</th>\n",
       "      <td>32336119</td>\n",
       "      <td>Worth the Wait (Guthrie Brothers #2)</td>\n",
       "      <td>Ready or not...love will find a way \\nSingle d...</td>\n",
       "      <td>2017</td>\n",
       "      <td>7</td>\n",
       "      <td>25</td>\n",
       "      <td>4.19</td>\n",
       "      <td>693</td>\n",
       "      <td>384</td>\n",
       "    </tr>\n",
       "    <tr>\n",
       "      <th>2</th>\n",
       "      <td>2741853</td>\n",
       "      <td>Slow Hands</td>\n",
       "      <td>This is Maddy Turner's lucky day. The civilize...</td>\n",
       "      <td>2008</td>\n",
       "      <td>6</td>\n",
       "      <td>1</td>\n",
       "      <td>3.41</td>\n",
       "      <td>3852</td>\n",
       "      <td>210</td>\n",
       "    </tr>\n",
       "    <tr>\n",
       "      <th>3</th>\n",
       "      <td>12077902</td>\n",
       "      <td>Solaris: The Definitive Edition</td>\n",
       "      <td>A classic work of science fiction by renowned ...</td>\n",
       "      <td>2011</td>\n",
       "      <td>6</td>\n",
       "      <td>7</td>\n",
       "      <td>3.98</td>\n",
       "      <td>252</td>\n",
       "      <td>8</td>\n",
       "    </tr>\n",
       "    <tr>\n",
       "      <th>4</th>\n",
       "      <td>7843586</td>\n",
       "      <td>More (More, #1)</td>\n",
       "      <td>After a series of explosive encounters with tw...</td>\n",
       "      <td>2010</td>\n",
       "      <td>3</td>\n",
       "      <td>23</td>\n",
       "      <td>3.88</td>\n",
       "      <td>1675</td>\n",
       "      <td>245</td>\n",
       "    </tr>\n",
       "    <tr>\n",
       "      <th>5</th>\n",
       "      <td>18663972</td>\n",
       "      <td>Fortune's Pawn (Paradox, #1)</td>\n",
       "      <td>When professional mercenary Deviana Morris too...</td>\n",
       "      <td>NaN</td>\n",
       "      <td>NaN</td>\n",
       "      <td>NaN</td>\n",
       "      <td>3.96</td>\n",
       "      <td>1023</td>\n",
       "      <td>340</td>\n",
       "    </tr>\n",
       "    <tr>\n",
       "      <th>6</th>\n",
       "      <td>25501128</td>\n",
       "      <td>Kept from You (Tear Asunder, #4)</td>\n",
       "      <td>A sexy second-chance romance from New York Tim...</td>\n",
       "      <td>2017</td>\n",
       "      <td>3</td>\n",
       "      <td>5</td>\n",
       "      <td>4.36</td>\n",
       "      <td>1759</td>\n",
       "      <td>NaN</td>\n",
       "    </tr>\n",
       "    <tr>\n",
       "      <th>7</th>\n",
       "      <td>10806009</td>\n",
       "      <td>The Storyteller</td>\n",
       "      <td>A good girl.\\nA bad boy.\\nA fairy tale that's ...</td>\n",
       "      <td>2012</td>\n",
       "      <td>1</td>\n",
       "      <td>1</td>\n",
       "      <td>4.10</td>\n",
       "      <td>289</td>\n",
       "      <td>402</td>\n",
       "    </tr>\n",
       "    <tr>\n",
       "      <th>8</th>\n",
       "      <td>10806008</td>\n",
       "      <td>Peter Nimble and His Fantastic Eyes (Peter Nim...</td>\n",
       "      <td>Peter Nimble and His Fantastic Eyesis the utte...</td>\n",
       "      <td>2011</td>\n",
       "      <td>8</td>\n",
       "      <td>1</td>\n",
       "      <td>4.04</td>\n",
       "      <td>6049</td>\n",
       "      <td>400</td>\n",
       "    </tr>\n",
       "    <tr>\n",
       "      <th>9</th>\n",
       "      <td>9469517</td>\n",
       "      <td>Mercy</td>\n",
       "      <td>NaN</td>\n",
       "      <td>2009</td>\n",
       "      <td>2</td>\n",
       "      <td>1</td>\n",
       "      <td>3.64</td>\n",
       "      <td>3559</td>\n",
       "      <td>226</td>\n",
       "    </tr>\n",
       "  </tbody>\n",
       "</table>\n",
       "</div>"
      ],
      "text/plain": [
       "    book_id                                              title  \\\n",
       "0  22642971                                  The Body Electric   \n",
       "1  32336119               Worth the Wait (Guthrie Brothers #2)   \n",
       "2   2741853                                         Slow Hands   \n",
       "3  12077902                    Solaris: The Definitive Edition   \n",
       "4   7843586                                    More (More, #1)   \n",
       "5  18663972                       Fortune's Pawn (Paradox, #1)   \n",
       "6  25501128                   Kept from You (Tear Asunder, #4)   \n",
       "7  10806009                                    The Storyteller   \n",
       "8  10806008  Peter Nimble and His Fantastic Eyes (Peter Nim...   \n",
       "9   9469517                                              Mercy   \n",
       "\n",
       "                                         description publication_year  \\\n",
       "0  The future world is at peace.\\nElla Shepherd h...             2014   \n",
       "1  Ready or not...love will find a way \\nSingle d...             2017   \n",
       "2  This is Maddy Turner's lucky day. The civilize...             2008   \n",
       "3  A classic work of science fiction by renowned ...             2011   \n",
       "4  After a series of explosive encounters with tw...             2010   \n",
       "5  When professional mercenary Deviana Morris too...              NaN   \n",
       "6  A sexy second-chance romance from New York Tim...             2017   \n",
       "7  A good girl.\\nA bad boy.\\nA fairy tale that's ...             2012   \n",
       "8  Peter Nimble and His Fantastic Eyesis the utte...             2011   \n",
       "9                                                NaN             2009   \n",
       "\n",
       "  publication_month publication_day average_rating ratings_count num_pages  \n",
       "0                10               6           3.71          1525       351  \n",
       "1                 7              25           4.19           693       384  \n",
       "2                 6               1           3.41          3852       210  \n",
       "3                 6               7           3.98           252         8  \n",
       "4                 3              23           3.88          1675       245  \n",
       "5               NaN             NaN           3.96          1023       340  \n",
       "6                 3               5           4.36          1759       NaN  \n",
       "7                 1               1           4.10           289       402  \n",
       "8                 8               1           4.04          6049       400  \n",
       "9                 2               1           3.64          3559       226  "
      ]
     },
     "execution_count": 26,
     "metadata": {},
     "output_type": "execute_result"
    }
   ],
   "source": [
    "# replace '' (missing values) with na\n",
    "book_meta_features2 = book_meta_features.copy()\n",
    "book_meta_features2 = book_meta_features2.replace('', np.nan)\n",
    "book_meta_features2.head(10)"
   ]
  },
  {
   "cell_type": "code",
   "execution_count": 27,
   "metadata": {},
   "outputs": [
    {
     "data": {
      "text/html": [
       "<div>\n",
       "<style scoped>\n",
       "    .dataframe tbody tr th:only-of-type {\n",
       "        vertical-align: middle;\n",
       "    }\n",
       "\n",
       "    .dataframe tbody tr th {\n",
       "        vertical-align: top;\n",
       "    }\n",
       "\n",
       "    .dataframe thead th {\n",
       "        text-align: right;\n",
       "    }\n",
       "</style>\n",
       "<table border=\"1\" class=\"dataframe\">\n",
       "  <thead>\n",
       "    <tr style=\"text-align: right;\">\n",
       "      <th></th>\n",
       "      <th>missing_count</th>\n",
       "      <th>missing_rel</th>\n",
       "    </tr>\n",
       "  </thead>\n",
       "  <tbody>\n",
       "    <tr>\n",
       "      <th>book_id</th>\n",
       "      <td>0</td>\n",
       "      <td>0.0</td>\n",
       "    </tr>\n",
       "    <tr>\n",
       "      <th>title</th>\n",
       "      <td>0</td>\n",
       "      <td>0.0</td>\n",
       "    </tr>\n",
       "    <tr>\n",
       "      <th>description</th>\n",
       "      <td>305</td>\n",
       "      <td>1.0</td>\n",
       "    </tr>\n",
       "    <tr>\n",
       "      <th>publication_year</th>\n",
       "      <td>3084</td>\n",
       "      <td>12.0</td>\n",
       "    </tr>\n",
       "    <tr>\n",
       "      <th>publication_month</th>\n",
       "      <td>3605</td>\n",
       "      <td>14.0</td>\n",
       "    </tr>\n",
       "    <tr>\n",
       "      <th>publication_day</th>\n",
       "      <td>4183</td>\n",
       "      <td>16.0</td>\n",
       "    </tr>\n",
       "    <tr>\n",
       "      <th>average_rating</th>\n",
       "      <td>1</td>\n",
       "      <td>0.0</td>\n",
       "    </tr>\n",
       "    <tr>\n",
       "      <th>ratings_count</th>\n",
       "      <td>1</td>\n",
       "      <td>0.0</td>\n",
       "    </tr>\n",
       "    <tr>\n",
       "      <th>num_pages</th>\n",
       "      <td>2002</td>\n",
       "      <td>8.0</td>\n",
       "    </tr>\n",
       "  </tbody>\n",
       "</table>\n",
       "</div>"
      ],
      "text/plain": [
       "                   missing_count  missing_rel\n",
       "book_id                        0          0.0\n",
       "title                          0          0.0\n",
       "description                  305          1.0\n",
       "publication_year            3084         12.0\n",
       "publication_month           3605         14.0\n",
       "publication_day             4183         16.0\n",
       "average_rating                 1          0.0\n",
       "ratings_count                  1          0.0\n",
       "num_pages                   2002          8.0"
      ]
     },
     "execution_count": 27,
     "metadata": {},
     "output_type": "execute_result"
    }
   ],
   "source": [
    "#missing values\n",
    "df_b_m = pd.DataFrame({\n",
    "    'missing_count':book_meta_features2.isnull().sum()\n",
    "})\n",
    "df_b_m['missing_rel'] = round(df_b_m.missing_count/len(book_meta_features2),2)*100\n",
    "df_b_m"
   ]
  },
  {
   "cell_type": "code",
   "execution_count": 28,
   "metadata": {},
   "outputs": [
    {
     "data": {
      "text/plain": [
       "book_id              object\n",
       "title                object\n",
       "description          object\n",
       "publication_year     object\n",
       "publication_month    object\n",
       "publication_day      object\n",
       "average_rating       object\n",
       "ratings_count        object\n",
       "num_pages            object\n",
       "dtype: object"
      ]
     },
     "execution_count": 28,
     "metadata": {},
     "output_type": "execute_result"
    }
   ],
   "source": [
    "# what is the data type of the different features\n",
    "# in the original data it looks like all features are saved as strings\n",
    "book_meta_features.dtypes"
   ]
  },
  {
   "cell_type": "code",
   "execution_count": 29,
   "metadata": {},
   "outputs": [],
   "source": [
    "# replace average_rating, rating_count and num_pages as int\n",
    "to_transform = ['publication_year','publication_month', 'publication_day','average_rating','ratings_count', 'num_pages' ]\n",
    "for f in to_transform:\n",
    "    book_meta_features2[f]=pd.to_numeric(book_meta_features2[f], errors='coerce')"
   ]
  },
  {
   "cell_type": "code",
   "execution_count": 30,
   "metadata": {},
   "outputs": [
    {
     "data": {
      "text/plain": [
       "book_id               object\n",
       "title                 object\n",
       "description           object\n",
       "publication_year     float64\n",
       "publication_month    float64\n",
       "publication_day      float64\n",
       "average_rating       float64\n",
       "ratings_count        float64\n",
       "num_pages            float64\n",
       "dtype: object"
      ]
     },
     "execution_count": 30,
     "metadata": {},
     "output_type": "execute_result"
    }
   ],
   "source": [
    "book_meta_features2.dtypes"
   ]
  },
  {
   "cell_type": "code",
   "execution_count": 31,
   "metadata": {},
   "outputs": [
    {
     "data": {
      "text/html": [
       "<div>\n",
       "<style scoped>\n",
       "    .dataframe tbody tr th:only-of-type {\n",
       "        vertical-align: middle;\n",
       "    }\n",
       "\n",
       "    .dataframe tbody tr th {\n",
       "        vertical-align: top;\n",
       "    }\n",
       "\n",
       "    .dataframe thead th {\n",
       "        text-align: right;\n",
       "    }\n",
       "</style>\n",
       "<table border=\"1\" class=\"dataframe\">\n",
       "  <thead>\n",
       "    <tr style=\"text-align: right;\">\n",
       "      <th></th>\n",
       "      <th>book_id</th>\n",
       "      <th>title</th>\n",
       "      <th>description</th>\n",
       "      <th>publication_year</th>\n",
       "      <th>publication_month</th>\n",
       "      <th>publication_day</th>\n",
       "      <th>average_rating</th>\n",
       "      <th>ratings_count</th>\n",
       "      <th>num_pages</th>\n",
       "    </tr>\n",
       "  </thead>\n",
       "  <tbody>\n",
       "    <tr>\n",
       "      <th>0</th>\n",
       "      <td>22642971</td>\n",
       "      <td>The Body Electric</td>\n",
       "      <td>The future world is at peace.\\nElla Shepherd h...</td>\n",
       "      <td>2014.0</td>\n",
       "      <td>10.0</td>\n",
       "      <td>6.0</td>\n",
       "      <td>3.71</td>\n",
       "      <td>1525.0</td>\n",
       "      <td>351.0</td>\n",
       "    </tr>\n",
       "    <tr>\n",
       "      <th>1</th>\n",
       "      <td>32336119</td>\n",
       "      <td>Worth the Wait (Guthrie Brothers #2)</td>\n",
       "      <td>Ready or not...love will find a way \\nSingle d...</td>\n",
       "      <td>2017.0</td>\n",
       "      <td>7.0</td>\n",
       "      <td>25.0</td>\n",
       "      <td>4.19</td>\n",
       "      <td>693.0</td>\n",
       "      <td>384.0</td>\n",
       "    </tr>\n",
       "    <tr>\n",
       "      <th>2</th>\n",
       "      <td>2741853</td>\n",
       "      <td>Slow Hands</td>\n",
       "      <td>This is Maddy Turner's lucky day. The civilize...</td>\n",
       "      <td>2008.0</td>\n",
       "      <td>6.0</td>\n",
       "      <td>1.0</td>\n",
       "      <td>3.41</td>\n",
       "      <td>3852.0</td>\n",
       "      <td>210.0</td>\n",
       "    </tr>\n",
       "    <tr>\n",
       "      <th>3</th>\n",
       "      <td>12077902</td>\n",
       "      <td>Solaris: The Definitive Edition</td>\n",
       "      <td>A classic work of science fiction by renowned ...</td>\n",
       "      <td>2011.0</td>\n",
       "      <td>6.0</td>\n",
       "      <td>7.0</td>\n",
       "      <td>3.98</td>\n",
       "      <td>252.0</td>\n",
       "      <td>8.0</td>\n",
       "    </tr>\n",
       "    <tr>\n",
       "      <th>4</th>\n",
       "      <td>7843586</td>\n",
       "      <td>More (More, #1)</td>\n",
       "      <td>After a series of explosive encounters with tw...</td>\n",
       "      <td>2010.0</td>\n",
       "      <td>3.0</td>\n",
       "      <td>23.0</td>\n",
       "      <td>3.88</td>\n",
       "      <td>1675.0</td>\n",
       "      <td>245.0</td>\n",
       "    </tr>\n",
       "    <tr>\n",
       "      <th>5</th>\n",
       "      <td>18663972</td>\n",
       "      <td>Fortune's Pawn (Paradox, #1)</td>\n",
       "      <td>When professional mercenary Deviana Morris too...</td>\n",
       "      <td>NaN</td>\n",
       "      <td>NaN</td>\n",
       "      <td>NaN</td>\n",
       "      <td>3.96</td>\n",
       "      <td>1023.0</td>\n",
       "      <td>340.0</td>\n",
       "    </tr>\n",
       "    <tr>\n",
       "      <th>6</th>\n",
       "      <td>25501128</td>\n",
       "      <td>Kept from You (Tear Asunder, #4)</td>\n",
       "      <td>A sexy second-chance romance from New York Tim...</td>\n",
       "      <td>2017.0</td>\n",
       "      <td>3.0</td>\n",
       "      <td>5.0</td>\n",
       "      <td>4.36</td>\n",
       "      <td>1759.0</td>\n",
       "      <td>NaN</td>\n",
       "    </tr>\n",
       "    <tr>\n",
       "      <th>7</th>\n",
       "      <td>10806009</td>\n",
       "      <td>The Storyteller</td>\n",
       "      <td>A good girl.\\nA bad boy.\\nA fairy tale that's ...</td>\n",
       "      <td>2012.0</td>\n",
       "      <td>1.0</td>\n",
       "      <td>1.0</td>\n",
       "      <td>4.10</td>\n",
       "      <td>289.0</td>\n",
       "      <td>402.0</td>\n",
       "    </tr>\n",
       "    <tr>\n",
       "      <th>8</th>\n",
       "      <td>10806008</td>\n",
       "      <td>Peter Nimble and His Fantastic Eyes (Peter Nim...</td>\n",
       "      <td>Peter Nimble and His Fantastic Eyesis the utte...</td>\n",
       "      <td>2011.0</td>\n",
       "      <td>8.0</td>\n",
       "      <td>1.0</td>\n",
       "      <td>4.04</td>\n",
       "      <td>6049.0</td>\n",
       "      <td>400.0</td>\n",
       "    </tr>\n",
       "    <tr>\n",
       "      <th>9</th>\n",
       "      <td>9469517</td>\n",
       "      <td>Mercy</td>\n",
       "      <td>NaN</td>\n",
       "      <td>2009.0</td>\n",
       "      <td>2.0</td>\n",
       "      <td>1.0</td>\n",
       "      <td>3.64</td>\n",
       "      <td>3559.0</td>\n",
       "      <td>226.0</td>\n",
       "    </tr>\n",
       "  </tbody>\n",
       "</table>\n",
       "</div>"
      ],
      "text/plain": [
       "    book_id                                              title  \\\n",
       "0  22642971                                  The Body Electric   \n",
       "1  32336119               Worth the Wait (Guthrie Brothers #2)   \n",
       "2   2741853                                         Slow Hands   \n",
       "3  12077902                    Solaris: The Definitive Edition   \n",
       "4   7843586                                    More (More, #1)   \n",
       "5  18663972                       Fortune's Pawn (Paradox, #1)   \n",
       "6  25501128                   Kept from You (Tear Asunder, #4)   \n",
       "7  10806009                                    The Storyteller   \n",
       "8  10806008  Peter Nimble and His Fantastic Eyes (Peter Nim...   \n",
       "9   9469517                                              Mercy   \n",
       "\n",
       "                                         description  publication_year  \\\n",
       "0  The future world is at peace.\\nElla Shepherd h...            2014.0   \n",
       "1  Ready or not...love will find a way \\nSingle d...            2017.0   \n",
       "2  This is Maddy Turner's lucky day. The civilize...            2008.0   \n",
       "3  A classic work of science fiction by renowned ...            2011.0   \n",
       "4  After a series of explosive encounters with tw...            2010.0   \n",
       "5  When professional mercenary Deviana Morris too...               NaN   \n",
       "6  A sexy second-chance romance from New York Tim...            2017.0   \n",
       "7  A good girl.\\nA bad boy.\\nA fairy tale that's ...            2012.0   \n",
       "8  Peter Nimble and His Fantastic Eyesis the utte...            2011.0   \n",
       "9                                                NaN            2009.0   \n",
       "\n",
       "   publication_month  publication_day  average_rating  ratings_count  \\\n",
       "0               10.0              6.0            3.71         1525.0   \n",
       "1                7.0             25.0            4.19          693.0   \n",
       "2                6.0              1.0            3.41         3852.0   \n",
       "3                6.0              7.0            3.98          252.0   \n",
       "4                3.0             23.0            3.88         1675.0   \n",
       "5                NaN              NaN            3.96         1023.0   \n",
       "6                3.0              5.0            4.36         1759.0   \n",
       "7                1.0              1.0            4.10          289.0   \n",
       "8                8.0              1.0            4.04         6049.0   \n",
       "9                2.0              1.0            3.64         3559.0   \n",
       "\n",
       "   num_pages  \n",
       "0      351.0  \n",
       "1      384.0  \n",
       "2      210.0  \n",
       "3        8.0  \n",
       "4      245.0  \n",
       "5      340.0  \n",
       "6        NaN  \n",
       "7      402.0  \n",
       "8      400.0  \n",
       "9      226.0  "
      ]
     },
     "execution_count": 31,
     "metadata": {},
     "output_type": "execute_result"
    }
   ],
   "source": [
    "book_meta_features2.head(10)"
   ]
  },
  {
   "cell_type": "code",
   "execution_count": 32,
   "metadata": {},
   "outputs": [],
   "source": [
    "book_meta_features2['weighted_average_rating']=book_meta_features2.average_rating*book_meta_features2.ratings_count"
   ]
  },
  {
   "cell_type": "code",
   "execution_count": 33,
   "metadata": {},
   "outputs": [
    {
     "data": {
      "text/html": [
       "<div>\n",
       "<style scoped>\n",
       "    .dataframe tbody tr th:only-of-type {\n",
       "        vertical-align: middle;\n",
       "    }\n",
       "\n",
       "    .dataframe tbody tr th {\n",
       "        vertical-align: top;\n",
       "    }\n",
       "\n",
       "    .dataframe thead th {\n",
       "        text-align: right;\n",
       "    }\n",
       "</style>\n",
       "<table border=\"1\" class=\"dataframe\">\n",
       "  <thead>\n",
       "    <tr style=\"text-align: right;\">\n",
       "      <th></th>\n",
       "      <th>book_id</th>\n",
       "      <th>title</th>\n",
       "      <th>description</th>\n",
       "      <th>publication_year</th>\n",
       "      <th>publication_month</th>\n",
       "      <th>publication_day</th>\n",
       "      <th>average_rating</th>\n",
       "      <th>ratings_count</th>\n",
       "      <th>num_pages</th>\n",
       "      <th>weighted_average_rating</th>\n",
       "    </tr>\n",
       "  </thead>\n",
       "  <tbody>\n",
       "    <tr>\n",
       "      <th>0</th>\n",
       "      <td>22642971</td>\n",
       "      <td>The Body Electric</td>\n",
       "      <td>The future world is at peace.\\nElla Shepherd h...</td>\n",
       "      <td>2014.0</td>\n",
       "      <td>10.0</td>\n",
       "      <td>6.0</td>\n",
       "      <td>3.71</td>\n",
       "      <td>1525.0</td>\n",
       "      <td>351.0</td>\n",
       "      <td>5657.75</td>\n",
       "    </tr>\n",
       "    <tr>\n",
       "      <th>1</th>\n",
       "      <td>32336119</td>\n",
       "      <td>Worth the Wait (Guthrie Brothers #2)</td>\n",
       "      <td>Ready or not...love will find a way \\nSingle d...</td>\n",
       "      <td>2017.0</td>\n",
       "      <td>7.0</td>\n",
       "      <td>25.0</td>\n",
       "      <td>4.19</td>\n",
       "      <td>693.0</td>\n",
       "      <td>384.0</td>\n",
       "      <td>2903.67</td>\n",
       "    </tr>\n",
       "  </tbody>\n",
       "</table>\n",
       "</div>"
      ],
      "text/plain": [
       "    book_id                                 title  \\\n",
       "0  22642971                     The Body Electric   \n",
       "1  32336119  Worth the Wait (Guthrie Brothers #2)   \n",
       "\n",
       "                                         description  publication_year  \\\n",
       "0  The future world is at peace.\\nElla Shepherd h...            2014.0   \n",
       "1  Ready or not...love will find a way \\nSingle d...            2017.0   \n",
       "\n",
       "   publication_month  publication_day  average_rating  ratings_count  \\\n",
       "0               10.0              6.0            3.71         1525.0   \n",
       "1                7.0             25.0            4.19          693.0   \n",
       "\n",
       "   num_pages  weighted_average_rating  \n",
       "0      351.0                  5657.75  \n",
       "1      384.0                  2903.67  "
      ]
     },
     "execution_count": 33,
     "metadata": {},
     "output_type": "execute_result"
    }
   ],
   "source": [
    "book_meta_features2.head(2)"
   ]
  },
  {
   "cell_type": "code",
   "execution_count": 34,
   "metadata": {},
   "outputs": [
    {
     "name": "stderr",
     "output_type": "stream",
     "text": [
      "171922it [00:01, 103944.54it/s]\n"
     ]
    },
    {
     "ename": "KeyboardInterrupt",
     "evalue": "",
     "output_type": "error",
     "traceback": [
      "\u001b[0;31m---------------------------------------------------------------------------\u001b[0m",
      "\u001b[0;31mKeyboardInterrupt\u001b[0m                         Traceback (most recent call last)",
      "\u001b[0;32m<ipython-input-34-813c49ff8ba7>\u001b[0m in \u001b[0;36m<module>\u001b[0;34m\u001b[0m\n\u001b[1;32m      1\u001b[0m \u001b[0;31m#load whole genre dataset\u001b[0m\u001b[0;34m\u001b[0m\u001b[0;34m\u001b[0m\u001b[0;34m\u001b[0m\u001b[0m\n\u001b[0;32m----> 2\u001b[0;31m \u001b[0mgenre\u001b[0m \u001b[0;34m=\u001b[0m \u001b[0mimport_json_gz2\u001b[0m\u001b[0;34m(\u001b[0m\u001b[0mfile_genre\u001b[0m\u001b[0;34m)\u001b[0m\u001b[0;34m\u001b[0m\u001b[0;34m\u001b[0m\u001b[0m\n\u001b[0m",
      "\u001b[0;32m<ipython-input-13-8cced8dd9294>\u001b[0m in \u001b[0;36mimport_json_gz2\u001b[0;34m(file)\u001b[0m\n\u001b[1;32m      9\u001b[0m     \u001b[0;32mwith\u001b[0m \u001b[0mgzip\u001b[0m\u001b[0;34m.\u001b[0m\u001b[0mopen\u001b[0m\u001b[0;34m(\u001b[0m\u001b[0mfile\u001b[0m\u001b[0;34m)\u001b[0m \u001b[0;32mas\u001b[0m \u001b[0mf\u001b[0m\u001b[0;34m:\u001b[0m\u001b[0;34m\u001b[0m\u001b[0;34m\u001b[0m\u001b[0m\n\u001b[1;32m     10\u001b[0m         \u001b[0;32mfor\u001b[0m \u001b[0ml\u001b[0m \u001b[0;32min\u001b[0m \u001b[0mtqdm\u001b[0m\u001b[0;34m(\u001b[0m\u001b[0mf\u001b[0m\u001b[0;34m)\u001b[0m\u001b[0;34m:\u001b[0m\u001b[0;34m\u001b[0m\u001b[0;34m\u001b[0m\u001b[0m\n\u001b[0;32m---> 11\u001b[0;31m             \u001b[0mdata_dict\u001b[0m \u001b[0;34m=\u001b[0m \u001b[0mjson\u001b[0m\u001b[0;34m.\u001b[0m\u001b[0mloads\u001b[0m\u001b[0;34m(\u001b[0m\u001b[0ml\u001b[0m\u001b[0;34m.\u001b[0m\u001b[0mstrip\u001b[0m\u001b[0;34m(\u001b[0m\u001b[0;34m)\u001b[0m\u001b[0;34m)\u001b[0m\u001b[0;34m\u001b[0m\u001b[0;34m\u001b[0m\u001b[0m\n\u001b[0m\u001b[1;32m     12\u001b[0m             \u001b[0mdata\u001b[0m\u001b[0;34m.\u001b[0m\u001b[0mappend\u001b[0m\u001b[0;34m(\u001b[0m\u001b[0mdata_dict\u001b[0m\u001b[0;34m)\u001b[0m\u001b[0;34m\u001b[0m\u001b[0;34m\u001b[0m\u001b[0m\n\u001b[1;32m     13\u001b[0m     \u001b[0;32mreturn\u001b[0m \u001b[0mpd\u001b[0m\u001b[0;34m.\u001b[0m\u001b[0mDataFrame\u001b[0m\u001b[0;34m(\u001b[0m\u001b[0mdata\u001b[0m\u001b[0;34m)\u001b[0m\u001b[0;34m\u001b[0m\u001b[0;34m\u001b[0m\u001b[0m\n",
      "\u001b[0;32m/opt/anaconda3/envs/nf/lib/python3.6/json/__init__.py\u001b[0m in \u001b[0;36mloads\u001b[0;34m(s, encoding, cls, object_hook, parse_float, parse_int, parse_constant, object_pairs_hook, **kw)\u001b[0m\n\u001b[1;32m    352\u001b[0m             \u001b[0mparse_int\u001b[0m \u001b[0;32mis\u001b[0m \u001b[0;32mNone\u001b[0m \u001b[0;32mand\u001b[0m \u001b[0mparse_float\u001b[0m \u001b[0;32mis\u001b[0m \u001b[0;32mNone\u001b[0m \u001b[0;32mand\u001b[0m\u001b[0;34m\u001b[0m\u001b[0;34m\u001b[0m\u001b[0m\n\u001b[1;32m    353\u001b[0m             parse_constant is None and object_pairs_hook is None and not kw):\n\u001b[0;32m--> 354\u001b[0;31m         \u001b[0;32mreturn\u001b[0m \u001b[0m_default_decoder\u001b[0m\u001b[0;34m.\u001b[0m\u001b[0mdecode\u001b[0m\u001b[0;34m(\u001b[0m\u001b[0ms\u001b[0m\u001b[0;34m)\u001b[0m\u001b[0;34m\u001b[0m\u001b[0;34m\u001b[0m\u001b[0m\n\u001b[0m\u001b[1;32m    355\u001b[0m     \u001b[0;32mif\u001b[0m \u001b[0mcls\u001b[0m \u001b[0;32mis\u001b[0m \u001b[0;32mNone\u001b[0m\u001b[0;34m:\u001b[0m\u001b[0;34m\u001b[0m\u001b[0;34m\u001b[0m\u001b[0m\n\u001b[1;32m    356\u001b[0m         \u001b[0mcls\u001b[0m \u001b[0;34m=\u001b[0m \u001b[0mJSONDecoder\u001b[0m\u001b[0;34m\u001b[0m\u001b[0;34m\u001b[0m\u001b[0m\n",
      "\u001b[0;32m/opt/anaconda3/envs/nf/lib/python3.6/json/decoder.py\u001b[0m in \u001b[0;36mdecode\u001b[0;34m(self, s, _w)\u001b[0m\n\u001b[1;32m    339\u001b[0m         \u001b[0mobj\u001b[0m\u001b[0;34m,\u001b[0m \u001b[0mend\u001b[0m \u001b[0;34m=\u001b[0m \u001b[0mself\u001b[0m\u001b[0;34m.\u001b[0m\u001b[0mraw_decode\u001b[0m\u001b[0;34m(\u001b[0m\u001b[0ms\u001b[0m\u001b[0;34m,\u001b[0m \u001b[0midx\u001b[0m\u001b[0;34m=\u001b[0m\u001b[0m_w\u001b[0m\u001b[0;34m(\u001b[0m\u001b[0ms\u001b[0m\u001b[0;34m,\u001b[0m \u001b[0;36m0\u001b[0m\u001b[0;34m)\u001b[0m\u001b[0;34m.\u001b[0m\u001b[0mend\u001b[0m\u001b[0;34m(\u001b[0m\u001b[0;34m)\u001b[0m\u001b[0;34m)\u001b[0m\u001b[0;34m\u001b[0m\u001b[0;34m\u001b[0m\u001b[0m\n\u001b[1;32m    340\u001b[0m         \u001b[0mend\u001b[0m \u001b[0;34m=\u001b[0m \u001b[0m_w\u001b[0m\u001b[0;34m(\u001b[0m\u001b[0ms\u001b[0m\u001b[0;34m,\u001b[0m \u001b[0mend\u001b[0m\u001b[0;34m)\u001b[0m\u001b[0;34m.\u001b[0m\u001b[0mend\u001b[0m\u001b[0;34m(\u001b[0m\u001b[0;34m)\u001b[0m\u001b[0;34m\u001b[0m\u001b[0;34m\u001b[0m\u001b[0m\n\u001b[0;32m--> 341\u001b[0;31m         \u001b[0;32mif\u001b[0m \u001b[0mend\u001b[0m \u001b[0;34m!=\u001b[0m \u001b[0mlen\u001b[0m\u001b[0;34m(\u001b[0m\u001b[0ms\u001b[0m\u001b[0;34m)\u001b[0m\u001b[0;34m:\u001b[0m\u001b[0;34m\u001b[0m\u001b[0;34m\u001b[0m\u001b[0m\n\u001b[0m\u001b[1;32m    342\u001b[0m             \u001b[0;32mraise\u001b[0m \u001b[0mJSONDecodeError\u001b[0m\u001b[0;34m(\u001b[0m\u001b[0;34m\"Extra data\"\u001b[0m\u001b[0;34m,\u001b[0m \u001b[0ms\u001b[0m\u001b[0;34m,\u001b[0m \u001b[0mend\u001b[0m\u001b[0;34m)\u001b[0m\u001b[0;34m\u001b[0m\u001b[0;34m\u001b[0m\u001b[0m\n\u001b[1;32m    343\u001b[0m         \u001b[0;32mreturn\u001b[0m \u001b[0mobj\u001b[0m\u001b[0;34m\u001b[0m\u001b[0;34m\u001b[0m\u001b[0m\n",
      "\u001b[0;31mKeyboardInterrupt\u001b[0m: "
     ]
    }
   ],
   "source": [
    "#load whole genre dataset\n",
    "genre = import_json_gz2(file_genre)"
   ]
  },
  {
   "cell_type": "code",
   "execution_count": null,
   "metadata": {},
   "outputs": [],
   "source": [
    "genre.head()"
   ]
  },
  {
   "cell_type": "code",
   "execution_count": null,
   "metadata": {},
   "outputs": [],
   "source": [
    "genre.shape"
   ]
  },
  {
   "cell_type": "markdown",
   "metadata": {},
   "source": [
    "The genre dataset contains genre information for 2.3 million books. However, according to the [data source](https://sites.google.com/eng.ucsd.edu/ucsdbookgraph/reviews) we have reviews for 25k  books. We will use the function below to get the genres for the books contained in the review data set. Note that the genres are provided as a dictionary. The following function will also identify book_ids which have not been asigned a genre."
   ]
  },
  {
   "cell_type": "code",
   "execution_count": 35,
   "metadata": {},
   "outputs": [],
   "source": [
    "def fetch_genre(file, book_list):\n",
    "    '''\n",
    "    File: json.gzip file you want to scan\n",
    "    \n",
    "    book_list: set of book_ids\n",
    "    \n",
    "    Returns: list containing book_ids and genres and a list of book_ids with no information on genre\n",
    "    '''\n",
    "    \n",
    "    book_genres = []    \n",
    "    missing_genre = []\n",
    "    books = get_book(file)\n",
    "    \n",
    "    for book in tqdm(books):\n",
    "        book_dict = json.loads(book)\n",
    "        book_id = book_dict.get('book_id')\n",
    "        book_genre = book_dict.get('genres')\n",
    "        try:\n",
    "            if book_id in book_list:\n",
    "                book_genres.append(book_dict) \n",
    "                # empty dictionary returns \n",
    "                if not book_genre:\n",
    "                    missing_genre.append(book_id)\n",
    "        except: \n",
    "            pass\n",
    "        \n",
    "    return book_genres, missing_genre"
   ]
  },
  {
   "cell_type": "code",
   "execution_count": 36,
   "metadata": {},
   "outputs": [
    {
     "name": "stderr",
     "output_type": "stream",
     "text": [
      "2360655it [00:17, 134394.04it/s]\n"
     ]
    }
   ],
   "source": [
    "genre, missing_genre = fetch_genre(file_genre,book_ids)"
   ]
  },
  {
   "cell_type": "code",
   "execution_count": 37,
   "metadata": {},
   "outputs": [
    {
     "data": {
      "text/plain": [
       "['16148398']"
      ]
     },
     "execution_count": 37,
     "metadata": {},
     "output_type": "execute_result"
    }
   ],
   "source": [
    "missing_genre"
   ]
  },
  {
   "cell_type": "code",
   "execution_count": 38,
   "metadata": {},
   "outputs": [],
   "source": [
    "df_genre = pd.DataFrame(genre)"
   ]
  },
  {
   "cell_type": "code",
   "execution_count": 39,
   "metadata": {},
   "outputs": [
    {
     "data": {
      "text/html": [
       "<div>\n",
       "<style scoped>\n",
       "    .dataframe tbody tr th:only-of-type {\n",
       "        vertical-align: middle;\n",
       "    }\n",
       "\n",
       "    .dataframe tbody tr th {\n",
       "        vertical-align: top;\n",
       "    }\n",
       "\n",
       "    .dataframe thead th {\n",
       "        text-align: right;\n",
       "    }\n",
       "</style>\n",
       "<table border=\"1\" class=\"dataframe\">\n",
       "  <thead>\n",
       "    <tr style=\"text-align: right;\">\n",
       "      <th></th>\n",
       "      <th>book_id</th>\n",
       "      <th>genres</th>\n",
       "    </tr>\n",
       "  </thead>\n",
       "  <tbody>\n",
       "    <tr>\n",
       "      <th>0</th>\n",
       "      <td>22642971</td>\n",
       "      <td>{'young-adult': 235, 'fiction': 182, 'romance'...</td>\n",
       "    </tr>\n",
       "    <tr>\n",
       "      <th>1</th>\n",
       "      <td>32336119</td>\n",
       "      <td>{'romance': 84, 'mystery, thriller, crime': 4,...</td>\n",
       "    </tr>\n",
       "    <tr>\n",
       "      <th>2</th>\n",
       "      <td>2741853</td>\n",
       "      <td>{'romance': 555, 'fiction': 61}</td>\n",
       "    </tr>\n",
       "    <tr>\n",
       "      <th>3</th>\n",
       "      <td>12077902</td>\n",
       "      <td>{'fiction': 2695, 'fantasy, paranormal': 358, ...</td>\n",
       "    </tr>\n",
       "    <tr>\n",
       "      <th>4</th>\n",
       "      <td>7843586</td>\n",
       "      <td>{'romance': 232, 'fiction': 11, 'mystery, thri...</td>\n",
       "    </tr>\n",
       "  </tbody>\n",
       "</table>\n",
       "</div>"
      ],
      "text/plain": [
       "    book_id                                             genres\n",
       "0  22642971  {'young-adult': 235, 'fiction': 182, 'romance'...\n",
       "1  32336119  {'romance': 84, 'mystery, thriller, crime': 4,...\n",
       "2   2741853                    {'romance': 555, 'fiction': 61}\n",
       "3  12077902  {'fiction': 2695, 'fantasy, paranormal': 358, ...\n",
       "4   7843586  {'romance': 232, 'fiction': 11, 'mystery, thri..."
      ]
     },
     "execution_count": 39,
     "metadata": {},
     "output_type": "execute_result"
    }
   ],
   "source": [
    "df_genre.head()"
   ]
  },
  {
   "cell_type": "code",
   "execution_count": 40,
   "metadata": {},
   "outputs": [
    {
     "data": {
      "text/plain": [
       "(25475, 2)"
      ]
     },
     "execution_count": 40,
     "metadata": {},
     "output_type": "execute_result"
    }
   ],
   "source": [
    "df_genre.shape"
   ]
  },
  {
   "cell_type": "code",
   "execution_count": 41,
   "metadata": {},
   "outputs": [],
   "source": [
    "# function to get key from dictionary with highest value or ordered list\n",
    "# returns None if dictionary is empty and max() will cause an error\n",
    "import operator\n",
    "def get_genre(x):\n",
    "    try:\n",
    "        \n",
    "        a= max(x.items(), key=operator.itemgetter(1))[0]\n",
    "        b = sorted(x.items(), key=operator.itemgetter(1))\n",
    "        return a\n",
    "    except:\n",
    "        return np.nan"
   ]
  },
  {
   "cell_type": "code",
   "execution_count": 42,
   "metadata": {},
   "outputs": [],
   "source": [
    "# create new colum containing genre with most votes (from users)\n",
    "df_genre['best_genre'] = df_genre['genres'].apply(lambda x:get_genre(x))"
   ]
  },
  {
   "cell_type": "code",
   "execution_count": 43,
   "metadata": {},
   "outputs": [
    {
     "data": {
      "text/html": [
       "<div>\n",
       "<style scoped>\n",
       "    .dataframe tbody tr th:only-of-type {\n",
       "        vertical-align: middle;\n",
       "    }\n",
       "\n",
       "    .dataframe tbody tr th {\n",
       "        vertical-align: top;\n",
       "    }\n",
       "\n",
       "    .dataframe thead th {\n",
       "        text-align: right;\n",
       "    }\n",
       "</style>\n",
       "<table border=\"1\" class=\"dataframe\">\n",
       "  <thead>\n",
       "    <tr style=\"text-align: right;\">\n",
       "      <th></th>\n",
       "      <th>book_id</th>\n",
       "      <th>genres</th>\n",
       "      <th>best_genre</th>\n",
       "    </tr>\n",
       "  </thead>\n",
       "  <tbody>\n",
       "    <tr>\n",
       "      <th>0</th>\n",
       "      <td>22642971</td>\n",
       "      <td>{'young-adult': 235, 'fiction': 182, 'romance'...</td>\n",
       "      <td>young-adult</td>\n",
       "    </tr>\n",
       "    <tr>\n",
       "      <th>1</th>\n",
       "      <td>32336119</td>\n",
       "      <td>{'romance': 84, 'mystery, thriller, crime': 4,...</td>\n",
       "      <td>romance</td>\n",
       "    </tr>\n",
       "    <tr>\n",
       "      <th>2</th>\n",
       "      <td>2741853</td>\n",
       "      <td>{'romance': 555, 'fiction': 61}</td>\n",
       "      <td>romance</td>\n",
       "    </tr>\n",
       "    <tr>\n",
       "      <th>3</th>\n",
       "      <td>12077902</td>\n",
       "      <td>{'fiction': 2695, 'fantasy, paranormal': 358, ...</td>\n",
       "      <td>fiction</td>\n",
       "    </tr>\n",
       "    <tr>\n",
       "      <th>4</th>\n",
       "      <td>7843586</td>\n",
       "      <td>{'romance': 232, 'fiction': 11, 'mystery, thri...</td>\n",
       "      <td>romance</td>\n",
       "    </tr>\n",
       "  </tbody>\n",
       "</table>\n",
       "</div>"
      ],
      "text/plain": [
       "    book_id                                             genres   best_genre\n",
       "0  22642971  {'young-adult': 235, 'fiction': 182, 'romance'...  young-adult\n",
       "1  32336119  {'romance': 84, 'mystery, thriller, crime': 4,...      romance\n",
       "2   2741853                    {'romance': 555, 'fiction': 61}      romance\n",
       "3  12077902  {'fiction': 2695, 'fantasy, paranormal': 358, ...      fiction\n",
       "4   7843586  {'romance': 232, 'fiction': 11, 'mystery, thri...      romance"
      ]
     },
     "execution_count": 43,
     "metadata": {},
     "output_type": "execute_result"
    }
   ],
   "source": [
    "df_genre.head()"
   ]
  },
  {
   "cell_type": "code",
   "execution_count": 44,
   "metadata": {},
   "outputs": [
    {
     "data": {
      "text/plain": [
       "book_id       0\n",
       "genres        0\n",
       "best_genre    1\n",
       "dtype: int64"
      ]
     },
     "execution_count": 44,
     "metadata": {},
     "output_type": "execute_result"
    }
   ],
   "source": [
    "df_genre.isnull().sum()"
   ]
  },
  {
   "cell_type": "code",
   "execution_count": 45,
   "metadata": {},
   "outputs": [
    {
     "data": {
      "text/html": [
       "<div>\n",
       "<style scoped>\n",
       "    .dataframe tbody tr th:only-of-type {\n",
       "        vertical-align: middle;\n",
       "    }\n",
       "\n",
       "    .dataframe tbody tr th {\n",
       "        vertical-align: top;\n",
       "    }\n",
       "\n",
       "    .dataframe thead th {\n",
       "        text-align: right;\n",
       "    }\n",
       "</style>\n",
       "<table border=\"1\" class=\"dataframe\">\n",
       "  <thead>\n",
       "    <tr style=\"text-align: right;\">\n",
       "      <th></th>\n",
       "      <th>book_id</th>\n",
       "      <th>genres</th>\n",
       "      <th>best_genre</th>\n",
       "    </tr>\n",
       "  </thead>\n",
       "  <tbody>\n",
       "    <tr>\n",
       "      <th>16474</th>\n",
       "      <td>16148398</td>\n",
       "      <td>{}</td>\n",
       "      <td>NaN</td>\n",
       "    </tr>\n",
       "  </tbody>\n",
       "</table>\n",
       "</div>"
      ],
      "text/plain": [
       "        book_id genres best_genre\n",
       "16474  16148398     {}        NaN"
      ]
     },
     "execution_count": 45,
     "metadata": {},
     "output_type": "execute_result"
    }
   ],
   "source": [
    "# identify book with missing genre\n",
    "df_missing_genre = df_genre[df_genre.best_genre.isnull()]\n",
    "df_missing_genre"
   ]
  },
  {
   "cell_type": "code",
   "execution_count": 46,
   "metadata": {},
   "outputs": [
    {
     "data": {
      "text/html": [
       "<div>\n",
       "<style scoped>\n",
       "    .dataframe tbody tr th:only-of-type {\n",
       "        vertical-align: middle;\n",
       "    }\n",
       "\n",
       "    .dataframe tbody tr th {\n",
       "        vertical-align: top;\n",
       "    }\n",
       "\n",
       "    .dataframe thead th {\n",
       "        text-align: right;\n",
       "    }\n",
       "</style>\n",
       "<table border=\"1\" class=\"dataframe\">\n",
       "  <thead>\n",
       "    <tr style=\"text-align: right;\">\n",
       "      <th></th>\n",
       "      <th>book_id</th>\n",
       "      <th>title</th>\n",
       "      <th>description</th>\n",
       "      <th>publication_year</th>\n",
       "      <th>publication_month</th>\n",
       "      <th>publication_day</th>\n",
       "      <th>average_rating</th>\n",
       "      <th>ratings_count</th>\n",
       "      <th>num_pages</th>\n",
       "      <th>weighted_average_rating</th>\n",
       "    </tr>\n",
       "  </thead>\n",
       "  <tbody>\n",
       "    <tr>\n",
       "      <th>16474</th>\n",
       "      <td>16148398</td>\n",
       "      <td>Saga #1</td>\n",
       "      <td>NaN</td>\n",
       "      <td>NaN</td>\n",
       "      <td>NaN</td>\n",
       "      <td>NaN</td>\n",
       "      <td>NaN</td>\n",
       "      <td>NaN</td>\n",
       "      <td>NaN</td>\n",
       "      <td>NaN</td>\n",
       "    </tr>\n",
       "  </tbody>\n",
       "</table>\n",
       "</div>"
      ],
      "text/plain": [
       "        book_id    title description  publication_year  publication_month  \\\n",
       "16474  16148398  Saga #1         NaN               NaN                NaN   \n",
       "\n",
       "       publication_day  average_rating  ratings_count  num_pages  \\\n",
       "16474              NaN             NaN            NaN        NaN   \n",
       "\n",
       "       weighted_average_rating  \n",
       "16474                      NaN  "
      ]
     },
     "execution_count": 46,
     "metadata": {},
     "output_type": "execute_result"
    }
   ],
   "source": [
    "missing_book = book_meta_features2[book_meta_features2.book_id == '16148398']\n",
    "missing_book"
   ]
  },
  {
   "cell_type": "markdown",
   "metadata": {},
   "source": [
    "We seem to have no infomration but the title for the book with the missing genre. Check how often this book was reviewd using the book ids."
   ]
  },
  {
   "cell_type": "code",
   "execution_count": 47,
   "metadata": {},
   "outputs": [
    {
     "name": "stdout",
     "output_type": "stream",
     "text": [
      " The book \"Saga #1\" was reviewed 1 time(s)\n"
     ]
    }
   ],
   "source": [
    "i = 0\n",
    "for book in book_ids_unique:\n",
    "    if book == '16148398':\n",
    "        i += 1\n",
    "print(f' The book \"Saga #1\" was reviewed {i} time(s)')"
   ]
  },
  {
   "cell_type": "markdown",
   "metadata": {},
   "source": [
    "As this book was only reviewed once, we will drop this book."
   ]
  },
  {
   "cell_type": "code",
   "execution_count": 48,
   "metadata": {},
   "outputs": [],
   "source": [
    "books_to_drop = ['16148398']"
   ]
  },
  {
   "cell_type": "code",
   "execution_count": null,
   "metadata": {},
   "outputs": [],
   "source": []
  },
  {
   "cell_type": "code",
   "execution_count": null,
   "metadata": {},
   "outputs": [],
   "source": []
  },
  {
   "cell_type": "code",
   "execution_count": 49,
   "metadata": {},
   "outputs": [
    {
     "name": "stderr",
     "output_type": "stream",
     "text": [
      "1378033it [01:52, 12287.65it/s]\n"
     ]
    },
    {
     "data": {
      "text/plain": [
       "'00:02:02'"
      ]
     },
     "execution_count": 49,
     "metadata": {},
     "output_type": "execute_result"
    }
   ],
   "source": [
    "# load the reviews data\n",
    "t0 = time.time()\n",
    "df_reviews = import_json_gz2(file_reviews)\n",
    "elapsed_time = time.time()-t0\n",
    "time.strftime(\"%H:%M:%S\", time.gmtime(elapsed_time))"
   ]
  },
  {
   "cell_type": "code",
   "execution_count": 50,
   "metadata": {},
   "outputs": [
    {
     "data": {
      "text/html": [
       "<div>\n",
       "<style scoped>\n",
       "    .dataframe tbody tr th:only-of-type {\n",
       "        vertical-align: middle;\n",
       "    }\n",
       "\n",
       "    .dataframe tbody tr th {\n",
       "        vertical-align: top;\n",
       "    }\n",
       "\n",
       "    .dataframe thead th {\n",
       "        text-align: right;\n",
       "    }\n",
       "</style>\n",
       "<table border=\"1\" class=\"dataframe\">\n",
       "  <thead>\n",
       "    <tr style=\"text-align: right;\">\n",
       "      <th></th>\n",
       "      <th>book_id</th>\n",
       "      <th>has_spoiler</th>\n",
       "      <th>rating</th>\n",
       "      <th>review_id</th>\n",
       "      <th>review_sentences</th>\n",
       "      <th>timestamp</th>\n",
       "      <th>user_id</th>\n",
       "    </tr>\n",
       "  </thead>\n",
       "  <tbody>\n",
       "    <tr>\n",
       "      <th>0</th>\n",
       "      <td>18245960</td>\n",
       "      <td>True</td>\n",
       "      <td>5</td>\n",
       "      <td>dfdbb7b0eb5a7e4c26d59a937e2e5feb</td>\n",
       "      <td>[[0, This is a special book.], [0, It started ...</td>\n",
       "      <td>2017-08-30</td>\n",
       "      <td>8842281e1d1347389f2ab93d60773d4d</td>\n",
       "    </tr>\n",
       "    <tr>\n",
       "      <th>1</th>\n",
       "      <td>16981</td>\n",
       "      <td>False</td>\n",
       "      <td>3</td>\n",
       "      <td>a5d2c3628987712d0e05c4f90798eb67</td>\n",
       "      <td>[[0, Recommended by Don Katz.], [0, Avail for ...</td>\n",
       "      <td>2017-03-22</td>\n",
       "      <td>8842281e1d1347389f2ab93d60773d4d</td>\n",
       "    </tr>\n",
       "    <tr>\n",
       "      <th>2</th>\n",
       "      <td>28684704</td>\n",
       "      <td>True</td>\n",
       "      <td>3</td>\n",
       "      <td>2ede853b14dc4583f96cf5d120af636f</td>\n",
       "      <td>[[0, A fun, fast paced science fiction thrille...</td>\n",
       "      <td>2017-03-20</td>\n",
       "      <td>8842281e1d1347389f2ab93d60773d4d</td>\n",
       "    </tr>\n",
       "    <tr>\n",
       "      <th>3</th>\n",
       "      <td>27161156</td>\n",
       "      <td>False</td>\n",
       "      <td>0</td>\n",
       "      <td>ced5675e55cd9d38a524743f5c40996e</td>\n",
       "      <td>[[0, Recommended reading to understand what is...</td>\n",
       "      <td>2016-11-09</td>\n",
       "      <td>8842281e1d1347389f2ab93d60773d4d</td>\n",
       "    </tr>\n",
       "    <tr>\n",
       "      <th>4</th>\n",
       "      <td>25884323</td>\n",
       "      <td>True</td>\n",
       "      <td>4</td>\n",
       "      <td>332732725863131279a8e345b63ac33e</td>\n",
       "      <td>[[0, I really enjoyed this book, and there is ...</td>\n",
       "      <td>2016-04-25</td>\n",
       "      <td>8842281e1d1347389f2ab93d60773d4d</td>\n",
       "    </tr>\n",
       "  </tbody>\n",
       "</table>\n",
       "</div>"
      ],
      "text/plain": [
       "    book_id  has_spoiler  rating                         review_id  \\\n",
       "0  18245960         True       5  dfdbb7b0eb5a7e4c26d59a937e2e5feb   \n",
       "1     16981        False       3  a5d2c3628987712d0e05c4f90798eb67   \n",
       "2  28684704         True       3  2ede853b14dc4583f96cf5d120af636f   \n",
       "3  27161156        False       0  ced5675e55cd9d38a524743f5c40996e   \n",
       "4  25884323         True       4  332732725863131279a8e345b63ac33e   \n",
       "\n",
       "                                    review_sentences   timestamp  \\\n",
       "0  [[0, This is a special book.], [0, It started ...  2017-08-30   \n",
       "1  [[0, Recommended by Don Katz.], [0, Avail for ...  2017-03-22   \n",
       "2  [[0, A fun, fast paced science fiction thrille...  2017-03-20   \n",
       "3  [[0, Recommended reading to understand what is...  2016-11-09   \n",
       "4  [[0, I really enjoyed this book, and there is ...  2016-04-25   \n",
       "\n",
       "                            user_id  \n",
       "0  8842281e1d1347389f2ab93d60773d4d  \n",
       "1  8842281e1d1347389f2ab93d60773d4d  \n",
       "2  8842281e1d1347389f2ab93d60773d4d  \n",
       "3  8842281e1d1347389f2ab93d60773d4d  \n",
       "4  8842281e1d1347389f2ab93d60773d4d  "
      ]
     },
     "execution_count": 50,
     "metadata": {},
     "output_type": "execute_result"
    }
   ],
   "source": [
    "# get a quick look at the reviews data\n",
    "df_reviews.head()"
   ]
  },
  {
   "cell_type": "code",
   "execution_count": 51,
   "metadata": {},
   "outputs": [
    {
     "data": {
      "text/html": [
       "<div>\n",
       "<style scoped>\n",
       "    .dataframe tbody tr th:only-of-type {\n",
       "        vertical-align: middle;\n",
       "    }\n",
       "\n",
       "    .dataframe tbody tr th {\n",
       "        vertical-align: top;\n",
       "    }\n",
       "\n",
       "    .dataframe thead th {\n",
       "        text-align: right;\n",
       "    }\n",
       "</style>\n",
       "<table border=\"1\" class=\"dataframe\">\n",
       "  <thead>\n",
       "    <tr style=\"text-align: right;\">\n",
       "      <th></th>\n",
       "      <th>book_id</th>\n",
       "      <th>has_spoiler</th>\n",
       "      <th>rating</th>\n",
       "      <th>review_id</th>\n",
       "      <th>review_sentences</th>\n",
       "      <th>timestamp</th>\n",
       "      <th>user_id</th>\n",
       "      <th>title</th>\n",
       "      <th>description</th>\n",
       "      <th>publication_year</th>\n",
       "      <th>publication_month</th>\n",
       "      <th>publication_day</th>\n",
       "      <th>average_rating</th>\n",
       "      <th>ratings_count</th>\n",
       "      <th>num_pages</th>\n",
       "      <th>weighted_average_rating</th>\n",
       "      <th>genres</th>\n",
       "      <th>best_genre</th>\n",
       "    </tr>\n",
       "  </thead>\n",
       "  <tbody>\n",
       "    <tr>\n",
       "      <th>0</th>\n",
       "      <td>18245960</td>\n",
       "      <td>True</td>\n",
       "      <td>5</td>\n",
       "      <td>dfdbb7b0eb5a7e4c26d59a937e2e5feb</td>\n",
       "      <td>[[0, This is a special book.], [0, It started ...</td>\n",
       "      <td>2017-08-30</td>\n",
       "      <td>8842281e1d1347389f2ab93d60773d4d</td>\n",
       "      <td>The Three-Body Problem (Remembrance of Earth’s...</td>\n",
       "      <td>The Three-Body Problemis the first chance for ...</td>\n",
       "      <td>2014.0</td>\n",
       "      <td>10.0</td>\n",
       "      <td>14.0</td>\n",
       "      <td>4.01</td>\n",
       "      <td>6336.0</td>\n",
       "      <td>400.0</td>\n",
       "      <td>25407.36</td>\n",
       "      <td>{'fiction': 393, 'fantasy, paranormal': 341, '...</td>\n",
       "      <td>fiction</td>\n",
       "    </tr>\n",
       "    <tr>\n",
       "      <th>1</th>\n",
       "      <td>18245960</td>\n",
       "      <td>False</td>\n",
       "      <td>3</td>\n",
       "      <td>b88eb6519a046159a31afcc21a448b6f</td>\n",
       "      <td>[[0, Average between the 4 star concepts (over...</td>\n",
       "      <td>2015-10-21</td>\n",
       "      <td>1a2398eca437fed5d9add310a0c09611</td>\n",
       "      <td>The Three-Body Problem (Remembrance of Earth’s...</td>\n",
       "      <td>The Three-Body Problemis the first chance for ...</td>\n",
       "      <td>2014.0</td>\n",
       "      <td>10.0</td>\n",
       "      <td>14.0</td>\n",
       "      <td>4.01</td>\n",
       "      <td>6336.0</td>\n",
       "      <td>400.0</td>\n",
       "      <td>25407.36</td>\n",
       "      <td>{'fiction': 393, 'fantasy, paranormal': 341, '...</td>\n",
       "      <td>fiction</td>\n",
       "    </tr>\n",
       "    <tr>\n",
       "      <th>2</th>\n",
       "      <td>18245960</td>\n",
       "      <td>False</td>\n",
       "      <td>5</td>\n",
       "      <td>5ea837edf3b1386c613a123f46e1cccd</td>\n",
       "      <td>[[0, A really refreshing take on science ficti...</td>\n",
       "      <td>2017-05-22</td>\n",
       "      <td>ab19fd8bcc1021d1c0f42dfa8d47f1e3</td>\n",
       "      <td>The Three-Body Problem (Remembrance of Earth’s...</td>\n",
       "      <td>The Three-Body Problemis the first chance for ...</td>\n",
       "      <td>2014.0</td>\n",
       "      <td>10.0</td>\n",
       "      <td>14.0</td>\n",
       "      <td>4.01</td>\n",
       "      <td>6336.0</td>\n",
       "      <td>400.0</td>\n",
       "      <td>25407.36</td>\n",
       "      <td>{'fiction': 393, 'fantasy, paranormal': 341, '...</td>\n",
       "      <td>fiction</td>\n",
       "    </tr>\n",
       "    <tr>\n",
       "      <th>3</th>\n",
       "      <td>18245960</td>\n",
       "      <td>True</td>\n",
       "      <td>1</td>\n",
       "      <td>cefa3a787e1a845fb48acad37ff528de</td>\n",
       "      <td>[[0, I'm really waffling between whether to ra...</td>\n",
       "      <td>2015-07-10</td>\n",
       "      <td>e956ca90ba23174bbbccf1161ab19150</td>\n",
       "      <td>The Three-Body Problem (Remembrance of Earth’s...</td>\n",
       "      <td>The Three-Body Problemis the first chance for ...</td>\n",
       "      <td>2014.0</td>\n",
       "      <td>10.0</td>\n",
       "      <td>14.0</td>\n",
       "      <td>4.01</td>\n",
       "      <td>6336.0</td>\n",
       "      <td>400.0</td>\n",
       "      <td>25407.36</td>\n",
       "      <td>{'fiction': 393, 'fantasy, paranormal': 341, '...</td>\n",
       "      <td>fiction</td>\n",
       "    </tr>\n",
       "    <tr>\n",
       "      <th>4</th>\n",
       "      <td>18245960</td>\n",
       "      <td>True</td>\n",
       "      <td>5</td>\n",
       "      <td>86a7c0571fd59e729cf9e2340dda1224</td>\n",
       "      <td>[[0, Every time I read a good science fiction ...</td>\n",
       "      <td>2016-07-30</td>\n",
       "      <td>da7a0c5ee0c89973224d8853445be68e</td>\n",
       "      <td>The Three-Body Problem (Remembrance of Earth’s...</td>\n",
       "      <td>The Three-Body Problemis the first chance for ...</td>\n",
       "      <td>2014.0</td>\n",
       "      <td>10.0</td>\n",
       "      <td>14.0</td>\n",
       "      <td>4.01</td>\n",
       "      <td>6336.0</td>\n",
       "      <td>400.0</td>\n",
       "      <td>25407.36</td>\n",
       "      <td>{'fiction': 393, 'fantasy, paranormal': 341, '...</td>\n",
       "      <td>fiction</td>\n",
       "    </tr>\n",
       "  </tbody>\n",
       "</table>\n",
       "</div>"
      ],
      "text/plain": [
       "    book_id  has_spoiler  rating                         review_id  \\\n",
       "0  18245960         True       5  dfdbb7b0eb5a7e4c26d59a937e2e5feb   \n",
       "1  18245960        False       3  b88eb6519a046159a31afcc21a448b6f   \n",
       "2  18245960        False       5  5ea837edf3b1386c613a123f46e1cccd   \n",
       "3  18245960         True       1  cefa3a787e1a845fb48acad37ff528de   \n",
       "4  18245960         True       5  86a7c0571fd59e729cf9e2340dda1224   \n",
       "\n",
       "                                    review_sentences   timestamp  \\\n",
       "0  [[0, This is a special book.], [0, It started ...  2017-08-30   \n",
       "1  [[0, Average between the 4 star concepts (over...  2015-10-21   \n",
       "2  [[0, A really refreshing take on science ficti...  2017-05-22   \n",
       "3  [[0, I'm really waffling between whether to ra...  2015-07-10   \n",
       "4  [[0, Every time I read a good science fiction ...  2016-07-30   \n",
       "\n",
       "                            user_id  \\\n",
       "0  8842281e1d1347389f2ab93d60773d4d   \n",
       "1  1a2398eca437fed5d9add310a0c09611   \n",
       "2  ab19fd8bcc1021d1c0f42dfa8d47f1e3   \n",
       "3  e956ca90ba23174bbbccf1161ab19150   \n",
       "4  da7a0c5ee0c89973224d8853445be68e   \n",
       "\n",
       "                                               title  \\\n",
       "0  The Three-Body Problem (Remembrance of Earth’s...   \n",
       "1  The Three-Body Problem (Remembrance of Earth’s...   \n",
       "2  The Three-Body Problem (Remembrance of Earth’s...   \n",
       "3  The Three-Body Problem (Remembrance of Earth’s...   \n",
       "4  The Three-Body Problem (Remembrance of Earth’s...   \n",
       "\n",
       "                                         description  publication_year  \\\n",
       "0  The Three-Body Problemis the first chance for ...            2014.0   \n",
       "1  The Three-Body Problemis the first chance for ...            2014.0   \n",
       "2  The Three-Body Problemis the first chance for ...            2014.0   \n",
       "3  The Three-Body Problemis the first chance for ...            2014.0   \n",
       "4  The Three-Body Problemis the first chance for ...            2014.0   \n",
       "\n",
       "   publication_month  publication_day  average_rating  ratings_count  \\\n",
       "0               10.0             14.0            4.01         6336.0   \n",
       "1               10.0             14.0            4.01         6336.0   \n",
       "2               10.0             14.0            4.01         6336.0   \n",
       "3               10.0             14.0            4.01         6336.0   \n",
       "4               10.0             14.0            4.01         6336.0   \n",
       "\n",
       "   num_pages  weighted_average_rating  \\\n",
       "0      400.0                 25407.36   \n",
       "1      400.0                 25407.36   \n",
       "2      400.0                 25407.36   \n",
       "3      400.0                 25407.36   \n",
       "4      400.0                 25407.36   \n",
       "\n",
       "                                              genres best_genre  \n",
       "0  {'fiction': 393, 'fantasy, paranormal': 341, '...    fiction  \n",
       "1  {'fiction': 393, 'fantasy, paranormal': 341, '...    fiction  \n",
       "2  {'fiction': 393, 'fantasy, paranormal': 341, '...    fiction  \n",
       "3  {'fiction': 393, 'fantasy, paranormal': 341, '...    fiction  \n",
       "4  {'fiction': 393, 'fantasy, paranormal': 341, '...    fiction  "
      ]
     },
     "execution_count": 51,
     "metadata": {},
     "output_type": "execute_result"
    }
   ],
   "source": [
    "# merge datatframes\n",
    "df_all = df_reviews.merge(book_meta_features2, on='book_id' ).merge(df_genre, on= 'book_id')\n",
    "df_all.head()"
   ]
  },
  {
   "cell_type": "code",
   "execution_count": 52,
   "metadata": {},
   "outputs": [],
   "source": [
    "# save dataframe\n",
    "#df_all.to_csv('complete_data.csv', chunksize=10000)"
   ]
  },
  {
   "cell_type": "code",
   "execution_count": 53,
   "metadata": {},
   "outputs": [],
   "source": [
    "# split into train, val and test dataset (70:20:10)\n",
    "df_train, df_validate, df_test = \\\n",
    "              np.split(df_all.sample(frac=1, random_state=42), \n",
    "                       [int(.7*len(df_all)), int(.9*len(df_all))])"
   ]
  },
  {
   "cell_type": "code",
   "execution_count": null,
   "metadata": {},
   "outputs": [],
   "source": [
    "print(df_train.shape, df_validate.shape, df_test.shape)"
   ]
  },
  {
   "cell_type": "code",
   "execution_count": null,
   "metadata": {},
   "outputs": [],
   "source": [
    "#save train, val and test dataset as csv files\n",
    "t0 = time.time()\n",
    "\n",
    "df_train.to_json('training_set.json', orient = 'index')\n",
    "df_validate.to_json('validation_set.json', orient = 'index')\n",
    "df_test.to_json('test_set.json', orient = 'index')\n",
    "\n",
    "elapsed_time = time.time()-t0\n",
    "time.strftime(\"%H:%M:%S\", time.gmtime(elapsed_time))"
   ]
  },
  {
   "cell_type": "code",
   "execution_count": 28,
   "metadata": {},
   "outputs": [
    {
     "name": "stdout",
     "output_type": "stream",
     "text": [
      "00:06:01\n"
     ]
    }
   ],
   "source": [
    "# test import \n",
    "t0 = time.time()\n",
    "df_train = pd.read_json('training_set.json', orient = 'index')\n",
    "elapsed_time = time.time()-t0\n",
    "print(time.strftime(\"%H:%M:%S\", time.gmtime(elapsed_time)))\n"
   ]
  },
  {
   "cell_type": "code",
   "execution_count": 29,
   "metadata": {},
   "outputs": [
    {
     "data": {
      "text/plain": [
       "(964623, 18)"
      ]
     },
     "execution_count": 29,
     "metadata": {},
     "output_type": "execute_result"
    }
   ],
   "source": [
    "df_train.shape"
   ]
  },
  {
   "cell_type": "code",
   "execution_count": 8,
   "metadata": {},
   "outputs": [],
   "source": [
    "# functions to isolate labels and text from review_sentences column\n",
    "def get_sentence_label(x):\n",
    "    return [label for label, text in x]\n",
    "def get_sentence_text(x):\n",
    "    return [text for label, text in x]\n"
   ]
  },
  {
   "cell_type": "code",
   "execution_count": 9,
   "metadata": {},
   "outputs": [
    {
     "name": "stdout",
     "output_type": "stream",
     "text": [
      "Time for extracting text: 00:01:14\n",
      "time for extracting sentence labels: 00:00:14\n",
      "Total time: 00:01:28\n"
     ]
    }
   ],
   "source": [
    "#\n",
    "t0 = time.time()\n",
    "df_train['sentence_labels'] = df_train.review_sentences.apply(lambda x: get_sentence_label(x))\n",
    "t1 = time.time()\n",
    "print(f'Time for extracting text: {time.strftime(\"%H:%M:%S\", time.gmtime(t1-t0))}')\n",
    "df_train['sentence_texts'] = df_train.review_sentences.apply(lambda x: get_sentence_text(x))\n",
    "t2 = time.time()\n",
    "print(f'time for extracting sentence labels: {time.strftime(\"%H:%M:%S\", time.gmtime(t2-t1))}')\n",
    "print(f'Total time: {time.strftime(\"%H:%M:%S\", time.gmtime(t2-t0))}')"
   ]
  },
  {
   "cell_type": "code",
   "execution_count": 73,
   "metadata": {},
   "outputs": [
    {
     "data": {
      "text/plain": [
       "(62815, 18)"
      ]
     },
     "execution_count": 73,
     "metadata": {},
     "output_type": "execute_result"
    }
   ],
   "source": [
    "# for wordcloud and other analysis split the dataset into spoiler an dno spoiler datset\n",
    "df_spoilers = df_train.copy()\n",
    "df_spoilers = df_spoilers[df_spoilers['has_spoiler'] == True]\n",
    "df_spoilers.shape"
   ]
  },
  {
   "cell_type": "code",
   "execution_count": 64,
   "metadata": {},
   "outputs": [
    {
     "data": {
      "text/html": [
       "<div>\n",
       "<style scoped>\n",
       "    .dataframe tbody tr th:only-of-type {\n",
       "        vertical-align: middle;\n",
       "    }\n",
       "\n",
       "    .dataframe tbody tr th {\n",
       "        vertical-align: top;\n",
       "    }\n",
       "\n",
       "    .dataframe thead th {\n",
       "        text-align: right;\n",
       "    }\n",
       "</style>\n",
       "<table border=\"1\" class=\"dataframe\">\n",
       "  <thead>\n",
       "    <tr style=\"text-align: right;\">\n",
       "      <th></th>\n",
       "      <th>average_rating</th>\n",
       "      <th>best_genre</th>\n",
       "      <th>book_id</th>\n",
       "      <th>description</th>\n",
       "      <th>genres</th>\n",
       "      <th>has_spoiler</th>\n",
       "      <th>num_pages</th>\n",
       "      <th>publication_day</th>\n",
       "      <th>publication_month</th>\n",
       "      <th>publication_year</th>\n",
       "      <th>rating</th>\n",
       "      <th>ratings_count</th>\n",
       "      <th>review_id</th>\n",
       "      <th>review_sentences</th>\n",
       "      <th>timestamp</th>\n",
       "      <th>title</th>\n",
       "      <th>user_id</th>\n",
       "      <th>weighted_average_rating</th>\n",
       "      <th>sentence_labels</th>\n",
       "      <th>sentence_texts</th>\n",
       "    </tr>\n",
       "  </thead>\n",
       "  <tbody>\n",
       "    <tr>\n",
       "      <th>859048</th>\n",
       "      <td>3.92</td>\n",
       "      <td>young-adult</td>\n",
       "      <td>13517455</td>\n",
       "      <td>Five years ago, Wren Connolly was shot three t...</td>\n",
       "      <td>{'young-adult': 1025, 'fiction': 633, 'romance...</td>\n",
       "      <td>1</td>\n",
       "      <td>365.0</td>\n",
       "      <td>7.0</td>\n",
       "      <td>5.0</td>\n",
       "      <td>2013.0</td>\n",
       "      <td>5</td>\n",
       "      <td>23778.0</td>\n",
       "      <td>5b942fa92ca26d999063758098d36742</td>\n",
       "      <td>[[0, Review originally posted at Step Into Fic...</td>\n",
       "      <td>2013-04-11</td>\n",
       "      <td>Reboot (Reboot, #1)</td>\n",
       "      <td>883e2e0ae9de4c2c46c0fb09d6025fdf</td>\n",
       "      <td>93209.76</td>\n",
       "      <td>[0, 0, 0, 0, 0, 0, 0, 0, 0, 0, 0, 0, 0, 0, 0, ...</td>\n",
       "      <td>[Review originally posted at Step Into Fiction...</td>\n",
       "    </tr>\n",
       "    <tr>\n",
       "      <th>1079332</th>\n",
       "      <td>4.39</td>\n",
       "      <td>comics, graphic</td>\n",
       "      <td>13620</td>\n",
       "      <td>Although they've collected plenty of evidence ...</td>\n",
       "      <td>{'comics, graphic': 854, 'fantasy, paranormal'...</td>\n",
       "      <td>1</td>\n",
       "      <td>215.0</td>\n",
       "      <td>5.0</td>\n",
       "      <td>7.0</td>\n",
       "      <td>2006.0</td>\n",
       "      <td>4</td>\n",
       "      <td>15486.0</td>\n",
       "      <td>e493d9ef493603381cd1241349c37381</td>\n",
       "      <td>[[0, This is an interesting volume in which L ...</td>\n",
       "      <td>2016-12-01</td>\n",
       "      <td>Death Note, Vol. 6: Give-and-Take (Death Note,...</td>\n",
       "      <td>8811d75d39ef5d4dd88a3e209cf005b4</td>\n",
       "      <td>67983.54</td>\n",
       "      <td>[0, 1, 1, 0]</td>\n",
       "      <td>[This is an interesting volume in which L lear...</td>\n",
       "    </tr>\n",
       "    <tr>\n",
       "      <th>135626</th>\n",
       "      <td>4.28</td>\n",
       "      <td>fantasy, paranormal</td>\n",
       "      <td>16096824</td>\n",
       "      <td>Feyre's survival rests upon her ability to hun...</td>\n",
       "      <td>{'fantasy, paranormal': 10725, 'young-adult': ...</td>\n",
       "      <td>1</td>\n",
       "      <td>416.0</td>\n",
       "      <td>5.0</td>\n",
       "      <td>5.0</td>\n",
       "      <td>2015.0</td>\n",
       "      <td>4</td>\n",
       "      <td>182581.0</td>\n",
       "      <td>b2b8f14ccadc67149f0bb4838398ff00</td>\n",
       "      <td>[[0, I'm actually surprised at how much I enjo...</td>\n",
       "      <td>2017-07-31</td>\n",
       "      <td>A Court of Thorns and Roses (A Court of Thorns...</td>\n",
       "      <td>e6bc867b9841ae70809e26fcbdd2517e</td>\n",
       "      <td>781446.68</td>\n",
       "      <td>[0, 0, 0, 0, 0, 0, 0, 0, 0, 1, 0, 0]</td>\n",
       "      <td>[I'm actually surprised at how much I enjoyed ...</td>\n",
       "    </tr>\n",
       "    <tr>\n",
       "      <th>885360</th>\n",
       "      <td>3.67</td>\n",
       "      <td>romance</td>\n",
       "      <td>658351</td>\n",
       "      <td>Nothing is more seductive than temptation.\\nRe...</td>\n",
       "      <td>{'history, historical fiction, biography': 600...</td>\n",
       "      <td>1</td>\n",
       "      <td>480.0</td>\n",
       "      <td>9.0</td>\n",
       "      <td>5.0</td>\n",
       "      <td>2000.0</td>\n",
       "      <td>2</td>\n",
       "      <td>3950.0</td>\n",
       "      <td>9ac2bd80782fb527af31780e1b7bd149</td>\n",
       "      <td>[[0, OK, from the date and comments I've read ...</td>\n",
       "      <td>2011-12-28</td>\n",
       "      <td>Potent Pleasures (Pleasures, #1)</td>\n",
       "      <td>669857f1fadc9d247effababbbfbe334</td>\n",
       "      <td>14496.50</td>\n",
       "      <td>[0, 0, 0, 0, 0, 0, 0, 0, 0, 0, 0, 1, 1, 1, 1, ...</td>\n",
       "      <td>[OK, from the date and comments I've read abou...</td>\n",
       "    </tr>\n",
       "    <tr>\n",
       "      <th>802134</th>\n",
       "      <td>4.09</td>\n",
       "      <td>mystery, thriller, crime</td>\n",
       "      <td>25526965</td>\n",
       "      <td>The spectacular finale to the New York Times b...</td>\n",
       "      <td>{'fiction': 662, 'mystery, thriller, crime': 1...</td>\n",
       "      <td>1</td>\n",
       "      <td>432.0</td>\n",
       "      <td>7.0</td>\n",
       "      <td>6.0</td>\n",
       "      <td>2016.0</td>\n",
       "      <td>5</td>\n",
       "      <td>37011.0</td>\n",
       "      <td>a2107f3ae8c571ec5143e25a5039171c</td>\n",
       "      <td>[[1, The best one of the three book-series - p...</td>\n",
       "      <td>2016-09-19</td>\n",
       "      <td>End of Watch (Bill Hodges Trilogy, #3)</td>\n",
       "      <td>9eb4a3eddac3760571020b5a49136f87</td>\n",
       "      <td>151374.99</td>\n",
       "      <td>[1]</td>\n",
       "      <td>[The best one of the three book-series - partl...</td>\n",
       "    </tr>\n",
       "  </tbody>\n",
       "</table>\n",
       "</div>"
      ],
      "text/plain": [
       "         average_rating                best_genre   book_id  \\\n",
       "859048             3.92               young-adult  13517455   \n",
       "1079332            4.39           comics, graphic     13620   \n",
       "135626             4.28       fantasy, paranormal  16096824   \n",
       "885360             3.67                   romance    658351   \n",
       "802134             4.09  mystery, thriller, crime  25526965   \n",
       "\n",
       "                                               description  \\\n",
       "859048   Five years ago, Wren Connolly was shot three t...   \n",
       "1079332  Although they've collected plenty of evidence ...   \n",
       "135626   Feyre's survival rests upon her ability to hun...   \n",
       "885360   Nothing is more seductive than temptation.\\nRe...   \n",
       "802134   The spectacular finale to the New York Times b...   \n",
       "\n",
       "                                                    genres  has_spoiler  \\\n",
       "859048   {'young-adult': 1025, 'fiction': 633, 'romance...            1   \n",
       "1079332  {'comics, graphic': 854, 'fantasy, paranormal'...            1   \n",
       "135626   {'fantasy, paranormal': 10725, 'young-adult': ...            1   \n",
       "885360   {'history, historical fiction, biography': 600...            1   \n",
       "802134   {'fiction': 662, 'mystery, thriller, crime': 1...            1   \n",
       "\n",
       "         num_pages  publication_day  publication_month  publication_year  \\\n",
       "859048       365.0              7.0                5.0            2013.0   \n",
       "1079332      215.0              5.0                7.0            2006.0   \n",
       "135626       416.0              5.0                5.0            2015.0   \n",
       "885360       480.0              9.0                5.0            2000.0   \n",
       "802134       432.0              7.0                6.0            2016.0   \n",
       "\n",
       "         rating  ratings_count                         review_id  \\\n",
       "859048        5        23778.0  5b942fa92ca26d999063758098d36742   \n",
       "1079332       4        15486.0  e493d9ef493603381cd1241349c37381   \n",
       "135626        4       182581.0  b2b8f14ccadc67149f0bb4838398ff00   \n",
       "885360        2         3950.0  9ac2bd80782fb527af31780e1b7bd149   \n",
       "802134        5        37011.0  a2107f3ae8c571ec5143e25a5039171c   \n",
       "\n",
       "                                          review_sentences  timestamp  \\\n",
       "859048   [[0, Review originally posted at Step Into Fic... 2013-04-11   \n",
       "1079332  [[0, This is an interesting volume in which L ... 2016-12-01   \n",
       "135626   [[0, I'm actually surprised at how much I enjo... 2017-07-31   \n",
       "885360   [[0, OK, from the date and comments I've read ... 2011-12-28   \n",
       "802134   [[1, The best one of the three book-series - p... 2016-09-19   \n",
       "\n",
       "                                                     title  \\\n",
       "859048                                 Reboot (Reboot, #1)   \n",
       "1079332  Death Note, Vol. 6: Give-and-Take (Death Note,...   \n",
       "135626   A Court of Thorns and Roses (A Court of Thorns...   \n",
       "885360                    Potent Pleasures (Pleasures, #1)   \n",
       "802134              End of Watch (Bill Hodges Trilogy, #3)   \n",
       "\n",
       "                                  user_id  weighted_average_rating  \\\n",
       "859048   883e2e0ae9de4c2c46c0fb09d6025fdf                 93209.76   \n",
       "1079332  8811d75d39ef5d4dd88a3e209cf005b4                 67983.54   \n",
       "135626   e6bc867b9841ae70809e26fcbdd2517e                781446.68   \n",
       "885360   669857f1fadc9d247effababbbfbe334                 14496.50   \n",
       "802134   9eb4a3eddac3760571020b5a49136f87                151374.99   \n",
       "\n",
       "                                           sentence_labels  \\\n",
       "859048   [0, 0, 0, 0, 0, 0, 0, 0, 0, 0, 0, 0, 0, 0, 0, ...   \n",
       "1079332                                       [0, 1, 1, 0]   \n",
       "135626                [0, 0, 0, 0, 0, 0, 0, 0, 0, 1, 0, 0]   \n",
       "885360   [0, 0, 0, 0, 0, 0, 0, 0, 0, 0, 0, 1, 1, 1, 1, ...   \n",
       "802134                                                 [1]   \n",
       "\n",
       "                                            sentence_texts  \n",
       "859048   [Review originally posted at Step Into Fiction...  \n",
       "1079332  [This is an interesting volume in which L lear...  \n",
       "135626   [I'm actually surprised at how much I enjoyed ...  \n",
       "885360   [OK, from the date and comments I've read abou...  \n",
       "802134   [The best one of the three book-series - partl...  "
      ]
     },
     "execution_count": 64,
     "metadata": {},
     "output_type": "execute_result"
    }
   ],
   "source": [
    "df_spoilers.head()\n"
   ]
  },
  {
   "cell_type": "code",
   "execution_count": 74,
   "metadata": {},
   "outputs": [
    {
     "name": "stdout",
     "output_type": "stream",
     "text": [
      "(901808, 18)\n"
     ]
    },
    {
     "data": {
      "text/plain": [
       "(62815, 18)"
      ]
     },
     "execution_count": 74,
     "metadata": {},
     "output_type": "execute_result"
    }
   ],
   "source": [
    "# subset of reviews with spoilers\n",
    "df_no_spoilers = df_train.copy()\n",
    "df_no_spoilers = df_no_spoilers[df_no_spoilers['has_spoiler'] == False]\n",
    "print(df_no_spoilers.shape)\n",
    "#reduce number of observations in the no spoiler dataset to match shape of spoiler dataset\n",
    "df_no_spoilers = df_no_spoilers[:df_spoilers.shape[0]]\n",
    "df_no_spoilers.shape"
   ]
  },
  {
   "cell_type": "code",
   "execution_count": 66,
   "metadata": {},
   "outputs": [],
   "source": [
    "df_spoilers.to_json('train_spoilers.json', orient = 'index')\n",
    "df_no_spoilers.to_json('train_no_spoilers.json', orient = 'index')"
   ]
  },
  {
   "cell_type": "code",
   "execution_count": 67,
   "metadata": {},
   "outputs": [
    {
     "data": {
      "text/html": [
       "<div>\n",
       "<style scoped>\n",
       "    .dataframe tbody tr th:only-of-type {\n",
       "        vertical-align: middle;\n",
       "    }\n",
       "\n",
       "    .dataframe tbody tr th {\n",
       "        vertical-align: top;\n",
       "    }\n",
       "\n",
       "    .dataframe thead th {\n",
       "        text-align: right;\n",
       "    }\n",
       "</style>\n",
       "<table border=\"1\" class=\"dataframe\">\n",
       "  <thead>\n",
       "    <tr style=\"text-align: right;\">\n",
       "      <th></th>\n",
       "      <th>average_rating</th>\n",
       "      <th>best_genre</th>\n",
       "      <th>book_id</th>\n",
       "      <th>description</th>\n",
       "      <th>genres</th>\n",
       "      <th>has_spoiler</th>\n",
       "      <th>num_pages</th>\n",
       "      <th>publication_day</th>\n",
       "      <th>publication_month</th>\n",
       "      <th>publication_year</th>\n",
       "      <th>rating</th>\n",
       "      <th>ratings_count</th>\n",
       "      <th>review_id</th>\n",
       "      <th>review_sentences</th>\n",
       "      <th>timestamp</th>\n",
       "      <th>title</th>\n",
       "      <th>user_id</th>\n",
       "      <th>weighted_average_rating</th>\n",
       "      <th>sentence_labels</th>\n",
       "      <th>sentence_texts</th>\n",
       "    </tr>\n",
       "  </thead>\n",
       "  <tbody>\n",
       "    <tr>\n",
       "      <th>859048</th>\n",
       "      <td>3.92</td>\n",
       "      <td>young-adult</td>\n",
       "      <td>13517455</td>\n",
       "      <td>Five years ago, Wren Connolly was shot three t...</td>\n",
       "      <td>{'young-adult': 1025, 'fiction': 633, 'romance...</td>\n",
       "      <td>1</td>\n",
       "      <td>365.0</td>\n",
       "      <td>7.0</td>\n",
       "      <td>5.0</td>\n",
       "      <td>2013.0</td>\n",
       "      <td>5</td>\n",
       "      <td>23778.0</td>\n",
       "      <td>5b942fa92ca26d999063758098d36742</td>\n",
       "      <td>[[0, Review originally posted at Step Into Fic...</td>\n",
       "      <td>2013-04-11</td>\n",
       "      <td>Reboot (Reboot, #1)</td>\n",
       "      <td>883e2e0ae9de4c2c46c0fb09d6025fdf</td>\n",
       "      <td>93209.76</td>\n",
       "      <td>[0, 0, 0, 0, 0, 0, 0, 0, 0, 0, 0, 0, 0, 0, 0, ...</td>\n",
       "      <td>[Review originally posted at Step Into Fiction...</td>\n",
       "    </tr>\n",
       "    <tr>\n",
       "      <th>1079332</th>\n",
       "      <td>4.39</td>\n",
       "      <td>comics, graphic</td>\n",
       "      <td>13620</td>\n",
       "      <td>Although they've collected plenty of evidence ...</td>\n",
       "      <td>{'comics, graphic': 854, 'fantasy, paranormal'...</td>\n",
       "      <td>1</td>\n",
       "      <td>215.0</td>\n",
       "      <td>5.0</td>\n",
       "      <td>7.0</td>\n",
       "      <td>2006.0</td>\n",
       "      <td>4</td>\n",
       "      <td>15486.0</td>\n",
       "      <td>e493d9ef493603381cd1241349c37381</td>\n",
       "      <td>[[0, This is an interesting volume in which L ...</td>\n",
       "      <td>2016-12-01</td>\n",
       "      <td>Death Note, Vol. 6: Give-and-Take (Death Note,...</td>\n",
       "      <td>8811d75d39ef5d4dd88a3e209cf005b4</td>\n",
       "      <td>67983.54</td>\n",
       "      <td>[0, 1, 1, 0]</td>\n",
       "      <td>[This is an interesting volume in which L lear...</td>\n",
       "    </tr>\n",
       "    <tr>\n",
       "      <th>135626</th>\n",
       "      <td>4.28</td>\n",
       "      <td>fantasy, paranormal</td>\n",
       "      <td>16096824</td>\n",
       "      <td>Feyre's survival rests upon her ability to hun...</td>\n",
       "      <td>{'fantasy, paranormal': 10725, 'young-adult': ...</td>\n",
       "      <td>1</td>\n",
       "      <td>416.0</td>\n",
       "      <td>5.0</td>\n",
       "      <td>5.0</td>\n",
       "      <td>2015.0</td>\n",
       "      <td>4</td>\n",
       "      <td>182581.0</td>\n",
       "      <td>b2b8f14ccadc67149f0bb4838398ff00</td>\n",
       "      <td>[[0, I'm actually surprised at how much I enjo...</td>\n",
       "      <td>2017-07-31</td>\n",
       "      <td>A Court of Thorns and Roses (A Court of Thorns...</td>\n",
       "      <td>e6bc867b9841ae70809e26fcbdd2517e</td>\n",
       "      <td>781446.68</td>\n",
       "      <td>[0, 0, 0, 0, 0, 0, 0, 0, 0, 1, 0, 0]</td>\n",
       "      <td>[I'm actually surprised at how much I enjoyed ...</td>\n",
       "    </tr>\n",
       "    <tr>\n",
       "      <th>885360</th>\n",
       "      <td>3.67</td>\n",
       "      <td>romance</td>\n",
       "      <td>658351</td>\n",
       "      <td>Nothing is more seductive than temptation.\\nRe...</td>\n",
       "      <td>{'history, historical fiction, biography': 600...</td>\n",
       "      <td>1</td>\n",
       "      <td>480.0</td>\n",
       "      <td>9.0</td>\n",
       "      <td>5.0</td>\n",
       "      <td>2000.0</td>\n",
       "      <td>2</td>\n",
       "      <td>3950.0</td>\n",
       "      <td>9ac2bd80782fb527af31780e1b7bd149</td>\n",
       "      <td>[[0, OK, from the date and comments I've read ...</td>\n",
       "      <td>2011-12-28</td>\n",
       "      <td>Potent Pleasures (Pleasures, #1)</td>\n",
       "      <td>669857f1fadc9d247effababbbfbe334</td>\n",
       "      <td>14496.50</td>\n",
       "      <td>[0, 0, 0, 0, 0, 0, 0, 0, 0, 0, 0, 1, 1, 1, 1, ...</td>\n",
       "      <td>[OK, from the date and comments I've read abou...</td>\n",
       "    </tr>\n",
       "    <tr>\n",
       "      <th>802134</th>\n",
       "      <td>4.09</td>\n",
       "      <td>mystery, thriller, crime</td>\n",
       "      <td>25526965</td>\n",
       "      <td>The spectacular finale to the New York Times b...</td>\n",
       "      <td>{'fiction': 662, 'mystery, thriller, crime': 1...</td>\n",
       "      <td>1</td>\n",
       "      <td>432.0</td>\n",
       "      <td>7.0</td>\n",
       "      <td>6.0</td>\n",
       "      <td>2016.0</td>\n",
       "      <td>5</td>\n",
       "      <td>37011.0</td>\n",
       "      <td>a2107f3ae8c571ec5143e25a5039171c</td>\n",
       "      <td>[[1, The best one of the three book-series - p...</td>\n",
       "      <td>2016-09-19</td>\n",
       "      <td>End of Watch (Bill Hodges Trilogy, #3)</td>\n",
       "      <td>9eb4a3eddac3760571020b5a49136f87</td>\n",
       "      <td>151374.99</td>\n",
       "      <td>[1]</td>\n",
       "      <td>[The best one of the three book-series - partl...</td>\n",
       "    </tr>\n",
       "  </tbody>\n",
       "</table>\n",
       "</div>"
      ],
      "text/plain": [
       "         average_rating                best_genre   book_id  \\\n",
       "859048             3.92               young-adult  13517455   \n",
       "1079332            4.39           comics, graphic     13620   \n",
       "135626             4.28       fantasy, paranormal  16096824   \n",
       "885360             3.67                   romance    658351   \n",
       "802134             4.09  mystery, thriller, crime  25526965   \n",
       "\n",
       "                                               description  \\\n",
       "859048   Five years ago, Wren Connolly was shot three t...   \n",
       "1079332  Although they've collected plenty of evidence ...   \n",
       "135626   Feyre's survival rests upon her ability to hun...   \n",
       "885360   Nothing is more seductive than temptation.\\nRe...   \n",
       "802134   The spectacular finale to the New York Times b...   \n",
       "\n",
       "                                                    genres  has_spoiler  \\\n",
       "859048   {'young-adult': 1025, 'fiction': 633, 'romance...            1   \n",
       "1079332  {'comics, graphic': 854, 'fantasy, paranormal'...            1   \n",
       "135626   {'fantasy, paranormal': 10725, 'young-adult': ...            1   \n",
       "885360   {'history, historical fiction, biography': 600...            1   \n",
       "802134   {'fiction': 662, 'mystery, thriller, crime': 1...            1   \n",
       "\n",
       "         num_pages  publication_day  publication_month  publication_year  \\\n",
       "859048       365.0              7.0                5.0            2013.0   \n",
       "1079332      215.0              5.0                7.0            2006.0   \n",
       "135626       416.0              5.0                5.0            2015.0   \n",
       "885360       480.0              9.0                5.0            2000.0   \n",
       "802134       432.0              7.0                6.0            2016.0   \n",
       "\n",
       "         rating  ratings_count                         review_id  \\\n",
       "859048        5        23778.0  5b942fa92ca26d999063758098d36742   \n",
       "1079332       4        15486.0  e493d9ef493603381cd1241349c37381   \n",
       "135626        4       182581.0  b2b8f14ccadc67149f0bb4838398ff00   \n",
       "885360        2         3950.0  9ac2bd80782fb527af31780e1b7bd149   \n",
       "802134        5        37011.0  a2107f3ae8c571ec5143e25a5039171c   \n",
       "\n",
       "                                          review_sentences  timestamp  \\\n",
       "859048   [[0, Review originally posted at Step Into Fic... 2013-04-11   \n",
       "1079332  [[0, This is an interesting volume in which L ... 2016-12-01   \n",
       "135626   [[0, I'm actually surprised at how much I enjo... 2017-07-31   \n",
       "885360   [[0, OK, from the date and comments I've read ... 2011-12-28   \n",
       "802134   [[1, The best one of the three book-series - p... 2016-09-19   \n",
       "\n",
       "                                                     title  \\\n",
       "859048                                 Reboot (Reboot, #1)   \n",
       "1079332  Death Note, Vol. 6: Give-and-Take (Death Note,...   \n",
       "135626   A Court of Thorns and Roses (A Court of Thorns...   \n",
       "885360                    Potent Pleasures (Pleasures, #1)   \n",
       "802134              End of Watch (Bill Hodges Trilogy, #3)   \n",
       "\n",
       "                                  user_id  weighted_average_rating  \\\n",
       "859048   883e2e0ae9de4c2c46c0fb09d6025fdf                 93209.76   \n",
       "1079332  8811d75d39ef5d4dd88a3e209cf005b4                 67983.54   \n",
       "135626   e6bc867b9841ae70809e26fcbdd2517e                781446.68   \n",
       "885360   669857f1fadc9d247effababbbfbe334                 14496.50   \n",
       "802134   9eb4a3eddac3760571020b5a49136f87                151374.99   \n",
       "\n",
       "                                           sentence_labels  \\\n",
       "859048   [0, 0, 0, 0, 0, 0, 0, 0, 0, 0, 0, 0, 0, 0, 0, ...   \n",
       "1079332                                       [0, 1, 1, 0]   \n",
       "135626                [0, 0, 0, 0, 0, 0, 0, 0, 0, 1, 0, 0]   \n",
       "885360   [0, 0, 0, 0, 0, 0, 0, 0, 0, 0, 0, 1, 1, 1, 1, ...   \n",
       "802134                                                 [1]   \n",
       "\n",
       "                                            sentence_texts  \n",
       "859048   [Review originally posted at Step Into Fiction...  \n",
       "1079332  [This is an interesting volume in which L lear...  \n",
       "135626   [I'm actually surprised at how much I enjoyed ...  \n",
       "885360   [OK, from the date and comments I've read abou...  \n",
       "802134   [The best one of the three book-series - partl...  "
      ]
     },
     "execution_count": 67,
     "metadata": {},
     "output_type": "execute_result"
    }
   ],
   "source": [
    "df_spoilers.head()"
   ]
  },
  {
   "cell_type": "code",
   "execution_count": null,
   "metadata": {},
   "outputs": [],
   "source": []
  },
  {
   "cell_type": "markdown",
   "metadata": {},
   "source": [
    "## Spell checking using SympSpell"
   ]
  },
  {
   "cell_type": "code",
   "execution_count": 10,
   "metadata": {},
   "outputs": [
    {
     "name": "stdout",
     "output_type": "stream",
     "text": [
      "Requirement already satisfied: pyspellchecker in /opt/anaconda3/envs/nf/lib/python3.6/site-packages (0.5.5)\n",
      "Requirement already up-to-date: symspellpy in /opt/anaconda3/envs/nf/lib/python3.6/site-packages (6.7.0)\n",
      "Requirement already satisfied, skipping upgrade: numpy>=1.13.1 in /opt/anaconda3/envs/nf/lib/python3.6/site-packages (from symspellpy) (1.16.6)\n"
     ]
    }
   ],
   "source": [
    "# install Sympspell and pyspellchecker\n",
    "! pip install pyspellchecker\n",
    "!python -m pip install -U symspellpy"
   ]
  },
  {
   "cell_type": "code",
   "execution_count": 66,
   "metadata": {},
   "outputs": [],
   "source": [
    "from spellchecker import SpellChecker\n",
    "from symspellpy import SymSpell, Verbosity\n",
    "import pkg_resources\n"
   ]
  },
  {
   "cell_type": "code",
   "execution_count": 26,
   "metadata": {},
   "outputs": [
    {
     "name": "stdout",
     "output_type": "stream",
     "text": [
      "were, 1, 570699558\n",
      "wave, 1, 23713001\n",
      "eve, 1, 13237067\n",
      "wee, 1, 3235414\n",
      "weave, 1, 1965230\n",
      "wove, 1, 194314\n",
      "wive, 1, 74442\n"
     ]
    }
   ],
   "source": []
  },
  {
   "cell_type": "markdown",
   "metadata": {},
   "source": [
    "### Build a dictionary based on the description of the books"
   ]
  },
  {
   "cell_type": "markdown",
   "metadata": {},
   "source": [
    "The idea behind this custom dictionary is adding book specific words such as names to the standard english dictionary used by symspell. If even their frequency will be low it might help for spell checking."
   ]
  },
  {
   "cell_type": "code",
   "execution_count": 444,
   "metadata": {},
   "outputs": [],
   "source": [
    "#for text editing, replace contractions\n",
    "#https://en.wikipedia.org/wiki/Wikipedia%3aList_of_English_contractions\n",
    "def decontracted(text):\n",
    "    # specific\n",
    "    text = re.sub(r\"won\\'t\", \"will not\", text)\n",
    "    text = re.sub(r\"can\\'t\", \"can not\", text)\n",
    "\n",
    "    # general\n",
    "    text = re.sub(r\"n\\'t\", \" not\", text)\n",
    "    text = re.sub(r\"\\'re\", \" are\", text)\n",
    "    text = re.sub(r\"\\'s\", \" is\", text)\n",
    "    text = re.sub(r\"\\'d\", \" would\", text)\n",
    "    text = re.sub(r\"\\'ll\", \" will\", text)\n",
    "    text = re.sub(r\"\\'t\", \" not\", text)\n",
    "    text = re.sub(r\"\\'ve\", \" have\", text)\n",
    "    text = re.sub(r\"\\'m\", \" am\", text)\n",
    "    text = re.sub(r\"\\'m\", \" am\", text)\n",
    "    \n",
    "    #words\n",
    "    text = re.sub(\"gimme\", \"give me\", text)\n",
    "    text = re.sub(\"cuz\", \"because\", text)\n",
    "    text = re.sub(\"'cause\", \"give me\", text)\n",
    "    text = re.sub(\"finna\", \"fixing to\", text)\n",
    "    text = re.sub(\"cuz\", \"because\", text)\n",
    "    text = re.sub(\"wanna\", \"want to\", text)\n",
    "    text = re.sub(\"gotta\", \"got to\", text)\n",
    "    text = re.sub(\"hafta\", \"have to\", text)\n",
    "    text = re.sub(\"woulda\", \"would have\", text)\n",
    "    text = re.sub(\"coulda\", \"could have\", text)\n",
    "    text = re.sub(\"shoulda\", \"should have\", text)\n",
    "    text = re.sub(\"ma'am\", \"madam\", text)\n",
    "    text = re.sub(\"howdy\", \"how do you\", text)\n",
    "    text = re.sub(\"let's\", \"let us\", text)\n",
    "    text = re.sub(\"y'all\", \"you all\", text)\n",
    "\n",
    "    return text"
   ]
  },
  {
   "cell_type": "code",
   "execution_count": 443,
   "metadata": {},
   "outputs": [],
   "source": [
    "\n",
    "#process text first\n",
    "\n",
    "def preprocessing(text):\n",
    "    t0 = time.time()\n",
    "    # remove '--' and replace them with whitespace\n",
    "    #text = text.replace('-', ' ')\n",
    "    #change to lower case\n",
    "    text=text.lower()\n",
    "    # replace contractions\n",
    "    text = decontracted(text)\n",
    "    #remove urls if there are any\n",
    "    text = re.sub('http://\\S+', '', text)\n",
    "    # remove digits and words containing digits\n",
    "    text = re.sub(r\"\\d\", \"\", text)\n",
    "    #remove punctuation\n",
    "    text = re.sub(r'[(,.;:@#?!&$)\"*/-]+', ' ', text)\n",
    "    text = re.sub(r\"[']\", '', text)\n",
    "    # replace whitespaces\n",
    "    text = re.sub(r\"\\s+\", ' ', text).strip()\n",
    "    return text"
   ]
  },
  {
   "cell_type": "code",
   "execution_count": 151,
   "metadata": {},
   "outputs": [],
   "source": [
    "#collect text (book descriptions and titles)\n",
    "# we assume that they harly contain spelling errors as the are \n",
    "# for a test run only load the first 100,000 descriptions and titles\n",
    "\n",
    "descriptions = ([d for d in df_train.description if d != None])\n",
    "# also add title texts\n",
    "descriptions += ([t for t in df_train.title if t != None])"
   ]
  },
  {
   "cell_type": "code",
   "execution_count": 152,
   "metadata": {},
   "outputs": [
    {
     "name": "stdout",
     "output_type": "stream",
     "text": [
      "['one choice can transform you or it can destroy you but every choice has consequences and as unrest surges in the factions all around her tris prior must continue trying to save those she loves and herself while grappling with haunting questions of grief and forgiveness identity and loyalty politics and love tris is initiation day should have been marked by celebration and victory with her chosen faction instead the day ended with unspeakable horrors war now looms as conflict between the factions and their ideologies grows and in times of war sides must be chosen secrets will emerge and choices will become even more irrevocable and even more powerful transformed by her own decisions but also by haunting grief and guilt radical new discoveries and shifting relationships tris must fully embrace her divergence even if she does not know what she may lose by doing so new york timesbestselling author veronica roth is much anticipated second book of the dystopian divergent series is another intoxicating thrill ride of a story rich with hallmark twists heartbreaks romance and powerful insights about human nature']\n"
     ]
    }
   ],
   "source": [
    "# preprocess description text for spellchecking\n",
    "description_processed = [preprocessing(d) for d in descriptions]\n",
    "print(description_processed[:1])"
   ]
  },
  {
   "cell_type": "code",
   "execution_count": 31,
   "metadata": {},
   "outputs": [],
   "source": [
    "# open dictionary text file and save the words in the words_dict list\n",
    "dictionary_path = pkg_resources.resource_filename(\"symspellpy\", \"frequency_dictionary_en_82_765.txt\")\n",
    "words_dict = []\n",
    "with(open(dictionary_path, 'r')) as df:\n",
    "    for line in df:\n",
    "        word = line.split()[0]\n",
    "        words_dict.append(word)\n",
    "df.close()\n",
    "words_dict = set(words_dict)"
   ]
  },
  {
   "cell_type": "code",
   "execution_count": 17,
   "metadata": {},
   "outputs": [
    {
     "name": "stdout",
     "output_type": "stream",
     "text": [
      "The dictionary contains 82781 different words and their frequency.\n"
     ]
    }
   ],
   "source": [
    "print(f'The dictionary contains {len(words_dict)} different words and their frequency.')"
   ]
  },
  {
   "cell_type": "code",
   "execution_count": 153,
   "metadata": {},
   "outputs": [],
   "source": [
    "#create a frequency count list \n",
    "#only get word count of words not included in the standard english dictionary of symspell\n",
    "#desc2_split = desc2.split()\n",
    "wordlist = []\n",
    "for d in description_processed:\n",
    "    d = d.split()\n",
    "    for word in d:\n",
    "        if word not in words_dict and len(word)>1:\n",
    "            wordlist.append(word)\n",
    "        else:\n",
    "            continue"
   ]
  },
  {
   "cell_type": "code",
   "execution_count": 202,
   "metadata": {},
   "outputs": [
    {
     "data": {
      "text/plain": [
       "['tris',\n",
       " 'tris',\n",
       " 'tris',\n",
       " 'timesbestselling',\n",
       " 'tenuousness',\n",
       " 'dorrigo',\n",
       " 'pre',\n",
       " 'beachside',\n",
       " 'changi',\n",
       " 'th',\n",
       " 'northis',\n",
       " 'dorrigo',\n",
       " 'pows',\n",
       " 'restauranteur',\n",
       " 'diaz',\n",
       " 'harc',\n",
       " 'repopulation',\n",
       " 'favorite',\n",
       " 'callum',\n",
       " 'callum',\n",
       " 'callum',\n",
       " 'facto',\n",
       " 'gwendy',\n",
       " 'zag',\n",
       " 'cliffside',\n",
       " 'gwendy',\n",
       " 'aluminum',\n",
       " 'labor',\n",
       " 'gwendy',\n",
       " 'gwendy',\n",
       " 'chizmar',\n",
       " 'mr',\n",
       " 'gpa',\n",
       " 'mr',\n",
       " 'favorite',\n",
       " 'fiesty',\n",
       " 'risa',\n",
       " 'aedh',\n",
       " 'risa',\n",
       " 'risa',\n",
       " 'risa',\n",
       " 'sevissent',\n",
       " 'des',\n",
       " 'goules',\n",
       " 'monstres',\n",
       " 'cannibales',\n",
       " 'se',\n",
       " 'dissimulant',\n",
       " 'parmi',\n",
       " 'humains',\n",
       " 'mieux',\n",
       " \"s'en\",\n",
       " 'nourrir',\n",
       " 'etudiant',\n",
       " 'timide',\n",
       " 'kaneki',\n",
       " 'interesse',\n",
       " 'jolie',\n",
       " 'fille',\n",
       " 'qui',\n",
       " 'partage',\n",
       " 'ses',\n",
       " 'gouts',\n",
       " 'ces',\n",
       " 'sordides',\n",
       " \"jusqu'au\",\n",
       " 'ou',\n",
       " 'il',\n",
       " 'se',\n",
       " 'fait',\n",
       " 'attaquer',\n",
       " \"l'une\",\n",
       " 'ces',\n",
       " 'fameuses',\n",
       " 'mortellement',\n",
       " 'blesse',\n",
       " 'il',\n",
       " 'survit',\n",
       " 'greffe',\n",
       " 'des',\n",
       " 'organes',\n",
       " 'agresseur',\n",
       " 'remis',\n",
       " 'il',\n",
       " 'peu',\n",
       " 'peu',\n",
       " \"qu'il\",\n",
       " 'devenu',\n",
       " 'se',\n",
       " 'nourrir',\n",
       " 'comme',\n",
       " 'avant',\n",
       " 'et',\n",
       " 'ressentir',\n",
       " 'un',\n",
       " 'appetit',\n",
       " 'envers',\n",
       " 'ses',\n",
       " 'congeneres',\n",
       " \"c'est\"]"
      ]
     },
     "execution_count": 202,
     "metadata": {},
     "output_type": "execute_result"
    }
   ],
   "source": [
    "wordlist[:100]"
   ]
  },
  {
   "cell_type": "markdown",
   "metadata": {},
   "source": [
    "While scimming through the wordlist we noticed that it contains french words. These words should not be included in the new dictionary. To test whether other descriptions are written in languages other than 'english', we will use langdetect. "
   ]
  },
  {
   "cell_type": "code",
   "execution_count": 200,
   "metadata": {},
   "outputs": [],
   "source": [
    "from langdetect import detect\n",
    "# get descriptions only, no titles (note that this is before preprocessing)\n",
    "descriptions2 = ([d for d in df_train.description if d != None])#print('done')\n",
    "languages = [detect(d) for d in descriptions2]"
   ]
  },
  {
   "cell_type": "code",
   "execution_count": 207,
   "metadata": {},
   "outputs": [
    {
     "data": {
      "text/plain": [
       "(array(['af', 'da', 'de', 'en', 'es', 'fi', 'fr', 'hr', 'id', 'it', 'lv',\n",
       "        'nl', 'pl', 'pt', 'ro', 'sk', 'sw', 'tl'], dtype='<U2'),\n",
       " array([     3,     19,    278, 958041,    559,     10,    245,     50,\n",
       "           107,     14,      8,     94,     26,    140,     31,      9,\n",
       "             9,     28]))"
      ]
     },
     "execution_count": 207,
     "metadata": {},
     "output_type": "execute_result"
    }
   ],
   "source": [
    "languages_count=np.unique(languages, return_counts=True)\n",
    "languages_count"
   ]
  },
  {
   "cell_type": "code",
   "execution_count": 210,
   "metadata": {},
   "outputs": [
    {
     "name": "stdout",
     "output_type": "stream",
     "text": [
      "The predominant language of the book descriptions is english.\n",
      "There are 1630 books with non-english descriptions.\n"
     ]
    }
   ],
   "source": [
    "# number of non-english book descriptions:\n",
    "print('The predominant language of the book descriptions is english.')\n",
    "print(f'There are {np.sum(languages_count[1])- np.amax(languages_count[1])} books with non-english descriptions.')"
   ]
  },
  {
   "cell_type": "code",
   "execution_count": 227,
   "metadata": {},
   "outputs": [],
   "source": [
    "# zip the descriptions and their predicted languages\n",
    "description_language = zip(descriptions2, languages)"
   ]
  },
  {
   "cell_type": "code",
   "execution_count": 228,
   "metadata": {},
   "outputs": [],
   "source": [
    "# write english descriptions into one list and all other descriptions in another list\n",
    "descriptions_en = []\n",
    "description_other =[]\n",
    "for des,leng in description_language:\n",
    "    if leng == 'en':\n",
    "        descriptions_en.append(des)\n",
    "    else:\n",
    "        description_other.append((des,leng))"
   ]
  },
  {
   "cell_type": "code",
   "execution_count": 242,
   "metadata": {},
   "outputs": [
    {
     "name": "stdout",
     "output_type": "stream",
     "text": [
      "There are 958041 english book descriptions\n"
     ]
    }
   ],
   "source": [
    "#somehow the len() function does not work, use a loop to count items\n",
    "i = 0\n",
    "for d in descriptions_en:\n",
    "    i += 1\n",
    "print(f'There are {i} english book descriptions')"
   ]
  },
  {
   "cell_type": "code",
   "execution_count": 241,
   "metadata": {},
   "outputs": [],
   "source": [
    "# repeat processing with english descriptions only\n",
    "description_en_processed = [preprocessing(d) for d in descriptions_en]"
   ]
  },
  {
   "cell_type": "code",
   "execution_count": null,
   "metadata": {},
   "outputs": [],
   "source": [
    "# save english descriptions to avoid running all the code again in case of error\n",
    "desc_df = pd.DataFrame(description_en_processed)\n",
    "desc_df.to_csv('descriptions_en.csv')"
   ]
  },
  {
   "cell_type": "code",
   "execution_count": 54,
   "metadata": {},
   "outputs": [],
   "source": [
    "#write all words not yet in the standard dictionary to a new list\n",
    "wordlist_en = []\n",
    "for d in description_en_processed:\n",
    "    d = d.split()\n",
    "    for word in d:\n",
    "        if word not in words_dict and len(word)>1:\n",
    "            wordlist_en.append(word)\n",
    "        else:\n",
    "            continue"
   ]
  },
  {
   "cell_type": "code",
   "execution_count": 55,
   "metadata": {},
   "outputs": [],
   "source": [
    "#count words\n",
    "wordlist_en_freq = Counter(wordlist_en)"
   ]
  },
  {
   "cell_type": "code",
   "execution_count": 56,
   "metadata": {},
   "outputs": [
    {
     "name": "stdout",
     "output_type": "stream",
     "text": [
      "tris 15932\n",
      "timesbestselling 29966\n",
      "tenuousness 62\n",
      "dorrigo 124\n",
      "pre 4038\n",
      "beachside 541\n",
      "changi 62\n",
      "th 14903\n",
      "northis 77\n",
      "pows 76\n"
     ]
    }
   ],
   "source": [
    "# look at the first 10 \n",
    "i = 0\n",
    "for w, c in wordlist_en_freq.items():\n",
    "    print(w, c)\n",
    "    i += 1\n",
    "    if i == 10:\n",
    "        break"
   ]
  },
  {
   "cell_type": "code",
   "execution_count": 201,
   "metadata": {},
   "outputs": [
    {
     "data": {
      "text/plain": [
       "'/Users/gregor/nf-sep-20/Capstone/custom_dictionary.txt'"
      ]
     },
     "execution_count": 201,
     "metadata": {},
     "output_type": "execute_result"
    }
   ],
   "source": [
    "# copy dictionary file\n",
    "import os\n",
    "from shutil import copyfile\n",
    "\n",
    "curent_path = os.getcwd()\n",
    "copyfile(dictionary_path, str(curent_path) + '/custom_dictionary.txt')"
   ]
  },
  {
   "cell_type": "code",
   "execution_count": 202,
   "metadata": {},
   "outputs": [],
   "source": [
    "# add custom frequency list to dictionary\n",
    "with open('custom_dictionary.txt', 'a') as cd:\n",
    "    for w, c in wordlist_en_freq.items():\n",
    "        cd.write(f'{w} {c}\\n')\n",
    "cd.close()"
   ]
  },
  {
   "cell_type": "code",
   "execution_count": 93,
   "metadata": {},
   "outputs": [
    {
     "name": "stdout",
     "output_type": "stream",
     "text": [
      "the death of jason hard, 5, 0\n"
     ]
    }
   ],
   "source": [
    "#initiatae SmSpell with the default english dictionary\n",
    "dictionary_path = pkg_resources.resource_filename(\"symspellpy\", \"frequency_dictionary_en_82_765.txt\")\n",
    "#symspell1 = SymSpell()\n",
    "#load dictionary\n",
    "#symspell1.load_dictionary(dictionary_path, term_index=0, count_index=1)\n",
    "# test with harc, which is a name in one of the descriptions\n",
    "results = symspell1.lookup_compound(\"The deathh of Jason Harc\", max_edit_distance=1)\n",
    "for r in results:\n",
    "    print(r)\n",
    "\n",
    "# smpspell.lookup_compound and sympspell.lookup return an ordered list of SuggestItems containing:\n",
    "#   term: suggested fixed string\n",
    "#   distance: distance with original string\n",
    "#   count: frequency if given in dictionary"
   ]
  },
  {
   "cell_type": "code",
   "execution_count": 108,
   "metadata": {},
   "outputs": [
    {
     "name": "stdout",
     "output_type": "stream",
     "text": [
      "the death of jason hard, 5, 0\n"
     ]
    }
   ],
   "source": [
    "#initiatae SmSpell with the custom  dictionary\n",
    "custom_dictionary_path = os.path.abspath(\"custom_dictionary.txt\") \n",
    "#symspell2 = SymSpell()\n",
    "#load dictionary\n",
    "symspell2.load_dictionary(custom_dictionary_path, term_index=0, count_index=1)\n",
    "# test with harc, which is a name in one of the descriptions\n",
    "results = symspell1.lookup_compound(\"The deathh of Jason Harc\", max_edit_distance=1)\n",
    "for r in results:\n",
    "    print(r)"
   ]
  },
  {
   "cell_type": "markdown",
   "metadata": {},
   "source": [
    "The number of words in the description is just to affect the outcome of spell checking."
   ]
  },
  {
   "cell_type": "markdown",
   "metadata": {},
   "source": [
    "## Compare word frequency in spoiler reviews, spoiler sentences and reviews without spoiler"
   ]
  },
  {
   "cell_type": "code",
   "execution_count": 112,
   "metadata": {},
   "outputs": [],
   "source": [
    "spoiler_reviews = [r for r in df_spoilers.review_sentences]\n",
    "safe_reviews = [r for r in df_no_spoilers.review_sentences]"
   ]
  },
  {
   "cell_type": "code",
   "execution_count": 566,
   "metadata": {},
   "outputs": [],
   "source": [
    "def spellcheck(text):\n",
    "    '''\n",
    "    function takes string as input, preprocesses text and returns a spellchecked text\n",
    "    '''\n",
    "    #preprocess text\n",
    "    text = preprocessing(text)\n",
    "    #hand to spellchecking and return the best result only if corrected phrase is more than just a single letter\n",
    "    # otherwise continue\n",
    "    sp = symspell1.lookup_compound(text, max_edit_distance=1)\n",
    "    if sp[0].term == None:\n",
    "        return text\n",
    "    else:\n",
    "        return sp[0].term"
   ]
  },
  {
   "cell_type": "markdown",
   "metadata": {},
   "source": [
    "##### NOTE: this can return an empty string\n",
    "What to do about that?\n"
   ]
  },
  {
   "cell_type": "code",
   "execution_count": 288,
   "metadata": {},
   "outputs": [
    {
     "name": "stderr",
     "output_type": "stream",
     "text": [
      "100%|██████████| 62815/62815 [09:59<00:00, 104.79it/s]\n"
     ]
    }
   ],
   "source": [
    "# use only spoiler sentences\n",
    "spoiler_text = []\n",
    "for review in tqdm(spoiler_reviews):\n",
    "    text = []\n",
    "    for label, sentence in review:\n",
    "        if label == 1:\n",
    "            checked_text = spellcheck(sentence)\n",
    "            text.append(checked_text)\n",
    "        else:\n",
    "            continue\n",
    "    spoiler_text.append(' '.join(text))"
   ]
  },
  {
   "cell_type": "code",
   "execution_count": 289,
   "metadata": {},
   "outputs": [
    {
     "name": "stderr",
     "output_type": "stream",
     "text": [
      "100%|██████████| 62815/62815 [30:53<00:00, 33.90it/s] \n"
     ]
    }
   ],
   "source": [
    "# get entire text from reviews containing spoilers\n",
    "spoiler_text_all = []\n",
    "for review in tqdm(spoiler_reviews):\n",
    "    text = []\n",
    "    for label, sentence in review:\n",
    "        \n",
    "        checked_text = spellcheck(sentence)\n",
    "        text.append(checked_text)\n",
    "    spoiler_text_all.append(' '.join(text))"
   ]
  },
  {
   "cell_type": "code",
   "execution_count": 290,
   "metadata": {},
   "outputs": [
    {
     "name": "stderr",
     "output_type": "stream",
     "text": [
      "100%|██████████| 62815/62815 [15:03<00:00, 69.50it/s] \n"
     ]
    }
   ],
   "source": [
    "# get reviews without spoilers \n",
    "# same number as spoiler reviews\n",
    "safe_text = []\n",
    "for review in tqdm(safe_reviews):\n",
    "    text = []\n",
    "    for label, sentence in review:\n",
    "        checked_text = spellcheck(sentence)\n",
    "        text.append(checked_text)\n",
    "    safe_text.append(' '.join(text))"
   ]
  },
  {
   "cell_type": "code",
   "execution_count": 665,
   "metadata": {},
   "outputs": [],
   "source": [
    "import spacy\n",
    "nlp_spacy = spacy.load(\"en_core_web_sm\")\n",
    "\n",
    "def lemmatizer(text):\n",
    "    '''\n",
    "    tokenizes string input using spacy \n",
    "    removes english stopwords\n",
    "    '''\n",
    "    doc = nlp_spacy(text)\n",
    "    text = \" \".join([token.lemma_ for token in doc if not token.is_stop])\n",
    "    return text"
   ]
  },
  {
   "cell_type": "code",
   "execution_count": 291,
   "metadata": {},
   "outputs": [
    {
     "name": "stderr",
     "output_type": "stream",
     "text": [
      "100%|██████████| 62815/62815 [17:24<00:00, 60.13it/s]\n",
      "100%|██████████| 62815/62815 [26:38<00:00, 39.29it/s]\n",
      "100%|██████████| 62815/62815 [46:32<00:00, 22.50it/s]  \n"
     ]
    }
   ],
   "source": [
    "# join review texts into one string\n",
    "spoilers = ' '.join([lemmatizer(text) for text in tqdm(spoiler_text)])\n",
    "no_spoilers = ' '.join([lemmatizer(text) for text in tqdm(safe_text)])\n",
    "spoilers_all = ' '.join([lemmatizer(text) for text in tqdm(spoiler_text_all)])"
   ]
  },
  {
   "cell_type": "code",
   "execution_count": 269,
   "metadata": {},
   "outputs": [],
   "source": [
    "# use Counter to get counts of lemmas\n",
    "freq_spoiler = Counter(spoilers.split())\n",
    "freq_no_spoiler = Counter(no_spoilers.split())\n",
    "freq_spoiler_all = Counter(spoilers_all.split())"
   ]
  },
  {
   "cell_type": "code",
   "execution_count": 423,
   "metadata": {},
   "outputs": [
    {
     "name": "stdout",
     "output_type": "stream",
     "text": [
      "Count of kill in no spoiler reviews:369\n",
      "Count of kill in spoiler sentences: 764\n",
      "Count of kill in spoiler reviews: 1189\n"
     ]
    }
   ],
   "source": [
    "check for count of a single word\n",
    "word = 'kill'\n",
    "print(f'Count of {word} in no spoiler reviews:{freq_no_spoiler[word]}')\n",
    "print(f'Count of {word} in spoiler sentences: {freq_spoiler[word]}')\n",
    "print(f'Count of {word} in spoiler reviews: {freq_spoiler_all[word]}')"
   ]
  },
  {
   "cell_type": "code",
   "execution_count": 285,
   "metadata": {},
   "outputs": [
    {
     "name": "stdout",
     "output_type": "stream",
     "text": [
      "Length of no spoiler reviews:17581\n",
      "Length of spoiler sentences:14797\n",
      "Length of spoiler reviews:22825\n"
     ]
    }
   ],
   "source": [
    "# get total number of different lemmas in the combined strings\n",
    "print(f'Length of no spoiler reviews:{len(freq_no_spoiler.keys())}')\n",
    "print(f'Length of spoiler sentences:{len(freq_spoiler.keys())}')\n",
    "print(f'Length of spoiler reviews:{len(freq_spoiler_all.keys())}')\n"
   ]
  },
  {
   "cell_type": "code",
   "execution_count": 410,
   "metadata": {},
   "outputs": [],
   "source": [
    "# get the top 100 lemmas and their counts associated with every text class\n",
    "spoiler_top100 = sorted(freq_spoiler.items(), key=operator.itemgetter(1))[-100:]\n",
    "no_spoiler_top100 = sorted(freq_no_spoiler.items(), key=operator.itemgetter(1))[-100:]\n",
    "spoiler_all_top100 = sorted(freq_spoiler_all.items(), key=operator.itemgetter(1))[-100:]"
   ]
  },
  {
   "cell_type": "code",
   "execution_count": 411,
   "metadata": {},
   "outputs": [],
   "source": [
    "#make a list containign the top 100 words in each text class\n",
    "wordlist_top1000 = list(set(\n",
    "    [word for word, c in spoiler_top100]+\n",
    "    [word for word, c in no_spoiler_top100]+\n",
    "    [word for word, c in spoiler_all_top100]))"
   ]
  },
  {
   "cell_type": "code",
   "execution_count": 412,
   "metadata": {},
   "outputs": [
    {
     "data": {
      "text/plain": [
       "124"
      ]
     },
     "execution_count": 412,
     "metadata": {},
     "output_type": "execute_result"
    }
   ],
   "source": [
    "len(wordlist_top100)"
   ]
  },
  {
   "cell_type": "markdown",
   "metadata": {},
   "source": [
    "The top 100 wordlist set contains 124 different word lemmas suggesting that their are class specific words for the three classes in the top 100 but that does also not exclude that these words are present in the reviews at lower frequency."
   ]
  },
  {
   "cell_type": "code",
   "execution_count": 413,
   "metadata": {},
   "outputs": [],
   "source": [
    "# calculate length of lemmatized input texts\n",
    "spoiler_length = len(spoilers.split())\n",
    "no_spoiler_length = len(no_spoilers.split())\n",
    "spoilers_all_length = len(spoilers_all.split())"
   ]
  },
  {
   "cell_type": "code",
   "execution_count": 414,
   "metadata": {},
   "outputs": [],
   "source": [
    "#calculate frequency of lemmas per 1000000\n",
    "spoiler_freq = [] \n",
    "no_spoiler_freq = []\n",
    "spoiler_all_freq = []\n",
    "for word in wordlist_top100:\n",
    "    spoiler_freq.append(freq_spoiler[word]/spoiler_length*1000000)\n",
    "    no_spoiler_freq.append(freq_no_spoiler[word]/no_spoiler_length*1000000)\n",
    "    spoiler_all_freq.append(freq_spoiler_all[word]/spoilers_all_length*1000000)"
   ]
  },
  {
   "cell_type": "code",
   "execution_count": 415,
   "metadata": {},
   "outputs": [],
   "source": [
    "#make a dataframe with word counts for words\n",
    "df_word_freq = pd.DataFrame({\n",
    "    'words': wordlist_top100,\n",
    "    'freq_in_spoiler_sentences': spoiler_freq,\n",
    "    'freq_in_no_spoiler_reviews': no_spoiler_freq,\n",
    "    'freq_in_spoiler_reviews':spoiler_all_freq\n",
    "}) "
   ]
  },
  {
   "cell_type": "code",
   "execution_count": 416,
   "metadata": {},
   "outputs": [
    {
     "data": {
      "text/html": [
       "<div>\n",
       "<style scoped>\n",
       "    .dataframe tbody tr th:only-of-type {\n",
       "        vertical-align: middle;\n",
       "    }\n",
       "\n",
       "    .dataframe tbody tr th {\n",
       "        vertical-align: top;\n",
       "    }\n",
       "\n",
       "    .dataframe thead th {\n",
       "        text-align: right;\n",
       "    }\n",
       "</style>\n",
       "<table border=\"1\" class=\"dataframe\">\n",
       "  <thead>\n",
       "    <tr style=\"text-align: right;\">\n",
       "      <th></th>\n",
       "      <th>words</th>\n",
       "      <th>freq_in_spoiler_sentences</th>\n",
       "      <th>freq_in_no_spoiler_reviews</th>\n",
       "      <th>freq_in_spoiler_reviews</th>\n",
       "    </tr>\n",
       "  </thead>\n",
       "  <tbody>\n",
       "    <tr>\n",
       "      <th>0</th>\n",
       "      <td>maybe</td>\n",
       "      <td>133.784838</td>\n",
       "      <td>109.695995</td>\n",
       "      <td>121.473953</td>\n",
       "    </tr>\n",
       "    <tr>\n",
       "      <th>1</th>\n",
       "      <td>bad</td>\n",
       "      <td>209.468832</td>\n",
       "      <td>186.525874</td>\n",
       "      <td>209.437849</td>\n",
       "    </tr>\n",
       "    <tr>\n",
       "      <th>2</th>\n",
       "      <td>real</td>\n",
       "      <td>110.468052</td>\n",
       "      <td>135.946204</td>\n",
       "      <td>122.333185</td>\n",
       "    </tr>\n",
       "    <tr>\n",
       "      <th>3</th>\n",
       "      <td>say</td>\n",
       "      <td>249.222041</td>\n",
       "      <td>158.995168</td>\n",
       "      <td>206.430537</td>\n",
       "    </tr>\n",
       "    <tr>\n",
       "      <th>4</th>\n",
       "      <td>break</td>\n",
       "      <td>114.290476</td>\n",
       "      <td>80.244541</td>\n",
       "      <td>76.149454</td>\n",
       "    </tr>\n",
       "  </tbody>\n",
       "</table>\n",
       "</div>"
      ],
      "text/plain": [
       "   words  freq_in_spoiler_sentences  freq_in_no_spoiler_reviews  \\\n",
       "0  maybe                 133.784838                  109.695995   \n",
       "1    bad                 209.468832                  186.525874   \n",
       "2   real                 110.468052                  135.946204   \n",
       "3    say                 249.222041                  158.995168   \n",
       "4  break                 114.290476                   80.244541   \n",
       "\n",
       "   freq_in_spoiler_reviews  \n",
       "0               121.473953  \n",
       "1               209.437849  \n",
       "2               122.333185  \n",
       "3               206.430537  \n",
       "4                76.149454  "
      ]
     },
     "execution_count": 416,
     "metadata": {},
     "output_type": "execute_result"
    }
   ],
   "source": [
    "df_word_freq.head()"
   ]
  },
  {
   "cell_type": "code",
   "execution_count": 417,
   "metadata": {},
   "outputs": [],
   "source": [
    "# normalize count data and safe to new dataframe\n",
    "from sklearn import preprocessing\n",
    "X = df_word_freq.iloc[:,1:].values\n",
    "min_max_scaler = preprocessing.MinMaxScaler()\n",
    "X_scaled = min_max_scaler.fit_transform(X)\n",
    "df_word_freq_norm = pd.DataFrame(df_word_freq.words)\n",
    "df_count_norm = pd.DataFrame(X_scaled, columns = ['freq_in_spoiler_sentences','freq_in_no_spoiler_reviews', 'freq_in_spoiler_reviews'])"
   ]
  },
  {
   "cell_type": "code",
   "execution_count": 418,
   "metadata": {},
   "outputs": [
    {
     "data": {
      "text/html": [
       "<div>\n",
       "<style scoped>\n",
       "    .dataframe tbody tr th:only-of-type {\n",
       "        vertical-align: middle;\n",
       "    }\n",
       "\n",
       "    .dataframe tbody tr th {\n",
       "        vertical-align: top;\n",
       "    }\n",
       "\n",
       "    .dataframe thead th {\n",
       "        text-align: right;\n",
       "    }\n",
       "</style>\n",
       "<table border=\"1\" class=\"dataframe\">\n",
       "  <thead>\n",
       "    <tr style=\"text-align: right;\">\n",
       "      <th></th>\n",
       "      <th>words</th>\n",
       "      <th>freq_in_spoiler_sentences</th>\n",
       "      <th>freq_in_no_spoiler_reviews</th>\n",
       "      <th>freq_in_spoiler_reviews</th>\n",
       "    </tr>\n",
       "  </thead>\n",
       "  <tbody>\n",
       "    <tr>\n",
       "      <th>0</th>\n",
       "      <td>maybe</td>\n",
       "      <td>0.093791</td>\n",
       "      <td>0.031832</td>\n",
       "      <td>0.031769</td>\n",
       "    </tr>\n",
       "    <tr>\n",
       "      <th>1</th>\n",
       "      <td>bad</td>\n",
       "      <td>0.159181</td>\n",
       "      <td>0.063752</td>\n",
       "      <td>0.076399</td>\n",
       "    </tr>\n",
       "    <tr>\n",
       "      <th>2</th>\n",
       "      <td>real</td>\n",
       "      <td>0.073646</td>\n",
       "      <td>0.042738</td>\n",
       "      <td>0.032205</td>\n",
       "    </tr>\n",
       "    <tr>\n",
       "      <th>3</th>\n",
       "      <td>say</td>\n",
       "      <td>0.193527</td>\n",
       "      <td>0.052314</td>\n",
       "      <td>0.074873</td>\n",
       "    </tr>\n",
       "    <tr>\n",
       "      <th>4</th>\n",
       "      <td>break</td>\n",
       "      <td>0.076948</td>\n",
       "      <td>0.019596</td>\n",
       "      <td>0.008773</td>\n",
       "    </tr>\n",
       "  </tbody>\n",
       "</table>\n",
       "</div>"
      ],
      "text/plain": [
       "   words  freq_in_spoiler_sentences  freq_in_no_spoiler_reviews  \\\n",
       "0  maybe                   0.093791                    0.031832   \n",
       "1    bad                   0.159181                    0.063752   \n",
       "2   real                   0.073646                    0.042738   \n",
       "3    say                   0.193527                    0.052314   \n",
       "4  break                   0.076948                    0.019596   \n",
       "\n",
       "   freq_in_spoiler_reviews  \n",
       "0                 0.031769  \n",
       "1                 0.076399  \n",
       "2                 0.032205  \n",
       "3                 0.074873  \n",
       "4                 0.008773  "
      ]
     },
     "execution_count": 418,
     "metadata": {},
     "output_type": "execute_result"
    }
   ],
   "source": [
    "df_word_freq_norm = pd.concat([df_word_freq_norm, df_count_norm], axis = 1, sort = False)\n",
    "df_word_freq_norm.head()"
   ]
  },
  {
   "cell_type": "code",
   "execution_count": 419,
   "metadata": {},
   "outputs": [],
   "source": [
    "df_word_freq_norm['sp_sentences_vs_minus_spoiler_reviews'] = df_word_freq_norm.freq_in_spoiler_sentences - \\\n",
    "df_word_freq_norm.freq_in_no_spoiler_reviews\n",
    "df_word_freq_norm['sp_reviews_vs_minus_spoiler_reviews'] = df_word_freq_norm.freq_in_spoiler_reviews - \\\n",
    "df_word_freq_norm.freq_in_no_spoiler_reviews"
   ]
  },
  {
   "cell_type": "code",
   "execution_count": 420,
   "metadata": {},
   "outputs": [
    {
     "data": {
      "text/html": [
       "<div>\n",
       "<style scoped>\n",
       "    .dataframe tbody tr th:only-of-type {\n",
       "        vertical-align: middle;\n",
       "    }\n",
       "\n",
       "    .dataframe tbody tr th {\n",
       "        vertical-align: top;\n",
       "    }\n",
       "\n",
       "    .dataframe thead th {\n",
       "        text-align: right;\n",
       "    }\n",
       "</style>\n",
       "<table border=\"1\" class=\"dataframe\">\n",
       "  <thead>\n",
       "    <tr style=\"text-align: right;\">\n",
       "      <th></th>\n",
       "      <th>words</th>\n",
       "      <th>freq_in_spoiler_sentences</th>\n",
       "      <th>freq_in_no_spoiler_reviews</th>\n",
       "      <th>freq_in_spoiler_reviews</th>\n",
       "      <th>sp_sentences_vs_minus_spoiler_reviews</th>\n",
       "      <th>sp_reviews_vs_minus_spoiler_reviews</th>\n",
       "    </tr>\n",
       "  </thead>\n",
       "  <tbody>\n",
       "    <tr>\n",
       "      <th>0</th>\n",
       "      <td>maybe</td>\n",
       "      <td>0.093791</td>\n",
       "      <td>0.031832</td>\n",
       "      <td>0.031769</td>\n",
       "      <td>0.061959</td>\n",
       "      <td>-0.000062</td>\n",
       "    </tr>\n",
       "    <tr>\n",
       "      <th>1</th>\n",
       "      <td>bad</td>\n",
       "      <td>0.159181</td>\n",
       "      <td>0.063752</td>\n",
       "      <td>0.076399</td>\n",
       "      <td>0.095429</td>\n",
       "      <td>0.012647</td>\n",
       "    </tr>\n",
       "    <tr>\n",
       "      <th>2</th>\n",
       "      <td>real</td>\n",
       "      <td>0.073646</td>\n",
       "      <td>0.042738</td>\n",
       "      <td>0.032205</td>\n",
       "      <td>0.030908</td>\n",
       "      <td>-0.010533</td>\n",
       "    </tr>\n",
       "    <tr>\n",
       "      <th>3</th>\n",
       "      <td>say</td>\n",
       "      <td>0.193527</td>\n",
       "      <td>0.052314</td>\n",
       "      <td>0.074873</td>\n",
       "      <td>0.141213</td>\n",
       "      <td>0.022559</td>\n",
       "    </tr>\n",
       "    <tr>\n",
       "      <th>4</th>\n",
       "      <td>break</td>\n",
       "      <td>0.076948</td>\n",
       "      <td>0.019596</td>\n",
       "      <td>0.008773</td>\n",
       "      <td>0.057353</td>\n",
       "      <td>-0.010822</td>\n",
       "    </tr>\n",
       "  </tbody>\n",
       "</table>\n",
       "</div>"
      ],
      "text/plain": [
       "   words  freq_in_spoiler_sentences  freq_in_no_spoiler_reviews  \\\n",
       "0  maybe                   0.093791                    0.031832   \n",
       "1    bad                   0.159181                    0.063752   \n",
       "2   real                   0.073646                    0.042738   \n",
       "3    say                   0.193527                    0.052314   \n",
       "4  break                   0.076948                    0.019596   \n",
       "\n",
       "   freq_in_spoiler_reviews  sp_sentences_vs_minus_spoiler_reviews  \\\n",
       "0                 0.031769                               0.061959   \n",
       "1                 0.076399                               0.095429   \n",
       "2                 0.032205                               0.030908   \n",
       "3                 0.074873                               0.141213   \n",
       "4                 0.008773                               0.057353   \n",
       "\n",
       "   sp_reviews_vs_minus_spoiler_reviews  \n",
       "0                            -0.000062  \n",
       "1                             0.012647  \n",
       "2                            -0.010533  \n",
       "3                             0.022559  \n",
       "4                            -0.010822  "
      ]
     },
     "execution_count": 420,
     "metadata": {},
     "output_type": "execute_result"
    }
   ],
   "source": [
    "df_word_freq_norm.head()"
   ]
  },
  {
   "cell_type": "code",
   "execution_count": 422,
   "metadata": {},
   "outputs": [
    {
     "data": {
      "text/html": [
       "<div>\n",
       "<style scoped>\n",
       "    .dataframe tbody tr th:only-of-type {\n",
       "        vertical-align: middle;\n",
       "    }\n",
       "\n",
       "    .dataframe tbody tr th {\n",
       "        vertical-align: top;\n",
       "    }\n",
       "\n",
       "    .dataframe thead th {\n",
       "        text-align: right;\n",
       "    }\n",
       "</style>\n",
       "<table border=\"1\" class=\"dataframe\">\n",
       "  <thead>\n",
       "    <tr style=\"text-align: right;\">\n",
       "      <th></th>\n",
       "      <th>words</th>\n",
       "      <th>freq_in_spoiler_sentences</th>\n",
       "      <th>freq_in_no_spoiler_reviews</th>\n",
       "      <th>freq_in_spoiler_reviews</th>\n",
       "      <th>sp_sentences_vs_minus_spoiler_reviews</th>\n",
       "      <th>sp_reviews_vs_minus_spoiler_reviews</th>\n",
       "    </tr>\n",
       "  </thead>\n",
       "  <tbody>\n",
       "    <tr>\n",
       "      <th>78</th>\n",
       "      <td>like</td>\n",
       "      <td>1.000000</td>\n",
       "      <td>0.467459</td>\n",
       "      <td>0.623072</td>\n",
       "      <td>0.532541</td>\n",
       "      <td>0.155614</td>\n",
       "    </tr>\n",
       "    <tr>\n",
       "      <th>98</th>\n",
       "      <td>end</td>\n",
       "      <td>0.616579</td>\n",
       "      <td>0.153396</td>\n",
       "      <td>0.240968</td>\n",
       "      <td>0.463183</td>\n",
       "      <td>0.087572</td>\n",
       "    </tr>\n",
       "    <tr>\n",
       "      <th>120</th>\n",
       "      <td>think</td>\n",
       "      <td>0.589168</td>\n",
       "      <td>0.244458</td>\n",
       "      <td>0.318293</td>\n",
       "      <td>0.344710</td>\n",
       "      <td>0.073835</td>\n",
       "    </tr>\n",
       "    <tr>\n",
       "      <th>10</th>\n",
       "      <td>know</td>\n",
       "      <td>0.546896</td>\n",
       "      <td>0.219365</td>\n",
       "      <td>0.259659</td>\n",
       "      <td>0.327531</td>\n",
       "      <td>0.040294</td>\n",
       "    </tr>\n",
       "    <tr>\n",
       "      <th>43</th>\n",
       "      <td>go</td>\n",
       "      <td>0.466645</td>\n",
       "      <td>0.171396</td>\n",
       "      <td>0.219552</td>\n",
       "      <td>0.295249</td>\n",
       "      <td>0.048156</td>\n",
       "    </tr>\n",
       "    <tr>\n",
       "      <th>8</th>\n",
       "      <td>love</td>\n",
       "      <td>0.680317</td>\n",
       "      <td>0.422770</td>\n",
       "      <td>0.425426</td>\n",
       "      <td>0.257547</td>\n",
       "      <td>0.002656</td>\n",
       "    </tr>\n",
       "    <tr>\n",
       "      <th>50</th>\n",
       "      <td>thing</td>\n",
       "      <td>0.420079</td>\n",
       "      <td>0.180706</td>\n",
       "      <td>0.235954</td>\n",
       "      <td>0.239373</td>\n",
       "      <td>0.055249</td>\n",
       "    </tr>\n",
       "    <tr>\n",
       "      <th>24</th>\n",
       "      <td>feel</td>\n",
       "      <td>0.459049</td>\n",
       "      <td>0.223976</td>\n",
       "      <td>0.266852</td>\n",
       "      <td>0.235073</td>\n",
       "      <td>0.042876</td>\n",
       "    </tr>\n",
       "    <tr>\n",
       "      <th>18</th>\n",
       "      <td>get</td>\n",
       "      <td>0.355020</td>\n",
       "      <td>0.132116</td>\n",
       "      <td>0.164296</td>\n",
       "      <td>0.222904</td>\n",
       "      <td>0.032181</td>\n",
       "    </tr>\n",
       "    <tr>\n",
       "      <th>23</th>\n",
       "      <td>die</td>\n",
       "      <td>0.236460</td>\n",
       "      <td>0.016404</td>\n",
       "      <td>0.034712</td>\n",
       "      <td>0.220056</td>\n",
       "      <td>0.018308</td>\n",
       "    </tr>\n",
       "    <tr>\n",
       "      <th>106</th>\n",
       "      <td>kill</td>\n",
       "      <td>0.230515</td>\n",
       "      <td>0.018975</td>\n",
       "      <td>0.034930</td>\n",
       "      <td>0.211540</td>\n",
       "      <td>0.015955</td>\n",
       "    </tr>\n",
       "    <tr>\n",
       "      <th>84</th>\n",
       "      <td>want</td>\n",
       "      <td>0.388375</td>\n",
       "      <td>0.180528</td>\n",
       "      <td>0.201569</td>\n",
       "      <td>0.207847</td>\n",
       "      <td>0.021041</td>\n",
       "    </tr>\n",
       "    <tr>\n",
       "      <th>111</th>\n",
       "      <td>time</td>\n",
       "      <td>0.403897</td>\n",
       "      <td>0.212981</td>\n",
       "      <td>0.238516</td>\n",
       "      <td>0.190916</td>\n",
       "      <td>0.025535</td>\n",
       "    </tr>\n",
       "    <tr>\n",
       "      <th>7</th>\n",
       "      <td>way</td>\n",
       "      <td>0.336526</td>\n",
       "      <td>0.154194</td>\n",
       "      <td>0.180971</td>\n",
       "      <td>0.182332</td>\n",
       "      <td>0.026777</td>\n",
       "    </tr>\n",
       "    <tr>\n",
       "      <th>27</th>\n",
       "      <td>come</td>\n",
       "      <td>0.303831</td>\n",
       "      <td>0.122717</td>\n",
       "      <td>0.136287</td>\n",
       "      <td>0.181114</td>\n",
       "      <td>0.013570</td>\n",
       "    </tr>\n",
       "    <tr>\n",
       "      <th>76</th>\n",
       "      <td>happen</td>\n",
       "      <td>0.252312</td>\n",
       "      <td>0.082727</td>\n",
       "      <td>0.113836</td>\n",
       "      <td>0.169584</td>\n",
       "      <td>0.031108</td>\n",
       "    </tr>\n",
       "    <tr>\n",
       "      <th>81</th>\n",
       "      <td>find</td>\n",
       "      <td>0.326618</td>\n",
       "      <td>0.159869</td>\n",
       "      <td>0.160863</td>\n",
       "      <td>0.166749</td>\n",
       "      <td>0.000994</td>\n",
       "    </tr>\n",
       "    <tr>\n",
       "      <th>3</th>\n",
       "      <td>say</td>\n",
       "      <td>0.193527</td>\n",
       "      <td>0.052314</td>\n",
       "      <td>0.074873</td>\n",
       "      <td>0.141213</td>\n",
       "      <td>0.022559</td>\n",
       "    </tr>\n",
       "    <tr>\n",
       "      <th>48</th>\n",
       "      <td>people</td>\n",
       "      <td>0.236790</td>\n",
       "      <td>0.096914</td>\n",
       "      <td>0.122064</td>\n",
       "      <td>0.139876</td>\n",
       "      <td>0.025150</td>\n",
       "    </tr>\n",
       "    <tr>\n",
       "      <th>77</th>\n",
       "      <td>death</td>\n",
       "      <td>0.146631</td>\n",
       "      <td>0.016404</td>\n",
       "      <td>0.017874</td>\n",
       "      <td>0.130228</td>\n",
       "      <td>0.001470</td>\n",
       "    </tr>\n",
       "  </tbody>\n",
       "</table>\n",
       "</div>"
      ],
      "text/plain": [
       "      words  freq_in_spoiler_sentences  freq_in_no_spoiler_reviews  \\\n",
       "78     like                   1.000000                    0.467459   \n",
       "98      end                   0.616579                    0.153396   \n",
       "120   think                   0.589168                    0.244458   \n",
       "10     know                   0.546896                    0.219365   \n",
       "43       go                   0.466645                    0.171396   \n",
       "8      love                   0.680317                    0.422770   \n",
       "50    thing                   0.420079                    0.180706   \n",
       "24     feel                   0.459049                    0.223976   \n",
       "18      get                   0.355020                    0.132116   \n",
       "23      die                   0.236460                    0.016404   \n",
       "106    kill                   0.230515                    0.018975   \n",
       "84     want                   0.388375                    0.180528   \n",
       "111    time                   0.403897                    0.212981   \n",
       "7       way                   0.336526                    0.154194   \n",
       "27     come                   0.303831                    0.122717   \n",
       "76   happen                   0.252312                    0.082727   \n",
       "81     find                   0.326618                    0.159869   \n",
       "3       say                   0.193527                    0.052314   \n",
       "48   people                   0.236790                    0.096914   \n",
       "77    death                   0.146631                    0.016404   \n",
       "\n",
       "     freq_in_spoiler_reviews  sp_sentences_vs_minus_spoiler_reviews  \\\n",
       "78                  0.623072                               0.532541   \n",
       "98                  0.240968                               0.463183   \n",
       "120                 0.318293                               0.344710   \n",
       "10                  0.259659                               0.327531   \n",
       "43                  0.219552                               0.295249   \n",
       "8                   0.425426                               0.257547   \n",
       "50                  0.235954                               0.239373   \n",
       "24                  0.266852                               0.235073   \n",
       "18                  0.164296                               0.222904   \n",
       "23                  0.034712                               0.220056   \n",
       "106                 0.034930                               0.211540   \n",
       "84                  0.201569                               0.207847   \n",
       "111                 0.238516                               0.190916   \n",
       "7                   0.180971                               0.182332   \n",
       "27                  0.136287                               0.181114   \n",
       "76                  0.113836                               0.169584   \n",
       "81                  0.160863                               0.166749   \n",
       "3                   0.074873                               0.141213   \n",
       "48                  0.122064                               0.139876   \n",
       "77                  0.017874                               0.130228   \n",
       "\n",
       "     sp_reviews_vs_minus_spoiler_reviews  \n",
       "78                              0.155614  \n",
       "98                              0.087572  \n",
       "120                             0.073835  \n",
       "10                              0.040294  \n",
       "43                              0.048156  \n",
       "8                               0.002656  \n",
       "50                              0.055249  \n",
       "24                              0.042876  \n",
       "18                              0.032181  \n",
       "23                              0.018308  \n",
       "106                             0.015955  \n",
       "84                              0.021041  \n",
       "111                             0.025535  \n",
       "7                               0.026777  \n",
       "27                              0.013570  \n",
       "76                              0.031108  \n",
       "81                              0.000994  \n",
       "3                               0.022559  \n",
       "48                              0.025150  \n",
       "77                              0.001470  "
      ]
     },
     "execution_count": 422,
     "metadata": {},
     "output_type": "execute_result"
    }
   ],
   "source": [
    "# find words more common in spoiler sentences than in no spoiler texts\n",
    "df_word_freq_norm.sort_values('sp_sentences_vs_minus_spoiler_reviews', ascending=False).head(20)"
   ]
  },
  {
   "cell_type": "markdown",
   "metadata": {},
   "source": [
    "Based on the standardized word frequency there seems to be only a small difference between spoiler texts and non-spoiler text. However, in the sentences containing spoilers, same words seem to appear at higher frequency."
   ]
  },
  {
   "cell_type": "markdown",
   "metadata": {},
   "source": [
    "## Word Importance using Naive Bayes"
   ]
  },
  {
   "cell_type": "markdown",
   "metadata": {},
   "source": [
    "We will use multinomial naive bayes to find most important words to predict spoiler sentences."
   ]
  },
  {
   "cell_type": "markdown",
   "metadata": {},
   "source": [
    "### Single word in spoiler sentences\n",
    "spoiler reviews only: safe vs. spoiler sentences in Spoiler reviews"
   ]
  },
  {
   "cell_type": "code",
   "execution_count": 474,
   "metadata": {},
   "outputs": [
    {
     "name": "stderr",
     "output_type": "stream",
     "text": [
      "[nltk_data] Downloading package stopwords to\n",
      "[nltk_data]     /Users/gregor/nltk_data...\n",
      "[nltk_data]   Package stopwords is already up-to-date!\n"
     ]
    }
   ],
   "source": [
    "from sklearn.naive_bayes import MultinomialNB\n",
    "from sklearn.feature_extraction.text import CountVectorizer, TfidfVectorizer"
   ]
  },
  {
   "cell_type": "code",
   "execution_count": 645,
   "metadata": {},
   "outputs": [
    {
     "name": "stderr",
     "output_type": "stream",
     "text": [
      "100%|██████████| 20000/20000 [12:21<00:00, 26.96it/s]\n"
     ]
    }
   ],
   "source": [
    "#extract sentences and labels from 20000 spoiler reviews\n",
    "sentences = []\n",
    "labels = []\n",
    "\n",
    "for review in tqdm(spoiler_reviews[:20000]):\n",
    "    for label, sen in review:\n",
    "        labels.append(label)\n",
    "        sentences.append(spellcheck(sen))\n"
   ]
  },
  {
   "cell_type": "code",
   "execution_count": 646,
   "metadata": {},
   "outputs": [
    {
     "data": {
      "text/plain": [
       "MultinomialNB(alpha=1e-10)"
      ]
     },
     "execution_count": 646,
     "metadata": {},
     "output_type": "execute_result"
    }
   ],
   "source": [
    "# number of timesa word has to occur\n",
    "min_df = 500\n",
    "# ngram_range (1,1) only one word (2,2):only bigrams\n",
    "ngram_range = (1,1)\n",
    "\n",
    "# CountVectorizer converts strings to matrix with \n",
    "# rows: observations \n",
    "# columns: words \n",
    "# values: number of occurences in observation\n",
    "vectorizer = CountVectorizer(ngram_range=ngram_range, stop_words = 'english', min_df = min_df) \n",
    "\n",
    "X = vectorizer.fit_transform(np.array(sentences))\n",
    "y = np.array(labels)\n",
    "clf = MultinomialNB(alpha = 1e-10)\n",
    "clf.fit(X,y)"
   ]
  },
  {
   "cell_type": "code",
   "execution_count": 658,
   "metadata": {},
   "outputs": [
    {
     "data": {
      "text/html": [
       "<div>\n",
       "<style scoped>\n",
       "    .dataframe tbody tr th:only-of-type {\n",
       "        vertical-align: middle;\n",
       "    }\n",
       "\n",
       "    .dataframe tbody tr th {\n",
       "        vertical-align: top;\n",
       "    }\n",
       "\n",
       "    .dataframe thead th {\n",
       "        text-align: right;\n",
       "    }\n",
       "</style>\n",
       "<table border=\"1\" class=\"dataframe\">\n",
       "  <thead>\n",
       "    <tr style=\"text-align: right;\">\n",
       "      <th></th>\n",
       "      <th>proba_in_no_spoiler</th>\n",
       "      <th>proba_in_spoiler</th>\n",
       "      <th>relative_probability_spoiler</th>\n",
       "    </tr>\n",
       "  </thead>\n",
       "  <tbody>\n",
       "    <tr>\n",
       "      <th>end</th>\n",
       "      <td>0.005781</td>\n",
       "      <td>0.010313</td>\n",
       "      <td>0.004533</td>\n",
       "    </tr>\n",
       "    <tr>\n",
       "      <th>did</th>\n",
       "      <td>0.015595</td>\n",
       "      <td>0.020019</td>\n",
       "      <td>0.004424</td>\n",
       "    </tr>\n",
       "    <tr>\n",
       "      <th>does</th>\n",
       "      <td>0.006133</td>\n",
       "      <td>0.009302</td>\n",
       "      <td>0.003170</td>\n",
       "    </tr>\n",
       "    <tr>\n",
       "      <th>just</th>\n",
       "      <td>0.016700</td>\n",
       "      <td>0.019585</td>\n",
       "      <td>0.002885</td>\n",
       "    </tr>\n",
       "    <tr>\n",
       "      <th>death</th>\n",
       "      <td>0.000977</td>\n",
       "      <td>0.003617</td>\n",
       "      <td>0.002640</td>\n",
       "    </tr>\n",
       "    <tr>\n",
       "      <th>killed</th>\n",
       "      <td>0.000439</td>\n",
       "      <td>0.002341</td>\n",
       "      <td>0.001902</td>\n",
       "    </tr>\n",
       "    <tr>\n",
       "      <th>dead</th>\n",
       "      <td>0.000624</td>\n",
       "      <td>0.002510</td>\n",
       "      <td>0.001886</td>\n",
       "    </tr>\n",
       "    <tr>\n",
       "      <th>scene</th>\n",
       "      <td>0.001001</td>\n",
       "      <td>0.002866</td>\n",
       "      <td>0.001865</td>\n",
       "    </tr>\n",
       "    <tr>\n",
       "      <th>died</th>\n",
       "      <td>0.000324</td>\n",
       "      <td>0.002156</td>\n",
       "      <td>0.001833</td>\n",
       "    </tr>\n",
       "    <tr>\n",
       "      <th>kill</th>\n",
       "      <td>0.000571</td>\n",
       "      <td>0.002360</td>\n",
       "      <td>0.001790</td>\n",
       "    </tr>\n",
       "  </tbody>\n",
       "</table>\n",
       "</div>"
      ],
      "text/plain": [
       "        proba_in_no_spoiler  proba_in_spoiler  relative_probability_spoiler\n",
       "end                0.005781          0.010313                      0.004533\n",
       "did                0.015595          0.020019                      0.004424\n",
       "does               0.006133          0.009302                      0.003170\n",
       "just               0.016700          0.019585                      0.002885\n",
       "death              0.000977          0.003617                      0.002640\n",
       "killed             0.000439          0.002341                      0.001902\n",
       "dead               0.000624          0.002510                      0.001886\n",
       "scene              0.001001          0.002866                      0.001865\n",
       "died               0.000324          0.002156                      0.001833\n",
       "kill               0.000571          0.002360                      0.001790"
      ]
     },
     "execution_count": 658,
     "metadata": {},
     "output_type": "execute_result"
    }
   ],
   "source": [
    "df_likelihood = pd.DataFrame({\n",
    "    'proba_in_no_spoiler':np.e**(clf.feature_log_prob_[0]),\n",
    "    'proba_in_spoiler':np.e**(clf.feature_log_prob_[1]),\n",
    "    'relative_probability_spoiler': np.e**(clf.feature_log_prob_[1]) - np.e**(clf.feature_log_prob_[0])\n",
    "    },index = vectorizer.get_feature_names())\n",
    "df_likelihood.sort_values('relative_probability_spoiler', ascending = False).head(10)"
   ]
  },
  {
   "cell_type": "code",
   "execution_count": 659,
   "metadata": {},
   "outputs": [
    {
     "data": {
      "image/png": "[encoded data removed]",
      "text/plain": [
       "<Figure size 648x504 with 1 Axes>"
      ]
     },
     "metadata": {
      "needs_background": "light"
     },
     "output_type": "display_data"
    }
   ],
   "source": [
    "top10 = df_likelihood.sort_values('relative_probability_spoiler', ascending = False)[:10]\n",
    "bottom10=df_likelihood.sort_values('relative_probability_spoiler', ascending = False)[-10:]\n",
    "top_bottom10 = pd.concat([top10, bottom10])\n",
    "\n",
    "plt.figure(figsize=(9,7))\n",
    "ax = sns.barplot(x = top_bottom10.relative_probability_spoiler, y = top_bottom10.index )"
   ]
  },
  {
   "cell_type": "markdown",
   "metadata": {},
   "source": [
    "__Note that this is preliminary and based on a selection of the reviews containing spoilers.__\n",
    "* Words like end, kill and death are the most important words to distinguish sentences containing spoilers from sentences not containing spoilers within a review containing spoilers.  \n",
    "* try with lemmatization and removing stopwords using other libraries\n",
    "* try with bigrams\n",
    "* test TF-IDF"
   ]
  },
  {
   "cell_type": "code",
   "execution_count": 760,
   "metadata": {},
   "outputs": [],
   "source": [
    "# function to plot results of mulinomial Bayes calculation of feature importance\n",
    "def important_features_MB(text_list,labels, ngram = (1,1), min_df = 500, vectorizer = 'T', stop_words = 'english'):\n",
    "    if vectorizer == 'T':\n",
    "        vec = TfidfVectorizer(ngram_range=ngram,stop_words = stop_words, min_df = min_df)\n",
    "    elif vectorizer == 'C':\n",
    "        vec = CountVectorizer(ngram_range=ngram,stop_words = stop_words, min_df = min_df)\n",
    "    else:\n",
    "        return \"Wrong input: Please use 'C' or 'T' for count- or TFIDF vectorizer\"\n",
    "\n",
    "    X = vec.fit_transform(np.array(text_list))\n",
    "    y = np.array(labels)\n",
    "    clf = MultinomialNB(alpha = 1e-10)\n",
    "    clf.fit(X,y)\n",
    "\n",
    "    df_likelihood = pd.DataFrame({\n",
    "        'proba_in_no_spoiler':np.e**(clf.feature_log_prob_[0]),\n",
    "        'proba_in_spoiler':np.e**(clf.feature_log_prob_[1]),\n",
    "        'relative_probability_spoiler': np.e**(clf.feature_log_prob_[1]) - np.e**(clf.feature_log_prob_[0])\n",
    "        },index = vec.get_feature_names())\n",
    "\n",
    "    top10 = df_likelihood.sort_values('relative_probability_spoiler', ascending = False)[:10]\n",
    "    bottom10=df_likelihood.sort_values('relative_probability_spoiler', ascending = False)[-10:]\n",
    "    top_bottom10 = pd.concat([top10, bottom10])\n",
    "\n",
    "    plt.figure(figsize=(9,7))\n",
    "    ax = sns.barplot(x = top_bottom10.relative_probability_spoiler, y = top_bottom10.index )\n",
    "    plt.show(ax)"
   ]
  },
  {
   "cell_type": "code",
   "execution_count": 770,
   "metadata": {},
   "outputs": [
    {
     "data": {
      "image/png": "[encoded data removed]",
      "text/plain": [
       "<Figure size 648x504 with 1 Axes>"
      ]
     },
     "metadata": {
      "needs_background": "light"
     },
     "output_type": "display_data"
    }
   ],
   "source": [
    "# same as above but TFIDF vectorizer\n",
    "important_features_MB(sentences, labels,vectorizer = 'T')"
   ]
  },
  {
   "cell_type": "markdown",
   "metadata": {},
   "source": [
    "### Word importance after lemmatization"
   ]
  },
  {
   "cell_type": "code",
   "execution_count": 699,
   "metadata": {},
   "outputs": [],
   "source": [
    "# lemmatize input sentences\n",
    "sentences_l = [lemmatizer(sen) for sen in sentences]"
   ]
  },
  {
   "cell_type": "code",
   "execution_count": 755,
   "metadata": {},
   "outputs": [],
   "source": [
    "#write lemmatized sentences to file as this took forever\n",
    "with open('lemmatized_spoiler_review_sentences.txt', 'w+') as new_file:\n",
    "    for sen in sentences_l:\n",
    "        new_file.write(f'{sen}\\n')\n",
    "new_file.close()"
   ]
  },
  {
   "cell_type": "code",
   "execution_count": 768,
   "metadata": {},
   "outputs": [
    {
     "data": {
      "image/png": "[encoded data removed]",
      "text/plain": [
       "<Figure size 648x504 with 1 Axes>"
      ]
     },
     "metadata": {
      "needs_background": "light"
     },
     "output_type": "display_data"
    }
   ],
   "source": [
    "# word importance after lemmatization using Countvectorizer\n",
    "important_features_MB(sentences_l, labels,vectorizer = 'C', stop_words = None)"
   ]
  },
  {
   "cell_type": "code",
   "execution_count": 767,
   "metadata": {},
   "outputs": [
    {
     "data": {
      "image/png": "[encoded data removed]",
      "text/plain": [
       "<Figure size 648x504 with 1 Axes>"
      ]
     },
     "metadata": {
      "needs_background": "light"
     },
     "output_type": "display_data"
    }
   ],
   "source": [
    "# test with TF-IDF\n",
    "important_features_MB(sentences_l, labels,vectorizer = 'T', stop_words = None)"
   ]
  },
  {
   "cell_type": "code",
   "execution_count": null,
   "metadata": {},
   "outputs": [],
   "source": []
  },
  {
   "cell_type": "markdown",
   "metadata": {},
   "source": [
    "#### Word importance of linked words"
   ]
  },
  {
   "cell_type": "code",
   "execution_count": 771,
   "metadata": {},
   "outputs": [
    {
     "data": {
      "image/png": "[encoded data removed]",
      "text/plain": [
       "<Figure size 648x504 with 1 Axes>"
      ]
     },
     "metadata": {
      "needs_background": "light"
     },
     "output_type": "display_data"
    }
   ],
   "source": [
    "#calculate feature importance for bigrams (ngram = (2,2))\n",
    "#use spellchecked sentences as input\n",
    "important_features_MB(sentences, labels,vectorizer = 'C', stop_words = 'english', ngram = (2,2))"
   ]
  },
  {
   "cell_type": "code",
   "execution_count": 773,
   "metadata": {},
   "outputs": [
    {
     "data": {
      "image/png": "[encoded data removed]",
      "text/plain": [
       "<Figure size 648x504 with 1 Axes>"
      ]
     },
     "metadata": {
      "needs_background": "light"
     },
     "output_type": "display_data"
    }
   ],
   "source": [
    "#calculate feature importance for bigrams (ngram = (2,2))\n",
    "#use lemmatized sentences woithout stopwords and TFIDF vectorizer\n",
    "important_features_MB(sentences_l, labels,vectorizer = 'T', stop_words = None, ngram = (2,2))"
   ]
  },
  {
   "cell_type": "code",
   "execution_count": null,
   "metadata": {},
   "outputs": [],
   "source": []
  },
  {
   "cell_type": "markdown",
   "metadata": {},
   "source": [
    "This semes to make a lot of scence: Phrases like 'end book', 'happy ending', 'fall (in) love' are things we can envision as spoiling a book. On the other side, 'read book', 'writing style', 'book series' are general terms."
   ]
  },
  {
   "cell_type": "markdown",
   "metadata": {},
   "source": [
    "### Word importance comparing entire reviews\n",
    "__spoiler reviews vs non-spoiler reviews__"
   ]
  },
  {
   "cell_type": "code",
   "execution_count": 683,
   "metadata": {},
   "outputs": [],
   "source": [
    "reviews = safe_text + spoiler_text_all\n",
    "labels_all = [0]*len(safe_text) + [0]*len(spoiler_text_all)"
   ]
  },
  {
   "cell_type": "code",
   "execution_count": 774,
   "metadata": {},
   "outputs": [
    {
     "data": {
      "image/png": "[encoded data removed]",
      "text/plain": [
       "<Figure size 648x504 with 1 Axes>"
      ]
     },
     "metadata": {
      "needs_background": "light"
     },
     "output_type": "display_data"
    }
   ],
   "source": [
    "#importance of single words\n",
    "important_features_MB(reviews, labels_all,vectorizer = 'T', stop_words = 'english', ngram = (1,1))"
   ]
  },
  {
   "cell_type": "code",
   "execution_count": 775,
   "metadata": {},
   "outputs": [
    {
     "data": {
      "image/png": "[encoded data removed]",
      "text/plain": [
       "<Figure size 648x504 with 1 Axes>"
      ]
     },
     "metadata": {
      "needs_background": "light"
     },
     "output_type": "display_data"
    }
   ],
   "source": [
    "# importance of bigrams\n",
    "important_features_MB(reviews, labels_all,vectorizer = 'T', stop_words = 'english', ngram = (2,2))"
   ]
  },
  {
   "cell_type": "code",
   "execution_count": 776,
   "metadata": {},
   "outputs": [
    {
     "data": {
      "image/png": "[encoded data removed]",
      "text/plain": [
       "<Figure size 648x504 with 1 Axes>"
      ]
     },
     "metadata": {
      "needs_background": "light"
     },
     "output_type": "display_data"
    }
   ],
   "source": [
    "important_features_MB(reviews, labels_all,vectorizer = 'T', stop_words = 'english', ngram = (3,3))"
   ]
  },
  {
   "cell_type": "code",
   "execution_count": 777,
   "metadata": {},
   "outputs": [],
   "source": [
    "# safe reviews ad labels, just in case\n",
    "with open('reviews.txt', 'w+') as rw:\n",
    "    json.dump(reviews, rw)\n",
    "\n",
    "with open('review_labels.txt', 'w+') as rl:\n",
    "    json.dump(labels_all, rl)\n",
    "    \n",
    "# to open:\n",
    "#with open('reviews.txt', 'w+') as rw:\n",
    "#    reviews = json.load(rw)"
   ]
  },
  {
   "cell_type": "code",
   "execution_count": null,
   "metadata": {},
   "outputs": [],
   "source": []
  },
  {
   "cell_type": "code",
   "execution_count": null,
   "metadata": {},
   "outputs": [],
   "source": [
    "t0 = time.time()\n",
    "reviews_l = [lemmatizer(r) for r in reviews]\n",
    "elapsed_time = time.time()-t0\n",
    "time.strftime(\"%H:%M:%S\", time.gmtime(elapsed_time))"
   ]
  },
  {
   "cell_type": "code",
   "execution_count": null,
   "metadata": {},
   "outputs": [],
   "source": []
  },
  {
   "cell_type": "code",
   "execution_count": null,
   "metadata": {},
   "outputs": [],
   "source": []
  },
  {
   "cell_type": "code",
   "execution_count": null,
   "metadata": {},
   "outputs": [],
   "source": []
  },
  {
   "cell_type": "code",
   "execution_count": null,
   "metadata": {},
   "outputs": [],
   "source": []
  },
  {
   "cell_type": "code",
   "execution_count": null,
   "metadata": {},
   "outputs": [],
   "source": []
  },
  {
   "cell_type": "code",
   "execution_count": null,
   "metadata": {},
   "outputs": [],
   "source": []
  },
  {
   "cell_type": "code",
   "execution_count": null,
   "metadata": {},
   "outputs": [],
   "source": []
  },
  {
   "cell_type": "code",
   "execution_count": null,
   "metadata": {},
   "outputs": [],
   "source": []
  },
  {
   "cell_type": "code",
   "execution_count": null,
   "metadata": {},
   "outputs": [],
   "source": []
  },
  {
   "cell_type": "code",
   "execution_count": null,
   "metadata": {},
   "outputs": [],
   "source": []
  },
  {
   "cell_type": "code",
   "execution_count": null,
   "metadata": {},
   "outputs": [],
   "source": []
  },
  {
   "cell_type": "code",
   "execution_count": null,
   "metadata": {},
   "outputs": [],
   "source": []
  },
  {
   "cell_type": "code",
   "execution_count": 622,
   "metadata": {},
   "outputs": [
    {
     "name": "stderr",
     "output_type": "stream",
     "text": [
      "[nltk_data] Downloading package stopwords to\n",
      "[nltk_data]     /Users/gregor/nltk_data...\n",
      "[nltk_data]   Package stopwords is already up-to-date!\n",
      "[nltk_data] Downloading package punkt to /Users/gregor/nltk_data...\n",
      "[nltk_data]   Package punkt is already up-to-date!\n",
      "[nltk_data] Downloading package wordnet to /Users/gregor/nltk_data...\n",
      "[nltk_data]   Package wordnet is already up-to-date!\n"
     ]
    }
   ],
   "source": [
    "import re\n",
    "import nltk\n",
    "from nltk import word_tokenize\n",
    "from nltk.stem import WordNetLemmatizer \n",
    "\n",
    "nltk.download('stopwords')\n",
    "nltk.download('punkt')\n",
    "nltk.download('wordnet')\n",
    "\n",
    "stopset = nltk.corpus.stopwords.words('english') \n",
    "lemmatizer_wordnet = WordNetLemmatizer() \n",
    "\n",
    "\n",
    "def preprocessing1(text):\n",
    "    # convert to lower, remove new lines, tabs and two spaces\n",
    "    text = text.lower()\n",
    "    #remove any whitespace characters including \\n,..\n",
    "    text = re.sub(r\"\\s+\", ' ', text).strip()\n",
    "    #remove urls\n",
    "    text = re.sub('http://\\S+|https://\\S+', '', text)\n",
    "    #remove punctation\n",
    "    text = text.translate(str.maketrans('', '', punctuation))\n",
    "    # remove stopwords\n",
    "    text = \" \".join([lemmatizer.lemmatize(i) for i in word_tokenize(text) if i not in stopset])\n",
    "    #remove non-ascii characters\n",
    "    text = unidecode(text)\n",
    "    return text"
   ]
  },
  {
   "cell_type": "code",
   "execution_count": 251,
   "metadata": {},
   "outputs": [
    {
     "name": "stdout",
     "output_type": "stream",
     "text": [
      "   this is    a  test \n",
      " for sub of \t whitspaces\n"
     ]
    },
    {
     "data": {
      "text/plain": [
       "'this is a test for sub of whitspaces'"
      ]
     },
     "execution_count": 251,
     "metadata": {},
     "output_type": "execute_result"
    }
   ],
   "source": [
    "print(\"   this is    a  test \\n for sub of \\t whitspaces\")\n",
    "re.sub(r\"\\s+\", ' ', \"   this is    a  test \\n for sub of \\t whitspaces\").strip()"
   ]
  },
  {
   "cell_type": "code",
   "execution_count": 30,
   "metadata": {},
   "outputs": [
    {
     "ename": "SyntaxError",
     "evalue": "invalid syntax (<ipython-input-30-96e495f24e9f>, line 1)",
     "output_type": "error",
     "traceback": [
      "\u001b[0;36m  File \u001b[0;32m\"<ipython-input-30-96e495f24e9f>\"\u001b[0;36m, line \u001b[0;32m1\u001b[0m\n\u001b[0;31m    import spacynlp_spacy_spacy = spacy.load(\"en_core_web_sm\")\u001b[0m\n\u001b[0m                                ^\u001b[0m\n\u001b[0;31mSyntaxError\u001b[0m\u001b[0;31m:\u001b[0m invalid syntax\n"
     ]
    }
   ],
   "source": [
    "import spacy\n",
    "nlp_spacy_spacy = spacy.load(\"en_core_web_sm\")\n",
    "\n",
    "def preprocessing_spacy(text):\n",
    "    text = text.lower()\n",
    "    #remove URLS\n",
    "    text = re.sub('http://\\S+|https://\\S+', '', text)\n",
    "    # remove whitespaces, new line characters,..\n",
    "    text = re.sub(r\"\\s+\", ' ', text).strip()\n",
    "    doc = nlp_spacy(text)\n",
    "    text = \" \".join([token.lemma_ for token in doc if not token.is_punct if not token.is_stop])\n",
    "    return text"
   ]
  },
  {
   "cell_type": "code",
   "execution_count": 271,
   "metadata": {},
   "outputs": [
    {
     "data": {
      "text/plain": [
       "False"
      ]
     },
     "execution_count": 271,
     "metadata": {},
     "output_type": "execute_result"
    }
   ],
   "source": [
    "spacy_stopwords = nlp_spacy.Defaults.stop_words\n",
    "'test' in spacy_stopwords"
   ]
  },
  {
   "cell_type": "code",
   "execution_count": 263,
   "metadata": {},
   "outputs": [
    {
     "name": "stdout",
     "output_type": "stream",
     "text": [
      ", \t , \t True\n",
      "! \t ! \t True\n"
     ]
    }
   ],
   "source": [
    "test  = \"Test this, he's not!\"\n",
    "doc = nlp_spacy(test)\n",
    "for word in doc:\n",
    "    if  word.is_punct:\n",
    "        print(word, '\\t', word.lemma_, '\\t', word.is_punct )"
   ]
  },
  {
   "cell_type": "code",
   "execution_count": 301,
   "metadata": {},
   "outputs": [
    {
     "data": {
      "text/plain": [
       "'test gregor'"
      ]
     },
     "execution_count": 301,
     "metadata": {},
     "output_type": "execute_result"
    }
   ],
   "source": [
    "text = (\"this  is a test gregor.\")\n",
    "text = re.sub(r\"\\s+\", ' ', text).strip()\n",
    "text = re.sub('http://\\S+|https://\\S+', '', text)\n",
    "doc = nlp_spacy(text)\n",
    "\" \".join([token.lemma_ for token in doc if not token.is_punct if not token.is_stop])"
   ]
  },
  {
   "cell_type": "code",
   "execution_count": 2,
   "metadata": {},
   "outputs": [
    {
     "ename": "NameError",
     "evalue": "name 'nlp_spacy' is not defined",
     "output_type": "error",
     "traceback": [
      "\u001b[0;31m---------------------------------------------------------------------------\u001b[0m",
      "\u001b[0;31mNameError\u001b[0m                                 Traceback (most recent call last)",
      "\u001b[0;32m<ipython-input-2-5e3dd87891b8>\u001b[0m in \u001b[0;36m<module>\u001b[0;34m\u001b[0m\n\u001b[1;32m      1\u001b[0m \u001b[0mtoken\u001b[0m \u001b[0;34m=\u001b[0m \u001b[0;34m'this'\u001b[0m\u001b[0;34m\u001b[0m\u001b[0;34m\u001b[0m\u001b[0m\n\u001b[0;32m----> 2\u001b[0;31m \u001b[0mtoken\u001b[0m \u001b[0;34m=\u001b[0m \u001b[0mnlp_spacy\u001b[0m\u001b[0;34m(\u001b[0m\u001b[0mtoken\u001b[0m\u001b[0;34m)\u001b[0m\u001b[0;34m\u001b[0m\u001b[0;34m\u001b[0m\u001b[0m\n\u001b[0m\u001b[1;32m      3\u001b[0m \u001b[0;32mfor\u001b[0m \u001b[0mt\u001b[0m \u001b[0;32min\u001b[0m \u001b[0mtoken\u001b[0m\u001b[0;34m:\u001b[0m\u001b[0;34m\u001b[0m\u001b[0;34m\u001b[0m\u001b[0m\n\u001b[1;32m      4\u001b[0m     \u001b[0mprint\u001b[0m\u001b[0;34m(\u001b[0m\u001b[0mt\u001b[0m\u001b[0;34m.\u001b[0m\u001b[0mis_stop\u001b[0m\u001b[0;34m)\u001b[0m\u001b[0;34m\u001b[0m\u001b[0;34m\u001b[0m\u001b[0m\n",
      "\u001b[0;31mNameError\u001b[0m: name 'nlp_spacy' is not defined"
     ]
    }
   ],
   "source": [
    "token = 'this'\n",
    "token = nlp_spacy(token)\n",
    "for t in token:\n",
    "    print(t.is_stop)"
   ]
  },
  {
   "cell_type": "code",
   "execution_count": 43,
   "metadata": {},
   "outputs": [
    {
     "data": {
      "text/plain": [
       "'test gregor'"
      ]
     },
     "execution_count": 43,
     "metadata": {},
     "output_type": "execute_result"
    }
   ],
   "source": [
    "preprocessing_spacy(\"this  is a test gregor.\")"
   ]
  },
  {
   "cell_type": "code",
   "execution_count": null,
   "metadata": {},
   "outputs": [],
   "source": [
    "sentences_wc_processed = [preprocessing1(sen) for sen in tqdm(sentences_wc)]"
   ]
  },
  {
   "cell_type": "code",
   "execution_count": 133,
   "metadata": {},
   "outputs": [],
   "source": [
    "df_spoiler_text = pd.DataFrame({\n",
    "    'sentences': sentences_wc,\n",
    "    'sentences_processed':sentences_wc_processed,\n",
    "    'labels':labels\n",
    "    \n",
    "})"
   ]
  },
  {
   "cell_type": "code",
   "execution_count": 157,
   "metadata": {},
   "outputs": [],
   "source": [
    "#text_no_spoiler = \" \".join(list(df_spoiler_text.sentences_processed[df_spoiler_text.labels  == 0]))\n",
    "text_spoiler = \" \".join(df_spoiler_text.sentences_processed[df_spoiler_text.labels  == 1])"
   ]
  },
  {
   "cell_type": "code",
   "execution_count": 161,
   "metadata": {},
   "outputs": [],
   "source": [
    "wordcloud = WordCloud(max_font_size=50, max_words=100, background_color=\"white\")"
   ]
  },
  {
   "cell_type": "code",
   "execution_count": 162,
   "metadata": {},
   "outputs": [
    {
     "data": {
      "image/png": "[encoded data removed]",
      "text/plain": [
       "<Figure size 432x288 with 1 Axes>"
      ]
     },
     "metadata": {
      "needs_background": "light"
     },
     "output_type": "display_data"
    }
   ],
   "source": [
    "wordcloud = WordCloud(max_font_size=50, max_words=100, background_color=\"white\")\n",
    "wordcloud_s = wordcloud.generate(text_spoiler)\n",
    "plt.imshow(wordcloud_s, interpolation='bilinear')\n",
    "plt.axis(\"off\")\n",
    "plt.show()"
   ]
  },
  {
   "cell_type": "code",
   "execution_count": null,
   "metadata": {},
   "outputs": [],
   "source": []
  },
  {
   "cell_type": "code",
   "execution_count": null,
   "metadata": {},
   "outputs": [],
   "source": []
  },
  {
   "cell_type": "code",
   "execution_count": null,
   "metadata": {},
   "outputs": [],
   "source": []
  }
 ],
 "metadata": {
  "kernelspec": {
   "display_name": "Python 3",
   "language": "python",
   "name": "python3"
  },
  "language_info": {
   "codemirror_mode": {
    "name": "ipython",
    "version": 3
   },
   "file_extension": ".py",
   "mimetype": "text/x-python",
   "name": "python",
   "nbconvert_exporter": "python",
   "pygments_lexer": "ipython3",
   "version": "3.6.10"
  }
 },
 "nbformat": 4,
 "nbformat_minor": 4
}

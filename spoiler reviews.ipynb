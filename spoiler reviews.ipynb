{
 "cells": [
  {
   "cell_type": "markdown",
   "metadata": {},
   "source": [
    "# Spoiler reviews-Capstone"
   ]
  },
  {
   "cell_type": "markdown",
   "metadata": {},
   "source": [
    "authors: gregor Habeck and Julia Schaefer"
   ]
  },
  {
   "cell_type": "code",
   "execution_count": 46,
   "metadata": {},
   "outputs": [
    {
     "name": "stdout",
     "output_type": "stream",
     "text": [
      "Requirement already up-to-date: Unidecode in /opt/anaconda3/envs/nf/lib/python3.6/site-packages (1.1.1)\n"
     ]
    }
   ],
   "source": [
    "#install modules\n",
    "#!pip install -U nltk\n",
    "!pip install -U Unidecode\n",
    "!pip install wordcloud"
   ]
  },
  {
   "cell_type": "code",
   "execution_count": 143,
   "metadata": {},
   "outputs": [],
   "source": [
    "# import modules for data import and editing\n",
    "import json\n",
    "import pandas as pd\n",
    "import gzip\n",
    "import numpy as np\n",
    "from collections import defaultdict\n",
    "from tqdm import tqdm\n",
    "import time\n",
    "import operator\n",
    "\n",
    "# import modules for plotting\n",
    "import matplotlib.pyplot as plt\n",
    "import seaborn as sns\n",
    "\n",
    "#import modules for text analysis\n",
    "import spacy\n",
    "import string\n",
    "import nltk\n",
    "from unidecode import unidecode\n",
    "from wordcloud import WordCloud, STOPWORDS, ImageColorGenerator\n",
    "\n",
    "pd.set_option(\"display.max_columns\", None)"
   ]
  },
  {
   "cell_type": "code",
   "execution_count": 12,
   "metadata": {},
   "outputs": [],
   "source": [
    "def import_json_gz(file,limit = 1000000):\n",
    "    '''\n",
    "    Function opens and loads a gziped json file and returns a selected number of rows from that file in tabular form.\n",
    "    Max number of entries: 1 million\n",
    "    Returns: Pandas Dataframe\n",
    "    '''\n",
    "    if limit > 1000000:\n",
    "        return 'Sorry, your limit is to high. Please choose a number <= 1000000'\n",
    "    data = []\n",
    "    count = 0\n",
    "    with gzip.open(file) as f:\n",
    "        for l in tqdm(f):\n",
    "            data_dict = json.loads(l.strip())\n",
    "            data.append(data_dict)\n",
    "            count += 1\n",
    "            if count == limit:\n",
    "                break\n",
    "    return pd.DataFrame(data)"
   ]
  },
  {
   "cell_type": "code",
   "execution_count": 13,
   "metadata": {},
   "outputs": [],
   "source": [
    "# to load the entire dataframe\n",
    "def import_json_gz2(file):\n",
    "    '''\n",
    "    Function opens and loads a gziped json file. Use only for files smaller than 1 GB.\n",
    "    Max number of entries: 1 million\n",
    "    Returns: Pandas Dataframe\n",
    "    '''\n",
    "    data = []\n",
    "    with gzip.open(file) as f:\n",
    "        for l in tqdm(f):\n",
    "            data_dict = json.loads(l.strip())\n",
    "            data.append(data_dict)\n",
    "    return pd.DataFrame(data)"
   ]
  },
  {
   "cell_type": "code",
   "execution_count": 14,
   "metadata": {},
   "outputs": [],
   "source": [
    "# files that will be used\n",
    "# file_meta contains meta data for books\n",
    "file_meta = 'goodreads_books_meta.json.gz'\n",
    "# file_review contains review texts and additional information\n",
    "file_reviews = 'goodreads_reviews_spoiler.json.gz'\n",
    "# file_genre contains genre of books\n",
    "file_genre = 'goodreads_book_genres_initial.json.gz'"
   ]
  },
  {
   "cell_type": "code",
   "execution_count": 15,
   "metadata": {},
   "outputs": [
    {
     "name": "stderr",
     "output_type": "stream",
     "text": [
      "9999it [00:01, 5822.26it/s]\n"
     ]
    }
   ],
   "source": [
    "#load a subset of the books meta data to get an idea of what features to extract\n",
    "df_meta = import_json_gz(file_meta, 10000)"
   ]
  },
  {
   "cell_type": "code",
   "execution_count": 16,
   "metadata": {},
   "outputs": [
    {
     "data": {
      "text/html": [
       "<div>\n",
       "<style scoped>\n",
       "    .dataframe tbody tr th:only-of-type {\n",
       "        vertical-align: middle;\n",
       "    }\n",
       "\n",
       "    .dataframe tbody tr th {\n",
       "        vertical-align: top;\n",
       "    }\n",
       "\n",
       "    .dataframe thead th {\n",
       "        text-align: right;\n",
       "    }\n",
       "</style>\n",
       "<table border=\"1\" class=\"dataframe\">\n",
       "  <thead>\n",
       "    <tr style=\"text-align: right;\">\n",
       "      <th></th>\n",
       "      <th>asin</th>\n",
       "      <th>authors</th>\n",
       "      <th>average_rating</th>\n",
       "      <th>book_id</th>\n",
       "      <th>country_code</th>\n",
       "      <th>description</th>\n",
       "      <th>edition_information</th>\n",
       "      <th>format</th>\n",
       "      <th>image_url</th>\n",
       "      <th>is_ebook</th>\n",
       "      <th>isbn</th>\n",
       "      <th>isbn13</th>\n",
       "      <th>kindle_asin</th>\n",
       "      <th>language_code</th>\n",
       "      <th>link</th>\n",
       "      <th>num_pages</th>\n",
       "      <th>popular_shelves</th>\n",
       "      <th>publication_day</th>\n",
       "      <th>publication_month</th>\n",
       "      <th>publication_year</th>\n",
       "      <th>publisher</th>\n",
       "      <th>ratings_count</th>\n",
       "      <th>series</th>\n",
       "      <th>similar_books</th>\n",
       "      <th>text_reviews_count</th>\n",
       "      <th>title</th>\n",
       "      <th>title_without_series</th>\n",
       "      <th>url</th>\n",
       "      <th>work_id</th>\n",
       "    </tr>\n",
       "  </thead>\n",
       "  <tbody>\n",
       "    <tr>\n",
       "      <th>0</th>\n",
       "      <td></td>\n",
       "      <td>[{'author_id': '604031', 'role': ''}]</td>\n",
       "      <td>4.00</td>\n",
       "      <td>5333265</td>\n",
       "      <td>US</td>\n",
       "      <td></td>\n",
       "      <td></td>\n",
       "      <td>Paperback</td>\n",
       "      <td>https://images.gr-assets.com/books/1310220028m...</td>\n",
       "      <td>false</td>\n",
       "      <td>0312853122</td>\n",
       "      <td>9780312853129</td>\n",
       "      <td></td>\n",
       "      <td></td>\n",
       "      <td>https://www.goodreads.com/book/show/5333265-w-...</td>\n",
       "      <td>256</td>\n",
       "      <td>[{'count': '3', 'name': 'to-read'}, {'count': ...</td>\n",
       "      <td>1</td>\n",
       "      <td>9</td>\n",
       "      <td>1984</td>\n",
       "      <td>St. Martin's Press</td>\n",
       "      <td>3</td>\n",
       "      <td>[]</td>\n",
       "      <td>[]</td>\n",
       "      <td>1</td>\n",
       "      <td>W.C. Fields: A Life on Film</td>\n",
       "      <td>W.C. Fields: A Life on Film</td>\n",
       "      <td>https://www.goodreads.com/book/show/5333265-w-...</td>\n",
       "      <td>5400751</td>\n",
       "    </tr>\n",
       "    <tr>\n",
       "      <th>1</th>\n",
       "      <td></td>\n",
       "      <td>[{'author_id': '626222', 'role': ''}]</td>\n",
       "      <td>3.23</td>\n",
       "      <td>1333909</td>\n",
       "      <td>US</td>\n",
       "      <td>Anita Diamant's international bestseller \"The ...</td>\n",
       "      <td>Abridged</td>\n",
       "      <td>Audio CD</td>\n",
       "      <td>https://s.gr-assets.com/assets/nophoto/book/11...</td>\n",
       "      <td>false</td>\n",
       "      <td>0743509986</td>\n",
       "      <td>9780743509985</td>\n",
       "      <td>B000FC0PBC</td>\n",
       "      <td></td>\n",
       "      <td>https://www.goodreads.com/book/show/1333909.Go...</td>\n",
       "      <td></td>\n",
       "      <td>[{'count': '2634', 'name': 'to-read'}, {'count...</td>\n",
       "      <td>1</td>\n",
       "      <td>10</td>\n",
       "      <td>2001</td>\n",
       "      <td>Simon &amp; Schuster Audio</td>\n",
       "      <td>10</td>\n",
       "      <td>[]</td>\n",
       "      <td>[8709549, 17074050, 28937, 158816, 228563, 112...</td>\n",
       "      <td>6</td>\n",
       "      <td>Good Harbor</td>\n",
       "      <td>Good Harbor</td>\n",
       "      <td>https://www.goodreads.com/book/show/1333909.Go...</td>\n",
       "      <td>1323437</td>\n",
       "    </tr>\n",
       "    <tr>\n",
       "      <th>2</th>\n",
       "      <td>B00071IKUY</td>\n",
       "      <td>[{'author_id': '10333', 'role': ''}]</td>\n",
       "      <td>4.03</td>\n",
       "      <td>7327624</td>\n",
       "      <td>US</td>\n",
       "      <td>Omnibus book club edition containing the Ladie...</td>\n",
       "      <td>Book Club Edition</td>\n",
       "      <td>Hardcover</td>\n",
       "      <td>https://images.gr-assets.com/books/1304100136m...</td>\n",
       "      <td>false</td>\n",
       "      <td></td>\n",
       "      <td></td>\n",
       "      <td></td>\n",
       "      <td>eng</td>\n",
       "      <td>https://www.goodreads.com/book/show/7327624-th...</td>\n",
       "      <td>600</td>\n",
       "      <td>[{'count': '58', 'name': 'to-read'}, {'count':...</td>\n",
       "      <td></td>\n",
       "      <td></td>\n",
       "      <td>1987</td>\n",
       "      <td>Nelson Doubleday, Inc.</td>\n",
       "      <td>140</td>\n",
       "      <td>[189911]</td>\n",
       "      <td>[19997, 828466, 1569323, 425389, 1176674, 2627...</td>\n",
       "      <td>7</td>\n",
       "      <td>The Unschooled Wizard (Sun Wolf and Starhawk, ...</td>\n",
       "      <td>The Unschooled Wizard (Sun Wolf and Starhawk, ...</td>\n",
       "      <td>https://www.goodreads.com/book/show/7327624-th...</td>\n",
       "      <td>8948723</td>\n",
       "    </tr>\n",
       "    <tr>\n",
       "      <th>3</th>\n",
       "      <td></td>\n",
       "      <td>[{'author_id': '9212', 'role': ''}]</td>\n",
       "      <td>3.49</td>\n",
       "      <td>6066819</td>\n",
       "      <td>US</td>\n",
       "      <td>Addie Downs and Valerie Adler were eight when ...</td>\n",
       "      <td></td>\n",
       "      <td>Hardcover</td>\n",
       "      <td>https://s.gr-assets.com/assets/nophoto/book/11...</td>\n",
       "      <td>false</td>\n",
       "      <td>0743294297</td>\n",
       "      <td>9780743294294</td>\n",
       "      <td>B002ENBLOK</td>\n",
       "      <td>eng</td>\n",
       "      <td>https://www.goodreads.com/book/show/6066819-be...</td>\n",
       "      <td>368</td>\n",
       "      <td>[{'count': '7615', 'name': 'to-read'}, {'count...</td>\n",
       "      <td>14</td>\n",
       "      <td>7</td>\n",
       "      <td>2009</td>\n",
       "      <td>Atria Books</td>\n",
       "      <td>51184</td>\n",
       "      <td>[]</td>\n",
       "      <td>[6604176, 6054190, 2285777, 82641, 7569453, 70...</td>\n",
       "      <td>3282</td>\n",
       "      <td>Best Friends Forever</td>\n",
       "      <td>Best Friends Forever</td>\n",
       "      <td>https://www.goodreads.com/book/show/6066819-be...</td>\n",
       "      <td>6243154</td>\n",
       "    </tr>\n",
       "    <tr>\n",
       "      <th>4</th>\n",
       "      <td></td>\n",
       "      <td>[{'author_id': '149918', 'role': ''}]</td>\n",
       "      <td>3.40</td>\n",
       "      <td>287140</td>\n",
       "      <td>US</td>\n",
       "      <td></td>\n",
       "      <td></td>\n",
       "      <td></td>\n",
       "      <td>https://images.gr-assets.com/books/1413219371m...</td>\n",
       "      <td>false</td>\n",
       "      <td>0850308712</td>\n",
       "      <td>9780850308716</td>\n",
       "      <td></td>\n",
       "      <td></td>\n",
       "      <td>https://www.goodreads.com/book/show/287140.Run...</td>\n",
       "      <td></td>\n",
       "      <td>[{'count': '32', 'name': 'to-read'}, {'count':...</td>\n",
       "      <td></td>\n",
       "      <td></td>\n",
       "      <td></td>\n",
       "      <td></td>\n",
       "      <td>15</td>\n",
       "      <td>[]</td>\n",
       "      <td>[]</td>\n",
       "      <td>5</td>\n",
       "      <td>Runic Astrology: Starcraft and Timekeeping in ...</td>\n",
       "      <td>Runic Astrology: Starcraft and Timekeeping in ...</td>\n",
       "      <td>https://www.goodreads.com/book/show/287140.Run...</td>\n",
       "      <td>278577</td>\n",
       "    </tr>\n",
       "  </tbody>\n",
       "</table>\n",
       "</div>"
      ],
      "text/plain": [
       "         asin                                authors average_rating  book_id  \\\n",
       "0              [{'author_id': '604031', 'role': ''}]           4.00  5333265   \n",
       "1              [{'author_id': '626222', 'role': ''}]           3.23  1333909   \n",
       "2  B00071IKUY   [{'author_id': '10333', 'role': ''}]           4.03  7327624   \n",
       "3                [{'author_id': '9212', 'role': ''}]           3.49  6066819   \n",
       "4              [{'author_id': '149918', 'role': ''}]           3.40   287140   \n",
       "\n",
       "  country_code                                        description  \\\n",
       "0           US                                                      \n",
       "1           US  Anita Diamant's international bestseller \"The ...   \n",
       "2           US  Omnibus book club edition containing the Ladie...   \n",
       "3           US  Addie Downs and Valerie Adler were eight when ...   \n",
       "4           US                                                      \n",
       "\n",
       "  edition_information     format  \\\n",
       "0                      Paperback   \n",
       "1            Abridged   Audio CD   \n",
       "2   Book Club Edition  Hardcover   \n",
       "3                      Hardcover   \n",
       "4                                  \n",
       "\n",
       "                                           image_url is_ebook        isbn  \\\n",
       "0  https://images.gr-assets.com/books/1310220028m...    false  0312853122   \n",
       "1  https://s.gr-assets.com/assets/nophoto/book/11...    false  0743509986   \n",
       "2  https://images.gr-assets.com/books/1304100136m...    false               \n",
       "3  https://s.gr-assets.com/assets/nophoto/book/11...    false  0743294297   \n",
       "4  https://images.gr-assets.com/books/1413219371m...    false  0850308712   \n",
       "\n",
       "          isbn13 kindle_asin language_code  \\\n",
       "0  9780312853129                             \n",
       "1  9780743509985  B000FC0PBC                 \n",
       "2                                      eng   \n",
       "3  9780743294294  B002ENBLOK           eng   \n",
       "4  9780850308716                             \n",
       "\n",
       "                                                link num_pages  \\\n",
       "0  https://www.goodreads.com/book/show/5333265-w-...       256   \n",
       "1  https://www.goodreads.com/book/show/1333909.Go...             \n",
       "2  https://www.goodreads.com/book/show/7327624-th...       600   \n",
       "3  https://www.goodreads.com/book/show/6066819-be...       368   \n",
       "4  https://www.goodreads.com/book/show/287140.Run...             \n",
       "\n",
       "                                     popular_shelves publication_day  \\\n",
       "0  [{'count': '3', 'name': 'to-read'}, {'count': ...               1   \n",
       "1  [{'count': '2634', 'name': 'to-read'}, {'count...               1   \n",
       "2  [{'count': '58', 'name': 'to-read'}, {'count':...                   \n",
       "3  [{'count': '7615', 'name': 'to-read'}, {'count...              14   \n",
       "4  [{'count': '32', 'name': 'to-read'}, {'count':...                   \n",
       "\n",
       "  publication_month publication_year               publisher ratings_count  \\\n",
       "0                 9             1984      St. Martin's Press             3   \n",
       "1                10             2001  Simon & Schuster Audio            10   \n",
       "2                               1987  Nelson Doubleday, Inc.           140   \n",
       "3                 7             2009             Atria Books         51184   \n",
       "4                                                                       15   \n",
       "\n",
       "     series                                      similar_books  \\\n",
       "0        []                                                 []   \n",
       "1        []  [8709549, 17074050, 28937, 158816, 228563, 112...   \n",
       "2  [189911]  [19997, 828466, 1569323, 425389, 1176674, 2627...   \n",
       "3        []  [6604176, 6054190, 2285777, 82641, 7569453, 70...   \n",
       "4        []                                                 []   \n",
       "\n",
       "  text_reviews_count                                              title  \\\n",
       "0                  1                        W.C. Fields: A Life on Film   \n",
       "1                  6                                        Good Harbor   \n",
       "2                  7  The Unschooled Wizard (Sun Wolf and Starhawk, ...   \n",
       "3               3282                               Best Friends Forever   \n",
       "4                  5  Runic Astrology: Starcraft and Timekeeping in ...   \n",
       "\n",
       "                                title_without_series  \\\n",
       "0                        W.C. Fields: A Life on Film   \n",
       "1                                        Good Harbor   \n",
       "2  The Unschooled Wizard (Sun Wolf and Starhawk, ...   \n",
       "3                               Best Friends Forever   \n",
       "4  Runic Astrology: Starcraft and Timekeeping in ...   \n",
       "\n",
       "                                                 url  work_id  \n",
       "0  https://www.goodreads.com/book/show/5333265-w-...  5400751  \n",
       "1  https://www.goodreads.com/book/show/1333909.Go...  1323437  \n",
       "2  https://www.goodreads.com/book/show/7327624-th...  8948723  \n",
       "3  https://www.goodreads.com/book/show/6066819-be...  6243154  \n",
       "4  https://www.goodreads.com/book/show/287140.Run...   278577  "
      ]
     },
     "execution_count": 16,
     "metadata": {},
     "output_type": "execute_result"
    }
   ],
   "source": [
    "df_meta.head()"
   ]
  },
  {
   "cell_type": "markdown",
   "metadata": {},
   "source": [
    "We consider the following features as usful for EDA and feature engineering:  \n",
    "    * book_id  \n",
    "    * title  \n",
    "    * description  \n",
    "    * publication_year, publication_month, publication_day  \n",
    "    * average_rating  \n",
    "    * ratings_count  \n",
    "    * num_pages  "
   ]
  },
  {
   "cell_type": "code",
   "execution_count": 17,
   "metadata": {},
   "outputs": [],
   "source": [
    "def check_features(features, dataset):\n",
    "    '''\n",
    "    simple way to check if selected features are in a dataset\n",
    "    '''\n",
    "    for f in features:\n",
    "        if f not in dataset.columns:\n",
    "            return f'{f} is not a valid column name'\n",
    "    return 'Good to go!'"
   ]
  },
  {
   "cell_type": "code",
   "execution_count": 18,
   "metadata": {},
   "outputs": [],
   "source": [
    "#generator to open json.gzip files\n",
    "# yields single lines\n",
    "def get_book(file):\n",
    "    '''\n",
    "    Generator will yield lines of the passed file\n",
    "    '''\n",
    "    with gzip.open(file, 'r') as f:\n",
    "        for l in f:\n",
    "            yield l\n",
    "\n",
    "# fetch features\n",
    "def fetch_features(file, features, book_list):\n",
    "    '''\n",
    "    Provide a list of features you want to extract in a single run.\n",
    "    Returns a dictionary.\n",
    "    \n",
    "    File: json.gzip file you want to scan\n",
    "    \n",
    "    Features: features to extract\n",
    "    \n",
    "    book_list: set of book_ids\n",
    "    '''\n",
    "    \n",
    "    feature_dict = defaultdict(list)    \n",
    "    books = get_book(file)\n",
    "    \n",
    "    for book in tqdm(books):\n",
    "        book_dict = json.loads(book)\n",
    "        book_id = book_dict.get('book_id')\n",
    "        \n",
    "        try:\n",
    "            if book_id in book_list:\n",
    "                for f in features:\n",
    "                    feature_dict[f].append(book_dict.get(f))\n",
    "        except: \n",
    "            pass\n",
    "        \n",
    "    return feature_dict"
   ]
  },
  {
   "cell_type": "code",
   "execution_count": 19,
   "metadata": {},
   "outputs": [],
   "source": [
    "def fetch_one_feature(file, f):\n",
    "    '''\n",
    "    Provide a list of features you want to extract in a single run.\n",
    "    Returns a list.\n",
    "    '''\n",
    "    \n",
    "    feature = []\n",
    "    books = get_book(file)\n",
    "    \n",
    "    for book in tqdm(books):\n",
    "        book_dict = json.loads(book)\n",
    "        feature.append(book_dict.get(f))\n",
    "    \n",
    "    return feature"
   ]
  },
  {
   "cell_type": "code",
   "execution_count": 20,
   "metadata": {},
   "outputs": [
    {
     "name": "stderr",
     "output_type": "stream",
     "text": [
      "1378033it [00:40, 33908.06it/s]\n"
     ]
    },
    {
     "name": "stdout",
     "output_type": "stream",
     "text": [
      "Number of reviews: 1378033\n",
      "The dataset contains reviews for 25475 books.\n"
     ]
    }
   ],
   "source": [
    "book_ids =fetch_one_feature(file_reviews, 'book_id')\n",
    "book_ids_unique = book_ids\n",
    "print(f'Number of reviews: {len(book_ids)}')\n",
    "book_ids=set(book_ids)\n",
    "print(f'The dataset contains reviews for {len(book_ids)} books.')"
   ]
  },
  {
   "cell_type": "code",
   "execution_count": 21,
   "metadata": {},
   "outputs": [
    {
     "data": {
      "text/plain": [
       "'Good to go!'"
      ]
     },
     "execution_count": 21,
     "metadata": {},
     "output_type": "execute_result"
    }
   ],
   "source": [
    "# get book ids from review file\n",
    "# features: list containing features we want to extract from the book-meta data file\n",
    "features = ['book_id', 'title', 'description', 'publication_year', 'publication_month', \n",
    "            'publication_day', 'average_rating', 'ratings_count', 'num_pages']\n",
    "check_features(features, df_meta)"
   ]
  },
  {
   "cell_type": "code",
   "execution_count": 22,
   "metadata": {},
   "outputs": [
    {
     "name": "stderr",
     "output_type": "stream",
     "text": [
      "2360655it [03:29, 11247.11it/s]\n"
     ]
    }
   ],
   "source": [
    "book_meta_features = pd.DataFrame.from_dict(fetch_features(file_meta, features, book_ids))"
   ]
  },
  {
   "cell_type": "code",
   "execution_count": 23,
   "metadata": {},
   "outputs": [
    {
     "data": {
      "text/html": [
       "<div>\n",
       "<style scoped>\n",
       "    .dataframe tbody tr th:only-of-type {\n",
       "        vertical-align: middle;\n",
       "    }\n",
       "\n",
       "    .dataframe tbody tr th {\n",
       "        vertical-align: top;\n",
       "    }\n",
       "\n",
       "    .dataframe thead th {\n",
       "        text-align: right;\n",
       "    }\n",
       "</style>\n",
       "<table border=\"1\" class=\"dataframe\">\n",
       "  <thead>\n",
       "    <tr style=\"text-align: right;\">\n",
       "      <th></th>\n",
       "      <th>book_id</th>\n",
       "      <th>title</th>\n",
       "      <th>description</th>\n",
       "      <th>publication_year</th>\n",
       "      <th>publication_month</th>\n",
       "      <th>publication_day</th>\n",
       "      <th>average_rating</th>\n",
       "      <th>ratings_count</th>\n",
       "      <th>num_pages</th>\n",
       "    </tr>\n",
       "  </thead>\n",
       "  <tbody>\n",
       "    <tr>\n",
       "      <th>0</th>\n",
       "      <td>22642971</td>\n",
       "      <td>The Body Electric</td>\n",
       "      <td>The future world is at peace.\\nElla Shepherd h...</td>\n",
       "      <td>2014</td>\n",
       "      <td>10</td>\n",
       "      <td>6</td>\n",
       "      <td>3.71</td>\n",
       "      <td>1525</td>\n",
       "      <td>351</td>\n",
       "    </tr>\n",
       "    <tr>\n",
       "      <th>1</th>\n",
       "      <td>32336119</td>\n",
       "      <td>Worth the Wait (Guthrie Brothers #2)</td>\n",
       "      <td>Ready or not...love will find a way \\nSingle d...</td>\n",
       "      <td>2017</td>\n",
       "      <td>7</td>\n",
       "      <td>25</td>\n",
       "      <td>4.19</td>\n",
       "      <td>693</td>\n",
       "      <td>384</td>\n",
       "    </tr>\n",
       "    <tr>\n",
       "      <th>2</th>\n",
       "      <td>2741853</td>\n",
       "      <td>Slow Hands</td>\n",
       "      <td>This is Maddy Turner's lucky day. The civilize...</td>\n",
       "      <td>2008</td>\n",
       "      <td>6</td>\n",
       "      <td>1</td>\n",
       "      <td>3.41</td>\n",
       "      <td>3852</td>\n",
       "      <td>210</td>\n",
       "    </tr>\n",
       "    <tr>\n",
       "      <th>3</th>\n",
       "      <td>12077902</td>\n",
       "      <td>Solaris: The Definitive Edition</td>\n",
       "      <td>A classic work of science fiction by renowned ...</td>\n",
       "      <td>2011</td>\n",
       "      <td>6</td>\n",
       "      <td>7</td>\n",
       "      <td>3.98</td>\n",
       "      <td>252</td>\n",
       "      <td>8</td>\n",
       "    </tr>\n",
       "    <tr>\n",
       "      <th>4</th>\n",
       "      <td>7843586</td>\n",
       "      <td>More (More, #1)</td>\n",
       "      <td>After a series of explosive encounters with tw...</td>\n",
       "      <td>2010</td>\n",
       "      <td>3</td>\n",
       "      <td>23</td>\n",
       "      <td>3.88</td>\n",
       "      <td>1675</td>\n",
       "      <td>245</td>\n",
       "    </tr>\n",
       "    <tr>\n",
       "      <th>5</th>\n",
       "      <td>18663972</td>\n",
       "      <td>Fortune's Pawn (Paradox, #1)</td>\n",
       "      <td>When professional mercenary Deviana Morris too...</td>\n",
       "      <td></td>\n",
       "      <td></td>\n",
       "      <td></td>\n",
       "      <td>3.96</td>\n",
       "      <td>1023</td>\n",
       "      <td>340</td>\n",
       "    </tr>\n",
       "    <tr>\n",
       "      <th>6</th>\n",
       "      <td>25501128</td>\n",
       "      <td>Kept from You (Tear Asunder, #4)</td>\n",
       "      <td>A sexy second-chance romance from New York Tim...</td>\n",
       "      <td>2017</td>\n",
       "      <td>3</td>\n",
       "      <td>5</td>\n",
       "      <td>4.36</td>\n",
       "      <td>1759</td>\n",
       "      <td></td>\n",
       "    </tr>\n",
       "    <tr>\n",
       "      <th>7</th>\n",
       "      <td>10806009</td>\n",
       "      <td>The Storyteller</td>\n",
       "      <td>A good girl.\\nA bad boy.\\nA fairy tale that's ...</td>\n",
       "      <td>2012</td>\n",
       "      <td>1</td>\n",
       "      <td>1</td>\n",
       "      <td>4.10</td>\n",
       "      <td>289</td>\n",
       "      <td>402</td>\n",
       "    </tr>\n",
       "    <tr>\n",
       "      <th>8</th>\n",
       "      <td>10806008</td>\n",
       "      <td>Peter Nimble and His Fantastic Eyes (Peter Nim...</td>\n",
       "      <td>Peter Nimble and His Fantastic Eyesis the utte...</td>\n",
       "      <td>2011</td>\n",
       "      <td>8</td>\n",
       "      <td>1</td>\n",
       "      <td>4.04</td>\n",
       "      <td>6049</td>\n",
       "      <td>400</td>\n",
       "    </tr>\n",
       "    <tr>\n",
       "      <th>9</th>\n",
       "      <td>9469517</td>\n",
       "      <td>Mercy</td>\n",
       "      <td></td>\n",
       "      <td>2009</td>\n",
       "      <td>2</td>\n",
       "      <td>1</td>\n",
       "      <td>3.64</td>\n",
       "      <td>3559</td>\n",
       "      <td>226</td>\n",
       "    </tr>\n",
       "  </tbody>\n",
       "</table>\n",
       "</div>"
      ],
      "text/plain": [
       "    book_id                                              title  \\\n",
       "0  22642971                                  The Body Electric   \n",
       "1  32336119               Worth the Wait (Guthrie Brothers #2)   \n",
       "2   2741853                                         Slow Hands   \n",
       "3  12077902                    Solaris: The Definitive Edition   \n",
       "4   7843586                                    More (More, #1)   \n",
       "5  18663972                       Fortune's Pawn (Paradox, #1)   \n",
       "6  25501128                   Kept from You (Tear Asunder, #4)   \n",
       "7  10806009                                    The Storyteller   \n",
       "8  10806008  Peter Nimble and His Fantastic Eyes (Peter Nim...   \n",
       "9   9469517                                              Mercy   \n",
       "\n",
       "                                         description publication_year  \\\n",
       "0  The future world is at peace.\\nElla Shepherd h...             2014   \n",
       "1  Ready or not...love will find a way \\nSingle d...             2017   \n",
       "2  This is Maddy Turner's lucky day. The civilize...             2008   \n",
       "3  A classic work of science fiction by renowned ...             2011   \n",
       "4  After a series of explosive encounters with tw...             2010   \n",
       "5  When professional mercenary Deviana Morris too...                    \n",
       "6  A sexy second-chance romance from New York Tim...             2017   \n",
       "7  A good girl.\\nA bad boy.\\nA fairy tale that's ...             2012   \n",
       "8  Peter Nimble and His Fantastic Eyesis the utte...             2011   \n",
       "9                                                                2009   \n",
       "\n",
       "  publication_month publication_day average_rating ratings_count num_pages  \n",
       "0                10               6           3.71          1525       351  \n",
       "1                 7              25           4.19           693       384  \n",
       "2                 6               1           3.41          3852       210  \n",
       "3                 6               7           3.98           252         8  \n",
       "4                 3              23           3.88          1675       245  \n",
       "5                                             3.96          1023       340  \n",
       "6                 3               5           4.36          1759            \n",
       "7                 1               1           4.10           289       402  \n",
       "8                 8               1           4.04          6049       400  \n",
       "9                 2               1           3.64          3559       226  "
      ]
     },
     "execution_count": 23,
     "metadata": {},
     "output_type": "execute_result"
    }
   ],
   "source": [
    "book_meta_features.head(10)"
   ]
  },
  {
   "cell_type": "code",
   "execution_count": 24,
   "metadata": {},
   "outputs": [
    {
     "data": {
      "text/plain": [
       "(25475, 9)"
      ]
     },
     "execution_count": 24,
     "metadata": {},
     "output_type": "execute_result"
    }
   ],
   "source": [
    "book_meta_features.shape"
   ]
  },
  {
   "cell_type": "code",
   "execution_count": 25,
   "metadata": {},
   "outputs": [
    {
     "data": {
      "text/plain": [
       "book_id              0\n",
       "title                0\n",
       "description          0\n",
       "publication_year     0\n",
       "publication_month    0\n",
       "publication_day      0\n",
       "average_rating       0\n",
       "ratings_count        0\n",
       "num_pages            0\n",
       "dtype: int64"
      ]
     },
     "execution_count": 25,
     "metadata": {},
     "output_type": "execute_result"
    }
   ],
   "source": [
    "book_meta_features.isna().sum()"
   ]
  },
  {
   "cell_type": "markdown",
   "metadata": {},
   "source": [
    "Going back to data source, we figured out that missing values are empty strings (''). We will use the replace function to replace missing values with np.nan."
   ]
  },
  {
   "cell_type": "code",
   "execution_count": 26,
   "metadata": {},
   "outputs": [
    {
     "data": {
      "text/html": [
       "<div>\n",
       "<style scoped>\n",
       "    .dataframe tbody tr th:only-of-type {\n",
       "        vertical-align: middle;\n",
       "    }\n",
       "\n",
       "    .dataframe tbody tr th {\n",
       "        vertical-align: top;\n",
       "    }\n",
       "\n",
       "    .dataframe thead th {\n",
       "        text-align: right;\n",
       "    }\n",
       "</style>\n",
       "<table border=\"1\" class=\"dataframe\">\n",
       "  <thead>\n",
       "    <tr style=\"text-align: right;\">\n",
       "      <th></th>\n",
       "      <th>book_id</th>\n",
       "      <th>title</th>\n",
       "      <th>description</th>\n",
       "      <th>publication_year</th>\n",
       "      <th>publication_month</th>\n",
       "      <th>publication_day</th>\n",
       "      <th>average_rating</th>\n",
       "      <th>ratings_count</th>\n",
       "      <th>num_pages</th>\n",
       "    </tr>\n",
       "  </thead>\n",
       "  <tbody>\n",
       "    <tr>\n",
       "      <th>0</th>\n",
       "      <td>22642971</td>\n",
       "      <td>The Body Electric</td>\n",
       "      <td>The future world is at peace.\\nElla Shepherd h...</td>\n",
       "      <td>2014</td>\n",
       "      <td>10</td>\n",
       "      <td>6</td>\n",
       "      <td>3.71</td>\n",
       "      <td>1525</td>\n",
       "      <td>351</td>\n",
       "    </tr>\n",
       "    <tr>\n",
       "      <th>1</th>\n",
       "      <td>32336119</td>\n",
       "      <td>Worth the Wait (Guthrie Brothers #2)</td>\n",
       "      <td>Ready or not...love will find a way \\nSingle d...</td>\n",
       "      <td>2017</td>\n",
       "      <td>7</td>\n",
       "      <td>25</td>\n",
       "      <td>4.19</td>\n",
       "      <td>693</td>\n",
       "      <td>384</td>\n",
       "    </tr>\n",
       "    <tr>\n",
       "      <th>2</th>\n",
       "      <td>2741853</td>\n",
       "      <td>Slow Hands</td>\n",
       "      <td>This is Maddy Turner's lucky day. The civilize...</td>\n",
       "      <td>2008</td>\n",
       "      <td>6</td>\n",
       "      <td>1</td>\n",
       "      <td>3.41</td>\n",
       "      <td>3852</td>\n",
       "      <td>210</td>\n",
       "    </tr>\n",
       "    <tr>\n",
       "      <th>3</th>\n",
       "      <td>12077902</td>\n",
       "      <td>Solaris: The Definitive Edition</td>\n",
       "      <td>A classic work of science fiction by renowned ...</td>\n",
       "      <td>2011</td>\n",
       "      <td>6</td>\n",
       "      <td>7</td>\n",
       "      <td>3.98</td>\n",
       "      <td>252</td>\n",
       "      <td>8</td>\n",
       "    </tr>\n",
       "    <tr>\n",
       "      <th>4</th>\n",
       "      <td>7843586</td>\n",
       "      <td>More (More, #1)</td>\n",
       "      <td>After a series of explosive encounters with tw...</td>\n",
       "      <td>2010</td>\n",
       "      <td>3</td>\n",
       "      <td>23</td>\n",
       "      <td>3.88</td>\n",
       "      <td>1675</td>\n",
       "      <td>245</td>\n",
       "    </tr>\n",
       "    <tr>\n",
       "      <th>5</th>\n",
       "      <td>18663972</td>\n",
       "      <td>Fortune's Pawn (Paradox, #1)</td>\n",
       "      <td>When professional mercenary Deviana Morris too...</td>\n",
       "      <td>NaN</td>\n",
       "      <td>NaN</td>\n",
       "      <td>NaN</td>\n",
       "      <td>3.96</td>\n",
       "      <td>1023</td>\n",
       "      <td>340</td>\n",
       "    </tr>\n",
       "    <tr>\n",
       "      <th>6</th>\n",
       "      <td>25501128</td>\n",
       "      <td>Kept from You (Tear Asunder, #4)</td>\n",
       "      <td>A sexy second-chance romance from New York Tim...</td>\n",
       "      <td>2017</td>\n",
       "      <td>3</td>\n",
       "      <td>5</td>\n",
       "      <td>4.36</td>\n",
       "      <td>1759</td>\n",
       "      <td>NaN</td>\n",
       "    </tr>\n",
       "    <tr>\n",
       "      <th>7</th>\n",
       "      <td>10806009</td>\n",
       "      <td>The Storyteller</td>\n",
       "      <td>A good girl.\\nA bad boy.\\nA fairy tale that's ...</td>\n",
       "      <td>2012</td>\n",
       "      <td>1</td>\n",
       "      <td>1</td>\n",
       "      <td>4.10</td>\n",
       "      <td>289</td>\n",
       "      <td>402</td>\n",
       "    </tr>\n",
       "    <tr>\n",
       "      <th>8</th>\n",
       "      <td>10806008</td>\n",
       "      <td>Peter Nimble and His Fantastic Eyes (Peter Nim...</td>\n",
       "      <td>Peter Nimble and His Fantastic Eyesis the utte...</td>\n",
       "      <td>2011</td>\n",
       "      <td>8</td>\n",
       "      <td>1</td>\n",
       "      <td>4.04</td>\n",
       "      <td>6049</td>\n",
       "      <td>400</td>\n",
       "    </tr>\n",
       "    <tr>\n",
       "      <th>9</th>\n",
       "      <td>9469517</td>\n",
       "      <td>Mercy</td>\n",
       "      <td>NaN</td>\n",
       "      <td>2009</td>\n",
       "      <td>2</td>\n",
       "      <td>1</td>\n",
       "      <td>3.64</td>\n",
       "      <td>3559</td>\n",
       "      <td>226</td>\n",
       "    </tr>\n",
       "  </tbody>\n",
       "</table>\n",
       "</div>"
      ],
      "text/plain": [
       "    book_id                                              title  \\\n",
       "0  22642971                                  The Body Electric   \n",
       "1  32336119               Worth the Wait (Guthrie Brothers #2)   \n",
       "2   2741853                                         Slow Hands   \n",
       "3  12077902                    Solaris: The Definitive Edition   \n",
       "4   7843586                                    More (More, #1)   \n",
       "5  18663972                       Fortune's Pawn (Paradox, #1)   \n",
       "6  25501128                   Kept from You (Tear Asunder, #4)   \n",
       "7  10806009                                    The Storyteller   \n",
       "8  10806008  Peter Nimble and His Fantastic Eyes (Peter Nim...   \n",
       "9   9469517                                              Mercy   \n",
       "\n",
       "                                         description publication_year  \\\n",
       "0  The future world is at peace.\\nElla Shepherd h...             2014   \n",
       "1  Ready or not...love will find a way \\nSingle d...             2017   \n",
       "2  This is Maddy Turner's lucky day. The civilize...             2008   \n",
       "3  A classic work of science fiction by renowned ...             2011   \n",
       "4  After a series of explosive encounters with tw...             2010   \n",
       "5  When professional mercenary Deviana Morris too...              NaN   \n",
       "6  A sexy second-chance romance from New York Tim...             2017   \n",
       "7  A good girl.\\nA bad boy.\\nA fairy tale that's ...             2012   \n",
       "8  Peter Nimble and His Fantastic Eyesis the utte...             2011   \n",
       "9                                                NaN             2009   \n",
       "\n",
       "  publication_month publication_day average_rating ratings_count num_pages  \n",
       "0                10               6           3.71          1525       351  \n",
       "1                 7              25           4.19           693       384  \n",
       "2                 6               1           3.41          3852       210  \n",
       "3                 6               7           3.98           252         8  \n",
       "4                 3              23           3.88          1675       245  \n",
       "5               NaN             NaN           3.96          1023       340  \n",
       "6                 3               5           4.36          1759       NaN  \n",
       "7                 1               1           4.10           289       402  \n",
       "8                 8               1           4.04          6049       400  \n",
       "9                 2               1           3.64          3559       226  "
      ]
     },
     "execution_count": 26,
     "metadata": {},
     "output_type": "execute_result"
    }
   ],
   "source": [
    "# replace '' (missing values) with na\n",
    "book_meta_features2 = book_meta_features.copy()\n",
    "book_meta_features2 = book_meta_features2.replace('', np.nan)\n",
    "book_meta_features2.head(10)"
   ]
  },
  {
   "cell_type": "code",
   "execution_count": 27,
   "metadata": {},
   "outputs": [
    {
     "data": {
      "text/html": [
       "<div>\n",
       "<style scoped>\n",
       "    .dataframe tbody tr th:only-of-type {\n",
       "        vertical-align: middle;\n",
       "    }\n",
       "\n",
       "    .dataframe tbody tr th {\n",
       "        vertical-align: top;\n",
       "    }\n",
       "\n",
       "    .dataframe thead th {\n",
       "        text-align: right;\n",
       "    }\n",
       "</style>\n",
       "<table border=\"1\" class=\"dataframe\">\n",
       "  <thead>\n",
       "    <tr style=\"text-align: right;\">\n",
       "      <th></th>\n",
       "      <th>missing_count</th>\n",
       "      <th>missing_rel</th>\n",
       "    </tr>\n",
       "  </thead>\n",
       "  <tbody>\n",
       "    <tr>\n",
       "      <th>book_id</th>\n",
       "      <td>0</td>\n",
       "      <td>0.0</td>\n",
       "    </tr>\n",
       "    <tr>\n",
       "      <th>title</th>\n",
       "      <td>0</td>\n",
       "      <td>0.0</td>\n",
       "    </tr>\n",
       "    <tr>\n",
       "      <th>description</th>\n",
       "      <td>305</td>\n",
       "      <td>1.0</td>\n",
       "    </tr>\n",
       "    <tr>\n",
       "      <th>publication_year</th>\n",
       "      <td>3084</td>\n",
       "      <td>12.0</td>\n",
       "    </tr>\n",
       "    <tr>\n",
       "      <th>publication_month</th>\n",
       "      <td>3605</td>\n",
       "      <td>14.0</td>\n",
       "    </tr>\n",
       "    <tr>\n",
       "      <th>publication_day</th>\n",
       "      <td>4183</td>\n",
       "      <td>16.0</td>\n",
       "    </tr>\n",
       "    <tr>\n",
       "      <th>average_rating</th>\n",
       "      <td>1</td>\n",
       "      <td>0.0</td>\n",
       "    </tr>\n",
       "    <tr>\n",
       "      <th>ratings_count</th>\n",
       "      <td>1</td>\n",
       "      <td>0.0</td>\n",
       "    </tr>\n",
       "    <tr>\n",
       "      <th>num_pages</th>\n",
       "      <td>2002</td>\n",
       "      <td>8.0</td>\n",
       "    </tr>\n",
       "  </tbody>\n",
       "</table>\n",
       "</div>"
      ],
      "text/plain": [
       "                   missing_count  missing_rel\n",
       "book_id                        0          0.0\n",
       "title                          0          0.0\n",
       "description                  305          1.0\n",
       "publication_year            3084         12.0\n",
       "publication_month           3605         14.0\n",
       "publication_day             4183         16.0\n",
       "average_rating                 1          0.0\n",
       "ratings_count                  1          0.0\n",
       "num_pages                   2002          8.0"
      ]
     },
     "execution_count": 27,
     "metadata": {},
     "output_type": "execute_result"
    }
   ],
   "source": [
    "#missing values\n",
    "df_b_m = pd.DataFrame({\n",
    "    'missing_count':book_meta_features2.isnull().sum()\n",
    "})\n",
    "df_b_m['missing_rel'] = round(df_b_m.missing_count/len(book_meta_features2),2)*100\n",
    "df_b_m"
   ]
  },
  {
   "cell_type": "code",
   "execution_count": 28,
   "metadata": {},
   "outputs": [
    {
     "data": {
      "text/plain": [
       "book_id              object\n",
       "title                object\n",
       "description          object\n",
       "publication_year     object\n",
       "publication_month    object\n",
       "publication_day      object\n",
       "average_rating       object\n",
       "ratings_count        object\n",
       "num_pages            object\n",
       "dtype: object"
      ]
     },
     "execution_count": 28,
     "metadata": {},
     "output_type": "execute_result"
    }
   ],
   "source": [
    "# what is the data type of the different features\n",
    "# in the original data it looks like all features are saved as strings\n",
    "book_meta_features.dtypes"
   ]
  },
  {
   "cell_type": "code",
   "execution_count": 29,
   "metadata": {},
   "outputs": [],
   "source": [
    "# replace average_rating, rating_count and num_pages as int\n",
    "to_transform = ['publication_year','publication_month', 'publication_day','average_rating','ratings_count', 'num_pages' ]\n",
    "for f in to_transform:\n",
    "    book_meta_features2[f]=pd.to_numeric(book_meta_features2[f], errors='coerce')"
   ]
  },
  {
   "cell_type": "code",
   "execution_count": 30,
   "metadata": {},
   "outputs": [
    {
     "data": {
      "text/plain": [
       "book_id               object\n",
       "title                 object\n",
       "description           object\n",
       "publication_year     float64\n",
       "publication_month    float64\n",
       "publication_day      float64\n",
       "average_rating       float64\n",
       "ratings_count        float64\n",
       "num_pages            float64\n",
       "dtype: object"
      ]
     },
     "execution_count": 30,
     "metadata": {},
     "output_type": "execute_result"
    }
   ],
   "source": [
    "book_meta_features2.dtypes"
   ]
  },
  {
   "cell_type": "code",
   "execution_count": 31,
   "metadata": {},
   "outputs": [
    {
     "data": {
      "text/html": [
       "<div>\n",
       "<style scoped>\n",
       "    .dataframe tbody tr th:only-of-type {\n",
       "        vertical-align: middle;\n",
       "    }\n",
       "\n",
       "    .dataframe tbody tr th {\n",
       "        vertical-align: top;\n",
       "    }\n",
       "\n",
       "    .dataframe thead th {\n",
       "        text-align: right;\n",
       "    }\n",
       "</style>\n",
       "<table border=\"1\" class=\"dataframe\">\n",
       "  <thead>\n",
       "    <tr style=\"text-align: right;\">\n",
       "      <th></th>\n",
       "      <th>book_id</th>\n",
       "      <th>title</th>\n",
       "      <th>description</th>\n",
       "      <th>publication_year</th>\n",
       "      <th>publication_month</th>\n",
       "      <th>publication_day</th>\n",
       "      <th>average_rating</th>\n",
       "      <th>ratings_count</th>\n",
       "      <th>num_pages</th>\n",
       "    </tr>\n",
       "  </thead>\n",
       "  <tbody>\n",
       "    <tr>\n",
       "      <th>0</th>\n",
       "      <td>22642971</td>\n",
       "      <td>The Body Electric</td>\n",
       "      <td>The future world is at peace.\\nElla Shepherd h...</td>\n",
       "      <td>2014.0</td>\n",
       "      <td>10.0</td>\n",
       "      <td>6.0</td>\n",
       "      <td>3.71</td>\n",
       "      <td>1525.0</td>\n",
       "      <td>351.0</td>\n",
       "    </tr>\n",
       "    <tr>\n",
       "      <th>1</th>\n",
       "      <td>32336119</td>\n",
       "      <td>Worth the Wait (Guthrie Brothers #2)</td>\n",
       "      <td>Ready or not...love will find a way \\nSingle d...</td>\n",
       "      <td>2017.0</td>\n",
       "      <td>7.0</td>\n",
       "      <td>25.0</td>\n",
       "      <td>4.19</td>\n",
       "      <td>693.0</td>\n",
       "      <td>384.0</td>\n",
       "    </tr>\n",
       "    <tr>\n",
       "      <th>2</th>\n",
       "      <td>2741853</td>\n",
       "      <td>Slow Hands</td>\n",
       "      <td>This is Maddy Turner's lucky day. The civilize...</td>\n",
       "      <td>2008.0</td>\n",
       "      <td>6.0</td>\n",
       "      <td>1.0</td>\n",
       "      <td>3.41</td>\n",
       "      <td>3852.0</td>\n",
       "      <td>210.0</td>\n",
       "    </tr>\n",
       "    <tr>\n",
       "      <th>3</th>\n",
       "      <td>12077902</td>\n",
       "      <td>Solaris: The Definitive Edition</td>\n",
       "      <td>A classic work of science fiction by renowned ...</td>\n",
       "      <td>2011.0</td>\n",
       "      <td>6.0</td>\n",
       "      <td>7.0</td>\n",
       "      <td>3.98</td>\n",
       "      <td>252.0</td>\n",
       "      <td>8.0</td>\n",
       "    </tr>\n",
       "    <tr>\n",
       "      <th>4</th>\n",
       "      <td>7843586</td>\n",
       "      <td>More (More, #1)</td>\n",
       "      <td>After a series of explosive encounters with tw...</td>\n",
       "      <td>2010.0</td>\n",
       "      <td>3.0</td>\n",
       "      <td>23.0</td>\n",
       "      <td>3.88</td>\n",
       "      <td>1675.0</td>\n",
       "      <td>245.0</td>\n",
       "    </tr>\n",
       "    <tr>\n",
       "      <th>5</th>\n",
       "      <td>18663972</td>\n",
       "      <td>Fortune's Pawn (Paradox, #1)</td>\n",
       "      <td>When professional mercenary Deviana Morris too...</td>\n",
       "      <td>NaN</td>\n",
       "      <td>NaN</td>\n",
       "      <td>NaN</td>\n",
       "      <td>3.96</td>\n",
       "      <td>1023.0</td>\n",
       "      <td>340.0</td>\n",
       "    </tr>\n",
       "    <tr>\n",
       "      <th>6</th>\n",
       "      <td>25501128</td>\n",
       "      <td>Kept from You (Tear Asunder, #4)</td>\n",
       "      <td>A sexy second-chance romance from New York Tim...</td>\n",
       "      <td>2017.0</td>\n",
       "      <td>3.0</td>\n",
       "      <td>5.0</td>\n",
       "      <td>4.36</td>\n",
       "      <td>1759.0</td>\n",
       "      <td>NaN</td>\n",
       "    </tr>\n",
       "    <tr>\n",
       "      <th>7</th>\n",
       "      <td>10806009</td>\n",
       "      <td>The Storyteller</td>\n",
       "      <td>A good girl.\\nA bad boy.\\nA fairy tale that's ...</td>\n",
       "      <td>2012.0</td>\n",
       "      <td>1.0</td>\n",
       "      <td>1.0</td>\n",
       "      <td>4.10</td>\n",
       "      <td>289.0</td>\n",
       "      <td>402.0</td>\n",
       "    </tr>\n",
       "    <tr>\n",
       "      <th>8</th>\n",
       "      <td>10806008</td>\n",
       "      <td>Peter Nimble and His Fantastic Eyes (Peter Nim...</td>\n",
       "      <td>Peter Nimble and His Fantastic Eyesis the utte...</td>\n",
       "      <td>2011.0</td>\n",
       "      <td>8.0</td>\n",
       "      <td>1.0</td>\n",
       "      <td>4.04</td>\n",
       "      <td>6049.0</td>\n",
       "      <td>400.0</td>\n",
       "    </tr>\n",
       "    <tr>\n",
       "      <th>9</th>\n",
       "      <td>9469517</td>\n",
       "      <td>Mercy</td>\n",
       "      <td>NaN</td>\n",
       "      <td>2009.0</td>\n",
       "      <td>2.0</td>\n",
       "      <td>1.0</td>\n",
       "      <td>3.64</td>\n",
       "      <td>3559.0</td>\n",
       "      <td>226.0</td>\n",
       "    </tr>\n",
       "  </tbody>\n",
       "</table>\n",
       "</div>"
      ],
      "text/plain": [
       "    book_id                                              title  \\\n",
       "0  22642971                                  The Body Electric   \n",
       "1  32336119               Worth the Wait (Guthrie Brothers #2)   \n",
       "2   2741853                                         Slow Hands   \n",
       "3  12077902                    Solaris: The Definitive Edition   \n",
       "4   7843586                                    More (More, #1)   \n",
       "5  18663972                       Fortune's Pawn (Paradox, #1)   \n",
       "6  25501128                   Kept from You (Tear Asunder, #4)   \n",
       "7  10806009                                    The Storyteller   \n",
       "8  10806008  Peter Nimble and His Fantastic Eyes (Peter Nim...   \n",
       "9   9469517                                              Mercy   \n",
       "\n",
       "                                         description  publication_year  \\\n",
       "0  The future world is at peace.\\nElla Shepherd h...            2014.0   \n",
       "1  Ready or not...love will find a way \\nSingle d...            2017.0   \n",
       "2  This is Maddy Turner's lucky day. The civilize...            2008.0   \n",
       "3  A classic work of science fiction by renowned ...            2011.0   \n",
       "4  After a series of explosive encounters with tw...            2010.0   \n",
       "5  When professional mercenary Deviana Morris too...               NaN   \n",
       "6  A sexy second-chance romance from New York Tim...            2017.0   \n",
       "7  A good girl.\\nA bad boy.\\nA fairy tale that's ...            2012.0   \n",
       "8  Peter Nimble and His Fantastic Eyesis the utte...            2011.0   \n",
       "9                                                NaN            2009.0   \n",
       "\n",
       "   publication_month  publication_day  average_rating  ratings_count  \\\n",
       "0               10.0              6.0            3.71         1525.0   \n",
       "1                7.0             25.0            4.19          693.0   \n",
       "2                6.0              1.0            3.41         3852.0   \n",
       "3                6.0              7.0            3.98          252.0   \n",
       "4                3.0             23.0            3.88         1675.0   \n",
       "5                NaN              NaN            3.96         1023.0   \n",
       "6                3.0              5.0            4.36         1759.0   \n",
       "7                1.0              1.0            4.10          289.0   \n",
       "8                8.0              1.0            4.04         6049.0   \n",
       "9                2.0              1.0            3.64         3559.0   \n",
       "\n",
       "   num_pages  \n",
       "0      351.0  \n",
       "1      384.0  \n",
       "2      210.0  \n",
       "3        8.0  \n",
       "4      245.0  \n",
       "5      340.0  \n",
       "6        NaN  \n",
       "7      402.0  \n",
       "8      400.0  \n",
       "9      226.0  "
      ]
     },
     "execution_count": 31,
     "metadata": {},
     "output_type": "execute_result"
    }
   ],
   "source": [
    "book_meta_features2.head(10)"
   ]
  },
  {
   "cell_type": "code",
   "execution_count": 32,
   "metadata": {},
   "outputs": [],
   "source": [
    "book_meta_features2['weighted_average_rating']=book_meta_features2.average_rating*book_meta_features2.ratings_count"
   ]
  },
  {
   "cell_type": "code",
   "execution_count": 33,
   "metadata": {},
   "outputs": [
    {
     "data": {
      "text/html": [
       "<div>\n",
       "<style scoped>\n",
       "    .dataframe tbody tr th:only-of-type {\n",
       "        vertical-align: middle;\n",
       "    }\n",
       "\n",
       "    .dataframe tbody tr th {\n",
       "        vertical-align: top;\n",
       "    }\n",
       "\n",
       "    .dataframe thead th {\n",
       "        text-align: right;\n",
       "    }\n",
       "</style>\n",
       "<table border=\"1\" class=\"dataframe\">\n",
       "  <thead>\n",
       "    <tr style=\"text-align: right;\">\n",
       "      <th></th>\n",
       "      <th>book_id</th>\n",
       "      <th>title</th>\n",
       "      <th>description</th>\n",
       "      <th>publication_year</th>\n",
       "      <th>publication_month</th>\n",
       "      <th>publication_day</th>\n",
       "      <th>average_rating</th>\n",
       "      <th>ratings_count</th>\n",
       "      <th>num_pages</th>\n",
       "      <th>weighted_average_rating</th>\n",
       "    </tr>\n",
       "  </thead>\n",
       "  <tbody>\n",
       "    <tr>\n",
       "      <th>0</th>\n",
       "      <td>22642971</td>\n",
       "      <td>The Body Electric</td>\n",
       "      <td>The future world is at peace.\\nElla Shepherd h...</td>\n",
       "      <td>2014.0</td>\n",
       "      <td>10.0</td>\n",
       "      <td>6.0</td>\n",
       "      <td>3.71</td>\n",
       "      <td>1525.0</td>\n",
       "      <td>351.0</td>\n",
       "      <td>5657.75</td>\n",
       "    </tr>\n",
       "    <tr>\n",
       "      <th>1</th>\n",
       "      <td>32336119</td>\n",
       "      <td>Worth the Wait (Guthrie Brothers #2)</td>\n",
       "      <td>Ready or not...love will find a way \\nSingle d...</td>\n",
       "      <td>2017.0</td>\n",
       "      <td>7.0</td>\n",
       "      <td>25.0</td>\n",
       "      <td>4.19</td>\n",
       "      <td>693.0</td>\n",
       "      <td>384.0</td>\n",
       "      <td>2903.67</td>\n",
       "    </tr>\n",
       "  </tbody>\n",
       "</table>\n",
       "</div>"
      ],
      "text/plain": [
       "    book_id                                 title  \\\n",
       "0  22642971                     The Body Electric   \n",
       "1  32336119  Worth the Wait (Guthrie Brothers #2)   \n",
       "\n",
       "                                         description  publication_year  \\\n",
       "0  The future world is at peace.\\nElla Shepherd h...            2014.0   \n",
       "1  Ready or not...love will find a way \\nSingle d...            2017.0   \n",
       "\n",
       "   publication_month  publication_day  average_rating  ratings_count  \\\n",
       "0               10.0              6.0            3.71         1525.0   \n",
       "1                7.0             25.0            4.19          693.0   \n",
       "\n",
       "   num_pages  weighted_average_rating  \n",
       "0      351.0                  5657.75  \n",
       "1      384.0                  2903.67  "
      ]
     },
     "execution_count": 33,
     "metadata": {},
     "output_type": "execute_result"
    }
   ],
   "source": [
    "book_meta_features2.head(2)"
   ]
  },
  {
   "cell_type": "code",
   "execution_count": 34,
   "metadata": {},
   "outputs": [
    {
     "name": "stderr",
     "output_type": "stream",
     "text": [
      "171922it [00:01, 103944.54it/s]\n"
     ]
    },
    {
     "ename": "KeyboardInterrupt",
     "evalue": "",
     "output_type": "error",
     "traceback": [
      "\u001b[0;31m---------------------------------------------------------------------------\u001b[0m",
      "\u001b[0;31mKeyboardInterrupt\u001b[0m                         Traceback (most recent call last)",
      "\u001b[0;32m<ipython-input-34-813c49ff8ba7>\u001b[0m in \u001b[0;36m<module>\u001b[0;34m\u001b[0m\n\u001b[1;32m      1\u001b[0m \u001b[0;31m#load whole genre dataset\u001b[0m\u001b[0;34m\u001b[0m\u001b[0;34m\u001b[0m\u001b[0;34m\u001b[0m\u001b[0m\n\u001b[0;32m----> 2\u001b[0;31m \u001b[0mgenre\u001b[0m \u001b[0;34m=\u001b[0m \u001b[0mimport_json_gz2\u001b[0m\u001b[0;34m(\u001b[0m\u001b[0mfile_genre\u001b[0m\u001b[0;34m)\u001b[0m\u001b[0;34m\u001b[0m\u001b[0;34m\u001b[0m\u001b[0m\n\u001b[0m",
      "\u001b[0;32m<ipython-input-13-8cced8dd9294>\u001b[0m in \u001b[0;36mimport_json_gz2\u001b[0;34m(file)\u001b[0m\n\u001b[1;32m      9\u001b[0m     \u001b[0;32mwith\u001b[0m \u001b[0mgzip\u001b[0m\u001b[0;34m.\u001b[0m\u001b[0mopen\u001b[0m\u001b[0;34m(\u001b[0m\u001b[0mfile\u001b[0m\u001b[0;34m)\u001b[0m \u001b[0;32mas\u001b[0m \u001b[0mf\u001b[0m\u001b[0;34m:\u001b[0m\u001b[0;34m\u001b[0m\u001b[0;34m\u001b[0m\u001b[0m\n\u001b[1;32m     10\u001b[0m         \u001b[0;32mfor\u001b[0m \u001b[0ml\u001b[0m \u001b[0;32min\u001b[0m \u001b[0mtqdm\u001b[0m\u001b[0;34m(\u001b[0m\u001b[0mf\u001b[0m\u001b[0;34m)\u001b[0m\u001b[0;34m:\u001b[0m\u001b[0;34m\u001b[0m\u001b[0;34m\u001b[0m\u001b[0m\n\u001b[0;32m---> 11\u001b[0;31m             \u001b[0mdata_dict\u001b[0m \u001b[0;34m=\u001b[0m \u001b[0mjson\u001b[0m\u001b[0;34m.\u001b[0m\u001b[0mloads\u001b[0m\u001b[0;34m(\u001b[0m\u001b[0ml\u001b[0m\u001b[0;34m.\u001b[0m\u001b[0mstrip\u001b[0m\u001b[0;34m(\u001b[0m\u001b[0;34m)\u001b[0m\u001b[0;34m)\u001b[0m\u001b[0;34m\u001b[0m\u001b[0;34m\u001b[0m\u001b[0m\n\u001b[0m\u001b[1;32m     12\u001b[0m             \u001b[0mdata\u001b[0m\u001b[0;34m.\u001b[0m\u001b[0mappend\u001b[0m\u001b[0;34m(\u001b[0m\u001b[0mdata_dict\u001b[0m\u001b[0;34m)\u001b[0m\u001b[0;34m\u001b[0m\u001b[0;34m\u001b[0m\u001b[0m\n\u001b[1;32m     13\u001b[0m     \u001b[0;32mreturn\u001b[0m \u001b[0mpd\u001b[0m\u001b[0;34m.\u001b[0m\u001b[0mDataFrame\u001b[0m\u001b[0;34m(\u001b[0m\u001b[0mdata\u001b[0m\u001b[0;34m)\u001b[0m\u001b[0;34m\u001b[0m\u001b[0;34m\u001b[0m\u001b[0m\n",
      "\u001b[0;32m/opt/anaconda3/envs/nf/lib/python3.6/json/__init__.py\u001b[0m in \u001b[0;36mloads\u001b[0;34m(s, encoding, cls, object_hook, parse_float, parse_int, parse_constant, object_pairs_hook, **kw)\u001b[0m\n\u001b[1;32m    352\u001b[0m             \u001b[0mparse_int\u001b[0m \u001b[0;32mis\u001b[0m \u001b[0;32mNone\u001b[0m \u001b[0;32mand\u001b[0m \u001b[0mparse_float\u001b[0m \u001b[0;32mis\u001b[0m \u001b[0;32mNone\u001b[0m \u001b[0;32mand\u001b[0m\u001b[0;34m\u001b[0m\u001b[0;34m\u001b[0m\u001b[0m\n\u001b[1;32m    353\u001b[0m             parse_constant is None and object_pairs_hook is None and not kw):\n\u001b[0;32m--> 354\u001b[0;31m         \u001b[0;32mreturn\u001b[0m \u001b[0m_default_decoder\u001b[0m\u001b[0;34m.\u001b[0m\u001b[0mdecode\u001b[0m\u001b[0;34m(\u001b[0m\u001b[0ms\u001b[0m\u001b[0;34m)\u001b[0m\u001b[0;34m\u001b[0m\u001b[0;34m\u001b[0m\u001b[0m\n\u001b[0m\u001b[1;32m    355\u001b[0m     \u001b[0;32mif\u001b[0m \u001b[0mcls\u001b[0m \u001b[0;32mis\u001b[0m \u001b[0;32mNone\u001b[0m\u001b[0;34m:\u001b[0m\u001b[0;34m\u001b[0m\u001b[0;34m\u001b[0m\u001b[0m\n\u001b[1;32m    356\u001b[0m         \u001b[0mcls\u001b[0m \u001b[0;34m=\u001b[0m \u001b[0mJSONDecoder\u001b[0m\u001b[0;34m\u001b[0m\u001b[0;34m\u001b[0m\u001b[0m\n",
      "\u001b[0;32m/opt/anaconda3/envs/nf/lib/python3.6/json/decoder.py\u001b[0m in \u001b[0;36mdecode\u001b[0;34m(self, s, _w)\u001b[0m\n\u001b[1;32m    339\u001b[0m         \u001b[0mobj\u001b[0m\u001b[0;34m,\u001b[0m \u001b[0mend\u001b[0m \u001b[0;34m=\u001b[0m \u001b[0mself\u001b[0m\u001b[0;34m.\u001b[0m\u001b[0mraw_decode\u001b[0m\u001b[0;34m(\u001b[0m\u001b[0ms\u001b[0m\u001b[0;34m,\u001b[0m \u001b[0midx\u001b[0m\u001b[0;34m=\u001b[0m\u001b[0m_w\u001b[0m\u001b[0;34m(\u001b[0m\u001b[0ms\u001b[0m\u001b[0;34m,\u001b[0m \u001b[0;36m0\u001b[0m\u001b[0;34m)\u001b[0m\u001b[0;34m.\u001b[0m\u001b[0mend\u001b[0m\u001b[0;34m(\u001b[0m\u001b[0;34m)\u001b[0m\u001b[0;34m)\u001b[0m\u001b[0;34m\u001b[0m\u001b[0;34m\u001b[0m\u001b[0m\n\u001b[1;32m    340\u001b[0m         \u001b[0mend\u001b[0m \u001b[0;34m=\u001b[0m \u001b[0m_w\u001b[0m\u001b[0;34m(\u001b[0m\u001b[0ms\u001b[0m\u001b[0;34m,\u001b[0m \u001b[0mend\u001b[0m\u001b[0;34m)\u001b[0m\u001b[0;34m.\u001b[0m\u001b[0mend\u001b[0m\u001b[0;34m(\u001b[0m\u001b[0;34m)\u001b[0m\u001b[0;34m\u001b[0m\u001b[0;34m\u001b[0m\u001b[0m\n\u001b[0;32m--> 341\u001b[0;31m         \u001b[0;32mif\u001b[0m \u001b[0mend\u001b[0m \u001b[0;34m!=\u001b[0m \u001b[0mlen\u001b[0m\u001b[0;34m(\u001b[0m\u001b[0ms\u001b[0m\u001b[0;34m)\u001b[0m\u001b[0;34m:\u001b[0m\u001b[0;34m\u001b[0m\u001b[0;34m\u001b[0m\u001b[0m\n\u001b[0m\u001b[1;32m    342\u001b[0m             \u001b[0;32mraise\u001b[0m \u001b[0mJSONDecodeError\u001b[0m\u001b[0;34m(\u001b[0m\u001b[0;34m\"Extra data\"\u001b[0m\u001b[0;34m,\u001b[0m \u001b[0ms\u001b[0m\u001b[0;34m,\u001b[0m \u001b[0mend\u001b[0m\u001b[0;34m)\u001b[0m\u001b[0;34m\u001b[0m\u001b[0;34m\u001b[0m\u001b[0m\n\u001b[1;32m    343\u001b[0m         \u001b[0;32mreturn\u001b[0m \u001b[0mobj\u001b[0m\u001b[0;34m\u001b[0m\u001b[0;34m\u001b[0m\u001b[0m\n",
      "\u001b[0;31mKeyboardInterrupt\u001b[0m: "
     ]
    }
   ],
   "source": [
    "#load whole genre dataset\n",
    "genre = import_json_gz2(file_genre)"
   ]
  },
  {
   "cell_type": "code",
   "execution_count": null,
   "metadata": {},
   "outputs": [],
   "source": [
    "genre.head()"
   ]
  },
  {
   "cell_type": "code",
   "execution_count": null,
   "metadata": {},
   "outputs": [],
   "source": [
    "genre.shape"
   ]
  },
  {
   "cell_type": "markdown",
   "metadata": {},
   "source": [
    "The genre dataset contains genre information for 2.3 million books. However, according to the [data source](https://sites.google.com/eng.ucsd.edu/ucsdbookgraph/reviews) we have reviews for 25k  books. We will use the function below to get the genres for the books contained in the review data set. Note that the genres are provided as a dictionary. The following function will also identify book_ids which have not been asigned a genre."
   ]
  },
  {
   "cell_type": "code",
   "execution_count": 35,
   "metadata": {},
   "outputs": [],
   "source": [
    "def fetch_genre(file, book_list):\n",
    "    '''\n",
    "    File: json.gzip file you want to scan\n",
    "    \n",
    "    book_list: set of book_ids\n",
    "    \n",
    "    Returns: list containing book_ids and genres and a list of book_ids with no information on genre\n",
    "    '''\n",
    "    \n",
    "    book_genres = []    \n",
    "    missing_genre = []\n",
    "    books = get_book(file)\n",
    "    \n",
    "    for book in tqdm(books):\n",
    "        book_dict = json.loads(book)\n",
    "        book_id = book_dict.get('book_id')\n",
    "        book_genre = book_dict.get('genres')\n",
    "        try:\n",
    "            if book_id in book_list:\n",
    "                book_genres.append(book_dict) \n",
    "                # empty dictionary returns \n",
    "                if not book_genre:\n",
    "                    missing_genre.append(book_id)\n",
    "        except: \n",
    "            pass\n",
    "        \n",
    "    return book_genres, missing_genre"
   ]
  },
  {
   "cell_type": "code",
   "execution_count": 36,
   "metadata": {},
   "outputs": [
    {
     "name": "stderr",
     "output_type": "stream",
     "text": [
      "2360655it [00:17, 134394.04it/s]\n"
     ]
    }
   ],
   "source": [
    "genre, missing_genre = fetch_genre(file_genre,book_ids)"
   ]
  },
  {
   "cell_type": "code",
   "execution_count": 37,
   "metadata": {},
   "outputs": [
    {
     "data": {
      "text/plain": [
       "['16148398']"
      ]
     },
     "execution_count": 37,
     "metadata": {},
     "output_type": "execute_result"
    }
   ],
   "source": [
    "missing_genre"
   ]
  },
  {
   "cell_type": "code",
   "execution_count": 38,
   "metadata": {},
   "outputs": [],
   "source": [
    "df_genre = pd.DataFrame(genre)"
   ]
  },
  {
   "cell_type": "code",
   "execution_count": 39,
   "metadata": {},
   "outputs": [
    {
     "data": {
      "text/html": [
       "<div>\n",
       "<style scoped>\n",
       "    .dataframe tbody tr th:only-of-type {\n",
       "        vertical-align: middle;\n",
       "    }\n",
       "\n",
       "    .dataframe tbody tr th {\n",
       "        vertical-align: top;\n",
       "    }\n",
       "\n",
       "    .dataframe thead th {\n",
       "        text-align: right;\n",
       "    }\n",
       "</style>\n",
       "<table border=\"1\" class=\"dataframe\">\n",
       "  <thead>\n",
       "    <tr style=\"text-align: right;\">\n",
       "      <th></th>\n",
       "      <th>book_id</th>\n",
       "      <th>genres</th>\n",
       "    </tr>\n",
       "  </thead>\n",
       "  <tbody>\n",
       "    <tr>\n",
       "      <th>0</th>\n",
       "      <td>22642971</td>\n",
       "      <td>{'young-adult': 235, 'fiction': 182, 'romance'...</td>\n",
       "    </tr>\n",
       "    <tr>\n",
       "      <th>1</th>\n",
       "      <td>32336119</td>\n",
       "      <td>{'romance': 84, 'mystery, thriller, crime': 4,...</td>\n",
       "    </tr>\n",
       "    <tr>\n",
       "      <th>2</th>\n",
       "      <td>2741853</td>\n",
       "      <td>{'romance': 555, 'fiction': 61}</td>\n",
       "    </tr>\n",
       "    <tr>\n",
       "      <th>3</th>\n",
       "      <td>12077902</td>\n",
       "      <td>{'fiction': 2695, 'fantasy, paranormal': 358, ...</td>\n",
       "    </tr>\n",
       "    <tr>\n",
       "      <th>4</th>\n",
       "      <td>7843586</td>\n",
       "      <td>{'romance': 232, 'fiction': 11, 'mystery, thri...</td>\n",
       "    </tr>\n",
       "  </tbody>\n",
       "</table>\n",
       "</div>"
      ],
      "text/plain": [
       "    book_id                                             genres\n",
       "0  22642971  {'young-adult': 235, 'fiction': 182, 'romance'...\n",
       "1  32336119  {'romance': 84, 'mystery, thriller, crime': 4,...\n",
       "2   2741853                    {'romance': 555, 'fiction': 61}\n",
       "3  12077902  {'fiction': 2695, 'fantasy, paranormal': 358, ...\n",
       "4   7843586  {'romance': 232, 'fiction': 11, 'mystery, thri..."
      ]
     },
     "execution_count": 39,
     "metadata": {},
     "output_type": "execute_result"
    }
   ],
   "source": [
    "df_genre.head()"
   ]
  },
  {
   "cell_type": "code",
   "execution_count": 40,
   "metadata": {},
   "outputs": [
    {
     "data": {
      "text/plain": [
       "(25475, 2)"
      ]
     },
     "execution_count": 40,
     "metadata": {},
     "output_type": "execute_result"
    }
   ],
   "source": [
    "df_genre.shape"
   ]
  },
  {
   "cell_type": "code",
   "execution_count": 41,
   "metadata": {},
   "outputs": [],
   "source": [
    "# function to get key from dictionary with highest value or ordered list\n",
    "# returns None if dictionary is empty and max() will cause an error\n",
    "import operator\n",
    "def get_genre(x):\n",
    "    try:\n",
    "        \n",
    "        a= max(x.items(), key=operator.itemgetter(1))[0]\n",
    "        b = sorted(x.items(), key=operator.itemgetter(1))\n",
    "        return a\n",
    "    except:\n",
    "        return np.nan"
   ]
  },
  {
   "cell_type": "code",
   "execution_count": 42,
   "metadata": {},
   "outputs": [],
   "source": [
    "# create new colum containing genre with most votes (from users)\n",
    "df_genre['best_genre'] = df_genre['genres'].apply(lambda x:get_genre(x))"
   ]
  },
  {
   "cell_type": "code",
   "execution_count": 43,
   "metadata": {},
   "outputs": [
    {
     "data": {
      "text/html": [
       "<div>\n",
       "<style scoped>\n",
       "    .dataframe tbody tr th:only-of-type {\n",
       "        vertical-align: middle;\n",
       "    }\n",
       "\n",
       "    .dataframe tbody tr th {\n",
       "        vertical-align: top;\n",
       "    }\n",
       "\n",
       "    .dataframe thead th {\n",
       "        text-align: right;\n",
       "    }\n",
       "</style>\n",
       "<table border=\"1\" class=\"dataframe\">\n",
       "  <thead>\n",
       "    <tr style=\"text-align: right;\">\n",
       "      <th></th>\n",
       "      <th>book_id</th>\n",
       "      <th>genres</th>\n",
       "      <th>best_genre</th>\n",
       "    </tr>\n",
       "  </thead>\n",
       "  <tbody>\n",
       "    <tr>\n",
       "      <th>0</th>\n",
       "      <td>22642971</td>\n",
       "      <td>{'young-adult': 235, 'fiction': 182, 'romance'...</td>\n",
       "      <td>young-adult</td>\n",
       "    </tr>\n",
       "    <tr>\n",
       "      <th>1</th>\n",
       "      <td>32336119</td>\n",
       "      <td>{'romance': 84, 'mystery, thriller, crime': 4,...</td>\n",
       "      <td>romance</td>\n",
       "    </tr>\n",
       "    <tr>\n",
       "      <th>2</th>\n",
       "      <td>2741853</td>\n",
       "      <td>{'romance': 555, 'fiction': 61}</td>\n",
       "      <td>romance</td>\n",
       "    </tr>\n",
       "    <tr>\n",
       "      <th>3</th>\n",
       "      <td>12077902</td>\n",
       "      <td>{'fiction': 2695, 'fantasy, paranormal': 358, ...</td>\n",
       "      <td>fiction</td>\n",
       "    </tr>\n",
       "    <tr>\n",
       "      <th>4</th>\n",
       "      <td>7843586</td>\n",
       "      <td>{'romance': 232, 'fiction': 11, 'mystery, thri...</td>\n",
       "      <td>romance</td>\n",
       "    </tr>\n",
       "  </tbody>\n",
       "</table>\n",
       "</div>"
      ],
      "text/plain": [
       "    book_id                                             genres   best_genre\n",
       "0  22642971  {'young-adult': 235, 'fiction': 182, 'romance'...  young-adult\n",
       "1  32336119  {'romance': 84, 'mystery, thriller, crime': 4,...      romance\n",
       "2   2741853                    {'romance': 555, 'fiction': 61}      romance\n",
       "3  12077902  {'fiction': 2695, 'fantasy, paranormal': 358, ...      fiction\n",
       "4   7843586  {'romance': 232, 'fiction': 11, 'mystery, thri...      romance"
      ]
     },
     "execution_count": 43,
     "metadata": {},
     "output_type": "execute_result"
    }
   ],
   "source": [
    "df_genre.head()"
   ]
  },
  {
   "cell_type": "code",
   "execution_count": 44,
   "metadata": {},
   "outputs": [
    {
     "data": {
      "text/plain": [
       "book_id       0\n",
       "genres        0\n",
       "best_genre    1\n",
       "dtype: int64"
      ]
     },
     "execution_count": 44,
     "metadata": {},
     "output_type": "execute_result"
    }
   ],
   "source": [
    "df_genre.isnull().sum()"
   ]
  },
  {
   "cell_type": "code",
   "execution_count": 45,
   "metadata": {},
   "outputs": [
    {
     "data": {
      "text/html": [
       "<div>\n",
       "<style scoped>\n",
       "    .dataframe tbody tr th:only-of-type {\n",
       "        vertical-align: middle;\n",
       "    }\n",
       "\n",
       "    .dataframe tbody tr th {\n",
       "        vertical-align: top;\n",
       "    }\n",
       "\n",
       "    .dataframe thead th {\n",
       "        text-align: right;\n",
       "    }\n",
       "</style>\n",
       "<table border=\"1\" class=\"dataframe\">\n",
       "  <thead>\n",
       "    <tr style=\"text-align: right;\">\n",
       "      <th></th>\n",
       "      <th>book_id</th>\n",
       "      <th>genres</th>\n",
       "      <th>best_genre</th>\n",
       "    </tr>\n",
       "  </thead>\n",
       "  <tbody>\n",
       "    <tr>\n",
       "      <th>16474</th>\n",
       "      <td>16148398</td>\n",
       "      <td>{}</td>\n",
       "      <td>NaN</td>\n",
       "    </tr>\n",
       "  </tbody>\n",
       "</table>\n",
       "</div>"
      ],
      "text/plain": [
       "        book_id genres best_genre\n",
       "16474  16148398     {}        NaN"
      ]
     },
     "execution_count": 45,
     "metadata": {},
     "output_type": "execute_result"
    }
   ],
   "source": [
    "# identify book with missing genre\n",
    "df_missing_genre = df_genre[df_genre.best_genre.isnull()]\n",
    "df_missing_genre"
   ]
  },
  {
   "cell_type": "code",
   "execution_count": 46,
   "metadata": {},
   "outputs": [
    {
     "data": {
      "text/html": [
       "<div>\n",
       "<style scoped>\n",
       "    .dataframe tbody tr th:only-of-type {\n",
       "        vertical-align: middle;\n",
       "    }\n",
       "\n",
       "    .dataframe tbody tr th {\n",
       "        vertical-align: top;\n",
       "    }\n",
       "\n",
       "    .dataframe thead th {\n",
       "        text-align: right;\n",
       "    }\n",
       "</style>\n",
       "<table border=\"1\" class=\"dataframe\">\n",
       "  <thead>\n",
       "    <tr style=\"text-align: right;\">\n",
       "      <th></th>\n",
       "      <th>book_id</th>\n",
       "      <th>title</th>\n",
       "      <th>description</th>\n",
       "      <th>publication_year</th>\n",
       "      <th>publication_month</th>\n",
       "      <th>publication_day</th>\n",
       "      <th>average_rating</th>\n",
       "      <th>ratings_count</th>\n",
       "      <th>num_pages</th>\n",
       "      <th>weighted_average_rating</th>\n",
       "    </tr>\n",
       "  </thead>\n",
       "  <tbody>\n",
       "    <tr>\n",
       "      <th>16474</th>\n",
       "      <td>16148398</td>\n",
       "      <td>Saga #1</td>\n",
       "      <td>NaN</td>\n",
       "      <td>NaN</td>\n",
       "      <td>NaN</td>\n",
       "      <td>NaN</td>\n",
       "      <td>NaN</td>\n",
       "      <td>NaN</td>\n",
       "      <td>NaN</td>\n",
       "      <td>NaN</td>\n",
       "    </tr>\n",
       "  </tbody>\n",
       "</table>\n",
       "</div>"
      ],
      "text/plain": [
       "        book_id    title description  publication_year  publication_month  \\\n",
       "16474  16148398  Saga #1         NaN               NaN                NaN   \n",
       "\n",
       "       publication_day  average_rating  ratings_count  num_pages  \\\n",
       "16474              NaN             NaN            NaN        NaN   \n",
       "\n",
       "       weighted_average_rating  \n",
       "16474                      NaN  "
      ]
     },
     "execution_count": 46,
     "metadata": {},
     "output_type": "execute_result"
    }
   ],
   "source": [
    "missing_book = book_meta_features2[book_meta_features2.book_id == '16148398']\n",
    "missing_book"
   ]
  },
  {
   "cell_type": "markdown",
   "metadata": {},
   "source": [
    "We seem to have no infomration but the title for the book with the missing genre. Check how often this book was reviewd using the book ids."
   ]
  },
  {
   "cell_type": "code",
   "execution_count": 47,
   "metadata": {},
   "outputs": [
    {
     "name": "stdout",
     "output_type": "stream",
     "text": [
      " The book \"Saga #1\" was reviewed 1 time(s)\n"
     ]
    }
   ],
   "source": [
    "i = 0\n",
    "for book in book_ids_unique:\n",
    "    if book == '16148398':\n",
    "        i += 1\n",
    "print(f' The book \"Saga #1\" was reviewed {i} time(s)')"
   ]
  },
  {
   "cell_type": "markdown",
   "metadata": {},
   "source": [
    "As this book was only reviewed once, we will drop this book."
   ]
  },
  {
   "cell_type": "code",
   "execution_count": 48,
   "metadata": {},
   "outputs": [],
   "source": [
    "books_to_drop = ['16148398']"
   ]
  },
  {
   "cell_type": "code",
   "execution_count": null,
   "metadata": {},
   "outputs": [],
   "source": []
  },
  {
   "cell_type": "code",
   "execution_count": null,
   "metadata": {},
   "outputs": [],
   "source": []
  },
  {
   "cell_type": "code",
   "execution_count": 49,
   "metadata": {},
   "outputs": [
    {
     "name": "stderr",
     "output_type": "stream",
     "text": [
      "1378033it [01:52, 12287.65it/s]\n"
     ]
    },
    {
     "data": {
      "text/plain": [
       "'00:02:02'"
      ]
     },
     "execution_count": 49,
     "metadata": {},
     "output_type": "execute_result"
    }
   ],
   "source": [
    "# load the reviews data\n",
    "t0 = time.time()\n",
    "df_reviews = import_json_gz2(file_reviews)\n",
    "elapsed_time = time.time()-t0\n",
    "time.strftime(\"%H:%M:%S\", time.gmtime(elapsed_time))"
   ]
  },
  {
   "cell_type": "code",
   "execution_count": 50,
   "metadata": {},
   "outputs": [
    {
     "data": {
      "text/html": [
       "<div>\n",
       "<style scoped>\n",
       "    .dataframe tbody tr th:only-of-type {\n",
       "        vertical-align: middle;\n",
       "    }\n",
       "\n",
       "    .dataframe tbody tr th {\n",
       "        vertical-align: top;\n",
       "    }\n",
       "\n",
       "    .dataframe thead th {\n",
       "        text-align: right;\n",
       "    }\n",
       "</style>\n",
       "<table border=\"1\" class=\"dataframe\">\n",
       "  <thead>\n",
       "    <tr style=\"text-align: right;\">\n",
       "      <th></th>\n",
       "      <th>book_id</th>\n",
       "      <th>has_spoiler</th>\n",
       "      <th>rating</th>\n",
       "      <th>review_id</th>\n",
       "      <th>review_sentences</th>\n",
       "      <th>timestamp</th>\n",
       "      <th>user_id</th>\n",
       "    </tr>\n",
       "  </thead>\n",
       "  <tbody>\n",
       "    <tr>\n",
       "      <th>0</th>\n",
       "      <td>18245960</td>\n",
       "      <td>True</td>\n",
       "      <td>5</td>\n",
       "      <td>dfdbb7b0eb5a7e4c26d59a937e2e5feb</td>\n",
       "      <td>[[0, This is a special book.], [0, It started ...</td>\n",
       "      <td>2017-08-30</td>\n",
       "      <td>8842281e1d1347389f2ab93d60773d4d</td>\n",
       "    </tr>\n",
       "    <tr>\n",
       "      <th>1</th>\n",
       "      <td>16981</td>\n",
       "      <td>False</td>\n",
       "      <td>3</td>\n",
       "      <td>a5d2c3628987712d0e05c4f90798eb67</td>\n",
       "      <td>[[0, Recommended by Don Katz.], [0, Avail for ...</td>\n",
       "      <td>2017-03-22</td>\n",
       "      <td>8842281e1d1347389f2ab93d60773d4d</td>\n",
       "    </tr>\n",
       "    <tr>\n",
       "      <th>2</th>\n",
       "      <td>28684704</td>\n",
       "      <td>True</td>\n",
       "      <td>3</td>\n",
       "      <td>2ede853b14dc4583f96cf5d120af636f</td>\n",
       "      <td>[[0, A fun, fast paced science fiction thrille...</td>\n",
       "      <td>2017-03-20</td>\n",
       "      <td>8842281e1d1347389f2ab93d60773d4d</td>\n",
       "    </tr>\n",
       "    <tr>\n",
       "      <th>3</th>\n",
       "      <td>27161156</td>\n",
       "      <td>False</td>\n",
       "      <td>0</td>\n",
       "      <td>ced5675e55cd9d38a524743f5c40996e</td>\n",
       "      <td>[[0, Recommended reading to understand what is...</td>\n",
       "      <td>2016-11-09</td>\n",
       "      <td>8842281e1d1347389f2ab93d60773d4d</td>\n",
       "    </tr>\n",
       "    <tr>\n",
       "      <th>4</th>\n",
       "      <td>25884323</td>\n",
       "      <td>True</td>\n",
       "      <td>4</td>\n",
       "      <td>332732725863131279a8e345b63ac33e</td>\n",
       "      <td>[[0, I really enjoyed this book, and there is ...</td>\n",
       "      <td>2016-04-25</td>\n",
       "      <td>8842281e1d1347389f2ab93d60773d4d</td>\n",
       "    </tr>\n",
       "  </tbody>\n",
       "</table>\n",
       "</div>"
      ],
      "text/plain": [
       "    book_id  has_spoiler  rating                         review_id  \\\n",
       "0  18245960         True       5  dfdbb7b0eb5a7e4c26d59a937e2e5feb   \n",
       "1     16981        False       3  a5d2c3628987712d0e05c4f90798eb67   \n",
       "2  28684704         True       3  2ede853b14dc4583f96cf5d120af636f   \n",
       "3  27161156        False       0  ced5675e55cd9d38a524743f5c40996e   \n",
       "4  25884323         True       4  332732725863131279a8e345b63ac33e   \n",
       "\n",
       "                                    review_sentences   timestamp  \\\n",
       "0  [[0, This is a special book.], [0, It started ...  2017-08-30   \n",
       "1  [[0, Recommended by Don Katz.], [0, Avail for ...  2017-03-22   \n",
       "2  [[0, A fun, fast paced science fiction thrille...  2017-03-20   \n",
       "3  [[0, Recommended reading to understand what is...  2016-11-09   \n",
       "4  [[0, I really enjoyed this book, and there is ...  2016-04-25   \n",
       "\n",
       "                            user_id  \n",
       "0  8842281e1d1347389f2ab93d60773d4d  \n",
       "1  8842281e1d1347389f2ab93d60773d4d  \n",
       "2  8842281e1d1347389f2ab93d60773d4d  \n",
       "3  8842281e1d1347389f2ab93d60773d4d  \n",
       "4  8842281e1d1347389f2ab93d60773d4d  "
      ]
     },
     "execution_count": 50,
     "metadata": {},
     "output_type": "execute_result"
    }
   ],
   "source": [
    "# get a quick look at the reviews data\n",
    "df_reviews.head()"
   ]
  },
  {
   "cell_type": "code",
   "execution_count": 51,
   "metadata": {},
   "outputs": [
    {
     "data": {
      "text/html": [
       "<div>\n",
       "<style scoped>\n",
       "    .dataframe tbody tr th:only-of-type {\n",
       "        vertical-align: middle;\n",
       "    }\n",
       "\n",
       "    .dataframe tbody tr th {\n",
       "        vertical-align: top;\n",
       "    }\n",
       "\n",
       "    .dataframe thead th {\n",
       "        text-align: right;\n",
       "    }\n",
       "</style>\n",
       "<table border=\"1\" class=\"dataframe\">\n",
       "  <thead>\n",
       "    <tr style=\"text-align: right;\">\n",
       "      <th></th>\n",
       "      <th>book_id</th>\n",
       "      <th>has_spoiler</th>\n",
       "      <th>rating</th>\n",
       "      <th>review_id</th>\n",
       "      <th>review_sentences</th>\n",
       "      <th>timestamp</th>\n",
       "      <th>user_id</th>\n",
       "      <th>title</th>\n",
       "      <th>description</th>\n",
       "      <th>publication_year</th>\n",
       "      <th>publication_month</th>\n",
       "      <th>publication_day</th>\n",
       "      <th>average_rating</th>\n",
       "      <th>ratings_count</th>\n",
       "      <th>num_pages</th>\n",
       "      <th>weighted_average_rating</th>\n",
       "      <th>genres</th>\n",
       "      <th>best_genre</th>\n",
       "    </tr>\n",
       "  </thead>\n",
       "  <tbody>\n",
       "    <tr>\n",
       "      <th>0</th>\n",
       "      <td>18245960</td>\n",
       "      <td>True</td>\n",
       "      <td>5</td>\n",
       "      <td>dfdbb7b0eb5a7e4c26d59a937e2e5feb</td>\n",
       "      <td>[[0, This is a special book.], [0, It started ...</td>\n",
       "      <td>2017-08-30</td>\n",
       "      <td>8842281e1d1347389f2ab93d60773d4d</td>\n",
       "      <td>The Three-Body Problem (Remembrance of Earth’s...</td>\n",
       "      <td>The Three-Body Problemis the first chance for ...</td>\n",
       "      <td>2014.0</td>\n",
       "      <td>10.0</td>\n",
       "      <td>14.0</td>\n",
       "      <td>4.01</td>\n",
       "      <td>6336.0</td>\n",
       "      <td>400.0</td>\n",
       "      <td>25407.36</td>\n",
       "      <td>{'fiction': 393, 'fantasy, paranormal': 341, '...</td>\n",
       "      <td>fiction</td>\n",
       "    </tr>\n",
       "    <tr>\n",
       "      <th>1</th>\n",
       "      <td>18245960</td>\n",
       "      <td>False</td>\n",
       "      <td>3</td>\n",
       "      <td>b88eb6519a046159a31afcc21a448b6f</td>\n",
       "      <td>[[0, Average between the 4 star concepts (over...</td>\n",
       "      <td>2015-10-21</td>\n",
       "      <td>1a2398eca437fed5d9add310a0c09611</td>\n",
       "      <td>The Three-Body Problem (Remembrance of Earth’s...</td>\n",
       "      <td>The Three-Body Problemis the first chance for ...</td>\n",
       "      <td>2014.0</td>\n",
       "      <td>10.0</td>\n",
       "      <td>14.0</td>\n",
       "      <td>4.01</td>\n",
       "      <td>6336.0</td>\n",
       "      <td>400.0</td>\n",
       "      <td>25407.36</td>\n",
       "      <td>{'fiction': 393, 'fantasy, paranormal': 341, '...</td>\n",
       "      <td>fiction</td>\n",
       "    </tr>\n",
       "    <tr>\n",
       "      <th>2</th>\n",
       "      <td>18245960</td>\n",
       "      <td>False</td>\n",
       "      <td>5</td>\n",
       "      <td>5ea837edf3b1386c613a123f46e1cccd</td>\n",
       "      <td>[[0, A really refreshing take on science ficti...</td>\n",
       "      <td>2017-05-22</td>\n",
       "      <td>ab19fd8bcc1021d1c0f42dfa8d47f1e3</td>\n",
       "      <td>The Three-Body Problem (Remembrance of Earth’s...</td>\n",
       "      <td>The Three-Body Problemis the first chance for ...</td>\n",
       "      <td>2014.0</td>\n",
       "      <td>10.0</td>\n",
       "      <td>14.0</td>\n",
       "      <td>4.01</td>\n",
       "      <td>6336.0</td>\n",
       "      <td>400.0</td>\n",
       "      <td>25407.36</td>\n",
       "      <td>{'fiction': 393, 'fantasy, paranormal': 341, '...</td>\n",
       "      <td>fiction</td>\n",
       "    </tr>\n",
       "    <tr>\n",
       "      <th>3</th>\n",
       "      <td>18245960</td>\n",
       "      <td>True</td>\n",
       "      <td>1</td>\n",
       "      <td>cefa3a787e1a845fb48acad37ff528de</td>\n",
       "      <td>[[0, I'm really waffling between whether to ra...</td>\n",
       "      <td>2015-07-10</td>\n",
       "      <td>e956ca90ba23174bbbccf1161ab19150</td>\n",
       "      <td>The Three-Body Problem (Remembrance of Earth’s...</td>\n",
       "      <td>The Three-Body Problemis the first chance for ...</td>\n",
       "      <td>2014.0</td>\n",
       "      <td>10.0</td>\n",
       "      <td>14.0</td>\n",
       "      <td>4.01</td>\n",
       "      <td>6336.0</td>\n",
       "      <td>400.0</td>\n",
       "      <td>25407.36</td>\n",
       "      <td>{'fiction': 393, 'fantasy, paranormal': 341, '...</td>\n",
       "      <td>fiction</td>\n",
       "    </tr>\n",
       "    <tr>\n",
       "      <th>4</th>\n",
       "      <td>18245960</td>\n",
       "      <td>True</td>\n",
       "      <td>5</td>\n",
       "      <td>86a7c0571fd59e729cf9e2340dda1224</td>\n",
       "      <td>[[0, Every time I read a good science fiction ...</td>\n",
       "      <td>2016-07-30</td>\n",
       "      <td>da7a0c5ee0c89973224d8853445be68e</td>\n",
       "      <td>The Three-Body Problem (Remembrance of Earth’s...</td>\n",
       "      <td>The Three-Body Problemis the first chance for ...</td>\n",
       "      <td>2014.0</td>\n",
       "      <td>10.0</td>\n",
       "      <td>14.0</td>\n",
       "      <td>4.01</td>\n",
       "      <td>6336.0</td>\n",
       "      <td>400.0</td>\n",
       "      <td>25407.36</td>\n",
       "      <td>{'fiction': 393, 'fantasy, paranormal': 341, '...</td>\n",
       "      <td>fiction</td>\n",
       "    </tr>\n",
       "  </tbody>\n",
       "</table>\n",
       "</div>"
      ],
      "text/plain": [
       "    book_id  has_spoiler  rating                         review_id  \\\n",
       "0  18245960         True       5  dfdbb7b0eb5a7e4c26d59a937e2e5feb   \n",
       "1  18245960        False       3  b88eb6519a046159a31afcc21a448b6f   \n",
       "2  18245960        False       5  5ea837edf3b1386c613a123f46e1cccd   \n",
       "3  18245960         True       1  cefa3a787e1a845fb48acad37ff528de   \n",
       "4  18245960         True       5  86a7c0571fd59e729cf9e2340dda1224   \n",
       "\n",
       "                                    review_sentences   timestamp  \\\n",
       "0  [[0, This is a special book.], [0, It started ...  2017-08-30   \n",
       "1  [[0, Average between the 4 star concepts (over...  2015-10-21   \n",
       "2  [[0, A really refreshing take on science ficti...  2017-05-22   \n",
       "3  [[0, I'm really waffling between whether to ra...  2015-07-10   \n",
       "4  [[0, Every time I read a good science fiction ...  2016-07-30   \n",
       "\n",
       "                            user_id  \\\n",
       "0  8842281e1d1347389f2ab93d60773d4d   \n",
       "1  1a2398eca437fed5d9add310a0c09611   \n",
       "2  ab19fd8bcc1021d1c0f42dfa8d47f1e3   \n",
       "3  e956ca90ba23174bbbccf1161ab19150   \n",
       "4  da7a0c5ee0c89973224d8853445be68e   \n",
       "\n",
       "                                               title  \\\n",
       "0  The Three-Body Problem (Remembrance of Earth’s...   \n",
       "1  The Three-Body Problem (Remembrance of Earth’s...   \n",
       "2  The Three-Body Problem (Remembrance of Earth’s...   \n",
       "3  The Three-Body Problem (Remembrance of Earth’s...   \n",
       "4  The Three-Body Problem (Remembrance of Earth’s...   \n",
       "\n",
       "                                         description  publication_year  \\\n",
       "0  The Three-Body Problemis the first chance for ...            2014.0   \n",
       "1  The Three-Body Problemis the first chance for ...            2014.0   \n",
       "2  The Three-Body Problemis the first chance for ...            2014.0   \n",
       "3  The Three-Body Problemis the first chance for ...            2014.0   \n",
       "4  The Three-Body Problemis the first chance for ...            2014.0   \n",
       "\n",
       "   publication_month  publication_day  average_rating  ratings_count  \\\n",
       "0               10.0             14.0            4.01         6336.0   \n",
       "1               10.0             14.0            4.01         6336.0   \n",
       "2               10.0             14.0            4.01         6336.0   \n",
       "3               10.0             14.0            4.01         6336.0   \n",
       "4               10.0             14.0            4.01         6336.0   \n",
       "\n",
       "   num_pages  weighted_average_rating  \\\n",
       "0      400.0                 25407.36   \n",
       "1      400.0                 25407.36   \n",
       "2      400.0                 25407.36   \n",
       "3      400.0                 25407.36   \n",
       "4      400.0                 25407.36   \n",
       "\n",
       "                                              genres best_genre  \n",
       "0  {'fiction': 393, 'fantasy, paranormal': 341, '...    fiction  \n",
       "1  {'fiction': 393, 'fantasy, paranormal': 341, '...    fiction  \n",
       "2  {'fiction': 393, 'fantasy, paranormal': 341, '...    fiction  \n",
       "3  {'fiction': 393, 'fantasy, paranormal': 341, '...    fiction  \n",
       "4  {'fiction': 393, 'fantasy, paranormal': 341, '...    fiction  "
      ]
     },
     "execution_count": 51,
     "metadata": {},
     "output_type": "execute_result"
    }
   ],
   "source": [
    "# merge datatframes\n",
    "df_all = df_reviews.merge(book_meta_features2, on='book_id' ).merge(df_genre, on= 'book_id')\n",
    "df_all.head()"
   ]
  },
  {
   "cell_type": "code",
   "execution_count": 52,
   "metadata": {},
   "outputs": [],
   "source": [
    "# save dataframe\n",
    "#df_all.to_csv('complete_data.csv', chunksize=10000)"
   ]
  },
  {
   "cell_type": "code",
   "execution_count": 53,
   "metadata": {},
   "outputs": [],
   "source": [
    "# split into train, val and test dataset (70:20:10)\n",
    "df_train, df_validate, df_test = \\\n",
    "              np.split(df_all.sample(frac=1, random_state=42), \n",
    "                       [int(.7*len(df_all)), int(.9*len(df_all))])"
   ]
  },
  {
   "cell_type": "code",
   "execution_count": null,
   "metadata": {},
   "outputs": [],
   "source": [
    "print(df_train.shape, df_validate.shape, df_test.shape)"
   ]
  },
  {
   "cell_type": "code",
   "execution_count": null,
   "metadata": {},
   "outputs": [],
   "source": [
    "#save train, val and test dataset as csv files\n",
    "t0 = time.time()\n",
    "\n",
    "df_train.to_json('training_set.json', orient = 'index')\n",
    "df_validate.to_json('validation_set.json', orient = 'index')\n",
    "df_test.to_json('test_set.json', orient = 'index')\n",
    "\n",
    "elapsed_time = time.time()-t0\n",
    "time.strftime(\"%H:%M:%S\", time.gmtime(elapsed_time))"
   ]
  },
  {
   "cell_type": "code",
   "execution_count": 3,
   "metadata": {},
   "outputs": [
    {
     "name": "stdout",
     "output_type": "stream",
     "text": [
      "00:08:26\n"
     ]
    },
    {
     "ename": "NameError",
     "evalue": "name 'test' is not defined",
     "output_type": "error",
     "traceback": [
      "\u001b[0;31m---------------------------------------------------------------------------\u001b[0m",
      "\u001b[0;31mNameError\u001b[0m                                 Traceback (most recent call last)",
      "\u001b[0;32m<ipython-input-3-96c65f96fe49>\u001b[0m in \u001b[0;36m<module>\u001b[0;34m\u001b[0m\n\u001b[1;32m      4\u001b[0m \u001b[0melapsed_time\u001b[0m \u001b[0;34m=\u001b[0m \u001b[0mtime\u001b[0m\u001b[0;34m.\u001b[0m\u001b[0mtime\u001b[0m\u001b[0;34m(\u001b[0m\u001b[0;34m)\u001b[0m\u001b[0;34m-\u001b[0m\u001b[0mt0\u001b[0m\u001b[0;34m\u001b[0m\u001b[0;34m\u001b[0m\u001b[0m\n\u001b[1;32m      5\u001b[0m \u001b[0mprint\u001b[0m\u001b[0;34m(\u001b[0m\u001b[0mtime\u001b[0m\u001b[0;34m.\u001b[0m\u001b[0mstrftime\u001b[0m\u001b[0;34m(\u001b[0m\u001b[0;34m\"%H:%M:%S\"\u001b[0m\u001b[0;34m,\u001b[0m \u001b[0mtime\u001b[0m\u001b[0;34m.\u001b[0m\u001b[0mgmtime\u001b[0m\u001b[0;34m(\u001b[0m\u001b[0melapsed_time\u001b[0m\u001b[0;34m)\u001b[0m\u001b[0;34m)\u001b[0m\u001b[0;34m)\u001b[0m\u001b[0;34m\u001b[0m\u001b[0;34m\u001b[0m\u001b[0m\n\u001b[0;32m----> 6\u001b[0;31m \u001b[0mtest\u001b[0m\u001b[0;34m.\u001b[0m\u001b[0mhead\u001b[0m\u001b[0;34m(\u001b[0m\u001b[0;34m)\u001b[0m\u001b[0;34m\u001b[0m\u001b[0;34m\u001b[0m\u001b[0m\n\u001b[0m",
      "\u001b[0;31mNameError\u001b[0m: name 'test' is not defined"
     ]
    }
   ],
   "source": [
    "# test import \n",
    "t0 = time.time()\n",
    "df_train = pd.read_json('training_set.json', orient = 'index')\n",
    "elapsed_time = time.time()-t0\n",
    "print(time.strftime(\"%H:%M:%S\", time.gmtime(elapsed_time)))\n"
   ]
  },
  {
   "cell_type": "code",
   "execution_count": 8,
   "metadata": {},
   "outputs": [
    {
     "data": {
      "text/plain": [
       "(964623, 18)"
      ]
     },
     "execution_count": 8,
     "metadata": {},
     "output_type": "execute_result"
    }
   ],
   "source": [
    "df_train.shape"
   ]
  },
  {
   "cell_type": "code",
   "execution_count": 5,
   "metadata": {},
   "outputs": [],
   "source": [
    "# functions to isolate labels and text from review_sentences column\n",
    "def get_sentence_label(x):\n",
    "    return [label for label, text in x]\n",
    "def get_sentence_text(x):\n",
    "    return [text for label, text in x]"
   ]
  },
  {
   "cell_type": "code",
   "execution_count": 7,
   "metadata": {},
   "outputs": [
    {
     "data": {
      "text/plain": [
       "(62815, 18)"
      ]
     },
     "execution_count": 7,
     "metadata": {},
     "output_type": "execute_result"
    }
   ],
   "source": [
    "# for the spell checking we will start with a smaller sub set \n",
    "# we only take reviews that contain spoilers\n",
    "df_spoilers = df_train.copy()\n",
    "df_spoilers = df_spoilers[df_spoilers['has_spoiler'] == True]\n",
    "df_spoilers.shape"
   ]
  },
  {
   "cell_type": "code",
   "execution_count": 9,
   "metadata": {},
   "outputs": [],
   "source": [
    "df_spoilers['sentence_labels'] = df_spoilers.review_sentences.apply(lambda x: get_sentence_label(x))\n",
    "df_spoilers['sentence_texts'] = df_spoilers.review_sentences.apply(lambda x: get_sentence_text(x))"
   ]
  },
  {
   "cell_type": "code",
   "execution_count": 85,
   "metadata": {},
   "outputs": [
    {
     "data": {
      "text/html": [
       "<div>\n",
       "<style scoped>\n",
       "    .dataframe tbody tr th:only-of-type {\n",
       "        vertical-align: middle;\n",
       "    }\n",
       "\n",
       "    .dataframe tbody tr th {\n",
       "        vertical-align: top;\n",
       "    }\n",
       "\n",
       "    .dataframe thead th {\n",
       "        text-align: right;\n",
       "    }\n",
       "</style>\n",
       "<table border=\"1\" class=\"dataframe\">\n",
       "  <thead>\n",
       "    <tr style=\"text-align: right;\">\n",
       "      <th></th>\n",
       "      <th>average_rating</th>\n",
       "      <th>best_genre</th>\n",
       "      <th>book_id</th>\n",
       "      <th>description</th>\n",
       "      <th>genres</th>\n",
       "      <th>has_spoiler</th>\n",
       "      <th>num_pages</th>\n",
       "      <th>publication_day</th>\n",
       "      <th>publication_month</th>\n",
       "      <th>publication_year</th>\n",
       "      <th>rating</th>\n",
       "      <th>ratings_count</th>\n",
       "      <th>review_id</th>\n",
       "      <th>review_sentences</th>\n",
       "      <th>timestamp</th>\n",
       "      <th>title</th>\n",
       "      <th>user_id</th>\n",
       "      <th>weighted_average_rating</th>\n",
       "      <th>sentence_labels</th>\n",
       "      <th>sentence_texts</th>\n",
       "    </tr>\n",
       "  </thead>\n",
       "  <tbody>\n",
       "    <tr>\n",
       "      <th>859048</th>\n",
       "      <td>3.92</td>\n",
       "      <td>young-adult</td>\n",
       "      <td>13517455</td>\n",
       "      <td>Five years ago, Wren Connolly was shot three t...</td>\n",
       "      <td>{'young-adult': 1025, 'fiction': 633, 'romance...</td>\n",
       "      <td>1</td>\n",
       "      <td>365.0</td>\n",
       "      <td>7.0</td>\n",
       "      <td>5.0</td>\n",
       "      <td>2013.0</td>\n",
       "      <td>5</td>\n",
       "      <td>23778.0</td>\n",
       "      <td>5b942fa92ca26d999063758098d36742</td>\n",
       "      <td>[[0, Review originally posted at Step Into Fic...</td>\n",
       "      <td>2013-04-11</td>\n",
       "      <td>Reboot (Reboot, #1)</td>\n",
       "      <td>883e2e0ae9de4c2c46c0fb09d6025fdf</td>\n",
       "      <td>93209.76</td>\n",
       "      <td>[0, 0, 0, 0, 0, 0, 0, 0, 0, 0, 0, 0, 0, 0, 0, ...</td>\n",
       "      <td>[Review originally posted at Step Into Fiction...</td>\n",
       "    </tr>\n",
       "    <tr>\n",
       "      <th>1079332</th>\n",
       "      <td>4.39</td>\n",
       "      <td>comics, graphic</td>\n",
       "      <td>13620</td>\n",
       "      <td>Although they've collected plenty of evidence ...</td>\n",
       "      <td>{'comics, graphic': 854, 'fantasy, paranormal'...</td>\n",
       "      <td>1</td>\n",
       "      <td>215.0</td>\n",
       "      <td>5.0</td>\n",
       "      <td>7.0</td>\n",
       "      <td>2006.0</td>\n",
       "      <td>4</td>\n",
       "      <td>15486.0</td>\n",
       "      <td>e493d9ef493603381cd1241349c37381</td>\n",
       "      <td>[[0, This is an interesting volume in which L ...</td>\n",
       "      <td>2016-12-01</td>\n",
       "      <td>Death Note, Vol. 6: Give-and-Take (Death Note,...</td>\n",
       "      <td>8811d75d39ef5d4dd88a3e209cf005b4</td>\n",
       "      <td>67983.54</td>\n",
       "      <td>[0, 1, 1, 0]</td>\n",
       "      <td>[This is an interesting volume in which L lear...</td>\n",
       "    </tr>\n",
       "    <tr>\n",
       "      <th>135626</th>\n",
       "      <td>4.28</td>\n",
       "      <td>fantasy, paranormal</td>\n",
       "      <td>16096824</td>\n",
       "      <td>Feyre's survival rests upon her ability to hun...</td>\n",
       "      <td>{'fantasy, paranormal': 10725, 'young-adult': ...</td>\n",
       "      <td>1</td>\n",
       "      <td>416.0</td>\n",
       "      <td>5.0</td>\n",
       "      <td>5.0</td>\n",
       "      <td>2015.0</td>\n",
       "      <td>4</td>\n",
       "      <td>182581.0</td>\n",
       "      <td>b2b8f14ccadc67149f0bb4838398ff00</td>\n",
       "      <td>[[0, I'm actually surprised at how much I enjo...</td>\n",
       "      <td>2017-07-31</td>\n",
       "      <td>A Court of Thorns and Roses (A Court of Thorns...</td>\n",
       "      <td>e6bc867b9841ae70809e26fcbdd2517e</td>\n",
       "      <td>781446.68</td>\n",
       "      <td>[0, 0, 0, 0, 0, 0, 0, 0, 0, 1, 0, 0]</td>\n",
       "      <td>[I'm actually surprised at how much I enjoyed ...</td>\n",
       "    </tr>\n",
       "    <tr>\n",
       "      <th>885360</th>\n",
       "      <td>3.67</td>\n",
       "      <td>romance</td>\n",
       "      <td>658351</td>\n",
       "      <td>Nothing is more seductive than temptation.\\nRe...</td>\n",
       "      <td>{'history, historical fiction, biography': 600...</td>\n",
       "      <td>1</td>\n",
       "      <td>480.0</td>\n",
       "      <td>9.0</td>\n",
       "      <td>5.0</td>\n",
       "      <td>2000.0</td>\n",
       "      <td>2</td>\n",
       "      <td>3950.0</td>\n",
       "      <td>9ac2bd80782fb527af31780e1b7bd149</td>\n",
       "      <td>[[0, OK, from the date and comments I've read ...</td>\n",
       "      <td>2011-12-28</td>\n",
       "      <td>Potent Pleasures (Pleasures, #1)</td>\n",
       "      <td>669857f1fadc9d247effababbbfbe334</td>\n",
       "      <td>14496.50</td>\n",
       "      <td>[0, 0, 0, 0, 0, 0, 0, 0, 0, 0, 0, 1, 1, 1, 1, ...</td>\n",
       "      <td>[OK, from the date and comments I've read abou...</td>\n",
       "    </tr>\n",
       "    <tr>\n",
       "      <th>802134</th>\n",
       "      <td>4.09</td>\n",
       "      <td>mystery, thriller, crime</td>\n",
       "      <td>25526965</td>\n",
       "      <td>The spectacular finale to the New York Times b...</td>\n",
       "      <td>{'fiction': 662, 'mystery, thriller, crime': 1...</td>\n",
       "      <td>1</td>\n",
       "      <td>432.0</td>\n",
       "      <td>7.0</td>\n",
       "      <td>6.0</td>\n",
       "      <td>2016.0</td>\n",
       "      <td>5</td>\n",
       "      <td>37011.0</td>\n",
       "      <td>a2107f3ae8c571ec5143e25a5039171c</td>\n",
       "      <td>[[1, The best one of the three book-series - p...</td>\n",
       "      <td>2016-09-19</td>\n",
       "      <td>End of Watch (Bill Hodges Trilogy, #3)</td>\n",
       "      <td>9eb4a3eddac3760571020b5a49136f87</td>\n",
       "      <td>151374.99</td>\n",
       "      <td>[1]</td>\n",
       "      <td>[The best one of the three book-series - partl...</td>\n",
       "    </tr>\n",
       "  </tbody>\n",
       "</table>\n",
       "</div>"
      ],
      "text/plain": [
       "         average_rating                best_genre   book_id  \\\n",
       "859048             3.92               young-adult  13517455   \n",
       "1079332            4.39           comics, graphic     13620   \n",
       "135626             4.28       fantasy, paranormal  16096824   \n",
       "885360             3.67                   romance    658351   \n",
       "802134             4.09  mystery, thriller, crime  25526965   \n",
       "\n",
       "                                               description  \\\n",
       "859048   Five years ago, Wren Connolly was shot three t...   \n",
       "1079332  Although they've collected plenty of evidence ...   \n",
       "135626   Feyre's survival rests upon her ability to hun...   \n",
       "885360   Nothing is more seductive than temptation.\\nRe...   \n",
       "802134   The spectacular finale to the New York Times b...   \n",
       "\n",
       "                                                    genres  has_spoiler  \\\n",
       "859048   {'young-adult': 1025, 'fiction': 633, 'romance...            1   \n",
       "1079332  {'comics, graphic': 854, 'fantasy, paranormal'...            1   \n",
       "135626   {'fantasy, paranormal': 10725, 'young-adult': ...            1   \n",
       "885360   {'history, historical fiction, biography': 600...            1   \n",
       "802134   {'fiction': 662, 'mystery, thriller, crime': 1...            1   \n",
       "\n",
       "         num_pages  publication_day  publication_month  publication_year  \\\n",
       "859048       365.0              7.0                5.0            2013.0   \n",
       "1079332      215.0              5.0                7.0            2006.0   \n",
       "135626       416.0              5.0                5.0            2015.0   \n",
       "885360       480.0              9.0                5.0            2000.0   \n",
       "802134       432.0              7.0                6.0            2016.0   \n",
       "\n",
       "         rating  ratings_count                         review_id  \\\n",
       "859048        5        23778.0  5b942fa92ca26d999063758098d36742   \n",
       "1079332       4        15486.0  e493d9ef493603381cd1241349c37381   \n",
       "135626        4       182581.0  b2b8f14ccadc67149f0bb4838398ff00   \n",
       "885360        2         3950.0  9ac2bd80782fb527af31780e1b7bd149   \n",
       "802134        5        37011.0  a2107f3ae8c571ec5143e25a5039171c   \n",
       "\n",
       "                                          review_sentences  timestamp  \\\n",
       "859048   [[0, Review originally posted at Step Into Fic... 2013-04-11   \n",
       "1079332  [[0, This is an interesting volume in which L ... 2016-12-01   \n",
       "135626   [[0, I'm actually surprised at how much I enjo... 2017-07-31   \n",
       "885360   [[0, OK, from the date and comments I've read ... 2011-12-28   \n",
       "802134   [[1, The best one of the three book-series - p... 2016-09-19   \n",
       "\n",
       "                                                     title  \\\n",
       "859048                                 Reboot (Reboot, #1)   \n",
       "1079332  Death Note, Vol. 6: Give-and-Take (Death Note,...   \n",
       "135626   A Court of Thorns and Roses (A Court of Thorns...   \n",
       "885360                    Potent Pleasures (Pleasures, #1)   \n",
       "802134              End of Watch (Bill Hodges Trilogy, #3)   \n",
       "\n",
       "                                  user_id  weighted_average_rating  \\\n",
       "859048   883e2e0ae9de4c2c46c0fb09d6025fdf                 93209.76   \n",
       "1079332  8811d75d39ef5d4dd88a3e209cf005b4                 67983.54   \n",
       "135626   e6bc867b9841ae70809e26fcbdd2517e                781446.68   \n",
       "885360   669857f1fadc9d247effababbbfbe334                 14496.50   \n",
       "802134   9eb4a3eddac3760571020b5a49136f87                151374.99   \n",
       "\n",
       "                                           sentence_labels  \\\n",
       "859048   [0, 0, 0, 0, 0, 0, 0, 0, 0, 0, 0, 0, 0, 0, 0, ...   \n",
       "1079332                                       [0, 1, 1, 0]   \n",
       "135626                [0, 0, 0, 0, 0, 0, 0, 0, 0, 1, 0, 0]   \n",
       "885360   [0, 0, 0, 0, 0, 0, 0, 0, 0, 0, 0, 1, 1, 1, 1, ...   \n",
       "802134                                                 [1]   \n",
       "\n",
       "                                            sentence_texts  \n",
       "859048   [Review originally posted at Step Into Fiction...  \n",
       "1079332  [This is an interesting volume in which L lear...  \n",
       "135626   [I'm actually surprised at how much I enjoyed ...  \n",
       "885360   [OK, from the date and comments I've read abou...  \n",
       "802134   [The best one of the three book-series - partl...  "
      ]
     },
     "execution_count": 85,
     "metadata": {},
     "output_type": "execute_result"
    }
   ],
   "source": [
    "df_spoilers.head()"
   ]
  },
  {
   "cell_type": "code",
   "execution_count": null,
   "metadata": {},
   "outputs": [],
   "source": []
  },
  {
   "cell_type": "markdown",
   "metadata": {},
   "source": [
    "## Spell checking using "
   ]
  },
  {
   "cell_type": "code",
   "execution_count": 10,
   "metadata": {},
   "outputs": [
    {
     "name": "stdout",
     "output_type": "stream",
     "text": [
      "Requirement already satisfied: pyspellchecker in /opt/anaconda3/envs/nf/lib/python3.6/site-packages (0.5.5)\n",
      "Requirement already up-to-date: symspellpy in /opt/anaconda3/envs/nf/lib/python3.6/site-packages (6.7.0)\n",
      "Requirement already satisfied, skipping upgrade: numpy>=1.13.1 in /opt/anaconda3/envs/nf/lib/python3.6/site-packages (from symspellpy) (1.16.6)\n"
     ]
    }
   ],
   "source": [
    "# install Sympspell and pyspellchecker\n",
    "! pip install pyspellchecker\n",
    "!python -m pip install -U symspellpy"
   ]
  },
  {
   "cell_type": "code",
   "execution_count": 11,
   "metadata": {},
   "outputs": [],
   "source": [
    "from spellchecker import SpellChecker\n",
    "from symspellpy import SymSpell, Verbosity\n",
    "import pkg_resources\n"
   ]
  },
  {
   "cell_type": "code",
   "execution_count": 86,
   "metadata": {},
   "outputs": [
    {
     "name": "stdout",
     "output_type": "stream",
     "text": [
      "hapenning\n",
      "{'hapenning'}\n"
     ]
    }
   ],
   "source": [
    "# this is just an example to see how Spellchecker works\n",
    "spell = SpellChecker()\n",
    "spell = SpellChecker(distance = 1)\n",
    "misspelled = spell.unknown(['something', 'is', 'hapenning', 'here'])\n",
    "for word in misspelled:\n",
    "    # Get the one `most likely` answer\n",
    "    print(spell.correction(word))\n",
    "    print(spell.candidates(word))\n"
   ]
  },
  {
   "cell_type": "code",
   "execution_count": 87,
   "metadata": {},
   "outputs": [
    {
     "data": {
      "text/plain": [
       "True"
      ]
     },
     "execution_count": 87,
     "metadata": {},
     "output_type": "execute_result"
    }
   ],
   "source": [
    "#example for symspell\n",
    "# get path to dictionary with typical word frequecies\n",
    "import pkg_resources\n",
    "dictionary_path = pkg_resources.resource_filename(\n",
    "    \"symspellpy\", \"frequency_dictionary_en_82_765.txt\")\n",
    "\n",
    "symspell = SymSpell()\n",
    "#load dictionary\n",
    "symspell.load_dictionary(dictionary_path, term_index=0, count_index=1)\n"
   ]
  },
  {
   "cell_type": "code",
   "execution_count": 14,
   "metadata": {},
   "outputs": [
    {
     "name": "stdout",
     "output_type": "stream",
     "text": [
      "happening, 1, 11920756\n"
     ]
    }
   ],
   "source": [
    "results = symspell.lookup('happenning', Verbosity.CLOSEST)\n",
    "for r in results:\n",
    "    print(r)"
   ]
  },
  {
   "cell_type": "code",
   "execution_count": null,
   "metadata": {},
   "outputs": [],
   "source": []
  },
  {
   "cell_type": "code",
   "execution_count": null,
   "metadata": {},
   "outputs": [],
   "source": []
  },
  {
   "cell_type": "code",
   "execution_count": 79,
   "metadata": {},
   "outputs": [],
   "source": [
    "test_sentences = [sen for sen in df_spoilers.sentence_texts]\n",
    "test_sentences2 = [sen for sublist in test_sentences for sen in sublist]"
   ]
  },
  {
   "cell_type": "code",
   "execution_count": 81,
   "metadata": {},
   "outputs": [
    {
     "data": {
      "text/plain": [
       "['Review originally posted at Step Into Fiction',\n",
       " 'I want to be rebooted.',\n",
       " \"I'm just not sure if I want to be a lower number or a higher number.\",\n",
       " \"I'm leaning toward a higher number just because they are a bit more kickass.\",\n",
       " 'The higher the number means the longer you were dead before you rebooted.',\n",
       " \"The longer you've been dead, the less human emotions you carry over with you.\",\n",
       " 'The more likely you are to stay alive but the easier you are for HARC to use you...',\n",
       " 'This book was so awesome.',\n",
       " \"I absolutely love Wren; everything about her from her lack of emotions, to her amazing fighting skills, to her twisted way of thinking (at times), to just how much she changes from the beginning of this book until the end but doesn't lose herself along the way.\",\n",
       " 'Reboot starts off with you following Wren on one of her assignments, arresting humans and returning them to HARC so they can receive their punishment, whatever that is.',\n",
       " \"Right away, you're drawn in to Wren and find yourself being curious to find out more of her backstory.\",\n",
       " 'Thankfully, we are not disappointed as we find out a good bit of her life as a human before she was shot, three times in the chest; but we also find out about her earlier years as Reboot.',\n",
       " 'Wren is someone who all the other Reboots respect and every human in Texas fears.',\n",
       " \"Things change when we're introduced to the newly rebooted recruits, if you will.\",\n",
       " 'Wren meets Callum, who is a 22, in the most unusual way .',\n",
       " 'by her foot almost stopping on his head.',\n",
       " 'Any reboot is who is 120 or above becomes a trainer and gets to train the newbies.',\n",
       " \"Wren gets first pick and she usually picks the highest numbered reboot but there's something about 22 that intrigues her.\",\n",
       " 'Especially when he asks, or rather begs her to choose him to train.',\n",
       " 'She shocks everyone when the time comes and she does choose him.']"
      ]
     },
     "execution_count": 81,
     "metadata": {},
     "output_type": "execute_result"
    }
   ],
   "source": [
    "test_sentences2[:20]"
   ]
  },
  {
   "cell_type": "code",
   "execution_count": 82,
   "metadata": {},
   "outputs": [],
   "source": [
    "# processing input text\n",
    "\n",
    "from unidecode import unidecode\n",
    "punctuation = '!\"#%$\\()*+,-./:;>=<?@[\\\\]^_{}|~'\n",
    "def preprocessing1(text):\n",
    "    # convert to lower\n",
    "    text = text.lower().replace(\"\\n\", \" \").replace(\"\\t\", \" \")\n",
    "    #remove punctation\n",
    "    text = text.translate(str.maketrans('', '', punctuation))\n",
    "    #remove non-ascii characters\n",
    "    text = unidecode(text)\n",
    "    return text"
   ]
  },
  {
   "cell_type": "code",
   "execution_count": 83,
   "metadata": {},
   "outputs": [],
   "source": [
    "test_sentences2 = [preprocessing1(s) for s in test_sentences2]"
   ]
  },
  {
   "cell_type": "code",
   "execution_count": 84,
   "metadata": {},
   "outputs": [
    {
     "data": {
      "text/plain": [
       "['review originally posted at step into fiction',\n",
       " 'i want to be rebooted',\n",
       " \"i'm just not sure if i want to be a lower number or a higher number\",\n",
       " \"i'm leaning toward a higher number just because they are a bit more kickass\",\n",
       " 'the higher the number means the longer you were dead before you rebooted',\n",
       " \"the longer you've been dead the less human emotions you carry over with you\",\n",
       " 'the more likely you are to stay alive but the easier you are for harc to use you',\n",
       " 'this book was so awesome',\n",
       " \"i absolutely love wren everything about her from her lack of emotions to her amazing fighting skills to her twisted way of thinking at times to just how much she changes from the beginning of this book until the end but doesn't lose herself along the way\",\n",
       " 'reboot starts off with you following wren on one of her assignments arresting humans and returning them to harc so they can receive their punishment whatever that is',\n",
       " \"right away you're drawn in to wren and find yourself being curious to find out more of her backstory\",\n",
       " 'thankfully we are not disappointed as we find out a good bit of her life as a human before she was shot three times in the chest but we also find out about her earlier years as reboot',\n",
       " 'wren is someone who all the other reboots respect and every human in texas fears',\n",
       " \"things change when we're introduced to the newly rebooted recruits if you will\",\n",
       " 'wren meets callum who is a 22 in the most unusual way ',\n",
       " 'by her foot almost stopping on his head',\n",
       " 'any reboot is who is 120 or above becomes a trainer and gets to train the newbies',\n",
       " \"wren gets first pick and she usually picks the highest numbered reboot but there's something about 22 that intrigues her\",\n",
       " 'especially when he asks or rather begs her to choose him to train',\n",
       " 'she shocks everyone when the time comes and she does choose him']"
      ]
     },
     "execution_count": 84,
     "metadata": {},
     "output_type": "execute_result"
    }
   ],
   "source": [
    "test_sentences2[:20]"
   ]
  },
  {
   "cell_type": "code",
   "execution_count": 77,
   "metadata": {},
   "outputs": [],
   "source": [
    "test_sentences2_misspelled = [spell.unknown(s.split(' ')) for s in test_sentences2]"
   ]
  },
  {
   "cell_type": "code",
   "execution_count": 89,
   "metadata": {},
   "outputs": [
    {
     "data": {
      "text/plain": [
       "[set(),\n",
       " {'rebooted'},\n",
       " {\"i'm\"},\n",
       " {\"i'm\", 'kickass'},\n",
       " {'rebooted'},\n",
       " {\"you've\"},\n",
       " {'harc'},\n",
       " set(),\n",
       " {\"doesn't\"},\n",
       " {'harc'},\n",
       " {'backstory', \"you're\"},\n",
       " set(),\n",
       " {'reboots'},\n",
       " {'rebooted', \"we're\"},\n",
       " {''},\n",
       " set(),\n",
       " {'newbies'},\n",
       " {\"there's\"},\n",
       " set(),\n",
       " set()]"
      ]
     },
     "execution_count": 89,
     "metadata": {},
     "output_type": "execute_result"
    }
   ],
   "source": [
    "test_sentences2_misspelled[:20]"
   ]
  },
  {
   "cell_type": "code",
   "execution_count": null,
   "metadata": {},
   "outputs": [],
   "source": []
  },
  {
   "cell_type": "code",
   "execution_count": null,
   "metadata": {},
   "outputs": [],
   "source": []
  },
  {
   "cell_type": "code",
   "execution_count": null,
   "metadata": {},
   "outputs": [],
   "source": []
  },
  {
   "cell_type": "code",
   "execution_count": null,
   "metadata": {},
   "outputs": [],
   "source": []
  },
  {
   "cell_type": "code",
   "execution_count": null,
   "metadata": {},
   "outputs": [],
   "source": [
    "#for word cloud"
   ]
  },
  {
   "cell_type": "code",
   "execution_count": 91,
   "metadata": {},
   "outputs": [],
   "source": [
    "sentences_wc = []\n",
    "labels = []\n",
    "for row in df_spoilers.review_sentences:\n",
    "    for label, text in row:\n",
    "        labels.append(label)\n",
    "        sentences_wc.append(text)"
   ]
  },
  {
   "cell_type": "code",
   "execution_count": 122,
   "metadata": {},
   "outputs": [
    {
     "name": "stderr",
     "output_type": "stream",
     "text": [
      "[nltk_data] Downloading package stopwords to\n",
      "[nltk_data]     /Users/gregor/nltk_data...\n",
      "[nltk_data]   Package stopwords is already up-to-date!\n",
      "[nltk_data] Downloading package punkt to /Users/gregor/nltk_data...\n",
      "[nltk_data]   Package punkt is already up-to-date!\n",
      "[nltk_data] Downloading package wordnet to /Users/gregor/nltk_data...\n",
      "[nltk_data]   Package wordnet is already up-to-date!\n"
     ]
    }
   ],
   "source": [
    "import nltk\n",
    "from nltk import word_tokenize\n",
    "from nltk.stem import WordNetLemmatizer \n",
    "\n",
    "nltk.download('stopwords')\n",
    "nltk.download('punkt')\n",
    "nltk.download('wordnet')\n",
    "\n",
    "stopset = nltk.corpus.stopwords.words('english') \n",
    "lemmatizer = WordNetLemmatizer() \n",
    "\n",
    "\n",
    "def preprocessing1(text):\n",
    "    # convert to lower\n",
    "    text = text.lower().replace(\"\\n\", \" \").replace(\"\\t\", \" \")\n",
    "    #remove punctation\n",
    "    text = text.translate(str.maketrans('', '', punctuation))\n",
    "    # remove stopwords\n",
    "    text = \" \".join([lemmatizer.lemmatize(i) for i in word_tokenize(text) if i not in stopset])\n",
    "    #remove non-ascii characters\n",
    "    text = unidecode(text)\n",
    "    return text"
   ]
  },
  {
   "cell_type": "code",
   "execution_count": 130,
   "metadata": {},
   "outputs": [
    {
     "name": "stderr",
     "output_type": "stream",
     "text": [
      "100%|██████████| 1500305/1500305 [05:13<00:00, 4791.13it/s]\n"
     ]
    }
   ],
   "source": [
    "sentences_wc_processed = [preprocessing1(sen) for sen in tqdm(sentences_wc)]"
   ]
  },
  {
   "cell_type": "code",
   "execution_count": 133,
   "metadata": {},
   "outputs": [],
   "source": [
    "df_spoiler_text = pd.DataFrame({\n",
    "    'sentences': sentences_wc,\n",
    "    'sentences_processed':sentences_wc_processed,\n",
    "    'labels':labels\n",
    "    \n",
    "})"
   ]
  },
  {
   "cell_type": "code",
   "execution_count": 157,
   "metadata": {},
   "outputs": [],
   "source": [
    "#text_no_spoiler = \" \".join(list(df_spoiler_text.sentences_processed[df_spoiler_text.labels  == 0]))\n",
    "text_spoiler = \" \".join(df_spoiler_text.sentences_processed[df_spoiler_text.labels  == 1])"
   ]
  },
  {
   "cell_type": "code",
   "execution_count": 161,
   "metadata": {},
   "outputs": [],
   "source": [
    "wordcloud = WordCloud(max_font_size=50, max_words=100, background_color=\"white\")"
   ]
  },
  {
   "cell_type": "code",
   "execution_count": 162,
   "metadata": {},
   "outputs": [
    {
     "data": {
      "image/png": "[encoded data removed]",
      "text/plain": [
       "<Figure size 432x288 with 1 Axes>"
      ]
     },
     "metadata": {
      "needs_background": "light"
     },
     "output_type": "display_data"
    }
   ],
   "source": [
    "wordcloud_s = wordcloud.generate(text_spoiler)\n",
    "plt.imshow(wordcloud_s, interpolation='bilinear')\n",
    "plt.axis(\"off\")\n",
    "plt.show()"
   ]
  },
  {
   "cell_type": "code",
   "execution_count": 156,
   "metadata": {},
   "outputs": [],
   "source": [
    "wordcloud_no_s = WordCloud().generate(text_no_spoiler)"
   ]
  },
  {
   "cell_type": "code",
   "execution_count": 163,
   "metadata": {},
   "outputs": [
    {
     "data": {
      "image/png": "[encoded data removed]",
      "text/plain": [
       "<Figure size 432x288 with 1 Axes>"
      ]
     },
     "metadata": {
      "needs_background": "light"
     },
     "output_type": "display_data"
    }
   ],
   "source": [
    "wordcloud_no_s = wordcloud.generate(text_no_spoiler)\n",
    "plt.imshow(wordcloud_no_s, interpolation='bilinear')\n",
    "plt.axis(\"off\")\n",
    "plt.show()"
   ]
  },
  {
   "cell_type": "code",
   "execution_count": 160,
   "metadata": {},
   "outputs": [
    {
     "data": {
      "text/plain": [
       "array([[[ 0,  0,  0],\n",
       "        [ 0,  0,  0],\n",
       "        [ 0,  0,  0],\n",
       "        ...,\n",
       "        [ 0,  0,  0],\n",
       "        [ 0,  0,  0],\n",
       "        [ 0,  0,  0]],\n",
       "\n",
       "       [[ 0,  0,  0],\n",
       "        [ 0,  0,  0],\n",
       "        [ 0,  0,  0],\n",
       "        ...,\n",
       "        [ 0,  0,  0],\n",
       "        [ 0,  0,  0],\n",
       "        [ 0,  0,  0]],\n",
       "\n",
       "       [[ 0,  0,  0],\n",
       "        [ 1,  6,  5],\n",
       "        [ 4, 16, 16],\n",
       "        ...,\n",
       "        [ 0,  0,  0],\n",
       "        [ 0,  0,  0],\n",
       "        [ 0,  0,  0]],\n",
       "\n",
       "       ...,\n",
       "\n",
       "       [[ 0,  0,  0],\n",
       "        [ 0,  0,  0],\n",
       "        [ 0,  0,  0],\n",
       "        ...,\n",
       "        [ 0,  0,  0],\n",
       "        [ 0,  0,  0],\n",
       "        [ 0,  0,  0]],\n",
       "\n",
       "       [[ 0,  0,  0],\n",
       "        [ 0,  0,  0],\n",
       "        [ 0,  0,  0],\n",
       "        ...,\n",
       "        [ 0,  0,  0],\n",
       "        [ 0,  0,  0],\n",
       "        [ 0,  0,  0]],\n",
       "\n",
       "       [[ 0,  0,  0],\n",
       "        [ 0,  0,  0],\n",
       "        [ 0,  0,  0],\n",
       "        ...,\n",
       "        [ 0,  0,  0],\n",
       "        [ 0,  0,  0],\n",
       "        [ 0,  0,  0]]], dtype=uint8)"
      ]
     },
     "execution_count": 160,
     "metadata": {},
     "output_type": "execute_result"
    }
   ],
   "source": []
  },
  {
   "cell_type": "code",
   "execution_count": null,
   "metadata": {},
   "outputs": [],
   "source": [
    "sen = df_spoiler.review_sentences"
   ]
  },
  {
   "cell_type": "code",
   "execution_count": null,
   "metadata": {},
   "outputs": [],
   "source": [
    "length=[]\n",
    "for s in sen:\n",
    "    length.append(len(s))"
   ]
  },
  {
   "cell_type": "code",
   "execution_count": null,
   "metadata": {},
   "outputs": [],
   "source": [
    "len(length)"
   ]
  },
  {
   "cell_type": "code",
   "execution_count": null,
   "metadata": {},
   "outputs": [],
   "source": [
    "plt.hist(length, bins = 30)\n"
   ]
  },
  {
   "cell_type": "code",
   "execution_count": null,
   "metadata": {},
   "outputs": [],
   "source": [
    "sen2 = df_no_spoiler.review_sentences\n",
    "length2=[]\n",
    "for s in sen2:\n",
    "    length2.append(len(s))\n",
    "plt.hist(length2, bins = 30)"
   ]
  },
  {
   "cell_type": "code",
   "execution_count": null,
   "metadata": {},
   "outputs": [],
   "source": [
    "print(np.mean(length))\n",
    "print(np.mean(length2))"
   ]
  },
  {
   "cell_type": "code",
   "execution_count": null,
   "metadata": {},
   "outputs": [],
   "source": []
  }
 ],
 "metadata": {
  "kernelspec": {
   "display_name": "Python 3",
   "language": "python",
   "name": "python3"
  },
  "language_info": {
   "codemirror_mode": {
    "name": "ipython",
    "version": 3
   },
   "file_extension": ".py",
   "mimetype": "text/x-python",
   "name": "python",
   "nbconvert_exporter": "python",
   "pygments_lexer": "ipython3",
   "version": "3.6.10"
  }
 },
 "nbformat": 4,
 "nbformat_minor": 4
}

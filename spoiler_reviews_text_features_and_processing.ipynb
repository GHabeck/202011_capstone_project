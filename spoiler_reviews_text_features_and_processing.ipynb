{
 "cells": [
  {
   "cell_type": "markdown",
   "metadata": {},
   "source": [
    "# Spoiler reviews-Text processing and text feature importance"
   ]
  },
  {
   "cell_type": "markdown",
   "metadata": {},
   "source": [
    "__Author: Gregor Habeck with contributions from Julia Schaefer__"
   ]
  },
  {
   "cell_type": "code",
   "execution_count": 1,
   "metadata": {},
   "outputs": [],
   "source": [
    "import time\n",
    "from tqdm import tqdm\n",
    "import json\n",
    "import pandas as pd\n",
    "import numpy as np\n",
    "from collections import defaultdict, Counter\n",
    "import swifter\n",
    "\n",
    "import matplotlib.pyplot as plt\n",
    "import seaborn as sns"
   ]
  },
  {
   "cell_type": "code",
   "execution_count": 2,
   "metadata": {},
   "outputs": [],
   "source": [
    "file = 'training_set.json'"
   ]
  },
  {
   "cell_type": "code",
   "execution_count": 3,
   "metadata": {},
   "outputs": [
    {
     "name": "stdout",
     "output_type": "stream",
     "text": [
      "00:03:54\n"
     ]
    }
   ],
   "source": [
    "# to import the full training dataset\n",
    "t0 = time.time()\n",
    "df_train = pd.read_json('training_set.json', orient = 'index')\n",
    "elapsed_time = time.time()-t0\n",
    "print(time.strftime(\"%H:%M:%S\", time.gmtime(elapsed_time)))"
   ]
  },
  {
   "cell_type": "code",
   "execution_count": null,
   "metadata": {},
   "outputs": [],
   "source": []
  },
  {
   "cell_type": "code",
   "execution_count": 5,
   "metadata": {},
   "outputs": [
    {
     "data": {
      "text/plain": [
       "Index(['average_rating', 'best_genre', 'book_id', 'description', 'genres',\n",
       "       'has_spoiler', 'num_pages', 'publication_day', 'publication_month',\n",
       "       'publication_year', 'rating', 'ratings_count', 'review_id',\n",
       "       'review_sentences', 'timestamp', 'title', 'user_id',\n",
       "       'weighted_average_rating'],\n",
       "      dtype='object')"
      ]
     },
     "execution_count": 5,
     "metadata": {},
     "output_type": "execute_result"
    }
   ],
   "source": [
    "df_train.columns"
   ]
  },
  {
   "cell_type": "code",
   "execution_count": 6,
   "metadata": {},
   "outputs": [],
   "source": [
    "df_train_text = df_train.drop(['average_rating', 'best_genre','description', 'genres',\n",
    "                               'num_pages', 'publication_day', 'publication_month',\n",
    "                               'publication_year', 'rating', 'ratings_count', 'review_id',\n",
    "                               'timestamp', 'title', 'user_id','weighted_average_rating'\n",
    "                              ],\n",
    "                             axis = 1)"
   ]
  },
  {
   "cell_type": "code",
   "execution_count": 7,
   "metadata": {},
   "outputs": [
    {
     "data": {
      "text/html": [
       "<div>\n",
       "<style scoped>\n",
       "    .dataframe tbody tr th:only-of-type {\n",
       "        vertical-align: middle;\n",
       "    }\n",
       "\n",
       "    .dataframe tbody tr th {\n",
       "        vertical-align: top;\n",
       "    }\n",
       "\n",
       "    .dataframe thead th {\n",
       "        text-align: right;\n",
       "    }\n",
       "</style>\n",
       "<table border=\"1\" class=\"dataframe\">\n",
       "  <thead>\n",
       "    <tr style=\"text-align: right;\">\n",
       "      <th></th>\n",
       "      <th>book_id</th>\n",
       "      <th>has_spoiler</th>\n",
       "      <th>review_sentences</th>\n",
       "    </tr>\n",
       "  </thead>\n",
       "  <tbody>\n",
       "    <tr>\n",
       "      <th>147051</th>\n",
       "      <td>11735983</td>\n",
       "      <td>0</td>\n",
       "      <td>[[0, Read this review on my blog!], [0, http:/...</td>\n",
       "    </tr>\n",
       "    <tr>\n",
       "      <th>1322675</th>\n",
       "      <td>18803672</td>\n",
       "      <td>0</td>\n",
       "      <td>[[0, I was writing a comment that I realized w...</td>\n",
       "    </tr>\n",
       "    <tr>\n",
       "      <th>1221889</th>\n",
       "      <td>342667</td>\n",
       "      <td>0</td>\n",
       "      <td>[[0, Charlie is turning 30 and her younger sis...</td>\n",
       "    </tr>\n",
       "    <tr>\n",
       "      <th>1008531</th>\n",
       "      <td>30422494</td>\n",
       "      <td>0</td>\n",
       "      <td>[[0, 3.5 is more like it even though this has ...</td>\n",
       "    </tr>\n",
       "    <tr>\n",
       "      <th>859048</th>\n",
       "      <td>13517455</td>\n",
       "      <td>1</td>\n",
       "      <td>[[0, Review originally posted at Step Into Fic...</td>\n",
       "    </tr>\n",
       "  </tbody>\n",
       "</table>\n",
       "</div>"
      ],
      "text/plain": [
       "          book_id  has_spoiler  \\\n",
       "147051   11735983            0   \n",
       "1322675  18803672            0   \n",
       "1221889    342667            0   \n",
       "1008531  30422494            0   \n",
       "859048   13517455            1   \n",
       "\n",
       "                                          review_sentences  \n",
       "147051   [[0, Read this review on my blog!], [0, http:/...  \n",
       "1322675  [[0, I was writing a comment that I realized w...  \n",
       "1221889  [[0, Charlie is turning 30 and her younger sis...  \n",
       "1008531  [[0, 3.5 is more like it even though this has ...  \n",
       "859048   [[0, Review originally posted at Step Into Fic...  "
      ]
     },
     "execution_count": 7,
     "metadata": {},
     "output_type": "execute_result"
    }
   ],
   "source": [
    "df_train_text.head()"
   ]
  },
  {
   "cell_type": "code",
   "execution_count": 9,
   "metadata": {},
   "outputs": [],
   "source": [
    "# functions to isolate labels and text from review_sentences column\n",
    "def get_sentence_label(x):\n",
    "    return [label for label, text in x]\n",
    "def get_sentence_text(x):\n",
    "    return [text for label, text in x]\n"
   ]
  },
  {
   "cell_type": "code",
   "execution_count": 131,
   "metadata": {},
   "outputs": [
    {
     "data": {
      "application/vnd.jupyter.widget-view+json": {
       "model_id": "7f5f406bc00d4ac7a0182b9d6cbef859",
       "version_major": 2,
       "version_minor": 0
      },
      "text/plain": [
       "HBox(children=(FloatProgress(value=0.0, description='Pandas Apply', max=964623.0, style=ProgressStyle(descript…"
      ]
     },
     "metadata": {},
     "output_type": "display_data"
    },
    {
     "name": "stdout",
     "output_type": "stream",
     "text": [
      "\n"
     ]
    }
   ],
   "source": [
    "#df_train_text['sentence_labels'] = df_train_text.review_sentences.swifter.apply(lambda x:get_sentence_label(x))\n",
    "df_train_text['sentence_text'] = df_train_text.review_sentences.swifter.apply(lambda x:get_sentence_text(x))"
   ]
  },
  {
   "cell_type": "code",
   "execution_count": 132,
   "metadata": {},
   "outputs": [
    {
     "data": {
      "text/html": [
       "<div>\n",
       "<style scoped>\n",
       "    .dataframe tbody tr th:only-of-type {\n",
       "        vertical-align: middle;\n",
       "    }\n",
       "\n",
       "    .dataframe tbody tr th {\n",
       "        vertical-align: top;\n",
       "    }\n",
       "\n",
       "    .dataframe thead th {\n",
       "        text-align: right;\n",
       "    }\n",
       "</style>\n",
       "<table border=\"1\" class=\"dataframe\">\n",
       "  <thead>\n",
       "    <tr style=\"text-align: right;\">\n",
       "      <th></th>\n",
       "      <th>book_id</th>\n",
       "      <th>has_spoiler</th>\n",
       "      <th>review_sentences</th>\n",
       "      <th>sentence_text_spellchecked</th>\n",
       "      <th>sentence_text</th>\n",
       "    </tr>\n",
       "  </thead>\n",
       "  <tbody>\n",
       "    <tr>\n",
       "      <th>147051</th>\n",
       "      <td>11735983</td>\n",
       "      <td>0</td>\n",
       "      <td>[[0, Read this review on my blog!], [0, http:/...</td>\n",
       "      <td>[read this review on my blog, , definitely bet...</td>\n",
       "      <td>[Read this review on my blog!, http://roseshad...</td>\n",
       "    </tr>\n",
       "    <tr>\n",
       "      <th>1322675</th>\n",
       "      <td>18803672</td>\n",
       "      <td>0</td>\n",
       "      <td>[[0, I was writing a comment that I realized w...</td>\n",
       "      <td>[i was writing a comment that i realized would...</td>\n",
       "      <td>[I was writing a comment that I realized would...</td>\n",
       "    </tr>\n",
       "    <tr>\n",
       "      <th>1221889</th>\n",
       "      <td>342667</td>\n",
       "      <td>0</td>\n",
       "      <td>[[0, Charlie is turning 30 and her younger sis...</td>\n",
       "      <td>[charlie is turning and her younger sister is ...</td>\n",
       "      <td>[Charlie is turning 30 and her younger sister ...</td>\n",
       "    </tr>\n",
       "    <tr>\n",
       "      <th>1008531</th>\n",
       "      <td>30422494</td>\n",
       "      <td>0</td>\n",
       "      <td>[[0, 3.5 is more like it even though this has ...</td>\n",
       "      <td>[is more like it even though this has got to b...</td>\n",
       "      <td>[3.5 is more like it even though this has got ...</td>\n",
       "    </tr>\n",
       "    <tr>\n",
       "      <th>859048</th>\n",
       "      <td>13517455</td>\n",
       "      <td>1</td>\n",
       "      <td>[[0, Review originally posted at Step Into Fic...</td>\n",
       "      <td>[review originally posted at step into fiction...</td>\n",
       "      <td>[Review originally posted at Step Into Fiction...</td>\n",
       "    </tr>\n",
       "  </tbody>\n",
       "</table>\n",
       "</div>"
      ],
      "text/plain": [
       "          book_id  has_spoiler  \\\n",
       "147051   11735983            0   \n",
       "1322675  18803672            0   \n",
       "1221889    342667            0   \n",
       "1008531  30422494            0   \n",
       "859048   13517455            1   \n",
       "\n",
       "                                          review_sentences  \\\n",
       "147051   [[0, Read this review on my blog!], [0, http:/...   \n",
       "1322675  [[0, I was writing a comment that I realized w...   \n",
       "1221889  [[0, Charlie is turning 30 and her younger sis...   \n",
       "1008531  [[0, 3.5 is more like it even though this has ...   \n",
       "859048   [[0, Review originally posted at Step Into Fic...   \n",
       "\n",
       "                                sentence_text_spellchecked  \\\n",
       "147051   [read this review on my blog, , definitely bet...   \n",
       "1322675  [i was writing a comment that i realized would...   \n",
       "1221889  [charlie is turning and her younger sister is ...   \n",
       "1008531  [is more like it even though this has got to b...   \n",
       "859048   [review originally posted at step into fiction...   \n",
       "\n",
       "                                             sentence_text  \n",
       "147051   [Read this review on my blog!, http://roseshad...  \n",
       "1322675  [I was writing a comment that I realized would...  \n",
       "1221889  [Charlie is turning 30 and her younger sister ...  \n",
       "1008531  [3.5 is more like it even though this has got ...  \n",
       "859048   [Review originally posted at Step Into Fiction...  "
      ]
     },
     "execution_count": 132,
     "metadata": {},
     "output_type": "execute_result"
    }
   ],
   "source": [
    "df_train_text.head()"
   ]
  },
  {
   "cell_type": "code",
   "execution_count": 26,
   "metadata": {},
   "outputs": [],
   "source": [
    "df_train_text = df_train_text.drop(['sentence_labels'], axis = 1)"
   ]
  },
  {
   "cell_type": "code",
   "execution_count": 134,
   "metadata": {},
   "outputs": [
    {
     "name": "stdout",
     "output_type": "stream",
     "text": [
      "Requirement already satisfied: langdetect in /opt/anaconda3/envs/nf/lib/python3.6/site-packages (1.0.8)\n",
      "Requirement already satisfied: six in /opt/anaconda3/envs/nf/lib/python3.6/site-packages (from langdetect) (1.15.0)\n",
      "Requirement already satisfied: textblob in /opt/anaconda3/envs/nf/lib/python3.6/site-packages (0.15.3)\n",
      "Requirement already satisfied: nltk>=3.1 in /opt/anaconda3/envs/nf/lib/python3.6/site-packages (from textblob) (3.5)\n",
      "Requirement already satisfied: tqdm in /opt/anaconda3/envs/nf/lib/python3.6/site-packages (from nltk>=3.1->textblob) (4.48.2)\n",
      "Requirement already satisfied: joblib in /opt/anaconda3/envs/nf/lib/python3.6/site-packages (from nltk>=3.1->textblob) (0.16.0)\n",
      "Requirement already satisfied: click in /opt/anaconda3/envs/nf/lib/python3.6/site-packages (from nltk>=3.1->textblob) (7.1.2)\n",
      "Requirement already satisfied: regex in /opt/anaconda3/envs/nf/lib/python3.6/site-packages (from nltk>=3.1->textblob) (2020.10.28)\n"
     ]
    }
   ],
   "source": [
    "#confirm that reviwes are written in english:\n",
    "!pip install langdetect\n",
    "from langdetect import detect, DetectorFactory\n",
    "\n",
    "DetectorFactory.seed = 42\n",
    "\n",
    "def detect_review_language(text):\n",
    "    try:\n",
    "        text = ' '.join(text)\n",
    "        return detect(text)\n",
    "    except:\n",
    "        return None\n",
    "\n",
    "!pip install textblob\n",
    "from textblob import TextBlob\n"
   ]
  },
  {
   "cell_type": "code",
   "execution_count": 135,
   "metadata": {},
   "outputs": [
    {
     "data": {
      "application/vnd.jupyter.widget-view+json": {
       "model_id": "a79c418346a144919a68d63e987f8fd5",
       "version_major": 2,
       "version_minor": 0
      },
      "text/plain": [
       "HBox(children=(FloatProgress(value=0.0, description='Pandas Apply', max=964623.0, style=ProgressStyle(descript…"
      ]
     },
     "metadata": {},
     "output_type": "display_data"
    },
    {
     "name": "stdout",
     "output_type": "stream",
     "text": [
      "\n"
     ]
    }
   ],
   "source": [
    "df_train_text['review_language_1'] = df_train_text['sentence_text'].swifter.apply(lambda x:detect_review_language(x))\n",
    "#df_train_text['review_language_2'] = df_train_text['sentence_text'].swifter.apply(lambda x:textblob_detection(x))\n"
   ]
  },
  {
   "cell_type": "code",
   "execution_count": 14,
   "metadata": {},
   "outputs": [
    {
     "data": {
      "text/plain": [
       "array(['en', 'nl', 'it', 'cy', 'af', 'de', 'ro', 'sw', 'sl', 'so', 'fr',\n",
       "       'no', 'tl', 'et', 'sv', 'es', 'da', 'pl', 'ca', 'hr', 'sk', 'id',\n",
       "       'pt', 'fi', 'vi', 'cs', 'hu', 'tr', 'sq', 'lt'], dtype=object)"
      ]
     },
     "execution_count": 14,
     "metadata": {},
     "output_type": "execute_result"
    }
   ],
   "source": [
    "df_train_text.review_language_1.unique()"
   ]
  },
  {
   "cell_type": "code",
   "execution_count": 136,
   "metadata": {},
   "outputs": [
    {
     "data": {
      "application/vnd.jupyter.widget-view+json": {
       "model_id": "17996f7737d547cbbb8077d72d8d0235",
       "version_major": 2,
       "version_minor": 0
      },
      "text/plain": [
       "HBox(children=(FloatProgress(value=0.0, description='Pandas Apply', max=964623.0, style=ProgressStyle(descript…"
      ]
     },
     "metadata": {},
     "output_type": "display_data"
    },
    {
     "name": "stdout",
     "output_type": "stream",
     "text": [
      "\n"
     ]
    }
   ],
   "source": [
    "def detect_review_language_start(text):\n",
    "    try:\n",
    "        text = ' '.join(text[:3])\n",
    "        return detect(text)\n",
    "    except:\n",
    "        return None\n",
    "    \n",
    "df_train_text['review_language_start'] = df_train_text['sentence_text'].swifter.apply(lambda x:detect_review_language_start(x))\n"
   ]
  },
  {
   "cell_type": "code",
   "execution_count": 164,
   "metadata": {},
   "outputs": [
    {
     "data": {
      "text/plain": [
       "(array(['af', 'ca', 'cs', 'cy', 'da', 'de', 'en', 'es', 'et', 'fi', 'fr',\n",
       "        'hr', 'hu', 'id', 'it', 'lt', 'nl', 'no', 'pl', 'pt', 'ro', 'sk',\n",
       "        'sl', 'so', 'sq', 'sv', 'sw', 'tl', 'tr', 'vi'], dtype=object),\n",
       " array([   165,     15,      4,     47,     51,     80, 963648,     27,\n",
       "            31,      7,     52,      5,      5,     26,     85,      2,\n",
       "            69,     59,     13,     12,     45,      7,     11,     43,\n",
       "             8,     34,      7,     49,      4,     12]))"
      ]
     },
     "execution_count": 164,
     "metadata": {},
     "output_type": "execute_result"
    }
   ],
   "source": [
    "lang_all"
   ]
  },
  {
   "cell_type": "code",
   "execution_count": 165,
   "metadata": {},
   "outputs": [
    {
     "data": {
      "text/plain": [
       "(array(['af', 'ca', 'cs', 'cy', 'da', 'de', 'en', 'es', 'et', 'fi', 'fr',\n",
       "        'hr', 'hu', 'id', 'it', 'lt', 'lv', 'nl', 'no', 'pl', 'pt', 'ro',\n",
       "        'sk', 'sl', 'so', 'sq', 'sv', 'sw', 'tl', 'tr', 'vi'], dtype=object),\n",
       " array([   444,     74,     11,    400,    132,    915, 959708,    127,\n",
       "            78,     15,    231,     32,     33,    130,    193,      5,\n",
       "             2,    214,    430,    285,    133,    114,     18,     71,\n",
       "           262,     19,    207,     36,    186,     37,     81]))"
      ]
     },
     "execution_count": 165,
     "metadata": {},
     "output_type": "execute_result"
    }
   ],
   "source": [
    "lang_start"
   ]
  },
  {
   "cell_type": "code",
   "execution_count": 175,
   "metadata": {},
   "outputs": [],
   "source": [
    "language_dict = {'af': 'Afrikaans',\n",
    "                 'ca': 'Catalan',\n",
    "                 'cs': 'Czech',\n",
    "                 'cy': 'Welsh',\n",
    "                 'da': 'Danish',\n",
    "                 'de': 'German',\n",
    "                 'en': 'English',\n",
    "                 'es': 'Spanish',\n",
    "                 'et': 'Estonina',\n",
    "                 'fi': 'Finnish',\n",
    "                 'fr': 'French',\n",
    "                 'hr': 'Croation',\n",
    "                 'hu': 'Hungarian',\n",
    "                 'id': 'Indonesian',\n",
    "                 'it': 'Italian',\n",
    "                 'lt': 'Lithuanina',\n",
    "                 'lv': 'Latvian',\n",
    "                 'nl': 'Dutch',\n",
    "                 'no': 'Norwegian',\n",
    "                 'pl': 'Polish',\n",
    "                 'pt': 'Portuguese',\n",
    "                 'ro': 'Romanina',\n",
    "                 'sk': 'Slovak',\n",
    "                 'sl': 'Slovenian',\n",
    "                 'so': 'Somali',\n",
    "                 'sq': 'Albanian',\n",
    "                 'sv': 'Swedish',\n",
    "                 'sw': 'Swahili',\n",
    "                 'tl': 'Tagalog',\n",
    "                 'tr': 'Turkish',\n",
    "                 'vi': 'Vietnamese'\n",
    "                 }"
   ]
  },
  {
   "cell_type": "code",
   "execution_count": 305,
   "metadata": {},
   "outputs": [],
   "source": [
    "lang_all = np.unique(df_train_text['review_language_1'], return_counts=True)\n",
    "lang_all_country = [language_dict[abreviation] for abreviation in list(lang_all[0])]\n",
    "lang_start_country = [language_dict[abreviation] for abreviation in list(lang_start[0])]"
   ]
  },
  {
   "cell_type": "code",
   "execution_count": 306,
   "metadata": {},
   "outputs": [
    {
     "data": {
      "image/png": "[encoded data removed]",
      "text/plain": [
       "<Figure size 1080x720 with 2 Axes>"
      ]
     },
     "metadata": {
      "needs_background": "light"
     },
     "output_type": "display_data"
    }
   ],
   "source": [
    "fig, (ax1, ax2)= plt.subplots(1,2, figsize=(15,10))\n",
    "sns.barplot(ax = ax1, x=lang_all[1], y=lang_all_country, palette = 'BrBG' )\n",
    "ax1.set_xscale('log')\n",
    "sns.barplot(ax = ax2, x=lang_start[1], y=lang_start_country, palette = 'BrBG' )\n",
    "ax2.set_xscale('log')\n"
   ]
  },
  {
   "cell_type": "code",
   "execution_count": 394,
   "metadata": {},
   "outputs": [
    {
     "data": {
      "text/plain": [
       "Text(0, 0.5, '% of reviews (log)')"
      ]
     },
     "execution_count": 394,
     "metadata": {},
     "output_type": "execute_result"
    },
    {
     "data": {
      "image/png": "[encoded data removed]",
      "text/plain": [
       "<Figure size 432x288 with 1 Axes>"
      ]
     },
     "metadata": {
      "needs_background": "light"
     },
     "output_type": "display_data"
    }
   ],
   "source": [
    "sum_all = np.sum(lang_start[1])\n",
    "english = np.max(lang_start[1])\n",
    "rest = sum_all-english\n",
    "labels = ['English', 'other']\n",
    "values = [english/sum_all*100, rest*100/sum_all]\n",
    "ax = sns.barplot(x = labels, y = values)\n",
    "ax.set_yscale('log')\n",
    "ax.set_title('Distribution of review languages\\n', fontsize = 20)\n",
    "ax.set_xlabel('predicted language', fontsize = 15)\n",
    "ax.set_ylabel( '% of reviews (log)', fontsize = 15)"
   ]
  },
  {
   "cell_type": "code",
   "execution_count": null,
   "metadata": {},
   "outputs": [],
   "source": []
  },
  {
   "cell_type": "code",
   "execution_count": 375,
   "metadata": {},
   "outputs": [
    {
     "data": {
      "text/html": [
       "<div>\n",
       "<style scoped>\n",
       "    .dataframe tbody tr th:only-of-type {\n",
       "        vertical-align: middle;\n",
       "    }\n",
       "\n",
       "    .dataframe tbody tr th {\n",
       "        vertical-align: top;\n",
       "    }\n",
       "\n",
       "    .dataframe thead th {\n",
       "        text-align: right;\n",
       "    }\n",
       "</style>\n",
       "<table border=\"1\" class=\"dataframe\">\n",
       "  <thead>\n",
       "    <tr style=\"text-align: right;\">\n",
       "      <th></th>\n",
       "      <th>book_id</th>\n",
       "      <th>has_spoiler</th>\n",
       "      <th>review_sentences</th>\n",
       "      <th>sentence_text_spellchecked</th>\n",
       "      <th>sentence_text</th>\n",
       "      <th>review_language_1</th>\n",
       "      <th>review_language_start</th>\n",
       "      <th>spoiler_in_text</th>\n",
       "      <th>lan_unclear</th>\n",
       "    </tr>\n",
       "  </thead>\n",
       "  <tbody>\n",
       "    <tr>\n",
       "      <th>77919</th>\n",
       "      <td>7260188</td>\n",
       "      <td>0</td>\n",
       "      <td>[[0, ** spoiler alert **], [0, Bueno fue un fi...</td>\n",
       "      <td>[spoiler alert, bueno fun un final de die to a...</td>\n",
       "      <td>[** spoiler alert **, Bueno fue un final de ci...</td>\n",
       "      <td>es</td>\n",
       "      <td>es</td>\n",
       "      <td>1</td>\n",
       "      <td>False</td>\n",
       "    </tr>\n",
       "    <tr>\n",
       "      <th>1046929</th>\n",
       "      <td>10380227</td>\n",
       "      <td>0</td>\n",
       "      <td>[[0, Awsome!!!], [0, i really relly love it!!]...</td>\n",
       "      <td>[awesome, i really reply love it, seht is so k...</td>\n",
       "      <td>[Awsome!!!, i really relly love it!!, Seht is ...</td>\n",
       "      <td>es</td>\n",
       "      <td>en</td>\n",
       "      <td>0</td>\n",
       "      <td>True</td>\n",
       "    </tr>\n",
       "    <tr>\n",
       "      <th>847263</th>\n",
       "      <td>23688792</td>\n",
       "      <td>0</td>\n",
       "      <td>[[0, Fun train read!]]</td>\n",
       "      <td>[fun train read]</td>\n",
       "      <td>[Fun train read!]</td>\n",
       "      <td>es</td>\n",
       "      <td>es</td>\n",
       "      <td>0</td>\n",
       "      <td>False</td>\n",
       "    </tr>\n",
       "    <tr>\n",
       "      <th>1336307</th>\n",
       "      <td>53447</td>\n",
       "      <td>1</td>\n",
       "      <td>[[0, For practice I decided that I'd write thi...</td>\n",
       "      <td>[for practice i decided that i would write thi...</td>\n",
       "      <td>[For practice I decided that I'd write this re...</td>\n",
       "      <td>es</td>\n",
       "      <td>en</td>\n",
       "      <td>1</td>\n",
       "      <td>True</td>\n",
       "    </tr>\n",
       "    <tr>\n",
       "      <th>1196218</th>\n",
       "      <td>22929092</td>\n",
       "      <td>0</td>\n",
       "      <td>[[0, Can I have a sequel please?]]</td>\n",
       "      <td>[can i have a sequel please]</td>\n",
       "      <td>[Can I have a sequel please?]</td>\n",
       "      <td>es</td>\n",
       "      <td>es</td>\n",
       "      <td>0</td>\n",
       "      <td>False</td>\n",
       "    </tr>\n",
       "    <tr>\n",
       "      <th>596079</th>\n",
       "      <td>19358975</td>\n",
       "      <td>0</td>\n",
       "      <td>[[0, Gracias Patrick Rothfuss por tu recomenda...</td>\n",
       "      <td>[garcias patrick rothfuss for tu recommend act...</td>\n",
       "      <td>[Gracias Patrick Rothfuss por tu recomendacion...</td>\n",
       "      <td>es</td>\n",
       "      <td>es</td>\n",
       "      <td>0</td>\n",
       "      <td>False</td>\n",
       "    </tr>\n",
       "    <tr>\n",
       "      <th>231317</th>\n",
       "      <td>930</td>\n",
       "      <td>0</td>\n",
       "      <td>[[0, An enjoyable enough read.]]</td>\n",
       "      <td>[an enjoyable enough read]</td>\n",
       "      <td>[An enjoyable enough read.]</td>\n",
       "      <td>es</td>\n",
       "      <td>es</td>\n",
       "      <td>0</td>\n",
       "      <td>False</td>\n",
       "    </tr>\n",
       "    <tr>\n",
       "      <th>621343</th>\n",
       "      <td>26148181</td>\n",
       "      <td>0</td>\n",
       "      <td>[[0, And then we end--we end where we started....</td>\n",
       "      <td>[and then we end we end where we started, just...</td>\n",
       "      <td>[And then we end--we end where we started., Ju...</td>\n",
       "      <td>es</td>\n",
       "      <td>en</td>\n",
       "      <td>0</td>\n",
       "      <td>True</td>\n",
       "    </tr>\n",
       "    <tr>\n",
       "      <th>209767</th>\n",
       "      <td>18459855</td>\n",
       "      <td>0</td>\n",
       "      <td>[[0, A sequel?], [0, Interesting...]]</td>\n",
       "      <td>[a sequel, interesting]</td>\n",
       "      <td>[A sequel?, Interesting...]</td>\n",
       "      <td>es</td>\n",
       "      <td>es</td>\n",
       "      <td>0</td>\n",
       "      <td>False</td>\n",
       "    </tr>\n",
       "    <tr>\n",
       "      <th>944602</th>\n",
       "      <td>23012475</td>\n",
       "      <td>0</td>\n",
       "      <td>[[0, Perfectly enjoyable, very quick read.]]</td>\n",
       "      <td>[perfectly enjoyable very quick read]</td>\n",
       "      <td>[Perfectly enjoyable, very quick read.]</td>\n",
       "      <td>es</td>\n",
       "      <td>es</td>\n",
       "      <td>0</td>\n",
       "      <td>False</td>\n",
       "    </tr>\n",
       "    <tr>\n",
       "      <th>907843</th>\n",
       "      <td>30226723</td>\n",
       "      <td>0</td>\n",
       "      <td>[[0, So close yet so far...]]</td>\n",
       "      <td>[so close yet so far]</td>\n",
       "      <td>[So close yet so far...]</td>\n",
       "      <td>es</td>\n",
       "      <td>es</td>\n",
       "      <td>0</td>\n",
       "      <td>False</td>\n",
       "    </tr>\n",
       "    <tr>\n",
       "      <th>438988</th>\n",
       "      <td>15790873</td>\n",
       "      <td>0</td>\n",
       "      <td>[[0, Cute, fun and quick read.]]</td>\n",
       "      <td>[cute fun and quick read]</td>\n",
       "      <td>[Cute, fun and quick read.]</td>\n",
       "      <td>es</td>\n",
       "      <td>es</td>\n",
       "      <td>0</td>\n",
       "      <td>False</td>\n",
       "    </tr>\n",
       "    <tr>\n",
       "      <th>492582</th>\n",
       "      <td>21956219</td>\n",
       "      <td>0</td>\n",
       "      <td>[[0, re-read love]]</td>\n",
       "      <td>[re read love]</td>\n",
       "      <td>[re-read love]</td>\n",
       "      <td>es</td>\n",
       "      <td>es</td>\n",
       "      <td>0</td>\n",
       "      <td>False</td>\n",
       "    </tr>\n",
       "    <tr>\n",
       "      <th>732728</th>\n",
       "      <td>18484807</td>\n",
       "      <td>0</td>\n",
       "      <td>[[0, I decided to delete my review...:) :)]]</td>\n",
       "      <td>[i decided to delete my review]</td>\n",
       "      <td>[I decided to delete my review...:) :)]</td>\n",
       "      <td>es</td>\n",
       "      <td>es</td>\n",
       "      <td>0</td>\n",
       "      <td>False</td>\n",
       "    </tr>\n",
       "    <tr>\n",
       "      <th>1278217</th>\n",
       "      <td>11550149</td>\n",
       "      <td>0</td>\n",
       "      <td>[[0, I love you, Percy &lt;3]]</td>\n",
       "      <td>[i love you percy]</td>\n",
       "      <td>[I love you, Percy &lt;3]</td>\n",
       "      <td>es</td>\n",
       "      <td>es</td>\n",
       "      <td>0</td>\n",
       "      <td>False</td>\n",
       "    </tr>\n",
       "    <tr>\n",
       "      <th>188667</th>\n",
       "      <td>19351043</td>\n",
       "      <td>0</td>\n",
       "      <td>[[0, Such a fun read :D!]]</td>\n",
       "      <td>[such a fun read a]</td>\n",
       "      <td>[Such a fun read :D!]</td>\n",
       "      <td>es</td>\n",
       "      <td>es</td>\n",
       "      <td>0</td>\n",
       "      <td>False</td>\n",
       "    </tr>\n",
       "    <tr>\n",
       "      <th>1371939</th>\n",
       "      <td>29102570</td>\n",
       "      <td>0</td>\n",
       "      <td>[[0, An enjoyable read.], [0, Full review to c...</td>\n",
       "      <td>[an enjoyable read, full review to come]</td>\n",
       "      <td>[An enjoyable read., Full review to come.]</td>\n",
       "      <td>es</td>\n",
       "      <td>es</td>\n",
       "      <td>0</td>\n",
       "      <td>False</td>\n",
       "    </tr>\n",
       "    <tr>\n",
       "      <th>639524</th>\n",
       "      <td>24365190</td>\n",
       "      <td>0</td>\n",
       "      <td>[[0, Esto me dan muchas ganas de leer The Last...</td>\n",
       "      <td>[est me dan much as gangs de leer the last hou...</td>\n",
       "      <td>[Esto me dan muchas ganas de leer The Last Hou...</td>\n",
       "      <td>es</td>\n",
       "      <td>es</td>\n",
       "      <td>0</td>\n",
       "      <td>False</td>\n",
       "    </tr>\n",
       "    <tr>\n",
       "      <th>1188121</th>\n",
       "      <td>20442441</td>\n",
       "      <td>0</td>\n",
       "      <td>[[0, Time pass predictable romance .], [0, qui...</td>\n",
       "      <td>[time pass predictable romance, quick read]</td>\n",
       "      <td>[Time pass predictable romance ., quick read :)]</td>\n",
       "      <td>es</td>\n",
       "      <td>es</td>\n",
       "      <td>0</td>\n",
       "      <td>False</td>\n",
       "    </tr>\n",
       "    <tr>\n",
       "      <th>7410</th>\n",
       "      <td>2767052</td>\n",
       "      <td>0</td>\n",
       "      <td>[[0, read 12/2012], [0, reread 11/10/2014]]</td>\n",
       "      <td>[read, reread]</td>\n",
       "      <td>[read 12/2012, reread 11/10/2014]</td>\n",
       "      <td>es</td>\n",
       "      <td>es</td>\n",
       "      <td>0</td>\n",
       "      <td>False</td>\n",
       "    </tr>\n",
       "    <tr>\n",
       "      <th>973511</th>\n",
       "      <td>6202318</td>\n",
       "      <td>0</td>\n",
       "      <td>[[0, A quick and enjoyable read!]]</td>\n",
       "      <td>[a quick and enjoyable read]</td>\n",
       "      <td>[A quick and enjoyable read!]</td>\n",
       "      <td>es</td>\n",
       "      <td>es</td>\n",
       "      <td>0</td>\n",
       "      <td>False</td>\n",
       "    </tr>\n",
       "    <tr>\n",
       "      <th>1210396</th>\n",
       "      <td>21822422</td>\n",
       "      <td>0</td>\n",
       "      <td>[[0, Cute quick read!]]</td>\n",
       "      <td>[cute quick read]</td>\n",
       "      <td>[Cute quick read!]</td>\n",
       "      <td>es</td>\n",
       "      <td>es</td>\n",
       "      <td>0</td>\n",
       "      <td>False</td>\n",
       "    </tr>\n",
       "    <tr>\n",
       "      <th>774346</th>\n",
       "      <td>28372019</td>\n",
       "      <td>0</td>\n",
       "      <td>[[0, Very cute, quick read.]]</td>\n",
       "      <td>[very cute quick read]</td>\n",
       "      <td>[Very cute, quick read.]</td>\n",
       "      <td>es</td>\n",
       "      <td>es</td>\n",
       "      <td>0</td>\n",
       "      <td>False</td>\n",
       "    </tr>\n",
       "    <tr>\n",
       "      <th>288931</th>\n",
       "      <td>17228280</td>\n",
       "      <td>1</td>\n",
       "      <td>[[0, \"I would've blown away every last runner ...</td>\n",
       "      <td>[i would have blown away every last runner tha...</td>\n",
       "      <td>[\"I would've blown away every last runner that...</td>\n",
       "      <td>es</td>\n",
       "      <td>en</td>\n",
       "      <td>0</td>\n",
       "      <td>True</td>\n",
       "    </tr>\n",
       "    <tr>\n",
       "      <th>1100109</th>\n",
       "      <td>227443</td>\n",
       "      <td>0</td>\n",
       "      <td>[[0, Fun, quick and breezy read!]]</td>\n",
       "      <td>[fun quick and breezy read]</td>\n",
       "      <td>[Fun, quick and breezy read!]</td>\n",
       "      <td>es</td>\n",
       "      <td>es</td>\n",
       "      <td>0</td>\n",
       "      <td>False</td>\n",
       "    </tr>\n",
       "    <tr>\n",
       "      <th>309246</th>\n",
       "      <td>8909152</td>\n",
       "      <td>0</td>\n",
       "      <td>[[0, Adorable.], [0, Absolutely adorable.]]</td>\n",
       "      <td>[adorable, absolutely adorable]</td>\n",
       "      <td>[Adorable., Absolutely adorable.]</td>\n",
       "      <td>es</td>\n",
       "      <td>es</td>\n",
       "      <td>0</td>\n",
       "      <td>False</td>\n",
       "    </tr>\n",
       "    <tr>\n",
       "      <th>103085</th>\n",
       "      <td>13406425</td>\n",
       "      <td>0</td>\n",
       "      <td>[[0, such a fun read!]]</td>\n",
       "      <td>[such a fun read]</td>\n",
       "      <td>[such a fun read!]</td>\n",
       "      <td>es</td>\n",
       "      <td>es</td>\n",
       "      <td>0</td>\n",
       "      <td>False</td>\n",
       "    </tr>\n",
       "  </tbody>\n",
       "</table>\n",
       "</div>"
      ],
      "text/plain": [
       "          book_id  has_spoiler  \\\n",
       "77919     7260188            0   \n",
       "1046929  10380227            0   \n",
       "847263   23688792            0   \n",
       "1336307     53447            1   \n",
       "1196218  22929092            0   \n",
       "596079   19358975            0   \n",
       "231317        930            0   \n",
       "621343   26148181            0   \n",
       "209767   18459855            0   \n",
       "944602   23012475            0   \n",
       "907843   30226723            0   \n",
       "438988   15790873            0   \n",
       "492582   21956219            0   \n",
       "732728   18484807            0   \n",
       "1278217  11550149            0   \n",
       "188667   19351043            0   \n",
       "1371939  29102570            0   \n",
       "639524   24365190            0   \n",
       "1188121  20442441            0   \n",
       "7410      2767052            0   \n",
       "973511    6202318            0   \n",
       "1210396  21822422            0   \n",
       "774346   28372019            0   \n",
       "288931   17228280            1   \n",
       "1100109    227443            0   \n",
       "309246    8909152            0   \n",
       "103085   13406425            0   \n",
       "\n",
       "                                          review_sentences  \\\n",
       "77919    [[0, ** spoiler alert **], [0, Bueno fue un fi...   \n",
       "1046929  [[0, Awsome!!!], [0, i really relly love it!!]...   \n",
       "847263                              [[0, Fun train read!]]   \n",
       "1336307  [[0, For practice I decided that I'd write thi...   \n",
       "1196218                 [[0, Can I have a sequel please?]]   \n",
       "596079   [[0, Gracias Patrick Rothfuss por tu recomenda...   \n",
       "231317                    [[0, An enjoyable enough read.]]   \n",
       "621343   [[0, And then we end--we end where we started....   \n",
       "209767               [[0, A sequel?], [0, Interesting...]]   \n",
       "944602        [[0, Perfectly enjoyable, very quick read.]]   \n",
       "907843                       [[0, So close yet so far...]]   \n",
       "438988                    [[0, Cute, fun and quick read.]]   \n",
       "492582                                 [[0, re-read love]]   \n",
       "732728        [[0, I decided to delete my review...:) :)]]   \n",
       "1278217                        [[0, I love you, Percy <3]]   \n",
       "188667                          [[0, Such a fun read :D!]]   \n",
       "1371939  [[0, An enjoyable read.], [0, Full review to c...   \n",
       "639524   [[0, Esto me dan muchas ganas de leer The Last...   \n",
       "1188121  [[0, Time pass predictable romance .], [0, qui...   \n",
       "7410           [[0, read 12/2012], [0, reread 11/10/2014]]   \n",
       "973511                  [[0, A quick and enjoyable read!]]   \n",
       "1210396                            [[0, Cute quick read!]]   \n",
       "774346                       [[0, Very cute, quick read.]]   \n",
       "288931   [[0, \"I would've blown away every last runner ...   \n",
       "1100109                 [[0, Fun, quick and breezy read!]]   \n",
       "309246         [[0, Adorable.], [0, Absolutely adorable.]]   \n",
       "103085                             [[0, such a fun read!]]   \n",
       "\n",
       "                                sentence_text_spellchecked  \\\n",
       "77919    [spoiler alert, bueno fun un final de die to a...   \n",
       "1046929  [awesome, i really reply love it, seht is so k...   \n",
       "847263                                    [fun train read]   \n",
       "1336307  [for practice i decided that i would write thi...   \n",
       "1196218                       [can i have a sequel please]   \n",
       "596079   [garcias patrick rothfuss for tu recommend act...   \n",
       "231317                          [an enjoyable enough read]   \n",
       "621343   [and then we end we end where we started, just...   \n",
       "209767                             [a sequel, interesting]   \n",
       "944602               [perfectly enjoyable very quick read]   \n",
       "907843                               [so close yet so far]   \n",
       "438988                           [cute fun and quick read]   \n",
       "492582                                      [re read love]   \n",
       "732728                     [i decided to delete my review]   \n",
       "1278217                                 [i love you percy]   \n",
       "188667                                 [such a fun read a]   \n",
       "1371939           [an enjoyable read, full review to come]   \n",
       "639524   [est me dan much as gangs de leer the last hou...   \n",
       "1188121        [time pass predictable romance, quick read]   \n",
       "7410                                        [read, reread]   \n",
       "973511                        [a quick and enjoyable read]   \n",
       "1210396                                  [cute quick read]   \n",
       "774346                              [very cute quick read]   \n",
       "288931   [i would have blown away every last runner tha...   \n",
       "1100109                        [fun quick and breezy read]   \n",
       "309246                     [adorable, absolutely adorable]   \n",
       "103085                                   [such a fun read]   \n",
       "\n",
       "                                             sentence_text review_language_1  \\\n",
       "77919    [** spoiler alert **, Bueno fue un final de ci...                es   \n",
       "1046929  [Awsome!!!, i really relly love it!!, Seht is ...                es   \n",
       "847263                                   [Fun train read!]                es   \n",
       "1336307  [For practice I decided that I'd write this re...                es   \n",
       "1196218                      [Can I have a sequel please?]                es   \n",
       "596079   [Gracias Patrick Rothfuss por tu recomendacion...                es   \n",
       "231317                         [An enjoyable enough read.]                es   \n",
       "621343   [And then we end--we end where we started., Ju...                es   \n",
       "209767                         [A sequel?, Interesting...]                es   \n",
       "944602             [Perfectly enjoyable, very quick read.]                es   \n",
       "907843                            [So close yet so far...]                es   \n",
       "438988                         [Cute, fun and quick read.]                es   \n",
       "492582                                      [re-read love]                es   \n",
       "732728             [I decided to delete my review...:) :)]                es   \n",
       "1278217                             [I love you, Percy <3]                es   \n",
       "188667                               [Such a fun read :D!]                es   \n",
       "1371939         [An enjoyable read., Full review to come.]                es   \n",
       "639524   [Esto me dan muchas ganas de leer The Last Hou...                es   \n",
       "1188121   [Time pass predictable romance ., quick read :)]                es   \n",
       "7410                     [read 12/2012, reread 11/10/2014]                es   \n",
       "973511                       [A quick and enjoyable read!]                es   \n",
       "1210396                                 [Cute quick read!]                es   \n",
       "774346                            [Very cute, quick read.]                es   \n",
       "288931   [\"I would've blown away every last runner that...                es   \n",
       "1100109                      [Fun, quick and breezy read!]                es   \n",
       "309246                   [Adorable., Absolutely adorable.]                es   \n",
       "103085                                  [such a fun read!]                es   \n",
       "\n",
       "        review_language_start  spoiler_in_text  lan_unclear  \n",
       "77919                      es                1        False  \n",
       "1046929                    en                0         True  \n",
       "847263                     es                0        False  \n",
       "1336307                    en                1         True  \n",
       "1196218                    es                0        False  \n",
       "596079                     es                0        False  \n",
       "231317                     es                0        False  \n",
       "621343                     en                0         True  \n",
       "209767                     es                0        False  \n",
       "944602                     es                0        False  \n",
       "907843                     es                0        False  \n",
       "438988                     es                0        False  \n",
       "492582                     es                0        False  \n",
       "732728                     es                0        False  \n",
       "1278217                    es                0        False  \n",
       "188667                     es                0        False  \n",
       "1371939                    es                0        False  \n",
       "639524                     es                0        False  \n",
       "1188121                    es                0        False  \n",
       "7410                       es                0        False  \n",
       "973511                     es                0        False  \n",
       "1210396                    es                0        False  \n",
       "774346                     es                0        False  \n",
       "288931                     en                0         True  \n",
       "1100109                    es                0        False  \n",
       "309246                     es                0        False  \n",
       "103085                     es                0        False  "
      ]
     },
     "execution_count": 375,
     "metadata": {},
     "output_type": "execute_result"
    }
   ],
   "source": [
    "df_train_text_es = df_train_text[df_train_text['review_language_1'] == 'es']\n",
    "df_train_text_es"
   ]
  },
  {
   "cell_type": "code",
   "execution_count": 370,
   "metadata": {},
   "outputs": [],
   "source": [
    "df_train_text_en_unclear = df_train_text[df_train_text['review_language_1'] != 'en']"
   ]
  },
  {
   "cell_type": "code",
   "execution_count": 365,
   "metadata": {},
   "outputs": [
    {
     "data": {
      "text/html": [
       "<div>\n",
       "<style scoped>\n",
       "    .dataframe tbody tr th:only-of-type {\n",
       "        vertical-align: middle;\n",
       "    }\n",
       "\n",
       "    .dataframe tbody tr th {\n",
       "        vertical-align: top;\n",
       "    }\n",
       "\n",
       "    .dataframe thead th {\n",
       "        text-align: right;\n",
       "    }\n",
       "</style>\n",
       "<table border=\"1\" class=\"dataframe\">\n",
       "  <thead>\n",
       "    <tr style=\"text-align: right;\">\n",
       "      <th></th>\n",
       "      <th>sentence_text_spellchecked</th>\n",
       "      <th>review_language_1</th>\n",
       "      <th>review_language_start</th>\n",
       "    </tr>\n",
       "  </thead>\n",
       "  <tbody>\n",
       "    <tr>\n",
       "      <th>93384</th>\n",
       "      <td>[poor george poor lenny poor crooks, tragedy]</td>\n",
       "      <td>nl</td>\n",
       "      <td>nl</td>\n",
       "    </tr>\n",
       "    <tr>\n",
       "      <th>1203390</th>\n",
       "      <td>[recension, review]</td>\n",
       "      <td>it</td>\n",
       "      <td>it</td>\n",
       "    </tr>\n",
       "    <tr>\n",
       "      <th>189971</th>\n",
       "      <td>[my, heart, is, broken]</td>\n",
       "      <td>nl</td>\n",
       "      <td>en</td>\n",
       "    </tr>\n",
       "    <tr>\n",
       "      <th>1373142</th>\n",
       "      <td>[good cheesy scifi]</td>\n",
       "      <td>cy</td>\n",
       "      <td>cy</td>\n",
       "    </tr>\n",
       "    <tr>\n",
       "      <th>363839</th>\n",
       "      <td>[oh god, oh my god, god, oh, ah, i can do it i...</td>\n",
       "      <td>cy</td>\n",
       "      <td>cy</td>\n",
       "    </tr>\n",
       "    <tr>\n",
       "      <th>250260</th>\n",
       "      <td>[stars, great book]</td>\n",
       "      <td>af</td>\n",
       "      <td>af</td>\n",
       "    </tr>\n",
       "    <tr>\n",
       "      <th>127187</th>\n",
       "      <td>[review posted here, , german review added deb...</td>\n",
       "      <td>de</td>\n",
       "      <td>de</td>\n",
       "    </tr>\n",
       "    <tr>\n",
       "      <th>1053203</th>\n",
       "      <td>[a pure delight]</td>\n",
       "      <td>ro</td>\n",
       "      <td>ro</td>\n",
       "    </tr>\n",
       "    <tr>\n",
       "      <th>1108451</th>\n",
       "      <td>[interesting premise, active plot, men meets d...</td>\n",
       "      <td>nl</td>\n",
       "      <td>nl</td>\n",
       "    </tr>\n",
       "    <tr>\n",
       "      <th>492791</th>\n",
       "      <td>[mess me up]</td>\n",
       "      <td>sw</td>\n",
       "      <td>sw</td>\n",
       "    </tr>\n",
       "    <tr>\n",
       "      <th>1181071</th>\n",
       "      <td>[book big he here zen beef hunger spanned, in ...</td>\n",
       "      <td>nl</td>\n",
       "      <td>nl</td>\n",
       "    </tr>\n",
       "    <tr>\n",
       "      <th>996129</th>\n",
       "      <td>[review to come, love love love love loved it]</td>\n",
       "      <td>sl</td>\n",
       "      <td>sl</td>\n",
       "    </tr>\n",
       "    <tr>\n",
       "      <th>401728</th>\n",
       "      <td>[stars, loved it, sooooo sooooo creepy, noah a...</td>\n",
       "      <td>so</td>\n",
       "      <td>so</td>\n",
       "    </tr>\n",
       "    <tr>\n",
       "      <th>389903</th>\n",
       "      <td>[horrible]</td>\n",
       "      <td>fr</td>\n",
       "      <td>fr</td>\n",
       "    </tr>\n",
       "    <tr>\n",
       "      <th>242624</th>\n",
       "      <td>[not for me unfortunately]</td>\n",
       "      <td>no</td>\n",
       "      <td>no</td>\n",
       "    </tr>\n",
       "    <tr>\n",
       "      <th>835522</th>\n",
       "      <td>[very cute]</td>\n",
       "      <td>ro</td>\n",
       "      <td>ro</td>\n",
       "    </tr>\n",
       "    <tr>\n",
       "      <th>720810</th>\n",
       "      <td>[absolute perfection]</td>\n",
       "      <td>ro</td>\n",
       "      <td>ro</td>\n",
       "    </tr>\n",
       "    <tr>\n",
       "      <th>110689</th>\n",
       "      <td>[re read still amazing]</td>\n",
       "      <td>it</td>\n",
       "      <td>it</td>\n",
       "    </tr>\n",
       "    <tr>\n",
       "      <th>61073</th>\n",
       "      <td>[i just can not get enough]</td>\n",
       "      <td>nl</td>\n",
       "      <td>nl</td>\n",
       "    </tr>\n",
       "    <tr>\n",
       "      <th>436601</th>\n",
       "      <td>[artwork is just gorgeous]</td>\n",
       "      <td>nl</td>\n",
       "      <td>nl</td>\n",
       "    </tr>\n",
       "    <tr>\n",
       "      <th>182468</th>\n",
       "      <td>[what, a girl her being vlad the impaler, what...</td>\n",
       "      <td>de</td>\n",
       "      <td>en</td>\n",
       "    </tr>\n",
       "    <tr>\n",
       "      <th>368412</th>\n",
       "      <td>[absolute perfection]</td>\n",
       "      <td>ro</td>\n",
       "      <td>ro</td>\n",
       "    </tr>\n",
       "    <tr>\n",
       "      <th>1248895</th>\n",
       "      <td>[fascinating and exhilarating sexy and dark, a...</td>\n",
       "      <td>tl</td>\n",
       "      <td>tl</td>\n",
       "    </tr>\n",
       "    <tr>\n",
       "      <th>264464</th>\n",
       "      <td>[stupidly cute]</td>\n",
       "      <td>ro</td>\n",
       "      <td>ro</td>\n",
       "    </tr>\n",
       "    <tr>\n",
       "      <th>946593</th>\n",
       "      <td>[this is getting better and better]</td>\n",
       "      <td>no</td>\n",
       "      <td>no</td>\n",
       "    </tr>\n",
       "    <tr>\n",
       "      <th>482939</th>\n",
       "      <td>[twilight was better]</td>\n",
       "      <td>af</td>\n",
       "      <td>af</td>\n",
       "    </tr>\n",
       "    <tr>\n",
       "      <th>66500</th>\n",
       "      <td>[what did i just read]</td>\n",
       "      <td>et</td>\n",
       "      <td>et</td>\n",
       "    </tr>\n",
       "    <tr>\n",
       "      <th>190617</th>\n",
       "      <td>[spoiler alert, the darkling]</td>\n",
       "      <td>no</td>\n",
       "      <td>no</td>\n",
       "    </tr>\n",
       "    <tr>\n",
       "      <th>1268027</th>\n",
       "      <td>[re read sweet as ever]</td>\n",
       "      <td>af</td>\n",
       "      <td>af</td>\n",
       "    </tr>\n",
       "    <tr>\n",
       "      <th>1364265</th>\n",
       "      <td>[super cute, review to come]</td>\n",
       "      <td>ro</td>\n",
       "      <td>ro</td>\n",
       "    </tr>\n",
       "    <tr>\n",
       "      <th>...</th>\n",
       "      <td>...</td>\n",
       "      <td>...</td>\n",
       "      <td>...</td>\n",
       "    </tr>\n",
       "    <tr>\n",
       "      <th>511036</th>\n",
       "      <td>[i almost felt bad for her almost]</td>\n",
       "      <td>da</td>\n",
       "      <td>da</td>\n",
       "    </tr>\n",
       "    <tr>\n",
       "      <th>553257</th>\n",
       "      <td>[beautiful, so wonderful]</td>\n",
       "      <td>ro</td>\n",
       "      <td>ro</td>\n",
       "    </tr>\n",
       "    <tr>\n",
       "      <th>1070816</th>\n",
       "      <td>[stephanie kuehn is sooooo good at effed up]</td>\n",
       "      <td>af</td>\n",
       "      <td>af</td>\n",
       "    </tr>\n",
       "    <tr>\n",
       "      <th>250124</th>\n",
       "      <td>[could not get into]</td>\n",
       "      <td>nl</td>\n",
       "      <td>nl</td>\n",
       "    </tr>\n",
       "    <tr>\n",
       "      <th>612147</th>\n",
       "      <td>[feelings, lots and lots of feelings]</td>\n",
       "      <td>af</td>\n",
       "      <td>af</td>\n",
       "    </tr>\n",
       "    <tr>\n",
       "      <th>103085</th>\n",
       "      <td>[such a fun read]</td>\n",
       "      <td>es</td>\n",
       "      <td>es</td>\n",
       "    </tr>\n",
       "    <tr>\n",
       "      <th>95761</th>\n",
       "      <td>[it was okay]</td>\n",
       "      <td>sw</td>\n",
       "      <td>sw</td>\n",
       "    </tr>\n",
       "    <tr>\n",
       "      <th>400143</th>\n",
       "      <td>[amazing, read it]</td>\n",
       "      <td>tl</td>\n",
       "      <td>tl</td>\n",
       "    </tr>\n",
       "    <tr>\n",
       "      <th>1359620</th>\n",
       "      <td>[it just felt flat]</td>\n",
       "      <td>no</td>\n",
       "      <td>no</td>\n",
       "    </tr>\n",
       "    <tr>\n",
       "      <th>590571</th>\n",
       "      <td>[massive massive let down]</td>\n",
       "      <td>fr</td>\n",
       "      <td>fr</td>\n",
       "    </tr>\n",
       "    <tr>\n",
       "      <th>689605</th>\n",
       "      <td>[just awesome]</td>\n",
       "      <td>af</td>\n",
       "      <td>af</td>\n",
       "    </tr>\n",
       "    <tr>\n",
       "      <th>396963</th>\n",
       "      <td>[tar]</td>\n",
       "      <td>no</td>\n",
       "      <td>no</td>\n",
       "    </tr>\n",
       "    <tr>\n",
       "      <th>1205508</th>\n",
       "      <td>[owl rate june]</td>\n",
       "      <td>ro</td>\n",
       "      <td>ro</td>\n",
       "    </tr>\n",
       "    <tr>\n",
       "      <th>270529</th>\n",
       "      <td>[such an amazing book]</td>\n",
       "      <td>tl</td>\n",
       "      <td>tl</td>\n",
       "    </tr>\n",
       "    <tr>\n",
       "      <th>893766</th>\n",
       "      <td>[long a bit uneven]</td>\n",
       "      <td>fr</td>\n",
       "      <td>fr</td>\n",
       "    </tr>\n",
       "    <tr>\n",
       "      <th>1316044</th>\n",
       "      <td>[she is the man meets teenage star trek]</td>\n",
       "      <td>nl</td>\n",
       "      <td>nl</td>\n",
       "    </tr>\n",
       "    <tr>\n",
       "      <th>666026</th>\n",
       "      <td>[was not for me]</td>\n",
       "      <td>da</td>\n",
       "      <td>da</td>\n",
       "    </tr>\n",
       "    <tr>\n",
       "      <th>1370932</th>\n",
       "      <td>[wherever nina lies by lynn being arden]</td>\n",
       "      <td>de</td>\n",
       "      <td>de</td>\n",
       "    </tr>\n",
       "    <tr>\n",
       "      <th>1234802</th>\n",
       "      <td>[hello orientalism much, so irritating]</td>\n",
       "      <td>it</td>\n",
       "      <td>it</td>\n",
       "    </tr>\n",
       "    <tr>\n",
       "      <th>885644</th>\n",
       "      <td>[that ending is not okay, i am, not okay]</td>\n",
       "      <td>tl</td>\n",
       "      <td>tl</td>\n",
       "    </tr>\n",
       "    <tr>\n",
       "      <th>308190</th>\n",
       "      <td>[full review to come]</td>\n",
       "      <td>it</td>\n",
       "      <td>it</td>\n",
       "    </tr>\n",
       "    <tr>\n",
       "      <th>1325572</th>\n",
       "      <td>[not as good as dark moon defender, lots of war]</td>\n",
       "      <td>af</td>\n",
       "      <td>af</td>\n",
       "    </tr>\n",
       "    <tr>\n",
       "      <th>299001</th>\n",
       "      <td>[violently pink stars]</td>\n",
       "      <td>lt</td>\n",
       "      <td>lt</td>\n",
       "    </tr>\n",
       "    <tr>\n",
       "      <th>472105</th>\n",
       "      <td>[fake dating, enough said]</td>\n",
       "      <td>id</td>\n",
       "      <td>id</td>\n",
       "    </tr>\n",
       "    <tr>\n",
       "      <th>920043</th>\n",
       "      <td>[a light but enjoyable mystery]</td>\n",
       "      <td>no</td>\n",
       "      <td>no</td>\n",
       "    </tr>\n",
       "    <tr>\n",
       "      <th>633584</th>\n",
       "      <td>[cassandra clare you did it again, amazing]</td>\n",
       "      <td>id</td>\n",
       "      <td>id</td>\n",
       "    </tr>\n",
       "    <tr>\n",
       "      <th>748218</th>\n",
       "      <td>[suffered from middle book syndrome but still ...</td>\n",
       "      <td>da</td>\n",
       "      <td>da</td>\n",
       "    </tr>\n",
       "    <tr>\n",
       "      <th>783720</th>\n",
       "      <td>[stars, ryker grant are not you boyfriend mate...</td>\n",
       "      <td>af</td>\n",
       "      <td>af</td>\n",
       "    </tr>\n",
       "    <tr>\n",
       "      <th>74680</th>\n",
       "      <td>[amazing, full review to come]</td>\n",
       "      <td>it</td>\n",
       "      <td>it</td>\n",
       "    </tr>\n",
       "    <tr>\n",
       "      <th>482118</th>\n",
       "      <td>[wtf did i just read a]</td>\n",
       "      <td>et</td>\n",
       "      <td>et</td>\n",
       "    </tr>\n",
       "  </tbody>\n",
       "</table>\n",
       "<p>975 rows × 3 columns</p>\n",
       "</div>"
      ],
      "text/plain": [
       "                                sentence_text_spellchecked review_language_1  \\\n",
       "93384        [poor george poor lenny poor crooks, tragedy]                nl   \n",
       "1203390                                [recension, review]                it   \n",
       "189971                             [my, heart, is, broken]                nl   \n",
       "1373142                                [good cheesy scifi]                cy   \n",
       "363839   [oh god, oh my god, god, oh, ah, i can do it i...                cy   \n",
       "250260                                 [stars, great book]                af   \n",
       "127187   [review posted here, , german review added deb...                de   \n",
       "1053203                                   [a pure delight]                ro   \n",
       "1108451  [interesting premise, active plot, men meets d...                nl   \n",
       "492791                                        [mess me up]                sw   \n",
       "1181071  [book big he here zen beef hunger spanned, in ...                nl   \n",
       "996129      [review to come, love love love love loved it]                sl   \n",
       "401728   [stars, loved it, sooooo sooooo creepy, noah a...                so   \n",
       "389903                                          [horrible]                fr   \n",
       "242624                          [not for me unfortunately]                no   \n",
       "835522                                         [very cute]                ro   \n",
       "720810                               [absolute perfection]                ro   \n",
       "110689                             [re read still amazing]                it   \n",
       "61073                          [i just can not get enough]                nl   \n",
       "436601                          [artwork is just gorgeous]                nl   \n",
       "182468   [what, a girl her being vlad the impaler, what...                de   \n",
       "368412                               [absolute perfection]                ro   \n",
       "1248895  [fascinating and exhilarating sexy and dark, a...                tl   \n",
       "264464                                     [stupidly cute]                ro   \n",
       "946593                 [this is getting better and better]                no   \n",
       "482939                               [twilight was better]                af   \n",
       "66500                               [what did i just read]                et   \n",
       "190617                       [spoiler alert, the darkling]                no   \n",
       "1268027                            [re read sweet as ever]                af   \n",
       "1364265                       [super cute, review to come]                ro   \n",
       "...                                                    ...               ...   \n",
       "511036                  [i almost felt bad for her almost]                da   \n",
       "553257                           [beautiful, so wonderful]                ro   \n",
       "1070816       [stephanie kuehn is sooooo good at effed up]                af   \n",
       "250124                                [could not get into]                nl   \n",
       "612147               [feelings, lots and lots of feelings]                af   \n",
       "103085                                   [such a fun read]                es   \n",
       "95761                                        [it was okay]                sw   \n",
       "400143                                  [amazing, read it]                tl   \n",
       "1359620                                [it just felt flat]                no   \n",
       "590571                          [massive massive let down]                fr   \n",
       "689605                                      [just awesome]                af   \n",
       "396963                                               [tar]                no   \n",
       "1205508                                    [owl rate june]                ro   \n",
       "270529                              [such an amazing book]                tl   \n",
       "893766                                 [long a bit uneven]                fr   \n",
       "1316044           [she is the man meets teenage star trek]                nl   \n",
       "666026                                    [was not for me]                da   \n",
       "1370932           [wherever nina lies by lynn being arden]                de   \n",
       "1234802            [hello orientalism much, so irritating]                it   \n",
       "885644           [that ending is not okay, i am, not okay]                tl   \n",
       "308190                               [full review to come]                it   \n",
       "1325572   [not as good as dark moon defender, lots of war]                af   \n",
       "299001                              [violently pink stars]                lt   \n",
       "472105                          [fake dating, enough said]                id   \n",
       "920043                     [a light but enjoyable mystery]                no   \n",
       "633584         [cassandra clare you did it again, amazing]                id   \n",
       "748218   [suffered from middle book syndrome but still ...                da   \n",
       "783720   [stars, ryker grant are not you boyfriend mate...                af   \n",
       "74680                       [amazing, full review to come]                it   \n",
       "482118                             [wtf did i just read a]                et   \n",
       "\n",
       "        review_language_start  \n",
       "93384                      nl  \n",
       "1203390                    it  \n",
       "189971                     en  \n",
       "1373142                    cy  \n",
       "363839                     cy  \n",
       "250260                     af  \n",
       "127187                     de  \n",
       "1053203                    ro  \n",
       "1108451                    nl  \n",
       "492791                     sw  \n",
       "1181071                    nl  \n",
       "996129                     sl  \n",
       "401728                     so  \n",
       "389903                     fr  \n",
       "242624                     no  \n",
       "835522                     ro  \n",
       "720810                     ro  \n",
       "110689                     it  \n",
       "61073                      nl  \n",
       "436601                     nl  \n",
       "182468                     en  \n",
       "368412                     ro  \n",
       "1248895                    tl  \n",
       "264464                     ro  \n",
       "946593                     no  \n",
       "482939                     af  \n",
       "66500                      et  \n",
       "190617                     no  \n",
       "1268027                    af  \n",
       "1364265                    ro  \n",
       "...                       ...  \n",
       "511036                     da  \n",
       "553257                     ro  \n",
       "1070816                    af  \n",
       "250124                     nl  \n",
       "612147                     af  \n",
       "103085                     es  \n",
       "95761                      sw  \n",
       "400143                     tl  \n",
       "1359620                    no  \n",
       "590571                     fr  \n",
       "689605                     af  \n",
       "396963                     no  \n",
       "1205508                    ro  \n",
       "270529                     tl  \n",
       "893766                     fr  \n",
       "1316044                    nl  \n",
       "666026                     da  \n",
       "1370932                    de  \n",
       "1234802                    it  \n",
       "885644                     tl  \n",
       "308190                     it  \n",
       "1325572                    af  \n",
       "299001                     lt  \n",
       "472105                     id  \n",
       "920043                     no  \n",
       "633584                     id  \n",
       "748218                     da  \n",
       "783720                     af  \n",
       "74680                      it  \n",
       "482118                     et  \n",
       "\n",
       "[975 rows x 3 columns]"
      ]
     },
     "execution_count": 365,
     "metadata": {},
     "output_type": "execute_result"
    }
   ],
   "source": [
    "df_train_text_en_unclear[['sentence_text_spellchecked', 'review_language_1', 'review_language_start']]"
   ]
  },
  {
   "cell_type": "code",
   "execution_count": 372,
   "metadata": {},
   "outputs": [
    {
     "data": {
      "application/vnd.jupyter.widget-view+json": {
       "model_id": "f5ec38a6ebe64a56b74f0b96fe5ac993",
       "version_major": 2,
       "version_minor": 0
      },
      "text/plain": [
       "HBox(children=(FloatProgress(value=0.0, description='Pandas Apply', max=975.0, style=ProgressStyle(description…"
      ]
     },
     "metadata": {},
     "output_type": "display_data"
    },
    {
     "name": "stderr",
     "output_type": "stream",
     "text": [
      "Exception ignored in: "
     ]
    },
    {
     "name": "stdout",
     "output_type": "stream",
     "text": [
      "\n"
     ]
    },
    {
     "name": "stderr",
     "output_type": "stream",
     "text": [
      "<bound method tqdm.__del__ of Pandas Apply: 100%|<bar/>| 975/975 [03:54<00:00,  4.17it/s]>\n",
      "Traceback (most recent call last):\n",
      "  File \"/opt/anaconda3/envs/nf/lib/python3.6/site-packages/tqdm/std.py\", line 1086, in __del__\n",
      "    def __del__(self):\n",
      "KeyboardInterrupt\n",
      "/opt/anaconda3/envs/nf/lib/python3.6/site-packages/ipykernel_launcher.py:2: SettingWithCopyWarning: \n",
      "A value is trying to be set on a copy of a slice from a DataFrame.\n",
      "Try using .loc[row_indexer,col_indexer] = value instead\n",
      "\n",
      "See the caveats in the documentation: http://pandas.pydata.org/pandas-docs/stable/indexing.html#indexing-view-versus-copy\n",
      "  \n"
     ]
    }
   ],
   "source": [
    "# calculate length of reviews not recognized as english\n",
    "df_train_text_en_unclear['length_review'] = df_train_text_en_unclear['sentence_text_spellchecked'].swifter.apply(lambda x: len(x))"
   ]
  },
  {
   "cell_type": "code",
   "execution_count": 373,
   "metadata": {},
   "outputs": [
    {
     "data": {
      "text/html": [
       "<div>\n",
       "<style scoped>\n",
       "    .dataframe tbody tr th:only-of-type {\n",
       "        vertical-align: middle;\n",
       "    }\n",
       "\n",
       "    .dataframe tbody tr th {\n",
       "        vertical-align: top;\n",
       "    }\n",
       "\n",
       "    .dataframe thead th {\n",
       "        text-align: right;\n",
       "    }\n",
       "</style>\n",
       "<table border=\"1\" class=\"dataframe\">\n",
       "  <thead>\n",
       "    <tr style=\"text-align: right;\">\n",
       "      <th></th>\n",
       "      <th>book_id</th>\n",
       "      <th>has_spoiler</th>\n",
       "      <th>spoiler_in_text</th>\n",
       "      <th>length_review</th>\n",
       "    </tr>\n",
       "  </thead>\n",
       "  <tbody>\n",
       "    <tr>\n",
       "      <th>count</th>\n",
       "      <td>9.750000e+02</td>\n",
       "      <td>975.000000</td>\n",
       "      <td>975.000000</td>\n",
       "      <td>975.000000</td>\n",
       "    </tr>\n",
       "    <tr>\n",
       "      <th>mean</th>\n",
       "      <td>1.403203e+07</td>\n",
       "      <td>0.013333</td>\n",
       "      <td>0.008205</td>\n",
       "      <td>2.078974</td>\n",
       "    </tr>\n",
       "    <tr>\n",
       "      <th>std</th>\n",
       "      <td>9.513911e+06</td>\n",
       "      <td>0.114757</td>\n",
       "      <td>0.090256</td>\n",
       "      <td>4.026213</td>\n",
       "    </tr>\n",
       "    <tr>\n",
       "      <th>min</th>\n",
       "      <td>1.000000e+00</td>\n",
       "      <td>0.000000</td>\n",
       "      <td>0.000000</td>\n",
       "      <td>1.000000</td>\n",
       "    </tr>\n",
       "    <tr>\n",
       "      <th>25%</th>\n",
       "      <td>6.592470e+06</td>\n",
       "      <td>0.000000</td>\n",
       "      <td>0.000000</td>\n",
       "      <td>1.000000</td>\n",
       "    </tr>\n",
       "    <tr>\n",
       "      <th>50%</th>\n",
       "      <td>1.478088e+07</td>\n",
       "      <td>0.000000</td>\n",
       "      <td>0.000000</td>\n",
       "      <td>1.000000</td>\n",
       "    </tr>\n",
       "    <tr>\n",
       "      <th>75%</th>\n",
       "      <td>2.089890e+07</td>\n",
       "      <td>0.000000</td>\n",
       "      <td>0.000000</td>\n",
       "      <td>2.000000</td>\n",
       "    </tr>\n",
       "    <tr>\n",
       "      <th>max</th>\n",
       "      <td>3.599877e+07</td>\n",
       "      <td>1.000000</td>\n",
       "      <td>1.000000</td>\n",
       "      <td>50.000000</td>\n",
       "    </tr>\n",
       "  </tbody>\n",
       "</table>\n",
       "</div>"
      ],
      "text/plain": [
       "            book_id  has_spoiler  spoiler_in_text  length_review\n",
       "count  9.750000e+02   975.000000       975.000000     975.000000\n",
       "mean   1.403203e+07     0.013333         0.008205       2.078974\n",
       "std    9.513911e+06     0.114757         0.090256       4.026213\n",
       "min    1.000000e+00     0.000000         0.000000       1.000000\n",
       "25%    6.592470e+06     0.000000         0.000000       1.000000\n",
       "50%    1.478088e+07     0.000000         0.000000       1.000000\n",
       "75%    2.089890e+07     0.000000         0.000000       2.000000\n",
       "max    3.599877e+07     1.000000         1.000000      50.000000"
      ]
     },
     "execution_count": 373,
     "metadata": {},
     "output_type": "execute_result"
    }
   ],
   "source": [
    "df_train_text_en_unclear.describe()"
   ]
  },
  {
   "cell_type": "code",
   "execution_count": 204,
   "metadata": {},
   "outputs": [
    {
     "data": {
      "text/plain": [
       "-0.6999999999999998"
      ]
     },
     "execution_count": 204,
     "metadata": {},
     "output_type": "execute_result"
    }
   ],
   "source": [
    "from textblob import TextBlob\n",
    "b = TextBlob('This was a bad book')\n",
    "b.sentiment.polarity"
   ]
  },
  {
   "cell_type": "code",
   "execution_count": 186,
   "metadata": {},
   "outputs": [
    {
     "data": {
      "text/html": [
       "<div>\n",
       "<style scoped>\n",
       "    .dataframe tbody tr th:only-of-type {\n",
       "        vertical-align: middle;\n",
       "    }\n",
       "\n",
       "    .dataframe tbody tr th {\n",
       "        vertical-align: top;\n",
       "    }\n",
       "\n",
       "    .dataframe thead th {\n",
       "        text-align: right;\n",
       "    }\n",
       "</style>\n",
       "<table border=\"1\" class=\"dataframe\">\n",
       "  <thead>\n",
       "    <tr style=\"text-align: right;\">\n",
       "      <th></th>\n",
       "      <th>book_id</th>\n",
       "      <th>has_spoiler</th>\n",
       "      <th>review_sentences</th>\n",
       "      <th>sentence_text_spellchecked</th>\n",
       "      <th>sentence_text</th>\n",
       "      <th>review_language_1</th>\n",
       "      <th>review_language_start</th>\n",
       "      <th>lang_textblob</th>\n",
       "    </tr>\n",
       "  </thead>\n",
       "  <tbody>\n",
       "    <tr>\n",
       "      <th>854534</th>\n",
       "      <td>15752348</td>\n",
       "      <td>1</td>\n",
       "      <td>[[0, Okay, Ms.], [0, Verdi.], [0, You win.], [...</td>\n",
       "      <td>[okay ms, verdi, you win, this was almost four...</td>\n",
       "      <td>[Okay, Ms., Verdi., You win., This was almost ...</td>\n",
       "      <td>en</td>\n",
       "      <td>af</td>\n",
       "      <td>None</td>\n",
       "    </tr>\n",
       "    <tr>\n",
       "      <th>93384</th>\n",
       "      <td>890</td>\n",
       "      <td>0</td>\n",
       "      <td>[[0, poor George, poor Lenny, poor Crooks.], [...</td>\n",
       "      <td>[poor george poor lenny poor crooks, tragedy]</td>\n",
       "      <td>[poor George, poor Lenny, poor Crooks., Tragedy.]</td>\n",
       "      <td>nl</td>\n",
       "      <td>nl</td>\n",
       "      <td>None</td>\n",
       "    </tr>\n",
       "    <tr>\n",
       "      <th>1118362</th>\n",
       "      <td>23599075</td>\n",
       "      <td>0</td>\n",
       "      <td>[[0, Okay look, I get you Celaeana.], [0, You ...</td>\n",
       "      <td>[okay look i get you celaena, you like reading...</td>\n",
       "      <td>[Okay look, I get you Celaeana., You like read...</td>\n",
       "      <td>en</td>\n",
       "      <td>af</td>\n",
       "      <td>None</td>\n",
       "    </tr>\n",
       "    <tr>\n",
       "      <th>204587</th>\n",
       "      <td>22918050</td>\n",
       "      <td>0</td>\n",
       "      <td>[[0, WHAT IS WRONG WITH THEIR NAMES ?], [0, Ah...</td>\n",
       "      <td>[what is wrong with their names, aren, what, i...</td>\n",
       "      <td>[WHAT IS WRONG WITH THEIR NAMES ?, Ahren ?, Wh...</td>\n",
       "      <td>en</td>\n",
       "      <td>de</td>\n",
       "      <td>None</td>\n",
       "    </tr>\n",
       "    <tr>\n",
       "      <th>887188</th>\n",
       "      <td>24950581</td>\n",
       "      <td>0</td>\n",
       "      <td>[[0, AAAA!!!!], [0, Yes!], [0, Home run, Touch...</td>\n",
       "      <td>[aaa, yes, home run touch down gooooooaaaaalll...</td>\n",
       "      <td>[AAAA!!!!, Yes!, Home run, Touch down, Goooooo...</td>\n",
       "      <td>en</td>\n",
       "      <td>nl</td>\n",
       "      <td>None</td>\n",
       "    </tr>\n",
       "  </tbody>\n",
       "</table>\n",
       "</div>"
      ],
      "text/plain": [
       "          book_id  has_spoiler  \\\n",
       "854534   15752348            1   \n",
       "93384         890            0   \n",
       "1118362  23599075            0   \n",
       "204587   22918050            0   \n",
       "887188   24950581            0   \n",
       "\n",
       "                                          review_sentences  \\\n",
       "854534   [[0, Okay, Ms.], [0, Verdi.], [0, You win.], [...   \n",
       "93384    [[0, poor George, poor Lenny, poor Crooks.], [...   \n",
       "1118362  [[0, Okay look, I get you Celaeana.], [0, You ...   \n",
       "204587   [[0, WHAT IS WRONG WITH THEIR NAMES ?], [0, Ah...   \n",
       "887188   [[0, AAAA!!!!], [0, Yes!], [0, Home run, Touch...   \n",
       "\n",
       "                                sentence_text_spellchecked  \\\n",
       "854534   [okay ms, verdi, you win, this was almost four...   \n",
       "93384        [poor george poor lenny poor crooks, tragedy]   \n",
       "1118362  [okay look i get you celaena, you like reading...   \n",
       "204587   [what is wrong with their names, aren, what, i...   \n",
       "887188   [aaa, yes, home run touch down gooooooaaaaalll...   \n",
       "\n",
       "                                             sentence_text review_language_1  \\\n",
       "854534   [Okay, Ms., Verdi., You win., This was almost ...                en   \n",
       "93384    [poor George, poor Lenny, poor Crooks., Tragedy.]                nl   \n",
       "1118362  [Okay look, I get you Celaeana., You like read...                en   \n",
       "204587   [WHAT IS WRONG WITH THEIR NAMES ?, Ahren ?, Wh...                en   \n",
       "887188   [AAAA!!!!, Yes!, Home run, Touch down, Goooooo...                en   \n",
       "\n",
       "        review_language_start lang_textblob  \n",
       "854534                     af          None  \n",
       "93384                      nl          None  \n",
       "1118362                    af          None  \n",
       "204587                     de          None  \n",
       "887188                     nl          None  "
      ]
     },
     "execution_count": 186,
     "metadata": {},
     "output_type": "execute_result"
    }
   ],
   "source": [
    "df_train_text_not_en.head()"
   ]
  },
  {
   "cell_type": "code",
   "execution_count": null,
   "metadata": {},
   "outputs": [],
   "source": [
    "df_train_text_lang_identical = df_train_text[df_train_text['review_language_1'] != df_train_text[]]"
   ]
  },
  {
   "cell_type": "code",
   "execution_count": null,
   "metadata": {},
   "outputs": [],
   "source": [
    "df_train_text_not_en.shape"
   ]
  },
  {
   "cell_type": "code",
   "execution_count": null,
   "metadata": {},
   "outputs": [],
   "source": [
    "df_train_text_not_en[['sentence_text', 'review_language_1']]"
   ]
  },
  {
   "cell_type": "code",
   "execution_count": null,
   "metadata": {},
   "outputs": [],
   "source": [
    "def textblob_detection(text):\n",
    "    try:\n",
    "        text = ' '.join(text)\n",
    "        b = TextBlob(text)\n",
    "        return b.detect_language()\n",
    "    except:\n",
    "        return None\n",
    "\n",
    "df_train_text_not_en['textblo_lan']=df_train_text_not_en['sentence_text'].swifter.apply(lambda x:textblob_detection(x))\n"
   ]
  },
  {
   "cell_type": "code",
   "execution_count": null,
   "metadata": {},
   "outputs": [],
   "source": [
    "df_train_text_not_en[['sentence_text', 'has_spoiler']]"
   ]
  },
  {
   "cell_type": "markdown",
   "metadata": {},
   "source": [
    "Clearly, there are reviews not (completely) written in english. However, therer are also some reviews that are "
   ]
  },
  {
   "cell_type": "markdown",
   "metadata": {},
   "source": [
    "## Spell checking using SympSpell"
   ]
  },
  {
   "cell_type": "code",
   "execution_count": null,
   "metadata": {},
   "outputs": [],
   "source": [
    "#install and import\n",
    "!python -m pip install -U symspellpy\n",
    "from symspellpy import SymSpell, Verbosity"
   ]
  },
  {
   "cell_type": "markdown",
   "metadata": {},
   "source": [
    "### Build a dictionary based on the description of the books"
   ]
  },
  {
   "cell_type": "markdown",
   "metadata": {},
   "source": [
    "The idea behind this custom dictionary is adding book specific words such as names to the standard english dictionary used by symspell. If even their frequency will be low it might help for spell checking."
   ]
  },
  {
   "cell_type": "code",
   "execution_count": 13,
   "metadata": {},
   "outputs": [],
   "source": [
    "#for text editing, replace contractions\n",
    "#https://en.wikipedia.org/wiki/Wikipedia%3aList_of_English_contractions\n",
    "def decontracted(text):\n",
    "    # specific\n",
    "    text = re.sub(r\"won\\'t\", \"will not\", text)\n",
    "    text = re.sub(r\"can\\'t\", \"can not\", text)\n",
    "    text = re.sub(r\"let\\'s\", \"let us\", text)\n",
    "    \n",
    "\n",
    "    # general\n",
    "    text = re.sub(r\"n\\'t\", \" not\", text)\n",
    "    text = re.sub(r\"\\'re\", \" are\", text)\n",
    "    text = re.sub(r\"\\'s\", \" is\", text)\n",
    "    text = re.sub(r\"\\'d\", \" would\", text)\n",
    "    text = re.sub(r\"\\'ll\", \" will\", text)\n",
    "    text = re.sub(r\"\\'t\", \" not\", text)\n",
    "    text = re.sub(r\"\\'ve\", \" have\", text)\n",
    "    text = re.sub(r\"\\'m\", \" am\", text)\n",
    "    text = re.sub(r\"\\'m\", \" am\", text)\n",
    "    \n",
    "    #words\n",
    "    text = re.sub(\"gimme\", \"give me\", text)\n",
    "    text = re.sub(\"cuz\", \"because\", text)\n",
    "    text = re.sub(\"'cause\", \"give me\", text)\n",
    "    text = re.sub(\"finna\", \"fixing to\", text)\n",
    "    text = re.sub(\"cuz\", \"because\", text)\n",
    "    text = re.sub(\"wanna\", \"want to\", text)\n",
    "    text = re.sub(\"gotta\", \"got to\", text)\n",
    "    text = re.sub(\"hafta\", \"have to\", text)\n",
    "    text = re.sub(\"woulda\", \"would have\", text)\n",
    "    text = re.sub(\"coulda\", \"could have\", text)\n",
    "    text = re.sub(\"shoulda\", \"should have\", text)\n",
    "    text = re.sub(\"ma'am\", \"madam\", text)\n",
    "    text = re.sub(\"howdy\", \"how do you\", text)\n",
    "    text = re.sub(\"let's\", \"let us\", text)\n",
    "    text = re.sub(\"y'all\", \"you all\", text)\n",
    "\n",
    "    return text"
   ]
  },
  {
   "cell_type": "code",
   "execution_count": 29,
   "metadata": {},
   "outputs": [],
   "source": [
    "import re\n",
    "\n",
    "# function to preprocess text\n",
    "def preprocessing(text):\n",
    "    t0 = time.time()\n",
    "    # remove '--' and replace them with whitespace\n",
    "    text = text.replace('-', ' ')\n",
    "    #change to lower case\n",
    "    text=text.lower()\n",
    "    # replace contractions\n",
    "    text = decontracted(text)\n",
    "    #remove urls if there are any\n",
    "    text = re.sub(r'http:\\S+', '', text)\n",
    "    text = re.sub(r'www\\S+', '', text)\n",
    "    #remove emails and words containing @\n",
    "    text = re.sub(\"\\S*@\\S*\\s?\",\" \", text)\n",
    "    # remove digits and words containing digits\n",
    "    text = re.sub(r\"\\d\", \"\", text)\n",
    "    #remove special characters and punctuation\n",
    "    text = re.sub(r'[(,;:@#&$!?.)\"*/-]+', ' ', text)\n",
    "    text = re.sub(r\"[']\", '', text)\n",
    "    # replace whitespaces\n",
    "    text = re.sub(r\"\\s+\", ' ', text).strip()\n",
    "    return text"
   ]
  },
  {
   "cell_type": "code",
   "execution_count": null,
   "metadata": {},
   "outputs": [],
   "source": []
  },
  {
   "cell_type": "code",
   "execution_count": null,
   "metadata": {},
   "outputs": [],
   "source": [
    "#collect text (book descriptions and titles)\n",
    "# we assume that they harly contain spelling errors as the are \n",
    "# for a test run only load the first 100,000 descriptions and titles\n",
    "\n",
    "descriptions = ([d for d in df_train_text.description if d != None])\n",
    "# also add title texts\n",
    "descriptions += ([t for t in df_train_text.title if t != None])\n",
    "\n",
    "description = pd.Series(descriptions).apply(lambda x:preprocessing(x))\n",
    "description_processed = [d for d in description]"
   ]
  },
  {
   "cell_type": "code",
   "execution_count": null,
   "metadata": {},
   "outputs": [],
   "source": [
    "# open dictionary text file and save the words in the words_dict list\n",
    "import pkg_resources\n",
    "\n",
    "dictionary_path = pkg_resources.resource_filename(\"symspellpy\", \"frequency_dictionary_en_82_765.txt\")\n",
    "words_dict = []\n",
    "with(open(dictionary_path, 'r')) as df:\n",
    "    for line in df:\n",
    "        word = line.split()[0]\n",
    "        words_dict.append(word)\n",
    "df.close()\n",
    "words_dict = set(words_dict)"
   ]
  },
  {
   "cell_type": "code",
   "execution_count": null,
   "metadata": {},
   "outputs": [],
   "source": [
    "print(f'The dictionary contains {len(words_dict)} different words and their frequency.')"
   ]
  },
  {
   "cell_type": "code",
   "execution_count": null,
   "metadata": {},
   "outputs": [],
   "source": [
    "#create a frequency count list \n",
    "#only get word count of words not included in the standard english dictionary of symspell\n",
    "#desc2_split = desc2.split()\n",
    "wordlist = []\n",
    "for d in description_processed:\n",
    "    d = d.split()\n",
    "    for word in d:\n",
    "        if word not in words_dict and len(word)>1:\n",
    "            wordlist.append(word)\n",
    "        else:\n",
    "            continue"
   ]
  },
  {
   "cell_type": "code",
   "execution_count": null,
   "metadata": {},
   "outputs": [],
   "source": [
    "wordlist[:100]"
   ]
  },
  {
   "cell_type": "markdown",
   "metadata": {},
   "source": [
    "While going through the wordlist we noticed that it contains french words. These words should not be included in the new dictionary. To test whether other descriptions are written in languages other than 'english', we will use langdetect."
   ]
  },
  {
   "cell_type": "code",
   "execution_count": null,
   "metadata": {},
   "outputs": [],
   "source": [
    "# automatically detect language of description texts\n",
    "# we use try/except as description contains None\n",
    "def detect_language(text):\n",
    "    try:\n",
    "        return detect(text[:300])\n",
    "    except:\n",
    "        return None"
   ]
  },
  {
   "cell_type": "code",
   "execution_count": null,
   "metadata": {},
   "outputs": [],
   "source": [
    "df_train_text['language_description'] = df_train_text['description'].swifter.apply(lambda x: detect_language(x))"
   ]
  },
  {
   "cell_type": "code",
   "execution_count": null,
   "metadata": {},
   "outputs": [],
   "source": [
    "# safe df_train_text\n",
    "df_train_text.to_json('df_train_text.json', orient = 'records')"
   ]
  },
  {
   "cell_type": "code",
   "execution_count": null,
   "metadata": {},
   "outputs": [],
   "source": [
    "#!pip install langdetect\n",
    "#from langdetect import detect\n",
    "\n",
    "# get descriptions only, no titles (note that this is before preprocessing)\n",
    "#languages = [detect(d[:300]) for d in (descriptions)]"
   ]
  },
  {
   "cell_type": "code",
   "execution_count": null,
   "metadata": {},
   "outputs": [],
   "source": [
    "languages_desc = df_train_text['language_description']\n",
    "print(languages_desc.shape)\n",
    "print(f'{round(languages_desc.isnull().sum()/languages_desc.shape[0],2)*100}% of descriptions are missing')\n",
    "languages_desc.fillna('missing', inplace = True)\n",
    "\n",
    "languages_count=np.unique(languages_desc, return_counts=True)\n",
    "languages_count"
   ]
  },
  {
   "cell_type": "code",
   "execution_count": null,
   "metadata": {},
   "outputs": [],
   "source": [
    "fig = sns.barplot(y = languages_count[0], x = np.log(languages_count[1]), palette= 'BrBG' )\n",
    "fig.set(xlabel = 'log(language count)', ylabel = 'languages', title = 'Language of book descriptions')"
   ]
  },
  {
   "cell_type": "code",
   "execution_count": null,
   "metadata": {},
   "outputs": [],
   "source": [
    "# number of non-english book descriptions:\n",
    "print('The predominant language of the book descriptions is english.')\n",
    "print(f'There are {np.sum(languages_count[1])- np.amax(languages_count[1])} books with non-english or missing descriptions.')"
   ]
  },
  {
   "cell_type": "code",
   "execution_count": null,
   "metadata": {},
   "outputs": [],
   "source": [
    "# write english descriptions into one list and all other descriptions in another list\n",
    "descriptions_en = []\n",
    "description_other =[]\n",
    "for des,leng in description_language:\n",
    "    if leng == 'en':\n",
    "        descriptions_en.append(des)\n",
    "    else:\n",
    "        description_other.append((des,leng))"
   ]
  },
  {
   "cell_type": "code",
   "execution_count": null,
   "metadata": {},
   "outputs": [],
   "source": [
    "#somehow the len() function does not work, use a loop to count items\n",
    "i = 0\n",
    "for d in descriptions_en:\n",
    "    i += 1\n",
    "print(f'There are {i} english book descriptions')"
   ]
  },
  {
   "cell_type": "code",
   "execution_count": null,
   "metadata": {},
   "outputs": [],
   "source": [
    "# repeat processing with english descriptions only\n",
    "description_en_processed = [preprocessing(d) for d in descriptions_en]"
   ]
  },
  {
   "cell_type": "code",
   "execution_count": null,
   "metadata": {},
   "outputs": [],
   "source": [
    "#write all words not yet in the standard dictionary to a new list\n",
    "wordlist_en = []\n",
    "for d in description_en_processed:\n",
    "    d = d.split()\n",
    "    for word in d:\n",
    "        if word not in words_dict and len(word)>1:\n",
    "            wordlist_en.append(word)\n",
    "        else:\n",
    "            continue"
   ]
  },
  {
   "cell_type": "code",
   "execution_count": null,
   "metadata": {},
   "outputs": [],
   "source": [
    "#count words\n",
    "wordlist_en_freq = Counter(wordlist_en)"
   ]
  },
  {
   "cell_type": "code",
   "execution_count": null,
   "metadata": {},
   "outputs": [],
   "source": [
    "# look at the first 10 \n",
    "i = 0\n",
    "for w, c in wordlist_en_freq.items():\n",
    "    print(w, c)\n",
    "    i += 1\n",
    "    if i == 10:\n",
    "        break"
   ]
  },
  {
   "cell_type": "code",
   "execution_count": null,
   "metadata": {},
   "outputs": [],
   "source": [
    "import os\n",
    "from shutil import copyfile\n",
    "# copy default dictionary file to working directory and rename\n",
    "curent_path = os.getcwd()\n",
    "copyfile(dictionary_path, str(curent_path) + '/custom_dictionary.txt')"
   ]
  },
  {
   "cell_type": "code",
   "execution_count": null,
   "metadata": {},
   "outputs": [],
   "source": [
    "# add custom frequency list to dictionary\n",
    "with open('custom_dictionary.txt', 'a') as cd:\n",
    "    for w, c in wordlist_en_freq.items():\n",
    "        cd.write(f'{w} {c}\\n')\n",
    "cd.close()"
   ]
  },
  {
   "cell_type": "code",
   "execution_count": null,
   "metadata": {},
   "outputs": [],
   "source": [
    "from symspellpy import SymSpell, Verbosity\n",
    "\n",
    "#initiatae SmSpell with the custom  dictionary\n",
    "custom_dictionary_path = os.path.abspath(\"custom_dictionary.txt\") \n",
    "symspell = SymSpell()\n",
    "#load dictionary\n",
    "symspell.load_dictionary(custom_dictionary_path, term_index=0, count_index=1)\n",
    "\n",
    "def spellcheck(text):\n",
    "    '''\n",
    "    function takes string as input, preprocesses text and returns a spellchecked text\n",
    "    '''\n",
    "    \n",
    "    #preprocess text\n",
    "    text = preprocessing(text)\n",
    "    #hand to spellchecking and return the best result only if corrected phrase is more than just a single letter\n",
    "    # otherwise continue\n",
    "    sp = symspell.lookup_compound(text, max_edit_distance=1)\n",
    "    if sp[0].term == None:\n",
    "        return text\n",
    "    else:\n",
    "        return sp[0].term"
   ]
  },
  {
   "cell_type": "code",
   "execution_count": 30,
   "metadata": {},
   "outputs": [],
   "source": [
    "import os\n",
    "from symspellpy import SymSpell, Verbosity\n",
    "\n",
    "custom_dictionary_path = os.path.abspath(\"custom_dictionary.txt\") \n",
    "symspell = SymSpell()\n",
    "#load dictionary\n",
    "symspell.load_dictionary(custom_dictionary_path, term_index=0, count_index=1)\n",
    "\n",
    "def spellcheck_list(text):\n",
    "    '''\n",
    "    function takes list of strings as input, preprocesses text and returns a spellchecked text\n",
    "    '''\n",
    "    \n",
    "    #initiatae SmSpell with the custom  dictionary\n",
    "    \n",
    "    store = []\n",
    "    for l,s in text:\n",
    "    #preprocess text\n",
    "        s = preprocessing(s)\n",
    "    #hand to spellchecking and return the best result only if corrected phrase is more than just a single letter\n",
    "    # otherwise continue\n",
    "        sp = symspell.lookup_compound(s, max_edit_distance=1)\n",
    "        if sp[0].term == None:\n",
    "            store.append(s)\n",
    "        else:\n",
    "            store.append(sp[0].term)\n",
    "    return store"
   ]
  },
  {
   "cell_type": "code",
   "execution_count": 138,
   "metadata": {},
   "outputs": [
    {
     "data": {
      "text/html": [
       "<div>\n",
       "<style scoped>\n",
       "    .dataframe tbody tr th:only-of-type {\n",
       "        vertical-align: middle;\n",
       "    }\n",
       "\n",
       "    .dataframe tbody tr th {\n",
       "        vertical-align: top;\n",
       "    }\n",
       "\n",
       "    .dataframe thead th {\n",
       "        text-align: right;\n",
       "    }\n",
       "</style>\n",
       "<table border=\"1\" class=\"dataframe\">\n",
       "  <thead>\n",
       "    <tr style=\"text-align: right;\">\n",
       "      <th></th>\n",
       "      <th>book_id</th>\n",
       "      <th>has_spoiler</th>\n",
       "      <th>review_sentences</th>\n",
       "      <th>sentence_text_spellchecked</th>\n",
       "      <th>sentence_text</th>\n",
       "      <th>review_language_1</th>\n",
       "      <th>review_language_start</th>\n",
       "    </tr>\n",
       "  </thead>\n",
       "  <tbody>\n",
       "    <tr>\n",
       "      <th>147051</th>\n",
       "      <td>11735983</td>\n",
       "      <td>0</td>\n",
       "      <td>[[0, Read this review on my blog!], [0, http:/...</td>\n",
       "      <td>[read this review on my blog, , definitely bet...</td>\n",
       "      <td>[Read this review on my blog!, http://roseshad...</td>\n",
       "      <td>en</td>\n",
       "      <td>en</td>\n",
       "    </tr>\n",
       "    <tr>\n",
       "      <th>1322675</th>\n",
       "      <td>18803672</td>\n",
       "      <td>0</td>\n",
       "      <td>[[0, I was writing a comment that I realized w...</td>\n",
       "      <td>[i was writing a comment that i realized would...</td>\n",
       "      <td>[I was writing a comment that I realized would...</td>\n",
       "      <td>en</td>\n",
       "      <td>en</td>\n",
       "    </tr>\n",
       "    <tr>\n",
       "      <th>1221889</th>\n",
       "      <td>342667</td>\n",
       "      <td>0</td>\n",
       "      <td>[[0, Charlie is turning 30 and her younger sis...</td>\n",
       "      <td>[charlie is turning and her younger sister is ...</td>\n",
       "      <td>[Charlie is turning 30 and her younger sister ...</td>\n",
       "      <td>en</td>\n",
       "      <td>en</td>\n",
       "    </tr>\n",
       "    <tr>\n",
       "      <th>1008531</th>\n",
       "      <td>30422494</td>\n",
       "      <td>0</td>\n",
       "      <td>[[0, 3.5 is more like it even though this has ...</td>\n",
       "      <td>[is more like it even though this has got to b...</td>\n",
       "      <td>[3.5 is more like it even though this has got ...</td>\n",
       "      <td>en</td>\n",
       "      <td>en</td>\n",
       "    </tr>\n",
       "    <tr>\n",
       "      <th>859048</th>\n",
       "      <td>13517455</td>\n",
       "      <td>1</td>\n",
       "      <td>[[0, Review originally posted at Step Into Fic...</td>\n",
       "      <td>[review originally posted at step into fiction...</td>\n",
       "      <td>[Review originally posted at Step Into Fiction...</td>\n",
       "      <td>en</td>\n",
       "      <td>en</td>\n",
       "    </tr>\n",
       "  </tbody>\n",
       "</table>\n",
       "</div>"
      ],
      "text/plain": [
       "          book_id  has_spoiler  \\\n",
       "147051   11735983            0   \n",
       "1322675  18803672            0   \n",
       "1221889    342667            0   \n",
       "1008531  30422494            0   \n",
       "859048   13517455            1   \n",
       "\n",
       "                                          review_sentences  \\\n",
       "147051   [[0, Read this review on my blog!], [0, http:/...   \n",
       "1322675  [[0, I was writing a comment that I realized w...   \n",
       "1221889  [[0, Charlie is turning 30 and her younger sis...   \n",
       "1008531  [[0, 3.5 is more like it even though this has ...   \n",
       "859048   [[0, Review originally posted at Step Into Fic...   \n",
       "\n",
       "                                sentence_text_spellchecked  \\\n",
       "147051   [read this review on my blog, , definitely bet...   \n",
       "1322675  [i was writing a comment that i realized would...   \n",
       "1221889  [charlie is turning and her younger sister is ...   \n",
       "1008531  [is more like it even though this has got to b...   \n",
       "859048   [review originally posted at step into fiction...   \n",
       "\n",
       "                                             sentence_text review_language_1  \\\n",
       "147051   [Read this review on my blog!, http://roseshad...                en   \n",
       "1322675  [I was writing a comment that I realized would...                en   \n",
       "1221889  [Charlie is turning 30 and her younger sister ...                en   \n",
       "1008531  [3.5 is more like it even though this has got ...                en   \n",
       "859048   [Review originally posted at Step Into Fiction...                en   \n",
       "\n",
       "        review_language_start  \n",
       "147051                     en  \n",
       "1322675                    en  \n",
       "1221889                    en  \n",
       "1008531                    en  \n",
       "859048                     en  "
      ]
     },
     "execution_count": 138,
     "metadata": {},
     "output_type": "execute_result"
    }
   ],
   "source": [
    "df_train_text.head()"
   ]
  },
  {
   "cell_type": "code",
   "execution_count": 32,
   "metadata": {},
   "outputs": [
    {
     "data": {
      "application/vnd.jupyter.widget-view+json": {
       "model_id": "77c6ee53ccb046b28d4ef0dd1d962fa8",
       "version_major": 2,
       "version_minor": 0
      },
      "text/plain": [
       "HBox(children=(FloatProgress(value=0.0, description='Pandas Apply', max=964623.0, style=ProgressStyle(descript…"
      ]
     },
     "metadata": {},
     "output_type": "display_data"
    },
    {
     "name": "stdout",
     "output_type": "stream",
     "text": [
      "\n"
     ]
    }
   ],
   "source": [
    "df_train_text['sentence_text_spellchecked'] = df_train_text['review_sentences'].swifter.apply(lambda x:spellcheck_list(x))\n"
   ]
  },
  {
   "cell_type": "code",
   "execution_count": 36,
   "metadata": {},
   "outputs": [],
   "source": [
    "df_train_text.to_json('train_set_text_spellcheck.json', orient = 'records', lines = True, compression = 'gzip'  )"
   ]
  },
  {
   "cell_type": "code",
   "execution_count": 237,
   "metadata": {},
   "outputs": [],
   "source": [
    "def find_spoiler(text_list):\n",
    "    for sentence in text_list:\n",
    "        if 'spoiler' in sentence:\n",
    "            return 1\n",
    "    \n",
    "    return 0"
   ]
  },
  {
   "cell_type": "code",
   "execution_count": 244,
   "metadata": {},
   "outputs": [
    {
     "data": {
      "application/vnd.jupyter.widget-view+json": {
       "model_id": "3b2190dd1d2741dab39ce46e533d4286",
       "version_major": 2,
       "version_minor": 0
      },
      "text/plain": [
       "HBox(children=(FloatProgress(value=0.0, description='Pandas Apply', max=964623.0, style=ProgressStyle(descript…"
      ]
     },
     "metadata": {},
     "output_type": "display_data"
    },
    {
     "name": "stdout",
     "output_type": "stream",
     "text": [
      "\n"
     ]
    }
   ],
   "source": [
    "df_train_text['spoiler_in_text']=df_train_text['sentence_text'].swifter.apply(lambda x: find_spoiler(x))"
   ]
  },
  {
   "cell_type": "code",
   "execution_count": 249,
   "metadata": {},
   "outputs": [],
   "source": [
    "a = df_train_text.groupby('has_spoiler')['spoiler_in_text'].mean()"
   ]
  },
  {
   "cell_type": "code",
   "execution_count": 302,
   "metadata": {},
   "outputs": [
    {
     "name": "stderr",
     "output_type": "stream",
     "text": [
      "/opt/anaconda3/envs/nf/lib/python3.6/site-packages/ipykernel_launcher.py:3: UserWarning: FixedFormatter should only be used together with FixedLocator\n",
      "  This is separate from the ipykernel package so we can avoid doing imports until\n"
     ]
    },
    {
     "data": {
      "text/plain": [
       "Text(0.5, 1.0, '\"spoiler\" in Review\\n')"
      ]
     },
     "execution_count": 302,
     "metadata": {},
     "output_type": "execute_result"
    },
    {
     "data": {
      "image/png": "[encoded data removed]",
      "text/plain": [
       "<Figure size 432x288 with 1 Axes>"
      ]
     },
     "metadata": {
      "needs_background": "light"
     },
     "output_type": "display_data"
    }
   ],
   "source": [
    "ax = sns.barplot(x = a.index, y = a.values*100, palette = 'BrBG', edgecolor = '0.2')\n",
    "ax.set_xticklabels(['safe review', 'spoiler review'], fontsize = 12)\n",
    "ax.set_yticklabels( [0,2,4,6,8,10,12],fontsize = 12)\n",
    "\n",
    "ax.set_xlabel(xlabel = 'Review', fontsize = 15 )\n",
    "ax.set_ylabel(ylabel = '% of reviews containing \\n \"spoiler\"', fontsize = 15)\n",
    "ax.axes.set_title('\"spoiler\" in Review\\n', fontsize = 20)\n",
    "\n",
    "#, ['safe review', 'spoiler review'])"
   ]
  },
  {
   "cell_type": "code",
   "execution_count": 70,
   "metadata": {},
   "outputs": [],
   "source": [
    "import spacy\n",
    "from spacy import displacy\n",
    "from collections import Counter\n",
    "import en_core_web_sm\n",
    "nlp = en_core_web_sm.load()\n",
    "\n",
    "def ned(text):\n",
    "    text = re.sub(r'http:\\S+', '', text)\n",
    "    text = re.sub(r'www\\S+', '', text)\n",
    "    text = re.sub(\"\\S*@\\S*\\s?\",\" \", text)\n",
    "    \n",
    "    doc = nlp(text)\n",
    "    \n",
    "    count_PERSON = 0\n",
    "    count_LOC = 0\n",
    "    for x in doc.ents:\n",
    "        if x.label_ == 'PERSON' or x.label_ == 'ORG':\n",
    "            count_PERSON +=1\n",
    "        elif x.label_ == 'LOC' or x.label_ == 'GPE':\n",
    "            count_LOC += 1\n",
    "    return (count_PERSON, count_LOC)"
   ]
  },
  {
   "cell_type": "code",
   "execution_count": 57,
   "metadata": {},
   "outputs": [
    {
     "data": {
      "text/plain": [
       "62815"
      ]
     },
     "execution_count": 57,
     "metadata": {},
     "output_type": "execute_result"
    }
   ],
   "source": [
    "len(df_spoiler_reviews)"
   ]
  },
  {
   "cell_type": "code",
   "execution_count": 58,
   "metadata": {},
   "outputs": [],
   "source": [
    "df_spoiler_reviews = df_train_text[df_train_text['has_spoiler'] == 1]\n",
    "df_safe_reviews = df_train_text.sample(62815)[df_train_text['has_spoiler'] == 0][:len(df_spoiler_reviews)]"
   ]
  },
  {
   "cell_type": "code",
   "execution_count": null,
   "metadata": {},
   "outputs": [],
   "source": []
  },
  {
   "cell_type": "code",
   "execution_count": 46,
   "metadata": {},
   "outputs": [
    {
     "data": {
      "text/html": [
       "<div>\n",
       "<style scoped>\n",
       "    .dataframe tbody tr th:only-of-type {\n",
       "        vertical-align: middle;\n",
       "    }\n",
       "\n",
       "    .dataframe tbody tr th {\n",
       "        vertical-align: top;\n",
       "    }\n",
       "\n",
       "    .dataframe thead th {\n",
       "        text-align: right;\n",
       "    }\n",
       "</style>\n",
       "<table border=\"1\" class=\"dataframe\">\n",
       "  <thead>\n",
       "    <tr style=\"text-align: right;\">\n",
       "      <th></th>\n",
       "      <th>book_id</th>\n",
       "      <th>has_spoiler</th>\n",
       "      <th>review_sentences</th>\n",
       "      <th>sentence_text_spellchecked</th>\n",
       "    </tr>\n",
       "  </thead>\n",
       "  <tbody>\n",
       "    <tr>\n",
       "      <th>859048</th>\n",
       "      <td>13517455</td>\n",
       "      <td>1</td>\n",
       "      <td>[[0, Review originally posted at Step Into Fic...</td>\n",
       "      <td>[review originally posted at step into fiction...</td>\n",
       "    </tr>\n",
       "    <tr>\n",
       "      <th>1079332</th>\n",
       "      <td>13620</td>\n",
       "      <td>1</td>\n",
       "      <td>[[0, This is an interesting volume in which L ...</td>\n",
       "      <td>[this is an interesting volume in which a lear...</td>\n",
       "    </tr>\n",
       "    <tr>\n",
       "      <th>135626</th>\n",
       "      <td>16096824</td>\n",
       "      <td>1</td>\n",
       "      <td>[[0, I'm actually surprised at how much I enjo...</td>\n",
       "      <td>[i am actually surprised at how much i enjoyed...</td>\n",
       "    </tr>\n",
       "    <tr>\n",
       "      <th>885360</th>\n",
       "      <td>658351</td>\n",
       "      <td>1</td>\n",
       "      <td>[[0, OK, from the date and comments I've read ...</td>\n",
       "      <td>[ok from the date and comments i have read abo...</td>\n",
       "    </tr>\n",
       "    <tr>\n",
       "      <th>802134</th>\n",
       "      <td>25526965</td>\n",
       "      <td>1</td>\n",
       "      <td>[[1, The best one of the three book-series - p...</td>\n",
       "      <td>[the best one of the three book series partly ...</td>\n",
       "    </tr>\n",
       "  </tbody>\n",
       "</table>\n",
       "</div>"
      ],
      "text/plain": [
       "          book_id  has_spoiler  \\\n",
       "859048   13517455            1   \n",
       "1079332     13620            1   \n",
       "135626   16096824            1   \n",
       "885360     658351            1   \n",
       "802134   25526965            1   \n",
       "\n",
       "                                          review_sentences  \\\n",
       "859048   [[0, Review originally posted at Step Into Fic...   \n",
       "1079332  [[0, This is an interesting volume in which L ...   \n",
       "135626   [[0, I'm actually surprised at how much I enjo...   \n",
       "885360   [[0, OK, from the date and comments I've read ...   \n",
       "802134   [[1, The best one of the three book-series - p...   \n",
       "\n",
       "                                sentence_text_spellchecked  \n",
       "859048   [review originally posted at step into fiction...  \n",
       "1079332  [this is an interesting volume in which a lear...  \n",
       "135626   [i am actually surprised at how much i enjoyed...  \n",
       "885360   [ok from the date and comments i have read abo...  \n",
       "802134   [the best one of the three book series partly ...  "
      ]
     },
     "execution_count": 46,
     "metadata": {},
     "output_type": "execute_result"
    }
   ],
   "source": [
    "df_spoiler_reviews.head()"
   ]
  },
  {
   "cell_type": "code",
   "execution_count": 50,
   "metadata": {},
   "outputs": [
    {
     "data": {
      "application/vnd.jupyter.widget-view+json": {
       "model_id": "4ab2e8fc6294449f9d2e9626b3f5a58f",
       "version_major": 2,
       "version_minor": 0
      },
      "text/plain": [
       "HBox(children=(FloatProgress(value=0.0, description='Pandas Apply', max=62815.0, style=ProgressStyle(descripti…"
      ]
     },
     "metadata": {},
     "output_type": "display_data"
    },
    {
     "name": "stdout",
     "output_type": "stream",
     "text": [
      "\n"
     ]
    },
    {
     "name": "stderr",
     "output_type": "stream",
     "text": [
      "/opt/anaconda3/envs/nf/lib/python3.6/site-packages/ipykernel_launcher.py:2: SettingWithCopyWarning: \n",
      "A value is trying to be set on a copy of a slice from a DataFrame.\n",
      "Try using .loc[row_indexer,col_indexer] = value instead\n",
      "\n",
      "See the caveats in the documentation: http://pandas.pydata.org/pandas-docs/stable/indexing.html#indexing-view-versus-copy\n",
      "  \n"
     ]
    }
   ],
   "source": [
    "df_spoiler_reviews['spoiler_sentences'] = df_spoiler_reviews['review_sentences'].swifter.apply(lambda x:get_sentence_text(x))\n",
    "df_spoiler_reviews['spoiler_labels'] = df_spoiler_reviews['review_sentences'].swifter.apply(lambda x:get_sentence_label(x))\n"
   ]
  },
  {
   "cell_type": "code",
   "execution_count": 52,
   "metadata": {},
   "outputs": [
    {
     "data": {
      "text/html": [
       "<div>\n",
       "<style scoped>\n",
       "    .dataframe tbody tr th:only-of-type {\n",
       "        vertical-align: middle;\n",
       "    }\n",
       "\n",
       "    .dataframe tbody tr th {\n",
       "        vertical-align: top;\n",
       "    }\n",
       "\n",
       "    .dataframe thead th {\n",
       "        text-align: right;\n",
       "    }\n",
       "</style>\n",
       "<table border=\"1\" class=\"dataframe\">\n",
       "  <thead>\n",
       "    <tr style=\"text-align: right;\">\n",
       "      <th></th>\n",
       "      <th>book_id</th>\n",
       "      <th>has_spoiler</th>\n",
       "      <th>review_sentences</th>\n",
       "      <th>sentence_text_spellchecked</th>\n",
       "      <th>spoiler_sentences</th>\n",
       "      <th>spoiler_labels</th>\n",
       "    </tr>\n",
       "  </thead>\n",
       "  <tbody>\n",
       "    <tr>\n",
       "      <th>859048</th>\n",
       "      <td>13517455</td>\n",
       "      <td>1</td>\n",
       "      <td>[[0, Review originally posted at Step Into Fic...</td>\n",
       "      <td>[review originally posted at step into fiction...</td>\n",
       "      <td>[Review originally posted at Step Into Fiction...</td>\n",
       "      <td>[0, 0, 0, 0, 0, 0, 0, 0, 0, 0, 0, 0, 0, 0, 0, ...</td>\n",
       "    </tr>\n",
       "    <tr>\n",
       "      <th>1079332</th>\n",
       "      <td>13620</td>\n",
       "      <td>1</td>\n",
       "      <td>[[0, This is an interesting volume in which L ...</td>\n",
       "      <td>[this is an interesting volume in which a lear...</td>\n",
       "      <td>[This is an interesting volume in which L lear...</td>\n",
       "      <td>[0, 1, 1, 0]</td>\n",
       "    </tr>\n",
       "    <tr>\n",
       "      <th>135626</th>\n",
       "      <td>16096824</td>\n",
       "      <td>1</td>\n",
       "      <td>[[0, I'm actually surprised at how much I enjo...</td>\n",
       "      <td>[i am actually surprised at how much i enjoyed...</td>\n",
       "      <td>[I'm actually surprised at how much I enjoyed ...</td>\n",
       "      <td>[0, 0, 0, 0, 0, 0, 0, 0, 0, 1, 0, 0]</td>\n",
       "    </tr>\n",
       "    <tr>\n",
       "      <th>885360</th>\n",
       "      <td>658351</td>\n",
       "      <td>1</td>\n",
       "      <td>[[0, OK, from the date and comments I've read ...</td>\n",
       "      <td>[ok from the date and comments i have read abo...</td>\n",
       "      <td>[OK, from the date and comments I've read abou...</td>\n",
       "      <td>[0, 0, 0, 0, 0, 0, 0, 0, 0, 0, 0, 1, 1, 1, 1, ...</td>\n",
       "    </tr>\n",
       "    <tr>\n",
       "      <th>802134</th>\n",
       "      <td>25526965</td>\n",
       "      <td>1</td>\n",
       "      <td>[[1, The best one of the three book-series - p...</td>\n",
       "      <td>[the best one of the three book series partly ...</td>\n",
       "      <td>[The best one of the three book-series - partl...</td>\n",
       "      <td>[1]</td>\n",
       "    </tr>\n",
       "  </tbody>\n",
       "</table>\n",
       "</div>"
      ],
      "text/plain": [
       "          book_id  has_spoiler  \\\n",
       "859048   13517455            1   \n",
       "1079332     13620            1   \n",
       "135626   16096824            1   \n",
       "885360     658351            1   \n",
       "802134   25526965            1   \n",
       "\n",
       "                                          review_sentences  \\\n",
       "859048   [[0, Review originally posted at Step Into Fic...   \n",
       "1079332  [[0, This is an interesting volume in which L ...   \n",
       "135626   [[0, I'm actually surprised at how much I enjo...   \n",
       "885360   [[0, OK, from the date and comments I've read ...   \n",
       "802134   [[1, The best one of the three book-series - p...   \n",
       "\n",
       "                                sentence_text_spellchecked  \\\n",
       "859048   [review originally posted at step into fiction...   \n",
       "1079332  [this is an interesting volume in which a lear...   \n",
       "135626   [i am actually surprised at how much i enjoyed...   \n",
       "885360   [ok from the date and comments i have read abo...   \n",
       "802134   [the best one of the three book series partly ...   \n",
       "\n",
       "                                         spoiler_sentences  \\\n",
       "859048   [Review originally posted at Step Into Fiction...   \n",
       "1079332  [This is an interesting volume in which L lear...   \n",
       "135626   [I'm actually surprised at how much I enjoyed ...   \n",
       "885360   [OK, from the date and comments I've read abou...   \n",
       "802134   [The best one of the three book-series - partl...   \n",
       "\n",
       "                                            spoiler_labels  \n",
       "859048   [0, 0, 0, 0, 0, 0, 0, 0, 0, 0, 0, 0, 0, 0, 0, ...  \n",
       "1079332                                       [0, 1, 1, 0]  \n",
       "135626                [0, 0, 0, 0, 0, 0, 0, 0, 0, 1, 0, 0]  \n",
       "885360   [0, 0, 0, 0, 0, 0, 0, 0, 0, 0, 0, 1, 1, 1, 1, ...  \n",
       "802134                                                 [1]  "
      ]
     },
     "execution_count": 52,
     "metadata": {},
     "output_type": "execute_result"
    }
   ],
   "source": [
    "df_spoiler_reviews.head()"
   ]
  },
  {
   "cell_type": "code",
   "execution_count": 61,
   "metadata": {},
   "outputs": [
    {
     "name": "stderr",
     "output_type": "stream",
     "text": [
      "\n",
      "  0%|          | 0/62815 [00:00<?, ?it/s]\u001b[A\n",
      "  2%|▏         | 1412/62815 [00:00<00:04, 14038.71it/s]\u001b[A\n",
      "  4%|▍         | 2479/62815 [00:00<00:04, 12820.75it/s]\u001b[A\n",
      "  6%|▌         | 3575/62815 [00:00<00:04, 12197.13it/s]\u001b[A\n",
      "  8%|▊         | 4854/62815 [00:00<00:04, 12368.05it/s]\u001b[A\n",
      " 10%|▉         | 5989/62815 [00:00<00:04, 12042.69it/s]\u001b[A\n",
      " 11%|█▏        | 7161/62815 [00:00<00:04, 11942.22it/s]\u001b[A\n",
      " 13%|█▎        | 8199/62815 [00:00<00:04, 11074.98it/s]\u001b[A\n",
      " 15%|█▍        | 9210/62815 [00:00<00:05, 9268.92it/s] \u001b[A\n",
      " 16%|█▋        | 10301/62815 [00:00<00:05, 9401.16it/s]\u001b[A\n",
      " 19%|█▉        | 11957/62815 [00:01<00:04, 10786.26it/s]\u001b[A\n",
      " 23%|██▎       | 14488/62815 [00:01<00:03, 13027.28it/s]\u001b[A\n",
      " 26%|██▌       | 16047/62815 [00:01<00:03, 12759.67it/s]\u001b[A\n",
      " 30%|██▉       | 18679/62815 [00:01<00:02, 15091.96it/s]\u001b[A\n",
      " 33%|███▎      | 20488/62815 [00:01<00:02, 14781.86it/s]\u001b[A\n",
      " 35%|███▌      | 22178/62815 [00:01<00:02, 14521.10it/s]\u001b[A\n",
      " 38%|███▊      | 23779/62815 [00:01<00:03, 12648.86it/s]\u001b[A\n",
      " 40%|████      | 25286/62815 [00:01<00:02, 13282.63it/s]\u001b[A\n",
      " 43%|████▎     | 26726/62815 [00:02<00:02, 12415.20it/s]\u001b[A\n",
      " 45%|████▍     | 28058/62815 [00:02<00:02, 11675.76it/s]\u001b[A\n",
      " 47%|████▋     | 29443/62815 [00:02<00:02, 12252.00it/s]\u001b[A\n",
      " 49%|████▉     | 31002/62815 [00:02<00:02, 13092.35it/s]\u001b[A\n",
      " 52%|█████▏    | 32401/62815 [00:02<00:02, 13347.52it/s]\u001b[A\n",
      " 54%|█████▍    | 33777/62815 [00:02<00:02, 13417.26it/s]\u001b[A\n",
      " 56%|█████▋    | 35369/62815 [00:02<00:01, 14081.34it/s]\u001b[A\n",
      " 59%|█████▊    | 36835/62815 [00:02<00:01, 14248.07it/s]\u001b[A\n",
      " 61%|██████▏   | 38499/62815 [00:02<00:01, 14887.13it/s]\u001b[A\n",
      " 64%|██████▎   | 40010/62815 [00:02<00:01, 14666.69it/s]\u001b[A\n",
      " 66%|██████▌   | 41504/62815 [00:03<00:01, 14745.87it/s]\u001b[A\n",
      " 69%|██████▊   | 43080/62815 [00:03<00:01, 15034.85it/s]\u001b[A\n",
      " 71%|███████   | 44593/62815 [00:03<00:01, 12198.05it/s]\u001b[A\n",
      " 73%|███████▎  | 45907/62815 [00:03<00:01, 12032.09it/s]\u001b[A\n",
      " 75%|███████▌  | 47176/62815 [00:03<00:01, 11607.29it/s]\u001b[A\n",
      " 77%|███████▋  | 48387/62815 [00:03<00:01, 11700.89it/s]\u001b[A\n",
      " 79%|███████▉  | 49770/62815 [00:03<00:01, 12255.74it/s]\u001b[A\n",
      " 82%|████████▏ | 51232/62815 [00:03<00:00, 12880.47it/s]\u001b[A\n",
      " 84%|████████▍ | 52818/62815 [00:04<00:00, 13649.40it/s]\u001b[A\n",
      " 86%|████████▋ | 54284/62815 [00:04<00:00, 13937.61it/s]\u001b[A\n",
      " 89%|████████▊ | 55703/62815 [00:04<00:00, 13921.64it/s]\u001b[A\n",
      " 91%|█████████ | 57113/62815 [00:04<00:00, 13946.35it/s]\u001b[A\n",
      " 93%|█████████▎| 58536/62815 [00:04<00:00, 14030.16it/s]\u001b[A\n",
      " 95%|█████████▌| 59948/62815 [00:04<00:00, 13752.39it/s]\u001b[A\n",
      " 98%|█████████▊| 61331/62815 [00:04<00:00, 13268.85it/s]\u001b[A\n",
      "100%|██████████| 62815/62815 [00:04<00:00, 13120.24it/s]\u001b[A\n",
      "\n",
      "  0%|          | 0/62815 [00:00<?, ?it/s]\u001b[A\n",
      "  6%|▌         | 3784/62815 [00:00<00:01, 37832.82it/s]\u001b[A\n",
      " 14%|█▎        | 8591/62815 [00:00<00:01, 40413.47it/s]\u001b[A\n",
      " 22%|██▏       | 13530/62815 [00:00<00:01, 42743.84it/s]\u001b[A\n",
      " 32%|███▏      | 20324/62815 [00:00<00:00, 48057.19it/s]\u001b[A\n",
      " 39%|███▉      | 24488/62815 [00:00<00:00, 45017.75it/s]\u001b[A\n",
      " 50%|████▉     | 31131/62815 [00:00<00:00, 49831.29it/s]\u001b[A\n",
      " 57%|█████▋    | 35987/62815 [00:00<00:00, 44439.36it/s]\u001b[A\n",
      " 68%|██████▊   | 42756/62815 [00:00<00:00, 49542.80it/s]\u001b[A\n",
      " 78%|███████▊  | 49132/62815 [00:00<00:00, 53093.31it/s]\u001b[A\n",
      "100%|██████████| 62815/62815 [00:01<00:00, 55946.60it/s]\u001b[A\n"
     ]
    }
   ],
   "source": [
    "sentences = []\n",
    "labels = []\n",
    "for r in tqdm(df_spoiler_reviews.review_sentences):\n",
    "    for l, sentence in r:\n",
    "        labels.append(l)\n",
    "        sentences.append(sentence)\n",
    "for r in tqdm(df_safe_reviews.review_sentences):\n",
    "    for l, sentence in r:\n",
    "        labels.append(2)\n",
    "        sentences.append(sentence)"
   ]
  },
  {
   "cell_type": "code",
   "execution_count": 213,
   "metadata": {},
   "outputs": [
    {
     "data": {
      "text/html": [
       "<div>\n",
       "<style scoped>\n",
       "    .dataframe tbody tr th:only-of-type {\n",
       "        vertical-align: middle;\n",
       "    }\n",
       "\n",
       "    .dataframe tbody tr th {\n",
       "        vertical-align: top;\n",
       "    }\n",
       "\n",
       "    .dataframe thead th {\n",
       "        text-align: right;\n",
       "    }\n",
       "</style>\n",
       "<table border=\"1\" class=\"dataframe\">\n",
       "  <thead>\n",
       "    <tr style=\"text-align: right;\">\n",
       "      <th></th>\n",
       "      <th>book_id</th>\n",
       "      <th>has_spoiler</th>\n",
       "      <th>review_sentences</th>\n",
       "      <th>sentence_text_spellchecked</th>\n",
       "    </tr>\n",
       "  </thead>\n",
       "  <tbody>\n",
       "    <tr>\n",
       "      <th>147051</th>\n",
       "      <td>11735983</td>\n",
       "      <td>0</td>\n",
       "      <td>[[0, Read this review on my blog!], [0, http:/...</td>\n",
       "      <td>[read this review on my blog, , definitely bet...</td>\n",
       "    </tr>\n",
       "    <tr>\n",
       "      <th>1322675</th>\n",
       "      <td>18803672</td>\n",
       "      <td>0</td>\n",
       "      <td>[[0, I was writing a comment that I realized w...</td>\n",
       "      <td>[i was writing a comment that i realized would...</td>\n",
       "    </tr>\n",
       "    <tr>\n",
       "      <th>1221889</th>\n",
       "      <td>342667</td>\n",
       "      <td>0</td>\n",
       "      <td>[[0, Charlie is turning 30 and her younger sis...</td>\n",
       "      <td>[charlie is turning and her younger sister is ...</td>\n",
       "    </tr>\n",
       "    <tr>\n",
       "      <th>1008531</th>\n",
       "      <td>30422494</td>\n",
       "      <td>0</td>\n",
       "      <td>[[0, 3.5 is more like it even though this has ...</td>\n",
       "      <td>[is more like it even though this has got to b...</td>\n",
       "    </tr>\n",
       "    <tr>\n",
       "      <th>399220</th>\n",
       "      <td>17934530</td>\n",
       "      <td>0</td>\n",
       "      <td>[[0, Having just recently read his more recent...</td>\n",
       "      <td>[having just recently read his more recent boo...</td>\n",
       "    </tr>\n",
       "  </tbody>\n",
       "</table>\n",
       "</div>"
      ],
      "text/plain": [
       "          book_id  has_spoiler  \\\n",
       "147051   11735983            0   \n",
       "1322675  18803672            0   \n",
       "1221889    342667            0   \n",
       "1008531  30422494            0   \n",
       "399220   17934530            0   \n",
       "\n",
       "                                          review_sentences  \\\n",
       "147051   [[0, Read this review on my blog!], [0, http:/...   \n",
       "1322675  [[0, I was writing a comment that I realized w...   \n",
       "1221889  [[0, Charlie is turning 30 and her younger sis...   \n",
       "1008531  [[0, 3.5 is more like it even though this has ...   \n",
       "399220   [[0, Having just recently read his more recent...   \n",
       "\n",
       "                                sentence_text_spellchecked  \n",
       "147051   [read this review on my blog, , definitely bet...  \n",
       "1322675  [i was writing a comment that i realized would...  \n",
       "1221889  [charlie is turning and her younger sister is ...  \n",
       "1008531  [is more like it even though this has got to b...  \n",
       "399220   [having just recently read his more recent boo...  "
      ]
     },
     "execution_count": 213,
     "metadata": {},
     "output_type": "execute_result"
    }
   ],
   "source": [
    "df_safe_reviews.head()"
   ]
  },
  {
   "cell_type": "code",
   "execution_count": 214,
   "metadata": {},
   "outputs": [
    {
     "name": "stderr",
     "output_type": "stream",
     "text": [
      "100%|██████████| 62815/62815 [00:27<00:00, 2294.75it/s]\n",
      "100%|██████████| 62815/62815 [00:01<00:00, 33647.42it/s]\n"
     ]
    }
   ],
   "source": [
    "sentences_spell_checked = []\n",
    "\n",
    "for r in tqdm(df_spoiler_reviews.sentence_text_spellchecked):\n",
    "    for sentence in r:\n",
    "        sentences_spell_checked.append(sentence)\n",
    "for r in tqdm(df_safe_reviews.sentence_text_spellchecked):\n",
    "    for sentence in r:\n",
    "        sentences_spell_checked.append(sentence)"
   ]
  },
  {
   "cell_type": "code",
   "execution_count": 64,
   "metadata": {},
   "outputs": [
    {
     "data": {
      "text/plain": [
       "(array([0, 1, 2]), array([1099530,  400775,  760790]))"
      ]
     },
     "execution_count": 64,
     "metadata": {},
     "output_type": "execute_result"
    }
   ],
   "source": [
    "np.unique(labels, return_counts=True)"
   ]
  },
  {
   "cell_type": "code",
   "execution_count": 65,
   "metadata": {},
   "outputs": [],
   "source": [
    "df_for_ned = pd.DataFrame({\n",
    "    'sentences': sentences,\n",
    "    'labels' : labels\n",
    "})"
   ]
  },
  {
   "cell_type": "code",
   "execution_count": 104,
   "metadata": {},
   "outputs": [
    {
     "data": {
      "text/html": [
       "<div>\n",
       "<style scoped>\n",
       "    .dataframe tbody tr th:only-of-type {\n",
       "        vertical-align: middle;\n",
       "    }\n",
       "\n",
       "    .dataframe tbody tr th {\n",
       "        vertical-align: top;\n",
       "    }\n",
       "\n",
       "    .dataframe thead th {\n",
       "        text-align: right;\n",
       "    }\n",
       "</style>\n",
       "<table border=\"1\" class=\"dataframe\">\n",
       "  <thead>\n",
       "    <tr style=\"text-align: right;\">\n",
       "      <th></th>\n",
       "      <th>sentences</th>\n",
       "      <th>labels</th>\n",
       "      <th>ned_per_loc</th>\n",
       "      <th>people</th>\n",
       "      <th>location</th>\n",
       "      <th>has_people</th>\n",
       "    </tr>\n",
       "  </thead>\n",
       "  <tbody>\n",
       "    <tr>\n",
       "      <th>0</th>\n",
       "      <td>Review originally posted at Step Into Fiction</td>\n",
       "      <td>0</td>\n",
       "      <td>(0, 0)</td>\n",
       "      <td>0</td>\n",
       "      <td>0</td>\n",
       "      <td>False</td>\n",
       "    </tr>\n",
       "    <tr>\n",
       "      <th>1</th>\n",
       "      <td>I want to be rebooted.</td>\n",
       "      <td>0</td>\n",
       "      <td>(0, 0)</td>\n",
       "      <td>0</td>\n",
       "      <td>0</td>\n",
       "      <td>False</td>\n",
       "    </tr>\n",
       "    <tr>\n",
       "      <th>2</th>\n",
       "      <td>I'm just not sure if I want to be a lower numb...</td>\n",
       "      <td>0</td>\n",
       "      <td>(0, 0)</td>\n",
       "      <td>0</td>\n",
       "      <td>0</td>\n",
       "      <td>False</td>\n",
       "    </tr>\n",
       "    <tr>\n",
       "      <th>3</th>\n",
       "      <td>I'm leaning toward a higher number just becaus...</td>\n",
       "      <td>0</td>\n",
       "      <td>(0, 0)</td>\n",
       "      <td>0</td>\n",
       "      <td>0</td>\n",
       "      <td>False</td>\n",
       "    </tr>\n",
       "    <tr>\n",
       "      <th>4</th>\n",
       "      <td>The higher the number means the longer you wer...</td>\n",
       "      <td>0</td>\n",
       "      <td>(0, 0)</td>\n",
       "      <td>0</td>\n",
       "      <td>0</td>\n",
       "      <td>False</td>\n",
       "    </tr>\n",
       "  </tbody>\n",
       "</table>\n",
       "</div>"
      ],
      "text/plain": [
       "                                           sentences  labels ned_per_loc  \\\n",
       "0      Review originally posted at Step Into Fiction       0      (0, 0)   \n",
       "1                             I want to be rebooted.       0      (0, 0)   \n",
       "2  I'm just not sure if I want to be a lower numb...       0      (0, 0)   \n",
       "3  I'm leaning toward a higher number just becaus...       0      (0, 0)   \n",
       "4  The higher the number means the longer you wer...       0      (0, 0)   \n",
       "\n",
       "   people  location  has_people  \n",
       "0       0         0       False  \n",
       "1       0         0       False  \n",
       "2       0         0       False  \n",
       "3       0         0       False  \n",
       "4       0         0       False  "
      ]
     },
     "execution_count": 104,
     "metadata": {},
     "output_type": "execute_result"
    }
   ],
   "source": [
    "df_for_ned.head()"
   ]
  },
  {
   "cell_type": "code",
   "execution_count": 74,
   "metadata": {},
   "outputs": [
    {
     "name": "stderr",
     "output_type": "stream",
     "text": [
      "\n",
      "  0%|          | 389/2261095 [00:19<5:32:31, 113.31it/s]\u001b[A"
     ]
    },
    {
     "data": {
      "application/vnd.jupyter.widget-view+json": {
       "model_id": "9e8b7822512348f79145a67d1e5629c0",
       "version_major": 2,
       "version_minor": 0
      },
      "text/plain": [
       "HBox(children=(FloatProgress(value=0.0, description='Pandas Apply', max=2261095.0, style=ProgressStyle(descrip…"
      ]
     },
     "metadata": {},
     "output_type": "display_data"
    },
    {
     "name": "stdout",
     "output_type": "stream",
     "text": [
      "\n"
     ]
    }
   ],
   "source": [
    "df_for_ned['ned_per_loc'] = df_for_ned['sentences'].swifter.apply(lambda x: ned(x))"
   ]
  },
  {
   "cell_type": "code",
   "execution_count": 76,
   "metadata": {},
   "outputs": [],
   "source": [
    "def get_people_count(tup):\n",
    "    return tup[0]\n",
    "def get_loc_count(tup):\n",
    "    return tup[1]"
   ]
  },
  {
   "cell_type": "code",
   "execution_count": 85,
   "metadata": {},
   "outputs": [
    {
     "data": {
      "application/vnd.jupyter.widget-view+json": {
       "model_id": "f7636b9d6991402db0345eee30624841",
       "version_major": 2,
       "version_minor": 0
      },
      "text/plain": [
       "HBox(children=(FloatProgress(value=0.0, description='Pandas Apply', max=2261095.0, style=ProgressStyle(descrip…"
      ]
     },
     "metadata": {},
     "output_type": "display_data"
    },
    {
     "name": "stdout",
     "output_type": "stream",
     "text": [
      "\n"
     ]
    },
    {
     "data": {
      "application/vnd.jupyter.widget-view+json": {
       "model_id": "2d4f1729ac214e089ffa27deebf5f734",
       "version_major": 2,
       "version_minor": 0
      },
      "text/plain": [
       "HBox(children=(FloatProgress(value=0.0, description='Pandas Apply', max=2261095.0, style=ProgressStyle(descrip…"
      ]
     },
     "metadata": {},
     "output_type": "display_data"
    },
    {
     "name": "stdout",
     "output_type": "stream",
     "text": [
      "\n"
     ]
    }
   ],
   "source": [
    "df_for_ned['people'] = df_for_ned['ned_per_loc'].swifter.apply(lambda x:get_people_count(x))\n",
    "df_for_ned['location'] = df_for_ned['ned_per_loc'].swifter.apply(lambda x:get_loc_count(x))\n"
   ]
  },
  {
   "cell_type": "code",
   "execution_count": 93,
   "metadata": {},
   "outputs": [],
   "source": [
    "df_for_ned['has_people'] = df_for_ned['people'].ge(1)"
   ]
  },
  {
   "cell_type": "code",
   "execution_count": 227,
   "metadata": {},
   "outputs": [
    {
     "data": {
      "text/plain": [
       "labels\n",
       "0    0.429304\n",
       "1    0.476106\n",
       "2    0.435638\n",
       "Name: has_people, dtype: float64"
      ]
     },
     "execution_count": 227,
     "metadata": {},
     "output_type": "execute_result"
    }
   ],
   "source": [
    "df_for_ned.groupby('labels')['has_people'].std()"
   ]
  },
  {
   "cell_type": "code",
   "execution_count": 291,
   "metadata": {},
   "outputs": [
    {
     "data": {
      "text/plain": [
       "labels\n",
       "0    0.243684\n",
       "1    0.347280\n",
       "2    0.254602\n",
       "Name: has_people, dtype: float64"
      ]
     },
     "execution_count": 291,
     "metadata": {},
     "output_type": "execute_result"
    }
   ],
   "source": [
    "b = df_for_ned.groupby('labels').has_people.mean()\n",
    "b"
   ]
  },
  {
   "cell_type": "code",
   "execution_count": 301,
   "metadata": {},
   "outputs": [
    {
     "name": "stderr",
     "output_type": "stream",
     "text": [
      "/opt/anaconda3/envs/nf/lib/python3.6/site-packages/ipykernel_launcher.py:4: UserWarning: FixedFormatter should only be used together with FixedLocator\n",
      "  after removing the cwd from sys.path.\n"
     ]
    },
    {
     "data": {
      "text/plain": [
       "Text(0.5, 1.0, 'Person mentioned in Review\\n')"
      ]
     },
     "execution_count": 301,
     "metadata": {},
     "output_type": "execute_result"
    },
    {
     "data": {
      "image/png": "[encoded data removed]",
      "text/plain": [
       "<Figure size 432x288 with 1 Axes>"
      ]
     },
     "metadata": {
      "needs_background": "light"
     },
     "output_type": "display_data"
    }
   ],
   "source": [
    "#fig, ax = plt.subplots(figsize = (10,5))\n",
    "ax = sns.barplot(x = b.index, y = b.values*100, palette = 'BrBG', edgecolor=\".2\")\n",
    "ax.set_xticklabels(['spoiler review\\n safe sentence', 'spoiler review\\n spoiler sentence', 'safe review'], fontsize = 12)\n",
    "ax.set_yticklabels( [0,5,10,15,20,25,30,35],fontsize = 12)\n",
    "\n",
    "ax.set_xlabel(xlabel = 'Review', fontsize = 15 )\n",
    "ax.set_ylabel(ylabel = '% of reviews containing \\n a person', fontsize = 15)\n",
    "ax.axes.set_title('Person mentioned in Review\\n', fontsize = 20)"
   ]
  },
  {
   "cell_type": "code",
   "execution_count": 228,
   "metadata": {},
   "outputs": [
    {
     "data": {
      "image/png": "[encoded data removed]",
      "text/plain": [
       "<Figure size 432x288 with 1 Axes>"
      ]
     },
     "metadata": {
      "needs_background": "light"
     },
     "output_type": "display_data"
    }
   ],
   "source": [
    "ax = sns.boxplot(x=\"labels\", y=\"people\", data=df_for_ned)\n"
   ]
  },
  {
   "cell_type": "code",
   "execution_count": 102,
   "metadata": {},
   "outputs": [
    {
     "data": {
      "text/html": [
       "<div>\n",
       "<style scoped>\n",
       "    .dataframe tbody tr th:only-of-type {\n",
       "        vertical-align: middle;\n",
       "    }\n",
       "\n",
       "    .dataframe tbody tr th {\n",
       "        vertical-align: top;\n",
       "    }\n",
       "\n",
       "    .dataframe thead th {\n",
       "        text-align: right;\n",
       "    }\n",
       "</style>\n",
       "<table border=\"1\" class=\"dataframe\">\n",
       "  <thead>\n",
       "    <tr style=\"text-align: right;\">\n",
       "      <th></th>\n",
       "      <th>sentences</th>\n",
       "      <th>labels</th>\n",
       "      <th>ned_per_loc</th>\n",
       "      <th>people</th>\n",
       "      <th>location</th>\n",
       "      <th>has_people</th>\n",
       "    </tr>\n",
       "  </thead>\n",
       "  <tbody>\n",
       "    <tr>\n",
       "      <th>1559545</th>\n",
       "      <td>Warren, Skye; Zaires, Anna; Winters, Pepper; R...</td>\n",
       "      <td>2</td>\n",
       "      <td>(21, 3)</td>\n",
       "      <td>21</td>\n",
       "      <td>3</td>\n",
       "      <td>True</td>\n",
       "    </tr>\n",
       "  </tbody>\n",
       "</table>\n",
       "</div>"
      ],
      "text/plain": [
       "                                                 sentences  labels  \\\n",
       "1559545  Warren, Skye; Zaires, Anna; Winters, Pepper; R...       2   \n",
       "\n",
       "        ned_per_loc  people  location  has_people  \n",
       "1559545     (21, 3)      21         3        True  "
      ]
     },
     "execution_count": 102,
     "metadata": {},
     "output_type": "execute_result"
    }
   ],
   "source": [
    "b =df_for_ned[df_for_ned['people']==21]"
   ]
  },
  {
   "cell_type": "code",
   "execution_count": 215,
   "metadata": {},
   "outputs": [],
   "source": [
    "df_for_ned['sentences_spell_checked'] = pd.Series(sentences_spell_checked)"
   ]
  },
  {
   "cell_type": "code",
   "execution_count": 216,
   "metadata": {},
   "outputs": [
    {
     "data": {
      "text/html": [
       "<div>\n",
       "<style scoped>\n",
       "    .dataframe tbody tr th:only-of-type {\n",
       "        vertical-align: middle;\n",
       "    }\n",
       "\n",
       "    .dataframe tbody tr th {\n",
       "        vertical-align: top;\n",
       "    }\n",
       "\n",
       "    .dataframe thead th {\n",
       "        text-align: right;\n",
       "    }\n",
       "</style>\n",
       "<table border=\"1\" class=\"dataframe\">\n",
       "  <thead>\n",
       "    <tr style=\"text-align: right;\">\n",
       "      <th></th>\n",
       "      <th>sentences</th>\n",
       "      <th>labels</th>\n",
       "      <th>ned_per_loc</th>\n",
       "      <th>people</th>\n",
       "      <th>location</th>\n",
       "      <th>has_people</th>\n",
       "      <th>sentences_spell_checked</th>\n",
       "    </tr>\n",
       "  </thead>\n",
       "  <tbody>\n",
       "    <tr>\n",
       "      <th>0</th>\n",
       "      <td>Review originally posted at Step Into Fiction</td>\n",
       "      <td>0</td>\n",
       "      <td>(0, 0)</td>\n",
       "      <td>0</td>\n",
       "      <td>0</td>\n",
       "      <td>False</td>\n",
       "      <td>review originally posted at step into fiction</td>\n",
       "    </tr>\n",
       "    <tr>\n",
       "      <th>1</th>\n",
       "      <td>I want to be rebooted.</td>\n",
       "      <td>0</td>\n",
       "      <td>(0, 0)</td>\n",
       "      <td>0</td>\n",
       "      <td>0</td>\n",
       "      <td>False</td>\n",
       "      <td>i want to be rebooted</td>\n",
       "    </tr>\n",
       "    <tr>\n",
       "      <th>2</th>\n",
       "      <td>I'm just not sure if I want to be a lower numb...</td>\n",
       "      <td>0</td>\n",
       "      <td>(0, 0)</td>\n",
       "      <td>0</td>\n",
       "      <td>0</td>\n",
       "      <td>False</td>\n",
       "      <td>i am just not sure if i want to be a lower num...</td>\n",
       "    </tr>\n",
       "    <tr>\n",
       "      <th>3</th>\n",
       "      <td>I'm leaning toward a higher number just becaus...</td>\n",
       "      <td>0</td>\n",
       "      <td>(0, 0)</td>\n",
       "      <td>0</td>\n",
       "      <td>0</td>\n",
       "      <td>False</td>\n",
       "      <td>i am leaning toward a higher number just becau...</td>\n",
       "    </tr>\n",
       "    <tr>\n",
       "      <th>4</th>\n",
       "      <td>The higher the number means the longer you wer...</td>\n",
       "      <td>0</td>\n",
       "      <td>(0, 0)</td>\n",
       "      <td>0</td>\n",
       "      <td>0</td>\n",
       "      <td>False</td>\n",
       "      <td>the higher the number means the longer you wer...</td>\n",
       "    </tr>\n",
       "  </tbody>\n",
       "</table>\n",
       "</div>"
      ],
      "text/plain": [
       "                                           sentences  labels ned_per_loc  \\\n",
       "0      Review originally posted at Step Into Fiction       0      (0, 0)   \n",
       "1                             I want to be rebooted.       0      (0, 0)   \n",
       "2  I'm just not sure if I want to be a lower numb...       0      (0, 0)   \n",
       "3  I'm leaning toward a higher number just becaus...       0      (0, 0)   \n",
       "4  The higher the number means the longer you wer...       0      (0, 0)   \n",
       "\n",
       "   people  location  has_people  \\\n",
       "0       0         0       False   \n",
       "1       0         0       False   \n",
       "2       0         0       False   \n",
       "3       0         0       False   \n",
       "4       0         0       False   \n",
       "\n",
       "                             sentences_spell_checked  \n",
       "0      review originally posted at step into fiction  \n",
       "1                              i want to be rebooted  \n",
       "2  i am just not sure if i want to be a lower num...  \n",
       "3  i am leaning toward a higher number just becau...  \n",
       "4  the higher the number means the longer you wer...  "
      ]
     },
     "execution_count": 216,
     "metadata": {},
     "output_type": "execute_result"
    }
   ],
   "source": [
    "df_for_ned.head()"
   ]
  },
  {
   "cell_type": "code",
   "execution_count": 315,
   "metadata": {},
   "outputs": [],
   "source": [
    "def TextBlob_sentiment(text):\n",
    "    tb = TextBlob(text)\n",
    "    return tb.sentiment.polarity\n",
    "\n",
    "def TextBlob_sentiment_subjectivity(text):\n",
    "    tb = TextBlob(text)\n",
    "    return tb.sentiment.subjectivity"
   ]
  },
  {
   "cell_type": "code",
   "execution_count": 316,
   "metadata": {},
   "outputs": [
    {
     "data": {
      "application/vnd.jupyter.widget-view+json": {
       "model_id": "791088a664b149f88f10225ddf174b5e",
       "version_major": 2,
       "version_minor": 0
      },
      "text/plain": [
       "HBox(children=(FloatProgress(value=0.0, description='Pandas Apply', max=2261095.0, style=ProgressStyle(descrip…"
      ]
     },
     "metadata": {},
     "output_type": "display_data"
    },
    {
     "name": "stdout",
     "output_type": "stream",
     "text": [
      "\n"
     ]
    }
   ],
   "source": [
    "#df_for_ned['textblob_sentiment']= df_for_ned['sentences_spell_checked'].swifter.apply(lambda x: TextBlob_sentiment(x))\n",
    "df_for_ned['textblob_subjectivity']= df_for_ned['sentences_spell_checked'].swifter.apply(lambda x: TextBlob_sentiment_subjectivity(x))\n"
   ]
  },
  {
   "cell_type": "code",
   "execution_count": 317,
   "metadata": {},
   "outputs": [
    {
     "data": {
      "text/html": [
       "<div>\n",
       "<style scoped>\n",
       "    .dataframe tbody tr th:only-of-type {\n",
       "        vertical-align: middle;\n",
       "    }\n",
       "\n",
       "    .dataframe tbody tr th {\n",
       "        vertical-align: top;\n",
       "    }\n",
       "\n",
       "    .dataframe thead th {\n",
       "        text-align: right;\n",
       "    }\n",
       "</style>\n",
       "<table border=\"1\" class=\"dataframe\">\n",
       "  <thead>\n",
       "    <tr style=\"text-align: right;\">\n",
       "      <th></th>\n",
       "      <th>sentences</th>\n",
       "      <th>labels</th>\n",
       "      <th>ned_per_loc</th>\n",
       "      <th>people</th>\n",
       "      <th>location</th>\n",
       "      <th>has_people</th>\n",
       "      <th>sentences_spell_checked</th>\n",
       "      <th>textblob_sentiment</th>\n",
       "      <th>textblob_subjectivity</th>\n",
       "    </tr>\n",
       "  </thead>\n",
       "  <tbody>\n",
       "    <tr>\n",
       "      <th>0</th>\n",
       "      <td>Review originally posted at Step Into Fiction</td>\n",
       "      <td>0</td>\n",
       "      <td>(0, 0)</td>\n",
       "      <td>0</td>\n",
       "      <td>0</td>\n",
       "      <td>False</td>\n",
       "      <td>review originally posted at step into fiction</td>\n",
       "      <td>0.375</td>\n",
       "      <td>0.750000</td>\n",
       "    </tr>\n",
       "    <tr>\n",
       "      <th>1</th>\n",
       "      <td>I want to be rebooted.</td>\n",
       "      <td>0</td>\n",
       "      <td>(0, 0)</td>\n",
       "      <td>0</td>\n",
       "      <td>0</td>\n",
       "      <td>False</td>\n",
       "      <td>i want to be rebooted</td>\n",
       "      <td>0.000</td>\n",
       "      <td>0.000000</td>\n",
       "    </tr>\n",
       "    <tr>\n",
       "      <th>2</th>\n",
       "      <td>I'm just not sure if I want to be a lower numb...</td>\n",
       "      <td>0</td>\n",
       "      <td>(0, 0)</td>\n",
       "      <td>0</td>\n",
       "      <td>0</td>\n",
       "      <td>False</td>\n",
       "      <td>i am just not sure if i want to be a lower num...</td>\n",
       "      <td>0.000</td>\n",
       "      <td>0.694444</td>\n",
       "    </tr>\n",
       "    <tr>\n",
       "      <th>3</th>\n",
       "      <td>I'm leaning toward a higher number just becaus...</td>\n",
       "      <td>0</td>\n",
       "      <td>(0, 0)</td>\n",
       "      <td>0</td>\n",
       "      <td>0</td>\n",
       "      <td>False</td>\n",
       "      <td>i am leaning toward a higher number just becau...</td>\n",
       "      <td>0.375</td>\n",
       "      <td>0.500000</td>\n",
       "    </tr>\n",
       "    <tr>\n",
       "      <th>4</th>\n",
       "      <td>The higher the number means the longer you wer...</td>\n",
       "      <td>0</td>\n",
       "      <td>(0, 0)</td>\n",
       "      <td>0</td>\n",
       "      <td>0</td>\n",
       "      <td>False</td>\n",
       "      <td>the higher the number means the longer you wer...</td>\n",
       "      <td>0.025</td>\n",
       "      <td>0.450000</td>\n",
       "    </tr>\n",
       "  </tbody>\n",
       "</table>\n",
       "</div>"
      ],
      "text/plain": [
       "                                           sentences  labels ned_per_loc  \\\n",
       "0      Review originally posted at Step Into Fiction       0      (0, 0)   \n",
       "1                             I want to be rebooted.       0      (0, 0)   \n",
       "2  I'm just not sure if I want to be a lower numb...       0      (0, 0)   \n",
       "3  I'm leaning toward a higher number just becaus...       0      (0, 0)   \n",
       "4  The higher the number means the longer you wer...       0      (0, 0)   \n",
       "\n",
       "   people  location  has_people  \\\n",
       "0       0         0       False   \n",
       "1       0         0       False   \n",
       "2       0         0       False   \n",
       "3       0         0       False   \n",
       "4       0         0       False   \n",
       "\n",
       "                             sentences_spell_checked  textblob_sentiment  \\\n",
       "0      review originally posted at step into fiction               0.375   \n",
       "1                              i want to be rebooted               0.000   \n",
       "2  i am just not sure if i want to be a lower num...               0.000   \n",
       "3  i am leaning toward a higher number just becau...               0.375   \n",
       "4  the higher the number means the longer you wer...               0.025   \n",
       "\n",
       "   textblob_subjectivity  \n",
       "0               0.750000  \n",
       "1               0.000000  \n",
       "2               0.694444  \n",
       "3               0.500000  \n",
       "4               0.450000  "
      ]
     },
     "execution_count": 317,
     "metadata": {},
     "output_type": "execute_result"
    }
   ],
   "source": [
    "df_for_ned.head()"
   ]
  },
  {
   "cell_type": "code",
   "execution_count": null,
   "metadata": {},
   "outputs": [],
   "source": []
  },
  {
   "cell_type": "code",
   "execution_count": 323,
   "metadata": {},
   "outputs": [
    {
     "data": {
      "text/plain": [
       "labels\n",
       "0    0.111143\n",
       "1    0.062044\n",
       "2    0.126241\n",
       "Name: textblob_sentiment, dtype: float64"
      ]
     },
     "execution_count": 323,
     "metadata": {},
     "output_type": "execute_result"
    }
   ],
   "source": [
    "c = df_for_ned.groupby('labels')['textblob_sentiment'].mean()\n",
    "c"
   ]
  },
  {
   "cell_type": "code",
   "execution_count": 338,
   "metadata": {},
   "outputs": [
    {
     "data": {
      "text/plain": [
       "Text(0.5, 1.0, 'Sentiment Polarity of Review Sentences\\n')"
      ]
     },
     "execution_count": 338,
     "metadata": {},
     "output_type": "execute_result"
    },
    {
     "data": {
      "image/png": "[encoded data removed]",
      "text/plain": [
       "<Figure size 432x288 with 1 Axes>"
      ]
     },
     "metadata": {
      "needs_background": "light"
     },
     "output_type": "display_data"
    }
   ],
   "source": [
    "#fig, ax = plt.subplots(figsize = (10,5))\n",
    "ax = sns.barplot(x = c.index, y = c.values, palette = 'BrBG', edgecolor=\".2\")\n",
    "ax.set_xticklabels(['spoiler review\\n safe sentence', 'spoiler review\\n spoiler sentence', 'safe review'], fontsize = 12)\n",
    "#ax.set_yticklabels( [0,5,10,15,20,25,30,35],fontsize = 12)\n",
    "ax.set_xlabel(xlabel = 'Review', fontsize = 15 )\n",
    "ax.set_ylabel(ylabel = 'Mean sentiment polarity score', fontsize = 15)\n",
    "ax.axes.set_title('Sentiment Polarity of Review Sentences\\n', fontsize = 20)"
   ]
  },
  {
   "cell_type": "code",
   "execution_count": 346,
   "metadata": {},
   "outputs": [
    {
     "data": {
      "image/png": "[encoded data removed]",
      "text/plain": [
       "<Figure size 432x288 with 1 Axes>"
      ]
     },
     "metadata": {
      "needs_background": "light"
     },
     "output_type": "display_data"
    }
   ],
   "source": [
    "ax = sns.boxplot(x = 'labels', y = 'textblob_sentiment', data = df_for_ned)\n",
    "ax.set_xticklabels(['spoiler review\\n safe sentence', 'spoiler review\\n spoiler sentence', 'safe review'], fontsize = 12)\n",
    "ax.set_xlabel(xlabel = 'Review', fontsize = 15 )\n",
    "ax.set_ylabel(ylabel = 'Mean sentiment polarity score', fontsize = 15)\n",
    "plt.show(ax)"
   ]
  },
  {
   "cell_type": "code",
   "execution_count": 333,
   "metadata": {},
   "outputs": [
    {
     "data": {
      "text/plain": [
       "labels\n",
       "0    0.414494\n",
       "1    0.389195\n",
       "2    0.421280\n",
       "Name: textblob_subjectivity, dtype: float64"
      ]
     },
     "execution_count": 333,
     "metadata": {},
     "output_type": "execute_result"
    }
   ],
   "source": [
    "d = df_for_ned.groupby('labels')['textblob_subjectivity'].mean()\n",
    "d"
   ]
  },
  {
   "cell_type": "code",
   "execution_count": 335,
   "metadata": {},
   "outputs": [
    {
     "data": {
      "text/plain": [
       "Text(0.5, 1.0, 'Sentiment Subjectivity of Review Sentences\\n')"
      ]
     },
     "execution_count": 335,
     "metadata": {},
     "output_type": "execute_result"
    },
    {
     "data": {
      "image/png": "[encoded data removed]",
      "text/plain": [
       "<Figure size 432x288 with 1 Axes>"
      ]
     },
     "metadata": {
      "needs_background": "light"
     },
     "output_type": "display_data"
    }
   ],
   "source": [
    "#fig, ax = plt.subplots(figsize = (10,5))\n",
    "ax = sns.barplot(x = d.index, y = d.values, palette = 'BrBG', edgecolor=\".2\")\n",
    "ax.set_xticklabels(['spoiler review\\n safe sentence', 'spoiler review\\n spoiler sentence', 'safe review'], fontsize = 12)\n",
    "#ax.set_yticklabels( [0,0.20,0.40,0.60,0.80,1],fontsize = 12)\n",
    "ax.set_ylim(0,1)\n",
    "ax.set_xlabel(xlabel = 'Review', fontsize = 15 )\n",
    "ax.set_ylabel(ylabel = 'Mean sentiment subjectivity score', fontsize = 15)\n",
    "ax.axes.set_title('Sentiment Subjectivity of Review Sentences\\n', fontsize = 20)"
   ]
  },
  {
   "cell_type": "code",
   "execution_count": null,
   "metadata": {},
   "outputs": [],
   "source": []
  },
  {
   "cell_type": "code",
   "execution_count": null,
   "metadata": {},
   "outputs": [],
   "source": []
  },
  {
   "cell_type": "code",
   "execution_count": 223,
   "metadata": {},
   "outputs": [
    {
     "data": {
      "image/png": "[encoded data removed]",
      "text/plain": [
       "<Figure size 432x288 with 1 Axes>"
      ]
     },
     "metadata": {
      "needs_background": "light"
     },
     "output_type": "display_data"
    }
   ],
   "source": [
    "ax = sns.boxplot(x=\"labels\", y=\"textblob_sentiment\", data=df_for_ned)\n"
   ]
  },
  {
   "cell_type": "code",
   "execution_count": null,
   "metadata": {},
   "outputs": [],
   "source": []
  },
  {
   "cell_type": "code",
   "execution_count": null,
   "metadata": {},
   "outputs": [],
   "source": []
  },
  {
   "cell_type": "code",
   "execution_count": null,
   "metadata": {},
   "outputs": [],
   "source": []
  },
  {
   "cell_type": "code",
   "execution_count": 121,
   "metadata": {},
   "outputs": [
    {
     "data": {
      "text/html": [
       "<div>\n",
       "<style scoped>\n",
       "    .dataframe tbody tr th:only-of-type {\n",
       "        vertical-align: middle;\n",
       "    }\n",
       "\n",
       "    .dataframe tbody tr th {\n",
       "        vertical-align: top;\n",
       "    }\n",
       "\n",
       "    .dataframe thead th {\n",
       "        text-align: right;\n",
       "    }\n",
       "</style>\n",
       "<table border=\"1\" class=\"dataframe\">\n",
       "  <thead>\n",
       "    <tr style=\"text-align: right;\">\n",
       "      <th></th>\n",
       "      <th>book_id</th>\n",
       "      <th>has_spoiler</th>\n",
       "      <th>review_sentences</th>\n",
       "      <th>sentence_text_spellchecked</th>\n",
       "    </tr>\n",
       "  </thead>\n",
       "  <tbody>\n",
       "    <tr>\n",
       "      <th>859048</th>\n",
       "      <td>13517455</td>\n",
       "      <td>1</td>\n",
       "      <td>[[0, Review originally posted at Step Into Fic...</td>\n",
       "      <td>[review originally posted at step into fiction...</td>\n",
       "    </tr>\n",
       "  </tbody>\n",
       "</table>\n",
       "</div>"
      ],
      "text/plain": [
       "         book_id  has_spoiler  \\\n",
       "859048  13517455            1   \n",
       "\n",
       "                                         review_sentences  \\\n",
       "859048  [[0, Review originally posted at Step Into Fic...   \n",
       "\n",
       "                               sentence_text_spellchecked  \n",
       "859048  [review originally posted at step into fiction...  "
      ]
     },
     "execution_count": 121,
     "metadata": {},
     "output_type": "execute_result"
    }
   ],
   "source": [
    "df_spoiler_reviews.head(1)"
   ]
  },
  {
   "cell_type": "code",
   "execution_count": 123,
   "metadata": {},
   "outputs": [],
   "source": [
    "reviews = []\n",
    "labels = []\n",
    "\n",
    "for r in df_safe_reviews.review_sentences:\n",
    "    string = ''\n",
    "    for label, sentence in r:\n",
    "        string += sentence\n",
    "    reviews.append(string)\n",
    "    labels.append('safe')\n",
    "\n",
    "for r in df_spoiler_reviews.review_sentences:\n",
    "    string = ''\n",
    "    for label, sentence in r:\n",
    "        string += sentence\n",
    "    reviews.append(string)\n",
    "    labels.append('spoiler')"
   ]
  },
  {
   "cell_type": "code",
   "execution_count": 133,
   "metadata": {},
   "outputs": [],
   "source": [
    "ned_reviews = [ned(rev) for rev in reviews]"
   ]
  },
  {
   "cell_type": "code",
   "execution_count": 125,
   "metadata": {},
   "outputs": [
    {
     "data": {
      "text/plain": [
       "(6, 1)"
      ]
     },
     "execution_count": 125,
     "metadata": {},
     "output_type": "execute_result"
    }
   ],
   "source": []
  },
  {
   "cell_type": "code",
   "execution_count": 41,
   "metadata": {},
   "outputs": [],
   "source": [
    "from nltk.tokenize import word_tokenize\n",
    "from nltk import SnowballStemmer\n",
    "param_stemmer = SnowballStemmer('english')\n"
   ]
  },
  {
   "cell_type": "code",
   "execution_count": null,
   "metadata": {},
   "outputs": [],
   "source": [
    "def applyStemming(text_list):\n",
    "    store = []\n",
    "    for sen in text_list:\n",
    "        \n",
    "    return [stemmer.stem(token) for token in listOfTokens]"
   ]
  },
  {
   "cell_type": "code",
   "execution_count": null,
   "metadata": {},
   "outputs": [],
   "source": []
  },
  {
   "cell_type": "code",
   "execution_count": null,
   "metadata": {},
   "outputs": [],
   "source": []
  },
  {
   "cell_type": "code",
   "execution_count": null,
   "metadata": {},
   "outputs": [],
   "source": []
  },
  {
   "cell_type": "code",
   "execution_count": null,
   "metadata": {},
   "outputs": [],
   "source": []
  },
  {
   "cell_type": "code",
   "execution_count": null,
   "metadata": {},
   "outputs": [],
   "source": []
  },
  {
   "cell_type": "code",
   "execution_count": null,
   "metadata": {},
   "outputs": [],
   "source": []
  },
  {
   "cell_type": "code",
   "execution_count": null,
   "metadata": {},
   "outputs": [],
   "source": []
  },
  {
   "cell_type": "code",
   "execution_count": null,
   "metadata": {},
   "outputs": [],
   "source": []
  },
  {
   "cell_type": "code",
   "execution_count": 37,
   "metadata": {},
   "outputs": [],
   "source": [
    "import spacy\n",
    "from spacy import displacy\n",
    "from collections import Counter\n",
    "import en_core_web_sm\n",
    "nlp = en_core_web_sm.load()"
   ]
  },
  {
   "cell_type": "code",
   "execution_count": 38,
   "metadata": {},
   "outputs": [],
   "source": [
    "doc = nlp(\"The death of Jean Harc broke my heard\")"
   ]
  },
  {
   "cell_type": "code",
   "execution_count": null,
   "metadata": {},
   "outputs": [],
   "source": [
    "print([(X.text, X.label_) for X in doc.ents])"
   ]
  },
  {
   "cell_type": "code",
   "execution_count": null,
   "metadata": {},
   "outputs": [],
   "source": []
  }
 ],
 "metadata": {
  "kernelspec": {
   "display_name": "Python [conda env:nf] *",
   "language": "python",
   "name": "conda-env-nf-py"
  },
  "language_info": {
   "codemirror_mode": {
    "name": "ipython",
    "version": 3
   },
   "file_extension": ".py",
   "mimetype": "text/x-python",
   "name": "python",
   "nbconvert_exporter": "python",
   "pygments_lexer": "ipython3",
   "version": "3.6.10"
  }
 },
 "nbformat": 4,
 "nbformat_minor": 4
}

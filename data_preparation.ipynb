{
 "cells": [
  {
   "cell_type": "markdown",
   "metadata": {},
   "source": [
    "# Spoiler reviews-Capstone"
   ]
  },
  {
   "cell_type": "markdown",
   "metadata": {},
   "source": [
    "Authors: Gregor Habeck and Julia Schaefer"
   ]
  },
  {
   "cell_type": "code",
   "execution_count": 2,
   "metadata": {},
   "outputs": [],
   "source": [
    "# import modules for data import and editing\n",
    "import json\n",
    "import pandas as pd\n",
    "import gzip\n",
    "import numpy as np\n",
    "from collections import defaultdict, Counter\n",
    "from tqdm import tqdm\n",
    "import time\n",
    "import operator\n",
    "\n",
    "# import modules for plotting\n",
    "import matplotlib.pyplot as plt\n",
    "import matplotlib.cm as cm\n",
    "import seaborn as sns\n",
    "\n",
    "#import modules for text analysis\n",
    "import re\n",
    "\n",
    "pd.set_option(\"display.max_columns\", None)"
   ]
  },
  {
   "cell_type": "markdown",
   "metadata": {},
   "source": [
    "We obtained the dataset from [UCSD Bookgraph](https://sites.google.com/eng.ucsd.edu/ucsdbookgraph/home).  \n",
    "We first write some functions to import the data. "
   ]
  },
  {
   "cell_type": "code",
   "execution_count": 2,
   "metadata": {},
   "outputs": [],
   "source": [
    "def import_json_gz(file,limit = 1000000):\n",
    "    '''\n",
    "    Function opens and loads a gziped json file and returns a selected number of rows from that file in tabular form.\n",
    "    Max number of entries: 1 million\n",
    "    Returns: Pandas Dataframe\n",
    "    '''\n",
    "    if limit > 1000000:\n",
    "        return 'Sorry, your limit is to high. Please choose a number <= 1000000'\n",
    "    data = []\n",
    "    count = 0\n",
    "    with gzip.open(file) as f:\n",
    "        for l in tqdm(f):\n",
    "            data_dict = json.loads(l.strip())\n",
    "            data.append(data_dict)\n",
    "            count += 1\n",
    "            if count == limit:\n",
    "                break\n",
    "    f.close()\n",
    "    return pd.DataFrame(data)"
   ]
  },
  {
   "cell_type": "code",
   "execution_count": 3,
   "metadata": {},
   "outputs": [],
   "source": [
    "# to load the entire dataframe\n",
    "def import_json_gz2(file):\n",
    "    '''\n",
    "    Function opens and loads a gziped json file. Use only for files smaller than 1 GB.\n",
    "    Max number of entries: 1 million\n",
    "    Returns: Pandas Dataframe\n",
    "    '''\n",
    "    data = []\n",
    "    with gzip.open(file) as f:\n",
    "        for l in tqdm(f):\n",
    "            data_dict = json.loads(l.strip())\n",
    "            data.append(data_dict)\n",
    "    f.close()\n",
    "    return pd.DataFrame(data)"
   ]
  },
  {
   "cell_type": "code",
   "execution_count": 85,
   "metadata": {},
   "outputs": [],
   "source": [
    "# files that will be used\n",
    "# file_meta contains meta data for books\n",
    "file_meta = 'goodreads_books_meta.json.gz'\n",
    "# file_review contains review texts and additional information\n",
    "file_reviews = 'goodreads_reviews_spoiler.json.gz'\n",
    "# file_genre contains genre of books\n",
    "file_genre = 'goodreads_book_genres_initial.json.gz'"
   ]
  },
  {
   "cell_type": "markdown",
   "metadata": {},
   "source": [
    "## Get meta data"
   ]
  },
  {
   "cell_type": "code",
   "execution_count": 86,
   "metadata": {},
   "outputs": [
    {
     "name": "stderr",
     "output_type": "stream",
     "text": [
      "9999it [00:07, 1339.71it/s]\n"
     ]
    }
   ],
   "source": [
    "#load a subset of the books meta data to get an idea of what features to extract\n",
    "df_meta = import_json_gz(file_meta, 10000)"
   ]
  },
  {
   "cell_type": "code",
   "execution_count": 87,
   "metadata": {},
   "outputs": [
    {
     "data": {
      "text/html": [
       "<div>\n",
       "<style scoped>\n",
       "    .dataframe tbody tr th:only-of-type {\n",
       "        vertical-align: middle;\n",
       "    }\n",
       "\n",
       "    .dataframe tbody tr th {\n",
       "        vertical-align: top;\n",
       "    }\n",
       "\n",
       "    .dataframe thead th {\n",
       "        text-align: right;\n",
       "    }\n",
       "</style>\n",
       "<table border=\"1\" class=\"dataframe\">\n",
       "  <thead>\n",
       "    <tr style=\"text-align: right;\">\n",
       "      <th></th>\n",
       "      <th>asin</th>\n",
       "      <th>authors</th>\n",
       "      <th>average_rating</th>\n",
       "      <th>book_id</th>\n",
       "      <th>country_code</th>\n",
       "      <th>description</th>\n",
       "      <th>edition_information</th>\n",
       "      <th>format</th>\n",
       "      <th>image_url</th>\n",
       "      <th>is_ebook</th>\n",
       "      <th>isbn</th>\n",
       "      <th>isbn13</th>\n",
       "      <th>kindle_asin</th>\n",
       "      <th>language_code</th>\n",
       "      <th>link</th>\n",
       "      <th>num_pages</th>\n",
       "      <th>popular_shelves</th>\n",
       "      <th>publication_day</th>\n",
       "      <th>publication_month</th>\n",
       "      <th>publication_year</th>\n",
       "      <th>publisher</th>\n",
       "      <th>ratings_count</th>\n",
       "      <th>series</th>\n",
       "      <th>similar_books</th>\n",
       "      <th>text_reviews_count</th>\n",
       "      <th>title</th>\n",
       "      <th>title_without_series</th>\n",
       "      <th>url</th>\n",
       "      <th>work_id</th>\n",
       "    </tr>\n",
       "  </thead>\n",
       "  <tbody>\n",
       "    <tr>\n",
       "      <th>0</th>\n",
       "      <td></td>\n",
       "      <td>[{'author_id': '604031', 'role': ''}]</td>\n",
       "      <td>4.00</td>\n",
       "      <td>5333265</td>\n",
       "      <td>US</td>\n",
       "      <td></td>\n",
       "      <td></td>\n",
       "      <td>Paperback</td>\n",
       "      <td>https://images.gr-assets.com/books/1310220028m...</td>\n",
       "      <td>false</td>\n",
       "      <td>0312853122</td>\n",
       "      <td>9780312853129</td>\n",
       "      <td></td>\n",
       "      <td></td>\n",
       "      <td>https://www.goodreads.com/book/show/5333265-w-...</td>\n",
       "      <td>256</td>\n",
       "      <td>[{'count': '3', 'name': 'to-read'}, {'count': ...</td>\n",
       "      <td>1</td>\n",
       "      <td>9</td>\n",
       "      <td>1984</td>\n",
       "      <td>St. Martin's Press</td>\n",
       "      <td>3</td>\n",
       "      <td>[]</td>\n",
       "      <td>[]</td>\n",
       "      <td>1</td>\n",
       "      <td>W.C. Fields: A Life on Film</td>\n",
       "      <td>W.C. Fields: A Life on Film</td>\n",
       "      <td>https://www.goodreads.com/book/show/5333265-w-...</td>\n",
       "      <td>5400751</td>\n",
       "    </tr>\n",
       "    <tr>\n",
       "      <th>1</th>\n",
       "      <td></td>\n",
       "      <td>[{'author_id': '626222', 'role': ''}]</td>\n",
       "      <td>3.23</td>\n",
       "      <td>1333909</td>\n",
       "      <td>US</td>\n",
       "      <td>Anita Diamant's international bestseller \"The ...</td>\n",
       "      <td>Abridged</td>\n",
       "      <td>Audio CD</td>\n",
       "      <td>https://s.gr-assets.com/assets/nophoto/book/11...</td>\n",
       "      <td>false</td>\n",
       "      <td>0743509986</td>\n",
       "      <td>9780743509985</td>\n",
       "      <td>B000FC0PBC</td>\n",
       "      <td></td>\n",
       "      <td>https://www.goodreads.com/book/show/1333909.Go...</td>\n",
       "      <td></td>\n",
       "      <td>[{'count': '2634', 'name': 'to-read'}, {'count...</td>\n",
       "      <td>1</td>\n",
       "      <td>10</td>\n",
       "      <td>2001</td>\n",
       "      <td>Simon &amp; Schuster Audio</td>\n",
       "      <td>10</td>\n",
       "      <td>[]</td>\n",
       "      <td>[8709549, 17074050, 28937, 158816, 228563, 112...</td>\n",
       "      <td>6</td>\n",
       "      <td>Good Harbor</td>\n",
       "      <td>Good Harbor</td>\n",
       "      <td>https://www.goodreads.com/book/show/1333909.Go...</td>\n",
       "      <td>1323437</td>\n",
       "    </tr>\n",
       "    <tr>\n",
       "      <th>2</th>\n",
       "      <td>B00071IKUY</td>\n",
       "      <td>[{'author_id': '10333', 'role': ''}]</td>\n",
       "      <td>4.03</td>\n",
       "      <td>7327624</td>\n",
       "      <td>US</td>\n",
       "      <td>Omnibus book club edition containing the Ladie...</td>\n",
       "      <td>Book Club Edition</td>\n",
       "      <td>Hardcover</td>\n",
       "      <td>https://images.gr-assets.com/books/1304100136m...</td>\n",
       "      <td>false</td>\n",
       "      <td></td>\n",
       "      <td></td>\n",
       "      <td></td>\n",
       "      <td>eng</td>\n",
       "      <td>https://www.goodreads.com/book/show/7327624-th...</td>\n",
       "      <td>600</td>\n",
       "      <td>[{'count': '58', 'name': 'to-read'}, {'count':...</td>\n",
       "      <td></td>\n",
       "      <td></td>\n",
       "      <td>1987</td>\n",
       "      <td>Nelson Doubleday, Inc.</td>\n",
       "      <td>140</td>\n",
       "      <td>[189911]</td>\n",
       "      <td>[19997, 828466, 1569323, 425389, 1176674, 2627...</td>\n",
       "      <td>7</td>\n",
       "      <td>The Unschooled Wizard (Sun Wolf and Starhawk, ...</td>\n",
       "      <td>The Unschooled Wizard (Sun Wolf and Starhawk, ...</td>\n",
       "      <td>https://www.goodreads.com/book/show/7327624-th...</td>\n",
       "      <td>8948723</td>\n",
       "    </tr>\n",
       "    <tr>\n",
       "      <th>3</th>\n",
       "      <td></td>\n",
       "      <td>[{'author_id': '9212', 'role': ''}]</td>\n",
       "      <td>3.49</td>\n",
       "      <td>6066819</td>\n",
       "      <td>US</td>\n",
       "      <td>Addie Downs and Valerie Adler were eight when ...</td>\n",
       "      <td></td>\n",
       "      <td>Hardcover</td>\n",
       "      <td>https://s.gr-assets.com/assets/nophoto/book/11...</td>\n",
       "      <td>false</td>\n",
       "      <td>0743294297</td>\n",
       "      <td>9780743294294</td>\n",
       "      <td>B002ENBLOK</td>\n",
       "      <td>eng</td>\n",
       "      <td>https://www.goodreads.com/book/show/6066819-be...</td>\n",
       "      <td>368</td>\n",
       "      <td>[{'count': '7615', 'name': 'to-read'}, {'count...</td>\n",
       "      <td>14</td>\n",
       "      <td>7</td>\n",
       "      <td>2009</td>\n",
       "      <td>Atria Books</td>\n",
       "      <td>51184</td>\n",
       "      <td>[]</td>\n",
       "      <td>[6604176, 6054190, 2285777, 82641, 7569453, 70...</td>\n",
       "      <td>3282</td>\n",
       "      <td>Best Friends Forever</td>\n",
       "      <td>Best Friends Forever</td>\n",
       "      <td>https://www.goodreads.com/book/show/6066819-be...</td>\n",
       "      <td>6243154</td>\n",
       "    </tr>\n",
       "    <tr>\n",
       "      <th>4</th>\n",
       "      <td></td>\n",
       "      <td>[{'author_id': '149918', 'role': ''}]</td>\n",
       "      <td>3.40</td>\n",
       "      <td>287140</td>\n",
       "      <td>US</td>\n",
       "      <td></td>\n",
       "      <td></td>\n",
       "      <td></td>\n",
       "      <td>https://images.gr-assets.com/books/1413219371m...</td>\n",
       "      <td>false</td>\n",
       "      <td>0850308712</td>\n",
       "      <td>9780850308716</td>\n",
       "      <td></td>\n",
       "      <td></td>\n",
       "      <td>https://www.goodreads.com/book/show/287140.Run...</td>\n",
       "      <td></td>\n",
       "      <td>[{'count': '32', 'name': 'to-read'}, {'count':...</td>\n",
       "      <td></td>\n",
       "      <td></td>\n",
       "      <td></td>\n",
       "      <td></td>\n",
       "      <td>15</td>\n",
       "      <td>[]</td>\n",
       "      <td>[]</td>\n",
       "      <td>5</td>\n",
       "      <td>Runic Astrology: Starcraft and Timekeeping in ...</td>\n",
       "      <td>Runic Astrology: Starcraft and Timekeeping in ...</td>\n",
       "      <td>https://www.goodreads.com/book/show/287140.Run...</td>\n",
       "      <td>278577</td>\n",
       "    </tr>\n",
       "  </tbody>\n",
       "</table>\n",
       "</div>"
      ],
      "text/plain": [
       "         asin                                authors average_rating  book_id  \\\n",
       "0              [{'author_id': '604031', 'role': ''}]           4.00  5333265   \n",
       "1              [{'author_id': '626222', 'role': ''}]           3.23  1333909   \n",
       "2  B00071IKUY   [{'author_id': '10333', 'role': ''}]           4.03  7327624   \n",
       "3                [{'author_id': '9212', 'role': ''}]           3.49  6066819   \n",
       "4              [{'author_id': '149918', 'role': ''}]           3.40   287140   \n",
       "\n",
       "  country_code                                        description  \\\n",
       "0           US                                                      \n",
       "1           US  Anita Diamant's international bestseller \"The ...   \n",
       "2           US  Omnibus book club edition containing the Ladie...   \n",
       "3           US  Addie Downs and Valerie Adler were eight when ...   \n",
       "4           US                                                      \n",
       "\n",
       "  edition_information     format  \\\n",
       "0                      Paperback   \n",
       "1            Abridged   Audio CD   \n",
       "2   Book Club Edition  Hardcover   \n",
       "3                      Hardcover   \n",
       "4                                  \n",
       "\n",
       "                                           image_url is_ebook        isbn  \\\n",
       "0  https://images.gr-assets.com/books/1310220028m...    false  0312853122   \n",
       "1  https://s.gr-assets.com/assets/nophoto/book/11...    false  0743509986   \n",
       "2  https://images.gr-assets.com/books/1304100136m...    false               \n",
       "3  https://s.gr-assets.com/assets/nophoto/book/11...    false  0743294297   \n",
       "4  https://images.gr-assets.com/books/1413219371m...    false  0850308712   \n",
       "\n",
       "          isbn13 kindle_asin language_code  \\\n",
       "0  9780312853129                             \n",
       "1  9780743509985  B000FC0PBC                 \n",
       "2                                      eng   \n",
       "3  9780743294294  B002ENBLOK           eng   \n",
       "4  9780850308716                             \n",
       "\n",
       "                                                link num_pages  \\\n",
       "0  https://www.goodreads.com/book/show/5333265-w-...       256   \n",
       "1  https://www.goodreads.com/book/show/1333909.Go...             \n",
       "2  https://www.goodreads.com/book/show/7327624-th...       600   \n",
       "3  https://www.goodreads.com/book/show/6066819-be...       368   \n",
       "4  https://www.goodreads.com/book/show/287140.Run...             \n",
       "\n",
       "                                     popular_shelves publication_day  \\\n",
       "0  [{'count': '3', 'name': 'to-read'}, {'count': ...               1   \n",
       "1  [{'count': '2634', 'name': 'to-read'}, {'count...               1   \n",
       "2  [{'count': '58', 'name': 'to-read'}, {'count':...                   \n",
       "3  [{'count': '7615', 'name': 'to-read'}, {'count...              14   \n",
       "4  [{'count': '32', 'name': 'to-read'}, {'count':...                   \n",
       "\n",
       "  publication_month publication_year               publisher ratings_count  \\\n",
       "0                 9             1984      St. Martin's Press             3   \n",
       "1                10             2001  Simon & Schuster Audio            10   \n",
       "2                               1987  Nelson Doubleday, Inc.           140   \n",
       "3                 7             2009             Atria Books         51184   \n",
       "4                                                                       15   \n",
       "\n",
       "     series                                      similar_books  \\\n",
       "0        []                                                 []   \n",
       "1        []  [8709549, 17074050, 28937, 158816, 228563, 112...   \n",
       "2  [189911]  [19997, 828466, 1569323, 425389, 1176674, 2627...   \n",
       "3        []  [6604176, 6054190, 2285777, 82641, 7569453, 70...   \n",
       "4        []                                                 []   \n",
       "\n",
       "  text_reviews_count                                              title  \\\n",
       "0                  1                        W.C. Fields: A Life on Film   \n",
       "1                  6                                        Good Harbor   \n",
       "2                  7  The Unschooled Wizard (Sun Wolf and Starhawk, ...   \n",
       "3               3282                               Best Friends Forever   \n",
       "4                  5  Runic Astrology: Starcraft and Timekeeping in ...   \n",
       "\n",
       "                                title_without_series  \\\n",
       "0                        W.C. Fields: A Life on Film   \n",
       "1                                        Good Harbor   \n",
       "2  The Unschooled Wizard (Sun Wolf and Starhawk, ...   \n",
       "3                               Best Friends Forever   \n",
       "4  Runic Astrology: Starcraft and Timekeeping in ...   \n",
       "\n",
       "                                                 url  work_id  \n",
       "0  https://www.goodreads.com/book/show/5333265-w-...  5400751  \n",
       "1  https://www.goodreads.com/book/show/1333909.Go...  1323437  \n",
       "2  https://www.goodreads.com/book/show/7327624-th...  8948723  \n",
       "3  https://www.goodreads.com/book/show/6066819-be...  6243154  \n",
       "4  https://www.goodreads.com/book/show/287140.Run...   278577  "
      ]
     },
     "execution_count": 87,
     "metadata": {},
     "output_type": "execute_result"
    }
   ],
   "source": [
    "df_meta.head()"
   ]
  },
  {
   "cell_type": "markdown",
   "metadata": {},
   "source": [
    "We consider the following features as usful for EDA and feature engineering:  \n",
    "    * book_id  \n",
    "    * title  \n",
    "    * description  \n",
    "    * publication_year, publication_month, publication_day  \n",
    "    * average_rating  \n",
    "    * ratings_count  \n",
    "    * num_pages  "
   ]
  },
  {
   "cell_type": "markdown",
   "metadata": {},
   "source": [
    "Write some more functions to only import selected data. "
   ]
  },
  {
   "cell_type": "code",
   "execution_count": 88,
   "metadata": {},
   "outputs": [],
   "source": [
    "def check_features(features, dataset):\n",
    "    '''\n",
    "    simple way to check if selected features are in a dataset (dataset needs to be loaded)\n",
    "    '''\n",
    "    for f in features:\n",
    "        if f not in dataset.columns:\n",
    "            return f'{f} is not a valid column name'\n",
    "    return 'Good to go!'"
   ]
  },
  {
   "cell_type": "code",
   "execution_count": 89,
   "metadata": {},
   "outputs": [],
   "source": [
    "#generator to open json.gzip files\n",
    "# yields single lines\n",
    "def get_book(file):\n",
    "    '''\n",
    "    Generator will yield lines of the passed file\n",
    "    '''\n",
    "    with gzip.open(file, 'r') as f:\n",
    "        for l in f:\n",
    "            yield l\n",
    "    f.close()\n",
    "\n",
    "\n",
    "# fetch features\n",
    "def fetch_features(file, features, book_list):\n",
    "    '''\n",
    "    Provide a list of features you want to extract in a single run.\n",
    "    Returns a dictionary.\n",
    "    \n",
    "    File: json.gzip file you want to scan\n",
    "    \n",
    "    Features: features to extract\n",
    "    \n",
    "    book_list: set of book_ids\n",
    "    '''\n",
    "    \n",
    "    feature_dict = defaultdict(list)    \n",
    "    books = get_book(file)\n",
    "    \n",
    "    for book in tqdm(books):\n",
    "        book_dict = json.loads(book)\n",
    "        book_id = book_dict.get('book_id')\n",
    "        \n",
    "        try:\n",
    "            if book_id in book_list:\n",
    "                for f in features:\n",
    "                    feature_dict[f].append(book_dict.get(f))\n",
    "        except: \n",
    "            pass\n",
    "        \n",
    "    return feature_dict"
   ]
  },
  {
   "cell_type": "code",
   "execution_count": 90,
   "metadata": {},
   "outputs": [],
   "source": [
    "def fetch_one_feature(file, f):\n",
    "    '''\n",
    "    Provide a name of a feature you want to extract in a single run.\n",
    "    Returns a list.\n",
    "    '''\n",
    "    \n",
    "    feature = []\n",
    "    books = get_book(file)\n",
    "    \n",
    "    for book in tqdm(books):\n",
    "        book_dict = json.loads(book)\n",
    "        feature.append(book_dict.get(f))\n",
    "    \n",
    "    return feature"
   ]
  },
  {
   "cell_type": "markdown",
   "metadata": {},
   "source": [
    "Firts we will check how many different books are reviews and on how many books we have metadata."
   ]
  },
  {
   "cell_type": "code",
   "execution_count": 91,
   "metadata": {},
   "outputs": [
    {
     "name": "stderr",
     "output_type": "stream",
     "text": [
      "1378033it [00:44, 31108.22it/s]"
     ]
    },
    {
     "name": "stdout",
     "output_type": "stream",
     "text": [
      "Number of reviews: 1378033\n",
      "The dataset contains reviews for 25475 books.\n"
     ]
    },
    {
     "name": "stderr",
     "output_type": "stream",
     "text": [
      "\n"
     ]
    }
   ],
   "source": [
    "# import book ids as a measure of number of reviews\n",
    "book_ids =fetch_one_feature(file_reviews, 'book_id')\n",
    "print(f'Number of reviews: {len(book_ids)}')\n",
    "# check how many different books are reviewed\n",
    "book_ids=set(book_ids)\n",
    "print(f'The dataset contains reviews for {len(book_ids)} books.')"
   ]
  },
  {
   "cell_type": "code",
   "execution_count": 92,
   "metadata": {},
   "outputs": [
    {
     "data": {
      "text/plain": [
       "'Good to go!'"
      ]
     },
     "execution_count": 92,
     "metadata": {},
     "output_type": "execute_result"
    }
   ],
   "source": [
    "# get book ids from review file\n",
    "# features: list containing features we want to extract from the book-meta data file\n",
    "features = ['book_id', 'title', 'description', 'publication_year', 'publication_month', \n",
    "            'publication_day', 'average_rating', 'ratings_count', 'num_pages']\n",
    "check_features(features, df_meta)"
   ]
  },
  {
   "cell_type": "code",
   "execution_count": 93,
   "metadata": {},
   "outputs": [
    {
     "name": "stderr",
     "output_type": "stream",
     "text": [
      "2360655it [03:22, 11654.20it/s]\n"
     ]
    }
   ],
   "source": [
    "#load meta-data for books that were reviewed in the review dataset\n",
    "book_meta_features = pd.DataFrame.from_dict(fetch_features(file_meta, features, book_ids))"
   ]
  },
  {
   "cell_type": "code",
   "execution_count": 94,
   "metadata": {},
   "outputs": [
    {
     "data": {
      "text/html": [
       "<div>\n",
       "<style scoped>\n",
       "    .dataframe tbody tr th:only-of-type {\n",
       "        vertical-align: middle;\n",
       "    }\n",
       "\n",
       "    .dataframe tbody tr th {\n",
       "        vertical-align: top;\n",
       "    }\n",
       "\n",
       "    .dataframe thead th {\n",
       "        text-align: right;\n",
       "    }\n",
       "</style>\n",
       "<table border=\"1\" class=\"dataframe\">\n",
       "  <thead>\n",
       "    <tr style=\"text-align: right;\">\n",
       "      <th></th>\n",
       "      <th>book_id</th>\n",
       "      <th>title</th>\n",
       "      <th>description</th>\n",
       "      <th>publication_year</th>\n",
       "      <th>publication_month</th>\n",
       "      <th>publication_day</th>\n",
       "      <th>average_rating</th>\n",
       "      <th>ratings_count</th>\n",
       "      <th>num_pages</th>\n",
       "    </tr>\n",
       "  </thead>\n",
       "  <tbody>\n",
       "    <tr>\n",
       "      <th>0</th>\n",
       "      <td>22642971</td>\n",
       "      <td>The Body Electric</td>\n",
       "      <td>The future world is at peace.\\nElla Shepherd h...</td>\n",
       "      <td>2014</td>\n",
       "      <td>10</td>\n",
       "      <td>6</td>\n",
       "      <td>3.71</td>\n",
       "      <td>1525</td>\n",
       "      <td>351</td>\n",
       "    </tr>\n",
       "    <tr>\n",
       "      <th>1</th>\n",
       "      <td>32336119</td>\n",
       "      <td>Worth the Wait (Guthrie Brothers #2)</td>\n",
       "      <td>Ready or not...love will find a way \\nSingle d...</td>\n",
       "      <td>2017</td>\n",
       "      <td>7</td>\n",
       "      <td>25</td>\n",
       "      <td>4.19</td>\n",
       "      <td>693</td>\n",
       "      <td>384</td>\n",
       "    </tr>\n",
       "    <tr>\n",
       "      <th>2</th>\n",
       "      <td>2741853</td>\n",
       "      <td>Slow Hands</td>\n",
       "      <td>This is Maddy Turner's lucky day. The civilize...</td>\n",
       "      <td>2008</td>\n",
       "      <td>6</td>\n",
       "      <td>1</td>\n",
       "      <td>3.41</td>\n",
       "      <td>3852</td>\n",
       "      <td>210</td>\n",
       "    </tr>\n",
       "    <tr>\n",
       "      <th>3</th>\n",
       "      <td>12077902</td>\n",
       "      <td>Solaris: The Definitive Edition</td>\n",
       "      <td>A classic work of science fiction by renowned ...</td>\n",
       "      <td>2011</td>\n",
       "      <td>6</td>\n",
       "      <td>7</td>\n",
       "      <td>3.98</td>\n",
       "      <td>252</td>\n",
       "      <td>8</td>\n",
       "    </tr>\n",
       "    <tr>\n",
       "      <th>4</th>\n",
       "      <td>7843586</td>\n",
       "      <td>More (More, #1)</td>\n",
       "      <td>After a series of explosive encounters with tw...</td>\n",
       "      <td>2010</td>\n",
       "      <td>3</td>\n",
       "      <td>23</td>\n",
       "      <td>3.88</td>\n",
       "      <td>1675</td>\n",
       "      <td>245</td>\n",
       "    </tr>\n",
       "    <tr>\n",
       "      <th>5</th>\n",
       "      <td>18663972</td>\n",
       "      <td>Fortune's Pawn (Paradox, #1)</td>\n",
       "      <td>When professional mercenary Deviana Morris too...</td>\n",
       "      <td></td>\n",
       "      <td></td>\n",
       "      <td></td>\n",
       "      <td>3.96</td>\n",
       "      <td>1023</td>\n",
       "      <td>340</td>\n",
       "    </tr>\n",
       "    <tr>\n",
       "      <th>6</th>\n",
       "      <td>25501128</td>\n",
       "      <td>Kept from You (Tear Asunder, #4)</td>\n",
       "      <td>A sexy second-chance romance from New York Tim...</td>\n",
       "      <td>2017</td>\n",
       "      <td>3</td>\n",
       "      <td>5</td>\n",
       "      <td>4.36</td>\n",
       "      <td>1759</td>\n",
       "      <td></td>\n",
       "    </tr>\n",
       "    <tr>\n",
       "      <th>7</th>\n",
       "      <td>10806009</td>\n",
       "      <td>The Storyteller</td>\n",
       "      <td>A good girl.\\nA bad boy.\\nA fairy tale that's ...</td>\n",
       "      <td>2012</td>\n",
       "      <td>1</td>\n",
       "      <td>1</td>\n",
       "      <td>4.10</td>\n",
       "      <td>289</td>\n",
       "      <td>402</td>\n",
       "    </tr>\n",
       "    <tr>\n",
       "      <th>8</th>\n",
       "      <td>10806008</td>\n",
       "      <td>Peter Nimble and His Fantastic Eyes (Peter Nim...</td>\n",
       "      <td>Peter Nimble and His Fantastic Eyesis the utte...</td>\n",
       "      <td>2011</td>\n",
       "      <td>8</td>\n",
       "      <td>1</td>\n",
       "      <td>4.04</td>\n",
       "      <td>6049</td>\n",
       "      <td>400</td>\n",
       "    </tr>\n",
       "    <tr>\n",
       "      <th>9</th>\n",
       "      <td>9469517</td>\n",
       "      <td>Mercy</td>\n",
       "      <td></td>\n",
       "      <td>2009</td>\n",
       "      <td>2</td>\n",
       "      <td>1</td>\n",
       "      <td>3.64</td>\n",
       "      <td>3559</td>\n",
       "      <td>226</td>\n",
       "    </tr>\n",
       "  </tbody>\n",
       "</table>\n",
       "</div>"
      ],
      "text/plain": [
       "    book_id                                              title  \\\n",
       "0  22642971                                  The Body Electric   \n",
       "1  32336119               Worth the Wait (Guthrie Brothers #2)   \n",
       "2   2741853                                         Slow Hands   \n",
       "3  12077902                    Solaris: The Definitive Edition   \n",
       "4   7843586                                    More (More, #1)   \n",
       "5  18663972                       Fortune's Pawn (Paradox, #1)   \n",
       "6  25501128                   Kept from You (Tear Asunder, #4)   \n",
       "7  10806009                                    The Storyteller   \n",
       "8  10806008  Peter Nimble and His Fantastic Eyes (Peter Nim...   \n",
       "9   9469517                                              Mercy   \n",
       "\n",
       "                                         description publication_year  \\\n",
       "0  The future world is at peace.\\nElla Shepherd h...             2014   \n",
       "1  Ready or not...love will find a way \\nSingle d...             2017   \n",
       "2  This is Maddy Turner's lucky day. The civilize...             2008   \n",
       "3  A classic work of science fiction by renowned ...             2011   \n",
       "4  After a series of explosive encounters with tw...             2010   \n",
       "5  When professional mercenary Deviana Morris too...                    \n",
       "6  A sexy second-chance romance from New York Tim...             2017   \n",
       "7  A good girl.\\nA bad boy.\\nA fairy tale that's ...             2012   \n",
       "8  Peter Nimble and His Fantastic Eyesis the utte...             2011   \n",
       "9                                                                2009   \n",
       "\n",
       "  publication_month publication_day average_rating ratings_count num_pages  \n",
       "0                10               6           3.71          1525       351  \n",
       "1                 7              25           4.19           693       384  \n",
       "2                 6               1           3.41          3852       210  \n",
       "3                 6               7           3.98           252         8  \n",
       "4                 3              23           3.88          1675       245  \n",
       "5                                             3.96          1023       340  \n",
       "6                 3               5           4.36          1759            \n",
       "7                 1               1           4.10           289       402  \n",
       "8                 8               1           4.04          6049       400  \n",
       "9                 2               1           3.64          3559       226  "
      ]
     },
     "execution_count": 94,
     "metadata": {},
     "output_type": "execute_result"
    }
   ],
   "source": [
    "# get a look at the metadata\n",
    "book_meta_features.head(10)"
   ]
  },
  {
   "cell_type": "code",
   "execution_count": 95,
   "metadata": {},
   "outputs": [
    {
     "data": {
      "text/plain": [
       "(25475, 9)"
      ]
     },
     "execution_count": 95,
     "metadata": {},
     "output_type": "execute_result"
    }
   ],
   "source": [
    "book_meta_features.shape"
   ]
  },
  {
   "cell_type": "code",
   "execution_count": 96,
   "metadata": {},
   "outputs": [
    {
     "data": {
      "text/plain": [
       "book_id              0\n",
       "title                0\n",
       "description          0\n",
       "publication_year     0\n",
       "publication_month    0\n",
       "publication_day      0\n",
       "average_rating       0\n",
       "ratings_count        0\n",
       "num_pages            0\n",
       "dtype: int64"
      ]
     },
     "execution_count": 96,
     "metadata": {},
     "output_type": "execute_result"
    }
   ],
   "source": [
    "book_meta_features.isna().sum()"
   ]
  },
  {
   "cell_type": "markdown",
   "metadata": {},
   "source": [
    "Going back to data source, we figured out that missing values are empty strings (''). We will use the replace function to replace missing values with np.nan."
   ]
  },
  {
   "cell_type": "code",
   "execution_count": 97,
   "metadata": {},
   "outputs": [
    {
     "data": {
      "text/html": [
       "<div>\n",
       "<style scoped>\n",
       "    .dataframe tbody tr th:only-of-type {\n",
       "        vertical-align: middle;\n",
       "    }\n",
       "\n",
       "    .dataframe tbody tr th {\n",
       "        vertical-align: top;\n",
       "    }\n",
       "\n",
       "    .dataframe thead th {\n",
       "        text-align: right;\n",
       "    }\n",
       "</style>\n",
       "<table border=\"1\" class=\"dataframe\">\n",
       "  <thead>\n",
       "    <tr style=\"text-align: right;\">\n",
       "      <th></th>\n",
       "      <th>book_id</th>\n",
       "      <th>title</th>\n",
       "      <th>description</th>\n",
       "      <th>publication_year</th>\n",
       "      <th>publication_month</th>\n",
       "      <th>publication_day</th>\n",
       "      <th>average_rating</th>\n",
       "      <th>ratings_count</th>\n",
       "      <th>num_pages</th>\n",
       "    </tr>\n",
       "  </thead>\n",
       "  <tbody>\n",
       "    <tr>\n",
       "      <th>0</th>\n",
       "      <td>22642971</td>\n",
       "      <td>The Body Electric</td>\n",
       "      <td>The future world is at peace.\\nElla Shepherd h...</td>\n",
       "      <td>2014</td>\n",
       "      <td>10</td>\n",
       "      <td>6</td>\n",
       "      <td>3.71</td>\n",
       "      <td>1525</td>\n",
       "      <td>351</td>\n",
       "    </tr>\n",
       "    <tr>\n",
       "      <th>1</th>\n",
       "      <td>32336119</td>\n",
       "      <td>Worth the Wait (Guthrie Brothers #2)</td>\n",
       "      <td>Ready or not...love will find a way \\nSingle d...</td>\n",
       "      <td>2017</td>\n",
       "      <td>7</td>\n",
       "      <td>25</td>\n",
       "      <td>4.19</td>\n",
       "      <td>693</td>\n",
       "      <td>384</td>\n",
       "    </tr>\n",
       "    <tr>\n",
       "      <th>2</th>\n",
       "      <td>2741853</td>\n",
       "      <td>Slow Hands</td>\n",
       "      <td>This is Maddy Turner's lucky day. The civilize...</td>\n",
       "      <td>2008</td>\n",
       "      <td>6</td>\n",
       "      <td>1</td>\n",
       "      <td>3.41</td>\n",
       "      <td>3852</td>\n",
       "      <td>210</td>\n",
       "    </tr>\n",
       "    <tr>\n",
       "      <th>3</th>\n",
       "      <td>12077902</td>\n",
       "      <td>Solaris: The Definitive Edition</td>\n",
       "      <td>A classic work of science fiction by renowned ...</td>\n",
       "      <td>2011</td>\n",
       "      <td>6</td>\n",
       "      <td>7</td>\n",
       "      <td>3.98</td>\n",
       "      <td>252</td>\n",
       "      <td>8</td>\n",
       "    </tr>\n",
       "    <tr>\n",
       "      <th>4</th>\n",
       "      <td>7843586</td>\n",
       "      <td>More (More, #1)</td>\n",
       "      <td>After a series of explosive encounters with tw...</td>\n",
       "      <td>2010</td>\n",
       "      <td>3</td>\n",
       "      <td>23</td>\n",
       "      <td>3.88</td>\n",
       "      <td>1675</td>\n",
       "      <td>245</td>\n",
       "    </tr>\n",
       "    <tr>\n",
       "      <th>5</th>\n",
       "      <td>18663972</td>\n",
       "      <td>Fortune's Pawn (Paradox, #1)</td>\n",
       "      <td>When professional mercenary Deviana Morris too...</td>\n",
       "      <td>NaN</td>\n",
       "      <td>NaN</td>\n",
       "      <td>NaN</td>\n",
       "      <td>3.96</td>\n",
       "      <td>1023</td>\n",
       "      <td>340</td>\n",
       "    </tr>\n",
       "    <tr>\n",
       "      <th>6</th>\n",
       "      <td>25501128</td>\n",
       "      <td>Kept from You (Tear Asunder, #4)</td>\n",
       "      <td>A sexy second-chance romance from New York Tim...</td>\n",
       "      <td>2017</td>\n",
       "      <td>3</td>\n",
       "      <td>5</td>\n",
       "      <td>4.36</td>\n",
       "      <td>1759</td>\n",
       "      <td>NaN</td>\n",
       "    </tr>\n",
       "    <tr>\n",
       "      <th>7</th>\n",
       "      <td>10806009</td>\n",
       "      <td>The Storyteller</td>\n",
       "      <td>A good girl.\\nA bad boy.\\nA fairy tale that's ...</td>\n",
       "      <td>2012</td>\n",
       "      <td>1</td>\n",
       "      <td>1</td>\n",
       "      <td>4.10</td>\n",
       "      <td>289</td>\n",
       "      <td>402</td>\n",
       "    </tr>\n",
       "    <tr>\n",
       "      <th>8</th>\n",
       "      <td>10806008</td>\n",
       "      <td>Peter Nimble and His Fantastic Eyes (Peter Nim...</td>\n",
       "      <td>Peter Nimble and His Fantastic Eyesis the utte...</td>\n",
       "      <td>2011</td>\n",
       "      <td>8</td>\n",
       "      <td>1</td>\n",
       "      <td>4.04</td>\n",
       "      <td>6049</td>\n",
       "      <td>400</td>\n",
       "    </tr>\n",
       "    <tr>\n",
       "      <th>9</th>\n",
       "      <td>9469517</td>\n",
       "      <td>Mercy</td>\n",
       "      <td>NaN</td>\n",
       "      <td>2009</td>\n",
       "      <td>2</td>\n",
       "      <td>1</td>\n",
       "      <td>3.64</td>\n",
       "      <td>3559</td>\n",
       "      <td>226</td>\n",
       "    </tr>\n",
       "  </tbody>\n",
       "</table>\n",
       "</div>"
      ],
      "text/plain": [
       "    book_id                                              title  \\\n",
       "0  22642971                                  The Body Electric   \n",
       "1  32336119               Worth the Wait (Guthrie Brothers #2)   \n",
       "2   2741853                                         Slow Hands   \n",
       "3  12077902                    Solaris: The Definitive Edition   \n",
       "4   7843586                                    More (More, #1)   \n",
       "5  18663972                       Fortune's Pawn (Paradox, #1)   \n",
       "6  25501128                   Kept from You (Tear Asunder, #4)   \n",
       "7  10806009                                    The Storyteller   \n",
       "8  10806008  Peter Nimble and His Fantastic Eyes (Peter Nim...   \n",
       "9   9469517                                              Mercy   \n",
       "\n",
       "                                         description publication_year  \\\n",
       "0  The future world is at peace.\\nElla Shepherd h...             2014   \n",
       "1  Ready or not...love will find a way \\nSingle d...             2017   \n",
       "2  This is Maddy Turner's lucky day. The civilize...             2008   \n",
       "3  A classic work of science fiction by renowned ...             2011   \n",
       "4  After a series of explosive encounters with tw...             2010   \n",
       "5  When professional mercenary Deviana Morris too...              NaN   \n",
       "6  A sexy second-chance romance from New York Tim...             2017   \n",
       "7  A good girl.\\nA bad boy.\\nA fairy tale that's ...             2012   \n",
       "8  Peter Nimble and His Fantastic Eyesis the utte...             2011   \n",
       "9                                                NaN             2009   \n",
       "\n",
       "  publication_month publication_day average_rating ratings_count num_pages  \n",
       "0                10               6           3.71          1525       351  \n",
       "1                 7              25           4.19           693       384  \n",
       "2                 6               1           3.41          3852       210  \n",
       "3                 6               7           3.98           252         8  \n",
       "4                 3              23           3.88          1675       245  \n",
       "5               NaN             NaN           3.96          1023       340  \n",
       "6                 3               5           4.36          1759       NaN  \n",
       "7                 1               1           4.10           289       402  \n",
       "8                 8               1           4.04          6049       400  \n",
       "9                 2               1           3.64          3559       226  "
      ]
     },
     "execution_count": 97,
     "metadata": {},
     "output_type": "execute_result"
    }
   ],
   "source": [
    "# replace '' (missing values) with na\n",
    "book_meta_features2 = book_meta_features.copy()\n",
    "book_meta_features2 = book_meta_features2.replace('', np.nan)\n",
    "book_meta_features2.head(10)"
   ]
  },
  {
   "cell_type": "code",
   "execution_count": 98,
   "metadata": {},
   "outputs": [
    {
     "data": {
      "text/html": [
       "<div>\n",
       "<style scoped>\n",
       "    .dataframe tbody tr th:only-of-type {\n",
       "        vertical-align: middle;\n",
       "    }\n",
       "\n",
       "    .dataframe tbody tr th {\n",
       "        vertical-align: top;\n",
       "    }\n",
       "\n",
       "    .dataframe thead th {\n",
       "        text-align: right;\n",
       "    }\n",
       "</style>\n",
       "<table border=\"1\" class=\"dataframe\">\n",
       "  <thead>\n",
       "    <tr style=\"text-align: right;\">\n",
       "      <th></th>\n",
       "      <th>missing_count</th>\n",
       "      <th>missing_rel</th>\n",
       "    </tr>\n",
       "  </thead>\n",
       "  <tbody>\n",
       "    <tr>\n",
       "      <th>book_id</th>\n",
       "      <td>0</td>\n",
       "      <td>0.0</td>\n",
       "    </tr>\n",
       "    <tr>\n",
       "      <th>title</th>\n",
       "      <td>0</td>\n",
       "      <td>0.0</td>\n",
       "    </tr>\n",
       "    <tr>\n",
       "      <th>description</th>\n",
       "      <td>305</td>\n",
       "      <td>1.0</td>\n",
       "    </tr>\n",
       "    <tr>\n",
       "      <th>publication_year</th>\n",
       "      <td>3084</td>\n",
       "      <td>12.0</td>\n",
       "    </tr>\n",
       "    <tr>\n",
       "      <th>publication_month</th>\n",
       "      <td>3605</td>\n",
       "      <td>14.0</td>\n",
       "    </tr>\n",
       "    <tr>\n",
       "      <th>publication_day</th>\n",
       "      <td>4183</td>\n",
       "      <td>16.0</td>\n",
       "    </tr>\n",
       "    <tr>\n",
       "      <th>average_rating</th>\n",
       "      <td>1</td>\n",
       "      <td>0.0</td>\n",
       "    </tr>\n",
       "    <tr>\n",
       "      <th>ratings_count</th>\n",
       "      <td>1</td>\n",
       "      <td>0.0</td>\n",
       "    </tr>\n",
       "    <tr>\n",
       "      <th>num_pages</th>\n",
       "      <td>2002</td>\n",
       "      <td>8.0</td>\n",
       "    </tr>\n",
       "  </tbody>\n",
       "</table>\n",
       "</div>"
      ],
      "text/plain": [
       "                   missing_count  missing_rel\n",
       "book_id                        0          0.0\n",
       "title                          0          0.0\n",
       "description                  305          1.0\n",
       "publication_year            3084         12.0\n",
       "publication_month           3605         14.0\n",
       "publication_day             4183         16.0\n",
       "average_rating                 1          0.0\n",
       "ratings_count                  1          0.0\n",
       "num_pages                   2002          8.0"
      ]
     },
     "execution_count": 98,
     "metadata": {},
     "output_type": "execute_result"
    }
   ],
   "source": [
    "#missing values\n",
    "df_b_m = pd.DataFrame({\n",
    "    'missing_count':book_meta_features2.isnull().sum()\n",
    "})\n",
    "df_b_m['missing_rel'] = round(df_b_m.missing_count/len(book_meta_features2),2)*100\n",
    "df_b_m"
   ]
  },
  {
   "cell_type": "markdown",
   "metadata": {},
   "source": [
    "Information on publication dates is missing for approx. 15 % of the books. "
   ]
  },
  {
   "cell_type": "code",
   "execution_count": 99,
   "metadata": {},
   "outputs": [
    {
     "data": {
      "text/plain": [
       "book_id              object\n",
       "title                object\n",
       "description          object\n",
       "publication_year     object\n",
       "publication_month    object\n",
       "publication_day      object\n",
       "average_rating       object\n",
       "ratings_count        object\n",
       "num_pages            object\n",
       "dtype: object"
      ]
     },
     "execution_count": 99,
     "metadata": {},
     "output_type": "execute_result"
    }
   ],
   "source": [
    "# what is the data type of the different features\n",
    "# in the original data it looks like all features are saved as strings\n",
    "book_meta_features.dtypes"
   ]
  },
  {
   "cell_type": "code",
   "execution_count": 100,
   "metadata": {},
   "outputs": [],
   "source": [
    "# replace average_rating, rating_count and num_pages as int\n",
    "to_transform = ['publication_year','publication_month', 'publication_day','average_rating','ratings_count', 'num_pages' ]\n",
    "for f in to_transform:\n",
    "    book_meta_features2[f]=pd.to_numeric(book_meta_features2[f], errors='coerce')"
   ]
  },
  {
   "cell_type": "code",
   "execution_count": 101,
   "metadata": {},
   "outputs": [
    {
     "data": {
      "text/plain": [
       "book_id               object\n",
       "title                 object\n",
       "description           object\n",
       "publication_year     float64\n",
       "publication_month    float64\n",
       "publication_day      float64\n",
       "average_rating       float64\n",
       "ratings_count        float64\n",
       "num_pages            float64\n",
       "dtype: object"
      ]
     },
     "execution_count": 101,
     "metadata": {},
     "output_type": "execute_result"
    }
   ],
   "source": [
    "book_meta_features2.dtypes"
   ]
  },
  {
   "cell_type": "code",
   "execution_count": 102,
   "metadata": {},
   "outputs": [
    {
     "data": {
      "text/html": [
       "<div>\n",
       "<style scoped>\n",
       "    .dataframe tbody tr th:only-of-type {\n",
       "        vertical-align: middle;\n",
       "    }\n",
       "\n",
       "    .dataframe tbody tr th {\n",
       "        vertical-align: top;\n",
       "    }\n",
       "\n",
       "    .dataframe thead th {\n",
       "        text-align: right;\n",
       "    }\n",
       "</style>\n",
       "<table border=\"1\" class=\"dataframe\">\n",
       "  <thead>\n",
       "    <tr style=\"text-align: right;\">\n",
       "      <th></th>\n",
       "      <th>book_id</th>\n",
       "      <th>title</th>\n",
       "      <th>description</th>\n",
       "      <th>publication_year</th>\n",
       "      <th>publication_month</th>\n",
       "      <th>publication_day</th>\n",
       "      <th>average_rating</th>\n",
       "      <th>ratings_count</th>\n",
       "      <th>num_pages</th>\n",
       "    </tr>\n",
       "  </thead>\n",
       "  <tbody>\n",
       "    <tr>\n",
       "      <th>0</th>\n",
       "      <td>22642971</td>\n",
       "      <td>The Body Electric</td>\n",
       "      <td>The future world is at peace.\\nElla Shepherd h...</td>\n",
       "      <td>2014.0</td>\n",
       "      <td>10.0</td>\n",
       "      <td>6.0</td>\n",
       "      <td>3.71</td>\n",
       "      <td>1525.0</td>\n",
       "      <td>351.0</td>\n",
       "    </tr>\n",
       "    <tr>\n",
       "      <th>1</th>\n",
       "      <td>32336119</td>\n",
       "      <td>Worth the Wait (Guthrie Brothers #2)</td>\n",
       "      <td>Ready or not...love will find a way \\nSingle d...</td>\n",
       "      <td>2017.0</td>\n",
       "      <td>7.0</td>\n",
       "      <td>25.0</td>\n",
       "      <td>4.19</td>\n",
       "      <td>693.0</td>\n",
       "      <td>384.0</td>\n",
       "    </tr>\n",
       "    <tr>\n",
       "      <th>2</th>\n",
       "      <td>2741853</td>\n",
       "      <td>Slow Hands</td>\n",
       "      <td>This is Maddy Turner's lucky day. The civilize...</td>\n",
       "      <td>2008.0</td>\n",
       "      <td>6.0</td>\n",
       "      <td>1.0</td>\n",
       "      <td>3.41</td>\n",
       "      <td>3852.0</td>\n",
       "      <td>210.0</td>\n",
       "    </tr>\n",
       "    <tr>\n",
       "      <th>3</th>\n",
       "      <td>12077902</td>\n",
       "      <td>Solaris: The Definitive Edition</td>\n",
       "      <td>A classic work of science fiction by renowned ...</td>\n",
       "      <td>2011.0</td>\n",
       "      <td>6.0</td>\n",
       "      <td>7.0</td>\n",
       "      <td>3.98</td>\n",
       "      <td>252.0</td>\n",
       "      <td>8.0</td>\n",
       "    </tr>\n",
       "    <tr>\n",
       "      <th>4</th>\n",
       "      <td>7843586</td>\n",
       "      <td>More (More, #1)</td>\n",
       "      <td>After a series of explosive encounters with tw...</td>\n",
       "      <td>2010.0</td>\n",
       "      <td>3.0</td>\n",
       "      <td>23.0</td>\n",
       "      <td>3.88</td>\n",
       "      <td>1675.0</td>\n",
       "      <td>245.0</td>\n",
       "    </tr>\n",
       "    <tr>\n",
       "      <th>5</th>\n",
       "      <td>18663972</td>\n",
       "      <td>Fortune's Pawn (Paradox, #1)</td>\n",
       "      <td>When professional mercenary Deviana Morris too...</td>\n",
       "      <td>NaN</td>\n",
       "      <td>NaN</td>\n",
       "      <td>NaN</td>\n",
       "      <td>3.96</td>\n",
       "      <td>1023.0</td>\n",
       "      <td>340.0</td>\n",
       "    </tr>\n",
       "    <tr>\n",
       "      <th>6</th>\n",
       "      <td>25501128</td>\n",
       "      <td>Kept from You (Tear Asunder, #4)</td>\n",
       "      <td>A sexy second-chance romance from New York Tim...</td>\n",
       "      <td>2017.0</td>\n",
       "      <td>3.0</td>\n",
       "      <td>5.0</td>\n",
       "      <td>4.36</td>\n",
       "      <td>1759.0</td>\n",
       "      <td>NaN</td>\n",
       "    </tr>\n",
       "    <tr>\n",
       "      <th>7</th>\n",
       "      <td>10806009</td>\n",
       "      <td>The Storyteller</td>\n",
       "      <td>A good girl.\\nA bad boy.\\nA fairy tale that's ...</td>\n",
       "      <td>2012.0</td>\n",
       "      <td>1.0</td>\n",
       "      <td>1.0</td>\n",
       "      <td>4.10</td>\n",
       "      <td>289.0</td>\n",
       "      <td>402.0</td>\n",
       "    </tr>\n",
       "    <tr>\n",
       "      <th>8</th>\n",
       "      <td>10806008</td>\n",
       "      <td>Peter Nimble and His Fantastic Eyes (Peter Nim...</td>\n",
       "      <td>Peter Nimble and His Fantastic Eyesis the utte...</td>\n",
       "      <td>2011.0</td>\n",
       "      <td>8.0</td>\n",
       "      <td>1.0</td>\n",
       "      <td>4.04</td>\n",
       "      <td>6049.0</td>\n",
       "      <td>400.0</td>\n",
       "    </tr>\n",
       "    <tr>\n",
       "      <th>9</th>\n",
       "      <td>9469517</td>\n",
       "      <td>Mercy</td>\n",
       "      <td>NaN</td>\n",
       "      <td>2009.0</td>\n",
       "      <td>2.0</td>\n",
       "      <td>1.0</td>\n",
       "      <td>3.64</td>\n",
       "      <td>3559.0</td>\n",
       "      <td>226.0</td>\n",
       "    </tr>\n",
       "  </tbody>\n",
       "</table>\n",
       "</div>"
      ],
      "text/plain": [
       "    book_id                                              title  \\\n",
       "0  22642971                                  The Body Electric   \n",
       "1  32336119               Worth the Wait (Guthrie Brothers #2)   \n",
       "2   2741853                                         Slow Hands   \n",
       "3  12077902                    Solaris: The Definitive Edition   \n",
       "4   7843586                                    More (More, #1)   \n",
       "5  18663972                       Fortune's Pawn (Paradox, #1)   \n",
       "6  25501128                   Kept from You (Tear Asunder, #4)   \n",
       "7  10806009                                    The Storyteller   \n",
       "8  10806008  Peter Nimble and His Fantastic Eyes (Peter Nim...   \n",
       "9   9469517                                              Mercy   \n",
       "\n",
       "                                         description  publication_year  \\\n",
       "0  The future world is at peace.\\nElla Shepherd h...            2014.0   \n",
       "1  Ready or not...love will find a way \\nSingle d...            2017.0   \n",
       "2  This is Maddy Turner's lucky day. The civilize...            2008.0   \n",
       "3  A classic work of science fiction by renowned ...            2011.0   \n",
       "4  After a series of explosive encounters with tw...            2010.0   \n",
       "5  When professional mercenary Deviana Morris too...               NaN   \n",
       "6  A sexy second-chance romance from New York Tim...            2017.0   \n",
       "7  A good girl.\\nA bad boy.\\nA fairy tale that's ...            2012.0   \n",
       "8  Peter Nimble and His Fantastic Eyesis the utte...            2011.0   \n",
       "9                                                NaN            2009.0   \n",
       "\n",
       "   publication_month  publication_day  average_rating  ratings_count  \\\n",
       "0               10.0              6.0            3.71         1525.0   \n",
       "1                7.0             25.0            4.19          693.0   \n",
       "2                6.0              1.0            3.41         3852.0   \n",
       "3                6.0              7.0            3.98          252.0   \n",
       "4                3.0             23.0            3.88         1675.0   \n",
       "5                NaN              NaN            3.96         1023.0   \n",
       "6                3.0              5.0            4.36         1759.0   \n",
       "7                1.0              1.0            4.10          289.0   \n",
       "8                8.0              1.0            4.04         6049.0   \n",
       "9                2.0              1.0            3.64         3559.0   \n",
       "\n",
       "   num_pages  \n",
       "0      351.0  \n",
       "1      384.0  \n",
       "2      210.0  \n",
       "3        8.0  \n",
       "4      245.0  \n",
       "5      340.0  \n",
       "6        NaN  \n",
       "7      402.0  \n",
       "8      400.0  \n",
       "9      226.0  "
      ]
     },
     "execution_count": 102,
     "metadata": {},
     "output_type": "execute_result"
    }
   ],
   "source": [
    "book_meta_features2.head(10)"
   ]
  },
  {
   "cell_type": "markdown",
   "metadata": {},
   "source": [
    "## Get genre information"
   ]
  },
  {
   "cell_type": "markdown",
   "metadata": {},
   "source": [
    "Next we will extract the genre information. "
   ]
  },
  {
   "cell_type": "code",
   "execution_count": 105,
   "metadata": {},
   "outputs": [
    {
     "name": "stderr",
     "output_type": "stream",
     "text": [
      "2360655it [00:42, 55480.28it/s] \n"
     ]
    }
   ],
   "source": [
    "#load whole genre dataset\n",
    "genre = import_json_gz2(file_genre)"
   ]
  },
  {
   "cell_type": "code",
   "execution_count": 106,
   "metadata": {},
   "outputs": [
    {
     "data": {
      "text/html": [
       "<div>\n",
       "<style scoped>\n",
       "    .dataframe tbody tr th:only-of-type {\n",
       "        vertical-align: middle;\n",
       "    }\n",
       "\n",
       "    .dataframe tbody tr th {\n",
       "        vertical-align: top;\n",
       "    }\n",
       "\n",
       "    .dataframe thead th {\n",
       "        text-align: right;\n",
       "    }\n",
       "</style>\n",
       "<table border=\"1\" class=\"dataframe\">\n",
       "  <thead>\n",
       "    <tr style=\"text-align: right;\">\n",
       "      <th></th>\n",
       "      <th>book_id</th>\n",
       "      <th>genres</th>\n",
       "    </tr>\n",
       "  </thead>\n",
       "  <tbody>\n",
       "    <tr>\n",
       "      <th>0</th>\n",
       "      <td>5333265</td>\n",
       "      <td>{'history, historical fiction, biography': 1}</td>\n",
       "    </tr>\n",
       "    <tr>\n",
       "      <th>1</th>\n",
       "      <td>1333909</td>\n",
       "      <td>{'fiction': 219, 'history, historical fiction,...</td>\n",
       "    </tr>\n",
       "    <tr>\n",
       "      <th>2</th>\n",
       "      <td>7327624</td>\n",
       "      <td>{'fantasy, paranormal': 31, 'fiction': 8, 'mys...</td>\n",
       "    </tr>\n",
       "    <tr>\n",
       "      <th>3</th>\n",
       "      <td>6066819</td>\n",
       "      <td>{'fiction': 555, 'romance': 23, 'mystery, thri...</td>\n",
       "    </tr>\n",
       "    <tr>\n",
       "      <th>4</th>\n",
       "      <td>287140</td>\n",
       "      <td>{'non-fiction': 3}</td>\n",
       "    </tr>\n",
       "  </tbody>\n",
       "</table>\n",
       "</div>"
      ],
      "text/plain": [
       "   book_id                                             genres\n",
       "0  5333265      {'history, historical fiction, biography': 1}\n",
       "1  1333909  {'fiction': 219, 'history, historical fiction,...\n",
       "2  7327624  {'fantasy, paranormal': 31, 'fiction': 8, 'mys...\n",
       "3  6066819  {'fiction': 555, 'romance': 23, 'mystery, thri...\n",
       "4   287140                                 {'non-fiction': 3}"
      ]
     },
     "execution_count": 106,
     "metadata": {},
     "output_type": "execute_result"
    }
   ],
   "source": [
    "genre.head()"
   ]
  },
  {
   "cell_type": "code",
   "execution_count": 107,
   "metadata": {},
   "outputs": [
    {
     "data": {
      "text/plain": [
       "(2360655, 2)"
      ]
     },
     "execution_count": 107,
     "metadata": {},
     "output_type": "execute_result"
    }
   ],
   "source": [
    "genre.shape"
   ]
  },
  {
   "cell_type": "markdown",
   "metadata": {},
   "source": [
    "The genre dataset contains genre information for 2.3 million books. However, according to the [data source](https://sites.google.com/eng.ucsd.edu/ucsdbookgraph/reviews) we have reviews for 25k  books. We will use the function below to get the genres for the books contained in the review data set. Note that the genres are provided as a dictionary. The following function will also identify book_ids which have not been asigned a genre."
   ]
  },
  {
   "cell_type": "code",
   "execution_count": 108,
   "metadata": {},
   "outputs": [],
   "source": [
    "def fetch_genre(file, book_list):\n",
    "    '''\n",
    "    File: json.gzip file you want to scan\n",
    "    \n",
    "    book_list: set of book_ids\n",
    "    \n",
    "    Returns: list containing book_ids and genres and a list of book_ids with no information on genre\n",
    "    '''\n",
    "    \n",
    "    book_genres = []    \n",
    "    missing_genre = []\n",
    "    books = get_book(file)\n",
    "    \n",
    "    for book in tqdm(books):\n",
    "        book_dict = json.loads(book)\n",
    "        book_id = book_dict.get('book_id')\n",
    "        book_genre = book_dict.get('genres')\n",
    "        try:\n",
    "            if book_id in book_list:\n",
    "                book_genres.append(book_dict) \n",
    "                # empty dictionary returns \n",
    "                if not book_genre:\n",
    "                    missing_genre.append(book_id)\n",
    "        except: \n",
    "            pass\n",
    "        \n",
    "    return book_genres, missing_genre"
   ]
  },
  {
   "cell_type": "code",
   "execution_count": 109,
   "metadata": {},
   "outputs": [
    {
     "name": "stderr",
     "output_type": "stream",
     "text": [
      "2360655it [00:18, 128524.39it/s]\n"
     ]
    }
   ],
   "source": [
    "genre, missing_genre = fetch_genre(file_genre,book_ids)"
   ]
  },
  {
   "cell_type": "code",
   "execution_count": 110,
   "metadata": {},
   "outputs": [
    {
     "data": {
      "text/plain": [
       "['16148398']"
      ]
     },
     "execution_count": 110,
     "metadata": {},
     "output_type": "execute_result"
    }
   ],
   "source": [
    "missing_genre"
   ]
  },
  {
   "cell_type": "markdown",
   "metadata": {},
   "source": [
    "We only miss information for one of the books being reviews. As it is in the missing_genre_list only once we can also conclude that it has been reviewed only once. "
   ]
  },
  {
   "cell_type": "code",
   "execution_count": 111,
   "metadata": {},
   "outputs": [],
   "source": [
    "# write genre information to dataframe and get a look at it\n",
    "df_genre = pd.DataFrame(genre)"
   ]
  },
  {
   "cell_type": "code",
   "execution_count": 112,
   "metadata": {},
   "outputs": [
    {
     "data": {
      "text/html": [
       "<div>\n",
       "<style scoped>\n",
       "    .dataframe tbody tr th:only-of-type {\n",
       "        vertical-align: middle;\n",
       "    }\n",
       "\n",
       "    .dataframe tbody tr th {\n",
       "        vertical-align: top;\n",
       "    }\n",
       "\n",
       "    .dataframe thead th {\n",
       "        text-align: right;\n",
       "    }\n",
       "</style>\n",
       "<table border=\"1\" class=\"dataframe\">\n",
       "  <thead>\n",
       "    <tr style=\"text-align: right;\">\n",
       "      <th></th>\n",
       "      <th>book_id</th>\n",
       "      <th>genres</th>\n",
       "    </tr>\n",
       "  </thead>\n",
       "  <tbody>\n",
       "    <tr>\n",
       "      <th>0</th>\n",
       "      <td>22642971</td>\n",
       "      <td>{'young-adult': 235, 'fiction': 182, 'romance'...</td>\n",
       "    </tr>\n",
       "    <tr>\n",
       "      <th>1</th>\n",
       "      <td>32336119</td>\n",
       "      <td>{'romance': 84, 'mystery, thriller, crime': 4,...</td>\n",
       "    </tr>\n",
       "    <tr>\n",
       "      <th>2</th>\n",
       "      <td>2741853</td>\n",
       "      <td>{'romance': 555, 'fiction': 61}</td>\n",
       "    </tr>\n",
       "    <tr>\n",
       "      <th>3</th>\n",
       "      <td>12077902</td>\n",
       "      <td>{'fiction': 2695, 'fantasy, paranormal': 358, ...</td>\n",
       "    </tr>\n",
       "    <tr>\n",
       "      <th>4</th>\n",
       "      <td>7843586</td>\n",
       "      <td>{'romance': 232, 'fiction': 11, 'mystery, thri...</td>\n",
       "    </tr>\n",
       "  </tbody>\n",
       "</table>\n",
       "</div>"
      ],
      "text/plain": [
       "    book_id                                             genres\n",
       "0  22642971  {'young-adult': 235, 'fiction': 182, 'romance'...\n",
       "1  32336119  {'romance': 84, 'mystery, thriller, crime': 4,...\n",
       "2   2741853                    {'romance': 555, 'fiction': 61}\n",
       "3  12077902  {'fiction': 2695, 'fantasy, paranormal': 358, ...\n",
       "4   7843586  {'romance': 232, 'fiction': 11, 'mystery, thri..."
      ]
     },
     "execution_count": 112,
     "metadata": {},
     "output_type": "execute_result"
    }
   ],
   "source": [
    "df_genre.head()"
   ]
  },
  {
   "cell_type": "code",
   "execution_count": 113,
   "metadata": {},
   "outputs": [
    {
     "data": {
      "text/plain": [
       "(25475, 2)"
      ]
     },
     "execution_count": 113,
     "metadata": {},
     "output_type": "execute_result"
    }
   ],
   "source": [
    "df_genre.shape"
   ]
  },
  {
   "cell_type": "code",
   "execution_count": 114,
   "metadata": {},
   "outputs": [],
   "source": [
    "# the genre dictionary ia based on vates by users\n",
    "# function to get key from dictionary with highest value or ordered list\n",
    "# returns None if dictionary is empty and max() will cause an error\n",
    "def get_genre(x, output = 'max_vote'):\n",
    "    try:\n",
    "        \n",
    "        a= max(x.items(), key=operator.itemgetter(1))[0]\n",
    "        b = sorted(x.items(), key=operator.itemgetter(1))\n",
    "        if output == 'max_vote':\n",
    "            return a\n",
    "        else:\n",
    "            return b\n",
    "    except:\n",
    "        return np.nan"
   ]
  },
  {
   "cell_type": "code",
   "execution_count": 115,
   "metadata": {},
   "outputs": [],
   "source": [
    "# create new colum containing genre with most votes (from users)\n",
    "df_genre['best_genre'] = df_genre['genres'].apply(lambda x:get_genre(x))"
   ]
  },
  {
   "cell_type": "code",
   "execution_count": 116,
   "metadata": {},
   "outputs": [
    {
     "data": {
      "text/html": [
       "<div>\n",
       "<style scoped>\n",
       "    .dataframe tbody tr th:only-of-type {\n",
       "        vertical-align: middle;\n",
       "    }\n",
       "\n",
       "    .dataframe tbody tr th {\n",
       "        vertical-align: top;\n",
       "    }\n",
       "\n",
       "    .dataframe thead th {\n",
       "        text-align: right;\n",
       "    }\n",
       "</style>\n",
       "<table border=\"1\" class=\"dataframe\">\n",
       "  <thead>\n",
       "    <tr style=\"text-align: right;\">\n",
       "      <th></th>\n",
       "      <th>book_id</th>\n",
       "      <th>genres</th>\n",
       "      <th>best_genre</th>\n",
       "    </tr>\n",
       "  </thead>\n",
       "  <tbody>\n",
       "    <tr>\n",
       "      <th>0</th>\n",
       "      <td>22642971</td>\n",
       "      <td>{'young-adult': 235, 'fiction': 182, 'romance'...</td>\n",
       "      <td>young-adult</td>\n",
       "    </tr>\n",
       "    <tr>\n",
       "      <th>1</th>\n",
       "      <td>32336119</td>\n",
       "      <td>{'romance': 84, 'mystery, thriller, crime': 4,...</td>\n",
       "      <td>romance</td>\n",
       "    </tr>\n",
       "    <tr>\n",
       "      <th>2</th>\n",
       "      <td>2741853</td>\n",
       "      <td>{'romance': 555, 'fiction': 61}</td>\n",
       "      <td>romance</td>\n",
       "    </tr>\n",
       "    <tr>\n",
       "      <th>3</th>\n",
       "      <td>12077902</td>\n",
       "      <td>{'fiction': 2695, 'fantasy, paranormal': 358, ...</td>\n",
       "      <td>fiction</td>\n",
       "    </tr>\n",
       "    <tr>\n",
       "      <th>4</th>\n",
       "      <td>7843586</td>\n",
       "      <td>{'romance': 232, 'fiction': 11, 'mystery, thri...</td>\n",
       "      <td>romance</td>\n",
       "    </tr>\n",
       "  </tbody>\n",
       "</table>\n",
       "</div>"
      ],
      "text/plain": [
       "    book_id                                             genres   best_genre\n",
       "0  22642971  {'young-adult': 235, 'fiction': 182, 'romance'...  young-adult\n",
       "1  32336119  {'romance': 84, 'mystery, thriller, crime': 4,...      romance\n",
       "2   2741853                    {'romance': 555, 'fiction': 61}      romance\n",
       "3  12077902  {'fiction': 2695, 'fantasy, paranormal': 358, ...      fiction\n",
       "4   7843586  {'romance': 232, 'fiction': 11, 'mystery, thri...      romance"
      ]
     },
     "execution_count": 116,
     "metadata": {},
     "output_type": "execute_result"
    }
   ],
   "source": [
    "df_genre.head()"
   ]
  },
  {
   "cell_type": "code",
   "execution_count": 117,
   "metadata": {},
   "outputs": [
    {
     "data": {
      "text/plain": [
       "book_id       0\n",
       "genres        0\n",
       "best_genre    1\n",
       "dtype: int64"
      ]
     },
     "execution_count": 117,
     "metadata": {},
     "output_type": "execute_result"
    }
   ],
   "source": [
    "# confirm that genre information is only missing for one book\n",
    "df_genre.isnull().sum()"
   ]
  },
  {
   "cell_type": "code",
   "execution_count": 118,
   "metadata": {},
   "outputs": [
    {
     "data": {
      "text/html": [
       "<div>\n",
       "<style scoped>\n",
       "    .dataframe tbody tr th:only-of-type {\n",
       "        vertical-align: middle;\n",
       "    }\n",
       "\n",
       "    .dataframe tbody tr th {\n",
       "        vertical-align: top;\n",
       "    }\n",
       "\n",
       "    .dataframe thead th {\n",
       "        text-align: right;\n",
       "    }\n",
       "</style>\n",
       "<table border=\"1\" class=\"dataframe\">\n",
       "  <thead>\n",
       "    <tr style=\"text-align: right;\">\n",
       "      <th></th>\n",
       "      <th>book_id</th>\n",
       "      <th>genres</th>\n",
       "      <th>best_genre</th>\n",
       "    </tr>\n",
       "  </thead>\n",
       "  <tbody>\n",
       "    <tr>\n",
       "      <th>16474</th>\n",
       "      <td>16148398</td>\n",
       "      <td>{}</td>\n",
       "      <td>NaN</td>\n",
       "    </tr>\n",
       "  </tbody>\n",
       "</table>\n",
       "</div>"
      ],
      "text/plain": [
       "        book_id genres best_genre\n",
       "16474  16148398     {}        NaN"
      ]
     },
     "execution_count": 118,
     "metadata": {},
     "output_type": "execute_result"
    }
   ],
   "source": [
    "# identify book with missing genre\n",
    "df_missing_genre = df_genre[df_genre.best_genre.isnull()]\n",
    "df_missing_genre"
   ]
  },
  {
   "cell_type": "code",
   "execution_count": 119,
   "metadata": {},
   "outputs": [
    {
     "data": {
      "text/html": [
       "<div>\n",
       "<style scoped>\n",
       "    .dataframe tbody tr th:only-of-type {\n",
       "        vertical-align: middle;\n",
       "    }\n",
       "\n",
       "    .dataframe tbody tr th {\n",
       "        vertical-align: top;\n",
       "    }\n",
       "\n",
       "    .dataframe thead th {\n",
       "        text-align: right;\n",
       "    }\n",
       "</style>\n",
       "<table border=\"1\" class=\"dataframe\">\n",
       "  <thead>\n",
       "    <tr style=\"text-align: right;\">\n",
       "      <th></th>\n",
       "      <th>book_id</th>\n",
       "      <th>title</th>\n",
       "      <th>description</th>\n",
       "      <th>publication_year</th>\n",
       "      <th>publication_month</th>\n",
       "      <th>publication_day</th>\n",
       "      <th>average_rating</th>\n",
       "      <th>ratings_count</th>\n",
       "      <th>num_pages</th>\n",
       "    </tr>\n",
       "  </thead>\n",
       "  <tbody>\n",
       "    <tr>\n",
       "      <th>16474</th>\n",
       "      <td>16148398</td>\n",
       "      <td>Saga #1</td>\n",
       "      <td>NaN</td>\n",
       "      <td>NaN</td>\n",
       "      <td>NaN</td>\n",
       "      <td>NaN</td>\n",
       "      <td>NaN</td>\n",
       "      <td>NaN</td>\n",
       "      <td>NaN</td>\n",
       "    </tr>\n",
       "  </tbody>\n",
       "</table>\n",
       "</div>"
      ],
      "text/plain": [
       "        book_id    title description  publication_year  publication_month  \\\n",
       "16474  16148398  Saga #1         NaN               NaN                NaN   \n",
       "\n",
       "       publication_day  average_rating  ratings_count  num_pages  \n",
       "16474              NaN             NaN            NaN        NaN  "
      ]
     },
     "execution_count": 119,
     "metadata": {},
     "output_type": "execute_result"
    }
   ],
   "source": [
    "missing_book = book_meta_features2[book_meta_features2.book_id == '16148398']\n",
    "missing_book"
   ]
  },
  {
   "cell_type": "markdown",
   "metadata": {},
   "source": [
    "We seem to have no information but the title for the book with the missing genre. Check how often this book was reviewd using the book ids."
   ]
  },
  {
   "cell_type": "code",
   "execution_count": 120,
   "metadata": {},
   "outputs": [
    {
     "name": "stdout",
     "output_type": "stream",
     "text": [
      " The book \"Saga #1\" was reviewed 1 time(s)\n"
     ]
    }
   ],
   "source": [
    "i = 0\n",
    "for book in book_ids:\n",
    "    if book == '16148398':\n",
    "        i += 1\n",
    "print(f' The book \"Saga #1\" was reviewed {i} time(s)')"
   ]
  },
  {
   "cell_type": "markdown",
   "metadata": {},
   "source": [
    "As this book was only reviewed once, we might drop this review."
   ]
  },
  {
   "cell_type": "markdown",
   "metadata": {},
   "source": [
    "## Review data"
   ]
  },
  {
   "cell_type": "markdown",
   "metadata": {},
   "source": [
    "No we will lokk at the reviews data."
   ]
  },
  {
   "cell_type": "code",
   "execution_count": 122,
   "metadata": {},
   "outputs": [
    {
     "name": "stderr",
     "output_type": "stream",
     "text": [
      "1378033it [11:48, 1944.18it/s] \n"
     ]
    },
    {
     "data": {
      "text/plain": [
       "'00:12:23'"
      ]
     },
     "execution_count": 122,
     "metadata": {},
     "output_type": "execute_result"
    }
   ],
   "source": [
    "# load the reviews data\n",
    "t0 = time.time()\n",
    "df_reviews = import_json_gz2(file_reviews)\n",
    "elapsed_time = time.time()-t0\n",
    "time.strftime(\"%H:%M:%S\", time.gmtime(elapsed_time))"
   ]
  },
  {
   "cell_type": "code",
   "execution_count": 123,
   "metadata": {},
   "outputs": [
    {
     "data": {
      "text/html": [
       "<div>\n",
       "<style scoped>\n",
       "    .dataframe tbody tr th:only-of-type {\n",
       "        vertical-align: middle;\n",
       "    }\n",
       "\n",
       "    .dataframe tbody tr th {\n",
       "        vertical-align: top;\n",
       "    }\n",
       "\n",
       "    .dataframe thead th {\n",
       "        text-align: right;\n",
       "    }\n",
       "</style>\n",
       "<table border=\"1\" class=\"dataframe\">\n",
       "  <thead>\n",
       "    <tr style=\"text-align: right;\">\n",
       "      <th></th>\n",
       "      <th>book_id</th>\n",
       "      <th>has_spoiler</th>\n",
       "      <th>rating</th>\n",
       "      <th>review_id</th>\n",
       "      <th>review_sentences</th>\n",
       "      <th>timestamp</th>\n",
       "      <th>user_id</th>\n",
       "    </tr>\n",
       "  </thead>\n",
       "  <tbody>\n",
       "    <tr>\n",
       "      <th>0</th>\n",
       "      <td>18245960</td>\n",
       "      <td>True</td>\n",
       "      <td>5</td>\n",
       "      <td>dfdbb7b0eb5a7e4c26d59a937e2e5feb</td>\n",
       "      <td>[[0, This is a special book.], [0, It started ...</td>\n",
       "      <td>2017-08-30</td>\n",
       "      <td>8842281e1d1347389f2ab93d60773d4d</td>\n",
       "    </tr>\n",
       "    <tr>\n",
       "      <th>1</th>\n",
       "      <td>16981</td>\n",
       "      <td>False</td>\n",
       "      <td>3</td>\n",
       "      <td>a5d2c3628987712d0e05c4f90798eb67</td>\n",
       "      <td>[[0, Recommended by Don Katz.], [0, Avail for ...</td>\n",
       "      <td>2017-03-22</td>\n",
       "      <td>8842281e1d1347389f2ab93d60773d4d</td>\n",
       "    </tr>\n",
       "    <tr>\n",
       "      <th>2</th>\n",
       "      <td>28684704</td>\n",
       "      <td>True</td>\n",
       "      <td>3</td>\n",
       "      <td>2ede853b14dc4583f96cf5d120af636f</td>\n",
       "      <td>[[0, A fun, fast paced science fiction thrille...</td>\n",
       "      <td>2017-03-20</td>\n",
       "      <td>8842281e1d1347389f2ab93d60773d4d</td>\n",
       "    </tr>\n",
       "    <tr>\n",
       "      <th>3</th>\n",
       "      <td>27161156</td>\n",
       "      <td>False</td>\n",
       "      <td>0</td>\n",
       "      <td>ced5675e55cd9d38a524743f5c40996e</td>\n",
       "      <td>[[0, Recommended reading to understand what is...</td>\n",
       "      <td>2016-11-09</td>\n",
       "      <td>8842281e1d1347389f2ab93d60773d4d</td>\n",
       "    </tr>\n",
       "    <tr>\n",
       "      <th>4</th>\n",
       "      <td>25884323</td>\n",
       "      <td>True</td>\n",
       "      <td>4</td>\n",
       "      <td>332732725863131279a8e345b63ac33e</td>\n",
       "      <td>[[0, I really enjoyed this book, and there is ...</td>\n",
       "      <td>2016-04-25</td>\n",
       "      <td>8842281e1d1347389f2ab93d60773d4d</td>\n",
       "    </tr>\n",
       "  </tbody>\n",
       "</table>\n",
       "</div>"
      ],
      "text/plain": [
       "    book_id  has_spoiler  rating                         review_id  \\\n",
       "0  18245960         True       5  dfdbb7b0eb5a7e4c26d59a937e2e5feb   \n",
       "1     16981        False       3  a5d2c3628987712d0e05c4f90798eb67   \n",
       "2  28684704         True       3  2ede853b14dc4583f96cf5d120af636f   \n",
       "3  27161156        False       0  ced5675e55cd9d38a524743f5c40996e   \n",
       "4  25884323         True       4  332732725863131279a8e345b63ac33e   \n",
       "\n",
       "                                    review_sentences   timestamp  \\\n",
       "0  [[0, This is a special book.], [0, It started ...  2017-08-30   \n",
       "1  [[0, Recommended by Don Katz.], [0, Avail for ...  2017-03-22   \n",
       "2  [[0, A fun, fast paced science fiction thrille...  2017-03-20   \n",
       "3  [[0, Recommended reading to understand what is...  2016-11-09   \n",
       "4  [[0, I really enjoyed this book, and there is ...  2016-04-25   \n",
       "\n",
       "                            user_id  \n",
       "0  8842281e1d1347389f2ab93d60773d4d  \n",
       "1  8842281e1d1347389f2ab93d60773d4d  \n",
       "2  8842281e1d1347389f2ab93d60773d4d  \n",
       "3  8842281e1d1347389f2ab93d60773d4d  \n",
       "4  8842281e1d1347389f2ab93d60773d4d  "
      ]
     },
     "execution_count": 123,
     "metadata": {},
     "output_type": "execute_result"
    }
   ],
   "source": [
    "# get a quick look at the reviews data\n",
    "df_reviews.head()"
   ]
  },
  {
   "cell_type": "code",
   "execution_count": 124,
   "metadata": {
    "scrolled": true
   },
   "outputs": [
    {
     "data": {
      "text/html": [
       "<div>\n",
       "<style scoped>\n",
       "    .dataframe tbody tr th:only-of-type {\n",
       "        vertical-align: middle;\n",
       "    }\n",
       "\n",
       "    .dataframe tbody tr th {\n",
       "        vertical-align: top;\n",
       "    }\n",
       "\n",
       "    .dataframe thead th {\n",
       "        text-align: right;\n",
       "    }\n",
       "</style>\n",
       "<table border=\"1\" class=\"dataframe\">\n",
       "  <thead>\n",
       "    <tr style=\"text-align: right;\">\n",
       "      <th></th>\n",
       "      <th>book_id</th>\n",
       "      <th>has_spoiler</th>\n",
       "      <th>rating</th>\n",
       "      <th>review_id</th>\n",
       "      <th>review_sentences</th>\n",
       "      <th>timestamp</th>\n",
       "      <th>user_id</th>\n",
       "      <th>title</th>\n",
       "      <th>description</th>\n",
       "      <th>publication_year</th>\n",
       "      <th>publication_month</th>\n",
       "      <th>publication_day</th>\n",
       "      <th>average_rating</th>\n",
       "      <th>ratings_count</th>\n",
       "      <th>num_pages</th>\n",
       "      <th>genres</th>\n",
       "      <th>best_genre</th>\n",
       "    </tr>\n",
       "  </thead>\n",
       "  <tbody>\n",
       "    <tr>\n",
       "      <th>0</th>\n",
       "      <td>18245960</td>\n",
       "      <td>True</td>\n",
       "      <td>5</td>\n",
       "      <td>dfdbb7b0eb5a7e4c26d59a937e2e5feb</td>\n",
       "      <td>[[0, This is a special book.], [0, It started ...</td>\n",
       "      <td>2017-08-30</td>\n",
       "      <td>8842281e1d1347389f2ab93d60773d4d</td>\n",
       "      <td>The Three-Body Problem (Remembrance of Earth’s...</td>\n",
       "      <td>The Three-Body Problemis the first chance for ...</td>\n",
       "      <td>2014.0</td>\n",
       "      <td>10.0</td>\n",
       "      <td>14.0</td>\n",
       "      <td>4.01</td>\n",
       "      <td>6336.0</td>\n",
       "      <td>400.0</td>\n",
       "      <td>{'fiction': 393, 'fantasy, paranormal': 341, '...</td>\n",
       "      <td>fiction</td>\n",
       "    </tr>\n",
       "    <tr>\n",
       "      <th>1</th>\n",
       "      <td>18245960</td>\n",
       "      <td>False</td>\n",
       "      <td>3</td>\n",
       "      <td>b88eb6519a046159a31afcc21a448b6f</td>\n",
       "      <td>[[0, Average between the 4 star concepts (over...</td>\n",
       "      <td>2015-10-21</td>\n",
       "      <td>1a2398eca437fed5d9add310a0c09611</td>\n",
       "      <td>The Three-Body Problem (Remembrance of Earth’s...</td>\n",
       "      <td>The Three-Body Problemis the first chance for ...</td>\n",
       "      <td>2014.0</td>\n",
       "      <td>10.0</td>\n",
       "      <td>14.0</td>\n",
       "      <td>4.01</td>\n",
       "      <td>6336.0</td>\n",
       "      <td>400.0</td>\n",
       "      <td>{'fiction': 393, 'fantasy, paranormal': 341, '...</td>\n",
       "      <td>fiction</td>\n",
       "    </tr>\n",
       "    <tr>\n",
       "      <th>2</th>\n",
       "      <td>18245960</td>\n",
       "      <td>False</td>\n",
       "      <td>5</td>\n",
       "      <td>5ea837edf3b1386c613a123f46e1cccd</td>\n",
       "      <td>[[0, A really refreshing take on science ficti...</td>\n",
       "      <td>2017-05-22</td>\n",
       "      <td>ab19fd8bcc1021d1c0f42dfa8d47f1e3</td>\n",
       "      <td>The Three-Body Problem (Remembrance of Earth’s...</td>\n",
       "      <td>The Three-Body Problemis the first chance for ...</td>\n",
       "      <td>2014.0</td>\n",
       "      <td>10.0</td>\n",
       "      <td>14.0</td>\n",
       "      <td>4.01</td>\n",
       "      <td>6336.0</td>\n",
       "      <td>400.0</td>\n",
       "      <td>{'fiction': 393, 'fantasy, paranormal': 341, '...</td>\n",
       "      <td>fiction</td>\n",
       "    </tr>\n",
       "    <tr>\n",
       "      <th>3</th>\n",
       "      <td>18245960</td>\n",
       "      <td>True</td>\n",
       "      <td>1</td>\n",
       "      <td>cefa3a787e1a845fb48acad37ff528de</td>\n",
       "      <td>[[0, I'm really waffling between whether to ra...</td>\n",
       "      <td>2015-07-10</td>\n",
       "      <td>e956ca90ba23174bbbccf1161ab19150</td>\n",
       "      <td>The Three-Body Problem (Remembrance of Earth’s...</td>\n",
       "      <td>The Three-Body Problemis the first chance for ...</td>\n",
       "      <td>2014.0</td>\n",
       "      <td>10.0</td>\n",
       "      <td>14.0</td>\n",
       "      <td>4.01</td>\n",
       "      <td>6336.0</td>\n",
       "      <td>400.0</td>\n",
       "      <td>{'fiction': 393, 'fantasy, paranormal': 341, '...</td>\n",
       "      <td>fiction</td>\n",
       "    </tr>\n",
       "    <tr>\n",
       "      <th>4</th>\n",
       "      <td>18245960</td>\n",
       "      <td>True</td>\n",
       "      <td>5</td>\n",
       "      <td>86a7c0571fd59e729cf9e2340dda1224</td>\n",
       "      <td>[[0, Every time I read a good science fiction ...</td>\n",
       "      <td>2016-07-30</td>\n",
       "      <td>da7a0c5ee0c89973224d8853445be68e</td>\n",
       "      <td>The Three-Body Problem (Remembrance of Earth’s...</td>\n",
       "      <td>The Three-Body Problemis the first chance for ...</td>\n",
       "      <td>2014.0</td>\n",
       "      <td>10.0</td>\n",
       "      <td>14.0</td>\n",
       "      <td>4.01</td>\n",
       "      <td>6336.0</td>\n",
       "      <td>400.0</td>\n",
       "      <td>{'fiction': 393, 'fantasy, paranormal': 341, '...</td>\n",
       "      <td>fiction</td>\n",
       "    </tr>\n",
       "  </tbody>\n",
       "</table>\n",
       "</div>"
      ],
      "text/plain": [
       "    book_id  has_spoiler  rating                         review_id  \\\n",
       "0  18245960         True       5  dfdbb7b0eb5a7e4c26d59a937e2e5feb   \n",
       "1  18245960        False       3  b88eb6519a046159a31afcc21a448b6f   \n",
       "2  18245960        False       5  5ea837edf3b1386c613a123f46e1cccd   \n",
       "3  18245960         True       1  cefa3a787e1a845fb48acad37ff528de   \n",
       "4  18245960         True       5  86a7c0571fd59e729cf9e2340dda1224   \n",
       "\n",
       "                                    review_sentences   timestamp  \\\n",
       "0  [[0, This is a special book.], [0, It started ...  2017-08-30   \n",
       "1  [[0, Average between the 4 star concepts (over...  2015-10-21   \n",
       "2  [[0, A really refreshing take on science ficti...  2017-05-22   \n",
       "3  [[0, I'm really waffling between whether to ra...  2015-07-10   \n",
       "4  [[0, Every time I read a good science fiction ...  2016-07-30   \n",
       "\n",
       "                            user_id  \\\n",
       "0  8842281e1d1347389f2ab93d60773d4d   \n",
       "1  1a2398eca437fed5d9add310a0c09611   \n",
       "2  ab19fd8bcc1021d1c0f42dfa8d47f1e3   \n",
       "3  e956ca90ba23174bbbccf1161ab19150   \n",
       "4  da7a0c5ee0c89973224d8853445be68e   \n",
       "\n",
       "                                               title  \\\n",
       "0  The Three-Body Problem (Remembrance of Earth’s...   \n",
       "1  The Three-Body Problem (Remembrance of Earth’s...   \n",
       "2  The Three-Body Problem (Remembrance of Earth’s...   \n",
       "3  The Three-Body Problem (Remembrance of Earth’s...   \n",
       "4  The Three-Body Problem (Remembrance of Earth’s...   \n",
       "\n",
       "                                         description  publication_year  \\\n",
       "0  The Three-Body Problemis the first chance for ...            2014.0   \n",
       "1  The Three-Body Problemis the first chance for ...            2014.0   \n",
       "2  The Three-Body Problemis the first chance for ...            2014.0   \n",
       "3  The Three-Body Problemis the first chance for ...            2014.0   \n",
       "4  The Three-Body Problemis the first chance for ...            2014.0   \n",
       "\n",
       "   publication_month  publication_day  average_rating  ratings_count  \\\n",
       "0               10.0             14.0            4.01         6336.0   \n",
       "1               10.0             14.0            4.01         6336.0   \n",
       "2               10.0             14.0            4.01         6336.0   \n",
       "3               10.0             14.0            4.01         6336.0   \n",
       "4               10.0             14.0            4.01         6336.0   \n",
       "\n",
       "   num_pages                                             genres best_genre  \n",
       "0      400.0  {'fiction': 393, 'fantasy, paranormal': 341, '...    fiction  \n",
       "1      400.0  {'fiction': 393, 'fantasy, paranormal': 341, '...    fiction  \n",
       "2      400.0  {'fiction': 393, 'fantasy, paranormal': 341, '...    fiction  \n",
       "3      400.0  {'fiction': 393, 'fantasy, paranormal': 341, '...    fiction  \n",
       "4      400.0  {'fiction': 393, 'fantasy, paranormal': 341, '...    fiction  "
      ]
     },
     "execution_count": 124,
     "metadata": {},
     "output_type": "execute_result"
    }
   ],
   "source": [
    "# merge datatframes (review data, book metadata, genre information) and put it all together\n",
    "df_all = df_reviews.merge(book_meta_features2, on='book_id' ).merge(df_genre, on= 'book_id')\n",
    "df_all.head()"
   ]
  },
  {
   "cell_type": "code",
   "execution_count": 125,
   "metadata": {},
   "outputs": [],
   "source": [
    "# split into train, val and test dataset (70:20:10)\n",
    "df_train, df_validate, df_test = \\\n",
    "              np.split(df_all.sample(frac=1, random_state=42), \n",
    "                       [int(.7*len(df_all)), int(.9*len(df_all))])"
   ]
  },
  {
   "cell_type": "code",
   "execution_count": 126,
   "metadata": {},
   "outputs": [
    {
     "name": "stdout",
     "output_type": "stream",
     "text": [
      "(964623, 17) (275606, 17) (137804, 17)\n"
     ]
    }
   ],
   "source": [
    "print(df_train.shape, df_validate.shape, df_test.shape)"
   ]
  },
  {
   "cell_type": "code",
   "execution_count": null,
   "metadata": {},
   "outputs": [],
   "source": [
    "#save train, val and test dataset as json files\n",
    "t0 = time.time()\n",
    "\n",
    "df_train.to_json('training_set.json', orient = 'index')\n",
    "df_validate.to_json('validation_set.json', orient = 'index')\n",
    "df_test.to_json('test_set.json', orient = 'index')\n",
    "\n",
    "elapsed_time = time.time()-t0\n",
    "time.strftime(\"%H:%M:%S\", time.gmtime(elapsed_time))"
   ]
  },
  {
   "cell_type": "code",
   "execution_count": 22,
   "metadata": {},
   "outputs": [
    {
     "name": "stdout",
     "output_type": "stream",
     "text": [
      "00:09:17\n"
     ]
    }
   ],
   "source": [
    "# test import \n",
    "t0 = time.time()\n",
    "df_train = pd.read_json('training_set.json', orient = 'index')\n",
    "elapsed_time = time.time()-t0\n",
    "print(time.strftime(\"%H:%M:%S\", time.gmtime(elapsed_time)))\n"
   ]
  },
  {
   "cell_type": "code",
   "execution_count": 29,
   "metadata": {},
   "outputs": [
    {
     "data": {
      "text/plain": [
       "(964623, 18)"
      ]
     },
     "execution_count": 29,
     "metadata": {},
     "output_type": "execute_result"
    }
   ],
   "source": [
    "df_train.shape"
   ]
  },
  {
   "cell_type": "code",
   "execution_count": 7,
   "metadata": {},
   "outputs": [],
   "source": [
    "# functions to isolate labels and text from review_sentences column\n",
    "def get_sentence_label(x):\n",
    "    return [label for label, text in x]\n",
    "def get_sentence_text(x):\n",
    "    return [text for label, text in x]\n"
   ]
  },
  {
   "cell_type": "code",
   "execution_count": 9,
   "metadata": {},
   "outputs": [
    {
     "name": "stdout",
     "output_type": "stream",
     "text": [
      "Time for extracting text: 00:01:14\n",
      "time for extracting sentence labels: 00:00:14\n",
      "Total time: 00:01:28\n"
     ]
    }
   ],
   "source": [
    "# extract sentence information (labels and text) into new colums of the dataframe\n",
    "t0 = time.time()\n",
    "df_train['sentence_labels'] = df_train.review_sentences.apply(lambda x: get_sentence_label(x))\n",
    "t1 = time.time()\n",
    "print(f'Time for extracting text: {time.strftime(\"%H:%M:%S\", time.gmtime(t1-t0))}')\n",
    "df_train['sentence_texts'] = df_train.review_sentences.apply(lambda x: get_sentence_text(x))\n",
    "t2 = time.time()\n",
    "print(f'time for extracting sentence labels: {time.strftime(\"%H:%M:%S\", time.gmtime(t2-t1))}')\n",
    "print(f'Total time: {time.strftime(\"%H:%M:%S\", time.gmtime(t2-t0))}')"
   ]
  },
  {
   "cell_type": "code",
   "execution_count": null,
   "metadata": {},
   "outputs": [],
   "source": []
  },
  {
   "cell_type": "markdown",
   "metadata": {},
   "source": [
    "## Compare word frequency in spoiler reviews, spoiler sentences and reviews without spoiler"
   ]
  },
  {
   "cell_type": "code",
   "execution_count": null,
   "metadata": {},
   "outputs": [],
   "source": [
    "df_spoiler_reviews = df_train[df_train['has_spoiler']==True]\n",
    "df_no_spoiler_reviews = df_train[df_train['has_spoiler']==False]"
   ]
  },
  {
   "cell_type": "code",
   "execution_count": 30,
   "metadata": {},
   "outputs": [],
   "source": [
    "spoiler_reviews = [r for r in df_spoilers.review_sentences]\n",
    "safe_reviews = [r for r in df_no_spoilers.review_sentences]"
   ]
  },
  {
   "cell_type": "code",
   "execution_count": 3,
   "metadata": {},
   "outputs": [],
   "source": [
    "# perform a spellcheck to reduce features using SymSpell\n",
    "# to see generation of the custom_dictionary see notebook: spoiler_reviews_text_features_and_processing\n",
    "\n",
    "import os\n",
    "from symspellpy import SymSpell\n",
    "#initiatae SmSpell with the custom  dictionary\n",
    "custom_dictionary_path = os.path.abspath(\"custom_dictionary.txt\") \n",
    "symspell = SymSpell()\n",
    "#load dictionary\n",
    "symspell.load_dictionary(custom_dictionary_path, term_index=0, count_index=1)\n",
    "\n",
    "def spellcheck(text):\n",
    "    '''\n",
    "    function takes string as input, preprocesses text and returns a spellchecked text\n",
    "    '''\n",
    "    #preprocess text\n",
    "    text = preprocessing(text)\n",
    "    #hand to spellchecking and return the best result only if corrected phrase is more than just a single letter\n",
    "    # otherwise continue\n",
    "    sp = symspell.lookup_compound(text, max_edit_distance=1)\n",
    "    if sp[0].term == None:\n",
    "        return text\n",
    "    else:\n",
    "        return sp[0].term"
   ]
  },
  {
   "cell_type": "code",
   "execution_count": 288,
   "metadata": {},
   "outputs": [
    {
     "name": "stderr",
     "output_type": "stream",
     "text": [
      "100%|██████████| 62815/62815 [09:59<00:00, 104.79it/s]\n"
     ]
    }
   ],
   "source": [
    "# use only spoiler sentences\n",
    "spoiler_text = []\n",
    "for review in tqdm(spoiler_reviews):\n",
    "    text = []\n",
    "    for label, sentence in review:\n",
    "        if label == 1:\n",
    "            checked_text = spellcheck(sentence)\n",
    "            text.append(checked_text)\n",
    "        else:\n",
    "            continue\n",
    "    spoiler_text.append(' '.join(text))"
   ]
  },
  {
   "cell_type": "code",
   "execution_count": 47,
   "metadata": {},
   "outputs": [
    {
     "name": "stderr",
     "output_type": "stream",
     "text": [
      "100%|██████████| 62815/62815 [28:11<00:00, 37.13it/s]  \n"
     ]
    }
   ],
   "source": [
    "# get entire text from reviews containing spoilers\n",
    "spoiler_text_all = []\n",
    "for review in tqdm(spoiler_reviews):\n",
    "    text = []\n",
    "    for label, sentence in review:\n",
    "        \n",
    "        checked_text = spellcheck(sentence)\n",
    "        text.append(checked_text)\n",
    "    spoiler_text_all.append(' '.join(text))"
   ]
  },
  {
   "cell_type": "code",
   "execution_count": 48,
   "metadata": {},
   "outputs": [
    {
     "name": "stderr",
     "output_type": "stream",
     "text": [
      "100%|██████████| 62815/62815 [14:23<00:00, 72.75it/s] \n"
     ]
    }
   ],
   "source": [
    "# get reviews without spoilers \n",
    "# same number as spoiler reviews\n",
    "safe_text = []\n",
    "for review in tqdm(safe_reviews.iloc[len(df_spoiler_reviews)]):\n",
    "    text = []\n",
    "    for label, sentence in review:\n",
    "        checked_text = spellcheck(sentence)\n",
    "        text.append(checked_text)\n",
    "    safe_text.append(' '.join(text))"
   ]
  },
  {
   "cell_type": "code",
   "execution_count": 13,
   "metadata": {},
   "outputs": [],
   "source": [
    "import spacy\n",
    "nlp_spacy = spacy.load(\"en_core_web_sm\")\n",
    "\n",
    "def lemmatizer(text):\n",
    "    '''\n",
    "    tokenizes string input using spacy \n",
    "    removes english stopwords\n",
    "    '''\n",
    "    doc = nlp_spacy(text)\n",
    "    text = \" \".join([token.lemma_ for token in doc if not token.is_stop])\n",
    "    return text"
   ]
  },
  {
   "cell_type": "code",
   "execution_count": 291,
   "metadata": {},
   "outputs": [
    {
     "name": "stderr",
     "output_type": "stream",
     "text": [
      "100%|██████████| 62815/62815 [17:24<00:00, 60.13it/s]\n",
      "100%|██████████| 62815/62815 [26:38<00:00, 39.29it/s]\n",
      "100%|██████████| 62815/62815 [46:32<00:00, 22.50it/s]  \n"
     ]
    }
   ],
   "source": [
    "# join review texts into one string\n",
    "# lemmatize to reduce features further\n",
    "\n",
    "spoilers = ' '.join([lemmatizer(text) for text in tqdm(spoiler_text)])\n",
    "no_spoilers = ' '.join([lemmatizer(text) for text in tqdm(safe_text)])\n",
    "spoilers_all = ' '.join([lemmatizer(text) for text in tqdm(spoiler_text_all)])"
   ]
  },
  {
   "cell_type": "code",
   "execution_count": 269,
   "metadata": {},
   "outputs": [],
   "source": [
    "# use Counter to get counts of lemmas\n",
    "\n",
    "freq_spoiler = Counter(spoilers.split())\n",
    "freq_no_spoiler = Counter(no_spoilers.split())\n",
    "freq_spoiler_all = Counter(spoilers_all.split())"
   ]
  },
  {
   "cell_type": "code",
   "execution_count": 423,
   "metadata": {},
   "outputs": [
    {
     "name": "stdout",
     "output_type": "stream",
     "text": [
      "Count of kill in no spoiler reviews:369\n",
      "Count of kill in spoiler sentences: 764\n",
      "Count of kill in spoiler reviews: 1189\n"
     ]
    }
   ],
   "source": [
    "check for count of a single word\n",
    "word = 'kill'\n",
    "print(f'Count of {word} in no spoiler reviews:{freq_no_spoiler[word]}')\n",
    "print(f'Count of {word} in spoiler sentences: {freq_spoiler[word]}')\n",
    "print(f'Count of {word} in spoiler reviews: {freq_spoiler_all[word]}')"
   ]
  },
  {
   "cell_type": "markdown",
   "metadata": {},
   "source": [
    "Even though this is just based on a selection, the word kill, which we assume to appear in spoilers, appears more often in spoiler sentences and spoiler reviews than in safe reviews. Within a spoiler review, kill is mentioned in spoiler sentences at a rate of 64%. "
   ]
  },
  {
   "cell_type": "code",
   "execution_count": 285,
   "metadata": {},
   "outputs": [
    {
     "name": "stdout",
     "output_type": "stream",
     "text": [
      "Length of no spoiler reviews:17581\n",
      "Length of spoiler sentences:14797\n",
      "Length of spoiler reviews:22825\n"
     ]
    }
   ],
   "source": [
    "# get total number of different lemmas in the combined strings\n",
    "print(f'Length of no spoiler reviews:{len(freq_no_spoiler.keys())}')\n",
    "print(f'Length of spoiler sentences:{len(freq_spoiler.keys())}')\n",
    "print(f'Length of spoiler reviews:{len(freq_spoiler_all.keys())}')\n"
   ]
  },
  {
   "cell_type": "code",
   "execution_count": 410,
   "metadata": {},
   "outputs": [],
   "source": [
    "# get the top 100 lemmas and their counts associated with every text class\n",
    "spoiler_top100 = sorted(freq_spoiler.items(), key=operator.itemgetter(1))[-100:]\n",
    "no_spoiler_top100 = sorted(freq_no_spoiler.items(), key=operator.itemgetter(1))[-100:]\n",
    "spoiler_all_top100 = sorted(freq_spoiler_all.items(), key=operator.itemgetter(1))[-100:]"
   ]
  },
  {
   "cell_type": "code",
   "execution_count": 411,
   "metadata": {},
   "outputs": [],
   "source": [
    "#make a list containign the top 100 words in each text class\n",
    "wordlist_top1000 = list(set(\n",
    "    [word for word, c in spoiler_top100]+\n",
    "    [word for word, c in no_spoiler_top100]+\n",
    "    [word for word, c in spoiler_all_top100]))"
   ]
  },
  {
   "cell_type": "code",
   "execution_count": 412,
   "metadata": {},
   "outputs": [
    {
     "data": {
      "text/plain": [
       "124"
      ]
     },
     "execution_count": 412,
     "metadata": {},
     "output_type": "execute_result"
    }
   ],
   "source": [
    "len(wordlist_top100)"
   ]
  },
  {
   "cell_type": "markdown",
   "metadata": {},
   "source": [
    "The top 100 wordlist set contains 124 different word lemmas suggesting that there are class specific words for the three classes in the top 100 - but that does also not exclude that these words are present in the reviews at lower frequency."
   ]
  },
  {
   "cell_type": "code",
   "execution_count": 413,
   "metadata": {},
   "outputs": [],
   "source": [
    "# calculate length of lemmatized input texts\n",
    "spoiler_length = len(spoilers.split())\n",
    "no_spoiler_length = len(no_spoilers.split())\n",
    "spoilers_all_length = len(spoilers_all.split())"
   ]
  },
  {
   "cell_type": "code",
   "execution_count": 414,
   "metadata": {},
   "outputs": [],
   "source": [
    "#calculate frequency of lemmas per 1000000\n",
    "spoiler_freq = [] \n",
    "no_spoiler_freq = []\n",
    "spoiler_all_freq = []\n",
    "for word in wordlist_top100:\n",
    "    spoiler_freq.append(freq_spoiler[word]/spoiler_length*1000000)\n",
    "    no_spoiler_freq.append(freq_no_spoiler[word]/no_spoiler_length*1000000)\n",
    "    spoiler_all_freq.append(freq_spoiler_all[word]/spoilers_all_length*1000000)"
   ]
  },
  {
   "cell_type": "code",
   "execution_count": 415,
   "metadata": {},
   "outputs": [],
   "source": [
    "#make a dataframe with word frequncy for words\n",
    "df_word_freq = pd.DataFrame({\n",
    "    'words': wordlist_top100,\n",
    "    'freq_in_spoiler_sentences': spoiler_freq,\n",
    "    'freq_in_no_spoiler_reviews': no_spoiler_freq,\n",
    "    'freq_in_spoiler_reviews':spoiler_all_freq\n",
    "}) "
   ]
  },
  {
   "cell_type": "code",
   "execution_count": 416,
   "metadata": {},
   "outputs": [
    {
     "data": {
      "text/html": [
       "<div>\n",
       "<style scoped>\n",
       "    .dataframe tbody tr th:only-of-type {\n",
       "        vertical-align: middle;\n",
       "    }\n",
       "\n",
       "    .dataframe tbody tr th {\n",
       "        vertical-align: top;\n",
       "    }\n",
       "\n",
       "    .dataframe thead th {\n",
       "        text-align: right;\n",
       "    }\n",
       "</style>\n",
       "<table border=\"1\" class=\"dataframe\">\n",
       "  <thead>\n",
       "    <tr style=\"text-align: right;\">\n",
       "      <th></th>\n",
       "      <th>words</th>\n",
       "      <th>freq_in_spoiler_sentences</th>\n",
       "      <th>freq_in_no_spoiler_reviews</th>\n",
       "      <th>freq_in_spoiler_reviews</th>\n",
       "    </tr>\n",
       "  </thead>\n",
       "  <tbody>\n",
       "    <tr>\n",
       "      <th>0</th>\n",
       "      <td>maybe</td>\n",
       "      <td>133.784838</td>\n",
       "      <td>109.695995</td>\n",
       "      <td>121.473953</td>\n",
       "    </tr>\n",
       "    <tr>\n",
       "      <th>1</th>\n",
       "      <td>bad</td>\n",
       "      <td>209.468832</td>\n",
       "      <td>186.525874</td>\n",
       "      <td>209.437849</td>\n",
       "    </tr>\n",
       "    <tr>\n",
       "      <th>2</th>\n",
       "      <td>real</td>\n",
       "      <td>110.468052</td>\n",
       "      <td>135.946204</td>\n",
       "      <td>122.333185</td>\n",
       "    </tr>\n",
       "    <tr>\n",
       "      <th>3</th>\n",
       "      <td>say</td>\n",
       "      <td>249.222041</td>\n",
       "      <td>158.995168</td>\n",
       "      <td>206.430537</td>\n",
       "    </tr>\n",
       "    <tr>\n",
       "      <th>4</th>\n",
       "      <td>break</td>\n",
       "      <td>114.290476</td>\n",
       "      <td>80.244541</td>\n",
       "      <td>76.149454</td>\n",
       "    </tr>\n",
       "  </tbody>\n",
       "</table>\n",
       "</div>"
      ],
      "text/plain": [
       "   words  freq_in_spoiler_sentences  freq_in_no_spoiler_reviews  \\\n",
       "0  maybe                 133.784838                  109.695995   \n",
       "1    bad                 209.468832                  186.525874   \n",
       "2   real                 110.468052                  135.946204   \n",
       "3    say                 249.222041                  158.995168   \n",
       "4  break                 114.290476                   80.244541   \n",
       "\n",
       "   freq_in_spoiler_reviews  \n",
       "0               121.473953  \n",
       "1               209.437849  \n",
       "2               122.333185  \n",
       "3               206.430537  \n",
       "4                76.149454  "
      ]
     },
     "execution_count": 416,
     "metadata": {},
     "output_type": "execute_result"
    }
   ],
   "source": [
    "df_word_freq.head()"
   ]
  },
  {
   "cell_type": "code",
   "execution_count": 417,
   "metadata": {},
   "outputs": [],
   "source": [
    "# normalize count data and safe to new dataframe\n",
    "from sklearn import preprocessing\n",
    "X = df_word_freq.iloc[:,1:].values\n",
    "min_max_scaler = preprocessing.MinMaxScaler()\n",
    "X_scaled = min_max_scaler.fit_transform(X)\n",
    "df_word_freq_norm = pd.DataFrame(df_word_freq.words)\n",
    "df_count_norm = pd.DataFrame(X_scaled, columns = ['freq_in_spoiler_sentences','freq_in_no_spoiler_reviews', 'freq_in_spoiler_reviews'])"
   ]
  },
  {
   "cell_type": "code",
   "execution_count": 418,
   "metadata": {},
   "outputs": [
    {
     "data": {
      "text/html": [
       "<div>\n",
       "<style scoped>\n",
       "    .dataframe tbody tr th:only-of-type {\n",
       "        vertical-align: middle;\n",
       "    }\n",
       "\n",
       "    .dataframe tbody tr th {\n",
       "        vertical-align: top;\n",
       "    }\n",
       "\n",
       "    .dataframe thead th {\n",
       "        text-align: right;\n",
       "    }\n",
       "</style>\n",
       "<table border=\"1\" class=\"dataframe\">\n",
       "  <thead>\n",
       "    <tr style=\"text-align: right;\">\n",
       "      <th></th>\n",
       "      <th>words</th>\n",
       "      <th>freq_in_spoiler_sentences</th>\n",
       "      <th>freq_in_no_spoiler_reviews</th>\n",
       "      <th>freq_in_spoiler_reviews</th>\n",
       "    </tr>\n",
       "  </thead>\n",
       "  <tbody>\n",
       "    <tr>\n",
       "      <th>0</th>\n",
       "      <td>maybe</td>\n",
       "      <td>0.093791</td>\n",
       "      <td>0.031832</td>\n",
       "      <td>0.031769</td>\n",
       "    </tr>\n",
       "    <tr>\n",
       "      <th>1</th>\n",
       "      <td>bad</td>\n",
       "      <td>0.159181</td>\n",
       "      <td>0.063752</td>\n",
       "      <td>0.076399</td>\n",
       "    </tr>\n",
       "    <tr>\n",
       "      <th>2</th>\n",
       "      <td>real</td>\n",
       "      <td>0.073646</td>\n",
       "      <td>0.042738</td>\n",
       "      <td>0.032205</td>\n",
       "    </tr>\n",
       "    <tr>\n",
       "      <th>3</th>\n",
       "      <td>say</td>\n",
       "      <td>0.193527</td>\n",
       "      <td>0.052314</td>\n",
       "      <td>0.074873</td>\n",
       "    </tr>\n",
       "    <tr>\n",
       "      <th>4</th>\n",
       "      <td>break</td>\n",
       "      <td>0.076948</td>\n",
       "      <td>0.019596</td>\n",
       "      <td>0.008773</td>\n",
       "    </tr>\n",
       "  </tbody>\n",
       "</table>\n",
       "</div>"
      ],
      "text/plain": [
       "   words  freq_in_spoiler_sentences  freq_in_no_spoiler_reviews  \\\n",
       "0  maybe                   0.093791                    0.031832   \n",
       "1    bad                   0.159181                    0.063752   \n",
       "2   real                   0.073646                    0.042738   \n",
       "3    say                   0.193527                    0.052314   \n",
       "4  break                   0.076948                    0.019596   \n",
       "\n",
       "   freq_in_spoiler_reviews  \n",
       "0                 0.031769  \n",
       "1                 0.076399  \n",
       "2                 0.032205  \n",
       "3                 0.074873  \n",
       "4                 0.008773  "
      ]
     },
     "execution_count": 418,
     "metadata": {},
     "output_type": "execute_result"
    }
   ],
   "source": [
    "df_word_freq_norm = pd.concat([df_word_freq_norm, df_count_norm], axis = 1, sort = False)\n",
    "df_word_freq_norm.head()"
   ]
  },
  {
   "cell_type": "code",
   "execution_count": 419,
   "metadata": {},
   "outputs": [],
   "source": [
    "df_word_freq_norm['sp_sentences_vs_minus_spoiler_reviews'] = df_word_freq_norm.freq_in_spoiler_sentences - \\\n",
    "df_word_freq_norm.freq_in_no_spoiler_reviews\n",
    "df_word_freq_norm['sp_reviews_vs_minus_spoiler_reviews'] = df_word_freq_norm.freq_in_spoiler_reviews - \\\n",
    "df_word_freq_norm.freq_in_no_spoiler_reviews"
   ]
  },
  {
   "cell_type": "code",
   "execution_count": 420,
   "metadata": {},
   "outputs": [
    {
     "data": {
      "text/html": [
       "<div>\n",
       "<style scoped>\n",
       "    .dataframe tbody tr th:only-of-type {\n",
       "        vertical-align: middle;\n",
       "    }\n",
       "\n",
       "    .dataframe tbody tr th {\n",
       "        vertical-align: top;\n",
       "    }\n",
       "\n",
       "    .dataframe thead th {\n",
       "        text-align: right;\n",
       "    }\n",
       "</style>\n",
       "<table border=\"1\" class=\"dataframe\">\n",
       "  <thead>\n",
       "    <tr style=\"text-align: right;\">\n",
       "      <th></th>\n",
       "      <th>words</th>\n",
       "      <th>freq_in_spoiler_sentences</th>\n",
       "      <th>freq_in_no_spoiler_reviews</th>\n",
       "      <th>freq_in_spoiler_reviews</th>\n",
       "      <th>sp_sentences_vs_minus_spoiler_reviews</th>\n",
       "      <th>sp_reviews_vs_minus_spoiler_reviews</th>\n",
       "    </tr>\n",
       "  </thead>\n",
       "  <tbody>\n",
       "    <tr>\n",
       "      <th>0</th>\n",
       "      <td>maybe</td>\n",
       "      <td>0.093791</td>\n",
       "      <td>0.031832</td>\n",
       "      <td>0.031769</td>\n",
       "      <td>0.061959</td>\n",
       "      <td>-0.000062</td>\n",
       "    </tr>\n",
       "    <tr>\n",
       "      <th>1</th>\n",
       "      <td>bad</td>\n",
       "      <td>0.159181</td>\n",
       "      <td>0.063752</td>\n",
       "      <td>0.076399</td>\n",
       "      <td>0.095429</td>\n",
       "      <td>0.012647</td>\n",
       "    </tr>\n",
       "    <tr>\n",
       "      <th>2</th>\n",
       "      <td>real</td>\n",
       "      <td>0.073646</td>\n",
       "      <td>0.042738</td>\n",
       "      <td>0.032205</td>\n",
       "      <td>0.030908</td>\n",
       "      <td>-0.010533</td>\n",
       "    </tr>\n",
       "    <tr>\n",
       "      <th>3</th>\n",
       "      <td>say</td>\n",
       "      <td>0.193527</td>\n",
       "      <td>0.052314</td>\n",
       "      <td>0.074873</td>\n",
       "      <td>0.141213</td>\n",
       "      <td>0.022559</td>\n",
       "    </tr>\n",
       "    <tr>\n",
       "      <th>4</th>\n",
       "      <td>break</td>\n",
       "      <td>0.076948</td>\n",
       "      <td>0.019596</td>\n",
       "      <td>0.008773</td>\n",
       "      <td>0.057353</td>\n",
       "      <td>-0.010822</td>\n",
       "    </tr>\n",
       "  </tbody>\n",
       "</table>\n",
       "</div>"
      ],
      "text/plain": [
       "   words  freq_in_spoiler_sentences  freq_in_no_spoiler_reviews  \\\n",
       "0  maybe                   0.093791                    0.031832   \n",
       "1    bad                   0.159181                    0.063752   \n",
       "2   real                   0.073646                    0.042738   \n",
       "3    say                   0.193527                    0.052314   \n",
       "4  break                   0.076948                    0.019596   \n",
       "\n",
       "   freq_in_spoiler_reviews  sp_sentences_vs_minus_spoiler_reviews  \\\n",
       "0                 0.031769                               0.061959   \n",
       "1                 0.076399                               0.095429   \n",
       "2                 0.032205                               0.030908   \n",
       "3                 0.074873                               0.141213   \n",
       "4                 0.008773                               0.057353   \n",
       "\n",
       "   sp_reviews_vs_minus_spoiler_reviews  \n",
       "0                            -0.000062  \n",
       "1                             0.012647  \n",
       "2                            -0.010533  \n",
       "3                             0.022559  \n",
       "4                            -0.010822  "
      ]
     },
     "execution_count": 420,
     "metadata": {},
     "output_type": "execute_result"
    }
   ],
   "source": [
    "df_word_freq_norm.head()"
   ]
  },
  {
   "cell_type": "code",
   "execution_count": 422,
   "metadata": {},
   "outputs": [
    {
     "data": {
      "text/html": [
       "<div>\n",
       "<style scoped>\n",
       "    .dataframe tbody tr th:only-of-type {\n",
       "        vertical-align: middle;\n",
       "    }\n",
       "\n",
       "    .dataframe tbody tr th {\n",
       "        vertical-align: top;\n",
       "    }\n",
       "\n",
       "    .dataframe thead th {\n",
       "        text-align: right;\n",
       "    }\n",
       "</style>\n",
       "<table border=\"1\" class=\"dataframe\">\n",
       "  <thead>\n",
       "    <tr style=\"text-align: right;\">\n",
       "      <th></th>\n",
       "      <th>words</th>\n",
       "      <th>freq_in_spoiler_sentences</th>\n",
       "      <th>freq_in_no_spoiler_reviews</th>\n",
       "      <th>freq_in_spoiler_reviews</th>\n",
       "      <th>sp_sentences_vs_minus_spoiler_reviews</th>\n",
       "      <th>sp_reviews_vs_minus_spoiler_reviews</th>\n",
       "    </tr>\n",
       "  </thead>\n",
       "  <tbody>\n",
       "    <tr>\n",
       "      <th>78</th>\n",
       "      <td>like</td>\n",
       "      <td>1.000000</td>\n",
       "      <td>0.467459</td>\n",
       "      <td>0.623072</td>\n",
       "      <td>0.532541</td>\n",
       "      <td>0.155614</td>\n",
       "    </tr>\n",
       "    <tr>\n",
       "      <th>98</th>\n",
       "      <td>end</td>\n",
       "      <td>0.616579</td>\n",
       "      <td>0.153396</td>\n",
       "      <td>0.240968</td>\n",
       "      <td>0.463183</td>\n",
       "      <td>0.087572</td>\n",
       "    </tr>\n",
       "    <tr>\n",
       "      <th>120</th>\n",
       "      <td>think</td>\n",
       "      <td>0.589168</td>\n",
       "      <td>0.244458</td>\n",
       "      <td>0.318293</td>\n",
       "      <td>0.344710</td>\n",
       "      <td>0.073835</td>\n",
       "    </tr>\n",
       "    <tr>\n",
       "      <th>10</th>\n",
       "      <td>know</td>\n",
       "      <td>0.546896</td>\n",
       "      <td>0.219365</td>\n",
       "      <td>0.259659</td>\n",
       "      <td>0.327531</td>\n",
       "      <td>0.040294</td>\n",
       "    </tr>\n",
       "    <tr>\n",
       "      <th>43</th>\n",
       "      <td>go</td>\n",
       "      <td>0.466645</td>\n",
       "      <td>0.171396</td>\n",
       "      <td>0.219552</td>\n",
       "      <td>0.295249</td>\n",
       "      <td>0.048156</td>\n",
       "    </tr>\n",
       "    <tr>\n",
       "      <th>8</th>\n",
       "      <td>love</td>\n",
       "      <td>0.680317</td>\n",
       "      <td>0.422770</td>\n",
       "      <td>0.425426</td>\n",
       "      <td>0.257547</td>\n",
       "      <td>0.002656</td>\n",
       "    </tr>\n",
       "    <tr>\n",
       "      <th>50</th>\n",
       "      <td>thing</td>\n",
       "      <td>0.420079</td>\n",
       "      <td>0.180706</td>\n",
       "      <td>0.235954</td>\n",
       "      <td>0.239373</td>\n",
       "      <td>0.055249</td>\n",
       "    </tr>\n",
       "    <tr>\n",
       "      <th>24</th>\n",
       "      <td>feel</td>\n",
       "      <td>0.459049</td>\n",
       "      <td>0.223976</td>\n",
       "      <td>0.266852</td>\n",
       "      <td>0.235073</td>\n",
       "      <td>0.042876</td>\n",
       "    </tr>\n",
       "    <tr>\n",
       "      <th>18</th>\n",
       "      <td>get</td>\n",
       "      <td>0.355020</td>\n",
       "      <td>0.132116</td>\n",
       "      <td>0.164296</td>\n",
       "      <td>0.222904</td>\n",
       "      <td>0.032181</td>\n",
       "    </tr>\n",
       "    <tr>\n",
       "      <th>23</th>\n",
       "      <td>die</td>\n",
       "      <td>0.236460</td>\n",
       "      <td>0.016404</td>\n",
       "      <td>0.034712</td>\n",
       "      <td>0.220056</td>\n",
       "      <td>0.018308</td>\n",
       "    </tr>\n",
       "    <tr>\n",
       "      <th>106</th>\n",
       "      <td>kill</td>\n",
       "      <td>0.230515</td>\n",
       "      <td>0.018975</td>\n",
       "      <td>0.034930</td>\n",
       "      <td>0.211540</td>\n",
       "      <td>0.015955</td>\n",
       "    </tr>\n",
       "    <tr>\n",
       "      <th>84</th>\n",
       "      <td>want</td>\n",
       "      <td>0.388375</td>\n",
       "      <td>0.180528</td>\n",
       "      <td>0.201569</td>\n",
       "      <td>0.207847</td>\n",
       "      <td>0.021041</td>\n",
       "    </tr>\n",
       "    <tr>\n",
       "      <th>111</th>\n",
       "      <td>time</td>\n",
       "      <td>0.403897</td>\n",
       "      <td>0.212981</td>\n",
       "      <td>0.238516</td>\n",
       "      <td>0.190916</td>\n",
       "      <td>0.025535</td>\n",
       "    </tr>\n",
       "    <tr>\n",
       "      <th>7</th>\n",
       "      <td>way</td>\n",
       "      <td>0.336526</td>\n",
       "      <td>0.154194</td>\n",
       "      <td>0.180971</td>\n",
       "      <td>0.182332</td>\n",
       "      <td>0.026777</td>\n",
       "    </tr>\n",
       "    <tr>\n",
       "      <th>27</th>\n",
       "      <td>come</td>\n",
       "      <td>0.303831</td>\n",
       "      <td>0.122717</td>\n",
       "      <td>0.136287</td>\n",
       "      <td>0.181114</td>\n",
       "      <td>0.013570</td>\n",
       "    </tr>\n",
       "    <tr>\n",
       "      <th>76</th>\n",
       "      <td>happen</td>\n",
       "      <td>0.252312</td>\n",
       "      <td>0.082727</td>\n",
       "      <td>0.113836</td>\n",
       "      <td>0.169584</td>\n",
       "      <td>0.031108</td>\n",
       "    </tr>\n",
       "    <tr>\n",
       "      <th>81</th>\n",
       "      <td>find</td>\n",
       "      <td>0.326618</td>\n",
       "      <td>0.159869</td>\n",
       "      <td>0.160863</td>\n",
       "      <td>0.166749</td>\n",
       "      <td>0.000994</td>\n",
       "    </tr>\n",
       "    <tr>\n",
       "      <th>3</th>\n",
       "      <td>say</td>\n",
       "      <td>0.193527</td>\n",
       "      <td>0.052314</td>\n",
       "      <td>0.074873</td>\n",
       "      <td>0.141213</td>\n",
       "      <td>0.022559</td>\n",
       "    </tr>\n",
       "    <tr>\n",
       "      <th>48</th>\n",
       "      <td>people</td>\n",
       "      <td>0.236790</td>\n",
       "      <td>0.096914</td>\n",
       "      <td>0.122064</td>\n",
       "      <td>0.139876</td>\n",
       "      <td>0.025150</td>\n",
       "    </tr>\n",
       "    <tr>\n",
       "      <th>77</th>\n",
       "      <td>death</td>\n",
       "      <td>0.146631</td>\n",
       "      <td>0.016404</td>\n",
       "      <td>0.017874</td>\n",
       "      <td>0.130228</td>\n",
       "      <td>0.001470</td>\n",
       "    </tr>\n",
       "  </tbody>\n",
       "</table>\n",
       "</div>"
      ],
      "text/plain": [
       "      words  freq_in_spoiler_sentences  freq_in_no_spoiler_reviews  \\\n",
       "78     like                   1.000000                    0.467459   \n",
       "98      end                   0.616579                    0.153396   \n",
       "120   think                   0.589168                    0.244458   \n",
       "10     know                   0.546896                    0.219365   \n",
       "43       go                   0.466645                    0.171396   \n",
       "8      love                   0.680317                    0.422770   \n",
       "50    thing                   0.420079                    0.180706   \n",
       "24     feel                   0.459049                    0.223976   \n",
       "18      get                   0.355020                    0.132116   \n",
       "23      die                   0.236460                    0.016404   \n",
       "106    kill                   0.230515                    0.018975   \n",
       "84     want                   0.388375                    0.180528   \n",
       "111    time                   0.403897                    0.212981   \n",
       "7       way                   0.336526                    0.154194   \n",
       "27     come                   0.303831                    0.122717   \n",
       "76   happen                   0.252312                    0.082727   \n",
       "81     find                   0.326618                    0.159869   \n",
       "3       say                   0.193527                    0.052314   \n",
       "48   people                   0.236790                    0.096914   \n",
       "77    death                   0.146631                    0.016404   \n",
       "\n",
       "     freq_in_spoiler_reviews  sp_sentences_vs_minus_spoiler_reviews  \\\n",
       "78                  0.623072                               0.532541   \n",
       "98                  0.240968                               0.463183   \n",
       "120                 0.318293                               0.344710   \n",
       "10                  0.259659                               0.327531   \n",
       "43                  0.219552                               0.295249   \n",
       "8                   0.425426                               0.257547   \n",
       "50                  0.235954                               0.239373   \n",
       "24                  0.266852                               0.235073   \n",
       "18                  0.164296                               0.222904   \n",
       "23                  0.034712                               0.220056   \n",
       "106                 0.034930                               0.211540   \n",
       "84                  0.201569                               0.207847   \n",
       "111                 0.238516                               0.190916   \n",
       "7                   0.180971                               0.182332   \n",
       "27                  0.136287                               0.181114   \n",
       "76                  0.113836                               0.169584   \n",
       "81                  0.160863                               0.166749   \n",
       "3                   0.074873                               0.141213   \n",
       "48                  0.122064                               0.139876   \n",
       "77                  0.017874                               0.130228   \n",
       "\n",
       "     sp_reviews_vs_minus_spoiler_reviews  \n",
       "78                              0.155614  \n",
       "98                              0.087572  \n",
       "120                             0.073835  \n",
       "10                              0.040294  \n",
       "43                              0.048156  \n",
       "8                               0.002656  \n",
       "50                              0.055249  \n",
       "24                              0.042876  \n",
       "18                              0.032181  \n",
       "23                              0.018308  \n",
       "106                             0.015955  \n",
       "84                              0.021041  \n",
       "111                             0.025535  \n",
       "7                               0.026777  \n",
       "27                              0.013570  \n",
       "76                              0.031108  \n",
       "81                              0.000994  \n",
       "3                               0.022559  \n",
       "48                              0.025150  \n",
       "77                              0.001470  "
      ]
     },
     "execution_count": 422,
     "metadata": {},
     "output_type": "execute_result"
    }
   ],
   "source": [
    "# find words more common in spoiler sentences than in no spoiler texts\n",
    "df_word_freq_norm.sort_values('sp_sentences_vs_minus_spoiler_reviews', ascending=False).head(20)"
   ]
  },
  {
   "cell_type": "markdown",
   "metadata": {},
   "source": [
    "Based on the standardized word frequency there seems to be only a small difference between spoiler texts and non-spoiler text. However, in the sentences containing spoilers, same words seem to appear at higher frequency. We might therefor use a sentence based approach rather than using the whole reviews."
   ]
  },
  {
   "cell_type": "markdown",
   "metadata": {},
   "source": [
    "## Word Importance using Naive Bayes"
   ]
  },
  {
   "cell_type": "markdown",
   "metadata": {},
   "source": [
    "We will use multinomial naive bayes to find most important words to predict spoiler sentences."
   ]
  },
  {
   "cell_type": "markdown",
   "metadata": {},
   "source": [
    "### Single word in spoiler sentences\n",
    "spoiler reviews only: safe vs. spoiler sentences in Spoiler reviews"
   ]
  },
  {
   "cell_type": "code",
   "execution_count": 69,
   "metadata": {},
   "outputs": [
    {
     "name": "stderr",
     "output_type": "stream",
     "text": [
      "100%|██████████| 20000/20000 [09:34<00:00, 34.82it/s]\n"
     ]
    }
   ],
   "source": [
    "#extract sentences and labels from 20000 spoiler reviews\n",
    "sentences = []\n",
    "labels = []\n",
    "\n",
    "for review in tqdm(spoiler_reviews[:20000]):\n",
    "    for label, sen in review:\n",
    "        labels.append(label)\n",
    "        sentences.append(spellcheck(sen))\n"
   ]
  },
  {
   "cell_type": "code",
   "execution_count": null,
   "metadata": {},
   "outputs": [],
   "source": [
    "# number of timesa word has to occur\n",
    "min_df = 1\n",
    "# ngram_range (1,1) only one word (2,2):only bigrams\n",
    "ngram_range = (1,1)\n",
    "\n",
    "# CountVectorizer converts strings to matrix with \n",
    "# rows: observations \n",
    "# columns: words \n",
    "# values: number of occurences in observation\n",
    "vectorizer = CountVectorizer(ngram_range=ngram_range, stop_words = 'english', min_df = min_df) \n",
    "\n",
    "X = vectorizer.fit_transform(np.array(sentences))\n",
    "y = np.array(labels)\n",
    "clf = MultinomialNB(alpha = 1e-10)\n",
    "clf.fit(X,y)"
   ]
  },
  {
   "cell_type": "code",
   "execution_count": null,
   "metadata": {},
   "outputs": [],
   "source": [
    "df_likelihood = pd.DataFrame({\n",
    "    'proba_in_no_spoiler':np.e**(clf.feature_log_prob_[0]),\n",
    "    'proba_in_spoiler':np.e**(clf.feature_log_prob_[1]),\n",
    "    'relative_probability_spoiler': np.e**(clf.feature_log_prob_[1]) - np.e**(clf.feature_log_prob_[0])\n",
    "    },index = vectorizer.get_feature_names())\n",
    "df_likelihood.sort_values('relative_probability_spoiler', ascending = False).head(10)"
   ]
  },
  {
   "cell_type": "code",
   "execution_count": null,
   "metadata": {},
   "outputs": [],
   "source": [
    "top10 = df_likelihood.sort_values('relative_probability_spoiler', ascending = False)[:10]\n",
    "bottom10=df_likelihood.sort_values('relative_probability_spoiler', ascending = False)[-10:]\n",
    "top_bottom10 = pd.concat([top10, bottom10])\n",
    "\n",
    "plt.figure(figsize=(9,7))\n",
    "ax = sns.barplot(x = top_bottom10.relative_probability_spoiler, y = top_bottom10.index, palette = 'BrBG' )"
   ]
  },
  {
   "cell_type": "markdown",
   "metadata": {},
   "source": [
    "__Note that this is preliminary and based on a selection of the reviews containing spoilers.__\n",
    "* Words like end, kill and death are the most important words to distinguish sentences containing spoilers from sentences not containing spoilers within a review containing spoilers.  \n",
    "* try with lemmatization and removing stopwords using other libraries\n",
    "* try with bigrams\n",
    "* test TF-IDF"
   ]
  },
  {
   "cell_type": "code",
   "execution_count": 62,
   "metadata": {},
   "outputs": [],
   "source": [
    "# function to plot results of mulinomial Bayes calculation of feature importance\n",
    "def important_features_MB(text_list,labels, ngram = (1,1), min_df = 500, vectorizer = 'T', stop_words = 'english'):\n",
    "    if vectorizer == 'T':\n",
    "        vec = TfidfVectorizer(ngram_range=ngram,stop_words = stop_words, min_df = min_df)\n",
    "    elif vectorizer == 'C':\n",
    "        vec = CountVectorizer(ngram_range=ngram,stop_words = stop_words, min_df = min_df)\n",
    "    else:\n",
    "        return \"Wrong input: Please use 'C' or 'T' for count- or TFIDF vectorizer\"\n",
    "\n",
    "    X = vec.fit_transform(np.array(text_list))\n",
    "    y = np.array(labels)\n",
    "    clf = MultinomialNB(alpha = 1e-10)\n",
    "    clf.fit(X,y)\n",
    "\n",
    "    df_likelihood = pd.DataFrame({\n",
    "        'proba_in_no_spoiler':np.e**(clf.feature_log_prob_[0]),\n",
    "        'proba_in_spoiler':np.e**(clf.feature_log_prob_[1]),\n",
    "        'relative_probability_spoiler': np.e**(clf.feature_log_prob_[1]) - np.e**(clf.feature_log_prob_[0])\n",
    "        },index = vec.get_feature_names())\n",
    "\n",
    "    top10 = df_likelihood.sort_values('relative_probability_spoiler', ascending = False)[:10]\n",
    "    bottom10=df_likelihood.sort_values('relative_probability_spoiler', ascending = False)[-10:]\n",
    "    top_bottom10 = pd.concat([top10, bottom10])\n",
    "\n",
    "    plt.figure(figsize=(9,7))\n",
    "    ax = sns.barplot(x = top_bottom10.relative_probability_spoiler, y = top_bottom10.index, palette = 'BrBG' )\n",
    "    plt.show(ax)"
   ]
  },
  {
   "cell_type": "code",
   "execution_count": 76,
   "metadata": {},
   "outputs": [
    {
     "data": {
      "image/png": "[encoded data removed]",
      "text/plain": [
       "<Figure size 648x504 with 1 Axes>"
      ]
     },
     "metadata": {
      "needs_background": "light"
     },
     "output_type": "display_data"
    }
   ],
   "source": [
    "# same as above but TFIDF vectorizer\n",
    "important_features_MB(sentences, labels,vectorizer = 'T')"
   ]
  },
  {
   "cell_type": "markdown",
   "metadata": {},
   "source": [
    "### Word importance after lemmatization"
   ]
  },
  {
   "cell_type": "code",
   "execution_count": 699,
   "metadata": {},
   "outputs": [],
   "source": [
    "# lemmatize input sentences\n",
    "sentences_l = [lemmatizer(sen) for sen in sentences]"
   ]
  },
  {
   "cell_type": "code",
   "execution_count": 24,
   "metadata": {},
   "outputs": [],
   "source": [
    "#write lemmatized sentences to file as this took forever\n",
    "#with open('lemmatized_spoiler_review_sentences.txt', 'w+') as new_file:\n",
    "#    for sen in sentences_l:\n",
    "#        new_file.write(f'{sen}\\n')\n",
    "#new_file.close()\n",
    "with open('lemmatized_spoiler_review_sentences_labels.txt', 'w+') as new_labels:\n",
    "    for l in labels:\n",
    "        new_labels.write(f'{l}\\n')\n",
    "new_labels.close()"
   ]
  },
  {
   "cell_type": "code",
   "execution_count": 66,
   "metadata": {},
   "outputs": [
    {
     "data": {
      "image/png": "[encoded data removed]",
      "text/plain": [
       "<Figure size 648x504 with 1 Axes>"
      ]
     },
     "metadata": {
      "needs_background": "light"
     },
     "output_type": "display_data"
    }
   ],
   "source": [
    "# word importance after lemmatization using Countvectorizer\n",
    "important_features_MB(sentences_l, labels,vectorizer = 'C', stop_words = None)"
   ]
  },
  {
   "cell_type": "code",
   "execution_count": 67,
   "metadata": {},
   "outputs": [
    {
     "data": {
      "image/png": "[encoded data removed]",
      "text/plain": [
       "<Figure size 648x504 with 1 Axes>"
      ]
     },
     "metadata": {
      "needs_background": "light"
     },
     "output_type": "display_data"
    }
   ],
   "source": [
    "# test with TF-IDF\n",
    "important_features_MB(sentences_l, labels,vectorizer = 'T', stop_words = None)"
   ]
  },
  {
   "cell_type": "code",
   "execution_count": null,
   "metadata": {},
   "outputs": [],
   "source": []
  },
  {
   "cell_type": "markdown",
   "metadata": {},
   "source": [
    "#### Word importance of linked words"
   ]
  },
  {
   "cell_type": "code",
   "execution_count": 77,
   "metadata": {},
   "outputs": [
    {
     "data": {
      "image/png": "[encoded data removed]",
      "text/plain": [
       "<Figure size 648x504 with 1 Axes>"
      ]
     },
     "metadata": {
      "needs_background": "light"
     },
     "output_type": "display_data"
    }
   ],
   "source": [
    "#calculate feature importance for bigrams (ngram = (2,2))\n",
    "#use spellchecked sentences as input\n",
    "important_features_MB(sentences, labels,vectorizer = 'C', stop_words = 'english', ngram = (2,2))"
   ]
  },
  {
   "cell_type": "code",
   "execution_count": 78,
   "metadata": {},
   "outputs": [
    {
     "data": {
      "image/png": "[encoded data removed]",
      "text/plain": [
       "<Figure size 648x504 with 1 Axes>"
      ]
     },
     "metadata": {
      "needs_background": "light"
     },
     "output_type": "display_data"
    }
   ],
   "source": [
    "#calculate feature importance for bigrams (ngram = (2,2))\n",
    "#use lemmatized sentences woithout stopwords and TFIDF vectorizer\n",
    "important_features_MB(sentences_l, labels,vectorizer = 'T', stop_words = None, ngram = (2,2))"
   ]
  },
  {
   "cell_type": "markdown",
   "metadata": {},
   "source": [
    "This semes to make a lot of scence: Phrases like 'end book', 'happy ending', 'fall (in) love' are things we can envision as spoiling a book. On the other side, 'read book', 'writing style', 'book series' are general terms."
   ]
  },
  {
   "cell_type": "markdown",
   "metadata": {},
   "source": [
    "### Word importance comparing entire reviews\n",
    "__spoiler reviews vs non-spoiler reviews__"
   ]
  },
  {
   "cell_type": "code",
   "execution_count": 49,
   "metadata": {},
   "outputs": [],
   "source": [
    "reviews = safe_text + spoiler_text_all\n",
    "labels_all = [0]*len(safe_text) + [1]*len(spoiler_text_all)\n"
   ]
  },
  {
   "cell_type": "code",
   "execution_count": 79,
   "metadata": {},
   "outputs": [
    {
     "data": {
      "image/png": "[encoded data removed]",
      "text/plain": [
       "<Figure size 648x504 with 1 Axes>"
      ]
     },
     "metadata": {
      "needs_background": "light"
     },
     "output_type": "display_data"
    }
   ],
   "source": [
    "#importance of single words\n",
    "important_features_MB(reviews, labels_all,vectorizer = 'T', stop_words = 'english', ngram = (1,1))"
   ]
  },
  {
   "cell_type": "code",
   "execution_count": 84,
   "metadata": {},
   "outputs": [
    {
     "data": {
      "image/png": "[encoded data removed]",
      "text/plain": [
       "<Figure size 648x504 with 1 Axes>"
      ]
     },
     "metadata": {
      "needs_background": "light"
     },
     "output_type": "display_data"
    }
   ],
   "source": [
    "# importance of bigrams\n",
    "important_features_MB(reviews, labels_all,vectorizer = 'T', stop_words = 'english', ngram = (2,2))"
   ]
  },
  {
   "cell_type": "code",
   "execution_count": 80,
   "metadata": {},
   "outputs": [
    {
     "data": {
      "image/png": "[encoded data removed]",
      "text/plain": [
       "<Figure size 648x504 with 1 Axes>"
      ]
     },
     "metadata": {
      "needs_background": "light"
     },
     "output_type": "display_data"
    }
   ],
   "source": [
    "important_features_MB(reviews, labels_all,vectorizer = 'T', stop_words = 'english', ngram = (3,3))"
   ]
  },
  {
   "cell_type": "code",
   "execution_count": 7,
   "metadata": {},
   "outputs": [],
   "source": [
    "# safe reviews ad labels, just in case\n",
    "#with open('reviews.txt', 'w+') as rw:\n",
    "#    json.dump(reviews, rw)\n",
    "\n",
    "with open('review_labels.txt', 'w+') as rl:\n",
    "    json.dump(labels_all, rl)\n",
    "    \n",
    "# to open:\n",
    "with open('reviews.txt', 'r') as rw:\n",
    "    reviews = json.load(rw)"
   ]
  },
  {
   "cell_type": "code",
   "execution_count": 13,
   "metadata": {},
   "outputs": [
    {
     "data": {
      "text/plain": [
       "125630"
      ]
     },
     "execution_count": 13,
     "metadata": {},
     "output_type": "execute_result"
    }
   ],
   "source": []
  },
  {
   "cell_type": "code",
   "execution_count": 55,
   "metadata": {},
   "outputs": [
    {
     "name": "stderr",
     "output_type": "stream",
     "text": [
      "100%|██████████| 125630/125630 [1:18:16<00:00, 26.75it/s]  \n"
     ]
    },
    {
     "data": {
      "text/plain": [
       "'01:18:16'"
      ]
     },
     "execution_count": 55,
     "metadata": {},
     "output_type": "execute_result"
    }
   ],
   "source": [
    "t0 = time.time()\n",
    "reviews_l = [lemmatizer(r) for r in tqdm(reviews)]\n",
    "elapsed_time = time.time()-t0\n",
    "time.strftime(\"%H:%M:%S\", time.gmtime(elapsed_time))"
   ]
  },
  {
   "cell_type": "code",
   "execution_count": 81,
   "metadata": {},
   "outputs": [
    {
     "data": {
      "image/png": "[encoded data removed]",
      "text/plain": [
       "<Figure size 648x504 with 1 Axes>"
      ]
     },
     "metadata": {
      "needs_background": "light"
     },
     "output_type": "display_data"
    }
   ],
   "source": [
    "important_features_MB(reviews_l, labels_all,vectorizer = 'T', stop_words = None, ngram = (1,1))"
   ]
  },
  {
   "cell_type": "code",
   "execution_count": 83,
   "metadata": {},
   "outputs": [
    {
     "data": {
      "image/png": "[encoded data removed]",
      "text/plain": [
       "<Figure size 648x504 with 1 Axes>"
      ]
     },
     "metadata": {
      "needs_background": "light"
     },
     "output_type": "display_data"
    }
   ],
   "source": [
    "important_features_MB(reviews_l, labels_all,vectorizer = 'T', stop_words = None, ngram = (2,2))"
   ]
  },
  {
   "cell_type": "code",
   "execution_count": 82,
   "metadata": {},
   "outputs": [
    {
     "data": {
      "image/png": "[encoded data removed]",
      "text/plain": [
       "<Figure size 648x504 with 1 Axes>"
      ]
     },
     "metadata": {
      "needs_background": "light"
     },
     "output_type": "display_data"
    }
   ],
   "source": [
    "important_features_MB(reviews_l, labels_all,vectorizer = 'T', stop_words = None, ngram = (3,3))"
   ]
  },
  {
   "cell_type": "markdown",
   "metadata": {},
   "source": [
    "### K-Means clustering of reviews"
   ]
  },
  {
   "cell_type": "markdown",
   "metadata": {},
   "source": [
    "The idea behind K-means clustering here is to find out in a systematic, unsupervised way how close different reviews are.  \n",
    "* 2 classes :spoiler vs non spoiler\n",
    "* more classes: genre? "
   ]
  },
  {
   "cell_type": "code",
   "execution_count": 3,
   "metadata": {},
   "outputs": [],
   "source": [
    "with open('reviews_lemma.txt', 'r') as rw:\n",
    "    reviews_l = json.load(rw)\n",
    "rw.close()"
   ]
  },
  {
   "cell_type": "code",
   "execution_count": 4,
   "metadata": {},
   "outputs": [],
   "source": [
    "num_reviews = int(len(reviews_l)/2)\n",
    "labels_all = [0]*num_reviews + [1]*num_reviews"
   ]
  },
  {
   "cell_type": "code",
   "execution_count": 5,
   "metadata": {},
   "outputs": [],
   "source": [
    "# get 10000 reviews \n",
    "df_reviews = pd.DataFrame({\n",
    "    'review_text': reviews_l,\n",
    "    'spoiler': labels_all\n",
    "})\n",
    "df_reviews_selection = df_reviews.sample(n = 10000, random_state = 42)\n"
   ]
  },
  {
   "cell_type": "code",
   "execution_count": 6,
   "metadata": {},
   "outputs": [
    {
     "data": {
      "text/plain": [
       "49.120000000000005"
      ]
     },
     "execution_count": 6,
     "metadata": {},
     "output_type": "execute_result"
    }
   ],
   "source": [
    "# get percentage of reviews with spoiler\n",
    "np.mean(df_reviews_selection.spoiler)*100"
   ]
  },
  {
   "cell_type": "code",
   "execution_count": 10,
   "metadata": {},
   "outputs": [],
   "source": [
    "# using the lemmatized full reviews as inputs\n",
    "\n",
    "# words should appear at least 100 times\n",
    "vectorizer = TfidfVectorizer(min_df = 100)\n",
    "X = vectorizer.fit_transform(df_reviews_selection.review_text)\n",
    "df_tfidf = pd.DataFrame(data = X.toarray(), columns = vectorizer.get_feature_names())\n"
   ]
  },
  {
   "cell_type": "code",
   "execution_count": 40,
   "metadata": {},
   "outputs": [
    {
     "data": {
      "text/plain": [
       "(10000, 1355)"
      ]
     },
     "execution_count": 40,
     "metadata": {},
     "output_type": "execute_result"
    }
   ],
   "source": [
    "df_tfidf.shape"
   ]
  },
  {
   "cell_type": "markdown",
   "metadata": {},
   "source": [
    "The dataset contains of 1355 different words. We will only consider the 500 most important words for this test."
   ]
  },
  {
   "cell_type": "code",
   "execution_count": 53,
   "metadata": {},
   "outputs": [
    {
     "name": "stdout",
     "output_type": "stream",
     "text": [
      "(10000, 500)\n"
     ]
    }
   ],
   "source": [
    "from sklearn.feature_selection import SelectKBest, chi2\n",
    "\n",
    "X_new = SelectKBest(chi2, k=500).fit_transform(df_tfidf, df_reviews_selection.spoiler)\n",
    "print(X_new.shape)\n",
    "df_tfidf_new = pd.DataFrame(data = X_new)"
   ]
  },
  {
   "cell_type": "code",
   "execution_count": 28,
   "metadata": {},
   "outputs": [],
   "source": [
    "from sklearn.cluster import KMeans\n",
    "\n",
    "def kmean(max_k, data):\n",
    "    kmeans_results = dict()\n",
    "    for k in tqdm(range(2, max_k+1)):\n",
    "        kmeans = KMeans(n_clusters = k,\n",
    "                               init = 'k-means++',\n",
    "                               n_init = 10,\n",
    "                               tol = 0.0001,\n",
    "                               random_state = 42,\n",
    "                               algorithm = 'full')\n",
    "        kmeans_results.update({k: kmeans.fit(data)})\n",
    "\n",
    "    return kmeans_results"
   ]
  },
  {
   "cell_type": "code",
   "execution_count": 34,
   "metadata": {},
   "outputs": [],
   "source": [
    "from sklearn import metrics\n",
    "\n",
    "def printAvg(avg_dict):\n",
    "    for avg in sorted(avg_dict.keys(), reverse=True):\n",
    "        print(\"Avg: {}\\tK:{}\".format(avg.round(4), avg_dict[avg]))\n",
    "\n",
    "def plotSilhouette(df, n_clusters, kmeans_labels, silhouette_avg):\n",
    "    fig, ax1 = plt.subplots(1)\n",
    "    fig.set_size_inches(8, 6)\n",
    "    ax1.set_xlim([-0.2, 1])\n",
    "    ax1.set_ylim([0, len(df) + (n_clusters + 1) * 10])\n",
    "    \n",
    "    ax1.axvline(x=silhouette_avg, color=\"red\", linestyle=\"--\") # The vertical line for average silhouette score of all the values\n",
    "    ax1.set_yticks([])  # Clear the yaxis labels / ticks\n",
    "    ax1.set_xticks([-0.2, 0, 0.2, 0.4, 0.6, 0.8, 1])\n",
    "    plt.title((f\"Silhouette analysis for K = {n_clusters}\"), fontsize=10, fontweight='bold')\n",
    "    \n",
    "    y_lower = 10\n",
    "    sample_silhouette_values = metrics.silhouette_samples(df, kmeans_labels) # Compute the silhouette scores for each sample\n",
    "    for i in range(n_clusters):\n",
    "        ith_cluster_silhouette_values = sample_silhouette_values[kmeans_labels == i]\n",
    "        ith_cluster_silhouette_values.sort()\n",
    "\n",
    "        size_cluster_i = ith_cluster_silhouette_values.shape[0]\n",
    "        y_upper = y_lower + size_cluster_i\n",
    "\n",
    "        color = cm.nipy_spectral(float(i) / n_clusters)\n",
    "        ax1.fill_betweenx(np.arange(y_lower, y_upper), 0, ith_cluster_silhouette_values, facecolor=color, edgecolor=color, alpha=0.7)\n",
    "\n",
    "        ax1.text(-0.05, y_lower + 0.5 * size_cluster_i, str(i)) # Label the silhouette plots with their cluster numbers at the middle\n",
    "        y_lower = y_upper + 10  # Compute the new y_lower for next plot. 10 for the 0 samples\n",
    "    plt.show()\n",
    "    \n",
    "        \n",
    "def silhouette(kmeans_dict, df, plot=False):\n",
    "    df = df.to_numpy()\n",
    "    avg_dict = dict()\n",
    "    for n_clusters, kmeans in kmeans_dict.items():      \n",
    "        kmeans_labels = kmeans.predict(df)\n",
    "        silhouette_avg = metrics.silhouette_score(df, kmeans_labels) # Average Score for all Samples\n",
    "        avg_dict.update( {silhouette_avg : n_clusters} )\n",
    "    \n",
    "        if(plot): plotSilhouette(df, n_clusters, kmeans_labels, silhouette_avg)\n",
    "    \n",
    "    printAvg(avg_dict)"
   ]
  },
  {
   "cell_type": "code",
   "execution_count": 57,
   "metadata": {},
   "outputs": [
    {
     "name": "stderr",
     "output_type": "stream",
     "text": [
      "100%|██████████| 9/9 [00:53<00:00,  5.91s/it]\n"
     ]
    }
   ],
   "source": [
    "k = 10\n",
    "kmeans_results = kmean(k, df_tfidf_new)"
   ]
  },
  {
   "cell_type": "code",
   "execution_count": 58,
   "metadata": {},
   "outputs": [
    {
     "data": {
      "text/plain": [
       "{2: KMeans(algorithm='full', n_clusters=2, random_state=42),\n",
       " 3: KMeans(algorithm='full', n_clusters=3, random_state=42),\n",
       " 4: KMeans(algorithm='full', n_clusters=4, random_state=42),\n",
       " 5: KMeans(algorithm='full', n_clusters=5, random_state=42),\n",
       " 6: KMeans(algorithm='full', n_clusters=6, random_state=42),\n",
       " 7: KMeans(algorithm='full', n_clusters=7, random_state=42),\n",
       " 8: KMeans(algorithm='full', random_state=42),\n",
       " 9: KMeans(algorithm='full', n_clusters=9, random_state=42),\n",
       " 10: KMeans(algorithm='full', n_clusters=10, random_state=42)}"
      ]
     },
     "execution_count": 58,
     "metadata": {},
     "output_type": "execute_result"
    }
   ],
   "source": [
    "kmeans_results"
   ]
  },
  {
   "cell_type": "code",
   "execution_count": 61,
   "metadata": {},
   "outputs": [
    {
     "data": {
      "image/png": "[encoded data removed]",
      "text/plain": [
       "<Figure size 576x432 with 1 Axes>"
      ]
     },
     "metadata": {
      "needs_background": "light"
     },
     "output_type": "display_data"
    },
    {
     "data": {
      "image/png": "[encoded data removed]",
      "text/plain": [
       "<Figure size 576x432 with 1 Axes>"
      ]
     },
     "metadata": {
      "needs_background": "light"
     },
     "output_type": "display_data"
    },
    {
     "data": {
      "image/png": "[encoded data removed]",
      "text/plain": [
       "<Figure size 576x432 with 1 Axes>"
      ]
     },
     "metadata": {
      "needs_background": "light"
     },
     "output_type": "display_data"
    },
    {
     "data": {
      "image/png": "[encoded data removed]",
      "text/plain": [
       "<Figure size 576x432 with 1 Axes>"
      ]
     },
     "metadata": {
      "needs_background": "light"
     },
     "output_type": "display_data"
    },
    {
     "data": {
      "image/png": "[encoded data removed]",
      "text/plain": [
       "<Figure size 576x432 with 1 Axes>"
      ]
     },
     "metadata": {
      "needs_background": "light"
     },
     "output_type": "display_data"
    },
    {
     "data": {
      "image/png": "[encoded data removed]",
      "text/plain": [
       "<Figure size 576x432 with 1 Axes>"
      ]
     },
     "metadata": {
      "needs_background": "light"
     },
     "output_type": "display_data"
    },
    {
     "data": {
      "image/png": "[encoded data removed]",
      "text/plain": [
       "<Figure size 576x432 with 1 Axes>"
      ]
     },
     "metadata": {
      "needs_background": "light"
     },
     "output_type": "display_data"
    },
    {
     "data": {
      "image/png": "[encoded data removed]",
      "text/plain": [
       "<Figure size 576x432 with 1 Axes>"
      ]
     },
     "metadata": {
      "needs_background": "light"
     },
     "output_type": "display_data"
    },
    {
     "data": {
      "image/png": "[encoded data removed]",
      "text/plain": [
       "<Figure size 576x432 with 1 Axes>"
      ]
     },
     "metadata": {
      "needs_background": "light"
     },
     "output_type": "display_data"
    },
    {
     "name": "stdout",
     "output_type": "stream",
     "text": [
      "Avg: 0.0224\tK:2\n",
      "Avg: 0.009\tK:3\n",
      "Avg: 0.0052\tK:6\n",
      "Avg: 0.0052\tK:5\n",
      "Avg: 0.0042\tK:4\n",
      "Avg: 0.0028\tK:7\n",
      "Avg: 0.001\tK:10\n",
      "Avg: 0.0002\tK:9\n",
      "Avg: -0.0005\tK:8\n"
     ]
    }
   ],
   "source": [
    "silhouette(kmeans_results, df_tfidf_new, plot=True)"
   ]
  },
  {
   "cell_type": "markdown",
   "metadata": {},
   "source": [
    "The silhouette scores are very low and many reviews are likely put into wrong classes (negative score). This suggests that reviews are very heterogenous and even reviews for books of the same genre differ to much to be classified in one group by KMeans."
   ]
  },
  {
   "cell_type": "markdown",
   "metadata": {},
   "source": [
    "### Check classification of sentences containing spoilers\n"
   ]
  },
  {
   "cell_type": "code",
   "execution_count": 162,
   "metadata": {},
   "outputs": [],
   "source": [
    "sentences_l = []\n",
    "labels_l_s = []\n",
    "with open('lemmatized_spoiler_review_sentences.txt', 'r') as sl:\n",
    "    for line in sl:\n",
    "        sentences_l.append(line.rstrip())\n",
    "sl.close()\n",
    "with open('lemmatized_spoiler_review_sentences_labels.txt', 'r') as ll:\n",
    "    for line in ll:\n",
    "        labels_l_s.append(int(line.rstrip()))\n",
    "ll.close()"
   ]
  },
  {
   "cell_type": "code",
   "execution_count": 172,
   "metadata": {},
   "outputs": [],
   "source": [
    "# sample sentences\n",
    "df_spoiler_reviews_sentences = pd.DataFrame({\n",
    "    'spoiler_review_sentences': sentences_l,\n",
    "    'labels': labels\n",
    "})\n",
    "#df_spoiler_reviews_sentences_selection = df_spoiler_reviews_sentences.sample(n = 100000, random_state = 42)"
   ]
  },
  {
   "cell_type": "code",
   "execution_count": null,
   "metadata": {},
   "outputs": [],
   "source": []
  },
  {
   "cell_type": "code",
   "execution_count": 71,
   "metadata": {},
   "outputs": [],
   "source": [
    "vectorizer = TfidfVectorizer(min_df = 100)\n",
    "X = vectorizer.fit_transform(df_spoiler_reviews_sentences_selection.spoiler_review_sentences)\n",
    "df_tfidf = pd.DataFrame(data = X.toarray(), columns = vectorizer.get_feature_names())"
   ]
  },
  {
   "cell_type": "code",
   "execution_count": 72,
   "metadata": {},
   "outputs": [
    {
     "name": "stderr",
     "output_type": "stream",
     "text": [
      "100%|██████████| 5/5 [01:30<00:00, 18.18s/it]\n"
     ]
    }
   ],
   "source": [
    "k = 6\n",
    "kmeans_results_spoiler = kmean(k, df_tfidf)"
   ]
  },
  {
   "cell_type": "code",
   "execution_count": 74,
   "metadata": {},
   "outputs": [],
   "source": [
    "silhouette(kmeans_results_spoiler, df_tfidf, plot=False)"
   ]
  },
  {
   "cell_type": "code",
   "execution_count": null,
   "metadata": {},
   "outputs": [],
   "source": []
  },
  {
   "cell_type": "code",
   "execution_count": null,
   "metadata": {},
   "outputs": [],
   "source": [
    "def sampling_vect(df, num_samples):\n",
    "    \n",
    "    vectorizer = TfidfVectorizer(min_df = 100)    \n",
    "    df_dict = dict()\n",
    "    for n in num_samples:\n",
    "        df_s = df.sample(n = n, random_state = 42)\n",
    "        X = vectorizer.fit_transform(df_s.spoiler_review_sentences)\n",
    "        df_tfidf = pd.DataFrame(data = X.toarray(), columns = vectorizer.get_feature_names())\n",
    "        df_dict.update({n: df_tfidf})\n",
    "    return df_dict"
   ]
  },
  {
   "cell_type": "code",
   "execution_count": 228,
   "metadata": {},
   "outputs": [],
   "source": [
    "def kmean(data_dict):\n",
    "    kmeans_results = dict()\n",
    "    \n",
    "    for n, df in tqdm(data_dict.items()):\n",
    "        kmeans = cluster.KMeans(n_clusters = 2,\n",
    "                               init = 'k-means++',\n",
    "                               n_init = 10,\n",
    "                               tol = 0.0001,\n",
    "                               random_state = 42,\n",
    "                               algorithm = 'full')\n",
    "        \n",
    "        kmeans_results.update({n: kmeans.fit(df)})\n",
    "\n",
    "    return kmeans_results"
   ]
  },
  {
   "cell_type": "code",
   "execution_count": 248,
   "metadata": {},
   "outputs": [],
   "source": [
    "from sklearn import metrics \n",
    "\n",
    "def silhouette_n(kmean_dict, df_dict, plot = False):\n",
    "    avg_dict = dict()\n",
    "    accuracy_dict = dict()\n",
    "    \n",
    "    for n, alg in kmean_dict.items():\n",
    "        df = df_dict[n]\n",
    "        kmean_labels = alg.predict(df)\n",
    "        silhouette_avg = metrics.silhouette_score(df, kmean_labels)\n",
    "        avg_dict.update({n:silhouette_avg})\n",
    "        print(f' The silhouette average score for {n} sentences is {silhouette_avg}')\n",
    "        \n",
    "        if plot == True:\n",
    "            plotSilhouette(df, n, kmean_labels, silhouette_avg)\n",
    "    \n",
    "    for n,score in avg_dict.items():\n",
    "        print(f' The silhouette average score for {n} sentences is {silhouette_avg}')\n",
    "        \n",
    "    #df = df.to_numpy()\n",
    "    #avg_dict = dict()\n",
    "    #for n_clusters, kmeans in kmeans_dict.items():      \n",
    "    #    kmeans_labels = kmeans.predict(df)\n",
    "    #    silhouette_avg = metrics.silhouette_score(df, kmeans_labels) # Average Score for all Samples\n",
    "    #    avg_dict.update( {silhouette_avg : n_clusters})"
   ]
  },
  {
   "cell_type": "code",
   "execution_count": 246,
   "metadata": {},
   "outputs": [],
   "source": [
    "import matplotlib.pyplot as plt\n",
    "import matplotlib.cm as cm\n",
    "\n",
    "def plotSilhouette(df, n, kmeans_labels, silhouette_avg):\n",
    "    fig, ax1 = plt.subplots(1)\n",
    "    #fig.figsize((10,10))\n",
    "    ax1.set_xlim([-0.2,1])\n",
    "    # add 30 to insert blank space between the clusters\n",
    "    ax1.set_ylim([0, len(df)+ 30])\n",
    "    \n",
    "    # add a vertical line for silhouette average\n",
    "    ax1.axvline(x = silhouette_avg, color = 'red', linestyle = '--')\n",
    "    # Clear the yaxis labels and define new tick labels\n",
    "    ax1.set_yticks([])  \n",
    "    ax1.set_xticks([-0.2, 0, 0.2, 0.4, 0.6, 0.8, 1])\n",
    "    plt.title((f'Silhouette analysis for {n} sentences'), fontsize=10, fontweight='bold')\n",
    "    \n",
    "    y_lower = 10\n",
    "    sample_silhouette_values = metrics.silhouette_samples(df, kmeans_labels)\n",
    "    for i in range(2):\n",
    "        ith_cluster_silhouette_values = sample_silhouette_values[kmeans_labels == i]\n",
    "        ith_cluster_silhouette_values.sort()\n",
    "        \n",
    "        size_cluster_i = ith_cluster_silhouette_values.shape[0]\n",
    "        y_upper = y_lower + size_cluster_i\n",
    "        \n",
    "        color = cm.nipy_spectral(float(i) / 2)\n",
    "        ax1.fill_betweenx(np.arange(y_lower, y_upper), 0, ith_cluster_silhouette_values, facecolor=color, edgecolor=color, alpha=0.7)\n",
    "\n",
    "        ax1.text(-0.05, y_lower + 0.5 * size_cluster_i, str(i)) # Label the silhouette plots with their cluster numbers at the middle\n",
    "        y_lower = y_upper + 10  # Compute the new y_lower for next plot. 10 for the 0 samples\n",
    "    plt.show()"
   ]
  },
  {
   "cell_type": "code",
   "execution_count": 229,
   "metadata": {},
   "outputs": [],
   "source": [
    "df_samples = sampling_vect(df_spoiler_reviews_sentences,[10000, 25000, 50000, 100000])"
   ]
  },
  {
   "cell_type": "code",
   "execution_count": 225,
   "metadata": {},
   "outputs": [
    {
     "name": "stdout",
     "output_type": "stream",
     "text": [
      "10000 KMeans(algorithm='full', n_clusters=2, random_state=42)\n",
      "25000 KMeans(algorithm='full', n_clusters=2, random_state=42)\n",
      "50000 KMeans(algorithm='full', n_clusters=2, random_state=42)\n",
      "100000 KMeans(algorithm='full', n_clusters=2, random_state=42)\n",
      "10000 (10000, 79)\n",
      "25000 (25000, 244)\n",
      "50000 (50000, 517)\n",
      "100000 (100000, 982)\n"
     ]
    }
   ],
   "source": [
    "for k, i in kmean_results.items():\n",
    "    print(k, i)\n",
    "for k, i in df_samples.items():\n",
    "    print(k, df_samples[k].shape)"
   ]
  },
  {
   "cell_type": "code",
   "execution_count": 230,
   "metadata": {},
   "outputs": [
    {
     "name": "stderr",
     "output_type": "stream",
     "text": [
      "100%|██████████| 4/4 [00:21<00:00,  5.35s/it]\n"
     ]
    }
   ],
   "source": [
    "kmean_results = kmean(df_samples)"
   ]
  },
  {
   "cell_type": "code",
   "execution_count": 214,
   "metadata": {},
   "outputs": [
    {
     "name": "stdout",
     "output_type": "stream",
     "text": [
      "10000 KMeans(algorithm='full', n_clusters=2, random_state=42)\n",
      "25000 KMeans(algorithm='full', n_clusters=2, random_state=42)\n",
      "50000 KMeans(algorithm='full', n_clusters=2, random_state=42)\n",
      "100000 KMeans(algorithm='full', n_clusters=2, random_state=42)\n"
     ]
    }
   ],
   "source": [
    "for n, i in kmean_results.items():\n",
    "    print(n, i)"
   ]
  },
  {
   "cell_type": "code",
   "execution_count": 247,
   "metadata": {},
   "outputs": [
    {
     "name": "stdout",
     "output_type": "stream",
     "text": [
      " The silhouette average score for 10000 sentences is 0.1326118694258348\n"
     ]
    },
    {
     "data": {
      "image/png": "[encoded data removed]",
      "text/plain": [
       "<Figure size 432x288 with 1 Axes>"
      ]
     },
     "metadata": {
      "needs_background": "light"
     },
     "output_type": "display_data"
    },
    {
     "name": "stdout",
     "output_type": "stream",
     "text": [
      " The silhouette average score for 25000 sentences is 0.05914983161716603\n"
     ]
    },
    {
     "data": {
      "image/png": "[encoded data removed]",
      "text/plain": [
       "<Figure size 432x288 with 1 Axes>"
      ]
     },
     "metadata": {
      "needs_background": "light"
     },
     "output_type": "display_data"
    },
    {
     "name": "stdout",
     "output_type": "stream",
     "text": [
      " The silhouette average score for 50000 sentences is 0.03684177037661878\n"
     ]
    },
    {
     "data": {
      "image/png": "[encoded data removed]",
      "text/plain": [
       "<Figure size 432x288 with 1 Axes>"
      ]
     },
     "metadata": {
      "needs_background": "light"
     },
     "output_type": "display_data"
    },
    {
     "name": "stdout",
     "output_type": "stream",
     "text": [
      " The silhouette average score for 100000 sentences is 0.025875918084866494\n"
     ]
    },
    {
     "data": {
      "image/png": "[encoded data removed]",
      "text/plain": [
       "<Figure size 432x288 with 1 Axes>"
      ]
     },
     "metadata": {
      "needs_background": "light"
     },
     "output_type": "display_data"
    }
   ],
   "source": [
    "silhouette_n(kmean_results, df_samples)"
   ]
  },
  {
   "cell_type": "code",
   "execution_count": 250,
   "metadata": {},
   "outputs": [
    {
     "name": "stderr",
     "output_type": "stream",
     "text": [
      "100%|██████████| 7/7 [00:17<00:00,  2.46s/it]\n"
     ]
    },
    {
     "name": "stdout",
     "output_type": "stream",
     "text": [
      " The silhouette average score for 1000 sentences is 0.8352133565384977\n",
      " The silhouette average score for 2500 sentences is 0.4758312761679281\n",
      " The silhouette average score for 5000 sentences is 0.2782180569722904\n",
      " The silhouette average score for 10000 sentences is 0.1326118694258348\n",
      " The silhouette average score for 25000 sentences is 0.05914983161716603\n",
      " The silhouette average score for 50000 sentences is 0.03684177037661878\n",
      " The silhouette average score for 100000 sentences is 0.025875918084866494\n",
      " The silhouette average score for 1000 sentences is 0.025875918084866494\n",
      " The silhouette average score for 2500 sentences is 0.025875918084866494\n",
      " The silhouette average score for 5000 sentences is 0.025875918084866494\n",
      " The silhouette average score for 10000 sentences is 0.025875918084866494\n",
      " The silhouette average score for 25000 sentences is 0.025875918084866494\n",
      " The silhouette average score for 50000 sentences is 0.025875918084866494\n",
      " The silhouette average score for 100000 sentences is 0.025875918084866494\n"
     ]
    }
   ],
   "source": [
    "\n",
    "df_samples = sampling_vect(df_spoiler_reviews_sentences,[1000, 2500, 5000, 10000, 25000, 50000, 100000])\n",
    "kmean_results = kmean(df_samples)\n",
    "silhouette_n(kmean_results, df_samples)"
   ]
  },
  {
   "cell_type": "markdown",
   "metadata": {},
   "source": [
    "With more sentences, the silhouette score declines drastically suggesting that sentences can not be classified very well. this makes sense given the heterogeneity of text and spoilers. Also take into consideration that the data set contains spoilers for several different genres including poems, crime and romance. "
   ]
  }
 ],
 "metadata": {
  "kernelspec": {
   "display_name": "Python 3",
   "language": "python",
   "name": "python3"
  },
  "language_info": {
   "codemirror_mode": {
    "name": "ipython",
    "version": 3
   },
   "file_extension": ".py",
   "mimetype": "text/x-python",
   "name": "python",
   "nbconvert_exporter": "python",
   "pygments_lexer": "ipython3",
   "version": "3.8.3"
  }
 },
 "nbformat": 4,
 "nbformat_minor": 4
}

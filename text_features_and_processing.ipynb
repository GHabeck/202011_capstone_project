{
 "cells": [
  {
   "cell_type": "markdown",
   "metadata": {},
   "source": [
    "# Spoiler reviews-Text processing and text feature importance"
   ]
  },
  {
   "cell_type": "markdown",
   "metadata": {},
   "source": [
    "__Author: Gregor Habeck with contributions from Julia Schaefer__"
   ]
  },
  {
   "cell_type": "code",
   "execution_count": 1,
   "metadata": {},
   "outputs": [],
   "source": [
    "# load modules/libraries\n",
    "import time\n",
    "from tqdm import tqdm\n",
    "import json\n",
    "import gzip\n",
    "import pandas as pd\n",
    "import numpy as np\n",
    "from collections import defaultdict, Counter\n",
    "import swifter\n",
    "\n",
    "import matplotlib.pyplot as plt\n",
    "import seaborn as sns"
   ]
  },
  {
   "cell_type": "code",
   "execution_count": 2,
   "metadata": {},
   "outputs": [],
   "source": [
    "# file containing data\n",
    "file = 'training_set.json'"
   ]
  },
  {
   "cell_type": "code",
   "execution_count": 3,
   "metadata": {},
   "outputs": [
    {
     "name": "stdout",
     "output_type": "stream",
     "text": [
      "00:12:53\n"
     ]
    }
   ],
   "source": [
    "# to import the full training dataset\n",
    "t0 = time.time()\n",
    "df_train = pd.read_json('training_set.json', orient = 'index')\n",
    "elapsed_time = time.time()-t0\n",
    "print(time.strftime(\"%H:%M:%S\", time.gmtime(elapsed_time)))"
   ]
  },
  {
   "cell_type": "code",
   "execution_count": 4,
   "metadata": {},
   "outputs": [
    {
     "data": {
      "text/plain": [
       "Index(['book_id', 'has_spoiler', 'rating', 'review_id', 'review_sentences',\n",
       "       'timestamp', 'user_id', 'title', 'description', 'publication_year',\n",
       "       'publication_month', 'publication_day', 'average_rating',\n",
       "       'ratings_count', 'num_pages', 'weighted_average_rating', 'genres',\n",
       "       'best_genre'],\n",
       "      dtype='object')"
      ]
     },
     "execution_count": 4,
     "metadata": {},
     "output_type": "execute_result"
    }
   ],
   "source": [
    "# get colum names\n",
    "df_train.columns"
   ]
  },
  {
   "cell_type": "code",
   "execution_count": 3,
   "metadata": {},
   "outputs": [],
   "source": [
    "# functions to isolate labels and text from review_sentences column\n",
    "def get_sentence_label(x):\n",
    "    return [label for label, text in x]\n",
    "def get_sentence_text(x):\n",
    "    return [text for label, text in x]\n"
   ]
  },
  {
   "cell_type": "code",
   "execution_count": 2,
   "metadata": {
    "collapsed": true
   },
   "outputs": [
    {
     "ename": "NameError",
     "evalue": "name 'df_train' is not defined",
     "output_type": "error",
     "traceback": [
      "\u001b[0;31m---------------------------------------------------------------------------\u001b[0m",
      "\u001b[0;31mNameError\u001b[0m                                 Traceback (most recent call last)",
      "\u001b[0;32m<ipython-input-2-927ec7322e84>\u001b[0m in \u001b[0;36m<module>\u001b[0;34m\u001b[0m\n\u001b[0;32m----> 1\u001b[0;31m \u001b[0mdf_train\u001b[0m\u001b[0;34m[\u001b[0m\u001b[0;34m'sentence_labels'\u001b[0m\u001b[0;34m]\u001b[0m \u001b[0;34m=\u001b[0m \u001b[0mdf_train\u001b[0m\u001b[0;34m.\u001b[0m\u001b[0mreview_sentences\u001b[0m\u001b[0;34m.\u001b[0m\u001b[0mswifter\u001b[0m\u001b[0;34m.\u001b[0m\u001b[0mapply\u001b[0m\u001b[0;34m(\u001b[0m\u001b[0;32mlambda\u001b[0m \u001b[0mx\u001b[0m\u001b[0;34m:\u001b[0m\u001b[0mget_sentence_label\u001b[0m\u001b[0;34m(\u001b[0m\u001b[0mx\u001b[0m\u001b[0;34m)\u001b[0m\u001b[0;34m)\u001b[0m\u001b[0;34m\u001b[0m\u001b[0;34m\u001b[0m\u001b[0m\n\u001b[0m\u001b[1;32m      2\u001b[0m \u001b[0mdf_train\u001b[0m\u001b[0;34m[\u001b[0m\u001b[0;34m'sentence_text'\u001b[0m\u001b[0;34m]\u001b[0m \u001b[0;34m=\u001b[0m \u001b[0mdf_train\u001b[0m\u001b[0;34m.\u001b[0m\u001b[0mreview_sentences\u001b[0m\u001b[0;34m.\u001b[0m\u001b[0mswifter\u001b[0m\u001b[0;34m.\u001b[0m\u001b[0mapply\u001b[0m\u001b[0;34m(\u001b[0m\u001b[0;32mlambda\u001b[0m \u001b[0mx\u001b[0m\u001b[0;34m:\u001b[0m\u001b[0mget_sentence_text\u001b[0m\u001b[0;34m(\u001b[0m\u001b[0mx\u001b[0m\u001b[0;34m)\u001b[0m\u001b[0;34m)\u001b[0m\u001b[0;34m\u001b[0m\u001b[0;34m\u001b[0m\u001b[0m\n",
      "\u001b[0;31mNameError\u001b[0m: name 'df_train' is not defined"
     ]
    }
   ],
   "source": [
    "df_train['sentence_labels'] = df_train.review_sentences.swifter.apply(lambda x:get_sentence_label(x))\n",
    "df_train['sentence_text'] = df_train.review_sentences.swifter.apply(lambda x:get_sentence_text(x))\n"
   ]
  },
  {
   "cell_type": "code",
   "execution_count": 7,
   "metadata": {},
   "outputs": [
    {
     "data": {
      "text/html": [
       "<div>\n",
       "<style scoped>\n",
       "    .dataframe tbody tr th:only-of-type {\n",
       "        vertical-align: middle;\n",
       "    }\n",
       "\n",
       "    .dataframe tbody tr th {\n",
       "        vertical-align: top;\n",
       "    }\n",
       "\n",
       "    .dataframe thead th {\n",
       "        text-align: right;\n",
       "    }\n",
       "</style>\n",
       "<table border=\"1\" class=\"dataframe\">\n",
       "  <thead>\n",
       "    <tr style=\"text-align: right;\">\n",
       "      <th></th>\n",
       "      <th>book_id</th>\n",
       "      <th>has_spoiler</th>\n",
       "      <th>rating</th>\n",
       "      <th>review_id</th>\n",
       "      <th>review_sentences</th>\n",
       "      <th>timestamp</th>\n",
       "      <th>user_id</th>\n",
       "      <th>title</th>\n",
       "      <th>description</th>\n",
       "      <th>publication_year</th>\n",
       "      <th>publication_month</th>\n",
       "      <th>publication_day</th>\n",
       "      <th>average_rating</th>\n",
       "      <th>ratings_count</th>\n",
       "      <th>num_pages</th>\n",
       "      <th>weighted_average_rating</th>\n",
       "      <th>genres</th>\n",
       "      <th>best_genre</th>\n",
       "      <th>sentence_labels</th>\n",
       "      <th>sentence_text</th>\n",
       "    </tr>\n",
       "  </thead>\n",
       "  <tbody>\n",
       "    <tr>\n",
       "      <th>147051</th>\n",
       "      <td>11735983</td>\n",
       "      <td>False</td>\n",
       "      <td>4</td>\n",
       "      <td>51e781eccbbc76d4ef0660dff6d1fabb</td>\n",
       "      <td>[[0, Read this review on my blog!], [0, http:/...</td>\n",
       "      <td>2014-06-12</td>\n",
       "      <td>138153f6252f57bb4eea33f9882f3c91</td>\n",
       "      <td>Insurgent (Divergent, #2)</td>\n",
       "      <td>One choice can transform you--or it can destro...</td>\n",
       "      <td>2012.0</td>\n",
       "      <td>5.0</td>\n",
       "      <td>1.0</td>\n",
       "      <td>4.07</td>\n",
       "      <td>849014.0</td>\n",
       "      <td>525.0</td>\n",
       "      <td>3455486.98</td>\n",
       "      <td>{'young-adult': 14700, 'fiction': 8341, 'fanta...</td>\n",
       "      <td>young-adult</td>\n",
       "      <td>[0, 0, 0, 0, 0, 0, 0, 0, 0, 0, 0, 0, 0, 0, 0, ...</td>\n",
       "      <td>[Read this review on my blog!, http://roseshad...</td>\n",
       "    </tr>\n",
       "    <tr>\n",
       "      <th>1322675</th>\n",
       "      <td>18803672</td>\n",
       "      <td>False</td>\n",
       "      <td>4</td>\n",
       "      <td>989ab941082a57c8da1e655e88e33ac8</td>\n",
       "      <td>[[0, I was writing a comment that I realized w...</td>\n",
       "      <td>2015-04-01</td>\n",
       "      <td>28bc75fb57482651692ce74e8d8ed146</td>\n",
       "      <td>The Narrow Road to the Deep North</td>\n",
       "      <td>A novel of the cruelty of war, and tenuousness...</td>\n",
       "      <td>NaN</td>\n",
       "      <td>NaN</td>\n",
       "      <td>NaN</td>\n",
       "      <td>4.00</td>\n",
       "      <td>855.0</td>\n",
       "      <td>448.0</td>\n",
       "      <td>3420.00</td>\n",
       "      <td>{'fiction': 1903, 'history, historical fiction...</td>\n",
       "      <td>fiction</td>\n",
       "      <td>[0, 0, 0, 0, 0, 0, 0, 0, 0, 0, 0, 0, 0, 0, 0, ...</td>\n",
       "      <td>[I was writing a comment that I realized would...</td>\n",
       "    </tr>\n",
       "    <tr>\n",
       "      <th>1221889</th>\n",
       "      <td>342667</td>\n",
       "      <td>False</td>\n",
       "      <td>3</td>\n",
       "      <td>ccaa90b04c4ee315b6360a5dd89a6d1f</td>\n",
       "      <td>[[0, Charlie is turning 30 and her younger sis...</td>\n",
       "      <td>2009-06-22</td>\n",
       "      <td>f25b8a6ca496c618bda904edea1fe6e9</td>\n",
       "      <td>A Total Waste of Makeup (Charlize Edwards, #1)</td>\n",
       "      <td>None</td>\n",
       "      <td>NaN</td>\n",
       "      <td>NaN</td>\n",
       "      <td>NaN</td>\n",
       "      <td>3.69</td>\n",
       "      <td>10628.0</td>\n",
       "      <td>NaN</td>\n",
       "      <td>39217.32</td>\n",
       "      <td>{'fiction': 70, 'romance': 85}</td>\n",
       "      <td>romance</td>\n",
       "      <td>[0, 0, 0, 0]</td>\n",
       "      <td>[Charlie is turning 30 and her younger sister ...</td>\n",
       "    </tr>\n",
       "    <tr>\n",
       "      <th>1008531</th>\n",
       "      <td>30422494</td>\n",
       "      <td>False</td>\n",
       "      <td>3</td>\n",
       "      <td>3f461d56e4bff8659f711608df53449c</td>\n",
       "      <td>[[0, 3.5 is more like it even though this has ...</td>\n",
       "      <td>2017-08-26</td>\n",
       "      <td>3b31ac9059f84b50b831695ceaa95871</td>\n",
       "      <td>Wicked Beautiful (Wicked Games #1)</td>\n",
       "      <td>A ruthless businesswoman and the playboy who d...</td>\n",
       "      <td>2016.0</td>\n",
       "      <td>7.0</td>\n",
       "      <td>12.0</td>\n",
       "      <td>4.05</td>\n",
       "      <td>1645.0</td>\n",
       "      <td>380.0</td>\n",
       "      <td>6662.25</td>\n",
       "      <td>{'romance': 158, 'fiction': 9}</td>\n",
       "      <td>romance</td>\n",
       "      <td>[0, 0, 0, 0]</td>\n",
       "      <td>[3.5 is more like it even though this has got ...</td>\n",
       "    </tr>\n",
       "    <tr>\n",
       "      <th>859048</th>\n",
       "      <td>13517455</td>\n",
       "      <td>True</td>\n",
       "      <td>5</td>\n",
       "      <td>5b942fa92ca26d999063758098d36742</td>\n",
       "      <td>[[0, Review originally posted at Step Into Fic...</td>\n",
       "      <td>2013-04-11</td>\n",
       "      <td>883e2e0ae9de4c2c46c0fb09d6025fdf</td>\n",
       "      <td>Reboot (Reboot, #1)</td>\n",
       "      <td>Five years ago, Wren Connolly was shot three t...</td>\n",
       "      <td>2013.0</td>\n",
       "      <td>5.0</td>\n",
       "      <td>7.0</td>\n",
       "      <td>3.92</td>\n",
       "      <td>23778.0</td>\n",
       "      <td>365.0</td>\n",
       "      <td>93209.76</td>\n",
       "      <td>{'young-adult': 1025, 'fiction': 633, 'romance...</td>\n",
       "      <td>young-adult</td>\n",
       "      <td>[0, 0, 0, 0, 0, 0, 0, 0, 0, 0, 0, 0, 0, 0, 0, ...</td>\n",
       "      <td>[Review originally posted at Step Into Fiction...</td>\n",
       "    </tr>\n",
       "  </tbody>\n",
       "</table>\n",
       "</div>"
      ],
      "text/plain": [
       "          book_id  has_spoiler  rating                         review_id  \\\n",
       "147051   11735983        False       4  51e781eccbbc76d4ef0660dff6d1fabb   \n",
       "1322675  18803672        False       4  989ab941082a57c8da1e655e88e33ac8   \n",
       "1221889    342667        False       3  ccaa90b04c4ee315b6360a5dd89a6d1f   \n",
       "1008531  30422494        False       3  3f461d56e4bff8659f711608df53449c   \n",
       "859048   13517455         True       5  5b942fa92ca26d999063758098d36742   \n",
       "\n",
       "                                          review_sentences  timestamp  \\\n",
       "147051   [[0, Read this review on my blog!], [0, http:/... 2014-06-12   \n",
       "1322675  [[0, I was writing a comment that I realized w... 2015-04-01   \n",
       "1221889  [[0, Charlie is turning 30 and her younger sis... 2009-06-22   \n",
       "1008531  [[0, 3.5 is more like it even though this has ... 2017-08-26   \n",
       "859048   [[0, Review originally posted at Step Into Fic... 2013-04-11   \n",
       "\n",
       "                                  user_id  \\\n",
       "147051   138153f6252f57bb4eea33f9882f3c91   \n",
       "1322675  28bc75fb57482651692ce74e8d8ed146   \n",
       "1221889  f25b8a6ca496c618bda904edea1fe6e9   \n",
       "1008531  3b31ac9059f84b50b831695ceaa95871   \n",
       "859048   883e2e0ae9de4c2c46c0fb09d6025fdf   \n",
       "\n",
       "                                                  title  \\\n",
       "147051                        Insurgent (Divergent, #2)   \n",
       "1322675               The Narrow Road to the Deep North   \n",
       "1221889  A Total Waste of Makeup (Charlize Edwards, #1)   \n",
       "1008531              Wicked Beautiful (Wicked Games #1)   \n",
       "859048                              Reboot (Reboot, #1)   \n",
       "\n",
       "                                               description  publication_year  \\\n",
       "147051   One choice can transform you--or it can destro...            2012.0   \n",
       "1322675  A novel of the cruelty of war, and tenuousness...               NaN   \n",
       "1221889                                               None               NaN   \n",
       "1008531  A ruthless businesswoman and the playboy who d...            2016.0   \n",
       "859048   Five years ago, Wren Connolly was shot three t...            2013.0   \n",
       "\n",
       "         publication_month  publication_day  average_rating  ratings_count  \\\n",
       "147051                 5.0              1.0            4.07       849014.0   \n",
       "1322675                NaN              NaN            4.00          855.0   \n",
       "1221889                NaN              NaN            3.69        10628.0   \n",
       "1008531                7.0             12.0            4.05         1645.0   \n",
       "859048                 5.0              7.0            3.92        23778.0   \n",
       "\n",
       "         num_pages  weighted_average_rating  \\\n",
       "147051       525.0               3455486.98   \n",
       "1322675      448.0                  3420.00   \n",
       "1221889        NaN                 39217.32   \n",
       "1008531      380.0                  6662.25   \n",
       "859048       365.0                 93209.76   \n",
       "\n",
       "                                                    genres   best_genre  \\\n",
       "147051   {'young-adult': 14700, 'fiction': 8341, 'fanta...  young-adult   \n",
       "1322675  {'fiction': 1903, 'history, historical fiction...      fiction   \n",
       "1221889                     {'fiction': 70, 'romance': 85}      romance   \n",
       "1008531                     {'romance': 158, 'fiction': 9}      romance   \n",
       "859048   {'young-adult': 1025, 'fiction': 633, 'romance...  young-adult   \n",
       "\n",
       "                                           sentence_labels  \\\n",
       "147051   [0, 0, 0, 0, 0, 0, 0, 0, 0, 0, 0, 0, 0, 0, 0, ...   \n",
       "1322675  [0, 0, 0, 0, 0, 0, 0, 0, 0, 0, 0, 0, 0, 0, 0, ...   \n",
       "1221889                                       [0, 0, 0, 0]   \n",
       "1008531                                       [0, 0, 0, 0]   \n",
       "859048   [0, 0, 0, 0, 0, 0, 0, 0, 0, 0, 0, 0, 0, 0, 0, ...   \n",
       "\n",
       "                                             sentence_text  \n",
       "147051   [Read this review on my blog!, http://roseshad...  \n",
       "1322675  [I was writing a comment that I realized would...  \n",
       "1221889  [Charlie is turning 30 and her younger sister ...  \n",
       "1008531  [3.5 is more like it even though this has got ...  \n",
       "859048   [Review originally posted at Step Into Fiction...  "
      ]
     },
     "execution_count": 7,
     "metadata": {},
     "output_type": "execute_result"
    }
   ],
   "source": [
    "# get a quick look at the data\n",
    "df_train.head()"
   ]
  },
  {
   "cell_type": "code",
   "execution_count": 4,
   "metadata": {},
   "outputs": [
    {
     "name": "stdout",
     "output_type": "stream",
     "text": [
      "Requirement already satisfied: langdetect in /opt/anaconda3/lib/python3.8/site-packages (1.0.8)\r\n",
      "Requirement already satisfied: six in /opt/anaconda3/lib/python3.8/site-packages (from langdetect) (1.15.0)\r\n"
     ]
    }
   ],
   "source": [
    "#confirm that reviwes are written in english:\n",
    "!pip install langdetect\n",
    "from langdetect import detect, DetectorFactory\n",
    "\n",
    "# for reproducible results\n",
    "DetectorFactory.seed = 42\n",
    "\n",
    "def detect_review_language(text):\n",
    "    try:\n",
    "        text = ' '.join(text)\n",
    "        return detect(text)\n",
    "    except:\n",
    "        return None"
   ]
  },
  {
   "cell_type": "code",
   "execution_count": 9,
   "metadata": {},
   "outputs": [
    {
     "data": {
      "application/vnd.jupyter.widget-view+json": {
       "model_id": "38ce3a83aa5e4c4e9518ba0ba0dbf97d",
       "version_major": 2,
       "version_minor": 0
      },
      "text/plain": [
       "HBox(children=(HTML(value='Pandas Apply'), FloatProgress(value=0.0, max=964623.0), HTML(value='')))"
      ]
     },
     "metadata": {},
     "output_type": "display_data"
    },
    {
     "name": "stdout",
     "output_type": "stream",
     "text": [
      "\n"
     ]
    }
   ],
   "source": [
    "# detect language\n",
    "df_train['review_language_1'] = df_train['sentence_text'].swifter.apply(lambda x:detect_review_language(x))\n"
   ]
  },
  {
   "cell_type": "code",
   "execution_count": 10,
   "metadata": {},
   "outputs": [
    {
     "data": {
      "text/plain": [
       "array(['en', 'nl', 'it', 'cy', 'af', 'de', 'ro', 'sw', 'sl', 'so', 'fr',\n",
       "       'no', 'tl', 'et', 'sv', 'es', 'da', 'pl', 'ca', 'hr', 'sk', 'id',\n",
       "       'pt', 'fi', 'vi', 'cs', 'hu', 'tr', 'sq', 'lt'], dtype=object)"
      ]
     },
     "execution_count": 10,
     "metadata": {},
     "output_type": "execute_result"
    }
   ],
   "source": [
    "df_train.review_language_1.unique()"
   ]
  },
  {
   "cell_type": "code",
   "execution_count": 5,
   "metadata": {},
   "outputs": [
    {
     "ename": "NameError",
     "evalue": "name 'df_train' is not defined",
     "output_type": "error",
     "traceback": [
      "\u001b[0;31m---------------------------------------------------------------------------\u001b[0m",
      "\u001b[0;31mNameError\u001b[0m                                 Traceback (most recent call last)",
      "\u001b[0;32m<ipython-input-5-820280e1ca1a>\u001b[0m in \u001b[0;36m<module>\u001b[0;34m\u001b[0m\n\u001b[1;32m      8\u001b[0m         \u001b[0;32mreturn\u001b[0m \u001b[0;32mNone\u001b[0m\u001b[0;34m\u001b[0m\u001b[0;34m\u001b[0m\u001b[0m\n\u001b[1;32m      9\u001b[0m \u001b[0;34m\u001b[0m\u001b[0m\n\u001b[0;32m---> 10\u001b[0;31m \u001b[0mdf_train\u001b[0m\u001b[0;34m[\u001b[0m\u001b[0;34m'review_language_start'\u001b[0m\u001b[0;34m]\u001b[0m \u001b[0;34m=\u001b[0m \u001b[0mdf_train\u001b[0m\u001b[0;34m[\u001b[0m\u001b[0;34m'sentence_text'\u001b[0m\u001b[0;34m]\u001b[0m\u001b[0;34m.\u001b[0m\u001b[0mswifter\u001b[0m\u001b[0;34m.\u001b[0m\u001b[0mapply\u001b[0m\u001b[0;34m(\u001b[0m\u001b[0;32mlambda\u001b[0m \u001b[0mx\u001b[0m\u001b[0;34m:\u001b[0m\u001b[0mdetect_review_language_start\u001b[0m\u001b[0;34m(\u001b[0m\u001b[0mx\u001b[0m\u001b[0;34m)\u001b[0m\u001b[0;34m)\u001b[0m\u001b[0;34m\u001b[0m\u001b[0;34m\u001b[0m\u001b[0m\n\u001b[0m",
      "\u001b[0;31mNameError\u001b[0m: name 'df_train' is not defined"
     ]
    }
   ],
   "source": [
    "# use only the first 30 words to detect language\n",
    "def detect_review_language_start(text):\n",
    "    # use the first 30 words for language detection\n",
    "    try:\n",
    "        text = ' '.join(text)[:30]\n",
    "        return detect(text)\n",
    "    except:\n",
    "        return None\n",
    "    \n",
    "df_train['review_language_start'] = df_train['sentence_text'].swifter.apply(lambda x:detect_review_language_start(x))\n"
   ]
  },
  {
   "cell_type": "code",
   "execution_count": 13,
   "metadata": {},
   "outputs": [
    {
     "data": {
      "text/html": [
       "<div>\n",
       "<style scoped>\n",
       "    .dataframe tbody tr th:only-of-type {\n",
       "        vertical-align: middle;\n",
       "    }\n",
       "\n",
       "    .dataframe tbody tr th {\n",
       "        vertical-align: top;\n",
       "    }\n",
       "\n",
       "    .dataframe thead th {\n",
       "        text-align: right;\n",
       "    }\n",
       "</style>\n",
       "<table border=\"1\" class=\"dataframe\">\n",
       "  <thead>\n",
       "    <tr style=\"text-align: right;\">\n",
       "      <th></th>\n",
       "      <th>book_id</th>\n",
       "      <th>has_spoiler</th>\n",
       "      <th>rating</th>\n",
       "      <th>review_id</th>\n",
       "      <th>review_sentences</th>\n",
       "      <th>timestamp</th>\n",
       "      <th>user_id</th>\n",
       "      <th>title</th>\n",
       "      <th>description</th>\n",
       "      <th>publication_year</th>\n",
       "      <th>...</th>\n",
       "      <th>average_rating</th>\n",
       "      <th>ratings_count</th>\n",
       "      <th>num_pages</th>\n",
       "      <th>weighted_average_rating</th>\n",
       "      <th>genres</th>\n",
       "      <th>best_genre</th>\n",
       "      <th>sentence_labels</th>\n",
       "      <th>sentence_text</th>\n",
       "      <th>review_language_1</th>\n",
       "      <th>review_language_start</th>\n",
       "    </tr>\n",
       "  </thead>\n",
       "  <tbody>\n",
       "    <tr>\n",
       "      <th>147051</th>\n",
       "      <td>11735983</td>\n",
       "      <td>False</td>\n",
       "      <td>4</td>\n",
       "      <td>51e781eccbbc76d4ef0660dff6d1fabb</td>\n",
       "      <td>[[0, Read this review on my blog!], [0, http:/...</td>\n",
       "      <td>2014-06-12</td>\n",
       "      <td>138153f6252f57bb4eea33f9882f3c91</td>\n",
       "      <td>Insurgent (Divergent, #2)</td>\n",
       "      <td>One choice can transform you--or it can destro...</td>\n",
       "      <td>2012.0</td>\n",
       "      <td>...</td>\n",
       "      <td>4.07</td>\n",
       "      <td>849014.0</td>\n",
       "      <td>525.0</td>\n",
       "      <td>3455486.98</td>\n",
       "      <td>{'young-adult': 14700, 'fiction': 8341, 'fanta...</td>\n",
       "      <td>young-adult</td>\n",
       "      <td>[0, 0, 0, 0, 0, 0, 0, 0, 0, 0, 0, 0, 0, 0, 0, ...</td>\n",
       "      <td>[Read this review on my blog!, http://roseshad...</td>\n",
       "      <td>en</td>\n",
       "      <td>en</td>\n",
       "    </tr>\n",
       "    <tr>\n",
       "      <th>1322675</th>\n",
       "      <td>18803672</td>\n",
       "      <td>False</td>\n",
       "      <td>4</td>\n",
       "      <td>989ab941082a57c8da1e655e88e33ac8</td>\n",
       "      <td>[[0, I was writing a comment that I realized w...</td>\n",
       "      <td>2015-04-01</td>\n",
       "      <td>28bc75fb57482651692ce74e8d8ed146</td>\n",
       "      <td>The Narrow Road to the Deep North</td>\n",
       "      <td>A novel of the cruelty of war, and tenuousness...</td>\n",
       "      <td>NaN</td>\n",
       "      <td>...</td>\n",
       "      <td>4.00</td>\n",
       "      <td>855.0</td>\n",
       "      <td>448.0</td>\n",
       "      <td>3420.00</td>\n",
       "      <td>{'fiction': 1903, 'history, historical fiction...</td>\n",
       "      <td>fiction</td>\n",
       "      <td>[0, 0, 0, 0, 0, 0, 0, 0, 0, 0, 0, 0, 0, 0, 0, ...</td>\n",
       "      <td>[I was writing a comment that I realized would...</td>\n",
       "      <td>en</td>\n",
       "      <td>en</td>\n",
       "    </tr>\n",
       "    <tr>\n",
       "      <th>1221889</th>\n",
       "      <td>342667</td>\n",
       "      <td>False</td>\n",
       "      <td>3</td>\n",
       "      <td>ccaa90b04c4ee315b6360a5dd89a6d1f</td>\n",
       "      <td>[[0, Charlie is turning 30 and her younger sis...</td>\n",
       "      <td>2009-06-22</td>\n",
       "      <td>f25b8a6ca496c618bda904edea1fe6e9</td>\n",
       "      <td>A Total Waste of Makeup (Charlize Edwards, #1)</td>\n",
       "      <td>None</td>\n",
       "      <td>NaN</td>\n",
       "      <td>...</td>\n",
       "      <td>3.69</td>\n",
       "      <td>10628.0</td>\n",
       "      <td>NaN</td>\n",
       "      <td>39217.32</td>\n",
       "      <td>{'fiction': 70, 'romance': 85}</td>\n",
       "      <td>romance</td>\n",
       "      <td>[0, 0, 0, 0]</td>\n",
       "      <td>[Charlie is turning 30 and her younger sister ...</td>\n",
       "      <td>en</td>\n",
       "      <td>en</td>\n",
       "    </tr>\n",
       "    <tr>\n",
       "      <th>1008531</th>\n",
       "      <td>30422494</td>\n",
       "      <td>False</td>\n",
       "      <td>3</td>\n",
       "      <td>3f461d56e4bff8659f711608df53449c</td>\n",
       "      <td>[[0, 3.5 is more like it even though this has ...</td>\n",
       "      <td>2017-08-26</td>\n",
       "      <td>3b31ac9059f84b50b831695ceaa95871</td>\n",
       "      <td>Wicked Beautiful (Wicked Games #1)</td>\n",
       "      <td>A ruthless businesswoman and the playboy who d...</td>\n",
       "      <td>2016.0</td>\n",
       "      <td>...</td>\n",
       "      <td>4.05</td>\n",
       "      <td>1645.0</td>\n",
       "      <td>380.0</td>\n",
       "      <td>6662.25</td>\n",
       "      <td>{'romance': 158, 'fiction': 9}</td>\n",
       "      <td>romance</td>\n",
       "      <td>[0, 0, 0, 0]</td>\n",
       "      <td>[3.5 is more like it even though this has got ...</td>\n",
       "      <td>en</td>\n",
       "      <td>en</td>\n",
       "    </tr>\n",
       "    <tr>\n",
       "      <th>859048</th>\n",
       "      <td>13517455</td>\n",
       "      <td>True</td>\n",
       "      <td>5</td>\n",
       "      <td>5b942fa92ca26d999063758098d36742</td>\n",
       "      <td>[[0, Review originally posted at Step Into Fic...</td>\n",
       "      <td>2013-04-11</td>\n",
       "      <td>883e2e0ae9de4c2c46c0fb09d6025fdf</td>\n",
       "      <td>Reboot (Reboot, #1)</td>\n",
       "      <td>Five years ago, Wren Connolly was shot three t...</td>\n",
       "      <td>2013.0</td>\n",
       "      <td>...</td>\n",
       "      <td>3.92</td>\n",
       "      <td>23778.0</td>\n",
       "      <td>365.0</td>\n",
       "      <td>93209.76</td>\n",
       "      <td>{'young-adult': 1025, 'fiction': 633, 'romance...</td>\n",
       "      <td>young-adult</td>\n",
       "      <td>[0, 0, 0, 0, 0, 0, 0, 0, 0, 0, 0, 0, 0, 0, 0, ...</td>\n",
       "      <td>[Review originally posted at Step Into Fiction...</td>\n",
       "      <td>en</td>\n",
       "      <td>en</td>\n",
       "    </tr>\n",
       "  </tbody>\n",
       "</table>\n",
       "<p>5 rows × 22 columns</p>\n",
       "</div>"
      ],
      "text/plain": [
       "          book_id  has_spoiler  rating                         review_id  \\\n",
       "147051   11735983        False       4  51e781eccbbc76d4ef0660dff6d1fabb   \n",
       "1322675  18803672        False       4  989ab941082a57c8da1e655e88e33ac8   \n",
       "1221889    342667        False       3  ccaa90b04c4ee315b6360a5dd89a6d1f   \n",
       "1008531  30422494        False       3  3f461d56e4bff8659f711608df53449c   \n",
       "859048   13517455         True       5  5b942fa92ca26d999063758098d36742   \n",
       "\n",
       "                                          review_sentences  timestamp  \\\n",
       "147051   [[0, Read this review on my blog!], [0, http:/... 2014-06-12   \n",
       "1322675  [[0, I was writing a comment that I realized w... 2015-04-01   \n",
       "1221889  [[0, Charlie is turning 30 and her younger sis... 2009-06-22   \n",
       "1008531  [[0, 3.5 is more like it even though this has ... 2017-08-26   \n",
       "859048   [[0, Review originally posted at Step Into Fic... 2013-04-11   \n",
       "\n",
       "                                  user_id  \\\n",
       "147051   138153f6252f57bb4eea33f9882f3c91   \n",
       "1322675  28bc75fb57482651692ce74e8d8ed146   \n",
       "1221889  f25b8a6ca496c618bda904edea1fe6e9   \n",
       "1008531  3b31ac9059f84b50b831695ceaa95871   \n",
       "859048   883e2e0ae9de4c2c46c0fb09d6025fdf   \n",
       "\n",
       "                                                  title  \\\n",
       "147051                        Insurgent (Divergent, #2)   \n",
       "1322675               The Narrow Road to the Deep North   \n",
       "1221889  A Total Waste of Makeup (Charlize Edwards, #1)   \n",
       "1008531              Wicked Beautiful (Wicked Games #1)   \n",
       "859048                              Reboot (Reboot, #1)   \n",
       "\n",
       "                                               description  publication_year  \\\n",
       "147051   One choice can transform you--or it can destro...            2012.0   \n",
       "1322675  A novel of the cruelty of war, and tenuousness...               NaN   \n",
       "1221889                                               None               NaN   \n",
       "1008531  A ruthless businesswoman and the playboy who d...            2016.0   \n",
       "859048   Five years ago, Wren Connolly was shot three t...            2013.0   \n",
       "\n",
       "         ...  average_rating  ratings_count  num_pages  \\\n",
       "147051   ...            4.07       849014.0      525.0   \n",
       "1322675  ...            4.00          855.0      448.0   \n",
       "1221889  ...            3.69        10628.0        NaN   \n",
       "1008531  ...            4.05         1645.0      380.0   \n",
       "859048   ...            3.92        23778.0      365.0   \n",
       "\n",
       "         weighted_average_rating  \\\n",
       "147051                3455486.98   \n",
       "1322675                  3420.00   \n",
       "1221889                 39217.32   \n",
       "1008531                  6662.25   \n",
       "859048                  93209.76   \n",
       "\n",
       "                                                    genres   best_genre  \\\n",
       "147051   {'young-adult': 14700, 'fiction': 8341, 'fanta...  young-adult   \n",
       "1322675  {'fiction': 1903, 'history, historical fiction...      fiction   \n",
       "1221889                     {'fiction': 70, 'romance': 85}      romance   \n",
       "1008531                     {'romance': 158, 'fiction': 9}      romance   \n",
       "859048   {'young-adult': 1025, 'fiction': 633, 'romance...  young-adult   \n",
       "\n",
       "                                           sentence_labels  \\\n",
       "147051   [0, 0, 0, 0, 0, 0, 0, 0, 0, 0, 0, 0, 0, 0, 0, ...   \n",
       "1322675  [0, 0, 0, 0, 0, 0, 0, 0, 0, 0, 0, 0, 0, 0, 0, ...   \n",
       "1221889                                       [0, 0, 0, 0]   \n",
       "1008531                                       [0, 0, 0, 0]   \n",
       "859048   [0, 0, 0, 0, 0, 0, 0, 0, 0, 0, 0, 0, 0, 0, 0, ...   \n",
       "\n",
       "                                             sentence_text review_language_1  \\\n",
       "147051   [Read this review on my blog!, http://roseshad...                en   \n",
       "1322675  [I was writing a comment that I realized would...                en   \n",
       "1221889  [Charlie is turning 30 and her younger sister ...                en   \n",
       "1008531  [3.5 is more like it even though this has got ...                en   \n",
       "859048   [Review originally posted at Step Into Fiction...                en   \n",
       "\n",
       "        review_language_start  \n",
       "147051                     en  \n",
       "1322675                    en  \n",
       "1221889                    en  \n",
       "1008531                    en  \n",
       "859048                     en  \n",
       "\n",
       "[5 rows x 22 columns]"
      ]
     },
     "execution_count": 13,
     "metadata": {},
     "output_type": "execute_result"
    }
   ],
   "source": [
    "df_train.head()"
   ]
  },
  {
   "cell_type": "code",
   "execution_count": 14,
   "metadata": {},
   "outputs": [],
   "source": [
    "# dictionary for languages returned form langdetect detect\n",
    "language_dict = {'af': 'Afrikaans',\n",
    "                 'ca': 'Catalan',\n",
    "                 'cs': 'Czech',\n",
    "                 'cy': 'Welsh',\n",
    "                 'da': 'Danish',\n",
    "                 'de': 'German',\n",
    "                 'en': 'English',\n",
    "                 'es': 'Spanish',\n",
    "                 'et': 'Estonina',\n",
    "                 'fi': 'Finnish',\n",
    "                 'fr': 'French',\n",
    "                 'hr': 'Croation',\n",
    "                 'hu': 'Hungarian',\n",
    "                 'id': 'Indonesian',\n",
    "                 'it': 'Italian',\n",
    "                 'lt': 'Lithuanina',\n",
    "                 'lv': 'Latvian',\n",
    "                 'nl': 'Dutch',\n",
    "                 'no': 'Norwegian',\n",
    "                 'pl': 'Polish',\n",
    "                 'pt': 'Portuguese',\n",
    "                 'ro': 'Romanina',\n",
    "                 'sk': 'Slovak',\n",
    "                 'sl': 'Slovenian',\n",
    "                 'so': 'Somali',\n",
    "                 'sq': 'Albanian',\n",
    "                 'sv': 'Swedish',\n",
    "                 'sw': 'Swahili',\n",
    "                 'tl': 'Tagalog',\n",
    "                 'tr': 'Turkish',\n",
    "                 'vi': 'Vietnamese'\n",
    "                 }"
   ]
  },
  {
   "cell_type": "code",
   "execution_count": 17,
   "metadata": {},
   "outputs": [],
   "source": [
    "# get language abbreviations and replace them \n",
    "lang_all = np.unique(df_train['review_language_1'], return_counts=True)\n",
    "lang_all_country = [language_dict[abreviation] for abreviation in list(lang_all[0])]\n"
   ]
  },
  {
   "cell_type": "code",
   "execution_count": 21,
   "metadata": {},
   "outputs": [
    {
     "data": {
      "text/plain": [
       "[Text(0.5, 1.0, 'Language detection of whole review')]"
      ]
     },
     "execution_count": 21,
     "metadata": {},
     "output_type": "execute_result"
    },
    {
     "data": {
      "image/png": "[encoded data removed]",
      "text/plain": [
       "<Figure size 432x288 with 1 Axes>"
      ]
     },
     "metadata": {
      "needs_background": "light"
     },
     "output_type": "display_data"
    }
   ],
   "source": [
    "# plot showing results of language detection \n",
    "\n",
    "fig =sns.barplot(x=lang_all[1], y=lang_all_country, palette = 'BrBG' )\n",
    "fig.set_xscale('log')\n",
    "fig.set(title = 'Language detection of whole review')\n"
   ]
  },
  {
   "cell_type": "code",
   "execution_count": 22,
   "metadata": {},
   "outputs": [
    {
     "data": {
      "text/plain": [
       "Text(0, 0.5, '% of reviews (log)')"
      ]
     },
     "execution_count": 22,
     "metadata": {},
     "output_type": "execute_result"
    },
    {
     "data": {
      "image/png": "[encoded data removed]",
      "text/plain": [
       "<Figure size 432x288 with 1 Axes>"
      ]
     },
     "metadata": {
      "needs_background": "light"
     },
     "output_type": "display_data"
    }
   ],
   "source": [
    "# plot to show english and other languages only \n",
    "sum_all = np.sum(lang_all[1]) # all entries\n",
    "english = np.max(lang_all[1]) # get max counts, which is english\n",
    "\n",
    "rest = sum_all-english # count of all other language\n",
    "\n",
    "# define labels\n",
    "labels = ['English', 'other']\n",
    "values = [english/sum_all*100, rest*100/sum_all]\n",
    "\n",
    "ax = sns.barplot(x = labels, y = values)\n",
    "ax.set_yscale('log') \n",
    "ax.set_title('Distribution of review languages\\n', fontsize = 20)\n",
    "ax.set_xlabel('predicted language', fontsize = 15)\n",
    "ax.set_ylabel( '% of reviews (log)', fontsize = 15)"
   ]
  },
  {
   "cell_type": "code",
   "execution_count": 23,
   "metadata": {},
   "outputs": [
    {
     "data": {
      "text/html": [
       "<div>\n",
       "<style scoped>\n",
       "    .dataframe tbody tr th:only-of-type {\n",
       "        vertical-align: middle;\n",
       "    }\n",
       "\n",
       "    .dataframe tbody tr th {\n",
       "        vertical-align: top;\n",
       "    }\n",
       "\n",
       "    .dataframe thead th {\n",
       "        text-align: right;\n",
       "    }\n",
       "</style>\n",
       "<table border=\"1\" class=\"dataframe\">\n",
       "  <thead>\n",
       "    <tr style=\"text-align: right;\">\n",
       "      <th></th>\n",
       "      <th>book_id</th>\n",
       "      <th>has_spoiler</th>\n",
       "      <th>rating</th>\n",
       "      <th>review_id</th>\n",
       "      <th>review_sentences</th>\n",
       "      <th>timestamp</th>\n",
       "      <th>user_id</th>\n",
       "      <th>title</th>\n",
       "      <th>description</th>\n",
       "      <th>publication_year</th>\n",
       "      <th>...</th>\n",
       "      <th>average_rating</th>\n",
       "      <th>ratings_count</th>\n",
       "      <th>num_pages</th>\n",
       "      <th>weighted_average_rating</th>\n",
       "      <th>genres</th>\n",
       "      <th>best_genre</th>\n",
       "      <th>sentence_labels</th>\n",
       "      <th>sentence_text</th>\n",
       "      <th>review_language_1</th>\n",
       "      <th>review_language_start</th>\n",
       "    </tr>\n",
       "  </thead>\n",
       "  <tbody>\n",
       "    <tr>\n",
       "      <th>77919</th>\n",
       "      <td>7260188</td>\n",
       "      <td>False</td>\n",
       "      <td>3</td>\n",
       "      <td>2c1141bc7a47a3faa147743b7899bc56</td>\n",
       "      <td>[[0, ** spoiler alert **], [0, Bueno fue un fi...</td>\n",
       "      <td>2017-07-12</td>\n",
       "      <td>c70ab1b4db941ac888e3ef5786e3132f</td>\n",
       "      <td>Mockingjay (The Hunger Games, #3)</td>\n",
       "      <td>My name is Katniss Everdeen.\\nWhy am I not dea...</td>\n",
       "      <td>2010.0</td>\n",
       "      <td>...</td>\n",
       "      <td>4.03</td>\n",
       "      <td>1743362.0</td>\n",
       "      <td>392.0</td>\n",
       "      <td>7025748.86</td>\n",
       "      <td>{'young-adult': 24271, 'fiction': 19653, 'fant...</td>\n",
       "      <td>young-adult</td>\n",
       "      <td>[0, 0, 0, 0, 0, 0, 0, 0, 0, 0, 0, 0, 0, 0, 0, 0]</td>\n",
       "      <td>[** spoiler alert **, Bueno fue un final de ci...</td>\n",
       "      <td>es</td>\n",
       "      <td>es</td>\n",
       "    </tr>\n",
       "    <tr>\n",
       "      <th>1046929</th>\n",
       "      <td>10380227</td>\n",
       "      <td>False</td>\n",
       "      <td>4</td>\n",
       "      <td>0dfb32ed2e9b1dd5cece24534341d8ab</td>\n",
       "      <td>[[0, Awsome!!!], [0, i really relly love it!!]...</td>\n",
       "      <td>2013-04-12</td>\n",
       "      <td>a579444cf167fdcc9587c8e05985228f</td>\n",
       "      <td>Unlovable (Port Fare, #1)</td>\n",
       "      <td>Port Fare, New York, has fallen into the clutc...</td>\n",
       "      <td>2011.0</td>\n",
       "      <td>...</td>\n",
       "      <td>4.05</td>\n",
       "      <td>5989.0</td>\n",
       "      <td>520.0</td>\n",
       "      <td>24255.45</td>\n",
       "      <td>{'young-adult': 159, 'romance': 170, 'fiction'...</td>\n",
       "      <td>romance</td>\n",
       "      <td>[0, 0, 0, 0, 0, 0]</td>\n",
       "      <td>[Awsome!!!, i really relly love it!!, Seht is ...</td>\n",
       "      <td>es</td>\n",
       "      <td>en</td>\n",
       "    </tr>\n",
       "    <tr>\n",
       "      <th>847263</th>\n",
       "      <td>23688792</td>\n",
       "      <td>False</td>\n",
       "      <td>4</td>\n",
       "      <td>603b47ffe8c74092ea409388eb255935</td>\n",
       "      <td>[[0, Fun train read!]]</td>\n",
       "      <td>2016-05-20</td>\n",
       "      <td>ba389ddab4be9235ded54db48a4dc02c</td>\n",
       "      <td>These Vicious Masks (These Vicious Masks, #1)</td>\n",
       "      <td>England, 1882. Evelyn is bored with society an...</td>\n",
       "      <td>2016.0</td>\n",
       "      <td>...</td>\n",
       "      <td>3.67</td>\n",
       "      <td>3046.0</td>\n",
       "      <td>298.0</td>\n",
       "      <td>11178.82</td>\n",
       "      <td>{'fantasy, paranormal': 688, 'fiction': 398, '...</td>\n",
       "      <td>fantasy, paranormal</td>\n",
       "      <td>[0]</td>\n",
       "      <td>[Fun train read!]</td>\n",
       "      <td>es</td>\n",
       "      <td>es</td>\n",
       "    </tr>\n",
       "    <tr>\n",
       "      <th>1336307</th>\n",
       "      <td>53447</td>\n",
       "      <td>True</td>\n",
       "      <td>4</td>\n",
       "      <td>93926e566ae04ed8f325ee0c70286ae5</td>\n",
       "      <td>[[0, For practice I decided that I'd write thi...</td>\n",
       "      <td>2016-06-15</td>\n",
       "      <td>7e78b8cabbd9ad0b8e522a4e4211dceb</td>\n",
       "      <td>El túnel</td>\n",
       "      <td>Breve e intensa novela publicada en 1948, este...</td>\n",
       "      <td>2003.0</td>\n",
       "      <td>...</td>\n",
       "      <td>4.04</td>\n",
       "      <td>23947.0</td>\n",
       "      <td>NaN</td>\n",
       "      <td>96745.88</td>\n",
       "      <td>{'fiction': 255, 'mystery, thriller, crime': 3...</td>\n",
       "      <td>fiction</td>\n",
       "      <td>[0, 0, 0, 0, 0, 0, 0, 0, 0, 0, 0, 0, 0, 0, 0, ...</td>\n",
       "      <td>[For practice I decided that I'd write this re...</td>\n",
       "      <td>es</td>\n",
       "      <td>en</td>\n",
       "    </tr>\n",
       "    <tr>\n",
       "      <th>1196218</th>\n",
       "      <td>22929092</td>\n",
       "      <td>False</td>\n",
       "      <td>4</td>\n",
       "      <td>ceee3616969df2cdb93b87b5203e3a05</td>\n",
       "      <td>[[0, Can I have a sequel please?]]</td>\n",
       "      <td>2015-06-20</td>\n",
       "      <td>baca00f51cdc1b9f3a83dcb5b4c17a7d</td>\n",
       "      <td>Sisters of Blood and Spirit (The Sisters of Bl...</td>\n",
       "      <td>Wren Noble is dead--she was born that way. Vib...</td>\n",
       "      <td>2015.0</td>\n",
       "      <td>...</td>\n",
       "      <td>3.89</td>\n",
       "      <td>1022.0</td>\n",
       "      <td>288.0</td>\n",
       "      <td>3975.58</td>\n",
       "      <td>{'young-adult': 123, 'fantasy, paranormal': 17...</td>\n",
       "      <td>fantasy, paranormal</td>\n",
       "      <td>[0]</td>\n",
       "      <td>[Can I have a sequel please?]</td>\n",
       "      <td>es</td>\n",
       "      <td>es</td>\n",
       "    </tr>\n",
       "    <tr>\n",
       "      <th>596079</th>\n",
       "      <td>19358975</td>\n",
       "      <td>False</td>\n",
       "      <td>5</td>\n",
       "      <td>aa70138de7216f6a433f5ffaee61fa66</td>\n",
       "      <td>[[0, Gracias Patrick Rothfuss por tu recomenda...</td>\n",
       "      <td>2015-12-03</td>\n",
       "      <td>c33e19d2d976c5e96a044c885e4464e2</td>\n",
       "      <td>Saga, Vol. 3 (Saga, #3)</td>\n",
       "      <td>From the Hugo Award-winning duo of Brian K. Va...</td>\n",
       "      <td>2014.0</td>\n",
       "      <td>...</td>\n",
       "      <td>4.55</td>\n",
       "      <td>50020.0</td>\n",
       "      <td>144.0</td>\n",
       "      <td>227591.00</td>\n",
       "      <td>{'comics, graphic': 10495, 'fantasy, paranorma...</td>\n",
       "      <td>comics, graphic</td>\n",
       "      <td>[0]</td>\n",
       "      <td>[Gracias Patrick Rothfuss por tu recomendacion...</td>\n",
       "      <td>es</td>\n",
       "      <td>en</td>\n",
       "    </tr>\n",
       "    <tr>\n",
       "      <th>231317</th>\n",
       "      <td>930</td>\n",
       "      <td>False</td>\n",
       "      <td>3</td>\n",
       "      <td>5daa50cd5da4c2ad2ad5dbdea7fb3b9e</td>\n",
       "      <td>[[0, An enjoyable enough read.]]</td>\n",
       "      <td>2008-12-17</td>\n",
       "      <td>d4561da2ab37f84dd70f6ae40fdd96d0</td>\n",
       "      <td>Memoirs of a Geisha</td>\n",
       "      <td>A literary sensation and runaway bestseller, t...</td>\n",
       "      <td>2005.0</td>\n",
       "      <td>...</td>\n",
       "      <td>4.08</td>\n",
       "      <td>1301962.0</td>\n",
       "      <td>434.0</td>\n",
       "      <td>5312004.96</td>\n",
       "      <td>{'fiction': 17490, 'history, historical fictio...</td>\n",
       "      <td>fiction</td>\n",
       "      <td>[0]</td>\n",
       "      <td>[An enjoyable enough read.]</td>\n",
       "      <td>es</td>\n",
       "      <td>es</td>\n",
       "    </tr>\n",
       "    <tr>\n",
       "      <th>621343</th>\n",
       "      <td>26148181</td>\n",
       "      <td>False</td>\n",
       "      <td>5</td>\n",
       "      <td>b481122ff4db24dc7ce8ee2d0e993b8a</td>\n",
       "      <td>[[0, And then we end--we end where we started....</td>\n",
       "      <td>2017-04-11</td>\n",
       "      <td>d174e7b353f97cc14ff7347b34b23164</td>\n",
       "      <td>Some Kind of Perfect (Calloway Sisters, #4.5; ...</td>\n",
       "      <td>Falling in love was just the beginning\\nThe co...</td>\n",
       "      <td>2016.0</td>\n",
       "      <td>...</td>\n",
       "      <td>4.67</td>\n",
       "      <td>2303.0</td>\n",
       "      <td>664.0</td>\n",
       "      <td>10755.01</td>\n",
       "      <td>{'romance': 96, 'fiction': 5}</td>\n",
       "      <td>romance</td>\n",
       "      <td>[0, 0, 0, 0]</td>\n",
       "      <td>[And then we end--we end where we started., Ju...</td>\n",
       "      <td>es</td>\n",
       "      <td>en</td>\n",
       "    </tr>\n",
       "    <tr>\n",
       "      <th>209767</th>\n",
       "      <td>18459855</td>\n",
       "      <td>False</td>\n",
       "      <td>0</td>\n",
       "      <td>7a554118a5cc9cee14dc496a533e8137</td>\n",
       "      <td>[[0, A sequel?], [0, Interesting...]]</td>\n",
       "      <td>2014-02-12</td>\n",
       "      <td>ee7cba4a36e7556b0848707c4622ed6b</td>\n",
       "      <td>Another Day (Every Day, #2)</td>\n",
       "      <td>Every day is the same for Rhiannon. She has ac...</td>\n",
       "      <td>2015.0</td>\n",
       "      <td>...</td>\n",
       "      <td>3.67</td>\n",
       "      <td>9532.0</td>\n",
       "      <td>327.0</td>\n",
       "      <td>34982.44</td>\n",
       "      <td>{'young-adult': 503, 'romance': 199, 'fantasy,...</td>\n",
       "      <td>young-adult</td>\n",
       "      <td>[0, 0]</td>\n",
       "      <td>[A sequel?, Interesting...]</td>\n",
       "      <td>es</td>\n",
       "      <td>es</td>\n",
       "    </tr>\n",
       "    <tr>\n",
       "      <th>944602</th>\n",
       "      <td>23012475</td>\n",
       "      <td>False</td>\n",
       "      <td>3</td>\n",
       "      <td>dcb109bb49d3baec26888257e1e2c662</td>\n",
       "      <td>[[0, Perfectly enjoyable, very quick read.]]</td>\n",
       "      <td>2017-09-01</td>\n",
       "      <td>a76a9b72ef19a0d183094cb715c3003f</td>\n",
       "      <td>The Knockoff</td>\n",
       "      <td>An outrageously stylish, wickedly funny novel ...</td>\n",
       "      <td>2015.0</td>\n",
       "      <td>...</td>\n",
       "      <td>3.63</td>\n",
       "      <td>8169.0</td>\n",
       "      <td>352.0</td>\n",
       "      <td>29653.47</td>\n",
       "      <td>{'fiction': 257, 'romance': 3}</td>\n",
       "      <td>fiction</td>\n",
       "      <td>[0]</td>\n",
       "      <td>[Perfectly enjoyable, very quick read.]</td>\n",
       "      <td>es</td>\n",
       "      <td>es</td>\n",
       "    </tr>\n",
       "    <tr>\n",
       "      <th>907843</th>\n",
       "      <td>30226723</td>\n",
       "      <td>False</td>\n",
       "      <td>3</td>\n",
       "      <td>f47857bfb0eb6f62b809d3da81a2a6df</td>\n",
       "      <td>[[0, So close yet so far...]]</td>\n",
       "      <td>2017-08-22</td>\n",
       "      <td>a2738f7dff33a396968e2373cd6424ec</td>\n",
       "      <td>King's Cage (Red Queen, #3)</td>\n",
       "      <td>In this breathless third installment to Victor...</td>\n",
       "      <td>2017.0</td>\n",
       "      <td>...</td>\n",
       "      <td>4.02</td>\n",
       "      <td>36923.0</td>\n",
       "      <td>528.0</td>\n",
       "      <td>148430.46</td>\n",
       "      <td>{'fantasy, paranormal': 1584, 'young-adult': 1...</td>\n",
       "      <td>fantasy, paranormal</td>\n",
       "      <td>[0]</td>\n",
       "      <td>[So close yet so far...]</td>\n",
       "      <td>es</td>\n",
       "      <td>es</td>\n",
       "    </tr>\n",
       "    <tr>\n",
       "      <th>438988</th>\n",
       "      <td>15790873</td>\n",
       "      <td>False</td>\n",
       "      <td>4</td>\n",
       "      <td>ae77634fd3fc7a8d93dc27771f762635</td>\n",
       "      <td>[[0, Cute, fun and quick read.]]</td>\n",
       "      <td>2013-05-02</td>\n",
       "      <td>26b6d2e8d2c2e2f76a70a3359ba76c6a</td>\n",
       "      <td>This Is What Happy Looks Like (This is What Ha...</td>\n",
       "      <td>If fate sent you an email, would you answer?\\n...</td>\n",
       "      <td>2013.0</td>\n",
       "      <td>...</td>\n",
       "      <td>3.69</td>\n",
       "      <td>40926.0</td>\n",
       "      <td>404.0</td>\n",
       "      <td>151016.94</td>\n",
       "      <td>{'young-adult': 1598, 'romance': 1122, 'fictio...</td>\n",
       "      <td>young-adult</td>\n",
       "      <td>[0]</td>\n",
       "      <td>[Cute, fun and quick read.]</td>\n",
       "      <td>es</td>\n",
       "      <td>es</td>\n",
       "    </tr>\n",
       "    <tr>\n",
       "      <th>492582</th>\n",
       "      <td>21956219</td>\n",
       "      <td>False</td>\n",
       "      <td>5</td>\n",
       "      <td>cf795a7f4adb5c520aa74a11141a34b8</td>\n",
       "      <td>[[0, re-read love]]</td>\n",
       "      <td>2016-07-02</td>\n",
       "      <td>5daa00575d2f520c5ea507f1764b1c32</td>\n",
       "      <td>Assassin's Apprentice (Farseer Trilogy, #1)</td>\n",
       "      <td>Young Fitz is the bastard son of the noble Pri...</td>\n",
       "      <td>2014.0</td>\n",
       "      <td>...</td>\n",
       "      <td>4.14</td>\n",
       "      <td>1249.0</td>\n",
       "      <td>392.0</td>\n",
       "      <td>5170.86</td>\n",
       "      <td>{'fantasy, paranormal': 2098, 'fiction': 310}</td>\n",
       "      <td>fantasy, paranormal</td>\n",
       "      <td>[0]</td>\n",
       "      <td>[re-read love]</td>\n",
       "      <td>es</td>\n",
       "      <td>es</td>\n",
       "    </tr>\n",
       "    <tr>\n",
       "      <th>732728</th>\n",
       "      <td>18484807</td>\n",
       "      <td>False</td>\n",
       "      <td>3</td>\n",
       "      <td>750de7b31aac25c55403073ed39c0dfa</td>\n",
       "      <td>[[0, I decided to delete my review...:) :)]]</td>\n",
       "      <td>2016-10-07</td>\n",
       "      <td>059f12db0f67b39ca212ddfd2b903814</td>\n",
       "      <td>Hello, I Love You</td>\n",
       "      <td>A teen escapes to a boarding school abroad and...</td>\n",
       "      <td>2015.0</td>\n",
       "      <td>...</td>\n",
       "      <td>3.47</td>\n",
       "      <td>2619.0</td>\n",
       "      <td>304.0</td>\n",
       "      <td>9087.93</td>\n",
       "      <td>{'young-adult': 161, 'romance': 139, 'fiction'...</td>\n",
       "      <td>young-adult</td>\n",
       "      <td>[0]</td>\n",
       "      <td>[I decided to delete my review...:) :)]</td>\n",
       "      <td>es</td>\n",
       "      <td>es</td>\n",
       "    </tr>\n",
       "    <tr>\n",
       "      <th>1278217</th>\n",
       "      <td>11550149</td>\n",
       "      <td>False</td>\n",
       "      <td>5</td>\n",
       "      <td>d7252cce3efd5816d80b9a7a42d2a9a2</td>\n",
       "      <td>[[0, I love you, Percy &lt;3]]</td>\n",
       "      <td>2015-12-05</td>\n",
       "      <td>3687fcc87a9c2d733df8cfc43ae8dcfe</td>\n",
       "      <td>The Son of Neptune (The Heroes of Olympus, #2)</td>\n",
       "      <td>ONE CURSED DEMIGOD.\\nTWO NEW HEROES.\\nA QUEST ...</td>\n",
       "      <td>2011.0</td>\n",
       "      <td>...</td>\n",
       "      <td>4.44</td>\n",
       "      <td>7534.0</td>\n",
       "      <td>513.0</td>\n",
       "      <td>33450.96</td>\n",
       "      <td>{'young-adult': 3021, 'fiction': 1064, 'childr...</td>\n",
       "      <td>young-adult</td>\n",
       "      <td>[0]</td>\n",
       "      <td>[I love you, Percy &lt;3]</td>\n",
       "      <td>es</td>\n",
       "      <td>es</td>\n",
       "    </tr>\n",
       "    <tr>\n",
       "      <th>188667</th>\n",
       "      <td>19351043</td>\n",
       "      <td>False</td>\n",
       "      <td>5</td>\n",
       "      <td>f77986b12fc3b7f0353858b39a773a87</td>\n",
       "      <td>[[0, Such a fun read :D!]]</td>\n",
       "      <td>2015-06-25</td>\n",
       "      <td>8178777a29b29e44fcadc164240776d4</td>\n",
       "      <td>Nimona</td>\n",
       "      <td>The graphic novel debut from rising star Noell...</td>\n",
       "      <td>2015.0</td>\n",
       "      <td>...</td>\n",
       "      <td>4.20</td>\n",
       "      <td>48365.0</td>\n",
       "      <td>272.0</td>\n",
       "      <td>203133.00</td>\n",
       "      <td>{'comics, graphic': 9167, 'fantasy, paranormal...</td>\n",
       "      <td>comics, graphic</td>\n",
       "      <td>[0]</td>\n",
       "      <td>[Such a fun read :D!]</td>\n",
       "      <td>es</td>\n",
       "      <td>es</td>\n",
       "    </tr>\n",
       "    <tr>\n",
       "      <th>1371939</th>\n",
       "      <td>29102570</td>\n",
       "      <td>False</td>\n",
       "      <td>3</td>\n",
       "      <td>74dc4c219948331ac185448d36382276</td>\n",
       "      <td>[[0, An enjoyable read.], [0, Full review to c...</td>\n",
       "      <td>2016-05-24</td>\n",
       "      <td>f07f338e18b0a7caef9d683408d48e94</td>\n",
       "      <td>Beauty and the Highland Beast (A Highland Fair...</td>\n",
       "      <td>Powerful and dangerous highlander Dair Sinclai...</td>\n",
       "      <td>2016.0</td>\n",
       "      <td>...</td>\n",
       "      <td>3.88</td>\n",
       "      <td>386.0</td>\n",
       "      <td>279.0</td>\n",
       "      <td>1497.68</td>\n",
       "      <td>{'romance': 88, 'history, historical fiction, ...</td>\n",
       "      <td>history, historical fiction, biography</td>\n",
       "      <td>[0, 0]</td>\n",
       "      <td>[An enjoyable read., Full review to come.]</td>\n",
       "      <td>es</td>\n",
       "      <td>es</td>\n",
       "    </tr>\n",
       "    <tr>\n",
       "      <th>639524</th>\n",
       "      <td>24365190</td>\n",
       "      <td>False</td>\n",
       "      <td>5</td>\n",
       "      <td>27bda37484fb1f33136af9aa76cb3473</td>\n",
       "      <td>[[0, Esto me dan muchas ganas de leer The Last...</td>\n",
       "      <td>2017-07-13</td>\n",
       "      <td>b3785bf1db8ab98aede4d6a5bc7bf7da</td>\n",
       "      <td>Nothing but Shadows (Tales from Shadowhunter A...</td>\n",
       "      <td>Simon learns about James Herondale's time at S...</td>\n",
       "      <td>NaN</td>\n",
       "      <td>...</td>\n",
       "      <td>4.45</td>\n",
       "      <td>12621.0</td>\n",
       "      <td>96.0</td>\n",
       "      <td>56163.45</td>\n",
       "      <td>{'fantasy, paranormal': 536, 'young-adult': 30...</td>\n",
       "      <td>fantasy, paranormal</td>\n",
       "      <td>[0, 0]</td>\n",
       "      <td>[Esto me dan muchas ganas de leer The Last Hou...</td>\n",
       "      <td>es</td>\n",
       "      <td>es</td>\n",
       "    </tr>\n",
       "    <tr>\n",
       "      <th>1188121</th>\n",
       "      <td>20442441</td>\n",
       "      <td>False</td>\n",
       "      <td>3</td>\n",
       "      <td>5c500ff816a0f0a4d8a9177cf6ff637a</td>\n",
       "      <td>[[0, Time pass predictable romance .], [0, qui...</td>\n",
       "      <td>2014-01-13</td>\n",
       "      <td>e8e76ccff6ecdb653678fa4d175af0d6</td>\n",
       "      <td>Love at Stake (Fated Match, #1)</td>\n",
       "      <td>Abbey is the lone human working for Fated Matc...</td>\n",
       "      <td>2014.0</td>\n",
       "      <td>...</td>\n",
       "      <td>3.76</td>\n",
       "      <td>487.0</td>\n",
       "      <td>225.0</td>\n",
       "      <td>1831.12</td>\n",
       "      <td>{'fantasy, paranormal': 63, 'romance': 32, 'fi...</td>\n",
       "      <td>fantasy, paranormal</td>\n",
       "      <td>[0, 0]</td>\n",
       "      <td>[Time pass predictable romance ., quick read :)]</td>\n",
       "      <td>es</td>\n",
       "      <td>en</td>\n",
       "    </tr>\n",
       "    <tr>\n",
       "      <th>7410</th>\n",
       "      <td>2767052</td>\n",
       "      <td>False</td>\n",
       "      <td>5</td>\n",
       "      <td>db1d8820a4641c44256f2620da545d5e</td>\n",
       "      <td>[[0, read 12/2012], [0, reread 11/10/2014]]</td>\n",
       "      <td>2014-11-10</td>\n",
       "      <td>a4f0360340e5aab11d1dc5ac43086051</td>\n",
       "      <td>The Hunger Games (The Hunger Games, #1)</td>\n",
       "      <td>Winning will make you famous.\\nLosing means ce...</td>\n",
       "      <td>2008.0</td>\n",
       "      <td>...</td>\n",
       "      <td>4.34</td>\n",
       "      <td>4899965.0</td>\n",
       "      <td>374.0</td>\n",
       "      <td>21265848.10</td>\n",
       "      <td>{'young-adult': 30173, 'fiction': 26304, 'fant...</td>\n",
       "      <td>young-adult</td>\n",
       "      <td>[0, 0]</td>\n",
       "      <td>[read 12/2012, reread 11/10/2014]</td>\n",
       "      <td>es</td>\n",
       "      <td>es</td>\n",
       "    </tr>\n",
       "    <tr>\n",
       "      <th>973511</th>\n",
       "      <td>6202318</td>\n",
       "      <td>False</td>\n",
       "      <td>4</td>\n",
       "      <td>f579d7941e1e916126c501d4725563a2</td>\n",
       "      <td>[[0, A quick and enjoyable read!]]</td>\n",
       "      <td>2010-06-13</td>\n",
       "      <td>607f7cfca04b84df53cd7f2117a0164f</td>\n",
       "      <td>A Touch of Dead (Sookie Stackhouse, #4.1, #4.3...</td>\n",
       "      <td>Every Sookie Stackhouse short story ever writt...</td>\n",
       "      <td>2009.0</td>\n",
       "      <td>...</td>\n",
       "      <td>3.82</td>\n",
       "      <td>36324.0</td>\n",
       "      <td>192.0</td>\n",
       "      <td>138757.68</td>\n",
       "      <td>{'fantasy, paranormal': 1621, 'fiction': 398, ...</td>\n",
       "      <td>fantasy, paranormal</td>\n",
       "      <td>[0]</td>\n",
       "      <td>[A quick and enjoyable read!]</td>\n",
       "      <td>es</td>\n",
       "      <td>es</td>\n",
       "    </tr>\n",
       "    <tr>\n",
       "      <th>1210396</th>\n",
       "      <td>21822422</td>\n",
       "      <td>False</td>\n",
       "      <td>5</td>\n",
       "      <td>bca1609b8b72df1ea210dea891fd3876</td>\n",
       "      <td>[[0, Cute quick read!]]</td>\n",
       "      <td>2017-01-07</td>\n",
       "      <td>cfec2c996fb180f7eec33e55889f54fe</td>\n",
       "      <td>We Should Hang Out Sometime: Embarrassingly, a...</td>\n",
       "      <td>A bright, poignant, and deeply funny autobiogr...</td>\n",
       "      <td>2014.0</td>\n",
       "      <td>...</td>\n",
       "      <td>3.84</td>\n",
       "      <td>7473.0</td>\n",
       "      <td>326.0</td>\n",
       "      <td>28696.32</td>\n",
       "      <td>{'non-fiction': 495, 'young-adult': 122, 'roma...</td>\n",
       "      <td>non-fiction</td>\n",
       "      <td>[0]</td>\n",
       "      <td>[Cute quick read!]</td>\n",
       "      <td>es</td>\n",
       "      <td>es</td>\n",
       "    </tr>\n",
       "    <tr>\n",
       "      <th>774346</th>\n",
       "      <td>28372019</td>\n",
       "      <td>False</td>\n",
       "      <td>3</td>\n",
       "      <td>3d3af54dc8daab1b533284a1ca49cb7f</td>\n",
       "      <td>[[0, Very cute, quick read.]]</td>\n",
       "      <td>2017-09-07</td>\n",
       "      <td>54ac4fe7ffd2932c52f84c3029d5fb57</td>\n",
       "      <td>The Bookshop on the Corner</td>\n",
       "      <td>Nina Redmond is a literary matchmaker. Pairing...</td>\n",
       "      <td>2016.0</td>\n",
       "      <td>...</td>\n",
       "      <td>3.87</td>\n",
       "      <td>10790.0</td>\n",
       "      <td>368.0</td>\n",
       "      <td>41757.30</td>\n",
       "      <td>{'romance': 268, 'fiction': 204}</td>\n",
       "      <td>romance</td>\n",
       "      <td>[0]</td>\n",
       "      <td>[Very cute, quick read.]</td>\n",
       "      <td>es</td>\n",
       "      <td>es</td>\n",
       "    </tr>\n",
       "    <tr>\n",
       "      <th>288931</th>\n",
       "      <td>17228280</td>\n",
       "      <td>True</td>\n",
       "      <td>5</td>\n",
       "      <td>cb1ddb63026c1a23385551ea94ef7795</td>\n",
       "      <td>[[0, \"I would've blown away every last runner ...</td>\n",
       "      <td>2015-02-07</td>\n",
       "      <td>a093a1f5125ae4fa2b185811abd31a62</td>\n",
       "      <td>Better off Friends</td>\n",
       "      <td>For Macallan and Levi, it was friends at first...</td>\n",
       "      <td>2014.0</td>\n",
       "      <td>...</td>\n",
       "      <td>3.95</td>\n",
       "      <td>15979.0</td>\n",
       "      <td>288.0</td>\n",
       "      <td>63117.05</td>\n",
       "      <td>{'young-adult': 721, 'romance': 526, 'fiction'...</td>\n",
       "      <td>young-adult</td>\n",
       "      <td>[0, 0, 0, 0, 0, 0, 0, 1, 1, 0, 0]</td>\n",
       "      <td>[\"I would've blown away every last runner that...</td>\n",
       "      <td>es</td>\n",
       "      <td>en</td>\n",
       "    </tr>\n",
       "    <tr>\n",
       "      <th>1100109</th>\n",
       "      <td>227443</td>\n",
       "      <td>False</td>\n",
       "      <td>4</td>\n",
       "      <td>9f88dc97cb98b194e1594ce0cd8f7476</td>\n",
       "      <td>[[0, Fun, quick and breezy read!]]</td>\n",
       "      <td>2017-02-09</td>\n",
       "      <td>ef5fae17e641145ef0624ac9cb2677ae</td>\n",
       "      <td>Bridget Jones's Diary (Bridget Jones, #1)</td>\n",
       "      <td>Meet Bridget Jones--a 30-something Singleton w...</td>\n",
       "      <td>1999.0</td>\n",
       "      <td>...</td>\n",
       "      <td>3.75</td>\n",
       "      <td>748926.0</td>\n",
       "      <td>288.0</td>\n",
       "      <td>2808472.50</td>\n",
       "      <td>{'fiction': 5023, 'romance': 2460}</td>\n",
       "      <td>fiction</td>\n",
       "      <td>[0]</td>\n",
       "      <td>[Fun, quick and breezy read!]</td>\n",
       "      <td>es</td>\n",
       "      <td>es</td>\n",
       "    </tr>\n",
       "    <tr>\n",
       "      <th>309246</th>\n",
       "      <td>8909152</td>\n",
       "      <td>False</td>\n",
       "      <td>5</td>\n",
       "      <td>d97f9919b8cc7641479e353b5714bc71</td>\n",
       "      <td>[[0, Adorable.], [0, Absolutely adorable.]]</td>\n",
       "      <td>2015-07-05</td>\n",
       "      <td>f4f9b72e9ba36e8a5dd0d12afeb8b3a0</td>\n",
       "      <td>Attachments</td>\n",
       "      <td>\"Hi, I'm the guy who reads your e-mail, and al...</td>\n",
       "      <td>NaN</td>\n",
       "      <td>...</td>\n",
       "      <td>3.95</td>\n",
       "      <td>109186.0</td>\n",
       "      <td>323.0</td>\n",
       "      <td>431284.70</td>\n",
       "      <td>{'romance': 2649, 'fiction': 2620, 'young-adul...</td>\n",
       "      <td>romance</td>\n",
       "      <td>[0, 0]</td>\n",
       "      <td>[Adorable., Absolutely adorable.]</td>\n",
       "      <td>es</td>\n",
       "      <td>es</td>\n",
       "    </tr>\n",
       "    <tr>\n",
       "      <th>103085</th>\n",
       "      <td>13406425</td>\n",
       "      <td>False</td>\n",
       "      <td>4</td>\n",
       "      <td>8727cd19dd3c0114a7112021cf16b568</td>\n",
       "      <td>[[0, such a fun read!]]</td>\n",
       "      <td>2015-08-13</td>\n",
       "      <td>833a3b4ae7ca76e1febde533f0ee9412</td>\n",
       "      <td>Burn for Burn (Burn for Burn, #1)</td>\n",
       "      <td>Postcard-perfect Jar Island is home to charmin...</td>\n",
       "      <td>2012.0</td>\n",
       "      <td>...</td>\n",
       "      <td>3.87</td>\n",
       "      <td>19211.0</td>\n",
       "      <td>356.0</td>\n",
       "      <td>74346.57</td>\n",
       "      <td>{'young-adult': 884, 'romance': 182, 'fantasy,...</td>\n",
       "      <td>young-adult</td>\n",
       "      <td>[0]</td>\n",
       "      <td>[such a fun read!]</td>\n",
       "      <td>es</td>\n",
       "      <td>es</td>\n",
       "    </tr>\n",
       "  </tbody>\n",
       "</table>\n",
       "<p>27 rows × 22 columns</p>\n",
       "</div>"
      ],
      "text/plain": [
       "          book_id  has_spoiler  rating                         review_id  \\\n",
       "77919     7260188        False       3  2c1141bc7a47a3faa147743b7899bc56   \n",
       "1046929  10380227        False       4  0dfb32ed2e9b1dd5cece24534341d8ab   \n",
       "847263   23688792        False       4  603b47ffe8c74092ea409388eb255935   \n",
       "1336307     53447         True       4  93926e566ae04ed8f325ee0c70286ae5   \n",
       "1196218  22929092        False       4  ceee3616969df2cdb93b87b5203e3a05   \n",
       "596079   19358975        False       5  aa70138de7216f6a433f5ffaee61fa66   \n",
       "231317        930        False       3  5daa50cd5da4c2ad2ad5dbdea7fb3b9e   \n",
       "621343   26148181        False       5  b481122ff4db24dc7ce8ee2d0e993b8a   \n",
       "209767   18459855        False       0  7a554118a5cc9cee14dc496a533e8137   \n",
       "944602   23012475        False       3  dcb109bb49d3baec26888257e1e2c662   \n",
       "907843   30226723        False       3  f47857bfb0eb6f62b809d3da81a2a6df   \n",
       "438988   15790873        False       4  ae77634fd3fc7a8d93dc27771f762635   \n",
       "492582   21956219        False       5  cf795a7f4adb5c520aa74a11141a34b8   \n",
       "732728   18484807        False       3  750de7b31aac25c55403073ed39c0dfa   \n",
       "1278217  11550149        False       5  d7252cce3efd5816d80b9a7a42d2a9a2   \n",
       "188667   19351043        False       5  f77986b12fc3b7f0353858b39a773a87   \n",
       "1371939  29102570        False       3  74dc4c219948331ac185448d36382276   \n",
       "639524   24365190        False       5  27bda37484fb1f33136af9aa76cb3473   \n",
       "1188121  20442441        False       3  5c500ff816a0f0a4d8a9177cf6ff637a   \n",
       "7410      2767052        False       5  db1d8820a4641c44256f2620da545d5e   \n",
       "973511    6202318        False       4  f579d7941e1e916126c501d4725563a2   \n",
       "1210396  21822422        False       5  bca1609b8b72df1ea210dea891fd3876   \n",
       "774346   28372019        False       3  3d3af54dc8daab1b533284a1ca49cb7f   \n",
       "288931   17228280         True       5  cb1ddb63026c1a23385551ea94ef7795   \n",
       "1100109    227443        False       4  9f88dc97cb98b194e1594ce0cd8f7476   \n",
       "309246    8909152        False       5  d97f9919b8cc7641479e353b5714bc71   \n",
       "103085   13406425        False       4  8727cd19dd3c0114a7112021cf16b568   \n",
       "\n",
       "                                          review_sentences  timestamp  \\\n",
       "77919    [[0, ** spoiler alert **], [0, Bueno fue un fi... 2017-07-12   \n",
       "1046929  [[0, Awsome!!!], [0, i really relly love it!!]... 2013-04-12   \n",
       "847263                              [[0, Fun train read!]] 2016-05-20   \n",
       "1336307  [[0, For practice I decided that I'd write thi... 2016-06-15   \n",
       "1196218                 [[0, Can I have a sequel please?]] 2015-06-20   \n",
       "596079   [[0, Gracias Patrick Rothfuss por tu recomenda... 2015-12-03   \n",
       "231317                    [[0, An enjoyable enough read.]] 2008-12-17   \n",
       "621343   [[0, And then we end--we end where we started.... 2017-04-11   \n",
       "209767               [[0, A sequel?], [0, Interesting...]] 2014-02-12   \n",
       "944602        [[0, Perfectly enjoyable, very quick read.]] 2017-09-01   \n",
       "907843                       [[0, So close yet so far...]] 2017-08-22   \n",
       "438988                    [[0, Cute, fun and quick read.]] 2013-05-02   \n",
       "492582                                 [[0, re-read love]] 2016-07-02   \n",
       "732728        [[0, I decided to delete my review...:) :)]] 2016-10-07   \n",
       "1278217                        [[0, I love you, Percy <3]] 2015-12-05   \n",
       "188667                          [[0, Such a fun read :D!]] 2015-06-25   \n",
       "1371939  [[0, An enjoyable read.], [0, Full review to c... 2016-05-24   \n",
       "639524   [[0, Esto me dan muchas ganas de leer The Last... 2017-07-13   \n",
       "1188121  [[0, Time pass predictable romance .], [0, qui... 2014-01-13   \n",
       "7410           [[0, read 12/2012], [0, reread 11/10/2014]] 2014-11-10   \n",
       "973511                  [[0, A quick and enjoyable read!]] 2010-06-13   \n",
       "1210396                            [[0, Cute quick read!]] 2017-01-07   \n",
       "774346                       [[0, Very cute, quick read.]] 2017-09-07   \n",
       "288931   [[0, \"I would've blown away every last runner ... 2015-02-07   \n",
       "1100109                 [[0, Fun, quick and breezy read!]] 2017-02-09   \n",
       "309246         [[0, Adorable.], [0, Absolutely adorable.]] 2015-07-05   \n",
       "103085                             [[0, such a fun read!]] 2015-08-13   \n",
       "\n",
       "                                  user_id  \\\n",
       "77919    c70ab1b4db941ac888e3ef5786e3132f   \n",
       "1046929  a579444cf167fdcc9587c8e05985228f   \n",
       "847263   ba389ddab4be9235ded54db48a4dc02c   \n",
       "1336307  7e78b8cabbd9ad0b8e522a4e4211dceb   \n",
       "1196218  baca00f51cdc1b9f3a83dcb5b4c17a7d   \n",
       "596079   c33e19d2d976c5e96a044c885e4464e2   \n",
       "231317   d4561da2ab37f84dd70f6ae40fdd96d0   \n",
       "621343   d174e7b353f97cc14ff7347b34b23164   \n",
       "209767   ee7cba4a36e7556b0848707c4622ed6b   \n",
       "944602   a76a9b72ef19a0d183094cb715c3003f   \n",
       "907843   a2738f7dff33a396968e2373cd6424ec   \n",
       "438988   26b6d2e8d2c2e2f76a70a3359ba76c6a   \n",
       "492582   5daa00575d2f520c5ea507f1764b1c32   \n",
       "732728   059f12db0f67b39ca212ddfd2b903814   \n",
       "1278217  3687fcc87a9c2d733df8cfc43ae8dcfe   \n",
       "188667   8178777a29b29e44fcadc164240776d4   \n",
       "1371939  f07f338e18b0a7caef9d683408d48e94   \n",
       "639524   b3785bf1db8ab98aede4d6a5bc7bf7da   \n",
       "1188121  e8e76ccff6ecdb653678fa4d175af0d6   \n",
       "7410     a4f0360340e5aab11d1dc5ac43086051   \n",
       "973511   607f7cfca04b84df53cd7f2117a0164f   \n",
       "1210396  cfec2c996fb180f7eec33e55889f54fe   \n",
       "774346   54ac4fe7ffd2932c52f84c3029d5fb57   \n",
       "288931   a093a1f5125ae4fa2b185811abd31a62   \n",
       "1100109  ef5fae17e641145ef0624ac9cb2677ae   \n",
       "309246   f4f9b72e9ba36e8a5dd0d12afeb8b3a0   \n",
       "103085   833a3b4ae7ca76e1febde533f0ee9412   \n",
       "\n",
       "                                                     title  \\\n",
       "77919                    Mockingjay (The Hunger Games, #3)   \n",
       "1046929                          Unlovable (Port Fare, #1)   \n",
       "847263       These Vicious Masks (These Vicious Masks, #1)   \n",
       "1336307                                           El túnel   \n",
       "1196218  Sisters of Blood and Spirit (The Sisters of Bl...   \n",
       "596079                             Saga, Vol. 3 (Saga, #3)   \n",
       "231317                                 Memoirs of a Geisha   \n",
       "621343   Some Kind of Perfect (Calloway Sisters, #4.5; ...   \n",
       "209767                         Another Day (Every Day, #2)   \n",
       "944602                                        The Knockoff   \n",
       "907843                         King's Cage (Red Queen, #3)   \n",
       "438988   This Is What Happy Looks Like (This is What Ha...   \n",
       "492582         Assassin's Apprentice (Farseer Trilogy, #1)   \n",
       "732728                                   Hello, I Love You   \n",
       "1278217     The Son of Neptune (The Heroes of Olympus, #2)   \n",
       "188667                                              Nimona   \n",
       "1371939  Beauty and the Highland Beast (A Highland Fair...   \n",
       "639524   Nothing but Shadows (Tales from Shadowhunter A...   \n",
       "1188121                    Love at Stake (Fated Match, #1)   \n",
       "7410               The Hunger Games (The Hunger Games, #1)   \n",
       "973511   A Touch of Dead (Sookie Stackhouse, #4.1, #4.3...   \n",
       "1210396  We Should Hang Out Sometime: Embarrassingly, a...   \n",
       "774346                          The Bookshop on the Corner   \n",
       "288931                                  Better off Friends   \n",
       "1100109          Bridget Jones's Diary (Bridget Jones, #1)   \n",
       "309246                                         Attachments   \n",
       "103085                   Burn for Burn (Burn for Burn, #1)   \n",
       "\n",
       "                                               description  publication_year  \\\n",
       "77919    My name is Katniss Everdeen.\\nWhy am I not dea...            2010.0   \n",
       "1046929  Port Fare, New York, has fallen into the clutc...            2011.0   \n",
       "847263   England, 1882. Evelyn is bored with society an...            2016.0   \n",
       "1336307  Breve e intensa novela publicada en 1948, este...            2003.0   \n",
       "1196218  Wren Noble is dead--she was born that way. Vib...            2015.0   \n",
       "596079   From the Hugo Award-winning duo of Brian K. Va...            2014.0   \n",
       "231317   A literary sensation and runaway bestseller, t...            2005.0   \n",
       "621343   Falling in love was just the beginning\\nThe co...            2016.0   \n",
       "209767   Every day is the same for Rhiannon. She has ac...            2015.0   \n",
       "944602   An outrageously stylish, wickedly funny novel ...            2015.0   \n",
       "907843   In this breathless third installment to Victor...            2017.0   \n",
       "438988   If fate sent you an email, would you answer?\\n...            2013.0   \n",
       "492582   Young Fitz is the bastard son of the noble Pri...            2014.0   \n",
       "732728   A teen escapes to a boarding school abroad and...            2015.0   \n",
       "1278217  ONE CURSED DEMIGOD.\\nTWO NEW HEROES.\\nA QUEST ...            2011.0   \n",
       "188667   The graphic novel debut from rising star Noell...            2015.0   \n",
       "1371939  Powerful and dangerous highlander Dair Sinclai...            2016.0   \n",
       "639524   Simon learns about James Herondale's time at S...               NaN   \n",
       "1188121  Abbey is the lone human working for Fated Matc...            2014.0   \n",
       "7410     Winning will make you famous.\\nLosing means ce...            2008.0   \n",
       "973511   Every Sookie Stackhouse short story ever writt...            2009.0   \n",
       "1210396  A bright, poignant, and deeply funny autobiogr...            2014.0   \n",
       "774346   Nina Redmond is a literary matchmaker. Pairing...            2016.0   \n",
       "288931   For Macallan and Levi, it was friends at first...            2014.0   \n",
       "1100109  Meet Bridget Jones--a 30-something Singleton w...            1999.0   \n",
       "309246   \"Hi, I'm the guy who reads your e-mail, and al...               NaN   \n",
       "103085   Postcard-perfect Jar Island is home to charmin...            2012.0   \n",
       "\n",
       "         ...  average_rating  ratings_count  num_pages  \\\n",
       "77919    ...            4.03      1743362.0      392.0   \n",
       "1046929  ...            4.05         5989.0      520.0   \n",
       "847263   ...            3.67         3046.0      298.0   \n",
       "1336307  ...            4.04        23947.0        NaN   \n",
       "1196218  ...            3.89         1022.0      288.0   \n",
       "596079   ...            4.55        50020.0      144.0   \n",
       "231317   ...            4.08      1301962.0      434.0   \n",
       "621343   ...            4.67         2303.0      664.0   \n",
       "209767   ...            3.67         9532.0      327.0   \n",
       "944602   ...            3.63         8169.0      352.0   \n",
       "907843   ...            4.02        36923.0      528.0   \n",
       "438988   ...            3.69        40926.0      404.0   \n",
       "492582   ...            4.14         1249.0      392.0   \n",
       "732728   ...            3.47         2619.0      304.0   \n",
       "1278217  ...            4.44         7534.0      513.0   \n",
       "188667   ...            4.20        48365.0      272.0   \n",
       "1371939  ...            3.88          386.0      279.0   \n",
       "639524   ...            4.45        12621.0       96.0   \n",
       "1188121  ...            3.76          487.0      225.0   \n",
       "7410     ...            4.34      4899965.0      374.0   \n",
       "973511   ...            3.82        36324.0      192.0   \n",
       "1210396  ...            3.84         7473.0      326.0   \n",
       "774346   ...            3.87        10790.0      368.0   \n",
       "288931   ...            3.95        15979.0      288.0   \n",
       "1100109  ...            3.75       748926.0      288.0   \n",
       "309246   ...            3.95       109186.0      323.0   \n",
       "103085   ...            3.87        19211.0      356.0   \n",
       "\n",
       "         weighted_average_rating  \\\n",
       "77919                 7025748.86   \n",
       "1046929                 24255.45   \n",
       "847263                  11178.82   \n",
       "1336307                 96745.88   \n",
       "1196218                  3975.58   \n",
       "596079                 227591.00   \n",
       "231317                5312004.96   \n",
       "621343                  10755.01   \n",
       "209767                  34982.44   \n",
       "944602                  29653.47   \n",
       "907843                 148430.46   \n",
       "438988                 151016.94   \n",
       "492582                   5170.86   \n",
       "732728                   9087.93   \n",
       "1278217                 33450.96   \n",
       "188667                 203133.00   \n",
       "1371939                  1497.68   \n",
       "639524                  56163.45   \n",
       "1188121                  1831.12   \n",
       "7410                 21265848.10   \n",
       "973511                 138757.68   \n",
       "1210396                 28696.32   \n",
       "774346                  41757.30   \n",
       "288931                  63117.05   \n",
       "1100109               2808472.50   \n",
       "309246                 431284.70   \n",
       "103085                  74346.57   \n",
       "\n",
       "                                                    genres  \\\n",
       "77919    {'young-adult': 24271, 'fiction': 19653, 'fant...   \n",
       "1046929  {'young-adult': 159, 'romance': 170, 'fiction'...   \n",
       "847263   {'fantasy, paranormal': 688, 'fiction': 398, '...   \n",
       "1336307  {'fiction': 255, 'mystery, thriller, crime': 3...   \n",
       "1196218  {'young-adult': 123, 'fantasy, paranormal': 17...   \n",
       "596079   {'comics, graphic': 10495, 'fantasy, paranorma...   \n",
       "231317   {'fiction': 17490, 'history, historical fictio...   \n",
       "621343                       {'romance': 96, 'fiction': 5}   \n",
       "209767   {'young-adult': 503, 'romance': 199, 'fantasy,...   \n",
       "944602                      {'fiction': 257, 'romance': 3}   \n",
       "907843   {'fantasy, paranormal': 1584, 'young-adult': 1...   \n",
       "438988   {'young-adult': 1598, 'romance': 1122, 'fictio...   \n",
       "492582       {'fantasy, paranormal': 2098, 'fiction': 310}   \n",
       "732728   {'young-adult': 161, 'romance': 139, 'fiction'...   \n",
       "1278217  {'young-adult': 3021, 'fiction': 1064, 'childr...   \n",
       "188667   {'comics, graphic': 9167, 'fantasy, paranormal...   \n",
       "1371939  {'romance': 88, 'history, historical fiction, ...   \n",
       "639524   {'fantasy, paranormal': 536, 'young-adult': 30...   \n",
       "1188121  {'fantasy, paranormal': 63, 'romance': 32, 'fi...   \n",
       "7410     {'young-adult': 30173, 'fiction': 26304, 'fant...   \n",
       "973511   {'fantasy, paranormal': 1621, 'fiction': 398, ...   \n",
       "1210396  {'non-fiction': 495, 'young-adult': 122, 'roma...   \n",
       "774346                    {'romance': 268, 'fiction': 204}   \n",
       "288931   {'young-adult': 721, 'romance': 526, 'fiction'...   \n",
       "1100109                 {'fiction': 5023, 'romance': 2460}   \n",
       "309246   {'romance': 2649, 'fiction': 2620, 'young-adul...   \n",
       "103085   {'young-adult': 884, 'romance': 182, 'fantasy,...   \n",
       "\n",
       "                                     best_genre  \\\n",
       "77919                               young-adult   \n",
       "1046929                                 romance   \n",
       "847263                      fantasy, paranormal   \n",
       "1336307                                 fiction   \n",
       "1196218                     fantasy, paranormal   \n",
       "596079                          comics, graphic   \n",
       "231317                                  fiction   \n",
       "621343                                  romance   \n",
       "209767                              young-adult   \n",
       "944602                                  fiction   \n",
       "907843                      fantasy, paranormal   \n",
       "438988                              young-adult   \n",
       "492582                      fantasy, paranormal   \n",
       "732728                              young-adult   \n",
       "1278217                             young-adult   \n",
       "188667                          comics, graphic   \n",
       "1371939  history, historical fiction, biography   \n",
       "639524                      fantasy, paranormal   \n",
       "1188121                     fantasy, paranormal   \n",
       "7410                                young-adult   \n",
       "973511                      fantasy, paranormal   \n",
       "1210396                             non-fiction   \n",
       "774346                                  romance   \n",
       "288931                              young-adult   \n",
       "1100109                                 fiction   \n",
       "309246                                  romance   \n",
       "103085                              young-adult   \n",
       "\n",
       "                                           sentence_labels  \\\n",
       "77919     [0, 0, 0, 0, 0, 0, 0, 0, 0, 0, 0, 0, 0, 0, 0, 0]   \n",
       "1046929                                 [0, 0, 0, 0, 0, 0]   \n",
       "847263                                                 [0]   \n",
       "1336307  [0, 0, 0, 0, 0, 0, 0, 0, 0, 0, 0, 0, 0, 0, 0, ...   \n",
       "1196218                                                [0]   \n",
       "596079                                                 [0]   \n",
       "231317                                                 [0]   \n",
       "621343                                        [0, 0, 0, 0]   \n",
       "209767                                              [0, 0]   \n",
       "944602                                                 [0]   \n",
       "907843                                                 [0]   \n",
       "438988                                                 [0]   \n",
       "492582                                                 [0]   \n",
       "732728                                                 [0]   \n",
       "1278217                                                [0]   \n",
       "188667                                                 [0]   \n",
       "1371939                                             [0, 0]   \n",
       "639524                                              [0, 0]   \n",
       "1188121                                             [0, 0]   \n",
       "7410                                                [0, 0]   \n",
       "973511                                                 [0]   \n",
       "1210396                                                [0]   \n",
       "774346                                                 [0]   \n",
       "288931                   [0, 0, 0, 0, 0, 0, 0, 1, 1, 0, 0]   \n",
       "1100109                                                [0]   \n",
       "309246                                              [0, 0]   \n",
       "103085                                                 [0]   \n",
       "\n",
       "                                             sentence_text review_language_1  \\\n",
       "77919    [** spoiler alert **, Bueno fue un final de ci...                es   \n",
       "1046929  [Awsome!!!, i really relly love it!!, Seht is ...                es   \n",
       "847263                                   [Fun train read!]                es   \n",
       "1336307  [For practice I decided that I'd write this re...                es   \n",
       "1196218                      [Can I have a sequel please?]                es   \n",
       "596079   [Gracias Patrick Rothfuss por tu recomendacion...                es   \n",
       "231317                         [An enjoyable enough read.]                es   \n",
       "621343   [And then we end--we end where we started., Ju...                es   \n",
       "209767                         [A sequel?, Interesting...]                es   \n",
       "944602             [Perfectly enjoyable, very quick read.]                es   \n",
       "907843                            [So close yet so far...]                es   \n",
       "438988                         [Cute, fun and quick read.]                es   \n",
       "492582                                      [re-read love]                es   \n",
       "732728             [I decided to delete my review...:) :)]                es   \n",
       "1278217                             [I love you, Percy <3]                es   \n",
       "188667                               [Such a fun read :D!]                es   \n",
       "1371939         [An enjoyable read., Full review to come.]                es   \n",
       "639524   [Esto me dan muchas ganas de leer The Last Hou...                es   \n",
       "1188121   [Time pass predictable romance ., quick read :)]                es   \n",
       "7410                     [read 12/2012, reread 11/10/2014]                es   \n",
       "973511                       [A quick and enjoyable read!]                es   \n",
       "1210396                                 [Cute quick read!]                es   \n",
       "774346                            [Very cute, quick read.]                es   \n",
       "288931   [\"I would've blown away every last runner that...                es   \n",
       "1100109                      [Fun, quick and breezy read!]                es   \n",
       "309246                   [Adorable., Absolutely adorable.]                es   \n",
       "103085                                  [such a fun read!]                es   \n",
       "\n",
       "        review_language_start  \n",
       "77919                      es  \n",
       "1046929                    en  \n",
       "847263                     es  \n",
       "1336307                    en  \n",
       "1196218                    es  \n",
       "596079                     en  \n",
       "231317                     es  \n",
       "621343                     en  \n",
       "209767                     es  \n",
       "944602                     es  \n",
       "907843                     es  \n",
       "438988                     es  \n",
       "492582                     es  \n",
       "732728                     es  \n",
       "1278217                    es  \n",
       "188667                     es  \n",
       "1371939                    es  \n",
       "639524                     es  \n",
       "1188121                    en  \n",
       "7410                       es  \n",
       "973511                     es  \n",
       "1210396                    es  \n",
       "774346                     es  \n",
       "288931                     en  \n",
       "1100109                    es  \n",
       "309246                     es  \n",
       "103085                     es  \n",
       "\n",
       "[27 rows x 22 columns]"
      ]
     },
     "execution_count": 23,
     "metadata": {},
     "output_type": "execute_result"
    }
   ],
   "source": [
    "# look at spanish languages\n",
    "df_train_es = df_train[df_train['review_language_1'] == 'es']\n",
    "df_train_es"
   ]
  },
  {
   "cell_type": "markdown",
   "metadata": {},
   "source": [
    "Many of the reviews are falsly classified. Most of these reviews seem to be short. Calculate the length of these reviews (length = number of sentences)"
   ]
  },
  {
   "cell_type": "code",
   "execution_count": 26,
   "metadata": {},
   "outputs": [],
   "source": [
    "# dataframe containing reviews not detected as english\n",
    "df_train_en_unclear = df_train[df_train['review_language_1'] != 'en']"
   ]
  },
  {
   "cell_type": "code",
   "execution_count": 27,
   "metadata": {},
   "outputs": [
    {
     "data": {
      "application/vnd.jupyter.widget-view+json": {
       "model_id": "9952556db0bf44f3b72d2992f9cb8dba",
       "version_major": 2,
       "version_minor": 0
      },
      "text/plain": [
       "HBox(children=(HTML(value='Pandas Apply'), FloatProgress(value=0.0, max=975.0), HTML(value='')))"
      ]
     },
     "metadata": {},
     "output_type": "display_data"
    },
    {
     "name": "stdout",
     "output_type": "stream",
     "text": [
      "\n"
     ]
    },
    {
     "name": "stderr",
     "output_type": "stream",
     "text": [
      "<ipython-input-27-c79766b9c873>:2: SettingWithCopyWarning: \n",
      "A value is trying to be set on a copy of a slice from a DataFrame.\n",
      "Try using .loc[row_indexer,col_indexer] = value instead\n",
      "\n",
      "See the caveats in the documentation: https://pandas.pydata.org/pandas-docs/stable/user_guide/indexing.html#returning-a-view-versus-a-copy\n",
      "  df_train_en_unclear['length_review'] = df_train_en_unclear['sentence_text'].swifter.apply(lambda x: len(x))\n"
     ]
    }
   ],
   "source": [
    "# calculate length of reviews not recognized as english\n",
    "df_train_en_unclear['length_review'] = df_train_en_unclear['sentence_text'].swifter.apply(lambda x: len(x))"
   ]
  },
  {
   "cell_type": "code",
   "execution_count": 28,
   "metadata": {},
   "outputs": [
    {
     "data": {
      "text/plain": [
       "count    975.000000\n",
       "mean       2.078974\n",
       "std        4.026213\n",
       "min        1.000000\n",
       "25%        1.000000\n",
       "50%        1.000000\n",
       "75%        2.000000\n",
       "max       50.000000\n",
       "Name: length_review, dtype: float64"
      ]
     },
     "execution_count": 28,
     "metadata": {},
     "output_type": "execute_result"
    }
   ],
   "source": [
    "# get statistics for length of review\n",
    "df_train_en_unclear.length_review.describe()"
   ]
  },
  {
   "cell_type": "markdown",
   "metadata": {},
   "source": [
    "Clearly, there are reviews not (completely) written in english. However, therer are also some reviews that are falsly classified. Many of them are very short and are difficult to predict by langdetect, as it requirs a \"big\" corpus. However, the number of reviews not identified as written in english is so small that it can be neglected. We will remove all reviews not identified as english."
   ]
  },
  {
   "cell_type": "markdown",
   "metadata": {},
   "source": [
    "## Spell checking using SympSpell"
   ]
  },
  {
   "cell_type": "code",
   "execution_count": 6,
   "metadata": {},
   "outputs": [
    {
     "name": "stdout",
     "output_type": "stream",
     "text": [
      "Requirement already up-to-date: symspellpy in /opt/anaconda3/lib/python3.8/site-packages (6.7.0)\r\n",
      "Requirement already satisfied, skipping upgrade: numpy>=1.13.1 in /opt/anaconda3/lib/python3.8/site-packages (from symspellpy) (1.19.2)\r\n"
     ]
    }
   ],
   "source": [
    "#install and import\n",
    "!python -m pip install -U symspellpy\n",
    "from symspellpy import SymSpell, Verbosity"
   ]
  },
  {
   "cell_type": "markdown",
   "metadata": {},
   "source": [
    "### Build a dictionary based on the description of the books"
   ]
  },
  {
   "cell_type": "markdown",
   "metadata": {},
   "source": [
    "The idea behind this custom dictionary is adding book specific words such as names to the standard english dictionary used by symspell. If even their frequency will be low it might help for spell checking."
   ]
  },
  {
   "cell_type": "code",
   "execution_count": 7,
   "metadata": {},
   "outputs": [],
   "source": [
    "#for text editing, replace contractions\n",
    "#https://en.wikipedia.org/wiki/Wikipedia%3aList_of_English_contractions\n",
    "def decontracted(text):\n",
    "    # specific\n",
    "    text = re.sub(r\"won\\'t\", \"will not\", text)\n",
    "    text = re.sub(r\"can\\'t\", \"can not\", text)\n",
    "    text = re.sub(r\"let\\'s\", \"let us\", text)\n",
    "    \n",
    "\n",
    "    # general\n",
    "    text = re.sub(r\"n\\'t\", \" not\", text)\n",
    "    text = re.sub(r\"\\'re\", \" are\", text)\n",
    "    text = re.sub(r\"\\'s\", \" is\", text)\n",
    "    text = re.sub(r\"\\'d\", \" would\", text)\n",
    "    text = re.sub(r\"\\'ll\", \" will\", text)\n",
    "    text = re.sub(r\"\\'t\", \" not\", text)\n",
    "    text = re.sub(r\"\\'ve\", \" have\", text)\n",
    "    text = re.sub(r\"\\'m\", \" am\", text)\n",
    "    text = re.sub(r\"\\'m\", \" am\", text)\n",
    "    \n",
    "    #words\n",
    "    text = re.sub(\"gimme\", \"give me\", text)\n",
    "    text = re.sub(\"cuz\", \"because\", text)\n",
    "    text = re.sub(\"'cause\", \"give me\", text)\n",
    "    text = re.sub(\"finna\", \"fixing to\", text)\n",
    "    text = re.sub(\"cuz\", \"because\", text)\n",
    "    text = re.sub(\"wanna\", \"want to\", text)\n",
    "    text = re.sub(\"gotta\", \"got to\", text)\n",
    "    text = re.sub(\"hafta\", \"have to\", text)\n",
    "    text = re.sub(\"woulda\", \"would have\", text)\n",
    "    text = re.sub(\"coulda\", \"could have\", text)\n",
    "    text = re.sub(\"shoulda\", \"should have\", text)\n",
    "    text = re.sub(\"ma'am\", \"madam\", text)\n",
    "    text = re.sub(\"howdy\", \"how do you\", text)\n",
    "    text = re.sub(\"let's\", \"let us\", text)\n",
    "    text = re.sub(\"y'all\", \"you all\", text)\n",
    "\n",
    "    return text"
   ]
  },
  {
   "cell_type": "code",
   "execution_count": 8,
   "metadata": {},
   "outputs": [],
   "source": [
    "import re\n",
    "\n",
    "# function to preprocess text\n",
    "def preprocessing(text):\n",
    "    t0 = time.time()\n",
    "    # remove '--' and replace them with whitespace\n",
    "    text = text.replace('-', ' ')\n",
    "    #change to lower case\n",
    "    text=text.lower()\n",
    "    # replace contractions\n",
    "    text = decontracted(text)\n",
    "    #remove urls if there are any\n",
    "    text = re.sub(r'http:\\S+', '', text)\n",
    "    text = re.sub(r'www\\S+', '', text)\n",
    "    #remove emails and words containing @\n",
    "    text = re.sub(\"\\S*@\\S*\\s?\",\" \", text)\n",
    "    # remove digits and words containing digits\n",
    "    text = re.sub(r\"\\d\", \"\", text)\n",
    "    #remove special characters and punctuation\n",
    "    text = re.sub(r'[(,;:@#&$!?.)\"*/-]+', ' ', text)\n",
    "    text = re.sub(r\"[']\", '', text)\n",
    "    # replace whitespaces\n",
    "    text = re.sub(r\"\\s+\", ' ', text).strip()\n",
    "    return text"
   ]
  },
  {
   "cell_type": "code",
   "execution_count": 32,
   "metadata": {},
   "outputs": [],
   "source": [
    "#collect text (book descriptions and titles)\n",
    "# we assume that they harly contain spelling errors as the are \n",
    "# for a test run only load the first 100,000 descriptions and titles\n",
    "\n",
    "descriptions = ([d for d in df_train.description if d != None])\n",
    "# also add title texts\n",
    "descriptions += ([t for t in df_train.title if t != None])\n",
    "\n",
    "description = pd.Series(descriptions).apply(lambda x:preprocessing(x))\n",
    "description_processed = [d for d in description]"
   ]
  },
  {
   "cell_type": "code",
   "execution_count": 33,
   "metadata": {},
   "outputs": [],
   "source": [
    "# open dictionary text file and save the words in the words_dict list\n",
    "import pkg_resources\n",
    "\n",
    "dictionary_path = pkg_resources.resource_filename(\"symspellpy\", \"frequency_dictionary_en_82_765.txt\")\n",
    "words_dict = []\n",
    "with(open(dictionary_path, 'r')) as df:\n",
    "    for line in df:\n",
    "        word = line.split()[0]\n",
    "        words_dict.append(word)\n",
    "df.close()\n",
    "words_dict = set(words_dict)"
   ]
  },
  {
   "cell_type": "code",
   "execution_count": 34,
   "metadata": {},
   "outputs": [
    {
     "name": "stdout",
     "output_type": "stream",
     "text": [
      "The dictionary contains 82781 different words and their frequency.\n"
     ]
    }
   ],
   "source": [
    "print(f'The dictionary contains {len(words_dict)} different words and their frequency.')"
   ]
  },
  {
   "cell_type": "code",
   "execution_count": 35,
   "metadata": {},
   "outputs": [],
   "source": [
    "#create a frequency count list \n",
    "#only get word count of words not included in the standard english dictionary of symspell\n",
    "#desc2_split = desc2.split()\n",
    "wordlist = []\n",
    "for d in description_processed:\n",
    "    d = d.split()\n",
    "    for word in d:\n",
    "        if word not in words_dict and len(word)>1:\n",
    "            wordlist.append(word)\n",
    "        else:\n",
    "            continue"
   ]
  },
  {
   "cell_type": "code",
   "execution_count": 36,
   "metadata": {},
   "outputs": [
    {
     "data": {
      "text/plain": [
       "['tris',\n",
       " 'tris',\n",
       " 'tris',\n",
       " 'timesbestselling',\n",
       " 'tenuousness',\n",
       " 'dorrigo',\n",
       " 'pre',\n",
       " 'beachside',\n",
       " 'changi',\n",
       " 'th',\n",
       " 'northis',\n",
       " 'dorrigo',\n",
       " 'pows',\n",
       " 'restauranteur',\n",
       " 'diaz',\n",
       " 'harc',\n",
       " 'repopulation',\n",
       " 'favorite',\n",
       " 'callum',\n",
       " 'callum',\n",
       " 'callum',\n",
       " 'facto',\n",
       " 'gwendy',\n",
       " 'zag',\n",
       " 'cliffside',\n",
       " 'gwendy',\n",
       " 'aluminum',\n",
       " 'labor',\n",
       " 'gwendy',\n",
       " 'gwendy',\n",
       " 'chizmar',\n",
       " 'mr',\n",
       " 'gpa',\n",
       " 'mr',\n",
       " 'favorite',\n",
       " 'fiesty',\n",
       " 'risa',\n",
       " 'aedh',\n",
       " 'risa',\n",
       " 'risa',\n",
       " 'risa',\n",
       " 'sevissent',\n",
       " 'des',\n",
       " 'goules',\n",
       " 'monstres',\n",
       " 'cannibales',\n",
       " 'se',\n",
       " 'dissimulant',\n",
       " 'parmi',\n",
       " 'humains',\n",
       " 'mieux',\n",
       " 'nourrir',\n",
       " 'etudiant',\n",
       " 'timide',\n",
       " 'kaneki',\n",
       " 'interesse',\n",
       " 'jolie',\n",
       " 'fille',\n",
       " 'qui',\n",
       " 'partage',\n",
       " 'ses',\n",
       " 'gouts',\n",
       " 'ces',\n",
       " 'sordides',\n",
       " 'jusquau',\n",
       " 'ou',\n",
       " 'il',\n",
       " 'se',\n",
       " 'fait',\n",
       " 'attaquer',\n",
       " 'ces',\n",
       " 'fameuses',\n",
       " 'mortellement',\n",
       " 'blesse',\n",
       " 'il',\n",
       " 'survit',\n",
       " 'greffe',\n",
       " 'des',\n",
       " 'organes',\n",
       " 'agresseur',\n",
       " 'remis',\n",
       " 'il',\n",
       " 'peu',\n",
       " 'peu',\n",
       " 'quil',\n",
       " 'devenu',\n",
       " 'se',\n",
       " 'nourrir',\n",
       " 'comme',\n",
       " 'avant',\n",
       " 'et',\n",
       " 'ressentir',\n",
       " 'un',\n",
       " 'appetit',\n",
       " 'envers',\n",
       " 'ses',\n",
       " 'congeneres',\n",
       " 'cest',\n",
       " 'le',\n",
       " 'descente']"
      ]
     },
     "execution_count": 36,
     "metadata": {},
     "output_type": "execute_result"
    }
   ],
   "source": [
    "wordlist[:100]"
   ]
  },
  {
   "cell_type": "markdown",
   "metadata": {},
   "source": [
    "While going through the wordlist we noticed that it contains french words. These words should not be included in the new dictionary. To test whether other descriptions are written in languages other than 'english', we will use langdetect."
   ]
  },
  {
   "cell_type": "code",
   "execution_count": 37,
   "metadata": {},
   "outputs": [],
   "source": [
    "# automatically detect language of description texts\n",
    "# we use try/except as description contains None\n",
    "def detect_language(text):\n",
    "    try:\n",
    "        return detect(text)\n",
    "    except:\n",
    "        return None"
   ]
  },
  {
   "cell_type": "code",
   "execution_count": 38,
   "metadata": {},
   "outputs": [
    {
     "data": {
      "application/vnd.jupyter.widget-view+json": {
       "model_id": "af4926bdc96c403c8d054f462072ce6e",
       "version_major": 2,
       "version_minor": 0
      },
      "text/plain": [
       "HBox(children=(HTML(value='Pandas Apply'), FloatProgress(value=0.0, max=964623.0), HTML(value='')))"
      ]
     },
     "metadata": {},
     "output_type": "display_data"
    },
    {
     "name": "stdout",
     "output_type": "stream",
     "text": [
      "\n"
     ]
    }
   ],
   "source": [
    "df_train['language_description'] = df_train['description'].swifter.apply(lambda x: detect_language(x))"
   ]
  },
  {
   "cell_type": "code",
   "execution_count": 39,
   "metadata": {},
   "outputs": [
    {
     "name": "stdout",
     "output_type": "stream",
     "text": [
      "(964623,)\n",
      "1.0% of descriptions are missing\n"
     ]
    },
    {
     "data": {
      "text/plain": [
       "(array(['da', 'de', 'en', 'es', 'fi', 'fr', 'hr', 'id', 'it', 'lv',\n",
       "        'missing', 'nl', 'pl', 'pt', 'ro', 'sk', 'sw', 'tl'], dtype=object),\n",
       " array([    18,    278, 958034,    559,     10,    245,     50,    104,\n",
       "            14,      8,   4952,     94,     26,    140,     42,      9,\n",
       "             9,     31]))"
      ]
     },
     "execution_count": 39,
     "metadata": {},
     "output_type": "execute_result"
    }
   ],
   "source": [
    "languages_desc = df_train['language_description']\n",
    "\n",
    "print(languages_desc.shape)\n",
    "print(f'{round(languages_desc.isnull().sum()/languages_desc.shape[0],2)*100}% of descriptions are missing')\n",
    "languages_desc.fillna('missing', inplace = True)\n",
    "\n",
    "languages_count=np.unique(languages_desc, return_counts=True)\n",
    "languages_count"
   ]
  },
  {
   "cell_type": "code",
   "execution_count": null,
   "metadata": {},
   "outputs": [],
   "source": [
    "fig = sns.barplot(y = languages_count[0], x = np.log(languages_count[1]), palette= 'BrBG' )\n",
    "fig.set(xlabel = 'log(language count)', ylabel = 'languages', title = 'Language of book descriptions')"
   ]
  },
  {
   "cell_type": "code",
   "execution_count": null,
   "metadata": {},
   "outputs": [],
   "source": [
    "# number of non-english book descriptions:\n",
    "print('The predominant language of the book descriptions is english.')\n",
    "print(f'There are {np.sum(languages_count[1])- np.amax(languages_count[1])} books with non-english or missing descriptions.')"
   ]
  },
  {
   "cell_type": "code",
   "execution_count": null,
   "metadata": {},
   "outputs": [],
   "source": [
    "# write english descriptions into one list and all other descriptions in another list\n",
    "descriptions_en = []\n",
    "description_other =[]\n",
    "for des,leng in description_language:\n",
    "    if leng == 'en':\n",
    "        descriptions_en.append(des)\n",
    "    else:\n",
    "        description_other.append((des,leng))"
   ]
  },
  {
   "cell_type": "code",
   "execution_count": null,
   "metadata": {},
   "outputs": [],
   "source": [
    "#somehow the len() function does not work, use a loop to count items\n",
    "i = 0\n",
    "for d in descriptions_en:\n",
    "    i += 1\n",
    "print(f'There are {i} english book descriptions')"
   ]
  },
  {
   "cell_type": "code",
   "execution_count": null,
   "metadata": {},
   "outputs": [],
   "source": [
    "# repeat processing with english descriptions only\n",
    "description_en_processed = [preprocessing(d) for d in descriptions_en]"
   ]
  },
  {
   "cell_type": "code",
   "execution_count": null,
   "metadata": {},
   "outputs": [],
   "source": [
    "#write all words not yet in the standard dictionary to a new list\n",
    "wordlist_en = []\n",
    "for d in description_en_processed:\n",
    "    d = d.split()\n",
    "    for word in d:\n",
    "        if word not in words_dict and len(word)>1:\n",
    "            wordlist_en.append(word)\n",
    "        else:\n",
    "            continue"
   ]
  },
  {
   "cell_type": "code",
   "execution_count": null,
   "metadata": {},
   "outputs": [],
   "source": [
    "#count words\n",
    "wordlist_en_freq = Counter(wordlist_en)"
   ]
  },
  {
   "cell_type": "code",
   "execution_count": null,
   "metadata": {},
   "outputs": [],
   "source": [
    "# look at the first 10 \n",
    "i = 0\n",
    "for w, c in wordlist_en_freq.items():\n",
    "    print(w, c)\n",
    "    i += 1\n",
    "    if i == 10:\n",
    "        break"
   ]
  },
  {
   "cell_type": "code",
   "execution_count": 9,
   "metadata": {},
   "outputs": [
    {
     "data": {
      "text/plain": [
       "'/Users/gregor/nf-sep-20/Capstone/custom_dictionary.txt'"
      ]
     },
     "execution_count": 9,
     "metadata": {},
     "output_type": "execute_result"
    }
   ],
   "source": [
    "import os\n",
    "from shutil import copyfile\n",
    "import pkg_resources\n",
    "\n",
    "# get file path from standard dictionary\n",
    "dictionary_path = pkg_resources.resource_filename(\"symspellpy\", \"frequency_dictionary_en_82_765.txt\")\n",
    "# copy default dictionary file to working directory and rename\n",
    "curent_path = os.getcwd()\n",
    "copyfile(dictionary_path, str(curent_path) + '/custom_dictionary.txt')"
   ]
  },
  {
   "cell_type": "code",
   "execution_count": null,
   "metadata": {},
   "outputs": [],
   "source": [
    "# add custom frequency list to dictionary\n",
    "with open('custom_dictionary.txt', 'a') as cd:\n",
    "    for w, c in wordlist_en_freq.items():\n",
    "        cd.write(f'{w} {c}\\n')\n",
    "cd.close()"
   ]
  },
  {
   "cell_type": "code",
   "execution_count": 10,
   "metadata": {},
   "outputs": [],
   "source": [
    "import os\n",
    "from symspellpy import SymSpell, Verbosity\n",
    "\n",
    "custom_dictionary_path = os.path.abspath(\"custom_dictionary.txt\") \n",
    "symspell = SymSpell()\n",
    "#load dictionary\n",
    "symspell.load_dictionary(custom_dictionary_path, term_index=0, count_index=1)\n",
    "\n",
    "# function to spellcheck list of string and return a spellchecked list of strings\n",
    "def spellcheck_list(text):\n",
    "    '''\n",
    "    function takes list of strings as input, preprocesses text and returns a spellchecked text\n",
    "    '''\n",
    "    \n",
    "    #initiatae SmSpell with the custom  dictionary\n",
    "    \n",
    "    store = []\n",
    "    for s in text:\n",
    "    #preprocess text\n",
    "        s = preprocessing(s)\n",
    "    #hand to spellchecking and return the best result only if corrected phrase is more than just a single letter\n",
    "    # otherwise continue\n",
    "        sp = symspell.lookup_compound(s, max_edit_distance=1)\n",
    "        if sp[0].term == None:\n",
    "            store.append(s)\n",
    "        else:\n",
    "            store.append(sp[0].term)\n",
    "    return store"
   ]
  },
  {
   "cell_type": "code",
   "execution_count": null,
   "metadata": {},
   "outputs": [],
   "source": [
    "df_train.head()"
   ]
  },
  {
   "cell_type": "code",
   "execution_count": 42,
   "metadata": {},
   "outputs": [
    {
     "data": {
      "application/vnd.jupyter.widget-view+json": {
       "model_id": "77003f9f880f40fa8a5ab787a50897e5",
       "version_major": 2,
       "version_minor": 0
      },
      "text/plain": [
       "HBox(children=(HTML(value='Pandas Apply'), FloatProgress(value=0.0, max=964623.0), HTML(value='')))"
      ]
     },
     "metadata": {},
     "output_type": "display_data"
    },
    {
     "name": "stdout",
     "output_type": "stream",
     "text": [
      "\n"
     ]
    }
   ],
   "source": [
    "# spellcheck review sentences\n",
    "df_train['sentence_text_spellchecked'] = df_train['sentence_text'].swifter.apply(lambda x:spellcheck_list(x))\n"
   ]
  },
  {
   "cell_type": "markdown",
   "metadata": {},
   "source": [
    "### Lemmatizing"
   ]
  },
  {
   "cell_type": "code",
   "execution_count": 11,
   "metadata": {},
   "outputs": [],
   "source": [
    "# function for lemmatizing\n",
    "\n",
    "#!pip install -U spacy\n",
    "#!pip install -U spacy-lokups-data\n",
    "\n",
    "#!python -m spacy download en_core_web_sm\n",
    "\n",
    "import spacy\n",
    "import en_core_web_sm\n",
    "\n",
    "nlp_spacy = en_core_web_sm.load()\n",
    "\n",
    "def lemmatizer(text_list):\n",
    "    '''\n",
    "    tokenizes string input using spacy \n",
    "    removes english stopwords\n",
    "    '''\n",
    "    lst = []\n",
    "    for sentence in text_list:\n",
    "        doc = nlp_spacy(sentence)\n",
    "        text = \" \".join([token.lemma_ for token in doc if not token.is_stop])\n",
    "        lst.append(text)\n",
    "    return lst"
   ]
  },
  {
   "cell_type": "code",
   "execution_count": 65,
   "metadata": {},
   "outputs": [
    {
     "data": {
      "application/vnd.jupyter.widget-view+json": {
       "model_id": "d23d9c07e0ff4c5c9436ff7992ab9fa4",
       "version_major": 2,
       "version_minor": 0
      },
      "text/plain": [
       "HBox(children=(HTML(value='Pandas Apply'), FloatProgress(value=0.0, max=964623.0), HTML(value='')))"
      ]
     },
     "metadata": {},
     "output_type": "display_data"
    },
    {
     "name": "stdout",
     "output_type": "stream",
     "text": [
      "\n"
     ]
    }
   ],
   "source": [
    "df_train['lemmatized'] = df_train['sentence_text_spellchecked'].swifter.apply(lambda x: lemmatizer(x))"
   ]
  },
  {
   "cell_type": "code",
   "execution_count": 66,
   "metadata": {},
   "outputs": [],
   "source": [
    "# safe dataframe training dataset now containing language detection and spellchecked sentences\n",
    "df_train.to_json('train_set_text_edit.json.gz', orient = 'records', lines = True, compression = 'gzip'  )"
   ]
  },
  {
   "cell_type": "code",
   "execution_count": 12,
   "metadata": {},
   "outputs": [
    {
     "data": {
      "application/vnd.jupyter.widget-view+json": {
       "model_id": "b3df583c28fc4b67bd1d41dcbd241690",
       "version_major": 2,
       "version_minor": 0
      },
      "text/plain": [
       "HBox(children=(HTML(value='Pandas Apply'), FloatProgress(value=0.0, max=275606.0), HTML(value='')))"
      ]
     },
     "metadata": {},
     "output_type": "display_data"
    },
    {
     "name": "stdout",
     "output_type": "stream",
     "text": [
      "\n"
     ]
    },
    {
     "data": {
      "application/vnd.jupyter.widget-view+json": {
       "model_id": "2341ad09102f41aea6e73067d22a0c61",
       "version_major": 2,
       "version_minor": 0
      },
      "text/plain": [
       "HBox(children=(HTML(value='Pandas Apply'), FloatProgress(value=0.0, max=275606.0), HTML(value='')))"
      ]
     },
     "metadata": {},
     "output_type": "display_data"
    },
    {
     "name": "stdout",
     "output_type": "stream",
     "text": [
      "\n"
     ]
    },
    {
     "data": {
      "application/vnd.jupyter.widget-view+json": {
       "model_id": "5dc78fb7cb74481ea9df2e79b103906d",
       "version_major": 2,
       "version_minor": 0
      },
      "text/plain": [
       "HBox(children=(HTML(value='Pandas Apply'), FloatProgress(value=0.0, max=275606.0), HTML(value='')))"
      ]
     },
     "metadata": {},
     "output_type": "display_data"
    },
    {
     "name": "stdout",
     "output_type": "stream",
     "text": [
      "\n"
     ]
    },
    {
     "data": {
      "application/vnd.jupyter.widget-view+json": {
       "model_id": "5c3ad2fd2bba46cf998d0d2f03adf389",
       "version_major": 2,
       "version_minor": 0
      },
      "text/plain": [
       "HBox(children=(HTML(value='Pandas Apply'), FloatProgress(value=0.0, max=275606.0), HTML(value='')))"
      ]
     },
     "metadata": {},
     "output_type": "display_data"
    },
    {
     "name": "stdout",
     "output_type": "stream",
     "text": [
      "\n"
     ]
    },
    {
     "data": {
      "application/vnd.jupyter.widget-view+json": {
       "model_id": "1031b4779db24ef0b7589d772d09807a",
       "version_major": 2,
       "version_minor": 0
      },
      "text/plain": [
       "HBox(children=(HTML(value='Pandas Apply'), FloatProgress(value=0.0, max=275606.0), HTML(value='')))"
      ]
     },
     "metadata": {},
     "output_type": "display_data"
    },
    {
     "name": "stdout",
     "output_type": "stream",
     "text": [
      "\n"
     ]
    }
   ],
   "source": [
    "df_val = pd.read_json('validation_set.json', orient = 'index')\n",
    "\n",
    "df_val['sentence_labels'] = df_val.review_sentences.swifter.apply(lambda x:get_sentence_label(x))\n",
    "df_val['sentence_text'] = df_val.review_sentences.swifter.apply(lambda x:get_sentence_text(x))\n",
    "\n",
    "df_val['review_language_start'] = df_val['sentence_text'].swifter.apply(lambda x:detect_review_language_start(x))\n",
    "\n",
    "\n",
    "df_val['sentence_text_spellchecked'] = df_val['sentence_text'].swifter.apply(lambda x:spellcheck_list(x))\n",
    "\n",
    "df_val['lemmatized'] = df_val['sentence_text_spellchecked'].swifter.apply(lambda x: lemmatizer(x))\n",
    "\n",
    "df_val.to_json('validation_set_text_edit.json.gz', orient = 'records', lines = True, compression = 'gzip'  )"
   ]
  },
  {
   "cell_type": "code",
   "execution_count": 13,
   "metadata": {},
   "outputs": [
    {
     "data": {
      "application/vnd.jupyter.widget-view+json": {
       "model_id": "ba6ac76076c04a8c81e77ab551277349",
       "version_major": 2,
       "version_minor": 0
      },
      "text/plain": [
       "HBox(children=(HTML(value='Pandas Apply'), FloatProgress(value=0.0, max=137804.0), HTML(value='')))"
      ]
     },
     "metadata": {},
     "output_type": "display_data"
    },
    {
     "name": "stdout",
     "output_type": "stream",
     "text": [
      "\n"
     ]
    },
    {
     "data": {
      "application/vnd.jupyter.widget-view+json": {
       "model_id": "0856efe092774e858f03618df400341b",
       "version_major": 2,
       "version_minor": 0
      },
      "text/plain": [
       "HBox(children=(HTML(value='Pandas Apply'), FloatProgress(value=0.0, max=137804.0), HTML(value='')))"
      ]
     },
     "metadata": {},
     "output_type": "display_data"
    },
    {
     "name": "stdout",
     "output_type": "stream",
     "text": [
      "\n"
     ]
    },
    {
     "data": {
      "application/vnd.jupyter.widget-view+json": {
       "model_id": "eed1c3bb46d846009337be341e81e5e2",
       "version_major": 2,
       "version_minor": 0
      },
      "text/plain": [
       "HBox(children=(HTML(value='Pandas Apply'), FloatProgress(value=0.0, max=137804.0), HTML(value='')))"
      ]
     },
     "metadata": {},
     "output_type": "display_data"
    },
    {
     "name": "stdout",
     "output_type": "stream",
     "text": [
      "\n"
     ]
    },
    {
     "data": {
      "application/vnd.jupyter.widget-view+json": {
       "model_id": "4dd72bdc9d7d45b2ac28263124144505",
       "version_major": 2,
       "version_minor": 0
      },
      "text/plain": [
       "HBox(children=(HTML(value='Pandas Apply'), FloatProgress(value=0.0, max=137804.0), HTML(value='')))"
      ]
     },
     "metadata": {},
     "output_type": "display_data"
    },
    {
     "name": "stdout",
     "output_type": "stream",
     "text": [
      "\n"
     ]
    },
    {
     "data": {
      "application/vnd.jupyter.widget-view+json": {
       "model_id": "8400cbf2957940dba16420c939e472ec",
       "version_major": 2,
       "version_minor": 0
      },
      "text/plain": [
       "HBox(children=(HTML(value='Pandas Apply'), FloatProgress(value=0.0, max=137804.0), HTML(value='')))"
      ]
     },
     "metadata": {},
     "output_type": "display_data"
    },
    {
     "name": "stdout",
     "output_type": "stream",
     "text": [
      "\n"
     ]
    }
   ],
   "source": [
    "df_test = pd.read_json('test_set.json', orient = 'index')\n",
    "\n",
    "df_test['sentence_labels'] = df_test.review_sentences.swifter.apply(lambda x:get_sentence_label(x))\n",
    "df_test['sentence_text'] = df_test.review_sentences.swifter.apply(lambda x:get_sentence_text(x))\n",
    "\n",
    "df_test['review_language_start'] = df_test['sentence_text'].swifter.apply(lambda x:detect_review_language_start(x))\n",
    "\n",
    "\n",
    "df_test['sentence_text_spellchecked'] = df_test['sentence_text'].swifter.apply(lambda x:spellcheck_list(x))\n",
    "\n",
    "df_test['lemmatized'] = df_test['sentence_text_spellchecked'].swifter.apply(lambda x: lemmatizer(x))\n",
    "\n",
    "df_test.to_json('test_set_text_edit.json.gz', orient = 'records', lines = True, compression = 'gzip'  )"
   ]
  },
  {
   "cell_type": "markdown",
   "metadata": {},
   "source": [
    "## Looking at some features of the review texts"
   ]
  },
  {
   "cell_type": "code",
   "execution_count": null,
   "metadata": {},
   "outputs": [],
   "source": [
    "# function to detect the string 'spoiler' in \n",
    "def find_spoiler(text_list):\n",
    "    for sentence in text_list:\n",
    "        if 'spoiler' in sentence.lower():\n",
    "            return 1\n",
    "    \n",
    "    return 0"
   ]
  },
  {
   "cell_type": "code",
   "execution_count": 244,
   "metadata": {},
   "outputs": [
    {
     "data": {
      "application/vnd.jupyter.widget-view+json": {
       "model_id": "3b2190dd1d2741dab39ce46e533d4286",
       "version_major": 2,
       "version_minor": 0
      },
      "text/plain": [
       "HBox(children=(FloatProgress(value=0.0, description='Pandas Apply', max=964623.0, style=ProgressStyle(descript…"
      ]
     },
     "metadata": {},
     "output_type": "display_data"
    },
    {
     "name": "stdout",
     "output_type": "stream",
     "text": [
      "\n"
     ]
    }
   ],
   "source": [
    "df_train['spoiler_in_text']=df_train['sentence_text'].swifter.apply(lambda x: find_spoiler(x))"
   ]
  },
  {
   "cell_type": "code",
   "execution_count": 396,
   "metadata": {},
   "outputs": [
    {
     "data": {
      "application/vnd.jupyter.widget-view+json": {
       "model_id": "d29e76c351c449f8a56aa206ff3d3e8b",
       "version_major": 2,
       "version_minor": 0
      },
      "text/plain": [
       "HBox(children=(FloatProgress(value=0.0, description='Pandas Apply', max=964623.0, style=ProgressStyle(descript…"
      ]
     },
     "metadata": {},
     "output_type": "display_data"
    },
    {
     "name": "stdout",
     "output_type": "stream",
     "text": [
      "\n"
     ]
    }
   ],
   "source": [
    "# same as above but for 'spoil' instead of spoiler\n",
    "def find_spoil(text_list):\n",
    "    for sentence in text_list:\n",
    "        if 'spoil' in sentence.lower():\n",
    "            return 1\n",
    "    \n",
    "    return 0\n",
    "\n",
    "df_train['spoil_in_text']=df_train['sentence_text'].swifter.apply(lambda x: find_spoil(x))"
   ]
  },
  {
   "cell_type": "code",
   "execution_count": 399,
   "metadata": {},
   "outputs": [
    {
     "data": {
      "text/plain": [
       "has_spoiler\n",
       "0    0.058242\n",
       "1    0.145873\n",
       "Name: spoil_in_text, dtype: float64"
      ]
     },
     "execution_count": 399,
     "metadata": {},
     "output_type": "execute_result"
    }
   ],
   "source": [
    "# what percentage of safe or spoiler reviews contain the word spoiler\n",
    "a = df_train.groupby('has_spoiler')['spoil_in_text'].mean()\n",
    "a"
   ]
  },
  {
   "cell_type": "code",
   "execution_count": 398,
   "metadata": {},
   "outputs": [
    {
     "name": "stderr",
     "output_type": "stream",
     "text": [
      "/opt/anaconda3/envs/nf/lib/python3.6/site-packages/ipykernel_launcher.py:3: UserWarning: FixedFormatter should only be used together with FixedLocator\n",
      "  This is separate from the ipykernel package so we can avoid doing imports until\n"
     ]
    },
    {
     "data": {
      "text/plain": [
       "Text(0.5, 1.0, '\"spoiler\" in Review\\n')"
      ]
     },
     "execution_count": 398,
     "metadata": {},
     "output_type": "execute_result"
    },
    {
     "data": {
      "image/png": "[encoded data removed]",
      "text/plain": [
       "<Figure size 432x288 with 1 Axes>"
      ]
     },
     "metadata": {
      "needs_background": "light"
     },
     "output_type": "display_data"
    }
   ],
   "source": [
    "# plot results\n",
    "ax = sns.barplot(x = a.index, y = a.values*100, palette = 'BrBG', edgecolor = '0.2')\n",
    "ax.set_xticklabels(['safe review', 'spoiler review'], fontsize = 12)\n",
    "ax.set_yticklabels( [0,2,4,6,8,10,12],fontsize = 12)\n",
    "\n",
    "ax.set_xlabel(xlabel = 'Review', fontsize = 15 )\n",
    "ax.set_ylabel(ylabel = '% of reviews containing \\n \"spoiler\"', fontsize = 15)\n",
    "ax.axes.set_title('\"spoil\" in Review\\n', fontsize = 20)\n",
    "\n",
    "#, ['safe review', 'spoiler review'])"
   ]
  },
  {
   "cell_type": "code",
   "execution_count": null,
   "metadata": {},
   "outputs": [],
   "source": [
    "b = df_train.groupby('has_spoiler')['spoiler_in_text'].mean()\n",
    "ax = sns.barplot(x = a.index, y = a.values*100, palette = 'BrBG', edgecolor = '0.2')\n",
    "ax.set_xticklabels(['safe review', 'spoiler review'], fontsize = 12)\n",
    "#ax.set_yticklabels( [0,2,4,6,8,10,12],fontsize = 12)\n",
    "\n",
    "ax.set_xlabel(xlabel = 'Review', fontsize = 15 )\n",
    "ax.set_ylabel(ylabel = '% of reviews containing \\n \"spoiler\"', fontsize = 15)\n",
    "ax.axes.set_title('\"spoil\" in Review\\n', fontsize = 20)"
   ]
  },
  {
   "cell_type": "code",
   "execution_count": null,
   "metadata": {},
   "outputs": [],
   "source": [
    "# 'spoil' written in different genres\n",
    "c = df_train.groupby('best_genre')['spoil_in_text'].mean()\n",
    "c"
   ]
  },
  {
   "cell_type": "code",
   "execution_count": null,
   "metadata": {},
   "outputs": [],
   "source": [
    "# plot results\n",
    "ax = sns.barplot(x = c.index, y = c.values*100, palette = 'BrBG', edgecolor = '0.2')\n",
    "ax.set_xticklabels(['safe review', 'spoiler review'], fontsize = 12)\n",
    "#ax.set_yticklabels( [0,2,4,6,8,10,12],fontsize = 12)\n",
    "\n",
    "ax.set_xlabel(xlabel = 'Review', fontsize = 15 )\n",
    "ax.set_ylabel(ylabel = '% of reviews containing \\n \"spoiler\"', fontsize = 15)\n",
    "ax.axes.set_title('\"spoil\" in Review by genre\\n', fontsize = 20)"
   ]
  },
  {
   "cell_type": "markdown",
   "metadata": {},
   "source": [
    "### Entities in the reviews?"
   ]
  },
  {
   "cell_type": "markdown",
   "metadata": {},
   "source": [
    "Are people or locations more often mentioned in sentences containing spoilers?"
   ]
  },
  {
   "cell_type": "code",
   "execution_count": 70,
   "metadata": {},
   "outputs": [],
   "source": [
    "# use spacies entitiy detection function to identifiy entities in review texts\n",
    "# note: entity detection is case sencitive\n",
    "import spacy\n",
    "from spacy import displacy\n",
    "from collections import Counter\n",
    "import en_core_web_sm\n",
    "nlp = en_core_web_sm.load()\n",
    "\n",
    "\n",
    "def ned(text):\n",
    "    # remove urls, email adresses\n",
    "    text = re.sub(r'http:\\S+', '', text)\n",
    "    text = re.sub(r'www\\S+', '', text)\n",
    "    text = re.sub(\"\\S*@\\S*\\s?\",\" \", text)\n",
    "    \n",
    "    doc = nlp(text)\n",
    "    \n",
    "    count_PERSON = 0\n",
    "    count_LOC = 0\n",
    "    for x in doc.ents:\n",
    "        if x.label_ == 'PERSON' or x.label_ == 'ORG':\n",
    "            count_PERSON +=1\n",
    "        elif x.label_ == 'LOC' or x.label_ == 'GPE':\n",
    "            count_LOC += 1\n",
    "    return (count_PERSON, count_LOC)"
   ]
  },
  {
   "cell_type": "code",
   "execution_count": null,
   "metadata": {},
   "outputs": [],
   "source": [
    "# drop columns not needed for text analysis\n",
    "df_train_text = df_train.drop(['average_rating', 'best_genre','description', 'genres',\n",
    "                               'num_pages', 'publication_day', 'publication_month',\n",
    "                               'publication_year', 'rating', 'ratings_count', 'review_id',\n",
    "                               'timestamp', 'title', 'user_id','weighted_average_rating'\n",
    "                              ],\n",
    "                             axis = 1)\n",
    "\n",
    "# confirm droping of columns\n",
    "df_train_text.head()"
   ]
  },
  {
   "cell_type": "code",
   "execution_count": 58,
   "metadata": {},
   "outputs": [],
   "source": [
    "# split into spoiler and safe dataframe\n",
    "df_spoiler_reviews = df_train_text[df_train_text['has_spoiler'] == 1]\n",
    "df_safe_reviews = df_train_text.sample(62815)[df_train_text['has_spoiler'] == 0][:len(df_spoiler_reviews)]"
   ]
  },
  {
   "cell_type": "code",
   "execution_count": 46,
   "metadata": {},
   "outputs": [
    {
     "data": {
      "text/html": [
       "<div>\n",
       "<style scoped>\n",
       "    .dataframe tbody tr th:only-of-type {\n",
       "        vertical-align: middle;\n",
       "    }\n",
       "\n",
       "    .dataframe tbody tr th {\n",
       "        vertical-align: top;\n",
       "    }\n",
       "\n",
       "    .dataframe thead th {\n",
       "        text-align: right;\n",
       "    }\n",
       "</style>\n",
       "<table border=\"1\" class=\"dataframe\">\n",
       "  <thead>\n",
       "    <tr style=\"text-align: right;\">\n",
       "      <th></th>\n",
       "      <th>book_id</th>\n",
       "      <th>has_spoiler</th>\n",
       "      <th>review_sentences</th>\n",
       "      <th>sentence_text_spellchecked</th>\n",
       "    </tr>\n",
       "  </thead>\n",
       "  <tbody>\n",
       "    <tr>\n",
       "      <th>859048</th>\n",
       "      <td>13517455</td>\n",
       "      <td>1</td>\n",
       "      <td>[[0, Review originally posted at Step Into Fic...</td>\n",
       "      <td>[review originally posted at step into fiction...</td>\n",
       "    </tr>\n",
       "    <tr>\n",
       "      <th>1079332</th>\n",
       "      <td>13620</td>\n",
       "      <td>1</td>\n",
       "      <td>[[0, This is an interesting volume in which L ...</td>\n",
       "      <td>[this is an interesting volume in which a lear...</td>\n",
       "    </tr>\n",
       "    <tr>\n",
       "      <th>135626</th>\n",
       "      <td>16096824</td>\n",
       "      <td>1</td>\n",
       "      <td>[[0, I'm actually surprised at how much I enjo...</td>\n",
       "      <td>[i am actually surprised at how much i enjoyed...</td>\n",
       "    </tr>\n",
       "    <tr>\n",
       "      <th>885360</th>\n",
       "      <td>658351</td>\n",
       "      <td>1</td>\n",
       "      <td>[[0, OK, from the date and comments I've read ...</td>\n",
       "      <td>[ok from the date and comments i have read abo...</td>\n",
       "    </tr>\n",
       "    <tr>\n",
       "      <th>802134</th>\n",
       "      <td>25526965</td>\n",
       "      <td>1</td>\n",
       "      <td>[[1, The best one of the three book-series - p...</td>\n",
       "      <td>[the best one of the three book series partly ...</td>\n",
       "    </tr>\n",
       "  </tbody>\n",
       "</table>\n",
       "</div>"
      ],
      "text/plain": [
       "          book_id  has_spoiler  \\\n",
       "859048   13517455            1   \n",
       "1079332     13620            1   \n",
       "135626   16096824            1   \n",
       "885360     658351            1   \n",
       "802134   25526965            1   \n",
       "\n",
       "                                          review_sentences  \\\n",
       "859048   [[0, Review originally posted at Step Into Fic...   \n",
       "1079332  [[0, This is an interesting volume in which L ...   \n",
       "135626   [[0, I'm actually surprised at how much I enjo...   \n",
       "885360   [[0, OK, from the date and comments I've read ...   \n",
       "802134   [[1, The best one of the three book-series - p...   \n",
       "\n",
       "                                sentence_text_spellchecked  \n",
       "859048   [review originally posted at step into fiction...  \n",
       "1079332  [this is an interesting volume in which a lear...  \n",
       "135626   [i am actually surprised at how much i enjoyed...  \n",
       "885360   [ok from the date and comments i have read abo...  \n",
       "802134   [the best one of the three book series partly ...  "
      ]
     },
     "execution_count": 46,
     "metadata": {},
     "output_type": "execute_result"
    }
   ],
   "source": [
    "df_spoiler_reviews.head()"
   ]
  },
  {
   "cell_type": "code",
   "execution_count": 50,
   "metadata": {},
   "outputs": [
    {
     "data": {
      "application/vnd.jupyter.widget-view+json": {
       "model_id": "4ab2e8fc6294449f9d2e9626b3f5a58f",
       "version_major": 2,
       "version_minor": 0
      },
      "text/plain": [
       "HBox(children=(FloatProgress(value=0.0, description='Pandas Apply', max=62815.0, style=ProgressStyle(descripti…"
      ]
     },
     "metadata": {},
     "output_type": "display_data"
    },
    {
     "name": "stdout",
     "output_type": "stream",
     "text": [
      "\n"
     ]
    },
    {
     "name": "stderr",
     "output_type": "stream",
     "text": [
      "/opt/anaconda3/envs/nf/lib/python3.6/site-packages/ipykernel_launcher.py:2: SettingWithCopyWarning: \n",
      "A value is trying to be set on a copy of a slice from a DataFrame.\n",
      "Try using .loc[row_indexer,col_indexer] = value instead\n",
      "\n",
      "See the caveats in the documentation: http://pandas.pydata.org/pandas-docs/stable/indexing.html#indexing-view-versus-copy\n",
      "  \n"
     ]
    }
   ],
   "source": [
    "#df_spoiler_reviews['spoiler_sentences'] = df_spoiler_reviews['review_sentences'].swifter.apply(lambda x:get_sentence_text(x))\n",
    "#df_spoiler_reviews['spoiler_labels'] = df_spoiler_reviews['review_sentences'].swifter.apply(lambda x:get_sentence_label(x))\n"
   ]
  },
  {
   "cell_type": "code",
   "execution_count": 61,
   "metadata": {},
   "outputs": [
    {
     "name": "stderr",
     "output_type": "stream",
     "text": [
      "\n",
      "  0%|          | 0/62815 [00:00<?, ?it/s]\u001b[A\n",
      "  2%|▏         | 1412/62815 [00:00<00:04, 14038.71it/s]\u001b[A\n",
      "  4%|▍         | 2479/62815 [00:00<00:04, 12820.75it/s]\u001b[A\n",
      "  6%|▌         | 3575/62815 [00:00<00:04, 12197.13it/s]\u001b[A\n",
      "  8%|▊         | 4854/62815 [00:00<00:04, 12368.05it/s]\u001b[A\n",
      " 10%|▉         | 5989/62815 [00:00<00:04, 12042.69it/s]\u001b[A\n",
      " 11%|█▏        | 7161/62815 [00:00<00:04, 11942.22it/s]\u001b[A\n",
      " 13%|█▎        | 8199/62815 [00:00<00:04, 11074.98it/s]\u001b[A\n",
      " 15%|█▍        | 9210/62815 [00:00<00:05, 9268.92it/s] \u001b[A\n",
      " 16%|█▋        | 10301/62815 [00:00<00:05, 9401.16it/s]\u001b[A\n",
      " 19%|█▉        | 11957/62815 [00:01<00:04, 10786.26it/s]\u001b[A\n",
      " 23%|██▎       | 14488/62815 [00:01<00:03, 13027.28it/s]\u001b[A\n",
      " 26%|██▌       | 16047/62815 [00:01<00:03, 12759.67it/s]\u001b[A\n",
      " 30%|██▉       | 18679/62815 [00:01<00:02, 15091.96it/s]\u001b[A\n",
      " 33%|███▎      | 20488/62815 [00:01<00:02, 14781.86it/s]\u001b[A\n",
      " 35%|███▌      | 22178/62815 [00:01<00:02, 14521.10it/s]\u001b[A\n",
      " 38%|███▊      | 23779/62815 [00:01<00:03, 12648.86it/s]\u001b[A\n",
      " 40%|████      | 25286/62815 [00:01<00:02, 13282.63it/s]\u001b[A\n",
      " 43%|████▎     | 26726/62815 [00:02<00:02, 12415.20it/s]\u001b[A\n",
      " 45%|████▍     | 28058/62815 [00:02<00:02, 11675.76it/s]\u001b[A\n",
      " 47%|████▋     | 29443/62815 [00:02<00:02, 12252.00it/s]\u001b[A\n",
      " 49%|████▉     | 31002/62815 [00:02<00:02, 13092.35it/s]\u001b[A\n",
      " 52%|█████▏    | 32401/62815 [00:02<00:02, 13347.52it/s]\u001b[A\n",
      " 54%|█████▍    | 33777/62815 [00:02<00:02, 13417.26it/s]\u001b[A\n",
      " 56%|█████▋    | 35369/62815 [00:02<00:01, 14081.34it/s]\u001b[A\n",
      " 59%|█████▊    | 36835/62815 [00:02<00:01, 14248.07it/s]\u001b[A\n",
      " 61%|██████▏   | 38499/62815 [00:02<00:01, 14887.13it/s]\u001b[A\n",
      " 64%|██████▎   | 40010/62815 [00:02<00:01, 14666.69it/s]\u001b[A\n",
      " 66%|██████▌   | 41504/62815 [00:03<00:01, 14745.87it/s]\u001b[A\n",
      " 69%|██████▊   | 43080/62815 [00:03<00:01, 15034.85it/s]\u001b[A\n",
      " 71%|███████   | 44593/62815 [00:03<00:01, 12198.05it/s]\u001b[A\n",
      " 73%|███████▎  | 45907/62815 [00:03<00:01, 12032.09it/s]\u001b[A\n",
      " 75%|███████▌  | 47176/62815 [00:03<00:01, 11607.29it/s]\u001b[A\n",
      " 77%|███████▋  | 48387/62815 [00:03<00:01, 11700.89it/s]\u001b[A\n",
      " 79%|███████▉  | 49770/62815 [00:03<00:01, 12255.74it/s]\u001b[A\n",
      " 82%|████████▏ | 51232/62815 [00:03<00:00, 12880.47it/s]\u001b[A\n",
      " 84%|████████▍ | 52818/62815 [00:04<00:00, 13649.40it/s]\u001b[A\n",
      " 86%|████████▋ | 54284/62815 [00:04<00:00, 13937.61it/s]\u001b[A\n",
      " 89%|████████▊ | 55703/62815 [00:04<00:00, 13921.64it/s]\u001b[A\n",
      " 91%|█████████ | 57113/62815 [00:04<00:00, 13946.35it/s]\u001b[A\n",
      " 93%|█████████▎| 58536/62815 [00:04<00:00, 14030.16it/s]\u001b[A\n",
      " 95%|█████████▌| 59948/62815 [00:04<00:00, 13752.39it/s]\u001b[A\n",
      " 98%|█████████▊| 61331/62815 [00:04<00:00, 13268.85it/s]\u001b[A\n",
      "100%|██████████| 62815/62815 [00:04<00:00, 13120.24it/s]\u001b[A\n",
      "\n",
      "  0%|          | 0/62815 [00:00<?, ?it/s]\u001b[A\n",
      "  6%|▌         | 3784/62815 [00:00<00:01, 37832.82it/s]\u001b[A\n",
      " 14%|█▎        | 8591/62815 [00:00<00:01, 40413.47it/s]\u001b[A\n",
      " 22%|██▏       | 13530/62815 [00:00<00:01, 42743.84it/s]\u001b[A\n",
      " 32%|███▏      | 20324/62815 [00:00<00:00, 48057.19it/s]\u001b[A\n",
      " 39%|███▉      | 24488/62815 [00:00<00:00, 45017.75it/s]\u001b[A\n",
      " 50%|████▉     | 31131/62815 [00:00<00:00, 49831.29it/s]\u001b[A\n",
      " 57%|█████▋    | 35987/62815 [00:00<00:00, 44439.36it/s]\u001b[A\n",
      " 68%|██████▊   | 42756/62815 [00:00<00:00, 49542.80it/s]\u001b[A\n",
      " 78%|███████▊  | 49132/62815 [00:00<00:00, 53093.31it/s]\u001b[A\n",
      "100%|██████████| 62815/62815 [00:01<00:00, 55946.60it/s]\u001b[A\n"
     ]
    }
   ],
   "source": [
    "# get spoiler sentences and sentences from safe reviews\n",
    "# sentences from safe reviews will get the label '2'\n",
    "sentences = []\n",
    "labels = []\n",
    "for r in tqdm(df_spoiler_reviews.review_sentences):\n",
    "    for l, sentence in r:\n",
    "        labels.append(l)\n",
    "        sentences.append(sentence)\n",
    "for r in tqdm(df_safe_reviews.review_sentences):\n",
    "    for l, sentence in r:\n",
    "        labels.append(2)\n",
    "        sentences.append(sentence)"
   ]
  },
  {
   "cell_type": "code",
   "execution_count": 64,
   "metadata": {},
   "outputs": [
    {
     "data": {
      "text/plain": [
       "(array([0, 1, 2]), array([1099530,  400775,  760790]))"
      ]
     },
     "execution_count": 64,
     "metadata": {},
     "output_type": "execute_result"
    }
   ],
   "source": [
    "np.unique(labels, return_counts=True)"
   ]
  },
  {
   "cell_type": "code",
   "execution_count": 65,
   "metadata": {},
   "outputs": [],
   "source": [
    "df_for_ned = pd.DataFrame({\n",
    "    'sentences': sentences,\n",
    "    'labels' : labels\n",
    "})"
   ]
  },
  {
   "cell_type": "code",
   "execution_count": 104,
   "metadata": {},
   "outputs": [
    {
     "data": {
      "text/html": [
       "<div>\n",
       "<style scoped>\n",
       "    .dataframe tbody tr th:only-of-type {\n",
       "        vertical-align: middle;\n",
       "    }\n",
       "\n",
       "    .dataframe tbody tr th {\n",
       "        vertical-align: top;\n",
       "    }\n",
       "\n",
       "    .dataframe thead th {\n",
       "        text-align: right;\n",
       "    }\n",
       "</style>\n",
       "<table border=\"1\" class=\"dataframe\">\n",
       "  <thead>\n",
       "    <tr style=\"text-align: right;\">\n",
       "      <th></th>\n",
       "      <th>sentences</th>\n",
       "      <th>labels</th>\n",
       "      <th>ned_per_loc</th>\n",
       "      <th>people</th>\n",
       "      <th>location</th>\n",
       "      <th>has_people</th>\n",
       "    </tr>\n",
       "  </thead>\n",
       "  <tbody>\n",
       "    <tr>\n",
       "      <th>0</th>\n",
       "      <td>Review originally posted at Step Into Fiction</td>\n",
       "      <td>0</td>\n",
       "      <td>(0, 0)</td>\n",
       "      <td>0</td>\n",
       "      <td>0</td>\n",
       "      <td>False</td>\n",
       "    </tr>\n",
       "    <tr>\n",
       "      <th>1</th>\n",
       "      <td>I want to be rebooted.</td>\n",
       "      <td>0</td>\n",
       "      <td>(0, 0)</td>\n",
       "      <td>0</td>\n",
       "      <td>0</td>\n",
       "      <td>False</td>\n",
       "    </tr>\n",
       "    <tr>\n",
       "      <th>2</th>\n",
       "      <td>I'm just not sure if I want to be a lower numb...</td>\n",
       "      <td>0</td>\n",
       "      <td>(0, 0)</td>\n",
       "      <td>0</td>\n",
       "      <td>0</td>\n",
       "      <td>False</td>\n",
       "    </tr>\n",
       "    <tr>\n",
       "      <th>3</th>\n",
       "      <td>I'm leaning toward a higher number just becaus...</td>\n",
       "      <td>0</td>\n",
       "      <td>(0, 0)</td>\n",
       "      <td>0</td>\n",
       "      <td>0</td>\n",
       "      <td>False</td>\n",
       "    </tr>\n",
       "    <tr>\n",
       "      <th>4</th>\n",
       "      <td>The higher the number means the longer you wer...</td>\n",
       "      <td>0</td>\n",
       "      <td>(0, 0)</td>\n",
       "      <td>0</td>\n",
       "      <td>0</td>\n",
       "      <td>False</td>\n",
       "    </tr>\n",
       "  </tbody>\n",
       "</table>\n",
       "</div>"
      ],
      "text/plain": [
       "                                           sentences  labels ned_per_loc  \\\n",
       "0      Review originally posted at Step Into Fiction       0      (0, 0)   \n",
       "1                             I want to be rebooted.       0      (0, 0)   \n",
       "2  I'm just not sure if I want to be a lower numb...       0      (0, 0)   \n",
       "3  I'm leaning toward a higher number just becaus...       0      (0, 0)   \n",
       "4  The higher the number means the longer you wer...       0      (0, 0)   \n",
       "\n",
       "   people  location  has_people  \n",
       "0       0         0       False  \n",
       "1       0         0       False  \n",
       "2       0         0       False  \n",
       "3       0         0       False  \n",
       "4       0         0       False  "
      ]
     },
     "execution_count": 104,
     "metadata": {},
     "output_type": "execute_result"
    }
   ],
   "source": [
    "df_for_ned.head()"
   ]
  },
  {
   "cell_type": "code",
   "execution_count": 74,
   "metadata": {},
   "outputs": [
    {
     "name": "stderr",
     "output_type": "stream",
     "text": [
      "\n",
      "  0%|          | 389/2261095 [00:19<5:32:31, 113.31it/s]\u001b[A"
     ]
    },
    {
     "data": {
      "application/vnd.jupyter.widget-view+json": {
       "model_id": "9e8b7822512348f79145a67d1e5629c0",
       "version_major": 2,
       "version_minor": 0
      },
      "text/plain": [
       "HBox(children=(FloatProgress(value=0.0, description='Pandas Apply', max=2261095.0, style=ProgressStyle(descrip…"
      ]
     },
     "metadata": {},
     "output_type": "display_data"
    },
    {
     "name": "stdout",
     "output_type": "stream",
     "text": [
      "\n"
     ]
    }
   ],
   "source": [
    "df_for_ned['ned_per_loc'] = df_for_ned['sentences'].swifter.apply(lambda x: ned(x))"
   ]
  },
  {
   "cell_type": "code",
   "execution_count": 76,
   "metadata": {},
   "outputs": [],
   "source": [
    "def get_people_count(tup):\n",
    "    return tup[0]\n",
    "def get_loc_count(tup):\n",
    "    return tup[1]"
   ]
  },
  {
   "cell_type": "code",
   "execution_count": 85,
   "metadata": {},
   "outputs": [
    {
     "data": {
      "application/vnd.jupyter.widget-view+json": {
       "model_id": "f7636b9d6991402db0345eee30624841",
       "version_major": 2,
       "version_minor": 0
      },
      "text/plain": [
       "HBox(children=(FloatProgress(value=0.0, description='Pandas Apply', max=2261095.0, style=ProgressStyle(descrip…"
      ]
     },
     "metadata": {},
     "output_type": "display_data"
    },
    {
     "name": "stdout",
     "output_type": "stream",
     "text": [
      "\n"
     ]
    },
    {
     "data": {
      "application/vnd.jupyter.widget-view+json": {
       "model_id": "2d4f1729ac214e089ffa27deebf5f734",
       "version_major": 2,
       "version_minor": 0
      },
      "text/plain": [
       "HBox(children=(FloatProgress(value=0.0, description='Pandas Apply', max=2261095.0, style=ProgressStyle(descrip…"
      ]
     },
     "metadata": {},
     "output_type": "display_data"
    },
    {
     "name": "stdout",
     "output_type": "stream",
     "text": [
      "\n"
     ]
    }
   ],
   "source": [
    "df_for_ned['people'] = df_for_ned['ned_per_loc'].swifter.apply(lambda x:get_people_count(x))\n",
    "df_for_ned['location'] = df_for_ned['ned_per_loc'].swifter.apply(lambda x:get_loc_count(x))\n"
   ]
  },
  {
   "cell_type": "code",
   "execution_count": 93,
   "metadata": {},
   "outputs": [],
   "source": [
    "# True if people count is >= 1\n",
    "df_for_ned['has_people'] = df_for_ned['people'].ge(1)"
   ]
  },
  {
   "cell_type": "code",
   "execution_count": 227,
   "metadata": {},
   "outputs": [
    {
     "data": {
      "text/plain": [
       "labels\n",
       "0    0.429304\n",
       "1    0.476106\n",
       "2    0.435638\n",
       "Name: has_people, dtype: float64"
      ]
     },
     "execution_count": 227,
     "metadata": {},
     "output_type": "execute_result"
    }
   ],
   "source": [
    "df_for_ned.groupby('labels')['has_people'].std()"
   ]
  },
  {
   "cell_type": "code",
   "execution_count": 291,
   "metadata": {},
   "outputs": [
    {
     "data": {
      "text/plain": [
       "labels\n",
       "0    0.243684\n",
       "1    0.347280\n",
       "2    0.254602\n",
       "Name: has_people, dtype: float64"
      ]
     },
     "execution_count": 291,
     "metadata": {},
     "output_type": "execute_result"
    }
   ],
   "source": [
    "b = df_for_ned.groupby('labels').has_people.mean()\n",
    "b"
   ]
  },
  {
   "cell_type": "code",
   "execution_count": 301,
   "metadata": {},
   "outputs": [
    {
     "name": "stderr",
     "output_type": "stream",
     "text": [
      "/opt/anaconda3/envs/nf/lib/python3.6/site-packages/ipykernel_launcher.py:4: UserWarning: FixedFormatter should only be used together with FixedLocator\n",
      "  after removing the cwd from sys.path.\n"
     ]
    },
    {
     "data": {
      "text/plain": [
       "Text(0.5, 1.0, 'Person mentioned in Review\\n')"
      ]
     },
     "execution_count": 301,
     "metadata": {},
     "output_type": "execute_result"
    },
    {
     "data": {
      "image/png": "[encoded data removed]",
      "text/plain": [
       "<Figure size 432x288 with 1 Axes>"
      ]
     },
     "metadata": {
      "needs_background": "light"
     },
     "output_type": "display_data"
    }
   ],
   "source": [
    "#fig, ax = plt.subplots(figsize = (10,5))\n",
    "ax = sns.barplot(x = b.index, y = b.values*100, palette = 'BrBG', edgecolor=\".2\")\n",
    "ax.set_xticklabels(['spoiler review\\n safe sentence', 'spoiler review\\n spoiler sentence', 'safe review'], fontsize = 12)\n",
    "ax.set_yticklabels( [0,5,10,15,20,25,30,35],fontsize = 12)\n",
    "\n",
    "ax.set_xlabel(xlabel = 'Review', fontsize = 15 )\n",
    "ax.set_ylabel(ylabel = '% of reviews containing \\n a person', fontsize = 15)\n",
    "ax.axes.set_title('Person mentioned in Review\\n', fontsize = 20)"
   ]
  },
  {
   "cell_type": "code",
   "execution_count": 228,
   "metadata": {},
   "outputs": [
    {
     "data": {
      "image/png": "[encoded data removed]",
      "text/plain": [
       "<Figure size 432x288 with 1 Axes>"
      ]
     },
     "metadata": {
      "needs_background": "light"
     },
     "output_type": "display_data"
    }
   ],
   "source": [
    "ax = sns.boxplot(x=\"labels\", y=\"people\", data=df_for_ned)\n"
   ]
  },
  {
   "cell_type": "code",
   "execution_count": 102,
   "metadata": {},
   "outputs": [
    {
     "data": {
      "text/html": [
       "<div>\n",
       "<style scoped>\n",
       "    .dataframe tbody tr th:only-of-type {\n",
       "        vertical-align: middle;\n",
       "    }\n",
       "\n",
       "    .dataframe tbody tr th {\n",
       "        vertical-align: top;\n",
       "    }\n",
       "\n",
       "    .dataframe thead th {\n",
       "        text-align: right;\n",
       "    }\n",
       "</style>\n",
       "<table border=\"1\" class=\"dataframe\">\n",
       "  <thead>\n",
       "    <tr style=\"text-align: right;\">\n",
       "      <th></th>\n",
       "      <th>sentences</th>\n",
       "      <th>labels</th>\n",
       "      <th>ned_per_loc</th>\n",
       "      <th>people</th>\n",
       "      <th>location</th>\n",
       "      <th>has_people</th>\n",
       "    </tr>\n",
       "  </thead>\n",
       "  <tbody>\n",
       "    <tr>\n",
       "      <th>1559545</th>\n",
       "      <td>Warren, Skye; Zaires, Anna; Winters, Pepper; R...</td>\n",
       "      <td>2</td>\n",
       "      <td>(21, 3)</td>\n",
       "      <td>21</td>\n",
       "      <td>3</td>\n",
       "      <td>True</td>\n",
       "    </tr>\n",
       "  </tbody>\n",
       "</table>\n",
       "</div>"
      ],
      "text/plain": [
       "                                                 sentences  labels  \\\n",
       "1559545  Warren, Skye; Zaires, Anna; Winters, Pepper; R...       2   \n",
       "\n",
       "        ned_per_loc  people  location  has_people  \n",
       "1559545     (21, 3)      21         3        True  "
      ]
     },
     "execution_count": 102,
     "metadata": {},
     "output_type": "execute_result"
    }
   ],
   "source": [
    "b =df_for_ned[df_for_ned['people']==21]"
   ]
  },
  {
   "cell_type": "code",
   "execution_count": null,
   "metadata": {},
   "outputs": [],
   "source": [
    "On average "
   ]
  },
  {
   "cell_type": "markdown",
   "metadata": {},
   "source": [
    "### Sentiment analysis of review texts"
   ]
  },
  {
   "cell_type": "code",
   "execution_count": null,
   "metadata": {},
   "outputs": [],
   "source": [
    "# import and load textblob\n",
    "!pip install -U textblob\n",
    "from textblob import TextBlob"
   ]
  },
  {
   "cell_type": "code",
   "execution_count": 315,
   "metadata": {},
   "outputs": [],
   "source": [
    "# functions for sentiment analyses\n",
    "def TextBlob_sentiment(text):\n",
    "    tb = TextBlob(text)\n",
    "    return tb.sentiment.polarity\n",
    "\n",
    "def TextBlob_sentiment_subjectivity(text):\n",
    "    tb = TextBlob(text)\n",
    "    return tb.sentiment.subjectivity"
   ]
  },
  {
   "cell_type": "code",
   "execution_count": 316,
   "metadata": {},
   "outputs": [
    {
     "data": {
      "application/vnd.jupyter.widget-view+json": {
       "model_id": "791088a664b149f88f10225ddf174b5e",
       "version_major": 2,
       "version_minor": 0
      },
      "text/plain": [
       "HBox(children=(FloatProgress(value=0.0, description='Pandas Apply', max=2261095.0, style=ProgressStyle(descrip…"
      ]
     },
     "metadata": {},
     "output_type": "display_data"
    },
    {
     "name": "stdout",
     "output_type": "stream",
     "text": [
      "\n"
     ]
    }
   ],
   "source": [
    "# run sentiment analysis on spellchecked data\n",
    "df_for_ned['textblob_sentiment']= df_for_ned['sentences_spell_checked'].swifter.apply(lambda x: TextBlob_sentiment(x))\n",
    "df_for_ned['textblob_subjectivity']= df_for_ned['sentences_spell_checked'].swifter.apply(lambda x: TextBlob_sentiment_subjectivity(x))\n"
   ]
  },
  {
   "cell_type": "code",
   "execution_count": 317,
   "metadata": {},
   "outputs": [
    {
     "data": {
      "text/html": [
       "<div>\n",
       "<style scoped>\n",
       "    .dataframe tbody tr th:only-of-type {\n",
       "        vertical-align: middle;\n",
       "    }\n",
       "\n",
       "    .dataframe tbody tr th {\n",
       "        vertical-align: top;\n",
       "    }\n",
       "\n",
       "    .dataframe thead th {\n",
       "        text-align: right;\n",
       "    }\n",
       "</style>\n",
       "<table border=\"1\" class=\"dataframe\">\n",
       "  <thead>\n",
       "    <tr style=\"text-align: right;\">\n",
       "      <th></th>\n",
       "      <th>sentences</th>\n",
       "      <th>labels</th>\n",
       "      <th>ned_per_loc</th>\n",
       "      <th>people</th>\n",
       "      <th>location</th>\n",
       "      <th>has_people</th>\n",
       "      <th>sentences_spell_checked</th>\n",
       "      <th>textblob_sentiment</th>\n",
       "      <th>textblob_subjectivity</th>\n",
       "    </tr>\n",
       "  </thead>\n",
       "  <tbody>\n",
       "    <tr>\n",
       "      <th>0</th>\n",
       "      <td>Review originally posted at Step Into Fiction</td>\n",
       "      <td>0</td>\n",
       "      <td>(0, 0)</td>\n",
       "      <td>0</td>\n",
       "      <td>0</td>\n",
       "      <td>False</td>\n",
       "      <td>review originally posted at step into fiction</td>\n",
       "      <td>0.375</td>\n",
       "      <td>0.750000</td>\n",
       "    </tr>\n",
       "    <tr>\n",
       "      <th>1</th>\n",
       "      <td>I want to be rebooted.</td>\n",
       "      <td>0</td>\n",
       "      <td>(0, 0)</td>\n",
       "      <td>0</td>\n",
       "      <td>0</td>\n",
       "      <td>False</td>\n",
       "      <td>i want to be rebooted</td>\n",
       "      <td>0.000</td>\n",
       "      <td>0.000000</td>\n",
       "    </tr>\n",
       "    <tr>\n",
       "      <th>2</th>\n",
       "      <td>I'm just not sure if I want to be a lower numb...</td>\n",
       "      <td>0</td>\n",
       "      <td>(0, 0)</td>\n",
       "      <td>0</td>\n",
       "      <td>0</td>\n",
       "      <td>False</td>\n",
       "      <td>i am just not sure if i want to be a lower num...</td>\n",
       "      <td>0.000</td>\n",
       "      <td>0.694444</td>\n",
       "    </tr>\n",
       "    <tr>\n",
       "      <th>3</th>\n",
       "      <td>I'm leaning toward a higher number just becaus...</td>\n",
       "      <td>0</td>\n",
       "      <td>(0, 0)</td>\n",
       "      <td>0</td>\n",
       "      <td>0</td>\n",
       "      <td>False</td>\n",
       "      <td>i am leaning toward a higher number just becau...</td>\n",
       "      <td>0.375</td>\n",
       "      <td>0.500000</td>\n",
       "    </tr>\n",
       "    <tr>\n",
       "      <th>4</th>\n",
       "      <td>The higher the number means the longer you wer...</td>\n",
       "      <td>0</td>\n",
       "      <td>(0, 0)</td>\n",
       "      <td>0</td>\n",
       "      <td>0</td>\n",
       "      <td>False</td>\n",
       "      <td>the higher the number means the longer you wer...</td>\n",
       "      <td>0.025</td>\n",
       "      <td>0.450000</td>\n",
       "    </tr>\n",
       "  </tbody>\n",
       "</table>\n",
       "</div>"
      ],
      "text/plain": [
       "                                           sentences  labels ned_per_loc  \\\n",
       "0      Review originally posted at Step Into Fiction       0      (0, 0)   \n",
       "1                             I want to be rebooted.       0      (0, 0)   \n",
       "2  I'm just not sure if I want to be a lower numb...       0      (0, 0)   \n",
       "3  I'm leaning toward a higher number just becaus...       0      (0, 0)   \n",
       "4  The higher the number means the longer you wer...       0      (0, 0)   \n",
       "\n",
       "   people  location  has_people  \\\n",
       "0       0         0       False   \n",
       "1       0         0       False   \n",
       "2       0         0       False   \n",
       "3       0         0       False   \n",
       "4       0         0       False   \n",
       "\n",
       "                             sentences_spell_checked  textblob_sentiment  \\\n",
       "0      review originally posted at step into fiction               0.375   \n",
       "1                              i want to be rebooted               0.000   \n",
       "2  i am just not sure if i want to be a lower num...               0.000   \n",
       "3  i am leaning toward a higher number just becau...               0.375   \n",
       "4  the higher the number means the longer you wer...               0.025   \n",
       "\n",
       "   textblob_subjectivity  \n",
       "0               0.750000  \n",
       "1               0.000000  \n",
       "2               0.694444  \n",
       "3               0.500000  \n",
       "4               0.450000  "
      ]
     },
     "execution_count": 317,
     "metadata": {},
     "output_type": "execute_result"
    }
   ],
   "source": [
    "df_for_ned.head()"
   ]
  },
  {
   "cell_type": "code",
   "execution_count": 323,
   "metadata": {},
   "outputs": [
    {
     "data": {
      "text/plain": [
       "labels\n",
       "0    0.111143\n",
       "1    0.062044\n",
       "2    0.126241\n",
       "Name: textblob_sentiment, dtype: float64"
      ]
     },
     "execution_count": 323,
     "metadata": {},
     "output_type": "execute_result"
    }
   ],
   "source": [
    "# get a look at the mean sentiment data\n",
    "c = df_for_ned.groupby('labels')['textblob_sentiment'].mean()\n",
    "c"
   ]
  },
  {
   "cell_type": "code",
   "execution_count": 338,
   "metadata": {},
   "outputs": [
    {
     "data": {
      "text/plain": [
       "Text(0.5, 1.0, 'Sentiment Polarity of Review Sentences\\n')"
      ]
     },
     "execution_count": 338,
     "metadata": {},
     "output_type": "execute_result"
    },
    {
     "data": {
      "image/png": "[encoded data removed]",
      "text/plain": [
       "<Figure size 432x288 with 1 Axes>"
      ]
     },
     "metadata": {
      "needs_background": "light"
     },
     "output_type": "display_data"
    }
   ],
   "source": [
    "#fig, ax = plt.subplots(figsize = (10,5))\n",
    "ax = sns.barplot(x = c.index, y = c.values, palette = 'BrBG', edgecolor=\".2\")\n",
    "ax.set_xticklabels(['spoiler review\\n safe sentence', 'spoiler review\\n spoiler sentence', 'safe review'], fontsize = 12)\n",
    "#ax.set_yticklabels( [0,5,10,15,20,25,30,35],fontsize = 12)\n",
    "ax.set_xlabel(xlabel = 'Review', fontsize = 15 )\n",
    "ax.set_ylabel(ylabel = 'Mean sentiment polarity score', fontsize = 15)\n",
    "ax.axes.set_title('Sentiment Polarity of Review Sentences\\n', fontsize = 20)"
   ]
  },
  {
   "cell_type": "code",
   "execution_count": 346,
   "metadata": {},
   "outputs": [
    {
     "data": {
      "image/png": "[encoded data removed]",
      "text/plain": [
       "<Figure size 432x288 with 1 Axes>"
      ]
     },
     "metadata": {
      "needs_background": "light"
     },
     "output_type": "display_data"
    }
   ],
   "source": [
    "ax = sns.boxplot(x = 'labels', y = 'textblob_sentiment', data = df_for_ned)\n",
    "ax.set_xticklabels(['spoiler review\\n safe sentence', 'spoiler review\\n spoiler sentence', 'safe review'], fontsize = 12)\n",
    "ax.set_xlabel(xlabel = 'Review', fontsize = 15 )\n",
    "ax.set_ylabel(ylabel = 'Mean sentiment polarity score', fontsize = 15)\n",
    "plt.show(ax)"
   ]
  },
  {
   "cell_type": "code",
   "execution_count": 333,
   "metadata": {},
   "outputs": [
    {
     "data": {
      "text/plain": [
       "labels\n",
       "0    0.414494\n",
       "1    0.389195\n",
       "2    0.421280\n",
       "Name: textblob_subjectivity, dtype: float64"
      ]
     },
     "execution_count": 333,
     "metadata": {},
     "output_type": "execute_result"
    }
   ],
   "source": [
    "d = df_for_ned.groupby('labels')['textblob_subjectivity'].mean()\n",
    "d"
   ]
  },
  {
   "cell_type": "code",
   "execution_count": 335,
   "metadata": {},
   "outputs": [
    {
     "data": {
      "text/plain": [
       "Text(0.5, 1.0, 'Sentiment Subjectivity of Review Sentences\\n')"
      ]
     },
     "execution_count": 335,
     "metadata": {},
     "output_type": "execute_result"
    },
    {
     "data": {
      "image/png": "[encoded data removed]",
      "text/plain": [
       "<Figure size 432x288 with 1 Axes>"
      ]
     },
     "metadata": {
      "needs_background": "light"
     },
     "output_type": "display_data"
    }
   ],
   "source": [
    "#fig, ax = plt.subplots(figsize = (10,5))\n",
    "ax = sns.barplot(x = d.index, y = d.values, palette = 'BrBG', edgecolor=\".2\")\n",
    "ax.set_xticklabels(['spoiler review\\n safe sentence', 'spoiler review\\n spoiler sentence', 'safe review'], fontsize = 12)\n",
    "#ax.set_yticklabels( [0,0.20,0.40,0.60,0.80,1],fontsize = 12)\n",
    "ax.set_ylim(0,1)\n",
    "ax.set_xlabel(xlabel = 'Review', fontsize = 15 )\n",
    "ax.set_ylabel(ylabel = 'Mean sentiment subjectivity score', fontsize = 15)\n",
    "ax.axes.set_title('Sentiment Subjectivity of Review Sentences\\n', fontsize = 20)"
   ]
  },
  {
   "cell_type": "code",
   "execution_count": 223,
   "metadata": {},
   "outputs": [
    {
     "data": {
      "image/png": "[encoded data removed]",
      "text/plain": [
       "<Figure size 432x288 with 1 Axes>"
      ]
     },
     "metadata": {
      "needs_background": "light"
     },
     "output_type": "display_data"
    }
   ],
   "source": [
    "ax = sns.boxplot(x=\"labels\", y=\"textblob_sentiment\", data=df_for_ned)\n"
   ]
  },
  {
   "cell_type": "markdown",
   "metadata": {},
   "source": [
    "There seems to be no difference between the sentiment of the different sentences!"
   ]
  },
  {
   "cell_type": "markdown",
   "metadata": {},
   "source": [
    "### Check  Similarity of differrent reviews"
   ]
  },
  {
   "cell_type": "code",
   "execution_count": 12,
   "metadata": {},
   "outputs": [
    {
     "name": "stderr",
     "output_type": "stream",
     "text": [
      "964623it [04:32, 3545.16it/s] \n"
     ]
    }
   ],
   "source": [
    "# to import data\n",
    "import gzip\n",
    "\n",
    "data = []\n",
    "with gzip.open('train_set_text_spellcheck.json.gz', 'r') as f:\n",
    "    for l in tqdm(f):\n",
    "        data_dict = json.loads(l.strip())\n",
    "        data.append(data_dict)\n",
    "    \n",
    "f.close()\n",
    "df_train_text = pd.DataFrame(data)"
   ]
  },
  {
   "cell_type": "code",
   "execution_count": 13,
   "metadata": {},
   "outputs": [
    {
     "data": {
      "text/html": [
       "<div>\n",
       "<style scoped>\n",
       "    .dataframe tbody tr th:only-of-type {\n",
       "        vertical-align: middle;\n",
       "    }\n",
       "\n",
       "    .dataframe tbody tr th {\n",
       "        vertical-align: top;\n",
       "    }\n",
       "\n",
       "    .dataframe thead th {\n",
       "        text-align: right;\n",
       "    }\n",
       "</style>\n",
       "<table border=\"1\" class=\"dataframe\">\n",
       "  <thead>\n",
       "    <tr style=\"text-align: right;\">\n",
       "      <th></th>\n",
       "      <th>book_id</th>\n",
       "      <th>has_spoiler</th>\n",
       "      <th>review_sentences</th>\n",
       "      <th>sentence_text_spellchecked</th>\n",
       "    </tr>\n",
       "  </thead>\n",
       "  <tbody>\n",
       "    <tr>\n",
       "      <th>0</th>\n",
       "      <td>11735983</td>\n",
       "      <td>0</td>\n",
       "      <td>[[0, Read this review on my blog!], [0, http:/...</td>\n",
       "      <td>[read this review on my blog, , definitely bet...</td>\n",
       "    </tr>\n",
       "    <tr>\n",
       "      <th>1</th>\n",
       "      <td>18803672</td>\n",
       "      <td>0</td>\n",
       "      <td>[[0, I was writing a comment that I realized w...</td>\n",
       "      <td>[i was writing a comment that i realized would...</td>\n",
       "    </tr>\n",
       "    <tr>\n",
       "      <th>2</th>\n",
       "      <td>342667</td>\n",
       "      <td>0</td>\n",
       "      <td>[[0, Charlie is turning 30 and her younger sis...</td>\n",
       "      <td>[charlie is turning and her younger sister is ...</td>\n",
       "    </tr>\n",
       "    <tr>\n",
       "      <th>3</th>\n",
       "      <td>30422494</td>\n",
       "      <td>0</td>\n",
       "      <td>[[0, 3.5 is more like it even though this has ...</td>\n",
       "      <td>[is more like it even though this has got to b...</td>\n",
       "    </tr>\n",
       "    <tr>\n",
       "      <th>4</th>\n",
       "      <td>13517455</td>\n",
       "      <td>1</td>\n",
       "      <td>[[0, Review originally posted at Step Into Fic...</td>\n",
       "      <td>[review originally posted at step into fiction...</td>\n",
       "    </tr>\n",
       "  </tbody>\n",
       "</table>\n",
       "</div>"
      ],
      "text/plain": [
       "    book_id  has_spoiler                                   review_sentences  \\\n",
       "0  11735983            0  [[0, Read this review on my blog!], [0, http:/...   \n",
       "1  18803672            0  [[0, I was writing a comment that I realized w...   \n",
       "2    342667            0  [[0, Charlie is turning 30 and her younger sis...   \n",
       "3  30422494            0  [[0, 3.5 is more like it even though this has ...   \n",
       "4  13517455            1  [[0, Review originally posted at Step Into Fic...   \n",
       "\n",
       "                          sentence_text_spellchecked  \n",
       "0  [read this review on my blog, , definitely bet...  \n",
       "1  [i was writing a comment that i realized would...  \n",
       "2  [charlie is turning and her younger sister is ...  \n",
       "3  [is more like it even though this has got to b...  \n",
       "4  [review originally posted at step into fiction...  "
      ]
     },
     "execution_count": 13,
     "metadata": {},
     "output_type": "execute_result"
    }
   ],
   "source": [
    "df_train_text.head()"
   ]
  },
  {
   "cell_type": "code",
   "execution_count": 15,
   "metadata": {},
   "outputs": [
    {
     "data": {
      "application/vnd.jupyter.widget-view+json": {
       "model_id": "110406ac19624d38bc6faa8f36b18b33",
       "version_major": 2,
       "version_minor": 0
      },
      "text/plain": [
       "HBox(children=(FloatProgress(value=0.0, description='Pandas Apply', max=964623.0, style=ProgressStyle(descript…"
      ]
     },
     "metadata": {},
     "output_type": "display_data"
    },
    {
     "name": "stdout",
     "output_type": "stream",
     "text": [
      "\n"
     ]
    }
   ],
   "source": [
    "# calculate review length\n",
    "df_train_text['length_review'] = df_train_text['sentence_text_spellchecked'].swifter.apply(lambda x: len(x))"
   ]
  },
  {
   "cell_type": "code",
   "execution_count": 17,
   "metadata": {},
   "outputs": [
    {
     "data": {
      "text/plain": [
       "(77345, 5)"
      ]
     },
     "execution_count": 17,
     "metadata": {},
     "output_type": "execute_result"
    }
   ],
   "source": [
    "# get only reviews of length == 1 sentence\n",
    "df_train_text_short = df_train_text[df_train_text['length_review'] ==1]\n",
    "df_train_text_short.shape"
   ]
  },
  {
   "cell_type": "code",
   "execution_count": 42,
   "metadata": {},
   "outputs": [
    {
     "data": {
      "text/html": [
       "<div>\n",
       "<style scoped>\n",
       "    .dataframe tbody tr th:only-of-type {\n",
       "        vertical-align: middle;\n",
       "    }\n",
       "\n",
       "    .dataframe tbody tr th {\n",
       "        vertical-align: top;\n",
       "    }\n",
       "\n",
       "    .dataframe thead th {\n",
       "        text-align: right;\n",
       "    }\n",
       "</style>\n",
       "<table border=\"1\" class=\"dataframe\">\n",
       "  <thead>\n",
       "    <tr style=\"text-align: right;\">\n",
       "      <th></th>\n",
       "      <th>book_id</th>\n",
       "      <th>has_spoiler</th>\n",
       "      <th>review_sentences</th>\n",
       "      <th>sentence_text_spellchecked</th>\n",
       "      <th>length_review</th>\n",
       "    </tr>\n",
       "  </thead>\n",
       "  <tbody>\n",
       "    <tr>\n",
       "      <th>7</th>\n",
       "      <td>24157427</td>\n",
       "      <td>0</td>\n",
       "      <td>[[0, A great, laugh-out-loud funny read that I...</td>\n",
       "      <td>[a great laugh out loud funny read that i will...</td>\n",
       "      <td>1</td>\n",
       "    </tr>\n",
       "    <tr>\n",
       "      <th>38</th>\n",
       "      <td>1431</td>\n",
       "      <td>0</td>\n",
       "      <td>[[0, First Line: \"She picked up four packs of ...</td>\n",
       "      <td>[first line she picked up four packs of sleepi...</td>\n",
       "      <td>1</td>\n",
       "    </tr>\n",
       "    <tr>\n",
       "      <th>44</th>\n",
       "      <td>25526965</td>\n",
       "      <td>1</td>\n",
       "      <td>[[1, The best one of the three book-series - p...</td>\n",
       "      <td>[the best one of the three book series partly ...</td>\n",
       "      <td>1</td>\n",
       "    </tr>\n",
       "    <tr>\n",
       "      <th>50</th>\n",
       "      <td>11823620</td>\n",
       "      <td>0</td>\n",
       "      <td>[[0, 17 December 2015: $4.99 on Kindle]]</td>\n",
       "      <td>[december on kindle]</td>\n",
       "      <td>1</td>\n",
       "    </tr>\n",
       "    <tr>\n",
       "      <th>63</th>\n",
       "      <td>9648553</td>\n",
       "      <td>0</td>\n",
       "      <td>[[0, Slow to start, a bit meh]]</td>\n",
       "      <td>[slow to start a bit meh]</td>\n",
       "      <td>1</td>\n",
       "    </tr>\n",
       "  </tbody>\n",
       "</table>\n",
       "</div>"
      ],
      "text/plain": [
       "     book_id  has_spoiler                                   review_sentences  \\\n",
       "7   24157427            0  [[0, A great, laugh-out-loud funny read that I...   \n",
       "38      1431            0  [[0, First Line: \"She picked up four packs of ...   \n",
       "44  25526965            1  [[1, The best one of the three book-series - p...   \n",
       "50  11823620            0           [[0, 17 December 2015: $4.99 on Kindle]]   \n",
       "63   9648553            0                    [[0, Slow to start, a bit meh]]   \n",
       "\n",
       "                           sentence_text_spellchecked  length_review  \n",
       "7   [a great laugh out loud funny read that i will...              1  \n",
       "38  [first line she picked up four packs of sleepi...              1  \n",
       "44  [the best one of the three book series partly ...              1  \n",
       "50                               [december on kindle]              1  \n",
       "63                          [slow to start a bit meh]              1  "
      ]
     },
     "execution_count": 42,
     "metadata": {},
     "output_type": "execute_result"
    }
   ],
   "source": [
    "df_train_text_short.head()"
   ]
  },
  {
   "cell_type": "code",
   "execution_count": 50,
   "metadata": {},
   "outputs": [
    {
     "data": {
      "application/vnd.jupyter.widget-view+json": {
       "model_id": "07d1ad4fa6d5463dac5e9b46163f7a3a",
       "version_major": 2,
       "version_minor": 0
      },
      "text/plain": [
       "HBox(children=(FloatProgress(value=0.0, description='Pandas Apply', max=77345.0, style=ProgressStyle(descripti…"
      ]
     },
     "metadata": {},
     "output_type": "display_data"
    },
    {
     "name": "stdout",
     "output_type": "stream",
     "text": [
      "\n"
     ]
    },
    {
     "name": "stderr",
     "output_type": "stream",
     "text": [
      "/opt/anaconda3/envs/nf/lib/python3.6/site-packages/ipykernel_launcher.py:1: SettingWithCopyWarning: \n",
      "A value is trying to be set on a copy of a slice from a DataFrame.\n",
      "Try using .loc[row_indexer,col_indexer] = value instead\n",
      "\n",
      "See the caveats in the documentation: http://pandas.pydata.org/pandas-docs/stable/indexing.html#indexing-view-versus-copy\n",
      "  \"\"\"Entry point for launching an IPython kernel.\n"
     ]
    }
   ],
   "source": [
    "df_train_text_short['sentence'] = df_train_text_short['sentence_text_spellchecked'].swifter.apply(lambda x: '.'.join(x))"
   ]
  },
  {
   "cell_type": "code",
   "execution_count": 74,
   "metadata": {},
   "outputs": [
    {
     "name": "stdout",
     "output_type": "stream",
     "text": [
      "15.91% of 1 sentence review texts are duplicats.\n"
     ]
    }
   ],
   "source": [
    "# How many 1 sentence reviews are duplicated?\n",
    "dupl = df_train_text_short['sentence'].duplicated().mean()\n",
    "print(f\"{round(dupl*100,2)}% of 1 sentence review texts are duplicats.\")"
   ]
  },
  {
   "cell_type": "code",
   "execution_count": 54,
   "metadata": {},
   "outputs": [
    {
     "name": "stdout",
     "output_type": "stream",
     "text": [
      "Requirement already satisfied: python-Levenshtein in /opt/anaconda3/envs/nf/lib/python3.6/site-packages (0.12.0)\n",
      "Requirement already satisfied: setuptools in /opt/anaconda3/envs/nf/lib/python3.6/site-packages (from python-Levenshtein) (49.6.0.post20200814)\n",
      "Requirement already satisfied: fuzzywuzzy in /opt/anaconda3/envs/nf/lib/python3.6/site-packages (0.18.0)\n"
     ]
    }
   ],
   "source": [
    "# to identify similar reviews\n",
    "!pip install python-Levenshtein\n",
    "!pip install fuzzywuzzy\n",
    "\n",
    "from fuzzywuzzy import fuzz\n",
    "from fuzzywuzzy import process"
   ]
  },
  {
   "cell_type": "code",
   "execution_count": 84,
   "metadata": {},
   "outputs": [
    {
     "data": {
      "text/plain": [
       "(65040, 6)"
      ]
     },
     "execution_count": 84,
     "metadata": {},
     "output_type": "execute_result"
    }
   ],
   "source": [
    "# remove duplicates\n",
    "df_dupl = df_train_text_short.drop_duplicates(subset = 'sentence',keep = 'first')\n",
    "df_dupl.shape"
   ]
  },
  {
   "cell_type": "code",
   "execution_count": 132,
   "metadata": {},
   "outputs": [
    {
     "name": "stderr",
     "output_type": "stream",
     "text": [
      "  0%|          | 239/65040 [1:29:14<403:18:31, 22.41s/it] \n"
     ]
    },
    {
     "ename": "KeyboardInterrupt",
     "evalue": "",
     "output_type": "error",
     "traceback": [
      "\u001b[0;31m---------------------------------------------------------------------------\u001b[0m",
      "\u001b[0;31mKeyboardInterrupt\u001b[0m                         Traceback (most recent call last)",
      "\u001b[0;32m<ipython-input-132-9b5c4ad91d45>\u001b[0m in \u001b[0;36m<module>\u001b[0;34m\u001b[0m\n\u001b[1;32m      7\u001b[0m         \u001b[0;32mif\u001b[0m \u001b[0mtext\u001b[0m \u001b[0;34m==\u001b[0m \u001b[0mtext2\u001b[0m\u001b[0;34m:\u001b[0m\u001b[0;34m\u001b[0m\u001b[0;34m\u001b[0m\u001b[0m\n\u001b[1;32m      8\u001b[0m             \u001b[0;32mcontinue\u001b[0m\u001b[0;34m\u001b[0m\u001b[0;34m\u001b[0m\u001b[0m\n\u001b[0;32m----> 9\u001b[0;31m         \u001b[0mscore\u001b[0m \u001b[0;34m=\u001b[0m \u001b[0mfuzz\u001b[0m\u001b[0;34m.\u001b[0m\u001b[0mratio\u001b[0m\u001b[0;34m(\u001b[0m\u001b[0mtext\u001b[0m\u001b[0;34m,\u001b[0m \u001b[0mtext2\u001b[0m\u001b[0;34m)\u001b[0m\u001b[0;34m\u001b[0m\u001b[0;34m\u001b[0m\u001b[0m\n\u001b[0m\u001b[1;32m     10\u001b[0m         \u001b[0;32mif\u001b[0m \u001b[0mscore\u001b[0m \u001b[0;34m<\u001b[0m \u001b[0;36m80\u001b[0m\u001b[0;34m:\u001b[0m\u001b[0;34m\u001b[0m\u001b[0;34m\u001b[0m\u001b[0m\n\u001b[1;32m     11\u001b[0m             \u001b[0;32mcontinue\u001b[0m\u001b[0;34m\u001b[0m\u001b[0;34m\u001b[0m\u001b[0m\n",
      "\u001b[0;32m/opt/anaconda3/envs/nf/lib/python3.6/site-packages/fuzzywuzzy/utils.py\u001b[0m in \u001b[0;36mdecorator\u001b[0;34m(*args, **kwargs)\u001b[0m\n\u001b[1;32m     36\u001b[0m         \u001b[0;32mif\u001b[0m \u001b[0margs\u001b[0m\u001b[0;34m[\u001b[0m\u001b[0;36m0\u001b[0m\u001b[0;34m]\u001b[0m \u001b[0;32mis\u001b[0m \u001b[0;32mNone\u001b[0m \u001b[0;32mor\u001b[0m \u001b[0margs\u001b[0m\u001b[0;34m[\u001b[0m\u001b[0;36m1\u001b[0m\u001b[0;34m]\u001b[0m \u001b[0;32mis\u001b[0m \u001b[0;32mNone\u001b[0m\u001b[0;34m:\u001b[0m\u001b[0;34m\u001b[0m\u001b[0;34m\u001b[0m\u001b[0m\n\u001b[1;32m     37\u001b[0m             \u001b[0;32mreturn\u001b[0m \u001b[0;36m0\u001b[0m\u001b[0;34m\u001b[0m\u001b[0;34m\u001b[0m\u001b[0m\n\u001b[0;32m---> 38\u001b[0;31m         \u001b[0;32mreturn\u001b[0m \u001b[0mfunc\u001b[0m\u001b[0;34m(\u001b[0m\u001b[0;34m*\u001b[0m\u001b[0margs\u001b[0m\u001b[0;34m,\u001b[0m \u001b[0;34m**\u001b[0m\u001b[0mkwargs\u001b[0m\u001b[0;34m)\u001b[0m\u001b[0;34m\u001b[0m\u001b[0;34m\u001b[0m\u001b[0m\n\u001b[0m\u001b[1;32m     39\u001b[0m     \u001b[0;32mreturn\u001b[0m \u001b[0mdecorator\u001b[0m\u001b[0;34m\u001b[0m\u001b[0;34m\u001b[0m\u001b[0m\n\u001b[1;32m     40\u001b[0m \u001b[0;34m\u001b[0m\u001b[0m\n",
      "\u001b[0;32m/opt/anaconda3/envs/nf/lib/python3.6/site-packages/fuzzywuzzy/utils.py\u001b[0m in \u001b[0;36mdecorator\u001b[0;34m(*args, **kwargs)\u001b[0m\n\u001b[1;32m     27\u001b[0m         \u001b[0;32mif\u001b[0m \u001b[0margs\u001b[0m\u001b[0;34m[\u001b[0m\u001b[0;36m0\u001b[0m\u001b[0;34m]\u001b[0m \u001b[0;34m==\u001b[0m \u001b[0margs\u001b[0m\u001b[0;34m[\u001b[0m\u001b[0;36m1\u001b[0m\u001b[0;34m]\u001b[0m\u001b[0;34m:\u001b[0m\u001b[0;34m\u001b[0m\u001b[0;34m\u001b[0m\u001b[0m\n\u001b[1;32m     28\u001b[0m             \u001b[0;32mreturn\u001b[0m \u001b[0;36m100\u001b[0m\u001b[0;34m\u001b[0m\u001b[0;34m\u001b[0m\u001b[0m\n\u001b[0;32m---> 29\u001b[0;31m         \u001b[0;32mreturn\u001b[0m \u001b[0mfunc\u001b[0m\u001b[0;34m(\u001b[0m\u001b[0;34m*\u001b[0m\u001b[0margs\u001b[0m\u001b[0;34m,\u001b[0m \u001b[0;34m**\u001b[0m\u001b[0mkwargs\u001b[0m\u001b[0;34m)\u001b[0m\u001b[0;34m\u001b[0m\u001b[0;34m\u001b[0m\u001b[0m\n\u001b[0m\u001b[1;32m     30\u001b[0m     \u001b[0;32mreturn\u001b[0m \u001b[0mdecorator\u001b[0m\u001b[0;34m\u001b[0m\u001b[0;34m\u001b[0m\u001b[0m\n\u001b[1;32m     31\u001b[0m \u001b[0;34m\u001b[0m\u001b[0m\n",
      "\u001b[0;32m/opt/anaconda3/envs/nf/lib/python3.6/site-packages/fuzzywuzzy/utils.py\u001b[0m in \u001b[0;36mdecorator\u001b[0;34m(*args, **kwargs)\u001b[0m\n\u001b[1;32m     45\u001b[0m         \u001b[0;32mif\u001b[0m \u001b[0mlen\u001b[0m\u001b[0;34m(\u001b[0m\u001b[0margs\u001b[0m\u001b[0;34m[\u001b[0m\u001b[0;36m0\u001b[0m\u001b[0;34m]\u001b[0m\u001b[0;34m)\u001b[0m \u001b[0;34m==\u001b[0m \u001b[0;36m0\u001b[0m \u001b[0;32mor\u001b[0m \u001b[0mlen\u001b[0m\u001b[0;34m(\u001b[0m\u001b[0margs\u001b[0m\u001b[0;34m[\u001b[0m\u001b[0;36m1\u001b[0m\u001b[0;34m]\u001b[0m\u001b[0;34m)\u001b[0m \u001b[0;34m==\u001b[0m \u001b[0;36m0\u001b[0m\u001b[0;34m:\u001b[0m\u001b[0;34m\u001b[0m\u001b[0;34m\u001b[0m\u001b[0m\n\u001b[1;32m     46\u001b[0m             \u001b[0;32mreturn\u001b[0m \u001b[0;36m0\u001b[0m\u001b[0;34m\u001b[0m\u001b[0;34m\u001b[0m\u001b[0m\n\u001b[0;32m---> 47\u001b[0;31m         \u001b[0;32mreturn\u001b[0m \u001b[0mfunc\u001b[0m\u001b[0;34m(\u001b[0m\u001b[0;34m*\u001b[0m\u001b[0margs\u001b[0m\u001b[0;34m,\u001b[0m \u001b[0;34m**\u001b[0m\u001b[0mkwargs\u001b[0m\u001b[0;34m)\u001b[0m\u001b[0;34m\u001b[0m\u001b[0;34m\u001b[0m\u001b[0m\n\u001b[0m\u001b[1;32m     48\u001b[0m     \u001b[0;32mreturn\u001b[0m \u001b[0mdecorator\u001b[0m\u001b[0;34m\u001b[0m\u001b[0;34m\u001b[0m\u001b[0m\n\u001b[1;32m     49\u001b[0m \u001b[0;34m\u001b[0m\u001b[0m\n",
      "\u001b[0;32m/opt/anaconda3/envs/nf/lib/python3.6/site-packages/fuzzywuzzy/fuzz.py\u001b[0m in \u001b[0;36mratio\u001b[0;34m(s1, s2)\u001b[0m\n\u001b[1;32m     26\u001b[0m \u001b[0;34m\u001b[0m\u001b[0m\n\u001b[1;32m     27\u001b[0m     \u001b[0mm\u001b[0m \u001b[0;34m=\u001b[0m \u001b[0mSequenceMatcher\u001b[0m\u001b[0;34m(\u001b[0m\u001b[0;32mNone\u001b[0m\u001b[0;34m,\u001b[0m \u001b[0ms1\u001b[0m\u001b[0;34m,\u001b[0m \u001b[0ms2\u001b[0m\u001b[0;34m)\u001b[0m\u001b[0;34m\u001b[0m\u001b[0;34m\u001b[0m\u001b[0m\n\u001b[0;32m---> 28\u001b[0;31m     \u001b[0;32mreturn\u001b[0m \u001b[0mutils\u001b[0m\u001b[0;34m.\u001b[0m\u001b[0mintr\u001b[0m\u001b[0;34m(\u001b[0m\u001b[0;36m100\u001b[0m \u001b[0;34m*\u001b[0m \u001b[0mm\u001b[0m\u001b[0;34m.\u001b[0m\u001b[0mratio\u001b[0m\u001b[0;34m(\u001b[0m\u001b[0;34m)\u001b[0m\u001b[0;34m)\u001b[0m\u001b[0;34m\u001b[0m\u001b[0;34m\u001b[0m\u001b[0m\n\u001b[0m\u001b[1;32m     29\u001b[0m \u001b[0;34m\u001b[0m\u001b[0m\n\u001b[1;32m     30\u001b[0m \u001b[0;34m\u001b[0m\u001b[0m\n",
      "\u001b[0;32m/opt/anaconda3/envs/nf/lib/python3.6/difflib.py\u001b[0m in \u001b[0;36mratio\u001b[0;34m(self)\u001b[0m\n\u001b[1;32m    642\u001b[0m         \"\"\"\n\u001b[1;32m    643\u001b[0m \u001b[0;34m\u001b[0m\u001b[0m\n\u001b[0;32m--> 644\u001b[0;31m         \u001b[0mmatches\u001b[0m \u001b[0;34m=\u001b[0m \u001b[0msum\u001b[0m\u001b[0;34m(\u001b[0m\u001b[0mtriple\u001b[0m\u001b[0;34m[\u001b[0m\u001b[0;34m-\u001b[0m\u001b[0;36m1\u001b[0m\u001b[0;34m]\u001b[0m \u001b[0;32mfor\u001b[0m \u001b[0mtriple\u001b[0m \u001b[0;32min\u001b[0m \u001b[0mself\u001b[0m\u001b[0;34m.\u001b[0m\u001b[0mget_matching_blocks\u001b[0m\u001b[0;34m(\u001b[0m\u001b[0;34m)\u001b[0m\u001b[0;34m)\u001b[0m\u001b[0;34m\u001b[0m\u001b[0;34m\u001b[0m\u001b[0m\n\u001b[0m\u001b[1;32m    645\u001b[0m         \u001b[0;32mreturn\u001b[0m \u001b[0m_calculate_ratio\u001b[0m\u001b[0;34m(\u001b[0m\u001b[0mmatches\u001b[0m\u001b[0;34m,\u001b[0m \u001b[0mlen\u001b[0m\u001b[0;34m(\u001b[0m\u001b[0mself\u001b[0m\u001b[0;34m.\u001b[0m\u001b[0ma\u001b[0m\u001b[0;34m)\u001b[0m \u001b[0;34m+\u001b[0m \u001b[0mlen\u001b[0m\u001b[0;34m(\u001b[0m\u001b[0mself\u001b[0m\u001b[0;34m.\u001b[0m\u001b[0mb\u001b[0m\u001b[0;34m)\u001b[0m\u001b[0;34m)\u001b[0m\u001b[0;34m\u001b[0m\u001b[0;34m\u001b[0m\u001b[0m\n\u001b[1;32m    646\u001b[0m \u001b[0;34m\u001b[0m\u001b[0m\n",
      "\u001b[0;32m/opt/anaconda3/envs/nf/lib/python3.6/difflib.py\u001b[0m in \u001b[0;36mget_matching_blocks\u001b[0;34m(self)\u001b[0m\n\u001b[1;32m    477\u001b[0m         \u001b[0;32mwhile\u001b[0m \u001b[0mqueue\u001b[0m\u001b[0;34m:\u001b[0m\u001b[0;34m\u001b[0m\u001b[0;34m\u001b[0m\u001b[0m\n\u001b[1;32m    478\u001b[0m             \u001b[0malo\u001b[0m\u001b[0;34m,\u001b[0m \u001b[0mahi\u001b[0m\u001b[0;34m,\u001b[0m \u001b[0mblo\u001b[0m\u001b[0;34m,\u001b[0m \u001b[0mbhi\u001b[0m \u001b[0;34m=\u001b[0m \u001b[0mqueue\u001b[0m\u001b[0;34m.\u001b[0m\u001b[0mpop\u001b[0m\u001b[0;34m(\u001b[0m\u001b[0;34m)\u001b[0m\u001b[0;34m\u001b[0m\u001b[0;34m\u001b[0m\u001b[0m\n\u001b[0;32m--> 479\u001b[0;31m             \u001b[0mi\u001b[0m\u001b[0;34m,\u001b[0m \u001b[0mj\u001b[0m\u001b[0;34m,\u001b[0m \u001b[0mk\u001b[0m \u001b[0;34m=\u001b[0m \u001b[0mx\u001b[0m \u001b[0;34m=\u001b[0m \u001b[0mself\u001b[0m\u001b[0;34m.\u001b[0m\u001b[0mfind_longest_match\u001b[0m\u001b[0;34m(\u001b[0m\u001b[0malo\u001b[0m\u001b[0;34m,\u001b[0m \u001b[0mahi\u001b[0m\u001b[0;34m,\u001b[0m \u001b[0mblo\u001b[0m\u001b[0;34m,\u001b[0m \u001b[0mbhi\u001b[0m\u001b[0;34m)\u001b[0m\u001b[0;34m\u001b[0m\u001b[0;34m\u001b[0m\u001b[0m\n\u001b[0m\u001b[1;32m    480\u001b[0m             \u001b[0;31m# a[alo:i] vs b[blo:j] unknown\u001b[0m\u001b[0;34m\u001b[0m\u001b[0;34m\u001b[0m\u001b[0;34m\u001b[0m\u001b[0m\n\u001b[1;32m    481\u001b[0m             \u001b[0;31m# a[i:i+k] same as b[j:j+k]\u001b[0m\u001b[0;34m\u001b[0m\u001b[0;34m\u001b[0m\u001b[0;34m\u001b[0m\u001b[0m\n",
      "\u001b[0;31mKeyboardInterrupt\u001b[0m: "
     ]
    }
   ],
   "source": [
    "\n",
    "choice_sentence = [] # sentence tested\n",
    "most_similar = [] # most similar sentence to tested sentences\n",
    "scores = [] # similarity score\n",
    "\n",
    "for text in tqdm(choices):\n",
    "    for text2 in choices:\n",
    "        if text == text2:\n",
    "            continue\n",
    "        score = fuzz.ratio(text, text2)\n",
    "        if score < 80:\n",
    "            continue\n",
    "        elif score >= 80:\n",
    "            choice_sentence.append(text)\n",
    "            most_similar.append(text2)\n",
    "            scores.append(score)\n",
    "            continue # safe only first similar sentence, thatn move on to next sentence\n",
    "            "
   ]
  },
  {
   "cell_type": "code",
   "execution_count": 133,
   "metadata": {},
   "outputs": [
    {
     "data": {
      "text/html": [
       "<div>\n",
       "<style scoped>\n",
       "    .dataframe tbody tr th:only-of-type {\n",
       "        vertical-align: middle;\n",
       "    }\n",
       "\n",
       "    .dataframe tbody tr th {\n",
       "        vertical-align: top;\n",
       "    }\n",
       "\n",
       "    .dataframe thead th {\n",
       "        text-align: right;\n",
       "    }\n",
       "</style>\n",
       "<table border=\"1\" class=\"dataframe\">\n",
       "  <thead>\n",
       "    <tr style=\"text-align: right;\">\n",
       "      <th></th>\n",
       "      <th>choice_sentence</th>\n",
       "      <th>most_similar</th>\n",
       "      <th>scores</th>\n",
       "    </tr>\n",
       "  </thead>\n",
       "  <tbody>\n",
       "    <tr>\n",
       "      <th>0</th>\n",
       "      <td>december on kindle</td>\n",
       "      <td>october on kindle</td>\n",
       "      <td>80</td>\n",
       "    </tr>\n",
       "    <tr>\n",
       "      <th>1</th>\n",
       "      <td>december on kindle</td>\n",
       "      <td>november on kindle</td>\n",
       "      <td>83</td>\n",
       "    </tr>\n",
       "    <tr>\n",
       "      <th>2</th>\n",
       "      <td>december on kindle</td>\n",
       "      <td>september on kindle</td>\n",
       "      <td>86</td>\n",
       "    </tr>\n",
       "    <tr>\n",
       "      <th>3</th>\n",
       "      <td>december on kindle</td>\n",
       "      <td>december free on kindle</td>\n",
       "      <td>88</td>\n",
       "    </tr>\n",
       "    <tr>\n",
       "      <th>4</th>\n",
       "      <td>pretty much pointless</td>\n",
       "      <td>pretty much a pointless story</td>\n",
       "      <td>84</td>\n",
       "    </tr>\n",
       "    <tr>\n",
       "      <th>5</th>\n",
       "      <td>i love love love this audiobook</td>\n",
       "      <td>love love loved this book</td>\n",
       "      <td>86</td>\n",
       "    </tr>\n",
       "    <tr>\n",
       "      <th>6</th>\n",
       "      <td>i love love love this audiobook</td>\n",
       "      <td>i love love love eric in this book</td>\n",
       "      <td>80</td>\n",
       "    </tr>\n",
       "    <tr>\n",
       "      <th>7</th>\n",
       "      <td>i love love love this audiobook</td>\n",
       "      <td>i love love love this book</td>\n",
       "      <td>91</td>\n",
       "    </tr>\n",
       "    <tr>\n",
       "      <th>8</th>\n",
       "      <td>i love love love this audiobook</td>\n",
       "      <td>so far i love love love this book</td>\n",
       "      <td>81</td>\n",
       "    </tr>\n",
       "    <tr>\n",
       "      <th>9</th>\n",
       "      <td>i love love love this audiobook</td>\n",
       "      <td>love love love this book</td>\n",
       "      <td>87</td>\n",
       "    </tr>\n",
       "    <tr>\n",
       "      <th>10</th>\n",
       "      <td>i love love love this audiobook</td>\n",
       "      <td>i loved loved loved this book</td>\n",
       "      <td>87</td>\n",
       "    </tr>\n",
       "    <tr>\n",
       "      <th>11</th>\n",
       "      <td>i love love love this audiobook</td>\n",
       "      <td>i love love love this</td>\n",
       "      <td>81</td>\n",
       "    </tr>\n",
       "    <tr>\n",
       "      <th>12</th>\n",
       "      <td>i love love love this audiobook</td>\n",
       "      <td>love loved loved this book</td>\n",
       "      <td>84</td>\n",
       "    </tr>\n",
       "    <tr>\n",
       "      <th>13</th>\n",
       "      <td>i love love love this audiobook</td>\n",
       "      <td>i loved loved loved the book</td>\n",
       "      <td>81</td>\n",
       "    </tr>\n",
       "    <tr>\n",
       "      <th>14</th>\n",
       "      <td>i love love love this audiobook</td>\n",
       "      <td>i love love loved this book</td>\n",
       "      <td>90</td>\n",
       "    </tr>\n",
       "    <tr>\n",
       "      <th>15</th>\n",
       "      <td>this series rocks</td>\n",
       "      <td>this series tho</td>\n",
       "      <td>81</td>\n",
       "    </tr>\n",
       "    <tr>\n",
       "      <th>16</th>\n",
       "      <td>review to follow</td>\n",
       "      <td>review to follow shortly</td>\n",
       "      <td>80</td>\n",
       "    </tr>\n",
       "    <tr>\n",
       "      <th>17</th>\n",
       "      <td>review to follow</td>\n",
       "      <td>review will follow</td>\n",
       "      <td>82</td>\n",
       "    </tr>\n",
       "    <tr>\n",
       "      <th>18</th>\n",
       "      <td>review to follow</td>\n",
       "      <td>stars review to follow</td>\n",
       "      <td>84</td>\n",
       "    </tr>\n",
       "    <tr>\n",
       "      <th>19</th>\n",
       "      <td>review to follow</td>\n",
       "      <td>review to follow stars</td>\n",
       "      <td>84</td>\n",
       "    </tr>\n",
       "    <tr>\n",
       "      <th>20</th>\n",
       "      <td>review to follow</td>\n",
       "      <td>review to follow soon</td>\n",
       "      <td>86</td>\n",
       "    </tr>\n",
       "    <tr>\n",
       "      <th>21</th>\n",
       "      <td>review to follow</td>\n",
       "      <td>review follows</td>\n",
       "      <td>87</td>\n",
       "    </tr>\n",
       "    <tr>\n",
       "      <th>22</th>\n",
       "      <td>review to follow</td>\n",
       "      <td>full review to follow</td>\n",
       "      <td>86</td>\n",
       "    </tr>\n",
       "    <tr>\n",
       "      <th>23</th>\n",
       "      <td>review to follow</td>\n",
       "      <td>proper review to follow</td>\n",
       "      <td>82</td>\n",
       "    </tr>\n",
       "    <tr>\n",
       "      <th>24</th>\n",
       "      <td>review to follow</td>\n",
       "      <td>omg wow review to follow</td>\n",
       "      <td>80</td>\n",
       "    </tr>\n",
       "    <tr>\n",
       "      <th>25</th>\n",
       "      <td>review to follow</td>\n",
       "      <td>mini review to follow</td>\n",
       "      <td>86</td>\n",
       "    </tr>\n",
       "    <tr>\n",
       "      <th>26</th>\n",
       "      <td>review to follow</td>\n",
       "      <td>review may follow</td>\n",
       "      <td>85</td>\n",
       "    </tr>\n",
       "    <tr>\n",
       "      <th>27</th>\n",
       "      <td>review to follow</td>\n",
       "      <td>so good review to follow</td>\n",
       "      <td>80</td>\n",
       "    </tr>\n",
       "    <tr>\n",
       "      <th>28</th>\n",
       "      <td>review to follow</td>\n",
       "      <td>review to follow a</td>\n",
       "      <td>94</td>\n",
       "    </tr>\n",
       "    <tr>\n",
       "      <th>29</th>\n",
       "      <td>review to follow</td>\n",
       "      <td>review to be followed</td>\n",
       "      <td>86</td>\n",
       "    </tr>\n",
       "    <tr>\n",
       "      <th>...</th>\n",
       "      <td>...</td>\n",
       "      <td>...</td>\n",
       "      <td>...</td>\n",
       "    </tr>\n",
       "    <tr>\n",
       "      <th>499</th>\n",
       "      <td>really satisfying conclusion to this series</td>\n",
       "      <td>a very satisfying conclusion to a great series</td>\n",
       "      <td>81</td>\n",
       "    </tr>\n",
       "    <tr>\n",
       "      <th>500</th>\n",
       "      <td>really satisfying conclusion to this series</td>\n",
       "      <td>a highly satisfying conclusion to a fantastic ...</td>\n",
       "      <td>80</td>\n",
       "    </tr>\n",
       "    <tr>\n",
       "      <th>501</th>\n",
       "      <td>really satisfying conclusion to this series</td>\n",
       "      <td>highly satisfying conclusion to the series</td>\n",
       "      <td>87</td>\n",
       "    </tr>\n",
       "    <tr>\n",
       "      <th>502</th>\n",
       "      <td>really satisfying conclusion to this series</td>\n",
       "      <td>a satisfying conclusion to the series</td>\n",
       "      <td>90</td>\n",
       "    </tr>\n",
       "    <tr>\n",
       "      <th>503</th>\n",
       "      <td>really satisfying conclusion to this series</td>\n",
       "      <td>satisfying conclusion to a fun series</td>\n",
       "      <td>80</td>\n",
       "    </tr>\n",
       "    <tr>\n",
       "      <th>504</th>\n",
       "      <td>really satisfying conclusion to this series</td>\n",
       "      <td>a very satisfying conclusion to the series</td>\n",
       "      <td>87</td>\n",
       "    </tr>\n",
       "    <tr>\n",
       "      <th>505</th>\n",
       "      <td>really satisfying conclusion to this series</td>\n",
       "      <td>a satisfying conclusion to this series</td>\n",
       "      <td>94</td>\n",
       "    </tr>\n",
       "    <tr>\n",
       "      <th>506</th>\n",
       "      <td>really satisfying conclusion to this series</td>\n",
       "      <td>satisfying conclusion to the series</td>\n",
       "      <td>87</td>\n",
       "    </tr>\n",
       "    <tr>\n",
       "      <th>507</th>\n",
       "      <td>sadly stars</td>\n",
       "      <td>and stars</td>\n",
       "      <td>80</td>\n",
       "    </tr>\n",
       "    <tr>\n",
       "      <th>508</th>\n",
       "      <td>omg shit just got real</td>\n",
       "      <td>shit just got real</td>\n",
       "      <td>90</td>\n",
       "    </tr>\n",
       "    <tr>\n",
       "      <th>509</th>\n",
       "      <td>review may th at paperback dolls com</td>\n",
       "      <td>review to come at paperback dolls com</td>\n",
       "      <td>85</td>\n",
       "    </tr>\n",
       "    <tr>\n",
       "      <th>510</th>\n",
       "      <td>review to be posted soon</td>\n",
       "      <td>review to post soon</td>\n",
       "      <td>88</td>\n",
       "    </tr>\n",
       "    <tr>\n",
       "      <th>511</th>\n",
       "      <td>review to be posted soon</td>\n",
       "      <td>review to be posted</td>\n",
       "      <td>88</td>\n",
       "    </tr>\n",
       "    <tr>\n",
       "      <th>512</th>\n",
       "      <td>review to be posted soon</td>\n",
       "      <td>review to be written soon</td>\n",
       "      <td>82</td>\n",
       "    </tr>\n",
       "    <tr>\n",
       "      <th>513</th>\n",
       "      <td>review to be posted soon</td>\n",
       "      <td>review will be posted soon</td>\n",
       "      <td>88</td>\n",
       "    </tr>\n",
       "    <tr>\n",
       "      <th>514</th>\n",
       "      <td>review to be posted soon</td>\n",
       "      <td>rating and review to be posted soon</td>\n",
       "      <td>81</td>\n",
       "    </tr>\n",
       "    <tr>\n",
       "      <th>515</th>\n",
       "      <td>review to be posted soon</td>\n",
       "      <td>review to be posted later</td>\n",
       "      <td>82</td>\n",
       "    </tr>\n",
       "    <tr>\n",
       "      <th>516</th>\n",
       "      <td>review to be posted soon</td>\n",
       "      <td>review to be posted on the blog soon</td>\n",
       "      <td>80</td>\n",
       "    </tr>\n",
       "    <tr>\n",
       "      <th>517</th>\n",
       "      <td>review to be posted soon</td>\n",
       "      <td>full review will be posted soon</td>\n",
       "      <td>80</td>\n",
       "    </tr>\n",
       "    <tr>\n",
       "      <th>518</th>\n",
       "      <td>review to be posted soon</td>\n",
       "      <td>review to be posted asap</td>\n",
       "      <td>88</td>\n",
       "    </tr>\n",
       "    <tr>\n",
       "      <th>519</th>\n",
       "      <td>review to be posted soon</td>\n",
       "      <td>review to be posted may th</td>\n",
       "      <td>80</td>\n",
       "    </tr>\n",
       "    <tr>\n",
       "      <th>520</th>\n",
       "      <td>review to be posted soon</td>\n",
       "      <td>review post soon</td>\n",
       "      <td>80</td>\n",
       "    </tr>\n",
       "    <tr>\n",
       "      <th>521</th>\n",
       "      <td>review to be posted soon</td>\n",
       "      <td>full review to be posted soon</td>\n",
       "      <td>91</td>\n",
       "    </tr>\n",
       "    <tr>\n",
       "      <th>522</th>\n",
       "      <td>review to be posted soon</td>\n",
       "      <td>review to be added soon</td>\n",
       "      <td>85</td>\n",
       "    </tr>\n",
       "    <tr>\n",
       "      <th>523</th>\n",
       "      <td>review to be posted soon</td>\n",
       "      <td>review posted on</td>\n",
       "      <td>80</td>\n",
       "    </tr>\n",
       "    <tr>\n",
       "      <th>524</th>\n",
       "      <td>not as cute as the first one but i still enjoy...</td>\n",
       "      <td>not as fast paced as the first one but still l...</td>\n",
       "      <td>80</td>\n",
       "    </tr>\n",
       "    <tr>\n",
       "      <th>525</th>\n",
       "      <td>not as cute as the first one but i still enjoy...</td>\n",
       "      <td>not as good as the first book but i still enjo...</td>\n",
       "      <td>87</td>\n",
       "    </tr>\n",
       "    <tr>\n",
       "      <th>526</th>\n",
       "      <td>not as cute as the first one but i still enjoy...</td>\n",
       "      <td>not as good as the first one but i still enjoy...</td>\n",
       "      <td>92</td>\n",
       "    </tr>\n",
       "    <tr>\n",
       "      <th>527</th>\n",
       "      <td>not as cute as the first one but i still enjoy...</td>\n",
       "      <td>not as good as the first one but i still enjoy...</td>\n",
       "      <td>83</td>\n",
       "    </tr>\n",
       "    <tr>\n",
       "      <th>528</th>\n",
       "      <td>not as cute as the first one but i still enjoy...</td>\n",
       "      <td>did not love it as much as the first one but s...</td>\n",
       "      <td>82</td>\n",
       "    </tr>\n",
       "  </tbody>\n",
       "</table>\n",
       "<p>529 rows × 3 columns</p>\n",
       "</div>"
      ],
      "text/plain": [
       "                                       choice_sentence  \\\n",
       "0                                   december on kindle   \n",
       "1                                   december on kindle   \n",
       "2                                   december on kindle   \n",
       "3                                   december on kindle   \n",
       "4                                pretty much pointless   \n",
       "5                      i love love love this audiobook   \n",
       "6                      i love love love this audiobook   \n",
       "7                      i love love love this audiobook   \n",
       "8                      i love love love this audiobook   \n",
       "9                      i love love love this audiobook   \n",
       "10                     i love love love this audiobook   \n",
       "11                     i love love love this audiobook   \n",
       "12                     i love love love this audiobook   \n",
       "13                     i love love love this audiobook   \n",
       "14                     i love love love this audiobook   \n",
       "15                                   this series rocks   \n",
       "16                                    review to follow   \n",
       "17                                    review to follow   \n",
       "18                                    review to follow   \n",
       "19                                    review to follow   \n",
       "20                                    review to follow   \n",
       "21                                    review to follow   \n",
       "22                                    review to follow   \n",
       "23                                    review to follow   \n",
       "24                                    review to follow   \n",
       "25                                    review to follow   \n",
       "26                                    review to follow   \n",
       "27                                    review to follow   \n",
       "28                                    review to follow   \n",
       "29                                    review to follow   \n",
       "..                                                 ...   \n",
       "499        really satisfying conclusion to this series   \n",
       "500        really satisfying conclusion to this series   \n",
       "501        really satisfying conclusion to this series   \n",
       "502        really satisfying conclusion to this series   \n",
       "503        really satisfying conclusion to this series   \n",
       "504        really satisfying conclusion to this series   \n",
       "505        really satisfying conclusion to this series   \n",
       "506        really satisfying conclusion to this series   \n",
       "507                                        sadly stars   \n",
       "508                             omg shit just got real   \n",
       "509               review may th at paperback dolls com   \n",
       "510                           review to be posted soon   \n",
       "511                           review to be posted soon   \n",
       "512                           review to be posted soon   \n",
       "513                           review to be posted soon   \n",
       "514                           review to be posted soon   \n",
       "515                           review to be posted soon   \n",
       "516                           review to be posted soon   \n",
       "517                           review to be posted soon   \n",
       "518                           review to be posted soon   \n",
       "519                           review to be posted soon   \n",
       "520                           review to be posted soon   \n",
       "521                           review to be posted soon   \n",
       "522                           review to be posted soon   \n",
       "523                           review to be posted soon   \n",
       "524  not as cute as the first one but i still enjoy...   \n",
       "525  not as cute as the first one but i still enjoy...   \n",
       "526  not as cute as the first one but i still enjoy...   \n",
       "527  not as cute as the first one but i still enjoy...   \n",
       "528  not as cute as the first one but i still enjoy...   \n",
       "\n",
       "                                          most_similar  scores  \n",
       "0                                    october on kindle      80  \n",
       "1                                   november on kindle      83  \n",
       "2                                  september on kindle      86  \n",
       "3                              december free on kindle      88  \n",
       "4                        pretty much a pointless story      84  \n",
       "5                            love love loved this book      86  \n",
       "6                   i love love love eric in this book      80  \n",
       "7                           i love love love this book      91  \n",
       "8                    so far i love love love this book      81  \n",
       "9                             love love love this book      87  \n",
       "10                       i loved loved loved this book      87  \n",
       "11                               i love love love this      81  \n",
       "12                          love loved loved this book      84  \n",
       "13                        i loved loved loved the book      81  \n",
       "14                         i love love loved this book      90  \n",
       "15                                     this series tho      81  \n",
       "16                            review to follow shortly      80  \n",
       "17                                  review will follow      82  \n",
       "18                              stars review to follow      84  \n",
       "19                              review to follow stars      84  \n",
       "20                               review to follow soon      86  \n",
       "21                                      review follows      87  \n",
       "22                               full review to follow      86  \n",
       "23                             proper review to follow      82  \n",
       "24                            omg wow review to follow      80  \n",
       "25                               mini review to follow      86  \n",
       "26                                   review may follow      85  \n",
       "27                            so good review to follow      80  \n",
       "28                                  review to follow a      94  \n",
       "29                               review to be followed      86  \n",
       "..                                                 ...     ...  \n",
       "499     a very satisfying conclusion to a great series      81  \n",
       "500  a highly satisfying conclusion to a fantastic ...      80  \n",
       "501         highly satisfying conclusion to the series      87  \n",
       "502              a satisfying conclusion to the series      90  \n",
       "503              satisfying conclusion to a fun series      80  \n",
       "504         a very satisfying conclusion to the series      87  \n",
       "505             a satisfying conclusion to this series      94  \n",
       "506                satisfying conclusion to the series      87  \n",
       "507                                          and stars      80  \n",
       "508                                 shit just got real      90  \n",
       "509              review to come at paperback dolls com      85  \n",
       "510                                review to post soon      88  \n",
       "511                                review to be posted      88  \n",
       "512                          review to be written soon      82  \n",
       "513                         review will be posted soon      88  \n",
       "514                rating and review to be posted soon      81  \n",
       "515                          review to be posted later      82  \n",
       "516               review to be posted on the blog soon      80  \n",
       "517                    full review will be posted soon      80  \n",
       "518                           review to be posted asap      88  \n",
       "519                         review to be posted may th      80  \n",
       "520                                   review post soon      80  \n",
       "521                      full review to be posted soon      91  \n",
       "522                            review to be added soon      85  \n",
       "523                                   review posted on      80  \n",
       "524  not as fast paced as the first one but still l...      80  \n",
       "525  not as good as the first book but i still enjo...      87  \n",
       "526  not as good as the first one but i still enjoy...      92  \n",
       "527  not as good as the first one but i still enjoy...      83  \n",
       "528  did not love it as much as the first one but s...      82  \n",
       "\n",
       "[529 rows x 3 columns]"
      ]
     },
     "execution_count": 133,
     "metadata": {},
     "output_type": "execute_result"
    }
   ],
   "source": [
    "df_similar = pd.DataFrame({\n",
    "    'choice_sentence' : choice_sentence,\n",
    "    'most_similar': most_similar,\n",
    "    'scores': scores\n",
    "})\n",
    "df_similar"
   ]
  },
  {
   "cell_type": "code",
   "execution_count": 6,
   "metadata": {},
   "outputs": [],
   "source": [
    "# how often do reviews contain one of these sentences\n",
    "review_to_come = [1 for r in df_train['sentence_text_spellchecked'] if 'review to come' in r \\\n",
    "                  or 'review to follow' in r or 'review to be posted' in r or 'review to be added' in r]"
   ]
  },
  {
   "cell_type": "code",
   "execution_count": 7,
   "metadata": {},
   "outputs": [
    {
     "data": {
      "text/plain": [
       "14017"
      ]
     },
     "execution_count": 7,
     "metadata": {},
     "output_type": "execute_result"
    }
   ],
   "source": [
    "len(review_to_come)"
   ]
  },
  {
   "cell_type": "code",
   "execution_count": 13,
   "metadata": {},
   "outputs": [
    {
     "data": {
      "text/plain": [
       "290"
      ]
     },
     "execution_count": 13,
     "metadata": {},
     "output_type": "execute_result"
    }
   ],
   "source": [
    "# how often is the review text: 'review to follow' the full review text\n",
    "review_to_be_posted_soon = [1 for r in df_train['sentence_text_spellchecked'] if r == 'review to follow']\n",
    "len(review_to_be_posted_soon)"
   ]
  },
  {
   "cell_type": "markdown",
   "metadata": {},
   "source": [
    "Even though the full data has not been analyzed due to the long runtime, it is clear that the dataset contains numerous similar or even identical reviews. This might be used to tackle the imbalance problem of the data set-specifically remove similar or even identical reviews "
   ]
  }
 ],
 "metadata": {
  "kernelspec": {
   "display_name": "Python 3",
   "language": "python",
   "name": "python3"
  },
  "language_info": {
   "codemirror_mode": {
    "name": "ipython",
    "version": 3
   },
   "file_extension": ".py",
   "mimetype": "text/x-python",
   "name": "python",
   "nbconvert_exporter": "python",
   "pygments_lexer": "ipython3",
   "version": "3.8.3"
  }
 },
 "nbformat": 4,
 "nbformat_minor": 4
}
